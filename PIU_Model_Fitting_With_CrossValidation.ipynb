{
  "cells": [
    {
      "cell_type": "markdown",
      "metadata": {
        "id": "view-in-github",
        "colab_type": "text"
      },
      "source": [
        "<a href=\"https://colab.research.google.com/github/AmiraliLalehpour/MMAI869-Pump-it-Up-Competition/blob/main/PIU_Model_Fitting_With_CrossValidation.ipynb\" target=\"_parent\"><img src=\"https://colab.research.google.com/assets/colab-badge.svg\" alt=\"Open In Colab\"/></a>"
      ]
    },
    {
      "cell_type": "markdown",
      "metadata": {
        "id": "6Y04vszawCVI"
      },
      "source": [
        "#MMAI 869, Smith School of Business at Queens University\n",
        "###Team Broadview Project, Pump it Up: Data Mining the Water Table"
      ]
    },
    {
      "cell_type": "markdown",
      "source": [
        "#Install and ImportRequired Libraries"
      ],
      "metadata": {
        "id": "yVq-v4KDz2xP"
      }
    },
    {
      "cell_type": "code",
      "source": [
        "pip install feature_engine"
      ],
      "metadata": {
        "id": "Sa7Ixbtc0Kl0",
        "colab": {
          "base_uri": "https://localhost:8080/"
        },
        "outputId": "6171b3b7-a3b0-49b2-9b88-53052eff6412"
      },
      "execution_count": 605,
      "outputs": [
        {
          "output_type": "stream",
          "name": "stdout",
          "text": [
            "Looking in indexes: https://pypi.org/simple, https://us-python.pkg.dev/colab-wheels/public/simple/\n",
            "Requirement already satisfied: feature_engine in /usr/local/lib/python3.8/dist-packages (1.5.2)\n",
            "Requirement already satisfied: numpy>=1.18.2 in /usr/local/lib/python3.8/dist-packages (from feature_engine) (1.21.6)\n",
            "Requirement already satisfied: statsmodels>=0.11.1 in /usr/local/lib/python3.8/dist-packages (from feature_engine) (0.12.2)\n",
            "Requirement already satisfied: pandas>=1.0.3 in /usr/local/lib/python3.8/dist-packages (from feature_engine) (1.3.5)\n",
            "Requirement already satisfied: scipy>=1.4.1 in /usr/local/lib/python3.8/dist-packages (from feature_engine) (1.7.3)\n",
            "Requirement already satisfied: scikit-learn>=1.0.0 in /usr/local/lib/python3.8/dist-packages (from feature_engine) (1.0.2)\n",
            "Requirement already satisfied: python-dateutil>=2.7.3 in /usr/local/lib/python3.8/dist-packages (from pandas>=1.0.3->feature_engine) (2.8.2)\n",
            "Requirement already satisfied: pytz>=2017.3 in /usr/local/lib/python3.8/dist-packages (from pandas>=1.0.3->feature_engine) (2022.6)\n",
            "Requirement already satisfied: six>=1.5 in /usr/local/lib/python3.8/dist-packages (from python-dateutil>=2.7.3->pandas>=1.0.3->feature_engine) (1.15.0)\n",
            "Requirement already satisfied: joblib>=0.11 in /usr/local/lib/python3.8/dist-packages (from scikit-learn>=1.0.0->feature_engine) (1.2.0)\n",
            "Requirement already satisfied: threadpoolctl>=2.0.0 in /usr/local/lib/python3.8/dist-packages (from scikit-learn>=1.0.0->feature_engine) (3.1.0)\n",
            "Requirement already satisfied: patsy>=0.5 in /usr/local/lib/python3.8/dist-packages (from statsmodels>=0.11.1->feature_engine) (0.5.3)\n"
          ]
        }
      ]
    },
    {
      "cell_type": "code",
      "source": [
        "pip install category_encoders"
      ],
      "metadata": {
        "id": "2LE6wOvJFO0w",
        "colab": {
          "base_uri": "https://localhost:8080/"
        },
        "outputId": "13ccafff-67e9-4d9e-d561-7c7b1b3cbf9c"
      },
      "execution_count": 606,
      "outputs": [
        {
          "output_type": "stream",
          "name": "stdout",
          "text": [
            "Looking in indexes: https://pypi.org/simple, https://us-python.pkg.dev/colab-wheels/public/simple/\n",
            "Requirement already satisfied: category_encoders in /usr/local/lib/python3.8/dist-packages (2.5.1.post0)\n",
            "Requirement already satisfied: patsy>=0.5.1 in /usr/local/lib/python3.8/dist-packages (from category_encoders) (0.5.3)\n",
            "Requirement already satisfied: pandas>=1.0.5 in /usr/local/lib/python3.8/dist-packages (from category_encoders) (1.3.5)\n",
            "Requirement already satisfied: numpy>=1.14.0 in /usr/local/lib/python3.8/dist-packages (from category_encoders) (1.21.6)\n",
            "Requirement already satisfied: scipy>=1.0.0 in /usr/local/lib/python3.8/dist-packages (from category_encoders) (1.7.3)\n",
            "Requirement already satisfied: statsmodels>=0.9.0 in /usr/local/lib/python3.8/dist-packages (from category_encoders) (0.12.2)\n",
            "Requirement already satisfied: scikit-learn>=0.20.0 in /usr/local/lib/python3.8/dist-packages (from category_encoders) (1.0.2)\n",
            "Requirement already satisfied: pytz>=2017.3 in /usr/local/lib/python3.8/dist-packages (from pandas>=1.0.5->category_encoders) (2022.6)\n",
            "Requirement already satisfied: python-dateutil>=2.7.3 in /usr/local/lib/python3.8/dist-packages (from pandas>=1.0.5->category_encoders) (2.8.2)\n",
            "Requirement already satisfied: six in /usr/local/lib/python3.8/dist-packages (from patsy>=0.5.1->category_encoders) (1.15.0)\n",
            "Requirement already satisfied: joblib>=0.11 in /usr/local/lib/python3.8/dist-packages (from scikit-learn>=0.20.0->category_encoders) (1.2.0)\n",
            "Requirement already satisfied: threadpoolctl>=2.0.0 in /usr/local/lib/python3.8/dist-packages (from scikit-learn>=0.20.0->category_encoders) (3.1.0)\n"
          ]
        }
      ]
    },
    {
      "cell_type": "markdown",
      "metadata": {
        "id": "bcJICZdf39MT"
      },
      "source": [
        "###Import Libraries"
      ]
    },
    {
      "cell_type": "code",
      "execution_count": 607,
      "metadata": {
        "id": "PpsmC7VOyppp"
      },
      "outputs": [],
      "source": [
        "import sys\n",
        "import numpy as np  \n",
        "import pandas as pd  \n",
        "import datetime as dt\n",
        "\n",
        "# from sklearn.linear_model import LinearRegression\n",
        "from sklearn.linear_model import SGDClassifier\n",
        "from sklearn.ensemble import AdaBoostClassifier, GradientBoostingClassifier, RandomForestClassifier\n",
        "from xgboost import XGBClassifier\n",
        "from collections import Counter\n",
        "from sklearn.tree import DecisionTreeClassifier\n",
        "from lightgbm import LGBMClassifier\n",
        "\n",
        "from prettytable import PrettyTable\n",
        "from sklearn.metrics import accuracy_score, log_loss, f1_score, precision_score, recall_score, plot_roc_curve\n",
        "from sklearn.metrics import ConfusionMatrixDisplay, confusion_matrix, classification_report\n",
        "\n",
        "\n",
        "from sklearn.metrics import r2_score, mean_squared_error, explained_variance_score, mean_squared_error, accuracy_score\n",
        "from sklearn.model_selection import train_test_split, GridSearchCV, RandomizedSearchCV, RepeatedStratifiedKFold, cross_val_score, StratifiedKFold, cross_val_predict\n",
        "from sklearn.preprocessing import StandardScaler, LabelEncoder, OrdinalEncoder\n",
        "from sklearn.utils import compute_class_weight\n",
        "from sklearn.metrics import plot_roc_curve\n",
        "from sklearn import metrics\n",
        "\n",
        "from feature_engine.encoding import RareLabelEncoder\n",
        "\n",
        "from category_encoders import *\n",
        "from category_encoders.wrapper import PolynomialWrapper\n",
        "# from category_encoders import OneHotEncoder, TargetEncoder, JamesSteinEncoder, CatBoostEncoder, MEstimateEncoder, WOEEncoder, LeaveOneOutEncoder\n",
        "\n",
        "%matplotlib inline\n",
        "import matplotlib.pyplot as plt\n",
        "import seaborn as sns\n"
      ]
    },
    {
      "cell_type": "markdown",
      "metadata": {
        "id": "BTNyGa_wlixB"
      },
      "source": [
        "### Check Allocated System Specs by Google Colab"
      ]
    },
    {
      "cell_type": "code",
      "execution_count": 608,
      "metadata": {
        "colab": {
          "base_uri": "https://localhost:8080/"
        },
        "id": "AzDaBsjnjAa2",
        "outputId": "5412023f-2d0c-4632-8d6a-247fbcea66c5"
      },
      "outputs": [
        {
          "output_type": "execute_result",
          "data": {
            "text/plain": [
              "2"
            ]
          },
          "metadata": {},
          "execution_count": 608
        }
      ],
      "source": [
        "from psutil import *\n",
        "\n",
        "cpu_count()"
      ]
    },
    {
      "cell_type": "code",
      "execution_count": 609,
      "metadata": {
        "colab": {
          "base_uri": "https://localhost:8080/"
        },
        "id": "FyR9-xjyjWFd",
        "outputId": "fece0f56-8cff-44d4-97f1-fc4713f93d7d"
      },
      "outputs": [
        {
          "output_type": "stream",
          "name": "stdout",
          "text": [
            "Model name:          Intel(R) Xeon(R) CPU @ 2.20GHz\n"
          ]
        }
      ],
      "source": [
        "!lscpu |grep 'Model name'"
      ]
    },
    {
      "cell_type": "code",
      "execution_count": 610,
      "metadata": {
        "colab": {
          "base_uri": "https://localhost:8080/"
        },
        "id": "t_aJFa-7kMdu",
        "outputId": "48862715-6a93-4d3e-fc5e-8964fc48a3f4"
      },
      "outputs": [
        {
          "output_type": "stream",
          "name": "stdout",
          "text": [
            "Avail\n",
            "85G\n"
          ]
        }
      ],
      "source": [
        "!df -h / |awk '{print $4}'"
      ]
    },
    {
      "cell_type": "code",
      "execution_count": 611,
      "metadata": {
        "colab": {
          "base_uri": "https://localhost:8080/"
        },
        "id": "DU-PCU93kmFE",
        "outputId": "730eac1c-65c5-4fa9-8053-6643c5839587"
      },
      "outputs": [
        {
          "output_type": "stream",
          "name": "stdout",
          "text": [
            "13G\n"
          ]
        }
      ],
      "source": [
        "!free -h  --si | awk '/Mem:/{print $2}'"
      ]
    },
    {
      "cell_type": "code",
      "execution_count": 612,
      "metadata": {
        "colab": {
          "base_uri": "https://localhost:8080/"
        },
        "id": "qLm0Zl7TlMkI",
        "outputId": "8c6d6378-821b-40a0-c7f8-d6188bce82d9"
      },
      "outputs": [
        {
          "output_type": "stream",
          "name": "stdout",
          "text": [
            "NVIDIA-SMI has failed because it couldn't communicate with the NVIDIA driver. Make sure that the latest NVIDIA driver is installed and running.\n",
            "\n"
          ]
        }
      ],
      "source": [
        "!nvidia-smi -L"
      ]
    },
    {
      "cell_type": "code",
      "execution_count": 613,
      "metadata": {
        "colab": {
          "base_uri": "https://localhost:8080/"
        },
        "id": "-PZGO_dRlhId",
        "outputId": "9ccd8c80-35b0-48a9-f088-0393826ccafe"
      },
      "outputs": [
        {
          "output_type": "stream",
          "name": "stdout",
          "text": [
            "NVIDIA-SMI has failed because it couldn't communicate with the NVIDIA driver. Make sure that the latest NVIDIA driver is installed and running.\n",
            "\n"
          ]
        }
      ],
      "source": [
        "!nvidia-smi"
      ]
    },
    {
      "cell_type": "markdown",
      "metadata": {
        "id": "DjtVQIy8xmmA"
      },
      "source": [
        "#1. Loading the dataset from GitHub: [MMAI869-Pump-it-Up-Competition]\n",
        "\n",
        "  Data is accessed from github: (https://github.com/AmiraliLalehpour/MMAI869-Pump-it-Up-Competition)\n",
        "\n"
      ]
    },
    {
      "cell_type": "code",
      "execution_count": 614,
      "metadata": {
        "id": "EsGdaw6Xy01b"
      },
      "outputs": [],
      "source": [
        "train_ulr = 'https://raw.githubusercontent.com/AmiraliLalehpour/MMAI869-Pump-it-Up-Competition/main/preprocessed_data.csv'\n",
        "test_ulr = 'https://raw.githubusercontent.com/AmiraliLalehpour/MMAI869-Pump-it-Up-Competition/main/preprocessed_test.csv'\n",
        "tt_ulr = 'https://raw.githubusercontent.com/AmiraliLalehpour/MMAI869-Pump-it-Up-Competition/main/clean.csv'\n",
        "# ulr_Test_Set_Values = 'https://raw.githubusercontent.com/AmiraliLalehpour/MMAI869-Pump-it-Up-Competition/main/Test_Set_Values.csv'\n",
        "data = pd.read_csv(train_ulr)\n",
        "test = pd.read_csv(test_ulr)\n",
        "train2 = pd.read_csv(tt_ulr)\n",
        "# test = pd.read_csv(ulr_Test_Set_Values)\n",
        "# data = Training_Set_Values.merge(Training_Set_Labels, on='id', how='right')\n",
        "\n",
        "pd.set_option('display.max_columns', None)"
      ]
    },
    {
      "cell_type": "code",
      "source": [
        "test_id = test.id"
      ],
      "metadata": {
        "id": "E7UXtMD_ZbFR"
      },
      "execution_count": 615,
      "outputs": []
    },
    {
      "cell_type": "code",
      "source": [
        "data.head()"
      ],
      "metadata": {
        "colab": {
          "base_uri": "https://localhost:8080/",
          "height": 0
        },
        "id": "z3Mn8QYOVnak",
        "outputId": "82b2a352-9256-44fd-faee-3bad73e607cc"
      },
      "execution_count": 616,
      "outputs": [
        {
          "output_type": "execute_result",
          "data": {
            "text/plain": [
              "      id  amount_tsh        funder   gps_height  longitude   latitude  \\\n",
              "0  69572      6000.0         Roman  1390.000000  34.938093  -9.856322   \n",
              "1   8776       200.0       Grumeti  1399.000000  34.698766  -2.147466   \n",
              "2  34310        25.0  Lottery Club   686.000000  37.460664  -3.821329   \n",
              "3  67743        50.0        Unicef   263.000000  38.486161 -11.155298   \n",
              "4  19728       250.0   Action In A  1057.545585  31.130847  -1.825359   \n",
              "\n",
              "                     basin   region  district_code        lga        ward  \\\n",
              "0               Lake Nyasa   Iringa              5     Ludewa    Mundindi   \n",
              "1            Lake Victoria     Mara              2  Serengeti       Natta   \n",
              "2                  Pangani  Manyara              4  Simanjiro     Ngorika   \n",
              "3  Ruvuma / Southern Coast   Mtwara             63   Nanyumbu    Nanyumbu   \n",
              "4            Lake Victoria   Kagera              1    Karagwe  Nyakasimbi   \n",
              "\n",
              "   population public_meeting scheme_management permit  construction_year  \\\n",
              "0       109.0            Yes               VWC     No             1999.0   \n",
              "1       280.0        Missing             Other    Yes             2010.0   \n",
              "2       250.0            Yes               VWC    Yes             2009.0   \n",
              "3        58.0            Yes               VWC    Yes             1986.0   \n",
              "4       200.0            Yes           Missing    Yes             2003.0   \n",
              "\n",
              "  extraction_type management payment_type water_quality      quantity  \\\n",
              "0         gravity        vwc     annually          soft        enough   \n",
              "1         gravity        wug    never pay          soft  insufficient   \n",
              "2         gravity        vwc   per bucket          soft        enough   \n",
              "3     submersible        vwc    never pay          soft           dry   \n",
              "4         gravity      other    never pay          soft      seasonal   \n",
              "\n",
              "                 source              waterpoint_type    status_group  \\\n",
              "0                spring           communal standpipe      functional   \n",
              "1  rainwater harvesting           communal standpipe      functional   \n",
              "2                   dam  communal standpipe multiple      functional   \n",
              "3           machine dbh  communal standpipe multiple  non functional   \n",
              "4  rainwater harvesting           communal standpipe      functional   \n",
              "\n",
              "   year_recorded  month_recorded  day_recorded  quarer_recorded  \\\n",
              "0           2011               3             0                1   \n",
              "1           2013               3             2                1   \n",
              "2           2013               2             0                1   \n",
              "3           2013               1             0                1   \n",
              "4           2011               7             2                3   \n",
              "\n",
              "   percipitation_class  well_age  \n",
              "0                    4      12.0  \n",
              "1                    4       3.0  \n",
              "2                    2       4.0  \n",
              "3                    4      27.0  \n",
              "4                    0       8.0  "
            ],
            "text/html": [
              "\n",
              "  <div id=\"df-dcb5e881-c187-42b3-860e-c64b84d00a8e\">\n",
              "    <div class=\"colab-df-container\">\n",
              "      <div>\n",
              "<style scoped>\n",
              "    .dataframe tbody tr th:only-of-type {\n",
              "        vertical-align: middle;\n",
              "    }\n",
              "\n",
              "    .dataframe tbody tr th {\n",
              "        vertical-align: top;\n",
              "    }\n",
              "\n",
              "    .dataframe thead th {\n",
              "        text-align: right;\n",
              "    }\n",
              "</style>\n",
              "<table border=\"1\" class=\"dataframe\">\n",
              "  <thead>\n",
              "    <tr style=\"text-align: right;\">\n",
              "      <th></th>\n",
              "      <th>id</th>\n",
              "      <th>amount_tsh</th>\n",
              "      <th>funder</th>\n",
              "      <th>gps_height</th>\n",
              "      <th>longitude</th>\n",
              "      <th>latitude</th>\n",
              "      <th>basin</th>\n",
              "      <th>region</th>\n",
              "      <th>district_code</th>\n",
              "      <th>lga</th>\n",
              "      <th>ward</th>\n",
              "      <th>population</th>\n",
              "      <th>public_meeting</th>\n",
              "      <th>scheme_management</th>\n",
              "      <th>permit</th>\n",
              "      <th>construction_year</th>\n",
              "      <th>extraction_type</th>\n",
              "      <th>management</th>\n",
              "      <th>payment_type</th>\n",
              "      <th>water_quality</th>\n",
              "      <th>quantity</th>\n",
              "      <th>source</th>\n",
              "      <th>waterpoint_type</th>\n",
              "      <th>status_group</th>\n",
              "      <th>year_recorded</th>\n",
              "      <th>month_recorded</th>\n",
              "      <th>day_recorded</th>\n",
              "      <th>quarer_recorded</th>\n",
              "      <th>percipitation_class</th>\n",
              "      <th>well_age</th>\n",
              "    </tr>\n",
              "  </thead>\n",
              "  <tbody>\n",
              "    <tr>\n",
              "      <th>0</th>\n",
              "      <td>69572</td>\n",
              "      <td>6000.0</td>\n",
              "      <td>Roman</td>\n",
              "      <td>1390.000000</td>\n",
              "      <td>34.938093</td>\n",
              "      <td>-9.856322</td>\n",
              "      <td>Lake Nyasa</td>\n",
              "      <td>Iringa</td>\n",
              "      <td>5</td>\n",
              "      <td>Ludewa</td>\n",
              "      <td>Mundindi</td>\n",
              "      <td>109.0</td>\n",
              "      <td>Yes</td>\n",
              "      <td>VWC</td>\n",
              "      <td>No</td>\n",
              "      <td>1999.0</td>\n",
              "      <td>gravity</td>\n",
              "      <td>vwc</td>\n",
              "      <td>annually</td>\n",
              "      <td>soft</td>\n",
              "      <td>enough</td>\n",
              "      <td>spring</td>\n",
              "      <td>communal standpipe</td>\n",
              "      <td>functional</td>\n",
              "      <td>2011</td>\n",
              "      <td>3</td>\n",
              "      <td>0</td>\n",
              "      <td>1</td>\n",
              "      <td>4</td>\n",
              "      <td>12.0</td>\n",
              "    </tr>\n",
              "    <tr>\n",
              "      <th>1</th>\n",
              "      <td>8776</td>\n",
              "      <td>200.0</td>\n",
              "      <td>Grumeti</td>\n",
              "      <td>1399.000000</td>\n",
              "      <td>34.698766</td>\n",
              "      <td>-2.147466</td>\n",
              "      <td>Lake Victoria</td>\n",
              "      <td>Mara</td>\n",
              "      <td>2</td>\n",
              "      <td>Serengeti</td>\n",
              "      <td>Natta</td>\n",
              "      <td>280.0</td>\n",
              "      <td>Missing</td>\n",
              "      <td>Other</td>\n",
              "      <td>Yes</td>\n",
              "      <td>2010.0</td>\n",
              "      <td>gravity</td>\n",
              "      <td>wug</td>\n",
              "      <td>never pay</td>\n",
              "      <td>soft</td>\n",
              "      <td>insufficient</td>\n",
              "      <td>rainwater harvesting</td>\n",
              "      <td>communal standpipe</td>\n",
              "      <td>functional</td>\n",
              "      <td>2013</td>\n",
              "      <td>3</td>\n",
              "      <td>2</td>\n",
              "      <td>1</td>\n",
              "      <td>4</td>\n",
              "      <td>3.0</td>\n",
              "    </tr>\n",
              "    <tr>\n",
              "      <th>2</th>\n",
              "      <td>34310</td>\n",
              "      <td>25.0</td>\n",
              "      <td>Lottery Club</td>\n",
              "      <td>686.000000</td>\n",
              "      <td>37.460664</td>\n",
              "      <td>-3.821329</td>\n",
              "      <td>Pangani</td>\n",
              "      <td>Manyara</td>\n",
              "      <td>4</td>\n",
              "      <td>Simanjiro</td>\n",
              "      <td>Ngorika</td>\n",
              "      <td>250.0</td>\n",
              "      <td>Yes</td>\n",
              "      <td>VWC</td>\n",
              "      <td>Yes</td>\n",
              "      <td>2009.0</td>\n",
              "      <td>gravity</td>\n",
              "      <td>vwc</td>\n",
              "      <td>per bucket</td>\n",
              "      <td>soft</td>\n",
              "      <td>enough</td>\n",
              "      <td>dam</td>\n",
              "      <td>communal standpipe multiple</td>\n",
              "      <td>functional</td>\n",
              "      <td>2013</td>\n",
              "      <td>2</td>\n",
              "      <td>0</td>\n",
              "      <td>1</td>\n",
              "      <td>2</td>\n",
              "      <td>4.0</td>\n",
              "    </tr>\n",
              "    <tr>\n",
              "      <th>3</th>\n",
              "      <td>67743</td>\n",
              "      <td>50.0</td>\n",
              "      <td>Unicef</td>\n",
              "      <td>263.000000</td>\n",
              "      <td>38.486161</td>\n",
              "      <td>-11.155298</td>\n",
              "      <td>Ruvuma / Southern Coast</td>\n",
              "      <td>Mtwara</td>\n",
              "      <td>63</td>\n",
              "      <td>Nanyumbu</td>\n",
              "      <td>Nanyumbu</td>\n",
              "      <td>58.0</td>\n",
              "      <td>Yes</td>\n",
              "      <td>VWC</td>\n",
              "      <td>Yes</td>\n",
              "      <td>1986.0</td>\n",
              "      <td>submersible</td>\n",
              "      <td>vwc</td>\n",
              "      <td>never pay</td>\n",
              "      <td>soft</td>\n",
              "      <td>dry</td>\n",
              "      <td>machine dbh</td>\n",
              "      <td>communal standpipe multiple</td>\n",
              "      <td>non functional</td>\n",
              "      <td>2013</td>\n",
              "      <td>1</td>\n",
              "      <td>0</td>\n",
              "      <td>1</td>\n",
              "      <td>4</td>\n",
              "      <td>27.0</td>\n",
              "    </tr>\n",
              "    <tr>\n",
              "      <th>4</th>\n",
              "      <td>19728</td>\n",
              "      <td>250.0</td>\n",
              "      <td>Action In A</td>\n",
              "      <td>1057.545585</td>\n",
              "      <td>31.130847</td>\n",
              "      <td>-1.825359</td>\n",
              "      <td>Lake Victoria</td>\n",
              "      <td>Kagera</td>\n",
              "      <td>1</td>\n",
              "      <td>Karagwe</td>\n",
              "      <td>Nyakasimbi</td>\n",
              "      <td>200.0</td>\n",
              "      <td>Yes</td>\n",
              "      <td>Missing</td>\n",
              "      <td>Yes</td>\n",
              "      <td>2003.0</td>\n",
              "      <td>gravity</td>\n",
              "      <td>other</td>\n",
              "      <td>never pay</td>\n",
              "      <td>soft</td>\n",
              "      <td>seasonal</td>\n",
              "      <td>rainwater harvesting</td>\n",
              "      <td>communal standpipe</td>\n",
              "      <td>functional</td>\n",
              "      <td>2011</td>\n",
              "      <td>7</td>\n",
              "      <td>2</td>\n",
              "      <td>3</td>\n",
              "      <td>0</td>\n",
              "      <td>8.0</td>\n",
              "    </tr>\n",
              "  </tbody>\n",
              "</table>\n",
              "</div>\n",
              "      <button class=\"colab-df-convert\" onclick=\"convertToInteractive('df-dcb5e881-c187-42b3-860e-c64b84d00a8e')\"\n",
              "              title=\"Convert this dataframe to an interactive table.\"\n",
              "              style=\"display:none;\">\n",
              "        \n",
              "  <svg xmlns=\"http://www.w3.org/2000/svg\" height=\"24px\"viewBox=\"0 0 24 24\"\n",
              "       width=\"24px\">\n",
              "    <path d=\"M0 0h24v24H0V0z\" fill=\"none\"/>\n",
              "    <path d=\"M18.56 5.44l.94 2.06.94-2.06 2.06-.94-2.06-.94-.94-2.06-.94 2.06-2.06.94zm-11 1L8.5 8.5l.94-2.06 2.06-.94-2.06-.94L8.5 2.5l-.94 2.06-2.06.94zm10 10l.94 2.06.94-2.06 2.06-.94-2.06-.94-.94-2.06-.94 2.06-2.06.94z\"/><path d=\"M17.41 7.96l-1.37-1.37c-.4-.4-.92-.59-1.43-.59-.52 0-1.04.2-1.43.59L10.3 9.45l-7.72 7.72c-.78.78-.78 2.05 0 2.83L4 21.41c.39.39.9.59 1.41.59.51 0 1.02-.2 1.41-.59l7.78-7.78 2.81-2.81c.8-.78.8-2.07 0-2.86zM5.41 20L4 18.59l7.72-7.72 1.47 1.35L5.41 20z\"/>\n",
              "  </svg>\n",
              "      </button>\n",
              "      \n",
              "  <style>\n",
              "    .colab-df-container {\n",
              "      display:flex;\n",
              "      flex-wrap:wrap;\n",
              "      gap: 12px;\n",
              "    }\n",
              "\n",
              "    .colab-df-convert {\n",
              "      background-color: #E8F0FE;\n",
              "      border: none;\n",
              "      border-radius: 50%;\n",
              "      cursor: pointer;\n",
              "      display: none;\n",
              "      fill: #1967D2;\n",
              "      height: 32px;\n",
              "      padding: 0 0 0 0;\n",
              "      width: 32px;\n",
              "    }\n",
              "\n",
              "    .colab-df-convert:hover {\n",
              "      background-color: #E2EBFA;\n",
              "      box-shadow: 0px 1px 2px rgba(60, 64, 67, 0.3), 0px 1px 3px 1px rgba(60, 64, 67, 0.15);\n",
              "      fill: #174EA6;\n",
              "    }\n",
              "\n",
              "    [theme=dark] .colab-df-convert {\n",
              "      background-color: #3B4455;\n",
              "      fill: #D2E3FC;\n",
              "    }\n",
              "\n",
              "    [theme=dark] .colab-df-convert:hover {\n",
              "      background-color: #434B5C;\n",
              "      box-shadow: 0px 1px 3px 1px rgba(0, 0, 0, 0.15);\n",
              "      filter: drop-shadow(0px 1px 2px rgba(0, 0, 0, 0.3));\n",
              "      fill: #FFFFFF;\n",
              "    }\n",
              "  </style>\n",
              "\n",
              "      <script>\n",
              "        const buttonEl =\n",
              "          document.querySelector('#df-dcb5e881-c187-42b3-860e-c64b84d00a8e button.colab-df-convert');\n",
              "        buttonEl.style.display =\n",
              "          google.colab.kernel.accessAllowed ? 'block' : 'none';\n",
              "\n",
              "        async function convertToInteractive(key) {\n",
              "          const element = document.querySelector('#df-dcb5e881-c187-42b3-860e-c64b84d00a8e');\n",
              "          const dataTable =\n",
              "            await google.colab.kernel.invokeFunction('convertToInteractive',\n",
              "                                                     [key], {});\n",
              "          if (!dataTable) return;\n",
              "\n",
              "          const docLinkHtml = 'Like what you see? Visit the ' +\n",
              "            '<a target=\"_blank\" href=https://colab.research.google.com/notebooks/data_table.ipynb>data table notebook</a>'\n",
              "            + ' to learn more about interactive tables.';\n",
              "          element.innerHTML = '';\n",
              "          dataTable['output_type'] = 'display_data';\n",
              "          await google.colab.output.renderOutput(dataTable, element);\n",
              "          const docLink = document.createElement('div');\n",
              "          docLink.innerHTML = docLinkHtml;\n",
              "          element.appendChild(docLink);\n",
              "        }\n",
              "      </script>\n",
              "    </div>\n",
              "  </div>\n",
              "  "
            ]
          },
          "metadata": {},
          "execution_count": 616
        }
      ]
    },
    {
      "cell_type": "code",
      "source": [
        "#turn out the public_meeting has zero variance with target so we will drop it\n",
        "data.drop(['public_meeting'],axis=1, inplace=True)\n",
        "test.drop(['public_meeting'],axis=1, inplace=True)\n",
        "\n",
        "data.drop(['permit'],axis=1, inplace=True)\n",
        "test.drop(['permit'],axis=1, inplace=True)"
      ],
      "metadata": {
        "id": "qYRQlrDLGnnT"
      },
      "execution_count": 617,
      "outputs": []
    },
    {
      "cell_type": "code",
      "source": [
        "data.head()"
      ],
      "metadata": {
        "id": "SRyO4OuPojes",
        "colab": {
          "base_uri": "https://localhost:8080/",
          "height": 0
        },
        "outputId": "e547b1c5-d2d2-4e62-bc92-3dc3a1e8ee6c"
      },
      "execution_count": 618,
      "outputs": [
        {
          "output_type": "execute_result",
          "data": {
            "text/plain": [
              "      id  amount_tsh        funder   gps_height  longitude   latitude  \\\n",
              "0  69572      6000.0         Roman  1390.000000  34.938093  -9.856322   \n",
              "1   8776       200.0       Grumeti  1399.000000  34.698766  -2.147466   \n",
              "2  34310        25.0  Lottery Club   686.000000  37.460664  -3.821329   \n",
              "3  67743        50.0        Unicef   263.000000  38.486161 -11.155298   \n",
              "4  19728       250.0   Action In A  1057.545585  31.130847  -1.825359   \n",
              "\n",
              "                     basin   region  district_code        lga        ward  \\\n",
              "0               Lake Nyasa   Iringa              5     Ludewa    Mundindi   \n",
              "1            Lake Victoria     Mara              2  Serengeti       Natta   \n",
              "2                  Pangani  Manyara              4  Simanjiro     Ngorika   \n",
              "3  Ruvuma / Southern Coast   Mtwara             63   Nanyumbu    Nanyumbu   \n",
              "4            Lake Victoria   Kagera              1    Karagwe  Nyakasimbi   \n",
              "\n",
              "   population scheme_management  construction_year extraction_type management  \\\n",
              "0       109.0               VWC             1999.0         gravity        vwc   \n",
              "1       280.0             Other             2010.0         gravity        wug   \n",
              "2       250.0               VWC             2009.0         gravity        vwc   \n",
              "3        58.0               VWC             1986.0     submersible        vwc   \n",
              "4       200.0           Missing             2003.0         gravity      other   \n",
              "\n",
              "  payment_type water_quality      quantity                source  \\\n",
              "0     annually          soft        enough                spring   \n",
              "1    never pay          soft  insufficient  rainwater harvesting   \n",
              "2   per bucket          soft        enough                   dam   \n",
              "3    never pay          soft           dry           machine dbh   \n",
              "4    never pay          soft      seasonal  rainwater harvesting   \n",
              "\n",
              "               waterpoint_type    status_group  year_recorded  month_recorded  \\\n",
              "0           communal standpipe      functional           2011               3   \n",
              "1           communal standpipe      functional           2013               3   \n",
              "2  communal standpipe multiple      functional           2013               2   \n",
              "3  communal standpipe multiple  non functional           2013               1   \n",
              "4           communal standpipe      functional           2011               7   \n",
              "\n",
              "   day_recorded  quarer_recorded  percipitation_class  well_age  \n",
              "0             0                1                    4      12.0  \n",
              "1             2                1                    4       3.0  \n",
              "2             0                1                    2       4.0  \n",
              "3             0                1                    4      27.0  \n",
              "4             2                3                    0       8.0  "
            ],
            "text/html": [
              "\n",
              "  <div id=\"df-53c8c3b9-f7de-4113-ac21-36891f39943d\">\n",
              "    <div class=\"colab-df-container\">\n",
              "      <div>\n",
              "<style scoped>\n",
              "    .dataframe tbody tr th:only-of-type {\n",
              "        vertical-align: middle;\n",
              "    }\n",
              "\n",
              "    .dataframe tbody tr th {\n",
              "        vertical-align: top;\n",
              "    }\n",
              "\n",
              "    .dataframe thead th {\n",
              "        text-align: right;\n",
              "    }\n",
              "</style>\n",
              "<table border=\"1\" class=\"dataframe\">\n",
              "  <thead>\n",
              "    <tr style=\"text-align: right;\">\n",
              "      <th></th>\n",
              "      <th>id</th>\n",
              "      <th>amount_tsh</th>\n",
              "      <th>funder</th>\n",
              "      <th>gps_height</th>\n",
              "      <th>longitude</th>\n",
              "      <th>latitude</th>\n",
              "      <th>basin</th>\n",
              "      <th>region</th>\n",
              "      <th>district_code</th>\n",
              "      <th>lga</th>\n",
              "      <th>ward</th>\n",
              "      <th>population</th>\n",
              "      <th>scheme_management</th>\n",
              "      <th>construction_year</th>\n",
              "      <th>extraction_type</th>\n",
              "      <th>management</th>\n",
              "      <th>payment_type</th>\n",
              "      <th>water_quality</th>\n",
              "      <th>quantity</th>\n",
              "      <th>source</th>\n",
              "      <th>waterpoint_type</th>\n",
              "      <th>status_group</th>\n",
              "      <th>year_recorded</th>\n",
              "      <th>month_recorded</th>\n",
              "      <th>day_recorded</th>\n",
              "      <th>quarer_recorded</th>\n",
              "      <th>percipitation_class</th>\n",
              "      <th>well_age</th>\n",
              "    </tr>\n",
              "  </thead>\n",
              "  <tbody>\n",
              "    <tr>\n",
              "      <th>0</th>\n",
              "      <td>69572</td>\n",
              "      <td>6000.0</td>\n",
              "      <td>Roman</td>\n",
              "      <td>1390.000000</td>\n",
              "      <td>34.938093</td>\n",
              "      <td>-9.856322</td>\n",
              "      <td>Lake Nyasa</td>\n",
              "      <td>Iringa</td>\n",
              "      <td>5</td>\n",
              "      <td>Ludewa</td>\n",
              "      <td>Mundindi</td>\n",
              "      <td>109.0</td>\n",
              "      <td>VWC</td>\n",
              "      <td>1999.0</td>\n",
              "      <td>gravity</td>\n",
              "      <td>vwc</td>\n",
              "      <td>annually</td>\n",
              "      <td>soft</td>\n",
              "      <td>enough</td>\n",
              "      <td>spring</td>\n",
              "      <td>communal standpipe</td>\n",
              "      <td>functional</td>\n",
              "      <td>2011</td>\n",
              "      <td>3</td>\n",
              "      <td>0</td>\n",
              "      <td>1</td>\n",
              "      <td>4</td>\n",
              "      <td>12.0</td>\n",
              "    </tr>\n",
              "    <tr>\n",
              "      <th>1</th>\n",
              "      <td>8776</td>\n",
              "      <td>200.0</td>\n",
              "      <td>Grumeti</td>\n",
              "      <td>1399.000000</td>\n",
              "      <td>34.698766</td>\n",
              "      <td>-2.147466</td>\n",
              "      <td>Lake Victoria</td>\n",
              "      <td>Mara</td>\n",
              "      <td>2</td>\n",
              "      <td>Serengeti</td>\n",
              "      <td>Natta</td>\n",
              "      <td>280.0</td>\n",
              "      <td>Other</td>\n",
              "      <td>2010.0</td>\n",
              "      <td>gravity</td>\n",
              "      <td>wug</td>\n",
              "      <td>never pay</td>\n",
              "      <td>soft</td>\n",
              "      <td>insufficient</td>\n",
              "      <td>rainwater harvesting</td>\n",
              "      <td>communal standpipe</td>\n",
              "      <td>functional</td>\n",
              "      <td>2013</td>\n",
              "      <td>3</td>\n",
              "      <td>2</td>\n",
              "      <td>1</td>\n",
              "      <td>4</td>\n",
              "      <td>3.0</td>\n",
              "    </tr>\n",
              "    <tr>\n",
              "      <th>2</th>\n",
              "      <td>34310</td>\n",
              "      <td>25.0</td>\n",
              "      <td>Lottery Club</td>\n",
              "      <td>686.000000</td>\n",
              "      <td>37.460664</td>\n",
              "      <td>-3.821329</td>\n",
              "      <td>Pangani</td>\n",
              "      <td>Manyara</td>\n",
              "      <td>4</td>\n",
              "      <td>Simanjiro</td>\n",
              "      <td>Ngorika</td>\n",
              "      <td>250.0</td>\n",
              "      <td>VWC</td>\n",
              "      <td>2009.0</td>\n",
              "      <td>gravity</td>\n",
              "      <td>vwc</td>\n",
              "      <td>per bucket</td>\n",
              "      <td>soft</td>\n",
              "      <td>enough</td>\n",
              "      <td>dam</td>\n",
              "      <td>communal standpipe multiple</td>\n",
              "      <td>functional</td>\n",
              "      <td>2013</td>\n",
              "      <td>2</td>\n",
              "      <td>0</td>\n",
              "      <td>1</td>\n",
              "      <td>2</td>\n",
              "      <td>4.0</td>\n",
              "    </tr>\n",
              "    <tr>\n",
              "      <th>3</th>\n",
              "      <td>67743</td>\n",
              "      <td>50.0</td>\n",
              "      <td>Unicef</td>\n",
              "      <td>263.000000</td>\n",
              "      <td>38.486161</td>\n",
              "      <td>-11.155298</td>\n",
              "      <td>Ruvuma / Southern Coast</td>\n",
              "      <td>Mtwara</td>\n",
              "      <td>63</td>\n",
              "      <td>Nanyumbu</td>\n",
              "      <td>Nanyumbu</td>\n",
              "      <td>58.0</td>\n",
              "      <td>VWC</td>\n",
              "      <td>1986.0</td>\n",
              "      <td>submersible</td>\n",
              "      <td>vwc</td>\n",
              "      <td>never pay</td>\n",
              "      <td>soft</td>\n",
              "      <td>dry</td>\n",
              "      <td>machine dbh</td>\n",
              "      <td>communal standpipe multiple</td>\n",
              "      <td>non functional</td>\n",
              "      <td>2013</td>\n",
              "      <td>1</td>\n",
              "      <td>0</td>\n",
              "      <td>1</td>\n",
              "      <td>4</td>\n",
              "      <td>27.0</td>\n",
              "    </tr>\n",
              "    <tr>\n",
              "      <th>4</th>\n",
              "      <td>19728</td>\n",
              "      <td>250.0</td>\n",
              "      <td>Action In A</td>\n",
              "      <td>1057.545585</td>\n",
              "      <td>31.130847</td>\n",
              "      <td>-1.825359</td>\n",
              "      <td>Lake Victoria</td>\n",
              "      <td>Kagera</td>\n",
              "      <td>1</td>\n",
              "      <td>Karagwe</td>\n",
              "      <td>Nyakasimbi</td>\n",
              "      <td>200.0</td>\n",
              "      <td>Missing</td>\n",
              "      <td>2003.0</td>\n",
              "      <td>gravity</td>\n",
              "      <td>other</td>\n",
              "      <td>never pay</td>\n",
              "      <td>soft</td>\n",
              "      <td>seasonal</td>\n",
              "      <td>rainwater harvesting</td>\n",
              "      <td>communal standpipe</td>\n",
              "      <td>functional</td>\n",
              "      <td>2011</td>\n",
              "      <td>7</td>\n",
              "      <td>2</td>\n",
              "      <td>3</td>\n",
              "      <td>0</td>\n",
              "      <td>8.0</td>\n",
              "    </tr>\n",
              "  </tbody>\n",
              "</table>\n",
              "</div>\n",
              "      <button class=\"colab-df-convert\" onclick=\"convertToInteractive('df-53c8c3b9-f7de-4113-ac21-36891f39943d')\"\n",
              "              title=\"Convert this dataframe to an interactive table.\"\n",
              "              style=\"display:none;\">\n",
              "        \n",
              "  <svg xmlns=\"http://www.w3.org/2000/svg\" height=\"24px\"viewBox=\"0 0 24 24\"\n",
              "       width=\"24px\">\n",
              "    <path d=\"M0 0h24v24H0V0z\" fill=\"none\"/>\n",
              "    <path d=\"M18.56 5.44l.94 2.06.94-2.06 2.06-.94-2.06-.94-.94-2.06-.94 2.06-2.06.94zm-11 1L8.5 8.5l.94-2.06 2.06-.94-2.06-.94L8.5 2.5l-.94 2.06-2.06.94zm10 10l.94 2.06.94-2.06 2.06-.94-2.06-.94-.94-2.06-.94 2.06-2.06.94z\"/><path d=\"M17.41 7.96l-1.37-1.37c-.4-.4-.92-.59-1.43-.59-.52 0-1.04.2-1.43.59L10.3 9.45l-7.72 7.72c-.78.78-.78 2.05 0 2.83L4 21.41c.39.39.9.59 1.41.59.51 0 1.02-.2 1.41-.59l7.78-7.78 2.81-2.81c.8-.78.8-2.07 0-2.86zM5.41 20L4 18.59l7.72-7.72 1.47 1.35L5.41 20z\"/>\n",
              "  </svg>\n",
              "      </button>\n",
              "      \n",
              "  <style>\n",
              "    .colab-df-container {\n",
              "      display:flex;\n",
              "      flex-wrap:wrap;\n",
              "      gap: 12px;\n",
              "    }\n",
              "\n",
              "    .colab-df-convert {\n",
              "      background-color: #E8F0FE;\n",
              "      border: none;\n",
              "      border-radius: 50%;\n",
              "      cursor: pointer;\n",
              "      display: none;\n",
              "      fill: #1967D2;\n",
              "      height: 32px;\n",
              "      padding: 0 0 0 0;\n",
              "      width: 32px;\n",
              "    }\n",
              "\n",
              "    .colab-df-convert:hover {\n",
              "      background-color: #E2EBFA;\n",
              "      box-shadow: 0px 1px 2px rgba(60, 64, 67, 0.3), 0px 1px 3px 1px rgba(60, 64, 67, 0.15);\n",
              "      fill: #174EA6;\n",
              "    }\n",
              "\n",
              "    [theme=dark] .colab-df-convert {\n",
              "      background-color: #3B4455;\n",
              "      fill: #D2E3FC;\n",
              "    }\n",
              "\n",
              "    [theme=dark] .colab-df-convert:hover {\n",
              "      background-color: #434B5C;\n",
              "      box-shadow: 0px 1px 3px 1px rgba(0, 0, 0, 0.15);\n",
              "      filter: drop-shadow(0px 1px 2px rgba(0, 0, 0, 0.3));\n",
              "      fill: #FFFFFF;\n",
              "    }\n",
              "  </style>\n",
              "\n",
              "      <script>\n",
              "        const buttonEl =\n",
              "          document.querySelector('#df-53c8c3b9-f7de-4113-ac21-36891f39943d button.colab-df-convert');\n",
              "        buttonEl.style.display =\n",
              "          google.colab.kernel.accessAllowed ? 'block' : 'none';\n",
              "\n",
              "        async function convertToInteractive(key) {\n",
              "          const element = document.querySelector('#df-53c8c3b9-f7de-4113-ac21-36891f39943d');\n",
              "          const dataTable =\n",
              "            await google.colab.kernel.invokeFunction('convertToInteractive',\n",
              "                                                     [key], {});\n",
              "          if (!dataTable) return;\n",
              "\n",
              "          const docLinkHtml = 'Like what you see? Visit the ' +\n",
              "            '<a target=\"_blank\" href=https://colab.research.google.com/notebooks/data_table.ipynb>data table notebook</a>'\n",
              "            + ' to learn more about interactive tables.';\n",
              "          element.innerHTML = '';\n",
              "          dataTable['output_type'] = 'display_data';\n",
              "          await google.colab.output.renderOutput(dataTable, element);\n",
              "          const docLink = document.createElement('div');\n",
              "          docLink.innerHTML = docLinkHtml;\n",
              "          element.appendChild(docLink);\n",
              "        }\n",
              "      </script>\n",
              "    </div>\n",
              "  </div>\n",
              "  "
            ]
          },
          "metadata": {},
          "execution_count": 618
        }
      ]
    },
    {
      "cell_type": "markdown",
      "metadata": {
        "id": "3TXwJShexdt3"
      },
      "source": [
        "#2. Label Distribution and Label Encoding\n",
        "Multiclass Classification Labels, need to encode them\n",
        "\n",
        "Reference: https://scikit-learn.org/stable/modules/generated/sklearn.preprocessing.LabelEncoder.html"
      ]
    },
    {
      "cell_type": "code",
      "execution_count": 619,
      "metadata": {
        "colab": {
          "base_uri": "https://localhost:8080/",
          "height": 0
        },
        "id": "EzkEWiWHk5Kt",
        "outputId": "62ddbf27-608b-4dc4-d861-5178ec80fbae"
      },
      "outputs": [
        {
          "output_type": "execute_result",
          "data": {
            "text/plain": [
              "Text(0, 0.5, 'Number of Occurance')"
            ]
          },
          "metadata": {},
          "execution_count": 619
        },
        {
          "output_type": "display_data",
          "data": {
            "text/plain": [
              "<Figure size 432x288 with 1 Axes>"
            ],
            "image/png": "[encoded data removed]"
          },
          "metadata": {
            "needs_background": "light"
          }
        }
      ],
      "source": [
        "data.status_group.value_counts().plot.bar()\n",
        "plt.xlabel('status_group')\n",
        "plt.ylabel('Number of Occurance')"
      ]
    },
    {
      "cell_type": "code",
      "execution_count": 620,
      "metadata": {
        "colab": {
          "base_uri": "https://localhost:8080/"
        },
        "id": "iXK5BvPAPPmI",
        "outputId": "8d8cc888-0fc9-40f4-ee76-9c12430e17ac"
      },
      "outputs": [
        {
          "output_type": "execute_result",
          "data": {
            "text/plain": [
              "functional                 32259\n",
              "non functional             22824\n",
              "functional needs repair     4317\n",
              "Name: status_group, dtype: int64"
            ]
          },
          "metadata": {},
          "execution_count": 620
        }
      ],
      "source": [
        "data.status_group.value_counts()\n"
      ]
    },
    {
      "cell_type": "code",
      "execution_count": 621,
      "metadata": {
        "colab": {
          "base_uri": "https://localhost:8080/"
        },
        "id": "ggaknqhAPPq9",
        "outputId": "08ab09be-fd64-4490-c293-52b435ca6de1"
      },
      "outputs": [
        {
          "output_type": "execute_result",
          "data": {
            "text/plain": [
              "functional                 0.543081\n",
              "non functional             0.384242\n",
              "functional needs repair    0.072677\n",
              "Name: status_group, dtype: float64"
            ]
          },
          "metadata": {},
          "execution_count": 621
        }
      ],
      "source": [
        "data.status_group.value_counts(normalize=True)"
      ]
    },
    {
      "cell_type": "code",
      "execution_count": 622,
      "metadata": {
        "colab": {
          "base_uri": "https://localhost:8080/"
        },
        "id": "ptUWOX-cTKtb",
        "outputId": "c82cca78-bceb-448f-b459-fd25caf87ff1"
      },
      "outputs": [
        {
          "output_type": "execute_result",
          "data": {
            "text/plain": [
              "0    0\n",
              "1    0\n",
              "2    0\n",
              "3    2\n",
              "4    0\n",
              "Name: status_group, dtype: int64"
            ]
          },
          "metadata": {},
          "execution_count": 622
        }
      ],
      "source": [
        "label_encouder=LabelEncoder()\n",
        "data.status_group = label_encouder.fit_transform(data.status_group)\n",
        "data.status_group.head()"
      ]
    },
    {
      "cell_type": "code",
      "execution_count": 623,
      "metadata": {
        "colab": {
          "base_uri": "https://localhost:8080/",
          "height": 0
        },
        "id": "MkWzJ4UPPPuN",
        "outputId": "30cb67e0-0eb5-42c4-e37b-4435f4d819e4"
      },
      "outputs": [
        {
          "output_type": "execute_result",
          "data": {
            "text/plain": [
              "Text(0, 0.5, 'Number of Occurance')"
            ]
          },
          "metadata": {},
          "execution_count": 623
        },
        {
          "output_type": "display_data",
          "data": {
            "text/plain": [
              "<Figure size 432x288 with 1 Axes>"
            ],
            "image/png": "[encoded data removed]"
          },
          "metadata": {
            "needs_background": "light"
          }
        }
      ],
      "source": [
        "data.status_group.value_counts().plot.bar()\n",
        "plt.xlabel('status_group')\n",
        "plt.ylabel('Number of Occurance')"
      ]
    },
    {
      "cell_type": "markdown",
      "source": [
        "#3. Defining the Encoders for Use in Cross Validation"
      ],
      "metadata": {
        "id": "yNBr3HIvEzqo"
      }
    },
    {
      "cell_type": "markdown",
      "source": [
        "##3.1. Rare Value Encoders"
      ],
      "metadata": {
        "id": "ABILSSFSPqP-"
      }
    },
    {
      "cell_type": "code",
      "source": [
        "data.select_dtypes(include='object').columns"
      ],
      "metadata": {
        "colab": {
          "base_uri": "https://localhost:8080/"
        },
        "id": "V-0yu_FcGBC4",
        "outputId": "394b1d9b-2d7c-4894-fb58-f78bceea26f7"
      },
      "execution_count": 624,
      "outputs": [
        {
          "output_type": "execute_result",
          "data": {
            "text/plain": [
              "Index(['funder', 'basin', 'region', 'lga', 'ward', 'scheme_management',\n",
              "       'extraction_type', 'management', 'payment_type', 'water_quality',\n",
              "       'quantity', 'source', 'waterpoint_type'],\n",
              "      dtype='object')"
            ]
          },
          "metadata": {},
          "execution_count": 624
        }
      ]
    },
    {
      "cell_type": "code",
      "source": [
        "rare_encoder = RareLabelEncoder(\n",
        "  tol=0.025,  # minimal percentage to be considered non-rare\n",
        "  n_categories=4, # minimal number of categories the variable should have to re-cgroup rare categories\n",
        "  variables=['scheme_management', 'extraction_type', 'management', 'water_quality', 'source','waterpoint_type'], # variables to re-group\n",
        "  replace_with='Rare')\n",
        "\n",
        "rare_encoder_EXtreme_Cardinality = RareLabelEncoder(\n",
        "  tol=0.007,  # minimal percentage to be considered non-rare\n",
        "  n_categories=4, # minimal number of categories the variable should have to re-cgroup rare categories\n",
        "  max_n_categories = 50,\n",
        "  # variables=['lga', 'funder'], # variables to re-group\n",
        "  variables=['funder'], # variables to re-group\n",
        "  replace_with='Rare')\n",
        "\n",
        "rare_encoder_ExCard_ward = RareLabelEncoder(\n",
        "  tol=0.002,  # minimal percentage to be considered non-rare\n",
        "  n_categories=4, # minimal number of categories the variable should have to re-cgroup rare categories\n",
        "  max_n_categories = 500,\n",
        "  variables=['ward'], # variables to re-group\n",
        "  replace_with='Rare')\n"
      ],
      "metadata": {
        "id": "BJl1wD8wDJcd"
      },
      "execution_count": 625,
      "outputs": []
    },
    {
      "cell_type": "markdown",
      "source": [
        "##3.2. Categorical Encoders\n",
        "https://www.kaggle.com/code/subinium/11-categorical-encoders-and-benchmark\n",
        "\n",
        "https://contrib.scikit-learn.org/category_encoders/\n",
        "\n",
        "https://towardsdatascience.com/target-encoding-for-multi-class-classification-c9a7bcb1a53\n",
        "\n"
      ],
      "metadata": {
        "id": "tCW0zOoWHBVJ"
      }
    },
    {
      "cell_type": "markdown",
      "source": [
        "###3.2.1. Target Encoder"
      ],
      "metadata": {
        "id": "bCqNwjK_Px3v"
      }
    },
    {
      "cell_type": "code",
      "source": [
        "tar_train=data.copy()\n",
        "tar_test=test.copy()"
      ],
      "metadata": {
        "id": "CAwB7-jYHBhY"
      },
      "execution_count": 626,
      "outputs": []
    },
    {
      "cell_type": "code",
      "source": [
        "tar_train.drop(['id'],axis=1, inplace=True)\n",
        "tar_test.drop(['id'],axis=1, inplace=True)"
      ],
      "metadata": {
        "id": "ANAMh4ppHM6O"
      },
      "execution_count": 627,
      "outputs": []
    },
    {
      "cell_type": "code",
      "source": [
        "# X = tar_train.drop('status_group', axis=1)"
      ],
      "metadata": {
        "id": "DdZC_kauSVoW"
      },
      "execution_count": 628,
      "outputs": []
    },
    {
      "cell_type": "code",
      "source": [
        "# y = tar_train.status_group\n",
        "# y=np.array(y)\n",
        "# y=y.astype(int) "
      ],
      "metadata": {
        "id": "ezdo72fURYdi"
      },
      "execution_count": 629,
      "outputs": []
    },
    {
      "cell_type": "code",
      "source": [
        "# X = pd.DataFrame(bunch.data, columns=bunch.feature_names)"
      ],
      "metadata": {
        "id": "VuFiVji3RomI"
      },
      "execution_count": 630,
      "outputs": []
    },
    {
      "cell_type": "code",
      "source": [
        "variables=tar_train.select_dtypes(include='object').columns\n",
        "variables"
      ],
      "metadata": {
        "id": "HWTZIvXqaOZO",
        "outputId": "8128ee9b-3d90-4c52-e3a1-d8c63be07ca4",
        "colab": {
          "base_uri": "https://localhost:8080/"
        }
      },
      "execution_count": 631,
      "outputs": [
        {
          "output_type": "execute_result",
          "data": {
            "text/plain": [
              "Index(['funder', 'basin', 'region', 'lga', 'ward', 'scheme_management',\n",
              "       'extraction_type', 'management', 'payment_type', 'water_quality',\n",
              "       'quantity', 'source', 'waterpoint_type'],\n",
              "      dtype='object')"
            ]
          },
          "metadata": {},
          "execution_count": 631
        }
      ]
    },
    {
      "cell_type": "code",
      "source": [
        "tar_enc = TargetEncoder(cols=variables,min_samples_leaf=5, smoothing=20)\n",
        "# wrapper = PolynomialWrapper(tar_enc)\n",
        "# encoded = wrapper.fit_transform(X, y)"
      ],
      "metadata": {
        "id": "olP7RYEaRog9"
      },
      "execution_count": 632,
      "outputs": []
    },
    {
      "cell_type": "code",
      "source": [
        "# encoded.head()"
      ],
      "metadata": {
        "id": "-xOFP07oRwL-"
      },
      "execution_count": 633,
      "outputs": []
    },
    {
      "cell_type": "code",
      "source": [
        "# status_labels =['func', 'non-func' , 'func_repair']"
      ],
      "metadata": {
        "id": "j5IzQ742HdBl"
      },
      "execution_count": 634,
      "outputs": []
    },
    {
      "cell_type": "code",
      "source": [
        "# enc=OneHotEncoder().fit(tar_train.status_group.astype(str))\n",
        "# status_group_labels=enc.transform(tar_train.status_group.astype(str))\n",
        "# status_group_labels.columns = status_labels\n",
        "# status_group_labels.head()"
      ],
      "metadata": {
        "id": "5nR3mauiHi03"
      },
      "execution_count": 635,
      "outputs": []
    },
    {
      "cell_type": "code",
      "source": [
        "# class_names=status_group_labels.columns[0:3]\n",
        "# class_names"
      ],
      "metadata": {
        "id": "13lZWy7iHnOR"
      },
      "execution_count": 636,
      "outputs": []
    },
    {
      "cell_type": "code",
      "source": [
        "# variables=tar_train.select_dtypes(include='object').columns\n",
        "# variables"
      ],
      "metadata": {
        "id": "I9RuQ2B4Hq0W"
      },
      "execution_count": 637,
      "outputs": []
    },
    {
      "cell_type": "code",
      "source": [
        "# target_enc=TargetEncoder(verbose=0, cols=None, drop_invariant=True, return_df=True,\n",
        "# # handle_missing='value',\n",
        "# # handle_unknown='value',\n",
        "# min_samples_leaf=3,\n",
        "# smoothing=2,\n",
        "# )"
      ],
      "metadata": {
        "id": "1uQuyHeUHvIX"
      },
      "execution_count": 638,
      "outputs": []
    },
    {
      "cell_type": "code",
      "source": [
        "\n",
        "# for var in variables:\n",
        "#   for class_ in class_names:\n",
        "#     # print(enc.fit_transform(data,status_group_labels[class_]))\n",
        "#     target_enc = enc.fit(tar_train[var],status_group_labels[class_])\n",
        "#     tar_train[var + '_' + class_] = enc.transform(tar_train[var])\n",
        "#     tar_test[var + '_' + class_] = enc.transform(tar_test[var])"
      ],
      "metadata": {
        "id": "Xg4wpLw6Hz7f"
      },
      "execution_count": 639,
      "outputs": []
    },
    {
      "cell_type": "markdown",
      "source": [
        "###3.2.2. James_Stein Encoder\n",
        "https://kiwidamien.github.io/james-stein-encoder.html"
      ],
      "metadata": {
        "id": "QYFR1b_aexly"
      }
    },
    {
      "cell_type": "code",
      "source": [
        "js_train=data.copy()\n",
        "js_test=test.copy()"
      ],
      "metadata": {
        "id": "ckNw71xke1Ri"
      },
      "execution_count": 640,
      "outputs": []
    },
    {
      "cell_type": "code",
      "source": [
        "js_train.drop(['id'],axis=1, inplace=True)\n",
        "js_test.drop(['id'],axis=1, inplace=True)"
      ],
      "metadata": {
        "id": "pOB1PTCMfSOx"
      },
      "execution_count": 641,
      "outputs": []
    },
    {
      "cell_type": "code",
      "source": [
        "# (verbose=0, cols=None, drop_invariant=False, return_df=True, handle_unknown='value', handle_missing='value', model='independent', random_state=None, randomized=False, sigma=0.05)\n",
        "js_enc = JamesSteinEncoder(\n",
        "    drop_invariant=True,\n",
        "    model='independent', random_state=7,\n",
        "    sigma=0.05\n",
        ")"
      ],
      "metadata": {
        "id": "blmCX-eVE2oX"
      },
      "execution_count": 642,
      "outputs": []
    },
    {
      "cell_type": "markdown",
      "source": [
        "###3.2.3. CatBoost Encoder\n",
        "https://www.geeksforgeeks.org/categorical-encoding-with-catboost-encoder/"
      ],
      "metadata": {
        "id": "27CZAPOp0XlB"
      }
    },
    {
      "cell_type": "code",
      "source": [
        "cb_train=data.copy()\n",
        "cb_test=test.copy()"
      ],
      "metadata": {
        "id": "r600Y-HI3iBf"
      },
      "execution_count": 643,
      "outputs": []
    },
    {
      "cell_type": "code",
      "source": [
        "cb_train.drop(['id'],axis=1, inplace=True)\n",
        "cb_test.drop(['id'],axis=1, inplace=True)"
      ],
      "metadata": {
        "id": "M1HsI2xc3k8X"
      },
      "execution_count": 644,
      "outputs": []
    },
    {
      "cell_type": "code",
      "source": [
        "# (verbose=0, cols=None, drop_invariant=False, return_df=True, handle_unknown='value', handle_missing='value', random_state=None, sigma=None, a=1)\n",
        "cb_enc = CatBoostEncoder(\n",
        "    cols=None, drop_invariant=True,\n",
        "    random_state=7,\n",
        ")"
      ],
      "metadata": {
        "id": "t8qnB8tb3d__"
      },
      "execution_count": 645,
      "outputs": []
    },
    {
      "cell_type": "markdown",
      "source": [
        "###3.2.5. Leave One Out Encoder\n"
      ],
      "metadata": {
        "id": "9nsyLyZkDcVA"
      }
    },
    {
      "cell_type": "code",
      "source": [
        "loo_train=data.copy()\n",
        "loo_test=test.copy()"
      ],
      "metadata": {
        "id": "7BQ14bxzDcVC"
      },
      "execution_count": 646,
      "outputs": []
    },
    {
      "cell_type": "code",
      "source": [
        "loo_train.drop(['id'],axis=1, inplace=True)\n",
        "loo_test.drop(['id'],axis=1, inplace=True)"
      ],
      "metadata": {
        "id": "XlJ5q9QSDcVD"
      },
      "execution_count": 647,
      "outputs": []
    },
    {
      "cell_type": "code",
      "source": [
        "loo_enc=LeaveOneOutEncoder(verbose=0, cols=None,drop_invariant=True, return_df=True,\n",
        "# handle_missing='value',\n",
        "# handle_unknown='value',\n",
        "random_state=7\n",
        ")"
      ],
      "metadata": {
        "id": "DeatuSF5DcVE"
      },
      "execution_count": 648,
      "outputs": []
    },
    {
      "cell_type": "markdown",
      "source": [
        "###3.2.6. MEstimator Encoder\n"
      ],
      "metadata": {
        "id": "j2a-ttY5FvEd"
      }
    },
    {
      "cell_type": "code",
      "source": [
        "me_train=data.copy()\n",
        "me_test=test.copy()"
      ],
      "metadata": {
        "id": "2Kv6iKCAFvEg"
      },
      "execution_count": 649,
      "outputs": []
    },
    {
      "cell_type": "code",
      "source": [
        "me_train.drop(['id'],axis=1, inplace=True)\n",
        "me_test.drop(['id'],axis=1, inplace=True)"
      ],
      "metadata": {
        "id": "82IeSX9qFvEh"
      },
      "execution_count": 650,
      "outputs": []
    },
    {
      "cell_type": "code",
      "source": [
        "# (verbose=0, cols=None, drop_invariant=False, return_df=True, handle_unknown='value', handle_missing='value', random_state=None, randomized=False, sigma=0.05, m=1.0)\n",
        "me_enc=MEstimateEncoder(verbose=0, cols=None,drop_invariant=True, return_df=True,\n",
        "sigma=0.05, m=1.0,\n",
        "random_state=7\n",
        ")"
      ],
      "metadata": {
        "id": "ah9oih0CFvEi"
      },
      "execution_count": 651,
      "outputs": []
    },
    {
      "cell_type": "markdown",
      "source": [
        "#1"
      ],
      "metadata": {
        "id": "2VD1y1gmldim"
      }
    },
    {
      "cell_type": "code",
      "source": [
        "# check for cardinality in categorical variables\n",
        "\n",
        "for var in variables:\n",
        "    \n",
        "    print(var, ' contains ', len(tar_train[var].unique()), ' labels')"
      ],
      "metadata": {
        "colab": {
          "base_uri": "https://localhost:8080/"
        },
        "id": "gf71iVtylfmD",
        "outputId": "d6ab5d44-b2a7-4d78-d498-82e94df88c62"
      },
      "execution_count": 652,
      "outputs": [
        {
          "output_type": "stream",
          "name": "stdout",
          "text": [
            "funder  contains  1898  labels\n",
            "basin  contains  9  labels\n",
            "region  contains  21  labels\n",
            "lga  contains  125  labels\n",
            "ward  contains  2092  labels\n",
            "scheme_management  contains  12  labels\n",
            "extraction_type  contains  18  labels\n",
            "management  contains  12  labels\n",
            "payment_type  contains  7  labels\n",
            "water_quality  contains  8  labels\n",
            "quantity  contains  5  labels\n",
            "source  contains  10  labels\n",
            "waterpoint_type  contains  7  labels\n"
          ]
        }
      ]
    },
    {
      "cell_type": "code",
      "source": [
        "# rare_encoder.fit(tar_train)\n",
        "rare_encoder_EXtreme_Cardinality.fit(tar_train)\n",
        "rare_encoder_ExCard_ward.fit(tar_train)"
      ],
      "metadata": {
        "colab": {
          "base_uri": "https://localhost:8080/"
        },
        "id": "tgj6NdcXl2Qr",
        "outputId": "21b4882f-a1eb-4f07-f16b-20cb645b1a9d"
      },
      "execution_count": 653,
      "outputs": [
        {
          "output_type": "execute_result",
          "data": {
            "text/plain": [
              "RareLabelEncoder(max_n_categories=500, n_categories=4, tol=0.002,\n",
              "                 variables=['ward'])"
            ]
          },
          "metadata": {},
          "execution_count": 653
        }
      ]
    },
    {
      "cell_type": "code",
      "source": [
        "    # tar_train = rare_encoder.transform(tar_train)\n",
        "    tar_train = rare_encoder_EXtreme_Cardinality.transform(tar_train)\n",
        "    tar_train = rare_encoder_ExCard_ward.transform(tar_train)"
      ],
      "metadata": {
        "id": "MKUhWK3UmCOk"
      },
      "execution_count": 654,
      "outputs": []
    },
    {
      "cell_type": "markdown",
      "source": [
        "#4. Defining the ML Models"
      ],
      "metadata": {
        "id": "SsATKquXQUkm"
      }
    },
    {
      "cell_type": "code",
      "source": [
        "rf_clf = RandomForestClassifier(\n",
        "                            n_estimators = 1000,\n",
        "                            criterion = 'entropy', \n",
        "                            max_depth = None, # \n",
        "                            min_samples_split=2,\n",
        "                            min_samples_leaf=1, \n",
        "                            max_features= 'sqrt', #{“sqrt”, “log2”, None}, int or float, default=”sqrt”\n",
        "                            max_leaf_nodes = None, #Grow trees with max_leaf_nodes in best-first fashion. \n",
        "                            #Best nodes are defined as relative reduction in impurity. If None then unlimited number of leaf nodes.\n",
        "                            min_impurity_decrease = 0, #A node will be split if this split induces a decrease of the impurity greater than or equal to this value.\n",
        "                            bootstrap = True,\n",
        "                            warm_start = False, #When set to True, reuse the solution of the previous call to fit and add more estimators to the ensemble, otherwise, just fit a whole new forest\n",
        "                            class_weight = 'balanced',\n",
        "                            max_samples = None,\n",
        "                            verbose = 0,\n",
        "                            n_jobs = -1,\n",
        "                            random_state = 17,\n",
        ")"
      ],
      "metadata": {
        "id": "_nxzBgN-QYv9"
      },
      "execution_count": 655,
      "outputs": []
    },
    {
      "cell_type": "code",
      "source": [
        "# importing the lightgbm module\n",
        "import lightgbm as lgb\n",
        "# initializing the model\n",
        "LightGBM_Clf = lgb.LGBMClassifier(\n",
        "    boosting_type='gbdt',\n",
        "    num_leaves = 50,\n",
        "    max_depth=-1,\n",
        "    learning_rate = 0.2,\n",
        "    n_estimators=1000,\n",
        "    subsample_for_bin=200000,\n",
        "    objective=None,\n",
        "    class_weight= None, \n",
        "    min_split_gain=0.0, \n",
        "    min_child_weight=0.001, \n",
        "    min_child_samples=20, \n",
        "    subsample=1.0, \n",
        "    subsample_freq=0, \n",
        "    colsample_bytree=1.0, \n",
        "    reg_alpha=0.0, \n",
        "    reg_lambda=0.0, \n",
        "    random_state=17, \n",
        "    n_jobs=-1, \n",
        "    silent=True, \n",
        "    importance_type='split',\n",
        "    verbosity = 1,\n",
        "    \n",
        ")"
      ],
      "metadata": {
        "id": "3rjz1zCLQesJ"
      },
      "execution_count": 656,
      "outputs": []
    },
    {
      "cell_type": "code",
      "source": [
        "xgboost_clf = XGBClassifier(max_depth = 8, # the larger the more prone to overfit, range 3-10\n",
        "                            learning_rate = 0.09, # range [0,1], typically=0.01-0.2\n",
        "                            n_estimators = 533,\n",
        "                            verbosity = 1,\n",
        "                            objective = \"multi:softmax\",\n",
        "                            booster = \"gbtree\", # gblinear or dart\n",
        "                            n_jobs = 1,\n",
        "                            gamma = 0, \n",
        "                            # Minimum loss reduction required to split. range=[0,inf],\n",
        "                            # The larger gamma is, the more conservative the algorithm will be.\n",
        "                            min_child_weight = 1, # used to restrict overfitting\n",
        "                            max_delta_step = 0,\n",
        "                            subsample = 0.75,\n",
        "                            colsample_bytree = 0.5,\n",
        "                            colsample_bylevel = 0.5,\n",
        "                            colsample_bynode = 0.5,\n",
        "                            reg_alpha = 0,\n",
        "                            reg_lambda = 1,\n",
        "                            scale_pos_weight = 0.5, #[default=1]\n",
        "                            random_state = 17,\n",
        "                            \n",
        ")"
      ],
      "metadata": {
        "id": "PP_YUqHSQndV"
      },
      "execution_count": 657,
      "outputs": []
    },
    {
      "cell_type": "code",
      "source": [
        "dtree = DecisionTreeClassifier(criterion = 'gini', max_depth=9, random_state=17)\n",
        "\n",
        "AdaBoost_clf = AdaBoostClassifier(base_estimator=dtree,\n",
        "                                  n_estimators= 543,\n",
        "                                  learning_rate=0.9,\n",
        "                                  algorithm='SAMME.R',\n",
        "                                  random_state=7)"
      ],
      "metadata": {
        "id": "GO2LzMpZQtNg"
      },
      "execution_count": 658,
      "outputs": []
    },
    {
      "cell_type": "markdown",
      "source": [
        "#5.1 Feature Engineering and Modeling within Cross Validation - Target Encoding"
      ],
      "metadata": {
        "id": "cZJqtAyJFKtF"
      }
    },
    {
      "cell_type": "code",
      "source": [
        "# Use the results of any categorical encoding that you chose\n",
        "\n",
        "train = tar_train.copy()\n",
        "test = tar_test.copy()"
      ],
      "metadata": {
        "id": "N7O2Dn8-P7B5"
      },
      "execution_count": 659,
      "outputs": []
    },
    {
      "cell_type": "code",
      "source": [
        "X = train.drop('status_group',axis=1)\n",
        "y = train.status_group"
      ],
      "metadata": {
        "id": "x7nh_a1yFnge"
      },
      "execution_count": 660,
      "outputs": []
    },
    {
      "cell_type": "code",
      "source": [
        "n_repeats =1\n",
        "n_splits = 5\n",
        "rskf = RepeatedStratifiedKFold(n_splits=n_splits, n_repeats = n_repeats, random_state=17)"
      ],
      "metadata": {
        "id": "JFf66JudFVhe"
      },
      "execution_count": 661,
      "outputs": []
    },
    {
      "cell_type": "code",
      "source": [
        "\n",
        "split = 0\n",
        "mean_acc_rf = 0\n",
        "mean_acc_lgbm = 0\n",
        "mean_acc_xgb = 0\n",
        "mean_acc_ada = 0\n",
        "\n",
        "for train_index, test_index in rskf.split(X, y):\n",
        "    \n",
        "    # Print a dot for each train / test partition\n",
        "    sys.stdout.write('>>>')\n",
        "    sys.stdout.flush()\n",
        "    \n",
        "    #Test & train split insode the CV\n",
        "    X_train, X_test = X.loc[train_index], X.loc[test_index]\n",
        "    y_train, y_test = y.loc[train_index], y.loc[test_index]\n",
        "\n",
        "    #Fitting the rare value encoders\n",
        "    # rare_encoder.fit(X_train)\n",
        "    rare_encoder_EXtreme_Cardinality.fit(X_train)\n",
        "    rare_encoder_ExCard_ward.fit(X_train)\n",
        "\n",
        "    # rare_enc_X_train = rare_encoder.transform(X_train)\n",
        "    X_train = rare_encoder_EXtreme_Cardinality.transform(X_train)\n",
        "    X_train = rare_encoder_ExCard_ward.transform(X_train)\n",
        "\n",
        "    # rare_enc_X_test = rare_encoder.transform(X_test)\n",
        "    X_test = rare_encoder_EXtreme_Cardinality.transform(X_test)\n",
        "    X_test = rare_encoder_ExCard_ward.transform(X_test)\n",
        "\n",
        "    #Fitting the Categorical encoders\n",
        "    wrapper = PolynomialWrapper(tar_enc)\n",
        "    X_train = wrapper.fit_transform(X_train, np.array(y_train))\n",
        "    X_test = wrapper.transform(X_test)\n",
        "  \n",
        "\n",
        "\n",
        "##Fitting Models:\n",
        "\n",
        "# Random Forest\n",
        "    rf_clf.fit(X_train, y_train)\n",
        "    y_pred_rf = rf_clf.predict(X_test)\n",
        "    rf_accuracy = metrics.accuracy_score(y_test, y_pred_rf)\n",
        "    mean_acc_rf += rf_accuracy\n",
        "    print(f'rf_Accuracy: {rf_accuracy, split+1}')\n",
        "\n",
        "# LightGBM\n",
        "    LightGBM_Clf.fit(X_train, y_train)\n",
        "    y_pred_LightGBM = LightGBM_Clf.predict(X_test)\n",
        "    LightGBM_accuracy = metrics.accuracy_score(y_test, y_pred_LightGBM)\n",
        "    mean_acc_lgbm += LightGBM_accuracy\n",
        "    print(f'LightGBM_accuracy: {LightGBM_accuracy, split+1}')\n",
        "\n",
        "#xgboost\n",
        "    xgboost_clf.fit(X_train, y_train)\n",
        "    y_pred_xgboost = xgboost_clf.predict(X_test)\n",
        "    xgboost_accuracy = metrics.accuracy_score(y_test, y_pred_xgboost)\n",
        "    mean_acc_xgb += xgboost_accuracy\n",
        "    print(f'xgboost_accuracy: {xgboost_accuracy, split+1}')\n",
        "\n",
        "#adaboost\n",
        "    # AdaBoost_clf.fit(X_train, y_train)\n",
        "    # y_pred_AdaBoost = AdaBoost_clf.predict(X_test)\n",
        "    # AdaBoostt_accuracy = metrics.accuracy_score(y_test, y_pred_AdaBoost)\n",
        "    # mean_acc_ada += AdaBoostt_accuracy\n",
        "    # print(f'AdaBoostt_accuracy: {AdaBoostt_accuracy, split+1}')\n",
        "\n",
        "\n",
        "\n",
        "\n",
        "    split +=1 \n",
        "\n",
        "print('Random Forest accuracy is' ,mean_acc_rf/n_splits)\n",
        "print('Light GBM accuracy is' ,mean_acc_lgbm/n_splits)\n",
        "print('XGBoost accuracy is' ,mean_acc_xgb/n_splits)\n",
        "# print('AdaBoosting accuracy is' ,mean_acc_ada/n_splits)\n",
        "\n",
        "\n",
        "print(classification_report(y_test, y_pred_rf))\n",
        "# Plot confusion matrix for random Forest\n",
        "fig, ax = plt.subplots(figsize=(8, 5))\n",
        "cmp = ConfusionMatrixDisplay(\n",
        "    confusion_matrix(y_test, y_pred_rf),\n",
        "    display_labels=[\"functional\", \"non_functional\", \"func_needs_repair\"],\n",
        ")\n",
        "\n",
        "cmp.plot(ax=ax)\n",
        "plt.show();\n",
        "\n",
        "\n",
        "print(classification_report(y_test, y_pred_LightGBM))\n",
        "# Plot confusion matrix for LightGBM\n",
        "fig, ax = plt.subplots(figsize=(8, 5))\n",
        "cmp = ConfusionMatrixDisplay(\n",
        "    confusion_matrix(y_test, y_pred_LightGBM),\n",
        "    display_labels=[\"functional\", \"non_functional\", \"func_needs_repair\"],\n",
        ")\n",
        "\n",
        "cmp.plot(ax=ax)\n",
        "plt.show();\n",
        "\n",
        "\n",
        "print(classification_report(y_test, y_pred_xgboost))\n",
        "# Plot confusion matrix for XGBoost\n",
        "fig, ax = plt.subplots(figsize=(8, 5))\n",
        "cmp = ConfusionMatrixDisplay(\n",
        "    confusion_matrix(y_test, y_pred_xgboost),\n",
        "    display_labels=[\"functional\", \"non_functional\", \"func_needs_repair\"],\n",
        ")\n",
        "\n",
        "cmp.plot(ax=ax)\n",
        "plt.show();\n",
        "\n",
        "\n",
        "# print(classification_report(y_test, y_pred_AdaBoost))\n",
        "# # Plot confusion matrix for AdaBoost\n",
        "# fig, ax = plt.subplots(figsize=(8, 5))\n",
        "# cmp = ConfusionMatrixDisplay(\n",
        "#     confusion_matrix(y_test, y_pred_AdaBoost),\n",
        "#     display_labels=[\"functional\", \"non_functional\", \"func_needs_repair\"],\n",
        "# )\n",
        "\n",
        "# cmp.plot(ax=ax)\n",
        "# plt.show();"
      ],
      "metadata": {
        "id": "CxqEQeY3AuG8",
        "colab": {
          "base_uri": "https://localhost:8080/",
          "height": 1000
        },
        "outputId": "55f88b36-8af6-4128-bf97-a0a3136be06d"
      },
      "execution_count": 662,
      "outputs": [
        {
          "output_type": "stream",
          "name": "stdout",
          "text": [
            ">>>rf_Accuracy: (0.8035353535353535, 1)\n",
            "LightGBM_accuracy: (0.8008417508417508, 1)\n",
            "xgboost_accuracy: (0.8064814814814815, 1)\n",
            ">>>rf_Accuracy: (0.8021043771043771, 2)\n",
            "LightGBM_accuracy: (0.8012626262626262, 2)\n",
            "xgboost_accuracy: (0.8081649831649832, 2)\n",
            ">>>rf_Accuracy: (0.8032828282828283, 3)\n",
            "LightGBM_accuracy: (0.8021885521885522, 3)\n",
            "xgboost_accuracy: (0.8111111111111111, 3)\n",
            ">>>rf_Accuracy: (0.8117845117845118, 4)\n",
            "LightGBM_accuracy: (0.8055555555555556, 4)\n",
            "xgboost_accuracy: (0.8132154882154882, 4)\n",
            ">>>rf_Accuracy: (0.809006734006734, 5)\n",
            "LightGBM_accuracy: (0.8046296296296296, 5)\n",
            "xgboost_accuracy: (0.8101010101010101, 5)\n",
            "Random Forest accuracy is 0.805942760942761\n",
            "Light GBM accuracy is 0.8028956228956229\n",
            "XGBoost accuracy is 0.8098148148148148\n",
            "              precision    recall  f1-score   support\n",
            "\n",
            "           0       0.81      0.88      0.85      6451\n",
            "           1       0.53      0.38      0.44       864\n",
            "           2       0.84      0.79      0.81      4565\n",
            "\n",
            "    accuracy                           0.81     11880\n",
            "   macro avg       0.73      0.68      0.70     11880\n",
            "weighted avg       0.80      0.81      0.80     11880\n",
            "\n"
          ]
        },
        {
          "output_type": "display_data",
          "data": {
            "text/plain": [
              "<Figure size 576x360 with 2 Axes>"
            ],
            "image/png": "[encoded data removed]"
          },
          "metadata": {
            "needs_background": "light"
          }
        },
        {
          "output_type": "stream",
          "name": "stdout",
          "text": [
            "              precision    recall  f1-score   support\n",
            "\n",
            "           0       0.81      0.88      0.84      6451\n",
            "           1       0.51      0.36      0.42       864\n",
            "           2       0.84      0.79      0.81      4565\n",
            "\n",
            "    accuracy                           0.80     11880\n",
            "   macro avg       0.72      0.68      0.69     11880\n",
            "weighted avg       0.80      0.80      0.80     11880\n",
            "\n"
          ]
        },
        {
          "output_type": "display_data",
          "data": {
            "text/plain": [
              "<Figure size 576x360 with 2 Axes>"
            ],
            "image/png": "[encoded data removed]"
          },
          "metadata": {
            "needs_background": "light"
          }
        },
        {
          "output_type": "stream",
          "name": "stdout",
          "text": [
            "              precision    recall  f1-score   support\n",
            "\n",
            "           0       0.80      0.90      0.85      6451\n",
            "           1       0.60      0.31      0.41       864\n",
            "           2       0.85      0.78      0.81      4565\n",
            "\n",
            "    accuracy                           0.81     11880\n",
            "   macro avg       0.75      0.66      0.69     11880\n",
            "weighted avg       0.80      0.81      0.80     11880\n",
            "\n"
          ]
        },
        {
          "output_type": "display_data",
          "data": {
            "text/plain": [
              "<Figure size 576x360 with 2 Axes>"
            ],
            "image/png": "[encoded data removed]"
          },
          "metadata": {
            "needs_background": "light"
          }
        }
      ]
    },
    {
      "cell_type": "markdown",
      "source": [
        "#5.2 Feature Engineering and Modeling within Cross Validation - CatBoost Encoding"
      ],
      "metadata": {
        "id": "lnAQDMFX4n6V"
      }
    },
    {
      "cell_type": "code",
      "source": [
        "# Use the results of any categorical encoding that you chose\n",
        "\n",
        "train = cb_train.copy()\n",
        "test = cb_test.copy()"
      ],
      "metadata": {
        "id": "S9PQD4RL4n6V"
      },
      "execution_count": 663,
      "outputs": []
    },
    {
      "cell_type": "code",
      "source": [
        "X = train.drop('status_group',axis=1)\n",
        "y = train.status_group"
      ],
      "metadata": {
        "id": "8zH2_woy4n6V"
      },
      "execution_count": 664,
      "outputs": []
    },
    {
      "cell_type": "code",
      "source": [
        "n_repeats =1\n",
        "n_splits = 5\n",
        "rskf = RepeatedStratifiedKFold(n_splits=n_splits, n_repeats = n_repeats, random_state=0)"
      ],
      "metadata": {
        "id": "XKD3oPXy4n6W"
      },
      "execution_count": 665,
      "outputs": []
    },
    {
      "cell_type": "code",
      "source": [
        "\n",
        "split = 0\n",
        "mean_acc_rf = 0\n",
        "mean_acc_lgbm = 0\n",
        "mean_acc_xgb = 0\n",
        "mean_acc_ada = 0\n",
        "\n",
        "for train_index, test_index in rskf.split(X, y):\n",
        "    \n",
        "    # Print a dot for each train / test partition\n",
        "    sys.stdout.write('>>>')\n",
        "    sys.stdout.flush()\n",
        "    \n",
        "    #Test & train split insode the CV\n",
        "    X_train, X_test = X.loc[train_index], X.loc[test_index]\n",
        "    y_train, y_test = y.loc[train_index], y.loc[test_index]\n",
        "\n",
        "    #Fitting the rare value encoders\n",
        "    # rare_encoder.fit(X_train)\n",
        "    rare_encoder_EXtreme_Cardinality.fit(X_train)\n",
        "    rare_encoder_ExCard_ward.fit(X_train)\n",
        "\n",
        "    # X_train = rare_encoder.transform(X_train)\n",
        "    X_train = rare_encoder_EXtreme_Cardinality.transform(X_train)\n",
        "    X_train = rare_encoder_ExCard_ward.transform(X_train)\n",
        "\n",
        "    # X_test = rare_encoder.transform(X_test)\n",
        "    X_test = rare_encoder_EXtreme_Cardinality.transform(X_test)\n",
        "    X_test = rare_encoder_ExCard_ward.transform(X_test)\n",
        "\n",
        "    #Fitting the Categorical encoders\n",
        "    wrapper = PolynomialWrapper(cb_enc)\n",
        "    X_train = wrapper.fit_transform(X_train, np.array(y_train))\n",
        "    X_test = wrapper.transform(X_test)\n",
        "\n",
        "\n",
        "##Fitting Models:\n",
        "\n",
        "# Random Forest\n",
        "    rf_clf.fit(X_train, y_train)\n",
        "    y_pred_rf = rf_clf.predict(X_test)\n",
        "    rf_accuracy = metrics.accuracy_score(y_test, y_pred_rf)\n",
        "    mean_acc_rf += rf_accuracy\n",
        "    print(f'rf_Accuracy: {rf_accuracy, split+1}')\n",
        "\n",
        "# LightGBM\n",
        "    LightGBM_Clf.fit(X_train, y_train)\n",
        "    y_pred_LightGBM = LightGBM_Clf.predict(X_test)\n",
        "    LightGBM_accuracy = metrics.accuracy_score(y_test, y_pred_LightGBM)\n",
        "    mean_acc_lgbm += LightGBM_accuracy\n",
        "    print(f'LightGBM_accuracy: {LightGBM_accuracy, split+1}')\n",
        "\n",
        "#xgboost\n",
        "    xgboost_clf.fit(X_train, y_train)\n",
        "    y_pred_xgboost = xgboost_clf.predict(X_test)\n",
        "    xgboost_accuracy = metrics.accuracy_score(y_test, y_pred_xgboost)\n",
        "    mean_acc_xgb += xgboost_accuracy\n",
        "    print(f'xgboost_accuracy: {xgboost_accuracy, split+1}')\n",
        "\n",
        "#adaboost\n",
        "    # AdaBoost_clf.fit(X_train, y_train)\n",
        "    # y_pred_rf = rf_clf.predict(X_test)\n",
        "    # AdaBoostt_accuracy = metrics.accuracy_score(y_test, y_pred_rf)\n",
        "    # mean_acc_ada += AdaBoostt_accuracy\n",
        "    # print(f'AdaBoostt_accuracy: {AdaBoostt_accuracy, split+1}')\n",
        "\n",
        "    split +=1 \n",
        "\n",
        "print('Random Forest accuracy is' ,mean_acc_rf/n_splits)\n",
        "print('Light GBM accuracy is' ,mean_acc_lgbm/n_splits)\n",
        "print('XGBoost accuracy is' ,mean_acc_xgb/n_splits)\n",
        "# print('AdaBoosting accuracy is' ,mean_acc_ada/n_splits)\n",
        "\n",
        "\n",
        "print(classification_report(y_test, y_pred_rf))\n",
        "# Plot confusion matrix for random Forest\n",
        "fig, ax = plt.subplots(figsize=(8, 5))\n",
        "cmp = ConfusionMatrixDisplay(\n",
        "    confusion_matrix(y_test, y_pred_rf),\n",
        "    display_labels=[\"functional\", \"non_functional\", \"func_needs_repair\"],\n",
        ")\n",
        "\n",
        "cmp.plot(ax=ax)\n",
        "plt.show();\n",
        "\n",
        "\n",
        "print(classification_report(y_test, y_pred_LightGBM))\n",
        "# Plot confusion matrix for LightGBM\n",
        "fig, ax = plt.subplots(figsize=(8, 5))\n",
        "cmp = ConfusionMatrixDisplay(\n",
        "    confusion_matrix(y_test, y_pred_LightGBM),\n",
        "    display_labels=[\"functional\", \"non_functional\", \"func_needs_repair\"],\n",
        ")\n",
        "\n",
        "cmp.plot(ax=ax)\n",
        "plt.show();\n",
        "\n",
        "\n",
        "print(classification_report(y_test, y_pred_xgboost))\n",
        "# Plot confusion matrix for XGBoost\n",
        "fig, ax = plt.subplots(figsize=(8, 5))\n",
        "cmp = ConfusionMatrixDisplay(\n",
        "    confusion_matrix(y_test, y_pred_xgboost),\n",
        "    display_labels=[\"functional\", \"non_functional\", \"func_needs_repair\"],\n",
        ")\n",
        "\n",
        "cmp.plot(ax=ax)\n",
        "plt.show();\n",
        "\n",
        "\n",
        "# print(classification_report(y_test, y_pred_AdaBoost))\n",
        "# # Plot confusion matrix for AdaBoost\n",
        "# fig, ax = plt.subplots(figsize=(8, 5))\n",
        "# cmp = ConfusionMatrixDisplay(\n",
        "#     confusion_matrix(y_test, y_pred_AdaBoost),\n",
        "#     display_labels=[\"functional\", \"non_functional\", \"func_needs_repair\"],\n",
        "# )\n",
        "\n",
        "# cmp.plot(ax=ax)\n",
        "# plt.show();"
      ],
      "metadata": {
        "id": "m75gumcz4n6W",
        "colab": {
          "base_uri": "https://localhost:8080/",
          "height": 1000
        },
        "outputId": "0a3aaa79-00b9-4df9-cb70-59124c1b2ff0"
      },
      "execution_count": 666,
      "outputs": [
        {
          "output_type": "stream",
          "name": "stdout",
          "text": [
            ">>>rf_Accuracy: (0.7882996632996633, 1)\n",
            "LightGBM_accuracy: (0.7843434343434343, 1)\n",
            "xgboost_accuracy: (0.7870370370370371, 1)\n",
            ">>>rf_Accuracy: (0.7888888888888889, 2)\n",
            "LightGBM_accuracy: (0.7895622895622896, 2)\n",
            "xgboost_accuracy: (0.7897306397306397, 2)\n",
            ">>>rf_Accuracy: (0.7940235690235691, 3)\n",
            "LightGBM_accuracy: (0.7930976430976431, 3)\n",
            "xgboost_accuracy: (0.796043771043771, 3)\n",
            ">>>rf_Accuracy: (0.786952861952862, 4)\n",
            "LightGBM_accuracy: (0.7926767676767676, 4)\n",
            "xgboost_accuracy: (0.7839225589225589, 4)\n",
            ">>>rf_Accuracy: (0.7894781144781144, 5)\n",
            "LightGBM_accuracy: (0.7906565656565656, 5)\n",
            "xgboost_accuracy: (0.7877946127946128, 5)\n",
            "Random Forest accuracy is 0.7895286195286195\n",
            "Light GBM accuracy is 0.7900673400673399\n",
            "XGBoost accuracy is 0.7889057239057239\n",
            "              precision    recall  f1-score   support\n",
            "\n",
            "           0       0.77      0.92      0.83      6451\n",
            "           1       0.69      0.22      0.33       864\n",
            "           2       0.84      0.72      0.78      4565\n",
            "\n",
            "    accuracy                           0.79     11880\n",
            "   macro avg       0.77      0.62      0.65     11880\n",
            "weighted avg       0.79      0.79      0.78     11880\n",
            "\n"
          ]
        },
        {
          "output_type": "display_data",
          "data": {
            "text/plain": [
              "<Figure size 576x360 with 2 Axes>"
            ],
            "image/png": "[encoded data removed]"
          },
          "metadata": {
            "needs_background": "light"
          }
        },
        {
          "output_type": "stream",
          "name": "stdout",
          "text": [
            "              precision    recall  f1-score   support\n",
            "\n",
            "           0       0.77      0.91      0.83      6451\n",
            "           1       0.71      0.20      0.32       864\n",
            "           2       0.83      0.74      0.78      4565\n",
            "\n",
            "    accuracy                           0.79     11880\n",
            "   macro avg       0.77      0.62      0.64     11880\n",
            "weighted avg       0.79      0.79      0.78     11880\n",
            "\n"
          ]
        },
        {
          "output_type": "display_data",
          "data": {
            "text/plain": [
              "<Figure size 576x360 with 2 Axes>"
            ],
            "image/png": "[encoded data removed]"
          },
          "metadata": {
            "needs_background": "light"
          }
        },
        {
          "output_type": "stream",
          "name": "stdout",
          "text": [
            "              precision    recall  f1-score   support\n",
            "\n",
            "           0       0.76      0.92      0.83      6451\n",
            "           1       0.72      0.18      0.29       864\n",
            "           2       0.85      0.71      0.77      4565\n",
            "\n",
            "    accuracy                           0.79     11880\n",
            "   macro avg       0.78      0.61      0.63     11880\n",
            "weighted avg       0.79      0.79      0.77     11880\n",
            "\n"
          ]
        },
        {
          "output_type": "display_data",
          "data": {
            "text/plain": [
              "<Figure size 576x360 with 2 Axes>"
            ],
            "image/png": "[encoded data removed]"
          },
          "metadata": {
            "needs_background": "light"
          }
        }
      ]
    },
    {
      "cell_type": "markdown",
      "source": [
        "#5.4 Feature Engineering and Modeling within Cross Validation - LeaveOneOut Encoding"
      ],
      "metadata": {
        "id": "C80gsQwXEaUe"
      }
    },
    {
      "cell_type": "code",
      "source": [
        "# Use the results of any categorical encoding that you chose\n",
        "\n",
        "train = loo_train.copy()\n",
        "test = loo_test.copy()"
      ],
      "metadata": {
        "id": "bLOpOS3SEaUg"
      },
      "execution_count": 667,
      "outputs": []
    },
    {
      "cell_type": "code",
      "source": [
        "X = train.drop('status_group',axis=1)\n",
        "y = train.status_group"
      ],
      "metadata": {
        "id": "KDCZUgeaEaUh"
      },
      "execution_count": 668,
      "outputs": []
    },
    {
      "cell_type": "code",
      "source": [
        "n_repeats =1\n",
        "n_splits = 5\n",
        "rskf = RepeatedStratifiedKFold(n_splits=n_splits, n_repeats = n_repeats, random_state=0)"
      ],
      "metadata": {
        "id": "0NYvSWTOEaUh"
      },
      "execution_count": 669,
      "outputs": []
    },
    {
      "cell_type": "code",
      "source": [
        "\n",
        "split = 0\n",
        "mean_acc_rf = 0\n",
        "mean_acc_lgbm = 0\n",
        "mean_acc_xgb = 0\n",
        "mean_acc_ada = 0\n",
        "\n",
        "for train_index, test_index in rskf.split(X, y):\n",
        "    \n",
        "    # Print a dot for each train / test partition\n",
        "    sys.stdout.write('>>>')\n",
        "    sys.stdout.flush()\n",
        "    \n",
        "    #Test & train split insode the CV\n",
        "    X_train, X_test = X.loc[train_index], X.loc[test_index]\n",
        "    y_train, y_test = y.loc[train_index], y.loc[test_index]\n",
        "\n",
        "    #Fitting the rare value encoders\n",
        "    # rare_encoder.fit(X_test)\n",
        "    rare_encoder_EXtreme_Cardinality.fit(X_train)\n",
        "    rare_encoder_ExCard_ward.fit(X_train)\n",
        "\n",
        "    # X_test = rare_encoder.transform(X_train)\n",
        "    X_test = rare_encoder_EXtreme_Cardinality.transform(X_test)\n",
        "    X_test = rare_encoder_ExCard_ward.transform(X_test)\n",
        "\n",
        "    # X_test = rare_encoder.transform(X_test)\n",
        "    X_test = rare_encoder_EXtreme_Cardinality.transform(X_test)\n",
        "    X_test = rare_encoder_ExCard_ward.transform(X_test)\n",
        "\n",
        "    #Fitting the Categorical encoders\n",
        "    wrapper = PolynomialWrapper(loo_enc)\n",
        "    X_train = wrapper.fit_transform(X_train, np.array(y_train))\n",
        "    X_test = wrapper.transform(X_test)\n",
        "\n",
        "\n",
        "##Fitting Models:\n",
        "\n",
        "# Random Forest\n",
        "    rf_clf.fit(X_train, y_train)\n",
        "    y_pred_rf = rf_clf.predict(X_test)\n",
        "    rf_accuracy = metrics.accuracy_score(y_test, y_pred_rf)\n",
        "    mean_acc_rf += rf_accuracy\n",
        "    print(f'rf_Accuracy: {rf_accuracy, split+1}')\n",
        "\n",
        "# LightGBM\n",
        "    LightGBM_Clf.fit(X_train, y_train)\n",
        "    y_pred_LightGBM = LightGBM_Clf.predict(X_test)\n",
        "    LightGBM_accuracy = metrics.accuracy_score(y_test, y_pred_LightGBM)\n",
        "    mean_acc_lgbm += LightGBM_accuracy\n",
        "    print(f'LightGBM_accuracy: {LightGBM_accuracy, split+1}')\n",
        "\n",
        "#xgboost\n",
        "    xgboost_clf.fit(X_train, y_train)\n",
        "    y_pred_xgboost = xgboost_clf.predict(X_test)\n",
        "    xgboost_accuracy = metrics.accuracy_score(y_test, y_pred_xgboost)\n",
        "    mean_acc_xgb += xgboost_accuracy\n",
        "    print(f'xgboost_accuracy: {xgboost_accuracy, split+1}')\n",
        "\n",
        "#adaboost\n",
        "    # AdaBoost_clf.fit(X_train, y_train)\n",
        "    # y_pred_rf = rf_clf.predict(X_test)\n",
        "    # AdaBoostt_accuracy = metrics.accuracy_score(y_test, y_pred_rf)\n",
        "    # mean_acc_ada += AdaBoostt_accuracy\n",
        "    # print(f'AdaBoostt_accuracy: {AdaBoostt_accuracy, split+1}')\n",
        "\n",
        "    split +=1 \n",
        "\n",
        "print('Random Forest accuracy is' ,mean_acc_rf/n_splits)\n",
        "print('Light GBM accuracy is' ,mean_acc_lgbm/n_splits)\n",
        "print('XGBoost accuracy is' ,mean_acc_xgb/n_splits)\n",
        "# print('AdaBoosting accuracy is' ,mean_acc_ada/n_splits)\n",
        "\n",
        "\n",
        "\n",
        "print(classification_report(y_test, y_pred_rf))\n",
        "# Plot confusion matrix for random Forest\n",
        "fig, ax = plt.subplots(figsize=(8, 5))\n",
        "cmp = ConfusionMatrixDisplay(\n",
        "    confusion_matrix(y_test, y_pred_rf),\n",
        "    display_labels=[\"functional\", \"non_functional\", \"func_needs_repair\"],\n",
        ")\n",
        "\n",
        "cmp.plot(ax=ax)\n",
        "plt.show();\n",
        "\n",
        "\n",
        "print(classification_report(y_test, y_pred_LightGBM))\n",
        "# Plot confusion matrix for LightGBM\n",
        "fig, ax = plt.subplots(figsize=(8, 5))\n",
        "cmp = ConfusionMatrixDisplay(\n",
        "    confusion_matrix(y_test, y_pred_LightGBM),\n",
        "    display_labels=[\"functional\", \"non_functional\", \"func_needs_repair\"],\n",
        ")\n",
        "\n",
        "cmp.plot(ax=ax)\n",
        "plt.show();\n",
        "\n",
        "\n",
        "print(classification_report(y_test, y_pred_xgboost))\n",
        "# Plot confusion matrix for XGBoost\n",
        "fig, ax = plt.subplots(figsize=(8, 5))\n",
        "cmp = ConfusionMatrixDisplay(\n",
        "    confusion_matrix(y_test, y_pred_xgboost),\n",
        "    display_labels=[\"functional\", \"non_functional\", \"func_needs_repair\"],\n",
        ")\n",
        "\n",
        "cmp.plot(ax=ax)\n",
        "plt.show();\n",
        "\n",
        "\n",
        "# print(classification_report(y_test, y_pred_AdaBoost))\n",
        "# # Plot confusion matrix for AdaBoost\n",
        "# fig, ax = plt.subplots(figsize=(8, 5))\n",
        "# cmp = ConfusionMatrixDisplay(\n",
        "#     confusion_matrix(y_test, y_pred_AdaBoost),\n",
        "#     display_labels=[\"functional\", \"non_functional\", \"func_needs_repair\"],\n",
        "# )\n",
        "\n",
        "# cmp.plot(ax=ax)\n",
        "# plt.show();"
      ],
      "metadata": {
        "id": "KiUsRHi5EaUi",
        "colab": {
          "base_uri": "https://localhost:8080/",
          "height": 1000
        },
        "outputId": "31d6fbf1-60c8-41cb-8fa6-ace5c13e6fe6"
      },
      "execution_count": 670,
      "outputs": [
        {
          "output_type": "stream",
          "name": "stdout",
          "text": [
            ">>>rf_Accuracy: (0.5476430976430976, 1)\n",
            "LightGBM_accuracy: (0.5458754208754208, 1)\n",
            "xgboost_accuracy: (0.5541245791245791, 1)\n",
            ">>>rf_Accuracy: (0.5492424242424242, 2)\n",
            "LightGBM_accuracy: (0.546043771043771, 2)\n",
            "xgboost_accuracy: (0.5512626262626262, 2)\n",
            ">>>rf_Accuracy: (0.5489057239057239, 3)\n",
            "LightGBM_accuracy: (0.5484848484848485, 3)\n",
            "xgboost_accuracy: (0.5537037037037037, 3)\n",
            ">>>rf_Accuracy: (0.5505892255892256, 4)\n",
            "LightGBM_accuracy: (0.546043771043771, 4)\n",
            "xgboost_accuracy: (0.553956228956229, 4)\n",
            ">>>rf_Accuracy: (0.548989898989899, 5)\n",
            "LightGBM_accuracy: (0.546969696969697, 5)\n",
            "xgboost_accuracy: (0.5527777777777778, 5)\n",
            "Random Forest accuracy is 0.549074074074074\n",
            "Light GBM accuracy is 0.5466835016835017\n",
            "XGBoost accuracy is 0.5531649831649832\n",
            "              precision    recall  f1-score   support\n",
            "\n",
            "           0       0.55      1.00      0.71      6451\n",
            "           1       0.00      0.00      0.00       864\n",
            "           2       0.85      0.02      0.04      4565\n",
            "\n",
            "    accuracy                           0.55     11880\n",
            "   macro avg       0.46      0.34      0.25     11880\n",
            "weighted avg       0.62      0.55      0.40     11880\n",
            "\n"
          ]
        },
        {
          "output_type": "stream",
          "name": "stderr",
          "text": [
            "/usr/local/lib/python3.8/dist-packages/sklearn/metrics/_classification.py:1318: UndefinedMetricWarning: Precision and F-score are ill-defined and being set to 0.0 in labels with no predicted samples. Use `zero_division` parameter to control this behavior.\n",
            "  _warn_prf(average, modifier, msg_start, len(result))\n",
            "/usr/local/lib/python3.8/dist-packages/sklearn/metrics/_classification.py:1318: UndefinedMetricWarning: Precision and F-score are ill-defined and being set to 0.0 in labels with no predicted samples. Use `zero_division` parameter to control this behavior.\n",
            "  _warn_prf(average, modifier, msg_start, len(result))\n",
            "/usr/local/lib/python3.8/dist-packages/sklearn/metrics/_classification.py:1318: UndefinedMetricWarning: Precision and F-score are ill-defined and being set to 0.0 in labels with no predicted samples. Use `zero_division` parameter to control this behavior.\n",
            "  _warn_prf(average, modifier, msg_start, len(result))\n"
          ]
        },
        {
          "output_type": "display_data",
          "data": {
            "text/plain": [
              "<Figure size 576x360 with 2 Axes>"
            ],
            "image/png": "[encoded data removed]"
          },
          "metadata": {
            "needs_background": "light"
          }
        },
        {
          "output_type": "stream",
          "name": "stderr",
          "text": [
            "/usr/local/lib/python3.8/dist-packages/sklearn/metrics/_classification.py:1318: UndefinedMetricWarning: Precision and F-score are ill-defined and being set to 0.0 in labels with no predicted samples. Use `zero_division` parameter to control this behavior.\n",
            "  _warn_prf(average, modifier, msg_start, len(result))\n",
            "/usr/local/lib/python3.8/dist-packages/sklearn/metrics/_classification.py:1318: UndefinedMetricWarning: Precision and F-score are ill-defined and being set to 0.0 in labels with no predicted samples. Use `zero_division` parameter to control this behavior.\n",
            "  _warn_prf(average, modifier, msg_start, len(result))\n",
            "/usr/local/lib/python3.8/dist-packages/sklearn/metrics/_classification.py:1318: UndefinedMetricWarning: Precision and F-score are ill-defined and being set to 0.0 in labels with no predicted samples. Use `zero_division` parameter to control this behavior.\n",
            "  _warn_prf(average, modifier, msg_start, len(result))\n"
          ]
        },
        {
          "output_type": "stream",
          "name": "stdout",
          "text": [
            "              precision    recall  f1-score   support\n",
            "\n",
            "           0       0.55      1.00      0.71      6451\n",
            "           1       0.00      0.00      0.00       864\n",
            "           2       0.75      0.01      0.03      4565\n",
            "\n",
            "    accuracy                           0.55     11880\n",
            "   macro avg       0.43      0.34      0.24     11880\n",
            "weighted avg       0.59      0.55      0.39     11880\n",
            "\n"
          ]
        },
        {
          "output_type": "display_data",
          "data": {
            "text/plain": [
              "<Figure size 576x360 with 2 Axes>"
            ],
            "image/png": "[encoded data removed]"
          },
          "metadata": {
            "needs_background": "light"
          }
        },
        {
          "output_type": "stream",
          "name": "stderr",
          "text": [
            "/usr/local/lib/python3.8/dist-packages/sklearn/metrics/_classification.py:1318: UndefinedMetricWarning: Precision and F-score are ill-defined and being set to 0.0 in labels with no predicted samples. Use `zero_division` parameter to control this behavior.\n",
            "  _warn_prf(average, modifier, msg_start, len(result))\n",
            "/usr/local/lib/python3.8/dist-packages/sklearn/metrics/_classification.py:1318: UndefinedMetricWarning: Precision and F-score are ill-defined and being set to 0.0 in labels with no predicted samples. Use `zero_division` parameter to control this behavior.\n",
            "  _warn_prf(average, modifier, msg_start, len(result))\n",
            "/usr/local/lib/python3.8/dist-packages/sklearn/metrics/_classification.py:1318: UndefinedMetricWarning: Precision and F-score are ill-defined and being set to 0.0 in labels with no predicted samples. Use `zero_division` parameter to control this behavior.\n",
            "  _warn_prf(average, modifier, msg_start, len(result))\n"
          ]
        },
        {
          "output_type": "stream",
          "name": "stdout",
          "text": [
            "              precision    recall  f1-score   support\n",
            "\n",
            "           0       0.55      1.00      0.71      6451\n",
            "           1       0.00      0.00      0.00       864\n",
            "           2       0.95      0.03      0.05      4565\n",
            "\n",
            "    accuracy                           0.55     11880\n",
            "   macro avg       0.50      0.34      0.25     11880\n",
            "weighted avg       0.66      0.55      0.40     11880\n",
            "\n"
          ]
        },
        {
          "output_type": "display_data",
          "data": {
            "text/plain": [
              "<Figure size 576x360 with 2 Axes>"
            ],
            "image/png": "[encoded data removed]"
          },
          "metadata": {
            "needs_background": "light"
          }
        }
      ]
    },
    {
      "cell_type": "markdown",
      "source": [
        "#5.5 Feature Engineering and Modeling within Cross Validation - MEstimate Encoding"
      ],
      "metadata": {
        "id": "1u43_2aIGhKv"
      }
    },
    {
      "cell_type": "code",
      "source": [
        "# Use the results of any categorical encoding that you chose\n",
        "\n",
        "train = loo_train.copy()\n",
        "test = loo_test.copy()"
      ],
      "metadata": {
        "id": "IGQQcfB6GhKy"
      },
      "execution_count": 671,
      "outputs": []
    },
    {
      "cell_type": "code",
      "source": [
        "X = train.drop('status_group',axis=1)\n",
        "y = train.status_group"
      ],
      "metadata": {
        "id": "j4j2_0j9GhK0"
      },
      "execution_count": 672,
      "outputs": []
    },
    {
      "cell_type": "code",
      "source": [
        "n_repeats =1\n",
        "n_splits = 5\n",
        "rskf = RepeatedStratifiedKFold(n_splits=n_splits, n_repeats = n_repeats, random_state=0)"
      ],
      "metadata": {
        "id": "_QW0M5v1GhK1"
      },
      "execution_count": 673,
      "outputs": []
    },
    {
      "cell_type": "code",
      "source": [
        "\n",
        "split = 0\n",
        "mean_acc_rf = 0\n",
        "mean_acc_lgbm = 0\n",
        "mean_acc_xgb = 0\n",
        "mean_acc_ada = 0\n",
        "\n",
        "for train_index, test_index in rskf.split(X, y):\n",
        "    \n",
        "    # Print a dot for each train / test partition\n",
        "    sys.stdout.write('>>>')\n",
        "    sys.stdout.flush()\n",
        "    \n",
        "    #Test & train split insode the CV\n",
        "    X_train, X_test = X.loc[train_index], X.loc[test_index]\n",
        "    y_train, y_test = y.loc[train_index], y.loc[test_index]\n",
        "\n",
        "    #Fitting the rare value encoders\n",
        "    # rare_encoder.fit(X_train)\n",
        "    rare_encoder_EXtreme_Cardinality.fit(X_train)\n",
        "    rare_encoder_ExCard_ward.fit(X_train)\n",
        "\n",
        "    # X_train = rare_encoder.transform(X_train)\n",
        "    X_train = rare_encoder_EXtreme_Cardinality.transform(X_train)\n",
        "    X_train = rare_encoder_ExCard_ward.transform(X_train)\n",
        "\n",
        "    # X_test = rare_encoder.transform(X_test)\n",
        "    X_test = rare_encoder_EXtreme_Cardinality.transform(X_test)\n",
        "    X_test = rare_encoder_ExCard_ward.transform(X_test)\n",
        "\n",
        "    #Fitting the Categorical encoders\n",
        "    wrapper = PolynomialWrapper(me_enc)\n",
        "    X_train = wrapper.fit_transform(X_train, np.array(y_train))\n",
        "    X_test = wrapper.transform(X_test)\n",
        "\n",
        "\n",
        "##Fitting Models:\n",
        "\n",
        "# Random Forest\n",
        "    rf_clf.fit(X_train, y_train)\n",
        "    y_pred_rf = rf_clf.predict(X_test)\n",
        "    rf_accuracy = metrics.accuracy_score(y_test, y_pred_rf)\n",
        "    mean_acc_rf += rf_accuracy\n",
        "    print(f'rf_Accuracy: {rf_accuracy, split+1}')\n",
        "\n",
        "# LightGBM\n",
        "    LightGBM_Clf.fit(X_train, y_train)\n",
        "    y_pred_LightGBM = LightGBM_Clf.predict(X_test)\n",
        "    LightGBM_accuracy = metrics.accuracy_score(y_test, y_pred_LightGBM)\n",
        "    mean_acc_lgbm += LightGBM_accuracy\n",
        "    print(f'LightGBM_accuracy: {LightGBM_accuracy, split+1}')\n",
        "\n",
        "#xgboost\n",
        "    xgboost_clf.fit(X_train, y_train)\n",
        "    y_pred_xgboost = xgboost_clf.predict(X_test)\n",
        "    xgboost_accuracy = metrics.accuracy_score(y_test, y_pred_xgboost)\n",
        "    mean_acc_xgb += xgboost_accuracy\n",
        "    print(f'xgboost_accuracy: {xgboost_accuracy, split+1}')\n",
        "\n",
        "#adaboost\n",
        "    # AdaBoost_clf.fit(X_train, y_train)\n",
        "    # y_pred_rf = rf_clf.predict(X_test)\n",
        "    # AdaBoostt_accuracy = metrics.accuracy_score(y_test, y_pred_rf)\n",
        "    # mean_acc_ada += AdaBoostt_accuracy\n",
        "    # print(f'AdaBoostt_accuracy: {AdaBoostt_accuracy, split+1}')\n",
        "\n",
        "    split +=1 \n",
        "\n",
        "print('Random Forest accuracy is' ,mean_acc_rf/n_splits)\n",
        "print('Light GBM accuracy is' ,mean_acc_lgbm/n_splits)\n",
        "print('XGBoost accuracy is' ,mean_acc_xgb/n_splits)\n",
        "# print('AdaBoosting accuracy is' ,mean_acc_ada/n_splits)\n",
        "\n",
        "\n",
        "print(classification_report(y_test, y_pred_rf))\n",
        "# Plot confusion matrix for random Forest\n",
        "fig, ax = plt.subplots(figsize=(8, 5))\n",
        "cmp = ConfusionMatrixDisplay(\n",
        "    confusion_matrix(y_test, y_pred_rf),\n",
        "    display_labels=[\"functional\", \"non_functional\", \"func_needs_repair\"],\n",
        ")\n",
        "\n",
        "cmp.plot(ax=ax)\n",
        "plt.show();\n",
        "\n",
        "\n",
        "print(classification_report(y_test, y_pred_LightGBM))\n",
        "# Plot confusion matrix for LightGBM\n",
        "fig, ax = plt.subplots(figsize=(8, 5))\n",
        "cmp = ConfusionMatrixDisplay(\n",
        "    confusion_matrix(y_test, y_pred_LightGBM),\n",
        "    display_labels=[\"functional\", \"non_functional\", \"func_needs_repair\"],\n",
        ")\n",
        "\n",
        "cmp.plot(ax=ax)\n",
        "plt.show();\n",
        "\n",
        "\n",
        "print(classification_report(y_test, y_pred_xgboost))\n",
        "# Plot confusion matrix for XGBoost\n",
        "fig, ax = plt.subplots(figsize=(8, 5))\n",
        "cmp = ConfusionMatrixDisplay(\n",
        "    confusion_matrix(y_test, y_pred_xgboost),\n",
        "    display_labels=[\"functional\", \"non_functional\", \"func_needs_repair\"],\n",
        ")\n",
        "\n",
        "cmp.plot(ax=ax)\n",
        "plt.show();\n",
        "\n",
        "\n",
        "# print(classification_report(y_test, y_pred_AdaBoost))\n",
        "# # Plot confusion matrix for AdaBoost\n",
        "# fig, ax = plt.subplots(figsize=(8, 5))\n",
        "# cmp = ConfusionMatrixDisplay(\n",
        "#     confusion_matrix(y_test, y_pred_AdaBoost),\n",
        "#     display_labels=[\"functional\", \"non_functional\", \"func_needs_repair\"],\n",
        "# )\n",
        "\n",
        "# cmp.plot(ax=ax)\n",
        "# plt.show();"
      ],
      "metadata": {
        "id": "u6HV3j1uGhK3",
        "colab": {
          "base_uri": "https://localhost:8080/",
          "height": 1000
        },
        "outputId": "2f444a1b-20c1-480b-af53-2e45768a1670"
      },
      "execution_count": 674,
      "outputs": [
        {
          "output_type": "stream",
          "name": "stdout",
          "text": [
            ">>>rf_Accuracy: (0.80993265993266, 1)\n",
            "LightGBM_accuracy: (0.8041245791245791, 1)\n",
            "xgboost_accuracy: (0.8128787878787879, 1)\n",
            ">>>rf_Accuracy: (0.8042929292929293, 2)\n",
            "LightGBM_accuracy: (0.8015993265993266, 2)\n",
            "xgboost_accuracy: (0.8092592592592592, 2)\n",
            ">>>rf_Accuracy: (0.8101010101010101, 3)\n",
            "LightGBM_accuracy: (0.8053030303030303, 3)\n",
            "xgboost_accuracy: (0.8133838383838384, 3)\n",
            ">>>rf_Accuracy: (0.80993265993266, 4)\n",
            "LightGBM_accuracy: (0.8045454545454546, 4)\n",
            "xgboost_accuracy: (0.8106902356902357, 4)\n",
            ">>>rf_Accuracy: (0.8101010101010101, 5)\n",
            "LightGBM_accuracy: (0.8067340067340067, 5)\n",
            "xgboost_accuracy: (0.8142255892255892, 5)\n",
            "Random Forest accuracy is 0.8088720538720539\n",
            "Light GBM accuracy is 0.8044612794612795\n",
            "XGBoost accuracy is 0.8120875420875422\n",
            "              precision    recall  f1-score   support\n",
            "\n",
            "           0       0.81      0.89      0.85      6451\n",
            "           1       0.55      0.37      0.44       864\n",
            "           2       0.84      0.79      0.81      4565\n",
            "\n",
            "    accuracy                           0.81     11880\n",
            "   macro avg       0.73      0.68      0.70     11880\n",
            "weighted avg       0.80      0.81      0.80     11880\n",
            "\n"
          ]
        },
        {
          "output_type": "display_data",
          "data": {
            "text/plain": [
              "<Figure size 576x360 with 2 Axes>"
            ],
            "image/png": "[encoded data removed]"
          },
          "metadata": {
            "needs_background": "light"
          }
        },
        {
          "output_type": "stream",
          "name": "stdout",
          "text": [
            "              precision    recall  f1-score   support\n",
            "\n",
            "           0       0.81      0.88      0.85      6451\n",
            "           1       0.53      0.35      0.42       864\n",
            "           2       0.83      0.79      0.81      4565\n",
            "\n",
            "    accuracy                           0.81     11880\n",
            "   macro avg       0.73      0.67      0.69     11880\n",
            "weighted avg       0.80      0.81      0.80     11880\n",
            "\n"
          ]
        },
        {
          "output_type": "display_data",
          "data": {
            "text/plain": [
              "<Figure size 576x360 with 2 Axes>"
            ],
            "image/png": "[encoded data removed]"
          },
          "metadata": {
            "needs_background": "light"
          }
        },
        {
          "output_type": "stream",
          "name": "stdout",
          "text": [
            "              precision    recall  f1-score   support\n",
            "\n",
            "           0       0.80      0.91      0.85      6451\n",
            "           1       0.65      0.32      0.43       864\n",
            "           2       0.85      0.77      0.81      4565\n",
            "\n",
            "    accuracy                           0.81     11880\n",
            "   macro avg       0.77      0.67      0.70     11880\n",
            "weighted avg       0.81      0.81      0.81     11880\n",
            "\n"
          ]
        },
        {
          "output_type": "display_data",
          "data": {
            "text/plain": [
              "<Figure size 576x360 with 2 Axes>"
            ],
            "image/png": "[encoded data removed]"
          },
          "metadata": {
            "needs_background": "light"
          }
        }
      ]
    },
    {
      "cell_type": "markdown",
      "source": [
        "#5.5 Feature Engineering and Modeling within Cross Validation - James-Stein Encoding"
      ],
      "metadata": {
        "id": "sh0K-jbOHh2g"
      }
    },
    {
      "cell_type": "code",
      "source": [
        "# Use the results of any categorical encoding that you chose\n",
        "\n",
        "train = js_train.copy()\n",
        "test = js_test.copy()"
      ],
      "metadata": {
        "id": "QSHyO0LZHh2i"
      },
      "execution_count": 675,
      "outputs": []
    },
    {
      "cell_type": "code",
      "source": [
        "X = train.drop('status_group',axis=1)\n",
        "y = train.status_group"
      ],
      "metadata": {
        "id": "rE9snRasHh2j"
      },
      "execution_count": 676,
      "outputs": []
    },
    {
      "cell_type": "code",
      "source": [
        "n_repeats =1\n",
        "n_splits = 5\n",
        "rskf = RepeatedStratifiedKFold(n_splits=n_splits, n_repeats = n_repeats, random_state=0)"
      ],
      "metadata": {
        "id": "3rvB217rHh2j"
      },
      "execution_count": 677,
      "outputs": []
    },
    {
      "cell_type": "code",
      "source": [
        "\n",
        "split = 0\n",
        "mean_acc_rf = 0\n",
        "mean_acc_lgbm = 0\n",
        "mean_acc_xgb = 0\n",
        "mean_acc_ada = 0\n",
        "\n",
        "for train_index, test_index in rskf.split(X, y):\n",
        "    \n",
        "    # Print a dot for each train / test partition\n",
        "    sys.stdout.write('>>>')\n",
        "    sys.stdout.flush()\n",
        "    \n",
        "    #Test & train split insode the CV\n",
        "    X_train, X_test = X.loc[train_index], X.loc[test_index]\n",
        "    y_train, y_test = y.loc[train_index], y.loc[test_index]\n",
        "\n",
        "    #Fitting the rare value encoders\n",
        "    # rare_encoder.fit(X_train)\n",
        "    rare_encoder_EXtreme_Cardinality.fit(X_train)\n",
        "    rare_encoder_ExCard_ward.fit(X_train)\n",
        "\n",
        "    # X_train = rare_encoder.transform(X_train)\n",
        "    X_train = rare_encoder_EXtreme_Cardinality.transform(X_train)\n",
        "    X_train = rare_encoder_ExCard_ward.transform(X_train)\n",
        "\n",
        "    # X_test = rare_encoder.transform(X_test)\n",
        "    X_test = rare_encoder_EXtreme_Cardinality.transform(X_test)\n",
        "    X_test = rare_encoder_ExCard_ward.transform(X_test)\n",
        "\n",
        "    #Fitting the Categorical encoders\n",
        "    wrapper = PolynomialWrapper(js_enc)\n",
        "    X_train = wrapper.fit_transform(X_train, np.array(y_train))\n",
        "    X_test = wrapper.transform(X_test)\n",
        "\n",
        "\n",
        "##Fitting Models:\n",
        "\n",
        "# Random Forest\n",
        "    rf_clf.fit(X_train, y_train)\n",
        "    y_pred_rf = rf_clf.predict(X_test)\n",
        "    rf_accuracy = metrics.accuracy_score(y_test, y_pred_rf)\n",
        "    mean_acc_rf += rf_accuracy\n",
        "    print(f'rf_Accuracy: {rf_accuracy, split+1}')\n",
        "\n",
        "# LightGBM\n",
        "    LightGBM_Clf.fit(X_train, y_train)\n",
        "    y_pred_LightGBM = LightGBM_Clf.predict(X_test)\n",
        "    LightGBM_accuracy = metrics.accuracy_score(y_test, y_pred_LightGBM)\n",
        "    mean_acc_lgbm += LightGBM_accuracy\n",
        "    print(f'LightGBM_accuracy: {LightGBM_accuracy, split+1}')\n",
        "\n",
        "#xgboost\n",
        "    xgboost_clf.fit(X_train, y_train)\n",
        "    y_pred_xgboost = xgboost_clf.predict(X_test)\n",
        "    xgboost_accuracy = metrics.accuracy_score(y_test, y_pred_xgboost)\n",
        "    mean_acc_xgb += xgboost_accuracy\n",
        "    print(f'xgboost_accuracy: {xgboost_accuracy, split+1}')\n",
        "\n",
        "#adaboost\n",
        "    # AdaBoost_clf.fit(X_train, y_train)\n",
        "    # y_pred_rf = rf_clf.predict(X_test)\n",
        "    # AdaBoostt_accuracy = metrics.accuracy_score(y_test, y_pred_rf)\n",
        "    # mean_acc_ada += AdaBoostt_accuracy\n",
        "    # print(f'AdaBoostt_accuracy: {AdaBoostt_accuracy, split+1}')\n",
        "\n",
        "    split +=1 \n",
        "\n",
        "print('Random Forest accuracy is' ,mean_acc_rf/n_splits)\n",
        "print('Light GBM accuracy is' ,mean_acc_lgbm/n_splits)\n",
        "print('XGBoost accuracy is' ,mean_acc_xgb/n_splits)\n",
        "# print('AdaBoosting accuracy is' ,mean_acc_ada/n_splits)\n",
        "\n",
        "\n",
        "\n",
        "print(classification_report(y_test, y_pred_rf))\n",
        "# Plot confusion matrix for random Forest\n",
        "fig, ax = plt.subplots(figsize=(8, 5))\n",
        "cmp = ConfusionMatrixDisplay(\n",
        "    confusion_matrix(y_test, y_pred_rf),\n",
        "    display_labels=[\"functional\", \"non_functional\", \"func_needs_repair\"],\n",
        ")\n",
        "\n",
        "cmp.plot(ax=ax)\n",
        "plt.show();\n",
        "\n",
        "\n",
        "print(classification_report(y_test, y_pred_LightGBM))\n",
        "# Plot confusion matrix for LightGBM\n",
        "fig, ax = plt.subplots(figsize=(8, 5))\n",
        "cmp = ConfusionMatrixDisplay(\n",
        "    confusion_matrix(y_test, y_pred_LightGBM),\n",
        "    display_labels=[\"functional\", \"non_functional\", \"func_needs_repair\"],\n",
        ")\n",
        "\n",
        "cmp.plot(ax=ax)\n",
        "plt.show();\n",
        "\n",
        "\n",
        "print(classification_report(y_test, y_pred_xgboost))\n",
        "# Plot confusion matrix for XGBoost\n",
        "fig, ax = plt.subplots(figsize=(8, 5))\n",
        "cmp = ConfusionMatrixDisplay(\n",
        "    confusion_matrix(y_test, y_pred_xgboost),\n",
        "    display_labels=[\"functional\", \"non_functional\", \"func_needs_repair\"],\n",
        ")\n",
        "\n",
        "cmp.plot(ax=ax)\n",
        "plt.show();\n",
        "\n",
        "\n",
        "# print(classification_report(y_test, y_pred_AdaBoost))\n",
        "# # Plot confusion matrix for AdaBoost\n",
        "# fig, ax = plt.subplots(figsize=(8, 5))\n",
        "# cmp = ConfusionMatrixDisplay(\n",
        "#     confusion_matrix(y_test, y_pred_AdaBoost),\n",
        "#     display_labels=[\"functional\", \"non_functional\", \"func_needs_repair\"],\n",
        "# )\n",
        "\n",
        "# cmp.plot(ax=ax)\n",
        "# plt.show();"
      ],
      "metadata": {
        "id": "AIZ7KNCIHh2k",
        "colab": {
          "base_uri": "https://localhost:8080/",
          "height": 1000
        },
        "outputId": "c093d746-9479-4ec5-e811-7e79bc39f854"
      },
      "execution_count": 678,
      "outputs": [
        {
          "output_type": "stream",
          "name": "stdout",
          "text": [
            ">>>rf_Accuracy: (0.8084175084175084, 1)\n",
            "LightGBM_accuracy: (0.8052188552188552, 1)\n",
            "xgboost_accuracy: (0.8132154882154882, 1)\n",
            ">>>rf_Accuracy: (0.8041245791245791, 2)\n",
            "LightGBM_accuracy: (0.8015993265993266, 2)\n",
            "xgboost_accuracy: (0.8082491582491582, 2)\n",
            ">>>rf_Accuracy: (0.8094276094276094, 3)\n",
            "LightGBM_accuracy: (0.8042087542087543, 3)\n",
            "xgboost_accuracy: (0.814057239057239, 3)\n",
            ">>>rf_Accuracy: (0.8085016835016835, 4)\n",
            "LightGBM_accuracy: (0.8045454545454546, 4)\n",
            "xgboost_accuracy: (0.8102693602693603, 4)\n",
            ">>>rf_Accuracy: (0.810016835016835, 5)\n",
            "LightGBM_accuracy: (0.8057239057239057, 5)\n",
            "xgboost_accuracy: (0.8133838383838384, 5)\n",
            "Random Forest accuracy is 0.8080976430976431\n",
            "Light GBM accuracy is 0.8042592592592592\n",
            "XGBoost accuracy is 0.8118350168350169\n",
            "              precision    recall  f1-score   support\n",
            "\n",
            "           0       0.81      0.89      0.85      6451\n",
            "           1       0.55      0.37      0.44       864\n",
            "           2       0.84      0.79      0.81      4565\n",
            "\n",
            "    accuracy                           0.81     11880\n",
            "   macro avg       0.73      0.68      0.70     11880\n",
            "weighted avg       0.80      0.81      0.80     11880\n",
            "\n"
          ]
        },
        {
          "output_type": "display_data",
          "data": {
            "text/plain": [
              "<Figure size 576x360 with 2 Axes>"
            ],
            "image/png": "[encoded data removed]"
          },
          "metadata": {
            "needs_background": "light"
          }
        },
        {
          "output_type": "stream",
          "name": "stdout",
          "text": [
            "              precision    recall  f1-score   support\n",
            "\n",
            "           0       0.81      0.88      0.84      6451\n",
            "           1       0.53      0.36      0.42       864\n",
            "           2       0.83      0.79      0.81      4565\n",
            "\n",
            "    accuracy                           0.81     11880\n",
            "   macro avg       0.72      0.67      0.69     11880\n",
            "weighted avg       0.80      0.81      0.80     11880\n",
            "\n"
          ]
        },
        {
          "output_type": "display_data",
          "data": {
            "text/plain": [
              "<Figure size 576x360 with 2 Axes>"
            ],
            "image/png": "[encoded data removed]"
          },
          "metadata": {
            "needs_background": "light"
          }
        },
        {
          "output_type": "stream",
          "name": "stdout",
          "text": [
            "              precision    recall  f1-score   support\n",
            "\n",
            "           0       0.80      0.91      0.85      6451\n",
            "           1       0.62      0.32      0.43       864\n",
            "           2       0.85      0.78      0.81      4565\n",
            "\n",
            "    accuracy                           0.81     11880\n",
            "   macro avg       0.76      0.67      0.70     11880\n",
            "weighted avg       0.81      0.81      0.81     11880\n",
            "\n"
          ]
        },
        {
          "output_type": "display_data",
          "data": {
            "text/plain": [
              "<Figure size 576x360 with 2 Axes>"
            ],
            "image/png": "[encoded data removed]"
          },
          "metadata": {
            "needs_background": "light"
          }
        }
      ]
    }
  ],
  "metadata": {
    "colab": {
      "collapsed_sections": [
        "BTNyGa_wlixB",
        "DjtVQIy8xmmA",
        "3TXwJShexdt3",
        "QYFR1b_aexly",
        "27CZAPOp0XlB",
        "9nsyLyZkDcVA",
        "j2a-ttY5FvEd",
        "2VD1y1gmldim",
        "SsATKquXQUkm"
      ],
      "provenance": [],
      "authorship_tag": "ABX9TyNRQXivZ+jx9Otz9WyIcouk",
      "include_colab_link": true
    },
    "gpuClass": "standard",
    "kernelspec": {
      "display_name": "Python 3",
      "name": "python3"
    },
    "language_info": {
      "name": "python"
    }
  },
  "nbformat": 4,
  "nbformat_minor": 0
}
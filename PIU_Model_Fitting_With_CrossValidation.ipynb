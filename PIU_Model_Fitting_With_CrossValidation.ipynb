{
  "cells": [
    {
      "cell_type": "markdown",
      "metadata": {
        "id": "view-in-github",
        "colab_type": "text"
      },
      "source": [
        "<a href=\"https://colab.research.google.com/github/AmiraliLalehpour/MMAI869-Pump-it-Up-Competition/blob/main/PIU_Model_Fitting_With_CrossValidation.ipynb\" target=\"_parent\"><img src=\"https://colab.research.google.com/assets/colab-badge.svg\" alt=\"Open In Colab\"/></a>"
      ]
    },
    {
      "cell_type": "markdown",
      "metadata": {
        "id": "6Y04vszawCVI"
      },
      "source": [
        "#MMAI 869, Smith School of Business at Queens University\n",
        "###Team Broadview Project, Pump it Up: Data Mining the Water Table"
      ]
    },
    {
      "cell_type": "markdown",
      "source": [
        "#Install and ImportRequired Libraries"
      ],
      "metadata": {
        "id": "yVq-v4KDz2xP"
      }
    },
    {
      "cell_type": "code",
      "source": [
        "# pip install feature_engine"
      ],
      "metadata": {
        "id": "Sa7Ixbtc0Kl0"
      },
      "execution_count": 289,
      "outputs": []
    },
    {
      "cell_type": "code",
      "source": [
        "# pip install category_encoders"
      ],
      "metadata": {
        "id": "2LE6wOvJFO0w"
      },
      "execution_count": 290,
      "outputs": []
    },
    {
      "cell_type": "markdown",
      "metadata": {
        "id": "bcJICZdf39MT"
      },
      "source": [
        "###Import Libraries"
      ]
    },
    {
      "cell_type": "code",
      "execution_count": 291,
      "metadata": {
        "id": "PpsmC7VOyppp"
      },
      "outputs": [],
      "source": [
        "import sys\n",
        "import numpy as np  \n",
        "import pandas as pd  \n",
        "import datetime as dt\n",
        "\n",
        "# from sklearn.linear_model import LinearRegression\n",
        "from sklearn.linear_model import SGDClassifier\n",
        "from sklearn.ensemble import AdaBoostClassifier, GradientBoostingClassifier, RandomForestClassifier\n",
        "from xgboost import XGBClassifier\n",
        "from collections import Counter\n",
        "from sklearn.tree import DecisionTreeClassifier\n",
        "from lightgbm import LGBMClassifier\n",
        "\n",
        "from prettytable import PrettyTable\n",
        "from sklearn.metrics import accuracy_score, log_loss, f1_score, precision_score, recall_score, plot_roc_curve\n",
        "from sklearn.metrics import ConfusionMatrixDisplay, confusion_matrix, classification_report\n",
        "\n",
        "\n",
        "from sklearn.metrics import r2_score, mean_squared_error, explained_variance_score, mean_squared_error, accuracy_score\n",
        "from sklearn.model_selection import train_test_split, GridSearchCV, RandomizedSearchCV, RepeatedStratifiedKFold, cross_val_score, StratifiedKFold, cross_val_predict\n",
        "from sklearn.preprocessing import StandardScaler, LabelEncoder, OrdinalEncoder\n",
        "from sklearn.utils import compute_class_weight\n",
        "from sklearn.metrics import plot_roc_curve\n",
        "from sklearn import metrics\n",
        "\n",
        "from feature_engine.encoding import RareLabelEncoder\n",
        "\n",
        "from category_encoders import OneHotEncoder, TargetEncoder, JamesSteinEncoder, CatBoostEncoder, MEstimateEncoder, WOEEncoder, LeaveOneOutEncoder\n",
        "\n",
        "%matplotlib inline\n",
        "import matplotlib.pyplot as plt\n",
        "import seaborn as sns\n"
      ]
    },
    {
      "cell_type": "markdown",
      "metadata": {
        "id": "BTNyGa_wlixB"
      },
      "source": [
        "### Check Allocated System Specs by Google Colab"
      ]
    },
    {
      "cell_type": "code",
      "execution_count": 292,
      "metadata": {
        "colab": {
          "base_uri": "https://localhost:8080/"
        },
        "id": "AzDaBsjnjAa2",
        "outputId": "47ec537a-517c-4665-9ba1-175e9228aa6b"
      },
      "outputs": [
        {
          "output_type": "execute_result",
          "data": {
            "text/plain": [
              "2"
            ]
          },
          "metadata": {},
          "execution_count": 292
        }
      ],
      "source": [
        "from psutil import *\n",
        "\n",
        "cpu_count()"
      ]
    },
    {
      "cell_type": "code",
      "execution_count": 293,
      "metadata": {
        "colab": {
          "base_uri": "https://localhost:8080/"
        },
        "id": "FyR9-xjyjWFd",
        "outputId": "c377cf7a-822d-4e37-dce2-aa4c8c399b57"
      },
      "outputs": [
        {
          "output_type": "stream",
          "name": "stdout",
          "text": [
            "Model name:          Intel(R) Xeon(R) CPU @ 2.20GHz\n"
          ]
        }
      ],
      "source": [
        "!lscpu |grep 'Model name'"
      ]
    },
    {
      "cell_type": "code",
      "execution_count": 294,
      "metadata": {
        "colab": {
          "base_uri": "https://localhost:8080/"
        },
        "id": "t_aJFa-7kMdu",
        "outputId": "0a8ee996-e442-4cbc-a1b1-742a23b77638"
      },
      "outputs": [
        {
          "output_type": "stream",
          "name": "stdout",
          "text": [
            "Avail\n",
            "85G\n"
          ]
        }
      ],
      "source": [
        "!df -h / |awk '{print $4}'"
      ]
    },
    {
      "cell_type": "code",
      "execution_count": 295,
      "metadata": {
        "colab": {
          "base_uri": "https://localhost:8080/"
        },
        "id": "DU-PCU93kmFE",
        "outputId": "2cd4a18e-6fb1-4635-951d-05ab6422c699"
      },
      "outputs": [
        {
          "output_type": "stream",
          "name": "stdout",
          "text": [
            "13G\n"
          ]
        }
      ],
      "source": [
        "!free -h  --si | awk '/Mem:/{print $2}'"
      ]
    },
    {
      "cell_type": "code",
      "execution_count": 296,
      "metadata": {
        "colab": {
          "base_uri": "https://localhost:8080/"
        },
        "id": "qLm0Zl7TlMkI",
        "outputId": "5f4168e4-c677-434d-b088-66763e7a7c2d"
      },
      "outputs": [
        {
          "output_type": "stream",
          "name": "stdout",
          "text": [
            "NVIDIA-SMI has failed because it couldn't communicate with the NVIDIA driver. Make sure that the latest NVIDIA driver is installed and running.\n",
            "\n"
          ]
        }
      ],
      "source": [
        "!nvidia-smi -L"
      ]
    },
    {
      "cell_type": "code",
      "execution_count": 297,
      "metadata": {
        "colab": {
          "base_uri": "https://localhost:8080/"
        },
        "id": "-PZGO_dRlhId",
        "outputId": "59f1d743-e453-4cc6-f069-926a62329a37"
      },
      "outputs": [
        {
          "output_type": "stream",
          "name": "stdout",
          "text": [
            "NVIDIA-SMI has failed because it couldn't communicate with the NVIDIA driver. Make sure that the latest NVIDIA driver is installed and running.\n",
            "\n"
          ]
        }
      ],
      "source": [
        "!nvidia-smi"
      ]
    },
    {
      "cell_type": "markdown",
      "metadata": {
        "id": "DjtVQIy8xmmA"
      },
      "source": [
        "#1. Loading the dataset from GitHub: [MMAI869-Pump-it-Up-Competition]\n",
        "\n",
        "  Data is accessed from github: (https://github.com/AmiraliLalehpour/MMAI869-Pump-it-Up-Competition)\n",
        "\n"
      ]
    },
    {
      "cell_type": "code",
      "execution_count": 298,
      "metadata": {
        "id": "EsGdaw6Xy01b"
      },
      "outputs": [],
      "source": [
        "train_ulr = 'https://raw.githubusercontent.com/AmiraliLalehpour/MMAI869-Pump-it-Up-Competition/main/preprocessed_data.csv'\n",
        "test_ulr = 'https://raw.githubusercontent.com/AmiraliLalehpour/MMAI869-Pump-it-Up-Competition/main/preprocessed_test.csv'\n",
        "tt_ulr = 'https://raw.githubusercontent.com/AmiraliLalehpour/MMAI869-Pump-it-Up-Competition/main/clean.csv'\n",
        "# ulr_Test_Set_Values = 'https://raw.githubusercontent.com/AmiraliLalehpour/MMAI869-Pump-it-Up-Competition/main/Test_Set_Values.csv'\n",
        "data = pd.read_csv(train_ulr)\n",
        "test = pd.read_csv(test_ulr)\n",
        "train2 = pd.read_csv(tt_ulr)\n",
        "# test = pd.read_csv(ulr_Test_Set_Values)\n",
        "# data = Training_Set_Values.merge(Training_Set_Labels, on='id', how='right')\n",
        "\n",
        "pd.set_option('display.max_columns', None)"
      ]
    },
    {
      "cell_type": "code",
      "source": [
        "test_id = test.id"
      ],
      "metadata": {
        "id": "E7UXtMD_ZbFR"
      },
      "execution_count": 299,
      "outputs": []
    },
    {
      "cell_type": "code",
      "source": [
        "data.head()"
      ],
      "metadata": {
        "colab": {
          "base_uri": "https://localhost:8080/",
          "height": 0
        },
        "id": "z3Mn8QYOVnak",
        "outputId": "7f8671c5-f377-4065-c8e3-75032d88cca8"
      },
      "execution_count": 300,
      "outputs": [
        {
          "output_type": "execute_result",
          "data": {
            "text/plain": [
              "      id  amount_tsh        funder   gps_height  longitude   latitude  \\\n",
              "0  69572      6000.0         Roman  1390.000000  34.938093  -9.856322   \n",
              "1   8776       200.0       Grumeti  1399.000000  34.698766  -2.147466   \n",
              "2  34310        25.0  Lottery Club   686.000000  37.460664  -3.821329   \n",
              "3  67743        50.0        Unicef   263.000000  38.486161 -11.155298   \n",
              "4  19728       250.0   Action In A  1057.545585  31.130847  -1.825359   \n",
              "\n",
              "                     basin   region  district_code        lga        ward  \\\n",
              "0               Lake Nyasa   Iringa              5     Ludewa    Mundindi   \n",
              "1            Lake Victoria     Mara              2  Serengeti       Natta   \n",
              "2                  Pangani  Manyara              4  Simanjiro     Ngorika   \n",
              "3  Ruvuma / Southern Coast   Mtwara             63   Nanyumbu    Nanyumbu   \n",
              "4            Lake Victoria   Kagera              1    Karagwe  Nyakasimbi   \n",
              "\n",
              "   population public_meeting scheme_management permit  construction_year  \\\n",
              "0       109.0            Yes               VWC     No             1999.0   \n",
              "1       280.0        Missing             Other    Yes             2010.0   \n",
              "2       250.0            Yes               VWC    Yes             2009.0   \n",
              "3        58.0            Yes               VWC    Yes             1986.0   \n",
              "4       200.0            Yes           Missing    Yes             2003.0   \n",
              "\n",
              "  extraction_type management payment_type water_quality      quantity  \\\n",
              "0         gravity        vwc     annually          soft        enough   \n",
              "1         gravity        wug    never pay          soft  insufficient   \n",
              "2         gravity        vwc   per bucket          soft        enough   \n",
              "3     submersible        vwc    never pay          soft           dry   \n",
              "4         gravity      other    never pay          soft      seasonal   \n",
              "\n",
              "                 source              waterpoint_type    status_group  \\\n",
              "0                spring           communal standpipe      functional   \n",
              "1  rainwater harvesting           communal standpipe      functional   \n",
              "2                   dam  communal standpipe multiple      functional   \n",
              "3           machine dbh  communal standpipe multiple  non functional   \n",
              "4  rainwater harvesting           communal standpipe      functional   \n",
              "\n",
              "   year_recorded  month_recorded  day_recorded  quarer_recorded  \\\n",
              "0           2011               3             0                1   \n",
              "1           2013               3             2                1   \n",
              "2           2013               2             0                1   \n",
              "3           2013               1             0                1   \n",
              "4           2011               7             2                3   \n",
              "\n",
              "   percipitation_class  well_age  \n",
              "0                    4      12.0  \n",
              "1                    4       3.0  \n",
              "2                    2       4.0  \n",
              "3                    4      27.0  \n",
              "4                    0       8.0  "
            ],
            "text/html": [
              "\n",
              "  <div id=\"df-50b20c03-f5f5-47e2-b10a-2fbf93cc460d\">\n",
              "    <div class=\"colab-df-container\">\n",
              "      <div>\n",
              "<style scoped>\n",
              "    .dataframe tbody tr th:only-of-type {\n",
              "        vertical-align: middle;\n",
              "    }\n",
              "\n",
              "    .dataframe tbody tr th {\n",
              "        vertical-align: top;\n",
              "    }\n",
              "\n",
              "    .dataframe thead th {\n",
              "        text-align: right;\n",
              "    }\n",
              "</style>\n",
              "<table border=\"1\" class=\"dataframe\">\n",
              "  <thead>\n",
              "    <tr style=\"text-align: right;\">\n",
              "      <th></th>\n",
              "      <th>id</th>\n",
              "      <th>amount_tsh</th>\n",
              "      <th>funder</th>\n",
              "      <th>gps_height</th>\n",
              "      <th>longitude</th>\n",
              "      <th>latitude</th>\n",
              "      <th>basin</th>\n",
              "      <th>region</th>\n",
              "      <th>district_code</th>\n",
              "      <th>lga</th>\n",
              "      <th>ward</th>\n",
              "      <th>population</th>\n",
              "      <th>public_meeting</th>\n",
              "      <th>scheme_management</th>\n",
              "      <th>permit</th>\n",
              "      <th>construction_year</th>\n",
              "      <th>extraction_type</th>\n",
              "      <th>management</th>\n",
              "      <th>payment_type</th>\n",
              "      <th>water_quality</th>\n",
              "      <th>quantity</th>\n",
              "      <th>source</th>\n",
              "      <th>waterpoint_type</th>\n",
              "      <th>status_group</th>\n",
              "      <th>year_recorded</th>\n",
              "      <th>month_recorded</th>\n",
              "      <th>day_recorded</th>\n",
              "      <th>quarer_recorded</th>\n",
              "      <th>percipitation_class</th>\n",
              "      <th>well_age</th>\n",
              "    </tr>\n",
              "  </thead>\n",
              "  <tbody>\n",
              "    <tr>\n",
              "      <th>0</th>\n",
              "      <td>69572</td>\n",
              "      <td>6000.0</td>\n",
              "      <td>Roman</td>\n",
              "      <td>1390.000000</td>\n",
              "      <td>34.938093</td>\n",
              "      <td>-9.856322</td>\n",
              "      <td>Lake Nyasa</td>\n",
              "      <td>Iringa</td>\n",
              "      <td>5</td>\n",
              "      <td>Ludewa</td>\n",
              "      <td>Mundindi</td>\n",
              "      <td>109.0</td>\n",
              "      <td>Yes</td>\n",
              "      <td>VWC</td>\n",
              "      <td>No</td>\n",
              "      <td>1999.0</td>\n",
              "      <td>gravity</td>\n",
              "      <td>vwc</td>\n",
              "      <td>annually</td>\n",
              "      <td>soft</td>\n",
              "      <td>enough</td>\n",
              "      <td>spring</td>\n",
              "      <td>communal standpipe</td>\n",
              "      <td>functional</td>\n",
              "      <td>2011</td>\n",
              "      <td>3</td>\n",
              "      <td>0</td>\n",
              "      <td>1</td>\n",
              "      <td>4</td>\n",
              "      <td>12.0</td>\n",
              "    </tr>\n",
              "    <tr>\n",
              "      <th>1</th>\n",
              "      <td>8776</td>\n",
              "      <td>200.0</td>\n",
              "      <td>Grumeti</td>\n",
              "      <td>1399.000000</td>\n",
              "      <td>34.698766</td>\n",
              "      <td>-2.147466</td>\n",
              "      <td>Lake Victoria</td>\n",
              "      <td>Mara</td>\n",
              "      <td>2</td>\n",
              "      <td>Serengeti</td>\n",
              "      <td>Natta</td>\n",
              "      <td>280.0</td>\n",
              "      <td>Missing</td>\n",
              "      <td>Other</td>\n",
              "      <td>Yes</td>\n",
              "      <td>2010.0</td>\n",
              "      <td>gravity</td>\n",
              "      <td>wug</td>\n",
              "      <td>never pay</td>\n",
              "      <td>soft</td>\n",
              "      <td>insufficient</td>\n",
              "      <td>rainwater harvesting</td>\n",
              "      <td>communal standpipe</td>\n",
              "      <td>functional</td>\n",
              "      <td>2013</td>\n",
              "      <td>3</td>\n",
              "      <td>2</td>\n",
              "      <td>1</td>\n",
              "      <td>4</td>\n",
              "      <td>3.0</td>\n",
              "    </tr>\n",
              "    <tr>\n",
              "      <th>2</th>\n",
              "      <td>34310</td>\n",
              "      <td>25.0</td>\n",
              "      <td>Lottery Club</td>\n",
              "      <td>686.000000</td>\n",
              "      <td>37.460664</td>\n",
              "      <td>-3.821329</td>\n",
              "      <td>Pangani</td>\n",
              "      <td>Manyara</td>\n",
              "      <td>4</td>\n",
              "      <td>Simanjiro</td>\n",
              "      <td>Ngorika</td>\n",
              "      <td>250.0</td>\n",
              "      <td>Yes</td>\n",
              "      <td>VWC</td>\n",
              "      <td>Yes</td>\n",
              "      <td>2009.0</td>\n",
              "      <td>gravity</td>\n",
              "      <td>vwc</td>\n",
              "      <td>per bucket</td>\n",
              "      <td>soft</td>\n",
              "      <td>enough</td>\n",
              "      <td>dam</td>\n",
              "      <td>communal standpipe multiple</td>\n",
              "      <td>functional</td>\n",
              "      <td>2013</td>\n",
              "      <td>2</td>\n",
              "      <td>0</td>\n",
              "      <td>1</td>\n",
              "      <td>2</td>\n",
              "      <td>4.0</td>\n",
              "    </tr>\n",
              "    <tr>\n",
              "      <th>3</th>\n",
              "      <td>67743</td>\n",
              "      <td>50.0</td>\n",
              "      <td>Unicef</td>\n",
              "      <td>263.000000</td>\n",
              "      <td>38.486161</td>\n",
              "      <td>-11.155298</td>\n",
              "      <td>Ruvuma / Southern Coast</td>\n",
              "      <td>Mtwara</td>\n",
              "      <td>63</td>\n",
              "      <td>Nanyumbu</td>\n",
              "      <td>Nanyumbu</td>\n",
              "      <td>58.0</td>\n",
              "      <td>Yes</td>\n",
              "      <td>VWC</td>\n",
              "      <td>Yes</td>\n",
              "      <td>1986.0</td>\n",
              "      <td>submersible</td>\n",
              "      <td>vwc</td>\n",
              "      <td>never pay</td>\n",
              "      <td>soft</td>\n",
              "      <td>dry</td>\n",
              "      <td>machine dbh</td>\n",
              "      <td>communal standpipe multiple</td>\n",
              "      <td>non functional</td>\n",
              "      <td>2013</td>\n",
              "      <td>1</td>\n",
              "      <td>0</td>\n",
              "      <td>1</td>\n",
              "      <td>4</td>\n",
              "      <td>27.0</td>\n",
              "    </tr>\n",
              "    <tr>\n",
              "      <th>4</th>\n",
              "      <td>19728</td>\n",
              "      <td>250.0</td>\n",
              "      <td>Action In A</td>\n",
              "      <td>1057.545585</td>\n",
              "      <td>31.130847</td>\n",
              "      <td>-1.825359</td>\n",
              "      <td>Lake Victoria</td>\n",
              "      <td>Kagera</td>\n",
              "      <td>1</td>\n",
              "      <td>Karagwe</td>\n",
              "      <td>Nyakasimbi</td>\n",
              "      <td>200.0</td>\n",
              "      <td>Yes</td>\n",
              "      <td>Missing</td>\n",
              "      <td>Yes</td>\n",
              "      <td>2003.0</td>\n",
              "      <td>gravity</td>\n",
              "      <td>other</td>\n",
              "      <td>never pay</td>\n",
              "      <td>soft</td>\n",
              "      <td>seasonal</td>\n",
              "      <td>rainwater harvesting</td>\n",
              "      <td>communal standpipe</td>\n",
              "      <td>functional</td>\n",
              "      <td>2011</td>\n",
              "      <td>7</td>\n",
              "      <td>2</td>\n",
              "      <td>3</td>\n",
              "      <td>0</td>\n",
              "      <td>8.0</td>\n",
              "    </tr>\n",
              "  </tbody>\n",
              "</table>\n",
              "</div>\n",
              "      <button class=\"colab-df-convert\" onclick=\"convertToInteractive('df-50b20c03-f5f5-47e2-b10a-2fbf93cc460d')\"\n",
              "              title=\"Convert this dataframe to an interactive table.\"\n",
              "              style=\"display:none;\">\n",
              "        \n",
              "  <svg xmlns=\"http://www.w3.org/2000/svg\" height=\"24px\"viewBox=\"0 0 24 24\"\n",
              "       width=\"24px\">\n",
              "    <path d=\"M0 0h24v24H0V0z\" fill=\"none\"/>\n",
              "    <path d=\"M18.56 5.44l.94 2.06.94-2.06 2.06-.94-2.06-.94-.94-2.06-.94 2.06-2.06.94zm-11 1L8.5 8.5l.94-2.06 2.06-.94-2.06-.94L8.5 2.5l-.94 2.06-2.06.94zm10 10l.94 2.06.94-2.06 2.06-.94-2.06-.94-.94-2.06-.94 2.06-2.06.94z\"/><path d=\"M17.41 7.96l-1.37-1.37c-.4-.4-.92-.59-1.43-.59-.52 0-1.04.2-1.43.59L10.3 9.45l-7.72 7.72c-.78.78-.78 2.05 0 2.83L4 21.41c.39.39.9.59 1.41.59.51 0 1.02-.2 1.41-.59l7.78-7.78 2.81-2.81c.8-.78.8-2.07 0-2.86zM5.41 20L4 18.59l7.72-7.72 1.47 1.35L5.41 20z\"/>\n",
              "  </svg>\n",
              "      </button>\n",
              "      \n",
              "  <style>\n",
              "    .colab-df-container {\n",
              "      display:flex;\n",
              "      flex-wrap:wrap;\n",
              "      gap: 12px;\n",
              "    }\n",
              "\n",
              "    .colab-df-convert {\n",
              "      background-color: #E8F0FE;\n",
              "      border: none;\n",
              "      border-radius: 50%;\n",
              "      cursor: pointer;\n",
              "      display: none;\n",
              "      fill: #1967D2;\n",
              "      height: 32px;\n",
              "      padding: 0 0 0 0;\n",
              "      width: 32px;\n",
              "    }\n",
              "\n",
              "    .colab-df-convert:hover {\n",
              "      background-color: #E2EBFA;\n",
              "      box-shadow: 0px 1px 2px rgba(60, 64, 67, 0.3), 0px 1px 3px 1px rgba(60, 64, 67, 0.15);\n",
              "      fill: #174EA6;\n",
              "    }\n",
              "\n",
              "    [theme=dark] .colab-df-convert {\n",
              "      background-color: #3B4455;\n",
              "      fill: #D2E3FC;\n",
              "    }\n",
              "\n",
              "    [theme=dark] .colab-df-convert:hover {\n",
              "      background-color: #434B5C;\n",
              "      box-shadow: 0px 1px 3px 1px rgba(0, 0, 0, 0.15);\n",
              "      filter: drop-shadow(0px 1px 2px rgba(0, 0, 0, 0.3));\n",
              "      fill: #FFFFFF;\n",
              "    }\n",
              "  </style>\n",
              "\n",
              "      <script>\n",
              "        const buttonEl =\n",
              "          document.querySelector('#df-50b20c03-f5f5-47e2-b10a-2fbf93cc460d button.colab-df-convert');\n",
              "        buttonEl.style.display =\n",
              "          google.colab.kernel.accessAllowed ? 'block' : 'none';\n",
              "\n",
              "        async function convertToInteractive(key) {\n",
              "          const element = document.querySelector('#df-50b20c03-f5f5-47e2-b10a-2fbf93cc460d');\n",
              "          const dataTable =\n",
              "            await google.colab.kernel.invokeFunction('convertToInteractive',\n",
              "                                                     [key], {});\n",
              "          if (!dataTable) return;\n",
              "\n",
              "          const docLinkHtml = 'Like what you see? Visit the ' +\n",
              "            '<a target=\"_blank\" href=https://colab.research.google.com/notebooks/data_table.ipynb>data table notebook</a>'\n",
              "            + ' to learn more about interactive tables.';\n",
              "          element.innerHTML = '';\n",
              "          dataTable['output_type'] = 'display_data';\n",
              "          await google.colab.output.renderOutput(dataTable, element);\n",
              "          const docLink = document.createElement('div');\n",
              "          docLink.innerHTML = docLinkHtml;\n",
              "          element.appendChild(docLink);\n",
              "        }\n",
              "      </script>\n",
              "    </div>\n",
              "  </div>\n",
              "  "
            ]
          },
          "metadata": {},
          "execution_count": 300
        }
      ]
    },
    {
      "cell_type": "code",
      "source": [
        "#turn out the public_meeting has zero variance with target so we will drop it\n",
        "data.drop(['public_meeting'],axis=1, inplace=True)\n",
        "test.drop(['public_meeting'],axis=1, inplace=True)\n",
        "\n",
        "data.drop(['permit'],axis=1, inplace=True)\n",
        "test.drop(['permit'],axis=1, inplace=True)"
      ],
      "metadata": {
        "id": "qYRQlrDLGnnT"
      },
      "execution_count": 301,
      "outputs": []
    },
    {
      "cell_type": "code",
      "source": [
        "data.head()"
      ],
      "metadata": {
        "id": "SRyO4OuPojes",
        "colab": {
          "base_uri": "https://localhost:8080/",
          "height": 0
        },
        "outputId": "73aeb384-8962-4d49-e7fa-a3ef24f353ca"
      },
      "execution_count": 302,
      "outputs": [
        {
          "output_type": "execute_result",
          "data": {
            "text/plain": [
              "      id  amount_tsh        funder   gps_height  longitude   latitude  \\\n",
              "0  69572      6000.0         Roman  1390.000000  34.938093  -9.856322   \n",
              "1   8776       200.0       Grumeti  1399.000000  34.698766  -2.147466   \n",
              "2  34310        25.0  Lottery Club   686.000000  37.460664  -3.821329   \n",
              "3  67743        50.0        Unicef   263.000000  38.486161 -11.155298   \n",
              "4  19728       250.0   Action In A  1057.545585  31.130847  -1.825359   \n",
              "\n",
              "                     basin   region  district_code        lga        ward  \\\n",
              "0               Lake Nyasa   Iringa              5     Ludewa    Mundindi   \n",
              "1            Lake Victoria     Mara              2  Serengeti       Natta   \n",
              "2                  Pangani  Manyara              4  Simanjiro     Ngorika   \n",
              "3  Ruvuma / Southern Coast   Mtwara             63   Nanyumbu    Nanyumbu   \n",
              "4            Lake Victoria   Kagera              1    Karagwe  Nyakasimbi   \n",
              "\n",
              "   population scheme_management  construction_year extraction_type management  \\\n",
              "0       109.0               VWC             1999.0         gravity        vwc   \n",
              "1       280.0             Other             2010.0         gravity        wug   \n",
              "2       250.0               VWC             2009.0         gravity        vwc   \n",
              "3        58.0               VWC             1986.0     submersible        vwc   \n",
              "4       200.0           Missing             2003.0         gravity      other   \n",
              "\n",
              "  payment_type water_quality      quantity                source  \\\n",
              "0     annually          soft        enough                spring   \n",
              "1    never pay          soft  insufficient  rainwater harvesting   \n",
              "2   per bucket          soft        enough                   dam   \n",
              "3    never pay          soft           dry           machine dbh   \n",
              "4    never pay          soft      seasonal  rainwater harvesting   \n",
              "\n",
              "               waterpoint_type    status_group  year_recorded  month_recorded  \\\n",
              "0           communal standpipe      functional           2011               3   \n",
              "1           communal standpipe      functional           2013               3   \n",
              "2  communal standpipe multiple      functional           2013               2   \n",
              "3  communal standpipe multiple  non functional           2013               1   \n",
              "4           communal standpipe      functional           2011               7   \n",
              "\n",
              "   day_recorded  quarer_recorded  percipitation_class  well_age  \n",
              "0             0                1                    4      12.0  \n",
              "1             2                1                    4       3.0  \n",
              "2             0                1                    2       4.0  \n",
              "3             0                1                    4      27.0  \n",
              "4             2                3                    0       8.0  "
            ],
            "text/html": [
              "\n",
              "  <div id=\"df-20506fc3-810c-4f67-86e6-c9602a0dc344\">\n",
              "    <div class=\"colab-df-container\">\n",
              "      <div>\n",
              "<style scoped>\n",
              "    .dataframe tbody tr th:only-of-type {\n",
              "        vertical-align: middle;\n",
              "    }\n",
              "\n",
              "    .dataframe tbody tr th {\n",
              "        vertical-align: top;\n",
              "    }\n",
              "\n",
              "    .dataframe thead th {\n",
              "        text-align: right;\n",
              "    }\n",
              "</style>\n",
              "<table border=\"1\" class=\"dataframe\">\n",
              "  <thead>\n",
              "    <tr style=\"text-align: right;\">\n",
              "      <th></th>\n",
              "      <th>id</th>\n",
              "      <th>amount_tsh</th>\n",
              "      <th>funder</th>\n",
              "      <th>gps_height</th>\n",
              "      <th>longitude</th>\n",
              "      <th>latitude</th>\n",
              "      <th>basin</th>\n",
              "      <th>region</th>\n",
              "      <th>district_code</th>\n",
              "      <th>lga</th>\n",
              "      <th>ward</th>\n",
              "      <th>population</th>\n",
              "      <th>scheme_management</th>\n",
              "      <th>construction_year</th>\n",
              "      <th>extraction_type</th>\n",
              "      <th>management</th>\n",
              "      <th>payment_type</th>\n",
              "      <th>water_quality</th>\n",
              "      <th>quantity</th>\n",
              "      <th>source</th>\n",
              "      <th>waterpoint_type</th>\n",
              "      <th>status_group</th>\n",
              "      <th>year_recorded</th>\n",
              "      <th>month_recorded</th>\n",
              "      <th>day_recorded</th>\n",
              "      <th>quarer_recorded</th>\n",
              "      <th>percipitation_class</th>\n",
              "      <th>well_age</th>\n",
              "    </tr>\n",
              "  </thead>\n",
              "  <tbody>\n",
              "    <tr>\n",
              "      <th>0</th>\n",
              "      <td>69572</td>\n",
              "      <td>6000.0</td>\n",
              "      <td>Roman</td>\n",
              "      <td>1390.000000</td>\n",
              "      <td>34.938093</td>\n",
              "      <td>-9.856322</td>\n",
              "      <td>Lake Nyasa</td>\n",
              "      <td>Iringa</td>\n",
              "      <td>5</td>\n",
              "      <td>Ludewa</td>\n",
              "      <td>Mundindi</td>\n",
              "      <td>109.0</td>\n",
              "      <td>VWC</td>\n",
              "      <td>1999.0</td>\n",
              "      <td>gravity</td>\n",
              "      <td>vwc</td>\n",
              "      <td>annually</td>\n",
              "      <td>soft</td>\n",
              "      <td>enough</td>\n",
              "      <td>spring</td>\n",
              "      <td>communal standpipe</td>\n",
              "      <td>functional</td>\n",
              "      <td>2011</td>\n",
              "      <td>3</td>\n",
              "      <td>0</td>\n",
              "      <td>1</td>\n",
              "      <td>4</td>\n",
              "      <td>12.0</td>\n",
              "    </tr>\n",
              "    <tr>\n",
              "      <th>1</th>\n",
              "      <td>8776</td>\n",
              "      <td>200.0</td>\n",
              "      <td>Grumeti</td>\n",
              "      <td>1399.000000</td>\n",
              "      <td>34.698766</td>\n",
              "      <td>-2.147466</td>\n",
              "      <td>Lake Victoria</td>\n",
              "      <td>Mara</td>\n",
              "      <td>2</td>\n",
              "      <td>Serengeti</td>\n",
              "      <td>Natta</td>\n",
              "      <td>280.0</td>\n",
              "      <td>Other</td>\n",
              "      <td>2010.0</td>\n",
              "      <td>gravity</td>\n",
              "      <td>wug</td>\n",
              "      <td>never pay</td>\n",
              "      <td>soft</td>\n",
              "      <td>insufficient</td>\n",
              "      <td>rainwater harvesting</td>\n",
              "      <td>communal standpipe</td>\n",
              "      <td>functional</td>\n",
              "      <td>2013</td>\n",
              "      <td>3</td>\n",
              "      <td>2</td>\n",
              "      <td>1</td>\n",
              "      <td>4</td>\n",
              "      <td>3.0</td>\n",
              "    </tr>\n",
              "    <tr>\n",
              "      <th>2</th>\n",
              "      <td>34310</td>\n",
              "      <td>25.0</td>\n",
              "      <td>Lottery Club</td>\n",
              "      <td>686.000000</td>\n",
              "      <td>37.460664</td>\n",
              "      <td>-3.821329</td>\n",
              "      <td>Pangani</td>\n",
              "      <td>Manyara</td>\n",
              "      <td>4</td>\n",
              "      <td>Simanjiro</td>\n",
              "      <td>Ngorika</td>\n",
              "      <td>250.0</td>\n",
              "      <td>VWC</td>\n",
              "      <td>2009.0</td>\n",
              "      <td>gravity</td>\n",
              "      <td>vwc</td>\n",
              "      <td>per bucket</td>\n",
              "      <td>soft</td>\n",
              "      <td>enough</td>\n",
              "      <td>dam</td>\n",
              "      <td>communal standpipe multiple</td>\n",
              "      <td>functional</td>\n",
              "      <td>2013</td>\n",
              "      <td>2</td>\n",
              "      <td>0</td>\n",
              "      <td>1</td>\n",
              "      <td>2</td>\n",
              "      <td>4.0</td>\n",
              "    </tr>\n",
              "    <tr>\n",
              "      <th>3</th>\n",
              "      <td>67743</td>\n",
              "      <td>50.0</td>\n",
              "      <td>Unicef</td>\n",
              "      <td>263.000000</td>\n",
              "      <td>38.486161</td>\n",
              "      <td>-11.155298</td>\n",
              "      <td>Ruvuma / Southern Coast</td>\n",
              "      <td>Mtwara</td>\n",
              "      <td>63</td>\n",
              "      <td>Nanyumbu</td>\n",
              "      <td>Nanyumbu</td>\n",
              "      <td>58.0</td>\n",
              "      <td>VWC</td>\n",
              "      <td>1986.0</td>\n",
              "      <td>submersible</td>\n",
              "      <td>vwc</td>\n",
              "      <td>never pay</td>\n",
              "      <td>soft</td>\n",
              "      <td>dry</td>\n",
              "      <td>machine dbh</td>\n",
              "      <td>communal standpipe multiple</td>\n",
              "      <td>non functional</td>\n",
              "      <td>2013</td>\n",
              "      <td>1</td>\n",
              "      <td>0</td>\n",
              "      <td>1</td>\n",
              "      <td>4</td>\n",
              "      <td>27.0</td>\n",
              "    </tr>\n",
              "    <tr>\n",
              "      <th>4</th>\n",
              "      <td>19728</td>\n",
              "      <td>250.0</td>\n",
              "      <td>Action In A</td>\n",
              "      <td>1057.545585</td>\n",
              "      <td>31.130847</td>\n",
              "      <td>-1.825359</td>\n",
              "      <td>Lake Victoria</td>\n",
              "      <td>Kagera</td>\n",
              "      <td>1</td>\n",
              "      <td>Karagwe</td>\n",
              "      <td>Nyakasimbi</td>\n",
              "      <td>200.0</td>\n",
              "      <td>Missing</td>\n",
              "      <td>2003.0</td>\n",
              "      <td>gravity</td>\n",
              "      <td>other</td>\n",
              "      <td>never pay</td>\n",
              "      <td>soft</td>\n",
              "      <td>seasonal</td>\n",
              "      <td>rainwater harvesting</td>\n",
              "      <td>communal standpipe</td>\n",
              "      <td>functional</td>\n",
              "      <td>2011</td>\n",
              "      <td>7</td>\n",
              "      <td>2</td>\n",
              "      <td>3</td>\n",
              "      <td>0</td>\n",
              "      <td>8.0</td>\n",
              "    </tr>\n",
              "  </tbody>\n",
              "</table>\n",
              "</div>\n",
              "      <button class=\"colab-df-convert\" onclick=\"convertToInteractive('df-20506fc3-810c-4f67-86e6-c9602a0dc344')\"\n",
              "              title=\"Convert this dataframe to an interactive table.\"\n",
              "              style=\"display:none;\">\n",
              "        \n",
              "  <svg xmlns=\"http://www.w3.org/2000/svg\" height=\"24px\"viewBox=\"0 0 24 24\"\n",
              "       width=\"24px\">\n",
              "    <path d=\"M0 0h24v24H0V0z\" fill=\"none\"/>\n",
              "    <path d=\"M18.56 5.44l.94 2.06.94-2.06 2.06-.94-2.06-.94-.94-2.06-.94 2.06-2.06.94zm-11 1L8.5 8.5l.94-2.06 2.06-.94-2.06-.94L8.5 2.5l-.94 2.06-2.06.94zm10 10l.94 2.06.94-2.06 2.06-.94-2.06-.94-.94-2.06-.94 2.06-2.06.94z\"/><path d=\"M17.41 7.96l-1.37-1.37c-.4-.4-.92-.59-1.43-.59-.52 0-1.04.2-1.43.59L10.3 9.45l-7.72 7.72c-.78.78-.78 2.05 0 2.83L4 21.41c.39.39.9.59 1.41.59.51 0 1.02-.2 1.41-.59l7.78-7.78 2.81-2.81c.8-.78.8-2.07 0-2.86zM5.41 20L4 18.59l7.72-7.72 1.47 1.35L5.41 20z\"/>\n",
              "  </svg>\n",
              "      </button>\n",
              "      \n",
              "  <style>\n",
              "    .colab-df-container {\n",
              "      display:flex;\n",
              "      flex-wrap:wrap;\n",
              "      gap: 12px;\n",
              "    }\n",
              "\n",
              "    .colab-df-convert {\n",
              "      background-color: #E8F0FE;\n",
              "      border: none;\n",
              "      border-radius: 50%;\n",
              "      cursor: pointer;\n",
              "      display: none;\n",
              "      fill: #1967D2;\n",
              "      height: 32px;\n",
              "      padding: 0 0 0 0;\n",
              "      width: 32px;\n",
              "    }\n",
              "\n",
              "    .colab-df-convert:hover {\n",
              "      background-color: #E2EBFA;\n",
              "      box-shadow: 0px 1px 2px rgba(60, 64, 67, 0.3), 0px 1px 3px 1px rgba(60, 64, 67, 0.15);\n",
              "      fill: #174EA6;\n",
              "    }\n",
              "\n",
              "    [theme=dark] .colab-df-convert {\n",
              "      background-color: #3B4455;\n",
              "      fill: #D2E3FC;\n",
              "    }\n",
              "\n",
              "    [theme=dark] .colab-df-convert:hover {\n",
              "      background-color: #434B5C;\n",
              "      box-shadow: 0px 1px 3px 1px rgba(0, 0, 0, 0.15);\n",
              "      filter: drop-shadow(0px 1px 2px rgba(0, 0, 0, 0.3));\n",
              "      fill: #FFFFFF;\n",
              "    }\n",
              "  </style>\n",
              "\n",
              "      <script>\n",
              "        const buttonEl =\n",
              "          document.querySelector('#df-20506fc3-810c-4f67-86e6-c9602a0dc344 button.colab-df-convert');\n",
              "        buttonEl.style.display =\n",
              "          google.colab.kernel.accessAllowed ? 'block' : 'none';\n",
              "\n",
              "        async function convertToInteractive(key) {\n",
              "          const element = document.querySelector('#df-20506fc3-810c-4f67-86e6-c9602a0dc344');\n",
              "          const dataTable =\n",
              "            await google.colab.kernel.invokeFunction('convertToInteractive',\n",
              "                                                     [key], {});\n",
              "          if (!dataTable) return;\n",
              "\n",
              "          const docLinkHtml = 'Like what you see? Visit the ' +\n",
              "            '<a target=\"_blank\" href=https://colab.research.google.com/notebooks/data_table.ipynb>data table notebook</a>'\n",
              "            + ' to learn more about interactive tables.';\n",
              "          element.innerHTML = '';\n",
              "          dataTable['output_type'] = 'display_data';\n",
              "          await google.colab.output.renderOutput(dataTable, element);\n",
              "          const docLink = document.createElement('div');\n",
              "          docLink.innerHTML = docLinkHtml;\n",
              "          element.appendChild(docLink);\n",
              "        }\n",
              "      </script>\n",
              "    </div>\n",
              "  </div>\n",
              "  "
            ]
          },
          "metadata": {},
          "execution_count": 302
        }
      ]
    },
    {
      "cell_type": "markdown",
      "metadata": {
        "id": "3TXwJShexdt3"
      },
      "source": [
        "#2. Label Distribution and Label Encoding\n",
        "Multiclass Classification Labels, need to encode them\n",
        "\n",
        "Reference: https://scikit-learn.org/stable/modules/generated/sklearn.preprocessing.LabelEncoder.html"
      ]
    },
    {
      "cell_type": "code",
      "execution_count": 303,
      "metadata": {
        "colab": {
          "base_uri": "https://localhost:8080/",
          "height": 0
        },
        "id": "EzkEWiWHk5Kt",
        "outputId": "cb8408ac-5070-4010-f5d5-0d0443b754e8"
      },
      "outputs": [
        {
          "output_type": "execute_result",
          "data": {
            "text/plain": [
              "Text(0, 0.5, 'Number of Occurance')"
            ]
          },
          "metadata": {},
          "execution_count": 303
        },
        {
          "output_type": "display_data",
          "data": {
            "text/plain": [
              "<Figure size 432x288 with 1 Axes>"
            ],
            "image/png": "[encoded data removed]"
          },
          "metadata": {
            "needs_background": "light"
          }
        }
      ],
      "source": [
        "data.status_group.value_counts().plot.bar()\n",
        "plt.xlabel('status_group')\n",
        "plt.ylabel('Number of Occurance')"
      ]
    },
    {
      "cell_type": "code",
      "execution_count": 304,
      "metadata": {
        "colab": {
          "base_uri": "https://localhost:8080/"
        },
        "id": "iXK5BvPAPPmI",
        "outputId": "989f9271-9345-4f5b-b709-9bbb5f15ca45"
      },
      "outputs": [
        {
          "output_type": "execute_result",
          "data": {
            "text/plain": [
              "functional                 32259\n",
              "non functional             22824\n",
              "functional needs repair     4317\n",
              "Name: status_group, dtype: int64"
            ]
          },
          "metadata": {},
          "execution_count": 304
        }
      ],
      "source": [
        "data.status_group.value_counts()\n"
      ]
    },
    {
      "cell_type": "code",
      "execution_count": 305,
      "metadata": {
        "colab": {
          "base_uri": "https://localhost:8080/"
        },
        "id": "ggaknqhAPPq9",
        "outputId": "7367d8f9-d56b-43be-e8e9-c3729cccbccd"
      },
      "outputs": [
        {
          "output_type": "execute_result",
          "data": {
            "text/plain": [
              "functional                 0.543081\n",
              "non functional             0.384242\n",
              "functional needs repair    0.072677\n",
              "Name: status_group, dtype: float64"
            ]
          },
          "metadata": {},
          "execution_count": 305
        }
      ],
      "source": [
        "data.status_group.value_counts(normalize=True)"
      ]
    },
    {
      "cell_type": "code",
      "execution_count": 306,
      "metadata": {
        "colab": {
          "base_uri": "https://localhost:8080/"
        },
        "id": "ptUWOX-cTKtb",
        "outputId": "cbd81927-eaa3-4f04-af32-33af2d470224"
      },
      "outputs": [
        {
          "output_type": "execute_result",
          "data": {
            "text/plain": [
              "0    0\n",
              "1    0\n",
              "2    0\n",
              "3    2\n",
              "4    0\n",
              "Name: status_group, dtype: int64"
            ]
          },
          "metadata": {},
          "execution_count": 306
        }
      ],
      "source": [
        "label_encouder=LabelEncoder()\n",
        "data.status_group = label_encouder.fit_transform(data.status_group)\n",
        "data.status_group.head()"
      ]
    },
    {
      "cell_type": "code",
      "execution_count": 307,
      "metadata": {
        "colab": {
          "base_uri": "https://localhost:8080/",
          "height": 0
        },
        "id": "MkWzJ4UPPPuN",
        "outputId": "1ea651d1-5a0e-4dde-a572-91141d77c119"
      },
      "outputs": [
        {
          "output_type": "execute_result",
          "data": {
            "text/plain": [
              "Text(0, 0.5, 'Number of Occurance')"
            ]
          },
          "metadata": {},
          "execution_count": 307
        },
        {
          "output_type": "display_data",
          "data": {
            "text/plain": [
              "<Figure size 432x288 with 1 Axes>"
            ],
            "image/png": "[encoded data removed]"
          },
          "metadata": {
            "needs_background": "light"
          }
        }
      ],
      "source": [
        "data.status_group.value_counts().plot.bar()\n",
        "plt.xlabel('status_group')\n",
        "plt.ylabel('Number of Occurance')"
      ]
    },
    {
      "cell_type": "markdown",
      "source": [
        "#3. Defining the Encoders for Use in Cross Validation"
      ],
      "metadata": {
        "id": "yNBr3HIvEzqo"
      }
    },
    {
      "cell_type": "markdown",
      "source": [
        "##3.1. Rare Value Encoders"
      ],
      "metadata": {
        "id": "ABILSSFSPqP-"
      }
    },
    {
      "cell_type": "code",
      "source": [
        "data.select_dtypes(include='object').columns"
      ],
      "metadata": {
        "colab": {
          "base_uri": "https://localhost:8080/"
        },
        "id": "V-0yu_FcGBC4",
        "outputId": "63551ee5-041d-4ab9-97fd-7d36e6459a53"
      },
      "execution_count": 308,
      "outputs": [
        {
          "output_type": "execute_result",
          "data": {
            "text/plain": [
              "Index(['funder', 'basin', 'region', 'lga', 'ward', 'scheme_management',\n",
              "       'extraction_type', 'management', 'payment_type', 'water_quality',\n",
              "       'quantity', 'source', 'waterpoint_type'],\n",
              "      dtype='object')"
            ]
          },
          "metadata": {},
          "execution_count": 308
        }
      ]
    },
    {
      "cell_type": "code",
      "source": [
        "rare_encoder = RareLabelEncoder(\n",
        "  tol=0.025,  # minimal percentage to be considered non-rare\n",
        "  n_categories=4, # minimal number of categories the variable should have to re-cgroup rare categories\n",
        "  variables=['scheme_management', 'extraction_type', 'management', 'water_quality', 'source','waterpoint_type'], # variables to re-group\n",
        "  replace_with='Rare')\n",
        "\n",
        "rare_encoder_EXtreme_Cardinality = RareLabelEncoder(\n",
        "  tol=0.007,  # minimal percentage to be considered non-rare\n",
        "  n_categories=4, # minimal number of categories the variable should have to re-cgroup rare categories\n",
        "  max_n_categories = 50,\n",
        "  variables=['lga', 'funder'], # variables to re-group\n",
        "  replace_with='Rare')\n",
        "\n",
        "rare_encoder_ExCard_ward = RareLabelEncoder(\n",
        "  tol=0.002,  # minimal percentage to be considered non-rare\n",
        "  n_categories=4, # minimal number of categories the variable should have to re-cgroup rare categories\n",
        "  max_n_categories = 500,\n",
        "  variables=['ward'], # variables to re-group\n",
        "  replace_with='Rare')\n"
      ],
      "metadata": {
        "id": "BJl1wD8wDJcd"
      },
      "execution_count": 309,
      "outputs": []
    },
    {
      "cell_type": "markdown",
      "source": [
        "##3.2. Categorical Encoders\n",
        "https://www.kaggle.com/code/subinium/11-categorical-encoders-and-benchmark\n",
        "\n",
        "https://contrib.scikit-learn.org/category_encoders/\n",
        "\n",
        "https://towardsdatascience.com/target-encoding-for-multi-class-classification-c9a7bcb1a53\n",
        "\n"
      ],
      "metadata": {
        "id": "tCW0zOoWHBVJ"
      }
    },
    {
      "cell_type": "markdown",
      "source": [
        "###3.2.1. Target Encoder"
      ],
      "metadata": {
        "id": "bCqNwjK_Px3v"
      }
    },
    {
      "cell_type": "code",
      "source": [
        "tar_train=data.copy()\n",
        "tar_test=test.copy()"
      ],
      "metadata": {
        "id": "CAwB7-jYHBhY"
      },
      "execution_count": 310,
      "outputs": []
    },
    {
      "cell_type": "code",
      "source": [
        "tar_train.drop(['id'],axis=1, inplace=True)\n",
        "tar_test.drop(['id'],axis=1, inplace=True)"
      ],
      "metadata": {
        "id": "ANAMh4ppHM6O"
      },
      "execution_count": 311,
      "outputs": []
    },
    {
      "cell_type": "code",
      "source": [
        "status_labels =['func', 'non-func' , 'func_repair']"
      ],
      "metadata": {
        "id": "j5IzQ742HdBl"
      },
      "execution_count": 312,
      "outputs": []
    },
    {
      "cell_type": "code",
      "source": [
        "enc=OneHotEncoder().fit(tar_train.status_group.astype(str))\n",
        "status_group_labels=enc.transform(tar_train.status_group.astype(str))\n",
        "status_group_labels.columns = status_labels\n",
        "status_group_labels.head()"
      ],
      "metadata": {
        "colab": {
          "base_uri": "https://localhost:8080/",
          "height": 206
        },
        "id": "5nR3mauiHi03",
        "outputId": "372de4f1-a501-4b16-8ad9-34e4d6ab7c4e"
      },
      "execution_count": 313,
      "outputs": [
        {
          "output_type": "execute_result",
          "data": {
            "text/plain": [
              "   func  non-func  func_repair\n",
              "0     1         0            0\n",
              "1     1         0            0\n",
              "2     1         0            0\n",
              "3     0         1            0\n",
              "4     1         0            0"
            ],
            "text/html": [
              "\n",
              "  <div id=\"df-41c4fd4a-ecd5-42e0-ade4-9cc0aa3a9d93\">\n",
              "    <div class=\"colab-df-container\">\n",
              "      <div>\n",
              "<style scoped>\n",
              "    .dataframe tbody tr th:only-of-type {\n",
              "        vertical-align: middle;\n",
              "    }\n",
              "\n",
              "    .dataframe tbody tr th {\n",
              "        vertical-align: top;\n",
              "    }\n",
              "\n",
              "    .dataframe thead th {\n",
              "        text-align: right;\n",
              "    }\n",
              "</style>\n",
              "<table border=\"1\" class=\"dataframe\">\n",
              "  <thead>\n",
              "    <tr style=\"text-align: right;\">\n",
              "      <th></th>\n",
              "      <th>func</th>\n",
              "      <th>non-func</th>\n",
              "      <th>func_repair</th>\n",
              "    </tr>\n",
              "  </thead>\n",
              "  <tbody>\n",
              "    <tr>\n",
              "      <th>0</th>\n",
              "      <td>1</td>\n",
              "      <td>0</td>\n",
              "      <td>0</td>\n",
              "    </tr>\n",
              "    <tr>\n",
              "      <th>1</th>\n",
              "      <td>1</td>\n",
              "      <td>0</td>\n",
              "      <td>0</td>\n",
              "    </tr>\n",
              "    <tr>\n",
              "      <th>2</th>\n",
              "      <td>1</td>\n",
              "      <td>0</td>\n",
              "      <td>0</td>\n",
              "    </tr>\n",
              "    <tr>\n",
              "      <th>3</th>\n",
              "      <td>0</td>\n",
              "      <td>1</td>\n",
              "      <td>0</td>\n",
              "    </tr>\n",
              "    <tr>\n",
              "      <th>4</th>\n",
              "      <td>1</td>\n",
              "      <td>0</td>\n",
              "      <td>0</td>\n",
              "    </tr>\n",
              "  </tbody>\n",
              "</table>\n",
              "</div>\n",
              "      <button class=\"colab-df-convert\" onclick=\"convertToInteractive('df-41c4fd4a-ecd5-42e0-ade4-9cc0aa3a9d93')\"\n",
              "              title=\"Convert this dataframe to an interactive table.\"\n",
              "              style=\"display:none;\">\n",
              "        \n",
              "  <svg xmlns=\"http://www.w3.org/2000/svg\" height=\"24px\"viewBox=\"0 0 24 24\"\n",
              "       width=\"24px\">\n",
              "    <path d=\"M0 0h24v24H0V0z\" fill=\"none\"/>\n",
              "    <path d=\"M18.56 5.44l.94 2.06.94-2.06 2.06-.94-2.06-.94-.94-2.06-.94 2.06-2.06.94zm-11 1L8.5 8.5l.94-2.06 2.06-.94-2.06-.94L8.5 2.5l-.94 2.06-2.06.94zm10 10l.94 2.06.94-2.06 2.06-.94-2.06-.94-.94-2.06-.94 2.06-2.06.94z\"/><path d=\"M17.41 7.96l-1.37-1.37c-.4-.4-.92-.59-1.43-.59-.52 0-1.04.2-1.43.59L10.3 9.45l-7.72 7.72c-.78.78-.78 2.05 0 2.83L4 21.41c.39.39.9.59 1.41.59.51 0 1.02-.2 1.41-.59l7.78-7.78 2.81-2.81c.8-.78.8-2.07 0-2.86zM5.41 20L4 18.59l7.72-7.72 1.47 1.35L5.41 20z\"/>\n",
              "  </svg>\n",
              "      </button>\n",
              "      \n",
              "  <style>\n",
              "    .colab-df-container {\n",
              "      display:flex;\n",
              "      flex-wrap:wrap;\n",
              "      gap: 12px;\n",
              "    }\n",
              "\n",
              "    .colab-df-convert {\n",
              "      background-color: #E8F0FE;\n",
              "      border: none;\n",
              "      border-radius: 50%;\n",
              "      cursor: pointer;\n",
              "      display: none;\n",
              "      fill: #1967D2;\n",
              "      height: 32px;\n",
              "      padding: 0 0 0 0;\n",
              "      width: 32px;\n",
              "    }\n",
              "\n",
              "    .colab-df-convert:hover {\n",
              "      background-color: #E2EBFA;\n",
              "      box-shadow: 0px 1px 2px rgba(60, 64, 67, 0.3), 0px 1px 3px 1px rgba(60, 64, 67, 0.15);\n",
              "      fill: #174EA6;\n",
              "    }\n",
              "\n",
              "    [theme=dark] .colab-df-convert {\n",
              "      background-color: #3B4455;\n",
              "      fill: #D2E3FC;\n",
              "    }\n",
              "\n",
              "    [theme=dark] .colab-df-convert:hover {\n",
              "      background-color: #434B5C;\n",
              "      box-shadow: 0px 1px 3px 1px rgba(0, 0, 0, 0.15);\n",
              "      filter: drop-shadow(0px 1px 2px rgba(0, 0, 0, 0.3));\n",
              "      fill: #FFFFFF;\n",
              "    }\n",
              "  </style>\n",
              "\n",
              "      <script>\n",
              "        const buttonEl =\n",
              "          document.querySelector('#df-41c4fd4a-ecd5-42e0-ade4-9cc0aa3a9d93 button.colab-df-convert');\n",
              "        buttonEl.style.display =\n",
              "          google.colab.kernel.accessAllowed ? 'block' : 'none';\n",
              "\n",
              "        async function convertToInteractive(key) {\n",
              "          const element = document.querySelector('#df-41c4fd4a-ecd5-42e0-ade4-9cc0aa3a9d93');\n",
              "          const dataTable =\n",
              "            await google.colab.kernel.invokeFunction('convertToInteractive',\n",
              "                                                     [key], {});\n",
              "          if (!dataTable) return;\n",
              "\n",
              "          const docLinkHtml = 'Like what you see? Visit the ' +\n",
              "            '<a target=\"_blank\" href=https://colab.research.google.com/notebooks/data_table.ipynb>data table notebook</a>'\n",
              "            + ' to learn more about interactive tables.';\n",
              "          element.innerHTML = '';\n",
              "          dataTable['output_type'] = 'display_data';\n",
              "          await google.colab.output.renderOutput(dataTable, element);\n",
              "          const docLink = document.createElement('div');\n",
              "          docLink.innerHTML = docLinkHtml;\n",
              "          element.appendChild(docLink);\n",
              "        }\n",
              "      </script>\n",
              "    </div>\n",
              "  </div>\n",
              "  "
            ]
          },
          "metadata": {},
          "execution_count": 313
        }
      ]
    },
    {
      "cell_type": "code",
      "source": [
        "class_names=status_group_labels.columns[0:3]\n",
        "class_names"
      ],
      "metadata": {
        "colab": {
          "base_uri": "https://localhost:8080/"
        },
        "id": "13lZWy7iHnOR",
        "outputId": "471d2d5a-cbaa-4372-abe4-9462957310a8"
      },
      "execution_count": 314,
      "outputs": [
        {
          "output_type": "execute_result",
          "data": {
            "text/plain": [
              "Index(['func', 'non-func', 'func_repair'], dtype='object')"
            ]
          },
          "metadata": {},
          "execution_count": 314
        }
      ]
    },
    {
      "cell_type": "code",
      "source": [
        "len(status_group_labels)"
      ],
      "metadata": {
        "colab": {
          "base_uri": "https://localhost:8080/"
        },
        "id": "Po2dQDayZIPz",
        "outputId": "2d15f3d8-6ff6-4359-affb-3ac37fbd70c2"
      },
      "execution_count": 315,
      "outputs": [
        {
          "output_type": "execute_result",
          "data": {
            "text/plain": [
              "59400"
            ]
          },
          "metadata": {},
          "execution_count": 315
        }
      ]
    },
    {
      "cell_type": "code",
      "source": [
        "variables=tar_train.select_dtypes(include='object').columns\n",
        "variables"
      ],
      "metadata": {
        "colab": {
          "base_uri": "https://localhost:8080/"
        },
        "id": "I9RuQ2B4Hq0W",
        "outputId": "43888ac4-c0e8-4e73-d589-839928781b37"
      },
      "execution_count": 316,
      "outputs": [
        {
          "output_type": "execute_result",
          "data": {
            "text/plain": [
              "Index(['funder', 'basin', 'region', 'lga', 'ward', 'scheme_management',\n",
              "       'extraction_type', 'management', 'payment_type', 'water_quality',\n",
              "       'quantity', 'source', 'waterpoint_type'],\n",
              "      dtype='object')"
            ]
          },
          "metadata": {},
          "execution_count": 316
        }
      ]
    },
    {
      "cell_type": "code",
      "source": [
        "target_enc=TargetEncoder(verbose=0, cols=None, drop_invariant=True, return_df=True,\n",
        "# handle_missing='value',\n",
        "# handle_unknown='value',\n",
        "min_samples_leaf=3,\n",
        "smoothing=2,\n",
        ")"
      ],
      "metadata": {
        "id": "1uQuyHeUHvIX"
      },
      "execution_count": 317,
      "outputs": []
    },
    {
      "cell_type": "code",
      "source": [],
      "metadata": {
        "id": "Xg4wpLw6Hz7f"
      },
      "execution_count": 317,
      "outputs": []
    },
    {
      "cell_type": "markdown",
      "source": [
        "###3.2.2. James_Stein Encoder\n",
        "https://kiwidamien.github.io/james-stein-encoder.html"
      ],
      "metadata": {
        "id": "QYFR1b_aexly"
      }
    },
    {
      "cell_type": "code",
      "source": [
        "js_train=data.copy()\n",
        "js_test=test.copy()"
      ],
      "metadata": {
        "id": "ckNw71xke1Ri"
      },
      "execution_count": 318,
      "outputs": []
    },
    {
      "cell_type": "code",
      "source": [
        "js_train.drop(['id'],axis=1, inplace=True)\n",
        "js_test.drop(['id'],axis=1, inplace=True)"
      ],
      "metadata": {
        "id": "pOB1PTCMfSOx"
      },
      "execution_count": 319,
      "outputs": []
    },
    {
      "cell_type": "code",
      "source": [
        "# (verbose=0, cols=None, drop_invariant=False, return_df=True, handle_unknown='value', handle_missing='value', model='independent', random_state=None, randomized=False, sigma=0.05)\n",
        "js_enc = JamesSteinEncoder(\n",
        "    drop_invariant=True,\n",
        "    model='independent', random_state=7,\n",
        "    sigma=0.05\n",
        ")"
      ],
      "metadata": {
        "id": "blmCX-eVE2oX"
      },
      "execution_count": 320,
      "outputs": []
    },
    {
      "cell_type": "markdown",
      "source": [
        "###3.2.3. CatBoost Encoder\n",
        "https://www.geeksforgeeks.org/categorical-encoding-with-catboost-encoder/"
      ],
      "metadata": {
        "id": "27CZAPOp0XlB"
      }
    },
    {
      "cell_type": "code",
      "source": [
        "cb_train=data.copy()\n",
        "cb_test=test.copy()"
      ],
      "metadata": {
        "id": "r600Y-HI3iBf"
      },
      "execution_count": 321,
      "outputs": []
    },
    {
      "cell_type": "code",
      "source": [
        "cb_train.drop(['id'],axis=1, inplace=True)\n",
        "cb_test.drop(['id'],axis=1, inplace=True)"
      ],
      "metadata": {
        "id": "M1HsI2xc3k8X"
      },
      "execution_count": 322,
      "outputs": []
    },
    {
      "cell_type": "code",
      "source": [
        "# (verbose=0, cols=None, drop_invariant=False, return_df=True, handle_unknown='value', handle_missing='value', random_state=None, sigma=None, a=1)\n",
        "cb_enc = CatBoostEncoder(\n",
        "    cols=None, drop_invariant=True,\n",
        "    random_state=7,\n",
        "    \n",
        ")"
      ],
      "metadata": {
        "id": "t8qnB8tb3d__"
      },
      "execution_count": 323,
      "outputs": []
    },
    {
      "cell_type": "markdown",
      "source": [
        "###3.2.4. mean target Encoder\n"
      ],
      "metadata": {
        "id": "4hBtW8rFBnNr"
      }
    },
    {
      "cell_type": "code",
      "source": [
        "mtar_train=data.copy()\n",
        "mtar_test=test.copy()"
      ],
      "metadata": {
        "id": "Y39tqyRkBnNs"
      },
      "execution_count": 324,
      "outputs": []
    },
    {
      "cell_type": "code",
      "source": [
        "mtar_train.drop(['id'],axis=1, inplace=True)\n",
        "mtar_test.drop(['id'],axis=1, inplace=True)"
      ],
      "metadata": {
        "id": "WGc9lgmTBnNt"
      },
      "execution_count": 325,
      "outputs": []
    },
    {
      "cell_type": "code",
      "source": [
        "mtar_enc=TargetEncoder(verbose=0, cols=None,drop_invariant=True, return_df=True,\n",
        "# handle_missing='value',\n",
        "# handle_unknown='value',\n",
        "min_samples_leaf=8,\n",
        "smoothing=10,\n",
        ")"
      ],
      "metadata": {
        "id": "VrHOpvqCBnNu"
      },
      "execution_count": 326,
      "outputs": []
    },
    {
      "cell_type": "markdown",
      "source": [
        "###3.2.5. Leave One Out Encoder\n"
      ],
      "metadata": {
        "id": "9nsyLyZkDcVA"
      }
    },
    {
      "cell_type": "code",
      "source": [
        "loo_train=data.copy()\n",
        "loo_test=test.copy()"
      ],
      "metadata": {
        "id": "7BQ14bxzDcVC"
      },
      "execution_count": 327,
      "outputs": []
    },
    {
      "cell_type": "code",
      "source": [
        "loo_train.drop(['id'],axis=1, inplace=True)\n",
        "loo_test.drop(['id'],axis=1, inplace=True)"
      ],
      "metadata": {
        "id": "XlJ5q9QSDcVD"
      },
      "execution_count": 328,
      "outputs": []
    },
    {
      "cell_type": "code",
      "source": [
        "loo_enc=LeaveOneOutEncoder(verbose=0, cols=None,drop_invariant=True, return_df=True,\n",
        "# handle_missing='value',\n",
        "# handle_unknown='value',\n",
        "random_state=7\n",
        ")"
      ],
      "metadata": {
        "id": "DeatuSF5DcVE"
      },
      "execution_count": 329,
      "outputs": []
    },
    {
      "cell_type": "markdown",
      "source": [
        "###3.2.6. MEstimator Encoder\n"
      ],
      "metadata": {
        "id": "j2a-ttY5FvEd"
      }
    },
    {
      "cell_type": "code",
      "source": [
        "me_train=data.copy()\n",
        "me_test=test.copy()"
      ],
      "metadata": {
        "id": "2Kv6iKCAFvEg"
      },
      "execution_count": 330,
      "outputs": []
    },
    {
      "cell_type": "code",
      "source": [
        "me_train.drop(['id'],axis=1, inplace=True)\n",
        "me_test.drop(['id'],axis=1, inplace=True)"
      ],
      "metadata": {
        "id": "82IeSX9qFvEh"
      },
      "execution_count": 331,
      "outputs": []
    },
    {
      "cell_type": "code",
      "source": [
        "# (verbose=0, cols=None, drop_invariant=False, return_df=True, handle_unknown='value', handle_missing='value', random_state=None, randomized=False, sigma=0.05, m=1.0)\n",
        "me_enc=MEstimateEncoder(verbose=0, cols=None,drop_invariant=True, return_df=True,\n",
        "sigma=0.05, m=1.0,\n",
        "random_state=7\n",
        ")"
      ],
      "metadata": {
        "id": "ah9oih0CFvEi"
      },
      "execution_count": 332,
      "outputs": []
    },
    {
      "cell_type": "markdown",
      "source": [
        "#4. Defining the ML Models"
      ],
      "metadata": {
        "id": "SsATKquXQUkm"
      }
    },
    {
      "cell_type": "code",
      "source": [
        "rf_clf = RandomForestClassifier(\n",
        "                            n_estimators = 1000,\n",
        "                            criterion = 'entropy', \n",
        "                            max_depth = None, # \n",
        "                            min_samples_split=2,\n",
        "                            min_samples_leaf=1, \n",
        "                            max_features= 'sqrt', #{“sqrt”, “log2”, None}, int or float, default=”sqrt”\n",
        "                            max_leaf_nodes = None, #Grow trees with max_leaf_nodes in best-first fashion. \n",
        "                            #Best nodes are defined as relative reduction in impurity. If None then unlimited number of leaf nodes.\n",
        "                            min_impurity_decrease = 0, #A node will be split if this split induces a decrease of the impurity greater than or equal to this value.\n",
        "                            bootstrap = True,\n",
        "                            warm_start = False, #When set to True, reuse the solution of the previous call to fit and add more estimators to the ensemble, otherwise, just fit a whole new forest\n",
        "                            class_weight = 'balanced',\n",
        "                            max_samples = None,\n",
        "                            verbose = 0,\n",
        "                            n_jobs = -1,\n",
        "                            random_state = 17,\n",
        ")"
      ],
      "metadata": {
        "id": "_nxzBgN-QYv9"
      },
      "execution_count": 333,
      "outputs": []
    },
    {
      "cell_type": "code",
      "source": [
        "# importing the lightgbm module\n",
        "import lightgbm as lgb\n",
        "# initializing the model\n",
        "LightGBM_Clf = lgb.LGBMClassifier(\n",
        "    boosting_type='gbdt',\n",
        "    num_leaves = 50,\n",
        "    max_depth=-1,\n",
        "    learning_rate = 0.2,\n",
        "    n_estimators=1000,\n",
        "    subsample_for_bin=200000,\n",
        "    objective=None,\n",
        "    class_weight= None, \n",
        "    min_split_gain=0.0, \n",
        "    min_child_weight=0.001, \n",
        "    min_child_samples=20, \n",
        "    subsample=1.0, \n",
        "    subsample_freq=0, \n",
        "    colsample_bytree=1.0, \n",
        "    reg_alpha=0.0, \n",
        "    reg_lambda=0.0, \n",
        "    random_state=17, \n",
        "    n_jobs=-1, \n",
        "    silent=True, \n",
        "    importance_type='split',\n",
        "    verbosity = 1,\n",
        "    \n",
        ")"
      ],
      "metadata": {
        "id": "3rjz1zCLQesJ"
      },
      "execution_count": 334,
      "outputs": []
    },
    {
      "cell_type": "code",
      "source": [
        "xgboost_clf = XGBClassifier(max_depth = 8, # the larger the more prone to overfit, range 3-10\n",
        "                            learning_rate = 0.09, # range [0,1], typically=0.01-0.2\n",
        "                            n_estimators = 533,\n",
        "                            verbosity = 1,\n",
        "                            objective = \"multi:softmax\",\n",
        "                            booster = \"gbtree\", # gblinear or dart\n",
        "                            n_jobs = 1,\n",
        "                            gamma = 0, \n",
        "                            # Minimum loss reduction required to split. range=[0,inf],\n",
        "                            # The larger gamma is, the more conservative the algorithm will be.\n",
        "                            min_child_weight = 1, # used to restrict overfitting\n",
        "                            max_delta_step = 0,\n",
        "                            subsample = 0.75,\n",
        "                            colsample_bytree = 0.5,\n",
        "                            colsample_bylevel = 0.5,\n",
        "                            colsample_bynode = 0.5,\n",
        "                            reg_alpha = 0,\n",
        "                            reg_lambda = 1,\n",
        "                            scale_pos_weight = 0.5, #[default=1]\n",
        "                            random_state = 17,\n",
        "                            \n",
        ")"
      ],
      "metadata": {
        "id": "PP_YUqHSQndV"
      },
      "execution_count": 335,
      "outputs": []
    },
    {
      "cell_type": "code",
      "source": [
        "dtree = DecisionTreeClassifier(criterion = 'gini', max_depth=9, random_state=17)\n",
        "\n",
        "AdaBoost_clf = AdaBoostClassifier(base_estimator=dtree,\n",
        "                                  n_estimators= 543,\n",
        "                                  learning_rate=0.9,\n",
        "                                  algorithm='SAMME.R',\n",
        "                                  random_state=7)"
      ],
      "metadata": {
        "id": "GO2LzMpZQtNg"
      },
      "execution_count": 336,
      "outputs": []
    },
    {
      "cell_type": "markdown",
      "source": [
        "#5.1 Feature Engineering and Modeling within Cross Validation - Target Encoding"
      ],
      "metadata": {
        "id": "cZJqtAyJFKtF"
      }
    },
    {
      "cell_type": "code",
      "source": [
        "# Use the results of any categorical encoding that you chose\n",
        "\n",
        "train = tar_train.copy()\n",
        "test = tar_test.copy()"
      ],
      "metadata": {
        "id": "N7O2Dn8-P7B5"
      },
      "execution_count": 337,
      "outputs": []
    },
    {
      "cell_type": "code",
      "source": [
        "train.status_group"
      ],
      "metadata": {
        "colab": {
          "base_uri": "https://localhost:8080/"
        },
        "id": "BnfBn0XgRP59",
        "outputId": "9c7f9899-8220-47bc-d5b1-06aeb7e03672"
      },
      "execution_count": 338,
      "outputs": [
        {
          "output_type": "execute_result",
          "data": {
            "text/plain": [
              "0        0\n",
              "1        0\n",
              "2        0\n",
              "3        2\n",
              "4        0\n",
              "        ..\n",
              "59395    0\n",
              "59396    0\n",
              "59397    0\n",
              "59398    0\n",
              "59399    0\n",
              "Name: status_group, Length: 59400, dtype: int64"
            ]
          },
          "metadata": {},
          "execution_count": 338
        }
      ]
    },
    {
      "cell_type": "code",
      "source": [
        "X = train.drop('status_group',axis=1)\n",
        "y = train.status_group"
      ],
      "metadata": {
        "id": "x7nh_a1yFnge"
      },
      "execution_count": 339,
      "outputs": []
    },
    {
      "cell_type": "code",
      "source": [
        "n_repeats =1\n",
        "n_splits = 5\n",
        "rskf = RepeatedStratifiedKFold(n_splits=n_splits, n_repeats = n_repeats, random_state=0)"
      ],
      "metadata": {
        "id": "JFf66JudFVhe"
      },
      "execution_count": 340,
      "outputs": []
    },
    {
      "cell_type": "code",
      "source": [
        "\n",
        "split = 0\n",
        "mean_acc_rf = 0\n",
        "mean_acc_lgbm = 0\n",
        "mean_acc_xgb = 0\n",
        "mean_acc_ada = 0\n",
        "\n",
        "for train_index, test_index in rskf.split(X, y):\n",
        "    \n",
        "    # Print a dot for each train / test partition\n",
        "    sys.stdout.write('>>>')\n",
        "    sys.stdout.flush()\n",
        "    \n",
        "    #Test & train split insode the CV\n",
        "    X_train, X_test = X.loc[train_index], X.loc[test_index]\n",
        "    y_train, y_test = y.loc[train_index], y.loc[test_index]\n",
        "\n",
        "    #Fitting the rare value encoders\n",
        "    rare_encoder.fit(X_train)\n",
        "    rare_encoder_EXtreme_Cardinality.fit(X_train)\n",
        "    rare_encoder_ExCard_ward.fit(X_train)\n",
        "\n",
        "    rare_enc_X_train = rare_encoder.transform(X_train)\n",
        "    rare_enc_X_train = rare_encoder_EXtreme_Cardinality.transform(rare_enc_X_train)\n",
        "    rare_enc_X_train = rare_encoder_ExCard_ward.transform(rare_enc_X_train)\n",
        "\n",
        "    rare_enc_X_test = rare_encoder.transform(X_test)\n",
        "    rare_enc_X_test = rare_encoder_EXtreme_Cardinality.transform(rare_enc_X_test)\n",
        "    rare_enc_X_test = rare_encoder_ExCard_ward.transform(rare_enc_X_test)\n",
        "\n",
        "    #Fitting the Categorical encoders\n",
        "    for var in variables:\n",
        "      for class_ in class_names:\n",
        "        # print(enc.fit_transform(data,status_group_labels[class_]))\n",
        "        target_enc = target_enc.fit(X_train[var],status_group_labels.loc[train_index][class_])\n",
        "        X_train[var + '_' + class_] = target_enc.transform(X_train[var])\n",
        "        X_test[var + '_' + class_] = target_enc.transform(X_test[var])\n",
        "        \n",
        "    X_train = X_train.drop(variables,axis=1)\n",
        "    X_test = X_test.drop(variables,axis=1)  \n",
        "\n",
        "\n",
        "##Fitting Models:\n",
        "\n",
        "# Random Forest\n",
        "    rf_clf.fit(X_train, y_train)\n",
        "    y_pred_rf = rf_clf.predict(X_test)\n",
        "    rf_accuracy = metrics.accuracy_score(y_test, y_pred_rf)\n",
        "    mean_acc_rf += rf_accuracy\n",
        "    print(f'rf_Accuracy: {rf_accuracy, split+1}')\n",
        "\n",
        "# LightGBM\n",
        "    LightGBM_Clf.fit(X_train, y_train)\n",
        "    y_pred_LightGBM = LightGBM_Clf.predict(X_test)\n",
        "    LightGBM_accuracy = metrics.accuracy_score(y_test, y_pred_LightGBM)\n",
        "    mean_acc_lgbm += LightGBM_accuracy\n",
        "    print(f'LightGBM_accuracy: {LightGBM_accuracy, split+1}')\n",
        "\n",
        "#xgboost\n",
        "    xgboost_clf.fit(X_train, y_train)\n",
        "    y_pred_xgboost = xgboost_clf.predict(X_test)\n",
        "    xgboost_accuracy = metrics.accuracy_score(y_test, y_pred_xgboost)\n",
        "    mean_acc_xgb += xgboost_accuracy\n",
        "    print(f'xgboost_accuracy: {xgboost_accuracy, split+1}')\n",
        "\n",
        "#adaboost\n",
        "    # AdaBoost_clf.fit(X_train, y_train)\n",
        "    # y_pred_AdaBoost = AdaBoost_clf.predict(X_test)\n",
        "    # AdaBoostt_accuracy = metrics.accuracy_score(y_test, y_pred_AdaBoost)\n",
        "    # mean_acc_ada += AdaBoostt_accuracy\n",
        "    # print(f'AdaBoostt_accuracy: {AdaBoostt_accuracy, split+1}')\n",
        "\n",
        "\n",
        "\n",
        "\n",
        "    split +=1 \n",
        "\n",
        "print('Random Forest accuracy is' ,mean_acc_rf/n_splits)\n",
        "print('Light GBM accuracy is' ,mean_acc_lgbm/n_splits)\n",
        "print('XGBoost accuracy is' ,mean_acc_xgb/n_splits)\n",
        "# print('AdaBoosting accuracy is' ,mean_acc_ada/n_splits)\n",
        "\n",
        "\n",
        "print(classification_report(y_test, y_pred_rf))\n",
        "# Plot confusion matrix for random Forest\n",
        "fig, ax = plt.subplots(figsize=(8, 5))\n",
        "cmp = ConfusionMatrixDisplay(\n",
        "    confusion_matrix(y_test, y_pred_rf),\n",
        "    display_labels=[\"functional\", \"non_functional\", \"func_needs_repair\"],\n",
        ")\n",
        "\n",
        "cmp.plot(ax=ax)\n",
        "plt.show();\n",
        "\n",
        "\n",
        "print(classification_report(y_test, y_pred_LightGBM))\n",
        "# Plot confusion matrix for LightGBM\n",
        "fig, ax = plt.subplots(figsize=(8, 5))\n",
        "cmp = ConfusionMatrixDisplay(\n",
        "    confusion_matrix(y_test, y_pred_LightGBM),\n",
        "    display_labels=[\"functional\", \"non_functional\", \"func_needs_repair\"],\n",
        ")\n",
        "\n",
        "cmp.plot(ax=ax)\n",
        "plt.show();\n",
        "\n",
        "\n",
        "print(classification_report(y_test, y_pred_xgboost))\n",
        "# Plot confusion matrix for XGBoost\n",
        "fig, ax = plt.subplots(figsize=(8, 5))\n",
        "cmp = ConfusionMatrixDisplay(\n",
        "    confusion_matrix(y_test, y_pred_xgboost),\n",
        "    display_labels=[\"functional\", \"non_functional\", \"func_needs_repair\"],\n",
        ")\n",
        "\n",
        "cmp.plot(ax=ax)\n",
        "plt.show();\n",
        "\n",
        "\n",
        "# print(classification_report(y_test, y_pred_AdaBoost))\n",
        "# # Plot confusion matrix for AdaBoost\n",
        "# fig, ax = plt.subplots(figsize=(8, 5))\n",
        "# cmp = ConfusionMatrixDisplay(\n",
        "#     confusion_matrix(y_test, y_pred_AdaBoost),\n",
        "#     display_labels=[\"functional\", \"non_functional\", \"func_needs_repair\"],\n",
        "# )\n",
        "\n",
        "# cmp.plot(ax=ax)\n",
        "# plt.show();"
      ],
      "metadata": {
        "colab": {
          "base_uri": "https://localhost:8080/",
          "height": 1000
        },
        "id": "CxqEQeY3AuG8",
        "outputId": "4691e599-eab4-4973-f3b8-03f70d765e85"
      },
      "execution_count": 341,
      "outputs": [
        {
          "output_type": "stream",
          "name": "stdout",
          "text": [
            ">>>rf_Accuracy: (0.8047138047138047, 1)\n",
            "LightGBM_accuracy: (0.8032828282828283, 1)\n",
            "xgboost_accuracy: (0.8111952861952862, 1)\n",
            ">>>rf_Accuracy: (0.8026936026936027, 2)\n",
            "LightGBM_accuracy: (0.797979797979798, 2)\n",
            "xgboost_accuracy: (0.8088383838383838, 2)\n",
            ">>>rf_Accuracy: (0.8063131313131313, 3)\n",
            "LightGBM_accuracy: (0.8031986531986532, 3)\n",
            "xgboost_accuracy: (0.8108585858585858, 3)\n",
            ">>>rf_Accuracy: (0.8036195286195286, 4)\n",
            "LightGBM_accuracy: (0.8014309764309764, 4)\n",
            "xgboost_accuracy: (0.80993265993266, 4)\n",
            ">>>rf_Accuracy: (0.8056397306397306, 5)\n",
            "LightGBM_accuracy: (0.805976430976431, 5)\n",
            "xgboost_accuracy: (0.8105218855218855, 5)\n",
            "Random Forest accuracy is 0.8045959595959596\n",
            "Light GBM accuracy is 0.8023737373737374\n",
            "XGBoost accuracy is 0.8102693602693603\n",
            "              precision    recall  f1-score   support\n",
            "\n",
            "           0       0.81      0.88      0.84      6451\n",
            "           1       0.54      0.38      0.44       864\n",
            "           2       0.84      0.78      0.81      4565\n",
            "\n",
            "    accuracy                           0.81     11880\n",
            "   macro avg       0.73      0.68      0.70     11880\n",
            "weighted avg       0.80      0.81      0.80     11880\n",
            "\n"
          ]
        },
        {
          "output_type": "display_data",
          "data": {
            "text/plain": [
              "<Figure size 576x360 with 2 Axes>"
            ],
            "image/png": "[encoded data removed]"
          },
          "metadata": {
            "needs_background": "light"
          }
        },
        {
          "output_type": "stream",
          "name": "stdout",
          "text": [
            "              precision    recall  f1-score   support\n",
            "\n",
            "           0       0.81      0.88      0.84      6451\n",
            "           1       0.53      0.36      0.43       864\n",
            "           2       0.84      0.79      0.81      4565\n",
            "\n",
            "    accuracy                           0.81     11880\n",
            "   macro avg       0.72      0.68      0.69     11880\n",
            "weighted avg       0.80      0.81      0.80     11880\n",
            "\n"
          ]
        },
        {
          "output_type": "display_data",
          "data": {
            "text/plain": [
              "<Figure size 576x360 with 2 Axes>"
            ],
            "image/png": "[encoded data removed]"
          },
          "metadata": {
            "needs_background": "light"
          }
        },
        {
          "output_type": "stream",
          "name": "stdout",
          "text": [
            "              precision    recall  f1-score   support\n",
            "\n",
            "           0       0.81      0.90      0.85      6451\n",
            "           1       0.58      0.35      0.44       864\n",
            "           2       0.85      0.78      0.81      4565\n",
            "\n",
            "    accuracy                           0.81     11880\n",
            "   macro avg       0.74      0.68      0.70     11880\n",
            "weighted avg       0.81      0.81      0.80     11880\n",
            "\n"
          ]
        },
        {
          "output_type": "display_data",
          "data": {
            "text/plain": [
              "<Figure size 576x360 with 2 Axes>"
            ],
            "image/png": "[encoded data removed]"
          },
          "metadata": {
            "needs_background": "light"
          }
        }
      ]
    },
    {
      "cell_type": "markdown",
      "source": [
        "#5.2 Feature Engineering and Modeling within Cross Validation - CatBoost Encoding"
      ],
      "metadata": {
        "id": "lnAQDMFX4n6V"
      }
    },
    {
      "cell_type": "code",
      "source": [
        "# Use the results of any categorical encoding that you chose\n",
        "\n",
        "train = cb_train.copy()\n",
        "test = cb_test.copy()"
      ],
      "metadata": {
        "id": "S9PQD4RL4n6V"
      },
      "execution_count": 342,
      "outputs": []
    },
    {
      "cell_type": "code",
      "source": [
        "X = train.drop('status_group',axis=1)\n",
        "y = train.status_group"
      ],
      "metadata": {
        "id": "8zH2_woy4n6V"
      },
      "execution_count": 343,
      "outputs": []
    },
    {
      "cell_type": "code",
      "source": [
        "n_repeats =1\n",
        "n_splits = 5\n",
        "rskf = RepeatedStratifiedKFold(n_splits=n_splits, n_repeats = n_repeats, random_state=0)"
      ],
      "metadata": {
        "id": "XKD3oPXy4n6W"
      },
      "execution_count": 344,
      "outputs": []
    },
    {
      "cell_type": "code",
      "source": [
        "\n",
        "split = 0\n",
        "mean_acc_rf = 0\n",
        "mean_acc_lgbm = 0\n",
        "mean_acc_xgb = 0\n",
        "mean_acc_ada = 0\n",
        "\n",
        "for train_index, test_index in rskf.split(X, y):\n",
        "    \n",
        "    # Print a dot for each train / test partition\n",
        "    sys.stdout.write('>>>')\n",
        "    sys.stdout.flush()\n",
        "    \n",
        "    #Test & train split insode the CV\n",
        "    X_train, X_test = X.loc[train_index], X.loc[test_index]\n",
        "    y_train, y_test = y.loc[train_index], y.loc[test_index]\n",
        "\n",
        "    #Fitting the rare value encoders\n",
        "    rare_encoder.fit(X_train)\n",
        "    rare_encoder_EXtreme_Cardinality.fit(X_train)\n",
        "    rare_encoder_ExCard_ward.fit(X_train)\n",
        "\n",
        "    rare_enc_X_train = rare_encoder.transform(X_train)\n",
        "    rare_enc_X_train = rare_encoder_EXtreme_Cardinality.transform(rare_enc_X_train)\n",
        "    rare_enc_X_train = rare_encoder_ExCard_ward.transform(rare_enc_X_train)\n",
        "\n",
        "    rare_enc_X_test = rare_encoder.transform(X_test)\n",
        "    rare_enc_X_test = rare_encoder_EXtreme_Cardinality.transform(rare_enc_X_test)\n",
        "    rare_enc_X_test = rare_encoder_ExCard_ward.transform(rare_enc_X_test)\n",
        "\n",
        "    #Fitting the Categorical encoders\n",
        "    cat_ecn = cb_enc.fit(X_train, y_train)\n",
        "    X_train = cb_enc.transform(X_train)\n",
        "    X_test = cb_enc.transform(X_test)\n",
        "\n",
        "\n",
        "##Fitting Models:\n",
        "\n",
        "# Random Forest\n",
        "    rf_clf.fit(X_train, y_train)\n",
        "    y_pred_rf = rf_clf.predict(X_test)\n",
        "    rf_accuracy = metrics.accuracy_score(y_test, y_pred_rf)\n",
        "    mean_acc_rf += rf_accuracy\n",
        "    print(f'rf_Accuracy: {rf_accuracy, split+1}')\n",
        "\n",
        "# LightGBM\n",
        "    LightGBM_Clf.fit(X_train, y_train)\n",
        "    y_pred_LightGBM = LightGBM_Clf.predict(X_test)\n",
        "    LightGBM_accuracy = metrics.accuracy_score(y_test, y_pred_LightGBM)\n",
        "    mean_acc_lgbm += LightGBM_accuracy\n",
        "    print(f'LightGBM_accuracy: {LightGBM_accuracy, split+1}')\n",
        "\n",
        "#xgboost\n",
        "    xgboost_clf.fit(X_train, y_train)\n",
        "    y_pred_xgboost = xgboost_clf.predict(X_test)\n",
        "    xgboost_accuracy = metrics.accuracy_score(y_test, y_pred_xgboost)\n",
        "    mean_acc_xgb += xgboost_accuracy\n",
        "    print(f'xgboost_accuracy: {xgboost_accuracy, split+1}')\n",
        "\n",
        "#adaboost\n",
        "    # AdaBoost_clf.fit(X_train, y_train)\n",
        "    # y_pred_rf = rf_clf.predict(X_test)\n",
        "    # AdaBoostt_accuracy = metrics.accuracy_score(y_test, y_pred_rf)\n",
        "    # mean_acc_ada += AdaBoostt_accuracy\n",
        "    # print(f'AdaBoostt_accuracy: {AdaBoostt_accuracy, split+1}')\n",
        "\n",
        "    split +=1 \n",
        "\n",
        "print('Random Forest accuracy is' ,mean_acc_rf/n_splits)\n",
        "print('Light GBM accuracy is' ,mean_acc_lgbm/n_splits)\n",
        "print('XGBoost accuracy is' ,mean_acc_xgb/n_splits)\n",
        "# print('AdaBoosting accuracy is' ,mean_acc_ada/n_splits)\n",
        "\n",
        "\n",
        "print(classification_report(y_test, y_pred_rf))\n",
        "# Plot confusion matrix for random Forest\n",
        "fig, ax = plt.subplots(figsize=(8, 5))\n",
        "cmp = ConfusionMatrixDisplay(\n",
        "    confusion_matrix(y_test, y_pred_rf),\n",
        "    display_labels=[\"functional\", \"non_functional\", \"func_needs_repair\"],\n",
        ")\n",
        "\n",
        "cmp.plot(ax=ax)\n",
        "plt.show();\n",
        "\n",
        "\n",
        "print(classification_report(y_test, y_pred_LightGBM))\n",
        "# Plot confusion matrix for LightGBM\n",
        "fig, ax = plt.subplots(figsize=(8, 5))\n",
        "cmp = ConfusionMatrixDisplay(\n",
        "    confusion_matrix(y_test, y_pred_LightGBM),\n",
        "    display_labels=[\"functional\", \"non_functional\", \"func_needs_repair\"],\n",
        ")\n",
        "\n",
        "cmp.plot(ax=ax)\n",
        "plt.show();\n",
        "\n",
        "\n",
        "print(classification_report(y_test, y_pred_xgboost))\n",
        "# Plot confusion matrix for XGBoost\n",
        "fig, ax = plt.subplots(figsize=(8, 5))\n",
        "cmp = ConfusionMatrixDisplay(\n",
        "    confusion_matrix(y_test, y_pred_xgboost),\n",
        "    display_labels=[\"functional\", \"non_functional\", \"func_needs_repair\"],\n",
        ")\n",
        "\n",
        "cmp.plot(ax=ax)\n",
        "plt.show();\n",
        "\n",
        "\n",
        "# print(classification_report(y_test, y_pred_AdaBoost))\n",
        "# # Plot confusion matrix for AdaBoost\n",
        "# fig, ax = plt.subplots(figsize=(8, 5))\n",
        "# cmp = ConfusionMatrixDisplay(\n",
        "#     confusion_matrix(y_test, y_pred_AdaBoost),\n",
        "#     display_labels=[\"functional\", \"non_functional\", \"func_needs_repair\"],\n",
        "# )\n",
        "\n",
        "# cmp.plot(ax=ax)\n",
        "# plt.show();"
      ],
      "metadata": {
        "colab": {
          "base_uri": "https://localhost:8080/",
          "height": 1000
        },
        "outputId": "af9fd316-4e66-4425-a476-6fad8dd3f89f",
        "id": "m75gumcz4n6W"
      },
      "execution_count": 345,
      "outputs": [
        {
          "output_type": "stream",
          "name": "stdout",
          "text": [
            ">>>rf_Accuracy: (0.8088383838383838, 1)\n",
            "LightGBM_accuracy: (0.8062289562289562, 1)\n",
            "xgboost_accuracy: (0.8128787878787879, 1)\n",
            ">>>rf_Accuracy: (0.805976430976431, 2)\n",
            "LightGBM_accuracy: (0.8026936026936027, 2)\n",
            "xgboost_accuracy: (0.8077441077441078, 2)\n",
            ">>>rf_Accuracy: (0.8081649831649832, 3)\n",
            "LightGBM_accuracy: (0.8053872053872054, 3)\n",
            "xgboost_accuracy: (0.8105218855218855, 3)\n",
            ">>>rf_Accuracy: (0.8076599326599326, 4)\n",
            "LightGBM_accuracy: (0.8064814814814815, 4)\n",
            "xgboost_accuracy: (0.8111111111111111, 4)\n",
            ">>>rf_Accuracy: (0.8080808080808081, 5)\n",
            "LightGBM_accuracy: (0.8035353535353535, 5)\n",
            "xgboost_accuracy: (0.8121212121212121, 5)\n",
            "Random Forest accuracy is 0.8077441077441078\n",
            "Light GBM accuracy is 0.8048653198653198\n",
            "XGBoost accuracy is 0.810875420875421\n",
            "              precision    recall  f1-score   support\n",
            "\n",
            "           0       0.81      0.88      0.84      6451\n",
            "           1       0.57      0.36      0.44       864\n",
            "           2       0.84      0.79      0.81      4565\n",
            "\n",
            "    accuracy                           0.81     11880\n",
            "   macro avg       0.74      0.68      0.70     11880\n",
            "weighted avg       0.80      0.81      0.80     11880\n",
            "\n"
          ]
        },
        {
          "output_type": "display_data",
          "data": {
            "text/plain": [
              "<Figure size 576x360 with 2 Axes>"
            ],
            "image/png": "[encoded data removed]"
          },
          "metadata": {
            "needs_background": "light"
          }
        },
        {
          "output_type": "stream",
          "name": "stdout",
          "text": [
            "              precision    recall  f1-score   support\n",
            "\n",
            "           0       0.81      0.88      0.84      6451\n",
            "           1       0.52      0.35      0.42       864\n",
            "           2       0.83      0.78      0.81      4565\n",
            "\n",
            "    accuracy                           0.80     11880\n",
            "   macro avg       0.72      0.67      0.69     11880\n",
            "weighted avg       0.80      0.80      0.80     11880\n",
            "\n"
          ]
        },
        {
          "output_type": "display_data",
          "data": {
            "text/plain": [
              "<Figure size 576x360 with 2 Axes>"
            ],
            "image/png": "[encoded data removed]"
          },
          "metadata": {
            "needs_background": "light"
          }
        },
        {
          "output_type": "stream",
          "name": "stdout",
          "text": [
            "              precision    recall  f1-score   support\n",
            "\n",
            "           0       0.81      0.90      0.85      6451\n",
            "           1       0.63      0.33      0.43       864\n",
            "           2       0.84      0.78      0.81      4565\n",
            "\n",
            "    accuracy                           0.81     11880\n",
            "   macro avg       0.76      0.67      0.70     11880\n",
            "weighted avg       0.81      0.81      0.80     11880\n",
            "\n"
          ]
        },
        {
          "output_type": "display_data",
          "data": {
            "text/plain": [
              "<Figure size 576x360 with 2 Axes>"
            ],
            "image/png": "[encoded data removed]"
          },
          "metadata": {
            "needs_background": "light"
          }
        }
      ]
    },
    {
      "cell_type": "markdown",
      "source": [
        "#5.3 Feature Engineering and Modeling within Cross Validation - Mean Target Encoding"
      ],
      "metadata": {
        "id": "4PcETvpaBOOP"
      }
    },
    {
      "cell_type": "code",
      "source": [
        "# Use the results of any categorical encoding that you chose\n",
        "\n",
        "train = mtar_train.copy()\n",
        "test = mtar_test.copy()"
      ],
      "metadata": {
        "id": "43-9FJD1BOOS"
      },
      "execution_count": 346,
      "outputs": []
    },
    {
      "cell_type": "code",
      "source": [
        "X = train.drop('status_group',axis=1)\n",
        "y = train.status_group"
      ],
      "metadata": {
        "id": "fxVzmc1qBOOU"
      },
      "execution_count": 347,
      "outputs": []
    },
    {
      "cell_type": "code",
      "source": [
        "n_repeats =1\n",
        "n_splits = 5\n",
        "rskf = RepeatedStratifiedKFold(n_splits=n_splits, n_repeats = n_repeats, random_state=0)"
      ],
      "metadata": {
        "id": "nGG_YkDLBOOV"
      },
      "execution_count": 348,
      "outputs": []
    },
    {
      "cell_type": "code",
      "source": [
        "\n",
        "split = 0\n",
        "mean_acc_rf = 0\n",
        "mean_acc_lgbm = 0\n",
        "mean_acc_xgb = 0\n",
        "mean_acc_ada = 0\n",
        "\n",
        "for train_index, test_index in rskf.split(X, y):\n",
        "    \n",
        "    # Print a dot for each train / test partition\n",
        "    sys.stdout.write('>>>')\n",
        "    sys.stdout.flush()\n",
        "    \n",
        "    #Test & train split insode the CV\n",
        "    X_train, X_test = X.loc[train_index], X.loc[test_index]\n",
        "    y_train, y_test = y.loc[train_index], y.loc[test_index]\n",
        "\n",
        "    #Fitting the rare value encoders\n",
        "    rare_encoder.fit(X_train)\n",
        "    rare_encoder_EXtreme_Cardinality.fit(X_train)\n",
        "    rare_encoder_ExCard_ward.fit(X_train)\n",
        "\n",
        "    rare_enc_X_train = rare_encoder.transform(X_train)\n",
        "    rare_enc_X_train = rare_encoder_EXtreme_Cardinality.transform(rare_enc_X_train)\n",
        "    rare_enc_X_train = rare_encoder_ExCard_ward.transform(rare_enc_X_train)\n",
        "\n",
        "    rare_enc_X_test = rare_encoder.transform(X_test)\n",
        "    rare_enc_X_test = rare_encoder_EXtreme_Cardinality.transform(rare_enc_X_test)\n",
        "    rare_enc_X_test = rare_encoder_ExCard_ward.transform(rare_enc_X_test)\n",
        "\n",
        "    #Fitting the Categorical encoders\n",
        "    mtar_ecn = mtar_enc.fit(X_train, y_train)\n",
        "    X_train = mtar_enc.transform(X_train)\n",
        "    X_test = mtar_enc.transform(X_test)\n",
        "\n",
        "\n",
        "##Fitting Models:\n",
        "\n",
        "# Random Forest\n",
        "    rf_clf.fit(X_train, y_train)\n",
        "    y_pred_rf = rf_clf.predict(X_test)\n",
        "    rf_accuracy = metrics.accuracy_score(y_test, y_pred_rf)\n",
        "    mean_acc_rf += rf_accuracy\n",
        "    print(f'rf_Accuracy: {rf_accuracy, split+1}')\n",
        "\n",
        "# LightGBM\n",
        "    LightGBM_Clf.fit(X_train, y_train)\n",
        "    y_pred_LightGBM = LightGBM_Clf.predict(X_test)\n",
        "    LightGBM_accuracy = metrics.accuracy_score(y_test, y_pred_LightGBM)\n",
        "    mean_acc_lgbm += LightGBM_accuracy\n",
        "    print(f'LightGBM_accuracy: {LightGBM_accuracy, split+1}')\n",
        "\n",
        "#xgboost\n",
        "    xgboost_clf.fit(X_train, y_train)\n",
        "    y_pred_xgboost = xgboost_clf.predict(X_test)\n",
        "    xgboost_accuracy = metrics.accuracy_score(y_test, y_pred_xgboost)\n",
        "    mean_acc_xgb += xgboost_accuracy\n",
        "    print(f'xgboost_accuracy: {xgboost_accuracy, split+1}')\n",
        "\n",
        "#adaboost\n",
        "    # AdaBoost_clf.fit(X_train, y_train)\n",
        "    # y_pred_rf = rf_clf.predict(X_test)\n",
        "    # AdaBoostt_accuracy = metrics.accuracy_score(y_test, y_pred_rf)\n",
        "    # mean_acc_ada += AdaBoostt_accuracy\n",
        "    # print(f'AdaBoostt_accuracy: {AdaBoostt_accuracy, split+1}')\n",
        "\n",
        "    split +=1 \n",
        "\n",
        "print('Random Forest accuracy is' ,mean_acc_rf/n_splits)\n",
        "print('Light GBM accuracy is' ,mean_acc_lgbm/n_splits)\n",
        "print('XGBoost accuracy is' ,mean_acc_xgb/n_splits)\n",
        "# print('AdaBoosting accuracy is' ,mean_acc_ada/n_splits)\n",
        "\n",
        "\n",
        "print(classification_report(y_test, y_pred_rf))\n",
        "# Plot confusion matrix for random Forest\n",
        "fig, ax = plt.subplots(figsize=(8, 5))\n",
        "cmp = ConfusionMatrixDisplay(\n",
        "    confusion_matrix(y_test, y_pred_rf),\n",
        "    display_labels=[\"functional\", \"non_functional\", \"func_needs_repair\"],\n",
        ")\n",
        "\n",
        "cmp.plot(ax=ax)\n",
        "plt.show();\n",
        "\n",
        "\n",
        "print(classification_report(y_test, y_pred_LightGBM))\n",
        "# Plot confusion matrix for LightGBM\n",
        "fig, ax = plt.subplots(figsize=(8, 5))\n",
        "cmp = ConfusionMatrixDisplay(\n",
        "    confusion_matrix(y_test, y_pred_LightGBM),\n",
        "    display_labels=[\"functional\", \"non_functional\", \"func_needs_repair\"],\n",
        ")\n",
        "\n",
        "cmp.plot(ax=ax)\n",
        "plt.show();\n",
        "\n",
        "\n",
        "print(classification_report(y_test, y_pred_xgboost))\n",
        "# Plot confusion matrix for XGBoost\n",
        "fig, ax = plt.subplots(figsize=(8, 5))\n",
        "cmp = ConfusionMatrixDisplay(\n",
        "    confusion_matrix(y_test, y_pred_xgboost),\n",
        "    display_labels=[\"functional\", \"non_functional\", \"func_needs_repair\"],\n",
        ")\n",
        "\n",
        "cmp.plot(ax=ax)\n",
        "plt.show();\n",
        "\n",
        "\n",
        "# print(classification_report(y_test, y_pred_AdaBoost))\n",
        "# # Plot confusion matrix for AdaBoost\n",
        "# fig, ax = plt.subplots(figsize=(8, 5))\n",
        "# cmp = ConfusionMatrixDisplay(\n",
        "#     confusion_matrix(y_test, y_pred_AdaBoost),\n",
        "#     display_labels=[\"functional\", \"non_functional\", \"func_needs_repair\"],\n",
        "# )\n",
        "\n",
        "# cmp.plot(ax=ax)\n",
        "# plt.show();"
      ],
      "metadata": {
        "colab": {
          "base_uri": "https://localhost:8080/",
          "height": 1000
        },
        "outputId": "2e39c8cc-d58e-4a24-946a-2d80eba87f86",
        "id": "O0ZxxS0JBOOV"
      },
      "execution_count": 349,
      "outputs": [
        {
          "output_type": "stream",
          "name": "stdout",
          "text": [
            ">>>rf_Accuracy: (0.8087542087542088, 1)\n",
            "LightGBM_accuracy: (0.8085016835016835, 1)\n",
            "xgboost_accuracy: (0.8122053872053872, 1)\n",
            ">>>rf_Accuracy: (0.8058922558922559, 2)\n",
            "LightGBM_accuracy: (0.8044612794612794, 2)\n",
            "xgboost_accuracy: (0.80993265993266, 2)\n",
            ">>>rf_Accuracy: (0.8089225589225589, 3)\n",
            "LightGBM_accuracy: (0.8058922558922559, 3)\n",
            "xgboost_accuracy: (0.812962962962963, 3)\n",
            ">>>rf_Accuracy: (0.8062289562289562, 4)\n",
            "LightGBM_accuracy: (0.8036195286195286, 4)\n",
            "xgboost_accuracy: (0.8112794612794613, 4)\n",
            ">>>rf_Accuracy: (0.8098484848484848, 5)\n",
            "LightGBM_accuracy: (0.8044612794612794, 5)\n",
            "xgboost_accuracy: (0.8142255892255892, 5)\n",
            "Random Forest accuracy is 0.8079292929292929\n",
            "Light GBM accuracy is 0.8053872053872053\n",
            "XGBoost accuracy is 0.8121212121212121\n",
            "              precision    recall  f1-score   support\n",
            "\n",
            "           0       0.81      0.89      0.85      6451\n",
            "           1       0.57      0.36      0.44       864\n",
            "           2       0.84      0.79      0.81      4565\n",
            "\n",
            "    accuracy                           0.81     11880\n",
            "   macro avg       0.74      0.68      0.70     11880\n",
            "weighted avg       0.80      0.81      0.80     11880\n",
            "\n"
          ]
        },
        {
          "output_type": "display_data",
          "data": {
            "text/plain": [
              "<Figure size 576x360 with 2 Axes>"
            ],
            "image/png": "[encoded data removed]"
          },
          "metadata": {
            "needs_background": "light"
          }
        },
        {
          "output_type": "stream",
          "name": "stdout",
          "text": [
            "              precision    recall  f1-score   support\n",
            "\n",
            "           0       0.81      0.88      0.84      6451\n",
            "           1       0.53      0.34      0.42       864\n",
            "           2       0.83      0.79      0.81      4565\n",
            "\n",
            "    accuracy                           0.80     11880\n",
            "   macro avg       0.72      0.67      0.69     11880\n",
            "weighted avg       0.80      0.80      0.80     11880\n",
            "\n"
          ]
        },
        {
          "output_type": "display_data",
          "data": {
            "text/plain": [
              "<Figure size 576x360 with 2 Axes>"
            ],
            "image/png": "[encoded data removed]"
          },
          "metadata": {
            "needs_background": "light"
          }
        },
        {
          "output_type": "stream",
          "name": "stdout",
          "text": [
            "              precision    recall  f1-score   support\n",
            "\n",
            "           0       0.81      0.90      0.85      6451\n",
            "           1       0.62      0.33      0.43       864\n",
            "           2       0.85      0.78      0.81      4565\n",
            "\n",
            "    accuracy                           0.81     11880\n",
            "   macro avg       0.76      0.67      0.70     11880\n",
            "weighted avg       0.81      0.81      0.81     11880\n",
            "\n"
          ]
        },
        {
          "output_type": "display_data",
          "data": {
            "text/plain": [
              "<Figure size 576x360 with 2 Axes>"
            ],
            "image/png": "[encoded data removed]"
          },
          "metadata": {
            "needs_background": "light"
          }
        }
      ]
    },
    {
      "cell_type": "markdown",
      "source": [
        "#5.4 Feature Engineering and Modeling within Cross Validation - LeaveOneOut Encoding"
      ],
      "metadata": {
        "id": "C80gsQwXEaUe"
      }
    },
    {
      "cell_type": "code",
      "source": [
        "# Use the results of any categorical encoding that you chose\n",
        "\n",
        "train = loo_train.copy()\n",
        "test = loo_test.copy()"
      ],
      "metadata": {
        "id": "bLOpOS3SEaUg"
      },
      "execution_count": 350,
      "outputs": []
    },
    {
      "cell_type": "code",
      "source": [
        "X = train.drop('status_group',axis=1)\n",
        "y = train.status_group"
      ],
      "metadata": {
        "id": "KDCZUgeaEaUh"
      },
      "execution_count": 351,
      "outputs": []
    },
    {
      "cell_type": "code",
      "source": [
        "n_repeats =1\n",
        "n_splits = 5\n",
        "rskf = RepeatedStratifiedKFold(n_splits=n_splits, n_repeats = n_repeats, random_state=0)"
      ],
      "metadata": {
        "id": "0NYvSWTOEaUh"
      },
      "execution_count": 352,
      "outputs": []
    },
    {
      "cell_type": "code",
      "source": [
        "\n",
        "split = 0\n",
        "mean_acc_rf = 0\n",
        "mean_acc_lgbm = 0\n",
        "mean_acc_xgb = 0\n",
        "mean_acc_ada = 0\n",
        "\n",
        "for train_index, test_index in rskf.split(X, y):\n",
        "    \n",
        "    # Print a dot for each train / test partition\n",
        "    sys.stdout.write('>>>')\n",
        "    sys.stdout.flush()\n",
        "    \n",
        "    #Test & train split insode the CV\n",
        "    X_train, X_test = X.loc[train_index], X.loc[test_index]\n",
        "    y_train, y_test = y.loc[train_index], y.loc[test_index]\n",
        "\n",
        "    #Fitting the rare value encoders\n",
        "    rare_encoder.fit(X_train)\n",
        "    rare_encoder_EXtreme_Cardinality.fit(X_train)\n",
        "    rare_encoder_ExCard_ward.fit(X_train)\n",
        "\n",
        "    rare_enc_X_train = rare_encoder.transform(X_train)\n",
        "    rare_enc_X_train = rare_encoder_EXtreme_Cardinality.transform(rare_enc_X_train)\n",
        "    rare_enc_X_train = rare_encoder_ExCard_ward.transform(rare_enc_X_train)\n",
        "\n",
        "    rare_enc_X_test = rare_encoder.transform(X_test)\n",
        "    rare_enc_X_test = rare_encoder_EXtreme_Cardinality.transform(rare_enc_X_test)\n",
        "    rare_enc_X_test = rare_encoder_ExCard_ward.transform(rare_enc_X_test)\n",
        "\n",
        "    #Fitting the Categorical encoders\n",
        "    loo_ecn = loo_enc.fit(X_train, y_train)\n",
        "    X_train = loo_enc.transform(X_train)\n",
        "    X_test = loo_enc.transform(X_test)\n",
        "\n",
        "\n",
        "##Fitting Models:\n",
        "\n",
        "# Random Forest\n",
        "    rf_clf.fit(X_train, y_train)\n",
        "    y_pred_rf = rf_clf.predict(X_test)\n",
        "    rf_accuracy = metrics.accuracy_score(y_test, y_pred_rf)\n",
        "    mean_acc_rf += rf_accuracy\n",
        "    print(f'rf_Accuracy: {rf_accuracy, split+1}')\n",
        "\n",
        "# LightGBM\n",
        "    LightGBM_Clf.fit(X_train, y_train)\n",
        "    y_pred_LightGBM = LightGBM_Clf.predict(X_test)\n",
        "    LightGBM_accuracy = metrics.accuracy_score(y_test, y_pred_LightGBM)\n",
        "    mean_acc_lgbm += LightGBM_accuracy\n",
        "    print(f'LightGBM_accuracy: {LightGBM_accuracy, split+1}')\n",
        "\n",
        "#xgboost\n",
        "    xgboost_clf.fit(X_train, y_train)\n",
        "    y_pred_xgboost = xgboost_clf.predict(X_test)\n",
        "    xgboost_accuracy = metrics.accuracy_score(y_test, y_pred_xgboost)\n",
        "    mean_acc_xgb += xgboost_accuracy\n",
        "    print(f'xgboost_accuracy: {xgboost_accuracy, split+1}')\n",
        "\n",
        "#adaboost\n",
        "    # AdaBoost_clf.fit(X_train, y_train)\n",
        "    # y_pred_rf = rf_clf.predict(X_test)\n",
        "    # AdaBoostt_accuracy = metrics.accuracy_score(y_test, y_pred_rf)\n",
        "    # mean_acc_ada += AdaBoostt_accuracy\n",
        "    # print(f'AdaBoostt_accuracy: {AdaBoostt_accuracy, split+1}')\n",
        "\n",
        "    split +=1 \n",
        "\n",
        "print('Random Forest accuracy is' ,mean_acc_rf/n_splits)\n",
        "print('Light GBM accuracy is' ,mean_acc_lgbm/n_splits)\n",
        "print('XGBoost accuracy is' ,mean_acc_xgb/n_splits)\n",
        "# print('AdaBoosting accuracy is' ,mean_acc_ada/n_splits)\n",
        "\n",
        "\n",
        "\n",
        "print(classification_report(y_test, y_pred_rf))\n",
        "# Plot confusion matrix for random Forest\n",
        "fig, ax = plt.subplots(figsize=(8, 5))\n",
        "cmp = ConfusionMatrixDisplay(\n",
        "    confusion_matrix(y_test, y_pred_rf),\n",
        "    display_labels=[\"functional\", \"non_functional\", \"func_needs_repair\"],\n",
        ")\n",
        "\n",
        "cmp.plot(ax=ax)\n",
        "plt.show();\n",
        "\n",
        "\n",
        "print(classification_report(y_test, y_pred_LightGBM))\n",
        "# Plot confusion matrix for LightGBM\n",
        "fig, ax = plt.subplots(figsize=(8, 5))\n",
        "cmp = ConfusionMatrixDisplay(\n",
        "    confusion_matrix(y_test, y_pred_LightGBM),\n",
        "    display_labels=[\"functional\", \"non_functional\", \"func_needs_repair\"],\n",
        ")\n",
        "\n",
        "cmp.plot(ax=ax)\n",
        "plt.show();\n",
        "\n",
        "\n",
        "print(classification_report(y_test, y_pred_xgboost))\n",
        "# Plot confusion matrix for XGBoost\n",
        "fig, ax = plt.subplots(figsize=(8, 5))\n",
        "cmp = ConfusionMatrixDisplay(\n",
        "    confusion_matrix(y_test, y_pred_xgboost),\n",
        "    display_labels=[\"functional\", \"non_functional\", \"func_needs_repair\"],\n",
        ")\n",
        "\n",
        "cmp.plot(ax=ax)\n",
        "plt.show();\n",
        "\n",
        "\n",
        "# print(classification_report(y_test, y_pred_AdaBoost))\n",
        "# # Plot confusion matrix for AdaBoost\n",
        "# fig, ax = plt.subplots(figsize=(8, 5))\n",
        "# cmp = ConfusionMatrixDisplay(\n",
        "#     confusion_matrix(y_test, y_pred_AdaBoost),\n",
        "#     display_labels=[\"functional\", \"non_functional\", \"func_needs_repair\"],\n",
        "# )\n",
        "\n",
        "# cmp.plot(ax=ax)\n",
        "# plt.show();"
      ],
      "metadata": {
        "colab": {
          "base_uri": "https://localhost:8080/",
          "height": 1000
        },
        "outputId": "934dcf46-6381-4aed-e8a7-8514b4cd5d09",
        "id": "KiUsRHi5EaUi"
      },
      "execution_count": 353,
      "outputs": [
        {
          "output_type": "stream",
          "name": "stdout",
          "text": [
            ">>>rf_Accuracy: (0.8094276094276094, 1)\n",
            "LightGBM_accuracy: (0.8077441077441078, 1)\n",
            "xgboost_accuracy: (0.8095117845117845, 1)\n",
            ">>>rf_Accuracy: (0.8063973063973064, 2)\n",
            "LightGBM_accuracy: (0.8013468013468014, 2)\n",
            "xgboost_accuracy: (0.8063973063973064, 2)\n",
            ">>>rf_Accuracy: (0.8081649831649832, 3)\n",
            "LightGBM_accuracy: (0.803956228956229, 3)\n",
            "xgboost_accuracy: (0.8136363636363636, 3)\n",
            ">>>rf_Accuracy: (0.8076599326599326, 4)\n",
            "LightGBM_accuracy: (0.8015151515151515, 4)\n",
            "xgboost_accuracy: (0.8103535353535354, 4)\n",
            ">>>rf_Accuracy: (0.807070707070707, 5)\n",
            "LightGBM_accuracy: (0.80496632996633, 5)\n",
            "xgboost_accuracy: (0.8116161616161616, 5)\n",
            "Random Forest accuracy is 0.8077441077441078\n",
            "Light GBM accuracy is 0.8039057239057239\n",
            "XGBoost accuracy is 0.8103030303030303\n",
            "              precision    recall  f1-score   support\n",
            "\n",
            "           0       0.81      0.88      0.84      6451\n",
            "           1       0.56      0.36      0.44       864\n",
            "           2       0.84      0.79      0.81      4565\n",
            "\n",
            "    accuracy                           0.81     11880\n",
            "   macro avg       0.74      0.68      0.70     11880\n",
            "weighted avg       0.80      0.81      0.80     11880\n",
            "\n"
          ]
        },
        {
          "output_type": "display_data",
          "data": {
            "text/plain": [
              "<Figure size 576x360 with 2 Axes>"
            ],
            "image/png": "[encoded data removed]"
          },
          "metadata": {
            "needs_background": "light"
          }
        },
        {
          "output_type": "stream",
          "name": "stdout",
          "text": [
            "              precision    recall  f1-score   support\n",
            "\n",
            "           0       0.81      0.88      0.84      6451\n",
            "           1       0.52      0.35      0.42       864\n",
            "           2       0.83      0.79      0.81      4565\n",
            "\n",
            "    accuracy                           0.80     11880\n",
            "   macro avg       0.72      0.67      0.69     11880\n",
            "weighted avg       0.80      0.80      0.80     11880\n",
            "\n"
          ]
        },
        {
          "output_type": "display_data",
          "data": {
            "text/plain": [
              "<Figure size 576x360 with 2 Axes>"
            ],
            "image/png": "[encoded data removed]"
          },
          "metadata": {
            "needs_background": "light"
          }
        },
        {
          "output_type": "stream",
          "name": "stdout",
          "text": [
            "              precision    recall  f1-score   support\n",
            "\n",
            "           0       0.81      0.90      0.85      6451\n",
            "           1       0.65      0.33      0.44       864\n",
            "           2       0.84      0.78      0.81      4565\n",
            "\n",
            "    accuracy                           0.81     11880\n",
            "   macro avg       0.76      0.67      0.70     11880\n",
            "weighted avg       0.81      0.81      0.80     11880\n",
            "\n"
          ]
        },
        {
          "output_type": "display_data",
          "data": {
            "text/plain": [
              "<Figure size 576x360 with 2 Axes>"
            ],
            "image/png": "[encoded data removed]"
          },
          "metadata": {
            "needs_background": "light"
          }
        }
      ]
    },
    {
      "cell_type": "markdown",
      "source": [
        "#5.5 Feature Engineering and Modeling within Cross Validation - MEstimate Encoding"
      ],
      "metadata": {
        "id": "1u43_2aIGhKv"
      }
    },
    {
      "cell_type": "code",
      "source": [
        "# Use the results of any categorical encoding that you chose\n",
        "\n",
        "train = loo_train.copy()\n",
        "test = loo_test.copy()"
      ],
      "metadata": {
        "id": "IGQQcfB6GhKy"
      },
      "execution_count": 354,
      "outputs": []
    },
    {
      "cell_type": "code",
      "source": [
        "X = train.drop('status_group',axis=1)\n",
        "y = train.status_group"
      ],
      "metadata": {
        "id": "j4j2_0j9GhK0"
      },
      "execution_count": 355,
      "outputs": []
    },
    {
      "cell_type": "code",
      "source": [
        "n_repeats =1\n",
        "n_splits = 5\n",
        "rskf = RepeatedStratifiedKFold(n_splits=n_splits, n_repeats = n_repeats, random_state=0)"
      ],
      "metadata": {
        "id": "_QW0M5v1GhK1"
      },
      "execution_count": 356,
      "outputs": []
    },
    {
      "cell_type": "code",
      "source": [
        "\n",
        "split = 0\n",
        "mean_acc_rf = 0\n",
        "mean_acc_lgbm = 0\n",
        "mean_acc_xgb = 0\n",
        "mean_acc_ada = 0\n",
        "\n",
        "for train_index, test_index in rskf.split(X, y):\n",
        "    \n",
        "    # Print a dot for each train / test partition\n",
        "    sys.stdout.write('>>>')\n",
        "    sys.stdout.flush()\n",
        "    \n",
        "    #Test & train split insode the CV\n",
        "    X_train, X_test = X.loc[train_index], X.loc[test_index]\n",
        "    y_train, y_test = y.loc[train_index], y.loc[test_index]\n",
        "\n",
        "    #Fitting the rare value encoders\n",
        "    rare_encoder.fit(X_train)\n",
        "    rare_encoder_EXtreme_Cardinality.fit(X_train)\n",
        "    rare_encoder_ExCard_ward.fit(X_train)\n",
        "\n",
        "    rare_enc_X_train = rare_encoder.transform(X_train)\n",
        "    rare_enc_X_train = rare_encoder_EXtreme_Cardinality.transform(rare_enc_X_train)\n",
        "    rare_enc_X_train = rare_encoder_ExCard_ward.transform(rare_enc_X_train)\n",
        "\n",
        "    rare_enc_X_test = rare_encoder.transform(X_test)\n",
        "    rare_enc_X_test = rare_encoder_EXtreme_Cardinality.transform(rare_enc_X_test)\n",
        "    rare_enc_X_test = rare_encoder_ExCard_ward.transform(rare_enc_X_test)\n",
        "\n",
        "    #Fitting the Categorical encoders\n",
        "    me_ecn = me_enc.fit(X_train, y_train)\n",
        "    X_train = me_enc.transform(X_train)\n",
        "    X_test = me_enc.transform(X_test)\n",
        "\n",
        "\n",
        "##Fitting Models:\n",
        "\n",
        "# Random Forest\n",
        "    rf_clf.fit(X_train, y_train)\n",
        "    y_pred_rf = rf_clf.predict(X_test)\n",
        "    rf_accuracy = metrics.accuracy_score(y_test, y_pred_rf)\n",
        "    mean_acc_rf += rf_accuracy\n",
        "    print(f'rf_Accuracy: {rf_accuracy, split+1}')\n",
        "\n",
        "# LightGBM\n",
        "    LightGBM_Clf.fit(X_train, y_train)\n",
        "    y_pred_LightGBM = LightGBM_Clf.predict(X_test)\n",
        "    LightGBM_accuracy = metrics.accuracy_score(y_test, y_pred_LightGBM)\n",
        "    mean_acc_lgbm += LightGBM_accuracy\n",
        "    print(f'LightGBM_accuracy: {LightGBM_accuracy, split+1}')\n",
        "\n",
        "#xgboost\n",
        "    xgboost_clf.fit(X_train, y_train)\n",
        "    y_pred_xgboost = xgboost_clf.predict(X_test)\n",
        "    xgboost_accuracy = metrics.accuracy_score(y_test, y_pred_xgboost)\n",
        "    mean_acc_xgb += xgboost_accuracy\n",
        "    print(f'xgboost_accuracy: {xgboost_accuracy, split+1}')\n",
        "\n",
        "#adaboost\n",
        "    # AdaBoost_clf.fit(X_train, y_train)\n",
        "    # y_pred_rf = rf_clf.predict(X_test)\n",
        "    # AdaBoostt_accuracy = metrics.accuracy_score(y_test, y_pred_rf)\n",
        "    # mean_acc_ada += AdaBoostt_accuracy\n",
        "    # print(f'AdaBoostt_accuracy: {AdaBoostt_accuracy, split+1}')\n",
        "\n",
        "    split +=1 \n",
        "\n",
        "print('Random Forest accuracy is' ,mean_acc_rf/n_splits)\n",
        "print('Light GBM accuracy is' ,mean_acc_lgbm/n_splits)\n",
        "print('XGBoost accuracy is' ,mean_acc_xgb/n_splits)\n",
        "# print('AdaBoosting accuracy is' ,mean_acc_ada/n_splits)\n",
        "\n",
        "\n",
        "print(classification_report(y_test, y_pred_rf))\n",
        "# Plot confusion matrix for random Forest\n",
        "fig, ax = plt.subplots(figsize=(8, 5))\n",
        "cmp = ConfusionMatrixDisplay(\n",
        "    confusion_matrix(y_test, y_pred_rf),\n",
        "    display_labels=[\"functional\", \"non_functional\", \"func_needs_repair\"],\n",
        ")\n",
        "\n",
        "cmp.plot(ax=ax)\n",
        "plt.show();\n",
        "\n",
        "\n",
        "print(classification_report(y_test, y_pred_LightGBM))\n",
        "# Plot confusion matrix for LightGBM\n",
        "fig, ax = plt.subplots(figsize=(8, 5))\n",
        "cmp = ConfusionMatrixDisplay(\n",
        "    confusion_matrix(y_test, y_pred_LightGBM),\n",
        "    display_labels=[\"functional\", \"non_functional\", \"func_needs_repair\"],\n",
        ")\n",
        "\n",
        "cmp.plot(ax=ax)\n",
        "plt.show();\n",
        "\n",
        "\n",
        "print(classification_report(y_test, y_pred_xgboost))\n",
        "# Plot confusion matrix for XGBoost\n",
        "fig, ax = plt.subplots(figsize=(8, 5))\n",
        "cmp = ConfusionMatrixDisplay(\n",
        "    confusion_matrix(y_test, y_pred_xgboost),\n",
        "    display_labels=[\"functional\", \"non_functional\", \"func_needs_repair\"],\n",
        ")\n",
        "\n",
        "cmp.plot(ax=ax)\n",
        "plt.show();\n",
        "\n",
        "\n",
        "# print(classification_report(y_test, y_pred_AdaBoost))\n",
        "# # Plot confusion matrix for AdaBoost\n",
        "# fig, ax = plt.subplots(figsize=(8, 5))\n",
        "# cmp = ConfusionMatrixDisplay(\n",
        "#     confusion_matrix(y_test, y_pred_AdaBoost),\n",
        "#     display_labels=[\"functional\", \"non_functional\", \"func_needs_repair\"],\n",
        "# )\n",
        "\n",
        "# cmp.plot(ax=ax)\n",
        "# plt.show();"
      ],
      "metadata": {
        "colab": {
          "base_uri": "https://localhost:8080/",
          "height": 1000
        },
        "outputId": "17245c10-3a44-4193-9bef-af0e257f89df",
        "id": "u6HV3j1uGhK3"
      },
      "execution_count": 357,
      "outputs": [
        {
          "output_type": "stream",
          "name": "stdout",
          "text": [
            ">>>rf_Accuracy: (0.8077441077441078, 1)\n",
            "LightGBM_accuracy: (0.8047979797979798, 1)\n",
            "xgboost_accuracy: (0.8118686868686869, 1)\n",
            ">>>rf_Accuracy: (0.8064814814814815, 2)\n",
            "LightGBM_accuracy: (0.802946127946128, 2)\n",
            "xgboost_accuracy: (0.8074915824915825, 2)\n",
            ">>>rf_Accuracy: (0.8077441077441078, 3)\n",
            "LightGBM_accuracy: (0.8021043771043771, 3)\n",
            "xgboost_accuracy: (0.8096801346801347, 3)\n",
            ">>>rf_Accuracy: (0.8047979797979798, 4)\n",
            "LightGBM_accuracy: (0.8014309764309764, 4)\n",
            "xgboost_accuracy: (0.8066498316498316, 4)\n",
            ">>>rf_Accuracy: (0.8087542087542088, 5)\n",
            "LightGBM_accuracy: (0.8021043771043771, 5)\n",
            "xgboost_accuracy: (0.8116161616161616, 5)\n",
            "Random Forest accuracy is 0.8071043771043771\n",
            "Light GBM accuracy is 0.8026767676767677\n",
            "XGBoost accuracy is 0.8094612794612793\n",
            "              precision    recall  f1-score   support\n",
            "\n",
            "           0       0.81      0.88      0.84      6451\n",
            "           1       0.57      0.36      0.44       864\n",
            "           2       0.84      0.79      0.81      4565\n",
            "\n",
            "    accuracy                           0.81     11880\n",
            "   macro avg       0.74      0.68      0.70     11880\n",
            "weighted avg       0.80      0.81      0.80     11880\n",
            "\n"
          ]
        },
        {
          "output_type": "display_data",
          "data": {
            "text/plain": [
              "<Figure size 576x360 with 2 Axes>"
            ],
            "image/png": "[encoded data removed]"
          },
          "metadata": {
            "needs_background": "light"
          }
        },
        {
          "output_type": "stream",
          "name": "stdout",
          "text": [
            "              precision    recall  f1-score   support\n",
            "\n",
            "           0       0.81      0.88      0.84      6451\n",
            "           1       0.53      0.35      0.42       864\n",
            "           2       0.83      0.78      0.80      4565\n",
            "\n",
            "    accuracy                           0.80     11880\n",
            "   macro avg       0.72      0.67      0.69     11880\n",
            "weighted avg       0.80      0.80      0.80     11880\n",
            "\n"
          ]
        },
        {
          "output_type": "display_data",
          "data": {
            "text/plain": [
              "<Figure size 576x360 with 2 Axes>"
            ],
            "image/png": "[encoded data removed]"
          },
          "metadata": {
            "needs_background": "light"
          }
        },
        {
          "output_type": "stream",
          "name": "stdout",
          "text": [
            "              precision    recall  f1-score   support\n",
            "\n",
            "           0       0.81      0.90      0.85      6451\n",
            "           1       0.64      0.33      0.43       864\n",
            "           2       0.84      0.78      0.81      4565\n",
            "\n",
            "    accuracy                           0.81     11880\n",
            "   macro avg       0.76      0.67      0.70     11880\n",
            "weighted avg       0.81      0.81      0.80     11880\n",
            "\n"
          ]
        },
        {
          "output_type": "display_data",
          "data": {
            "text/plain": [
              "<Figure size 576x360 with 2 Axes>"
            ],
            "image/png": "[encoded data removed]"
          },
          "metadata": {
            "needs_background": "light"
          }
        }
      ]
    },
    {
      "cell_type": "markdown",
      "source": [
        "#5. Feature Engineering and Modeling within Cross Validation - James-Stein Encoding"
      ],
      "metadata": {
        "id": "sh0K-jbOHh2g"
      }
    },
    {
      "cell_type": "code",
      "source": [
        "# Use the results of any categorical encoding that you chose\n",
        "\n",
        "train = js_train.copy()\n",
        "test = js_test.copy()"
      ],
      "metadata": {
        "id": "QSHyO0LZHh2i"
      },
      "execution_count": 358,
      "outputs": []
    },
    {
      "cell_type": "code",
      "source": [
        "X = train.drop('status_group',axis=1)\n",
        "y = train.status_group"
      ],
      "metadata": {
        "id": "rE9snRasHh2j"
      },
      "execution_count": 359,
      "outputs": []
    },
    {
      "cell_type": "code",
      "source": [
        "n_repeats =1\n",
        "n_splits = 5\n",
        "rskf = RepeatedStratifiedKFold(n_splits=n_splits, n_repeats = n_repeats, random_state=0)"
      ],
      "metadata": {
        "id": "3rvB217rHh2j"
      },
      "execution_count": 360,
      "outputs": []
    },
    {
      "cell_type": "code",
      "source": [
        "\n",
        "split = 0\n",
        "mean_acc_rf = 0\n",
        "mean_acc_lgbm = 0\n",
        "mean_acc_xgb = 0\n",
        "mean_acc_ada = 0\n",
        "\n",
        "for train_index, test_index in rskf.split(X, y):\n",
        "    \n",
        "    # Print a dot for each train / test partition\n",
        "    sys.stdout.write('>>>')\n",
        "    sys.stdout.flush()\n",
        "    \n",
        "    #Test & train split insode the CV\n",
        "    X_train, X_test = X.loc[train_index], X.loc[test_index]\n",
        "    y_train, y_test = y.loc[train_index], y.loc[test_index]\n",
        "\n",
        "    #Fitting the rare value encoders\n",
        "    rare_encoder.fit(X_train)\n",
        "    rare_encoder_EXtreme_Cardinality.fit(X_train)\n",
        "    rare_encoder_ExCard_ward.fit(X_train)\n",
        "\n",
        "    rare_enc_X_train = rare_encoder.transform(X_train)\n",
        "    rare_enc_X_train = rare_encoder_EXtreme_Cardinality.transform(rare_enc_X_train)\n",
        "    rare_enc_X_train = rare_encoder_ExCard_ward.transform(rare_enc_X_train)\n",
        "\n",
        "    rare_enc_X_test = rare_encoder.transform(X_test)\n",
        "    rare_enc_X_test = rare_encoder_EXtreme_Cardinality.transform(rare_enc_X_test)\n",
        "    rare_enc_X_test = rare_encoder_ExCard_ward.transform(rare_enc_X_test)\n",
        "\n",
        "    #Fitting the Categorical encoders\n",
        "    me_ecn = js_enc.fit(X_train, y_train)\n",
        "    X_train = js_enc.transform(X_train)\n",
        "    X_test = js_enc.transform(X_test)\n",
        "\n",
        "\n",
        "##Fitting Models:\n",
        "\n",
        "# Random Forest\n",
        "    rf_clf.fit(X_train, y_train)\n",
        "    y_pred_rf = rf_clf.predict(X_test)\n",
        "    rf_accuracy = metrics.accuracy_score(y_test, y_pred_rf)\n",
        "    mean_acc_rf += rf_accuracy\n",
        "    print(f'rf_Accuracy: {rf_accuracy, split+1}')\n",
        "\n",
        "# LightGBM\n",
        "    LightGBM_Clf.fit(X_train, y_train)\n",
        "    y_pred_LightGBM = LightGBM_Clf.predict(X_test)\n",
        "    LightGBM_accuracy = metrics.accuracy_score(y_test, y_pred_LightGBM)\n",
        "    mean_acc_lgbm += LightGBM_accuracy\n",
        "    print(f'LightGBM_accuracy: {LightGBM_accuracy, split+1}')\n",
        "\n",
        "#xgboost\n",
        "    xgboost_clf.fit(X_train, y_train)\n",
        "    y_pred_xgboost = xgboost_clf.predict(X_test)\n",
        "    xgboost_accuracy = metrics.accuracy_score(y_test, y_pred_xgboost)\n",
        "    mean_acc_xgb += xgboost_accuracy\n",
        "    print(f'xgboost_accuracy: {xgboost_accuracy, split+1}')\n",
        "\n",
        "#adaboost\n",
        "    # AdaBoost_clf.fit(X_train, y_train)\n",
        "    # y_pred_rf = rf_clf.predict(X_test)\n",
        "    # AdaBoostt_accuracy = metrics.accuracy_score(y_test, y_pred_rf)\n",
        "    # mean_acc_ada += AdaBoostt_accuracy\n",
        "    # print(f'AdaBoostt_accuracy: {AdaBoostt_accuracy, split+1}')\n",
        "\n",
        "    split +=1 \n",
        "\n",
        "print('Random Forest accuracy is' ,mean_acc_rf/n_splits)\n",
        "print('Light GBM accuracy is' ,mean_acc_lgbm/n_splits)\n",
        "print('XGBoost accuracy is' ,mean_acc_xgb/n_splits)\n",
        "# print('AdaBoosting accuracy is' ,mean_acc_ada/n_splits)\n",
        "\n",
        "\n",
        "\n",
        "print(classification_report(y_test, y_pred_rf))\n",
        "# Plot confusion matrix for random Forest\n",
        "fig, ax = plt.subplots(figsize=(8, 5))\n",
        "cmp = ConfusionMatrixDisplay(\n",
        "    confusion_matrix(y_test, y_pred_rf),\n",
        "    display_labels=[\"functional\", \"non_functional\", \"func_needs_repair\"],\n",
        ")\n",
        "\n",
        "cmp.plot(ax=ax)\n",
        "plt.show();\n",
        "\n",
        "\n",
        "print(classification_report(y_test, y_pred_LightGBM))\n",
        "# Plot confusion matrix for LightGBM\n",
        "fig, ax = plt.subplots(figsize=(8, 5))\n",
        "cmp = ConfusionMatrixDisplay(\n",
        "    confusion_matrix(y_test, y_pred_LightGBM),\n",
        "    display_labels=[\"functional\", \"non_functional\", \"func_needs_repair\"],\n",
        ")\n",
        "\n",
        "cmp.plot(ax=ax)\n",
        "plt.show();\n",
        "\n",
        "\n",
        "print(classification_report(y_test, y_pred_xgboost))\n",
        "# Plot confusion matrix for XGBoost\n",
        "fig, ax = plt.subplots(figsize=(8, 5))\n",
        "cmp = ConfusionMatrixDisplay(\n",
        "    confusion_matrix(y_test, y_pred_xgboost),\n",
        "    display_labels=[\"functional\", \"non_functional\", \"func_needs_repair\"],\n",
        ")\n",
        "\n",
        "cmp.plot(ax=ax)\n",
        "plt.show();\n",
        "\n",
        "\n",
        "# print(classification_report(y_test, y_pred_AdaBoost))\n",
        "# # Plot confusion matrix for AdaBoost\n",
        "# fig, ax = plt.subplots(figsize=(8, 5))\n",
        "# cmp = ConfusionMatrixDisplay(\n",
        "#     confusion_matrix(y_test, y_pred_AdaBoost),\n",
        "#     display_labels=[\"functional\", \"non_functional\", \"func_needs_repair\"],\n",
        "# )\n",
        "\n",
        "# cmp.plot(ax=ax)\n",
        "# plt.show();"
      ],
      "metadata": {
        "colab": {
          "base_uri": "https://localhost:8080/",
          "height": 1000
        },
        "outputId": "0e8253b1-a4d0-4e81-9298-b0e3df3add90",
        "id": "AIZ7KNCIHh2k"
      },
      "execution_count": 361,
      "outputs": [
        {
          "output_type": "stream",
          "name": "stdout",
          "text": [
            ">>>rf_Accuracy: (0.8084175084175084, 1)\n",
            "LightGBM_accuracy: (0.8027777777777778, 1)\n",
            "xgboost_accuracy: (0.8095959595959596, 1)\n",
            ">>>rf_Accuracy: (0.8053872053872054, 2)\n",
            "LightGBM_accuracy: (0.7994949494949495, 2)\n",
            "xgboost_accuracy: (0.8048821548821549, 2)\n",
            ">>>rf_Accuracy: (0.8079124579124579, 3)\n",
            "LightGBM_accuracy: (0.8031144781144781, 3)\n",
            "xgboost_accuracy: (0.8101010101010101, 3)\n",
            ">>>rf_Accuracy: (0.8051346801346801, 4)\n",
            "LightGBM_accuracy: (0.8010942760942761, 4)\n",
            "xgboost_accuracy: (0.8084175084175084, 4)\n",
            ">>>rf_Accuracy: (0.8076599326599326, 5)\n",
            "LightGBM_accuracy: (0.8018518518518518, 5)\n",
            "xgboost_accuracy: (0.8083333333333333, 5)\n",
            "Random Forest accuracy is 0.8069023569023569\n",
            "Light GBM accuracy is 0.8016666666666665\n",
            "XGBoost accuracy is 0.8082659932659932\n",
            "              precision    recall  f1-score   support\n",
            "\n",
            "           0       0.81      0.88      0.84      6451\n",
            "           1       0.56      0.37      0.44       864\n",
            "           2       0.83      0.79      0.81      4565\n",
            "\n",
            "    accuracy                           0.81     11880\n",
            "   macro avg       0.74      0.68      0.70     11880\n",
            "weighted avg       0.80      0.81      0.80     11880\n",
            "\n"
          ]
        },
        {
          "output_type": "display_data",
          "data": {
            "text/plain": [
              "<Figure size 576x360 with 2 Axes>"
            ],
            "image/png": "[encoded data removed]"
          },
          "metadata": {
            "needs_background": "light"
          }
        },
        {
          "output_type": "stream",
          "name": "stdout",
          "text": [
            "              precision    recall  f1-score   support\n",
            "\n",
            "           0       0.81      0.87      0.84      6451\n",
            "           1       0.53      0.36      0.43       864\n",
            "           2       0.83      0.79      0.81      4565\n",
            "\n",
            "    accuracy                           0.80     11880\n",
            "   macro avg       0.72      0.67      0.69     11880\n",
            "weighted avg       0.80      0.80      0.80     11880\n",
            "\n"
          ]
        },
        {
          "output_type": "display_data",
          "data": {
            "text/plain": [
              "<Figure size 576x360 with 2 Axes>"
            ],
            "image/png": "[encoded data removed]"
          },
          "metadata": {
            "needs_background": "light"
          }
        },
        {
          "output_type": "stream",
          "name": "stdout",
          "text": [
            "              precision    recall  f1-score   support\n",
            "\n",
            "           0       0.80      0.89      0.85      6451\n",
            "           1       0.63      0.32      0.43       864\n",
            "           2       0.84      0.78      0.81      4565\n",
            "\n",
            "    accuracy                           0.81     11880\n",
            "   macro avg       0.76      0.67      0.69     11880\n",
            "weighted avg       0.80      0.81      0.80     11880\n",
            "\n"
          ]
        },
        {
          "output_type": "display_data",
          "data": {
            "text/plain": [
              "<Figure size 576x360 with 2 Axes>"
            ],
            "image/png": "[encoded data removed]"
          },
          "metadata": {
            "needs_background": "light"
          }
        }
      ]
    }
  ],
  "metadata": {
    "colab": {
      "collapsed_sections": [
        "BTNyGa_wlixB",
        "DjtVQIy8xmmA",
        "3TXwJShexdt3",
        "ABILSSFSPqP-",
        "SsATKquXQUkm"
      ],
      "provenance": [],
      "authorship_tag": "ABX9TyPz3al8r084rTIxLCMaPIhi",
      "include_colab_link": true
    },
    "gpuClass": "standard",
    "kernelspec": {
      "display_name": "Python 3",
      "name": "python3"
    },
    "language_info": {
      "name": "python"
    }
  },
  "nbformat": 4,
  "nbformat_minor": 0
}
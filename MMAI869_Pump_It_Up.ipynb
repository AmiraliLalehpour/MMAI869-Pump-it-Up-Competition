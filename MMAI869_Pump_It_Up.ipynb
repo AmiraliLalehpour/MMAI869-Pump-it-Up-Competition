{
  "cells": [
    {
      "cell_type": "markdown",
      "metadata": {
        "id": "view-in-github",
        "colab_type": "text"
      },
      "source": [
        "<a href=\"https://colab.research.google.com/github/AmiraliLalehpour/MMAI869-Pump-it-Up-Competition/blob/main/MMAI869_Pump_It_Up.ipynb\" target=\"_parent\"><img src=\"https://colab.research.google.com/assets/colab-badge.svg\" alt=\"Open In Colab\"/></a>"
      ]
    },
    {
      "cell_type": "markdown",
      "metadata": {
        "id": "6Y04vszawCVI"
      },
      "source": [
        "#MMAI 869, Smith School of Business at Queens University\n",
        "###Team Broadview Project, Pump it Up: Data Mining the Water Table"
      ]
    },
    {
      "cell_type": "markdown",
      "metadata": {
        "id": "bcJICZdf39MT"
      },
      "source": [
        "###Import Libraries"
      ]
    },
    {
      "cell_type": "code",
      "execution_count": null,
      "metadata": {
        "id": "PpsmC7VOyppp"
      },
      "outputs": [],
      "source": [
        "import numpy as np  \n",
        "import pandas as pd  \n",
        "\n",
        "# from sklearn.linear_model import LinearRegression\n",
        "from sklearn.linear_model import SGDClassifier\n",
        "from sklearn.ensemble import AdaBoostClassifier, GradientBoostingClassifier, RandomForestClassifier\n",
        "from xgboost import XGBClassifier\n",
        "from collections import Counter\n",
        "from sklearn.tree import DecisionTreeClassifier\n",
        "from lightgbm import LGBMClassifier\n",
        "\n",
        "from prettytable import PrettyTable\n",
        "from sklearn.metrics import accuracy_score, log_loss, f1_score, precision_score, recall_score, plot_roc_curve\n",
        "from sklearn.metrics import ConfusionMatrixDisplay, confusion_matrix, classification_report\n",
        "\n",
        "\n",
        "from sklearn.metrics import r2_score, mean_squared_error, explained_variance_score, mean_squared_error, accuracy_score\n",
        "from sklearn.model_selection import train_test_split, GridSearchCV, RandomizedSearchCV, RepeatedStratifiedKFold, cross_val_score\n",
        "from sklearn.preprocessing import StandardScaler, LabelEncoder, OrdinalEncoder\n",
        "from sklearn.utils import compute_class_weight\n",
        "from sklearn.metrics import plot_roc_curve\n",
        "\n",
        "\n",
        "%matplotlib inline\n",
        "import matplotlib.pyplot as plt\n",
        "import seaborn as sns\n"
      ]
    },
    {
      "cell_type": "markdown",
      "source": [
        "### Check Allocated System Specs by Google Colab"
      ],
      "metadata": {
        "id": "BTNyGa_wlixB"
      }
    },
    {
      "cell_type": "code",
      "source": [
        "from psutil import *\n",
        "\n",
        "cpu_count()"
      ],
      "metadata": {
        "colab": {
          "base_uri": "https://localhost:8080/"
        },
        "id": "AzDaBsjnjAa2",
        "outputId": "037ded97-4996-47a7-8dc8-bfe8133273c3"
      },
      "execution_count": null,
      "outputs": [
        {
          "output_type": "execute_result",
          "data": {
            "text/plain": [
              "2"
            ]
          },
          "metadata": {},
          "execution_count": 3
        }
      ]
    },
    {
      "cell_type": "code",
      "source": [
        "!lscpu |grep 'Model name'"
      ],
      "metadata": {
        "colab": {
          "base_uri": "https://localhost:8080/"
        },
        "id": "FyR9-xjyjWFd",
        "outputId": "1a9e32f0-ddb3-49c2-af0b-6d19c1a399cb"
      },
      "execution_count": null,
      "outputs": [
        {
          "output_type": "stream",
          "name": "stdout",
          "text": [
            "Model name:          Intel(R) Xeon(R) CPU @ 2.20GHz\n"
          ]
        }
      ]
    },
    {
      "cell_type": "code",
      "source": [
        "!df -h / |awk '{print $4}'"
      ],
      "metadata": {
        "colab": {
          "base_uri": "https://localhost:8080/"
        },
        "id": "t_aJFa-7kMdu",
        "outputId": "9753f729-97e3-4eef-de21-512b4c0bce4a"
      },
      "execution_count": null,
      "outputs": [
        {
          "output_type": "stream",
          "name": "stdout",
          "text": [
            "Avail\n",
            "78G\n"
          ]
        }
      ]
    },
    {
      "cell_type": "code",
      "source": [
        "!free -h  --si | awk '/Mem:/{print $2}'"
      ],
      "metadata": {
        "colab": {
          "base_uri": "https://localhost:8080/"
        },
        "id": "DU-PCU93kmFE",
        "outputId": "c43737e2-d61e-4d64-ad74-b298acb302da"
      },
      "execution_count": null,
      "outputs": [
        {
          "output_type": "stream",
          "name": "stdout",
          "text": [
            "13G\n"
          ]
        }
      ]
    },
    {
      "cell_type": "code",
      "source": [
        "!nvidia-smi -L"
      ],
      "metadata": {
        "colab": {
          "base_uri": "https://localhost:8080/"
        },
        "id": "qLm0Zl7TlMkI",
        "outputId": "b5aea188-902d-44e5-c296-9c002fa6978c"
      },
      "execution_count": null,
      "outputs": [
        {
          "output_type": "stream",
          "name": "stdout",
          "text": [
            "NVIDIA-SMI has failed because it couldn't communicate with the NVIDIA driver. Make sure that the latest NVIDIA driver is installed and running.\n",
            "\n"
          ]
        }
      ]
    },
    {
      "cell_type": "code",
      "source": [
        "!nvidia-smi"
      ],
      "metadata": {
        "colab": {
          "base_uri": "https://localhost:8080/"
        },
        "id": "-PZGO_dRlhId",
        "outputId": "8751719e-3b32-458c-ffd0-1d8d18a1d032"
      },
      "execution_count": null,
      "outputs": [
        {
          "output_type": "stream",
          "name": "stdout",
          "text": [
            "NVIDIA-SMI has failed because it couldn't communicate with the NVIDIA driver. Make sure that the latest NVIDIA driver is installed and running.\n",
            "\n"
          ]
        }
      ]
    },
    {
      "cell_type": "markdown",
      "metadata": {
        "id": "E7Ykl2yx0Xan"
      },
      "source": [
        "###Helper Function"
      ]
    },
    {
      "cell_type": "code",
      "execution_count": null,
      "metadata": {
        "id": "aBjzcznk0W3G"
      },
      "outputs": [],
      "source": [
        "#method to print better looking plots\n",
        "\n",
        "def pretty_importances_plot(importances, feature_name, fig_size = (10, 7), xlabel = '', ylabel = '', horizontal_label = None, n_elements=None):\n",
        "    '''\n",
        "    This function plots a better looking importances-plot\n",
        "    \n",
        "    importances: Occurences of feature_name\n",
        "    feature_name: unique feature_name\n",
        "    fig_size: size of plot\n",
        "    xlabel: xlabel\n",
        "    ylabel: ylabel\n",
        "    horizontal_label: Bigger label at the top-left\n",
        "    n_elements: number of elements to display\n",
        "    '''\n",
        "    \n",
        "    # This code has been borrowed from:\n",
        "    # https://scentellegher.github.io/visualization/2018/10/10/beautiful-bar-plots-matplotlib.html\n",
        "    # Credits to SIMONE CENTELLEGHER\n",
        "\n",
        "    # set the style of the axes and the text color\n",
        "    plt.rcParams['axes.edgecolor']='#333F4B'\n",
        "    plt.rcParams['axes.linewidth']=0.8\n",
        "    plt.rcParams['xtick.color']='#333F4B'\n",
        "    plt.rcParams['ytick.color']='#333F4B'\n",
        "    plt.rcParams['text.color']='#333F4B'\n",
        "\n",
        "    # percentages = pd.Series(data= list(map(operator.itemgetter(1), word_importances_title_entity)),\n",
        "    #                       index = list(map(operator.itemgetter(0), word_importances_title_entity)))\n",
        "    \n",
        "    if not n_elements:\n",
        "        n_elements = len(importances)\n",
        "    \n",
        "    percentages = pd.Series(\n",
        "        data = importances[:n_elements],\n",
        "        index = feature_name[:n_elements]\n",
        "    )\n",
        "\n",
        "    df = pd.DataFrame({'percentage' : percentages})\n",
        "    df = df.sort_values(by='percentage')\n",
        "\n",
        "    # we first need a numeric placeholder for the y axis\n",
        "    my_range=list(range(1,len(df.index)+1))\n",
        "\n",
        "    #fig, ax = plt.subplots(figsize=(5,3.5)) ######################\n",
        "    fig, ax = plt.subplots(figsize=fig_size)\n",
        "\n",
        "\n",
        "    # create for each expense type an horizontal line that starts at x = 0 with the length \n",
        "    # represented by the specific expense percentage value.\n",
        "    plt.hlines(y=my_range, xmin=0, xmax=df['percentage'], color='#007ACC', alpha=0.2, linewidth=5)\n",
        "\n",
        "    # create for each expense type a dot at the level of the expense percentage value\n",
        "    plt.plot(df['percentage'], my_range, \"o\", markersize=5, color='#007ACC', alpha=0.6)\n",
        "\n",
        "    # set labels\n",
        "    ax.set_xlabel(xlabel, fontsize=15, fontweight='black', color = '#333F4B')\n",
        "    ax.set_ylabel(ylabel)\n",
        "    \n",
        "     # set axis\n",
        "    ax.tick_params(axis='both', which='major', labelsize=12)\n",
        "    plt.yticks(my_range, df.index)\n",
        "\n",
        "    # add an horizonal label for the y axis\n",
        "    if horizontal_label:\n",
        "        fig.text(-0.23, 0.96, horizontal_label, fontsize=15, fontweight='black', color = '#333F4B')\n",
        "\n",
        "    # change the style of the axis spines\n",
        "    ax.spines['top'].set_color('none')\n",
        "    ax.spines['right'].set_color('none')\n",
        "    ax.spines['left'].set_smart_bounds(True)\n",
        "    ax.spines['bottom'].set_smart_bounds(True)\n",
        "\n",
        "    # set the spines position\n",
        "    ax.spines['bottom'].set_position(('axes', -0.04))\n",
        "    ax.spines['left'].set_position(('axes', 0.015))"
      ]
    },
    {
      "cell_type": "code",
      "source": [],
      "metadata": {
        "id": "hDuUECY6lV_l"
      },
      "execution_count": null,
      "outputs": []
    },
    {
      "cell_type": "markdown",
      "metadata": {
        "id": "DjtVQIy8xmmA"
      },
      "source": [
        "#1. Loading the dataset from GitHub: [MMAI869-Pump-it-Up-Competition]\n",
        "\n",
        "  Data is accessed from github: (https://github.com/AmiraliLalehpour/MMAI869-Pump-it-Up-Competition)\n",
        "\n"
      ]
    },
    {
      "cell_type": "code",
      "execution_count": null,
      "metadata": {
        "id": "EsGdaw6Xy01b"
      },
      "outputs": [],
      "source": [
        "ulr_Training_Set_Values = 'https://raw.githubusercontent.com/AmiraliLalehpour/MMAI869-Pump-it-Up-Competition/main/Training_Set_Values.csv'\n",
        "ulr_Training_Set_Labels = 'https://raw.githubusercontent.com/AmiraliLalehpour/MMAI869-Pump-it-Up-Competition/main/Training_Set_Labels.csv'\n",
        "ulr_Test_Set_Values = 'https://raw.githubusercontent.com/AmiraliLalehpour/MMAI869-Pump-it-Up-Competition/main/Test_Set_Values.csv'\n",
        "Training_Set_Values = pd.read_csv(ulr_Training_Set_Values)\n",
        "Training_Set_Labels = pd.read_csv(ulr_Training_Set_Labels)\n",
        "test = pd.read_csv(ulr_Test_Set_Values)\n",
        "data = Training_Set_Values.merge(Training_Set_Labels, on='id', how='right')"
      ]
    },
    {
      "cell_type": "code",
      "execution_count": null,
      "metadata": {
        "colab": {
          "base_uri": "https://localhost:8080/",
          "height": 399
        },
        "id": "5njsDvAitStG",
        "outputId": "b85ed764-5680-4852-c1d1-24976c1d1376"
      },
      "outputs": [
        {
          "output_type": "execute_result",
          "data": {
            "text/plain": [
              "      id  amount_tsh date_recorded        funder  gps_height     installer  \\\n",
              "0  69572      6000.0    2011-03-14         Roman        1390         Roman   \n",
              "1   8776         0.0    2013-03-06       Grumeti        1399       GRUMETI   \n",
              "2  34310        25.0    2013-02-25  Lottery Club         686  World vision   \n",
              "3  67743         0.0    2013-01-28        Unicef         263        UNICEF   \n",
              "4  19728         0.0    2011-07-13   Action In A           0       Artisan   \n",
              "\n",
              "   longitude   latitude              wpt_name  num_private  ... water_quality  \\\n",
              "0  34.938093  -9.856322                  none            0  ...          soft   \n",
              "1  34.698766  -2.147466              Zahanati            0  ...          soft   \n",
              "2  37.460664  -3.821329           Kwa Mahundi            0  ...          soft   \n",
              "3  38.486161 -11.155298  Zahanati Ya Nanyumbu            0  ...          soft   \n",
              "4  31.130847  -1.825359               Shuleni            0  ...          soft   \n",
              "\n",
              "  quality_group      quantity  quantity_group                source  \\\n",
              "0          good        enough          enough                spring   \n",
              "1          good  insufficient    insufficient  rainwater harvesting   \n",
              "2          good        enough          enough                   dam   \n",
              "3          good           dry             dry           machine dbh   \n",
              "4          good      seasonal        seasonal  rainwater harvesting   \n",
              "\n",
              "            source_type source_class              waterpoint_type  \\\n",
              "0                spring  groundwater           communal standpipe   \n",
              "1  rainwater harvesting      surface           communal standpipe   \n",
              "2                   dam      surface  communal standpipe multiple   \n",
              "3              borehole  groundwater  communal standpipe multiple   \n",
              "4  rainwater harvesting      surface           communal standpipe   \n",
              "\n",
              "  waterpoint_type_group    status_group  \n",
              "0    communal standpipe      functional  \n",
              "1    communal standpipe      functional  \n",
              "2    communal standpipe      functional  \n",
              "3    communal standpipe  non functional  \n",
              "4    communal standpipe      functional  \n",
              "\n",
              "[5 rows x 41 columns]"
            ],
            "text/html": [
              "\n",
              "  <div id=\"df-99a60cdf-5511-418d-9091-31ea6351bb79\">\n",
              "    <div class=\"colab-df-container\">\n",
              "      <div>\n",
              "<style scoped>\n",
              "    .dataframe tbody tr th:only-of-type {\n",
              "        vertical-align: middle;\n",
              "    }\n",
              "\n",
              "    .dataframe tbody tr th {\n",
              "        vertical-align: top;\n",
              "    }\n",
              "\n",
              "    .dataframe thead th {\n",
              "        text-align: right;\n",
              "    }\n",
              "</style>\n",
              "<table border=\"1\" class=\"dataframe\">\n",
              "  <thead>\n",
              "    <tr style=\"text-align: right;\">\n",
              "      <th></th>\n",
              "      <th>id</th>\n",
              "      <th>amount_tsh</th>\n",
              "      <th>date_recorded</th>\n",
              "      <th>funder</th>\n",
              "      <th>gps_height</th>\n",
              "      <th>installer</th>\n",
              "      <th>longitude</th>\n",
              "      <th>latitude</th>\n",
              "      <th>wpt_name</th>\n",
              "      <th>num_private</th>\n",
              "      <th>...</th>\n",
              "      <th>water_quality</th>\n",
              "      <th>quality_group</th>\n",
              "      <th>quantity</th>\n",
              "      <th>quantity_group</th>\n",
              "      <th>source</th>\n",
              "      <th>source_type</th>\n",
              "      <th>source_class</th>\n",
              "      <th>waterpoint_type</th>\n",
              "      <th>waterpoint_type_group</th>\n",
              "      <th>status_group</th>\n",
              "    </tr>\n",
              "  </thead>\n",
              "  <tbody>\n",
              "    <tr>\n",
              "      <th>0</th>\n",
              "      <td>69572</td>\n",
              "      <td>6000.0</td>\n",
              "      <td>2011-03-14</td>\n",
              "      <td>Roman</td>\n",
              "      <td>1390</td>\n",
              "      <td>Roman</td>\n",
              "      <td>34.938093</td>\n",
              "      <td>-9.856322</td>\n",
              "      <td>none</td>\n",
              "      <td>0</td>\n",
              "      <td>...</td>\n",
              "      <td>soft</td>\n",
              "      <td>good</td>\n",
              "      <td>enough</td>\n",
              "      <td>enough</td>\n",
              "      <td>spring</td>\n",
              "      <td>spring</td>\n",
              "      <td>groundwater</td>\n",
              "      <td>communal standpipe</td>\n",
              "      <td>communal standpipe</td>\n",
              "      <td>functional</td>\n",
              "    </tr>\n",
              "    <tr>\n",
              "      <th>1</th>\n",
              "      <td>8776</td>\n",
              "      <td>0.0</td>\n",
              "      <td>2013-03-06</td>\n",
              "      <td>Grumeti</td>\n",
              "      <td>1399</td>\n",
              "      <td>GRUMETI</td>\n",
              "      <td>34.698766</td>\n",
              "      <td>-2.147466</td>\n",
              "      <td>Zahanati</td>\n",
              "      <td>0</td>\n",
              "      <td>...</td>\n",
              "      <td>soft</td>\n",
              "      <td>good</td>\n",
              "      <td>insufficient</td>\n",
              "      <td>insufficient</td>\n",
              "      <td>rainwater harvesting</td>\n",
              "      <td>rainwater harvesting</td>\n",
              "      <td>surface</td>\n",
              "      <td>communal standpipe</td>\n",
              "      <td>communal standpipe</td>\n",
              "      <td>functional</td>\n",
              "    </tr>\n",
              "    <tr>\n",
              "      <th>2</th>\n",
              "      <td>34310</td>\n",
              "      <td>25.0</td>\n",
              "      <td>2013-02-25</td>\n",
              "      <td>Lottery Club</td>\n",
              "      <td>686</td>\n",
              "      <td>World vision</td>\n",
              "      <td>37.460664</td>\n",
              "      <td>-3.821329</td>\n",
              "      <td>Kwa Mahundi</td>\n",
              "      <td>0</td>\n",
              "      <td>...</td>\n",
              "      <td>soft</td>\n",
              "      <td>good</td>\n",
              "      <td>enough</td>\n",
              "      <td>enough</td>\n",
              "      <td>dam</td>\n",
              "      <td>dam</td>\n",
              "      <td>surface</td>\n",
              "      <td>communal standpipe multiple</td>\n",
              "      <td>communal standpipe</td>\n",
              "      <td>functional</td>\n",
              "    </tr>\n",
              "    <tr>\n",
              "      <th>3</th>\n",
              "      <td>67743</td>\n",
              "      <td>0.0</td>\n",
              "      <td>2013-01-28</td>\n",
              "      <td>Unicef</td>\n",
              "      <td>263</td>\n",
              "      <td>UNICEF</td>\n",
              "      <td>38.486161</td>\n",
              "      <td>-11.155298</td>\n",
              "      <td>Zahanati Ya Nanyumbu</td>\n",
              "      <td>0</td>\n",
              "      <td>...</td>\n",
              "      <td>soft</td>\n",
              "      <td>good</td>\n",
              "      <td>dry</td>\n",
              "      <td>dry</td>\n",
              "      <td>machine dbh</td>\n",
              "      <td>borehole</td>\n",
              "      <td>groundwater</td>\n",
              "      <td>communal standpipe multiple</td>\n",
              "      <td>communal standpipe</td>\n",
              "      <td>non functional</td>\n",
              "    </tr>\n",
              "    <tr>\n",
              "      <th>4</th>\n",
              "      <td>19728</td>\n",
              "      <td>0.0</td>\n",
              "      <td>2011-07-13</td>\n",
              "      <td>Action In A</td>\n",
              "      <td>0</td>\n",
              "      <td>Artisan</td>\n",
              "      <td>31.130847</td>\n",
              "      <td>-1.825359</td>\n",
              "      <td>Shuleni</td>\n",
              "      <td>0</td>\n",
              "      <td>...</td>\n",
              "      <td>soft</td>\n",
              "      <td>good</td>\n",
              "      <td>seasonal</td>\n",
              "      <td>seasonal</td>\n",
              "      <td>rainwater harvesting</td>\n",
              "      <td>rainwater harvesting</td>\n",
              "      <td>surface</td>\n",
              "      <td>communal standpipe</td>\n",
              "      <td>communal standpipe</td>\n",
              "      <td>functional</td>\n",
              "    </tr>\n",
              "  </tbody>\n",
              "</table>\n",
              "<p>5 rows × 41 columns</p>\n",
              "</div>\n",
              "      <button class=\"colab-df-convert\" onclick=\"convertToInteractive('df-99a60cdf-5511-418d-9091-31ea6351bb79')\"\n",
              "              title=\"Convert this dataframe to an interactive table.\"\n",
              "              style=\"display:none;\">\n",
              "        \n",
              "  <svg xmlns=\"http://www.w3.org/2000/svg\" height=\"24px\"viewBox=\"0 0 24 24\"\n",
              "       width=\"24px\">\n",
              "    <path d=\"M0 0h24v24H0V0z\" fill=\"none\"/>\n",
              "    <path d=\"M18.56 5.44l.94 2.06.94-2.06 2.06-.94-2.06-.94-.94-2.06-.94 2.06-2.06.94zm-11 1L8.5 8.5l.94-2.06 2.06-.94-2.06-.94L8.5 2.5l-.94 2.06-2.06.94zm10 10l.94 2.06.94-2.06 2.06-.94-2.06-.94-.94-2.06-.94 2.06-2.06.94z\"/><path d=\"M17.41 7.96l-1.37-1.37c-.4-.4-.92-.59-1.43-.59-.52 0-1.04.2-1.43.59L10.3 9.45l-7.72 7.72c-.78.78-.78 2.05 0 2.83L4 21.41c.39.39.9.59 1.41.59.51 0 1.02-.2 1.41-.59l7.78-7.78 2.81-2.81c.8-.78.8-2.07 0-2.86zM5.41 20L4 18.59l7.72-7.72 1.47 1.35L5.41 20z\"/>\n",
              "  </svg>\n",
              "      </button>\n",
              "      \n",
              "  <style>\n",
              "    .colab-df-container {\n",
              "      display:flex;\n",
              "      flex-wrap:wrap;\n",
              "      gap: 12px;\n",
              "    }\n",
              "\n",
              "    .colab-df-convert {\n",
              "      background-color: #E8F0FE;\n",
              "      border: none;\n",
              "      border-radius: 50%;\n",
              "      cursor: pointer;\n",
              "      display: none;\n",
              "      fill: #1967D2;\n",
              "      height: 32px;\n",
              "      padding: 0 0 0 0;\n",
              "      width: 32px;\n",
              "    }\n",
              "\n",
              "    .colab-df-convert:hover {\n",
              "      background-color: #E2EBFA;\n",
              "      box-shadow: 0px 1px 2px rgba(60, 64, 67, 0.3), 0px 1px 3px 1px rgba(60, 64, 67, 0.15);\n",
              "      fill: #174EA6;\n",
              "    }\n",
              "\n",
              "    [theme=dark] .colab-df-convert {\n",
              "      background-color: #3B4455;\n",
              "      fill: #D2E3FC;\n",
              "    }\n",
              "\n",
              "    [theme=dark] .colab-df-convert:hover {\n",
              "      background-color: #434B5C;\n",
              "      box-shadow: 0px 1px 3px 1px rgba(0, 0, 0, 0.15);\n",
              "      filter: drop-shadow(0px 1px 2px rgba(0, 0, 0, 0.3));\n",
              "      fill: #FFFFFF;\n",
              "    }\n",
              "  </style>\n",
              "\n",
              "      <script>\n",
              "        const buttonEl =\n",
              "          document.querySelector('#df-99a60cdf-5511-418d-9091-31ea6351bb79 button.colab-df-convert');\n",
              "        buttonEl.style.display =\n",
              "          google.colab.kernel.accessAllowed ? 'block' : 'none';\n",
              "\n",
              "        async function convertToInteractive(key) {\n",
              "          const element = document.querySelector('#df-99a60cdf-5511-418d-9091-31ea6351bb79');\n",
              "          const dataTable =\n",
              "            await google.colab.kernel.invokeFunction('convertToInteractive',\n",
              "                                                     [key], {});\n",
              "          if (!dataTable) return;\n",
              "\n",
              "          const docLinkHtml = 'Like what you see? Visit the ' +\n",
              "            '<a target=\"_blank\" href=https://colab.research.google.com/notebooks/data_table.ipynb>data table notebook</a>'\n",
              "            + ' to learn more about interactive tables.';\n",
              "          element.innerHTML = '';\n",
              "          dataTable['output_type'] = 'display_data';\n",
              "          await google.colab.output.renderOutput(dataTable, element);\n",
              "          const docLink = document.createElement('div');\n",
              "          docLink.innerHTML = docLinkHtml;\n",
              "          element.appendChild(docLink);\n",
              "        }\n",
              "      </script>\n",
              "    </div>\n",
              "  </div>\n",
              "  "
            ]
          },
          "metadata": {},
          "execution_count": 11
        }
      ],
      "source": [
        "data.head()"
      ]
    },
    {
      "cell_type": "code",
      "execution_count": null,
      "metadata": {
        "id": "uY4PFZE6NRld"
      },
      "outputs": [],
      "source": [
        "# data.isnull().sum()"
      ]
    },
    {
      "cell_type": "code",
      "execution_count": null,
      "metadata": {
        "id": "XJmigYUUNllt"
      },
      "outputs": [],
      "source": [
        "# test.isnull().sum()"
      ]
    },
    {
      "cell_type": "markdown",
      "metadata": {
        "id": "jifk1w9pw6oA"
      },
      "source": [
        "#2- Initial Look at the Data and Preparation"
      ]
    },
    {
      "cell_type": "code",
      "execution_count": null,
      "metadata": {
        "id": "t-NZpJLJXaGc"
      },
      "outputs": [],
      "source": [
        "# data.info()"
      ]
    },
    {
      "cell_type": "markdown",
      "metadata": {
        "id": "-XHa-ariKzAU"
      },
      "source": [
        "##2.1- We will go through each feature to see the values, if they are missing or have errornous values that don't make sense"
      ]
    },
    {
      "cell_type": "markdown",
      "metadata": {
        "id": "zLJ92Niw9G8F"
      },
      "source": [
        "* For the Na values, decided to use the most frequent value instead"
      ]
    },
    {
      "cell_type": "code",
      "execution_count": null,
      "metadata": {
        "colab": {
          "base_uri": "https://localhost:8080/"
        },
        "id": "ndwHK31M9GFm",
        "outputId": "2c5dd602-e8fc-4d56-855c-1f26c45b0752"
      },
      "outputs": [
        {
          "output_type": "execute_result",
          "data": {
            "text/plain": [
              "(0, 0)"
            ]
          },
          "metadata": {},
          "execution_count": 14
        }
      ],
      "source": [
        "for i in data.columns:\n",
        "  data[i].fillna(data[i].mode()[0], inplace=True)\n",
        "for i in test.columns:\n",
        "  test[i].fillna(test[i].mode()[0], inplace=True)\n",
        "data.isnull().sum().sum(), test.isnull().sum().sum()"
      ]
    },
    {
      "cell_type": "markdown",
      "source": [
        "###2.1.0- FE References"
      ],
      "metadata": {
        "id": "VzsGTQjENjxg"
      }
    },
    {
      "cell_type": "markdown",
      "source": [
        "\n",
        "https://maxhalford.github.io/blog/target-encoding/\n",
        "\n",
        "https://towardsdatascience.com/target-encoding-for-multi-class-classification-c9a7bcb1a53\n",
        "\n",
        "https://medium.com/analytics-vidhya/target-encoding-vs-one-hot-encoding-with-simple-examples-276a7e7b3e64#:~:text=From%20the%20documentation%20linked%20above,over%20all%20the%20training%20data.%E2%80%9D\n",
        "\n",
        "https://docs.h2o.ai/h2o/latest-stable/h2o-docs/data-science/target-encoding.html\n",
        "\n",
        "https://www.analyticsvidhya.com/blog/2020/08/types-of-categorical-data-encoding/\n",
        "\n",
        "https://www.kaggle.com/code/ryanholbrook/target-encoding\n",
        "\n",
        "https://www.rasgoml.com/feature-engineering-tutorials/how-to-do-target-encoding\n",
        "\n",
        "https://feature-engine.readthedocs.io/en/latest/\n",
        "\n",
        "https://www.dropbox.com/sh/2vtm7k5maiyqrob/AAD7fm7Xwk6Ye9G54pgFRdFea?dl=0\n",
        "\n",
        "https://queensu.udemy.com/course/feature-engineering-for-machine-learning/learn/lecture/9446014#overview\n",
        "\n",
        "Target Encoding\n",
        "Target encoding is a Baysian encoding technique.\n",
        "\n",
        "Bayesian encoders use information from dependent/target variables to encode the categorical data.\n",
        "\n",
        "In target encoding, we calculate the mean of the target variable for each category and replace the category variable with the mean value. In the case of the categorical target variables, the posterior probability of the target replaces each category."
      ],
      "metadata": {
        "id": "4UrqTcemCXY6"
      }
    },
    {
      "cell_type": "code",
      "source": [
        "import category_encoders as ce\n",
        "import pandas as pd\n",
        "data=pd.DataFrame({'City':[\n",
        "'Delhi','Mumbai','Hydrabad','Chennai','Bangalore','Delhi','Hydrabad','Bangalore','Delhi'\n",
        "]})\n",
        "\n",
        "#Create object for one-hot encoding\n",
        "encoder=ce.OneHotEncoder(cols='City',handle_unknown='return_nan',return_df=True,use_cat_names=True)\n",
        "\n",
        "#Original Data\n",
        "data"
      ],
      "metadata": {
        "id": "mHGvJespHKAu",
        "colab": {
          "base_uri": "https://localhost:8080/",
          "height": 659
        },
        "outputId": "04b77d17-d358-4704-b759-379edd4cae06"
      },
      "execution_count": null,
      "outputs": [
        {
          "output_type": "error",
          "ename": "ModuleNotFoundError",
          "evalue": "ignored",
          "traceback": [
            "\u001b[0;31m---------------------------------------------------------------------------\u001b[0m",
            "\u001b[0;31mModuleNotFoundError\u001b[0m                       Traceback (most recent call last)",
            "\u001b[0;32m<ipython-input-15-5b6a160f21a2>\u001b[0m in \u001b[0;36m<module>\u001b[0;34m\u001b[0m\n\u001b[0;32m----> 1\u001b[0;31m \u001b[0;32mimport\u001b[0m \u001b[0mcategory_encoders\u001b[0m \u001b[0;32mas\u001b[0m \u001b[0mce\u001b[0m\u001b[0;34m\u001b[0m\u001b[0;34m\u001b[0m\u001b[0m\n\u001b[0m\u001b[1;32m      2\u001b[0m \u001b[0;32mimport\u001b[0m \u001b[0mpandas\u001b[0m \u001b[0;32mas\u001b[0m \u001b[0mpd\u001b[0m\u001b[0;34m\u001b[0m\u001b[0;34m\u001b[0m\u001b[0m\n\u001b[1;32m      3\u001b[0m data=pd.DataFrame({'City':[\n\u001b[1;32m      4\u001b[0m \u001b[0;34m'Delhi'\u001b[0m\u001b[0;34m,\u001b[0m\u001b[0;34m'Mumbai'\u001b[0m\u001b[0;34m,\u001b[0m\u001b[0;34m'Hydrabad'\u001b[0m\u001b[0;34m,\u001b[0m\u001b[0;34m'Chennai'\u001b[0m\u001b[0;34m,\u001b[0m\u001b[0;34m'Bangalore'\u001b[0m\u001b[0;34m,\u001b[0m\u001b[0;34m'Delhi'\u001b[0m\u001b[0;34m,\u001b[0m\u001b[0;34m'Hydrabad'\u001b[0m\u001b[0;34m,\u001b[0m\u001b[0;34m'Bangalore'\u001b[0m\u001b[0;34m,\u001b[0m\u001b[0;34m'Delhi'\u001b[0m\u001b[0;34m\u001b[0m\u001b[0;34m\u001b[0m\u001b[0m\n\u001b[1;32m      5\u001b[0m ]})\n",
            "\u001b[0;31mModuleNotFoundError\u001b[0m: No module named 'category_encoders'",
            "",
            "\u001b[0;31m---------------------------------------------------------------------------\u001b[0;32m\nNOTE: If your import is failing due to a missing package, you can\nmanually install dependencies using either !pip or !apt.\n\nTo view examples of installing some common dependencies, click the\n\"Open Examples\" button below.\n\u001b[0;31m---------------------------------------------------------------------------\u001b[0m\n"
          ],
          "errorDetails": {
            "actions": [
              {
                "action": "open_url",
                "actionText": "Open Examples",
                "url": "/notebooks/snippets/importing_libraries.ipynb"
              }
            ]
          }
        }
      ]
    },
    {
      "cell_type": "code",
      "source": [
        "#Fit and transform Data\n",
        "data_encoded = encoder.fit_transform(data)\n",
        "data_encoded"
      ],
      "metadata": {
        "id": "AtoKH8DLHKok",
        "colab": {
          "base_uri": "https://localhost:8080/",
          "height": 315
        },
        "outputId": "6e7c6d17-ac5d-4c0a-f7e3-6561b01adf57"
      },
      "execution_count": null,
      "outputs": [
        {
          "output_type": "error",
          "ename": "NameError",
          "evalue": "ignored",
          "traceback": [
            "\u001b[0;31m---------------------------------------------------------------------------\u001b[0m",
            "\u001b[0;31mNameError\u001b[0m                                 Traceback (most recent call last)",
            "\u001b[0;32m<ipython-input-16-1eb5e41ee5d9>\u001b[0m in \u001b[0;36m<module>\u001b[0;34m\u001b[0m\n\u001b[1;32m      1\u001b[0m \u001b[0;31m#Fit and transform Data\u001b[0m\u001b[0;34m\u001b[0m\u001b[0;34m\u001b[0m\u001b[0;34m\u001b[0m\u001b[0m\n\u001b[0;32m----> 2\u001b[0;31m \u001b[0mdata_encoded\u001b[0m \u001b[0;34m=\u001b[0m \u001b[0mencoder\u001b[0m\u001b[0;34m.\u001b[0m\u001b[0mfit_transform\u001b[0m\u001b[0;34m(\u001b[0m\u001b[0mdata\u001b[0m\u001b[0;34m)\u001b[0m\u001b[0;34m\u001b[0m\u001b[0;34m\u001b[0m\u001b[0m\n\u001b[0m\u001b[1;32m      3\u001b[0m \u001b[0mdata_encoded\u001b[0m\u001b[0;34m\u001b[0m\u001b[0;34m\u001b[0m\u001b[0m\n",
            "\u001b[0;31mNameError\u001b[0m: name 'encoder' is not defined"
          ]
        }
      ]
    },
    {
      "cell_type": "code",
      "source": [
        "#import the libraries\n",
        "import pandas as pd\n",
        "import category_encoders as ce\n",
        "\n",
        "#Create the Dataframe\n",
        "data=pd.DataFrame({'class':['A,','B','C','B','C','A','A','A'],'Marks':[50,30,70,80,45,97,80,68]})\n",
        "\n",
        "#Create target encoding object\n",
        "encoder=ce.TargetEncoder(cols='class') \n",
        "\n",
        "#Original Data\n",
        "Data"
      ],
      "metadata": {
        "id": "Re5V2p6bHXVv"
      },
      "execution_count": null,
      "outputs": []
    },
    {
      "cell_type": "code",
      "source": [
        "#Fit and Transform Train Data\n",
        "encoder.fit_transform(data['class'],data['Marks'])"
      ],
      "metadata": {
        "id": "5S0IDXaxJ0qd"
      },
      "execution_count": null,
      "outputs": []
    },
    {
      "cell_type": "markdown",
      "metadata": {
        "id": "oc63h7HTMXVG"
      },
      "source": [
        "###2.1.1- amount_tsh\n",
        "Total static head (amount water available to waterpoint)\n",
        "\n",
        "https://inspectapedia.com/water/Well_Static_Head_Definition.php\n",
        "\n",
        "The static head volume inside a water well tells us how much water is available to the pump after the well has rested, water has risen to its maximum height inside the well, and the pump is about to turn on.\n",
        "\n",
        "* Depending on the unit of measurment for volume, some values might not make sense, we don't have the unit here\n",
        "* We have 41639 values of zero, need to replace them with some representative number with assumption, i.e. mean of other values. I will consider only the values that are not occuring only once, just an auumption\n",
        "* Need to remove outliers as well, lets decide which one is considered as outlier. Left them to be for now"
      ]
    },
    {
      "cell_type": "code",
      "execution_count": null,
      "metadata": {
        "colab": {
          "base_uri": "https://localhost:8080/"
        },
        "id": "H0hRXQdhLBMJ",
        "outputId": "f394f9a2-4751-4802-abc0-568019c9abe8"
      },
      "outputs": [
        {
          "output_type": "execute_result",
          "data": {
            "text/plain": [
              "0.00        41639\n",
              "500.00       3102\n",
              "50.00        2472\n",
              "1000.00      1488\n",
              "20.00        1463\n",
              "            ...  \n",
              "0.25            1\n",
              "12.00           1\n",
              "60000.00        1\n",
              "306.00          1\n",
              "59.00           1\n",
              "Name: amount_tsh, Length: 98, dtype: int64"
            ]
          },
          "metadata": {},
          "execution_count": 18
        }
      ],
      "source": [
        "#https://pandas.pydata.org/docs/reference/api/pandas.DataFrame.sort_values.html\n",
        "data.amount_tsh.value_counts().sort_values(ascending=False)"
      ]
    },
    {
      "cell_type": "code",
      "execution_count": null,
      "metadata": {
        "id": "jYZD9GryaTQI"
      },
      "outputs": [],
      "source": [
        "# data[data['amount_tsh'].map(data['amount_tsh'].value_counts() > 1)]"
      ]
    },
    {
      "cell_type": "code",
      "execution_count": null,
      "metadata": {
        "colab": {
          "base_uri": "https://localhost:8080/",
          "height": 399
        },
        "id": "FiV-KzKnZeAn",
        "outputId": "11102512-535f-4b5e-88d2-314212a95fc1"
      },
      "outputs": [
        {
          "output_type": "execute_result",
          "data": {
            "text/plain": [
              "       id  amount_tsh date_recorded               funder  gps_height  \\\n",
              "0   69572      6000.0    2011-03-14                Roman        1390   \n",
              "2   34310        25.0    2013-02-25         Lottery Club         686   \n",
              "5    9944        20.0    2011-03-13  Mkinga Distric Coun           0   \n",
              "11  50409       200.0    2013-02-18               Danida        1062   \n",
              "16  48451       500.0    2011-07-04               Unicef        1703   \n",
              "\n",
              "       installer  longitude   latitude          wpt_name  num_private  ...  \\\n",
              "0          Roman  34.938093  -9.856322              none            0  ...   \n",
              "2   World vision  37.460664  -3.821329       Kwa Mahundi            0  ...   \n",
              "5            DWE  39.172796  -4.765587            Tajiri            0  ...   \n",
              "11        DANIDA  35.770258 -10.574175  Kwa Alid Nchimbi            0  ...   \n",
              "16           DWE  34.642439  -9.106185   Kwa John Mtenzi            0  ...   \n",
              "\n",
              "   water_quality quality_group      quantity  quantity_group        source  \\\n",
              "0           soft          good        enough          enough        spring   \n",
              "2           soft          good        enough          enough           dam   \n",
              "5          salty         salty        enough          enough         other   \n",
              "11          soft          good  insufficient    insufficient  shallow well   \n",
              "16          soft          good           dry             dry         river   \n",
              "\n",
              "     source_type source_class              waterpoint_type  \\\n",
              "0         spring  groundwater           communal standpipe   \n",
              "2            dam      surface  communal standpipe multiple   \n",
              "5          other      unknown  communal standpipe multiple   \n",
              "11  shallow well  groundwater                    hand pump   \n",
              "16    river/lake      surface           communal standpipe   \n",
              "\n",
              "    waterpoint_type_group    status_group  \n",
              "0      communal standpipe      functional  \n",
              "2      communal standpipe      functional  \n",
              "5      communal standpipe      functional  \n",
              "11              hand pump      functional  \n",
              "16     communal standpipe  non functional  \n",
              "\n",
              "[5 rows x 41 columns]"
            ],
            "text/html": [
              "\n",
              "  <div id=\"df-610c1fd5-4b71-4fbf-be2a-5dc694f001f7\">\n",
              "    <div class=\"colab-df-container\">\n",
              "      <div>\n",
              "<style scoped>\n",
              "    .dataframe tbody tr th:only-of-type {\n",
              "        vertical-align: middle;\n",
              "    }\n",
              "\n",
              "    .dataframe tbody tr th {\n",
              "        vertical-align: top;\n",
              "    }\n",
              "\n",
              "    .dataframe thead th {\n",
              "        text-align: right;\n",
              "    }\n",
              "</style>\n",
              "<table border=\"1\" class=\"dataframe\">\n",
              "  <thead>\n",
              "    <tr style=\"text-align: right;\">\n",
              "      <th></th>\n",
              "      <th>id</th>\n",
              "      <th>amount_tsh</th>\n",
              "      <th>date_recorded</th>\n",
              "      <th>funder</th>\n",
              "      <th>gps_height</th>\n",
              "      <th>installer</th>\n",
              "      <th>longitude</th>\n",
              "      <th>latitude</th>\n",
              "      <th>wpt_name</th>\n",
              "      <th>num_private</th>\n",
              "      <th>...</th>\n",
              "      <th>water_quality</th>\n",
              "      <th>quality_group</th>\n",
              "      <th>quantity</th>\n",
              "      <th>quantity_group</th>\n",
              "      <th>source</th>\n",
              "      <th>source_type</th>\n",
              "      <th>source_class</th>\n",
              "      <th>waterpoint_type</th>\n",
              "      <th>waterpoint_type_group</th>\n",
              "      <th>status_group</th>\n",
              "    </tr>\n",
              "  </thead>\n",
              "  <tbody>\n",
              "    <tr>\n",
              "      <th>0</th>\n",
              "      <td>69572</td>\n",
              "      <td>6000.0</td>\n",
              "      <td>2011-03-14</td>\n",
              "      <td>Roman</td>\n",
              "      <td>1390</td>\n",
              "      <td>Roman</td>\n",
              "      <td>34.938093</td>\n",
              "      <td>-9.856322</td>\n",
              "      <td>none</td>\n",
              "      <td>0</td>\n",
              "      <td>...</td>\n",
              "      <td>soft</td>\n",
              "      <td>good</td>\n",
              "      <td>enough</td>\n",
              "      <td>enough</td>\n",
              "      <td>spring</td>\n",
              "      <td>spring</td>\n",
              "      <td>groundwater</td>\n",
              "      <td>communal standpipe</td>\n",
              "      <td>communal standpipe</td>\n",
              "      <td>functional</td>\n",
              "    </tr>\n",
              "    <tr>\n",
              "      <th>2</th>\n",
              "      <td>34310</td>\n",
              "      <td>25.0</td>\n",
              "      <td>2013-02-25</td>\n",
              "      <td>Lottery Club</td>\n",
              "      <td>686</td>\n",
              "      <td>World vision</td>\n",
              "      <td>37.460664</td>\n",
              "      <td>-3.821329</td>\n",
              "      <td>Kwa Mahundi</td>\n",
              "      <td>0</td>\n",
              "      <td>...</td>\n",
              "      <td>soft</td>\n",
              "      <td>good</td>\n",
              "      <td>enough</td>\n",
              "      <td>enough</td>\n",
              "      <td>dam</td>\n",
              "      <td>dam</td>\n",
              "      <td>surface</td>\n",
              "      <td>communal standpipe multiple</td>\n",
              "      <td>communal standpipe</td>\n",
              "      <td>functional</td>\n",
              "    </tr>\n",
              "    <tr>\n",
              "      <th>5</th>\n",
              "      <td>9944</td>\n",
              "      <td>20.0</td>\n",
              "      <td>2011-03-13</td>\n",
              "      <td>Mkinga Distric Coun</td>\n",
              "      <td>0</td>\n",
              "      <td>DWE</td>\n",
              "      <td>39.172796</td>\n",
              "      <td>-4.765587</td>\n",
              "      <td>Tajiri</td>\n",
              "      <td>0</td>\n",
              "      <td>...</td>\n",
              "      <td>salty</td>\n",
              "      <td>salty</td>\n",
              "      <td>enough</td>\n",
              "      <td>enough</td>\n",
              "      <td>other</td>\n",
              "      <td>other</td>\n",
              "      <td>unknown</td>\n",
              "      <td>communal standpipe multiple</td>\n",
              "      <td>communal standpipe</td>\n",
              "      <td>functional</td>\n",
              "    </tr>\n",
              "    <tr>\n",
              "      <th>11</th>\n",
              "      <td>50409</td>\n",
              "      <td>200.0</td>\n",
              "      <td>2013-02-18</td>\n",
              "      <td>Danida</td>\n",
              "      <td>1062</td>\n",
              "      <td>DANIDA</td>\n",
              "      <td>35.770258</td>\n",
              "      <td>-10.574175</td>\n",
              "      <td>Kwa Alid Nchimbi</td>\n",
              "      <td>0</td>\n",
              "      <td>...</td>\n",
              "      <td>soft</td>\n",
              "      <td>good</td>\n",
              "      <td>insufficient</td>\n",
              "      <td>insufficient</td>\n",
              "      <td>shallow well</td>\n",
              "      <td>shallow well</td>\n",
              "      <td>groundwater</td>\n",
              "      <td>hand pump</td>\n",
              "      <td>hand pump</td>\n",
              "      <td>functional</td>\n",
              "    </tr>\n",
              "    <tr>\n",
              "      <th>16</th>\n",
              "      <td>48451</td>\n",
              "      <td>500.0</td>\n",
              "      <td>2011-07-04</td>\n",
              "      <td>Unicef</td>\n",
              "      <td>1703</td>\n",
              "      <td>DWE</td>\n",
              "      <td>34.642439</td>\n",
              "      <td>-9.106185</td>\n",
              "      <td>Kwa John Mtenzi</td>\n",
              "      <td>0</td>\n",
              "      <td>...</td>\n",
              "      <td>soft</td>\n",
              "      <td>good</td>\n",
              "      <td>dry</td>\n",
              "      <td>dry</td>\n",
              "      <td>river</td>\n",
              "      <td>river/lake</td>\n",
              "      <td>surface</td>\n",
              "      <td>communal standpipe</td>\n",
              "      <td>communal standpipe</td>\n",
              "      <td>non functional</td>\n",
              "    </tr>\n",
              "  </tbody>\n",
              "</table>\n",
              "<p>5 rows × 41 columns</p>\n",
              "</div>\n",
              "      <button class=\"colab-df-convert\" onclick=\"convertToInteractive('df-610c1fd5-4b71-4fbf-be2a-5dc694f001f7')\"\n",
              "              title=\"Convert this dataframe to an interactive table.\"\n",
              "              style=\"display:none;\">\n",
              "        \n",
              "  <svg xmlns=\"http://www.w3.org/2000/svg\" height=\"24px\"viewBox=\"0 0 24 24\"\n",
              "       width=\"24px\">\n",
              "    <path d=\"M0 0h24v24H0V0z\" fill=\"none\"/>\n",
              "    <path d=\"M18.56 5.44l.94 2.06.94-2.06 2.06-.94-2.06-.94-.94-2.06-.94 2.06-2.06.94zm-11 1L8.5 8.5l.94-2.06 2.06-.94-2.06-.94L8.5 2.5l-.94 2.06-2.06.94zm10 10l.94 2.06.94-2.06 2.06-.94-2.06-.94-.94-2.06-.94 2.06-2.06.94z\"/><path d=\"M17.41 7.96l-1.37-1.37c-.4-.4-.92-.59-1.43-.59-.52 0-1.04.2-1.43.59L10.3 9.45l-7.72 7.72c-.78.78-.78 2.05 0 2.83L4 21.41c.39.39.9.59 1.41.59.51 0 1.02-.2 1.41-.59l7.78-7.78 2.81-2.81c.8-.78.8-2.07 0-2.86zM5.41 20L4 18.59l7.72-7.72 1.47 1.35L5.41 20z\"/>\n",
              "  </svg>\n",
              "      </button>\n",
              "      \n",
              "  <style>\n",
              "    .colab-df-container {\n",
              "      display:flex;\n",
              "      flex-wrap:wrap;\n",
              "      gap: 12px;\n",
              "    }\n",
              "\n",
              "    .colab-df-convert {\n",
              "      background-color: #E8F0FE;\n",
              "      border: none;\n",
              "      border-radius: 50%;\n",
              "      cursor: pointer;\n",
              "      display: none;\n",
              "      fill: #1967D2;\n",
              "      height: 32px;\n",
              "      padding: 0 0 0 0;\n",
              "      width: 32px;\n",
              "    }\n",
              "\n",
              "    .colab-df-convert:hover {\n",
              "      background-color: #E2EBFA;\n",
              "      box-shadow: 0px 1px 2px rgba(60, 64, 67, 0.3), 0px 1px 3px 1px rgba(60, 64, 67, 0.15);\n",
              "      fill: #174EA6;\n",
              "    }\n",
              "\n",
              "    [theme=dark] .colab-df-convert {\n",
              "      background-color: #3B4455;\n",
              "      fill: #D2E3FC;\n",
              "    }\n",
              "\n",
              "    [theme=dark] .colab-df-convert:hover {\n",
              "      background-color: #434B5C;\n",
              "      box-shadow: 0px 1px 3px 1px rgba(0, 0, 0, 0.15);\n",
              "      filter: drop-shadow(0px 1px 2px rgba(0, 0, 0, 0.3));\n",
              "      fill: #FFFFFF;\n",
              "    }\n",
              "  </style>\n",
              "\n",
              "      <script>\n",
              "        const buttonEl =\n",
              "          document.querySelector('#df-610c1fd5-4b71-4fbf-be2a-5dc694f001f7 button.colab-df-convert');\n",
              "        buttonEl.style.display =\n",
              "          google.colab.kernel.accessAllowed ? 'block' : 'none';\n",
              "\n",
              "        async function convertToInteractive(key) {\n",
              "          const element = document.querySelector('#df-610c1fd5-4b71-4fbf-be2a-5dc694f001f7');\n",
              "          const dataTable =\n",
              "            await google.colab.kernel.invokeFunction('convertToInteractive',\n",
              "                                                     [key], {});\n",
              "          if (!dataTable) return;\n",
              "\n",
              "          const docLinkHtml = 'Like what you see? Visit the ' +\n",
              "            '<a target=\"_blank\" href=https://colab.research.google.com/notebooks/data_table.ipynb>data table notebook</a>'\n",
              "            + ' to learn more about interactive tables.';\n",
              "          element.innerHTML = '';\n",
              "          dataTable['output_type'] = 'display_data';\n",
              "          await google.colab.output.renderOutput(dataTable, element);\n",
              "          const docLink = document.createElement('div');\n",
              "          docLink.innerHTML = docLinkHtml;\n",
              "          element.appendChild(docLink);\n",
              "        }\n",
              "      </script>\n",
              "    </div>\n",
              "  </div>\n",
              "  "
            ]
          },
          "metadata": {},
          "execution_count": 20
        }
      ],
      "source": [
        "tsh_multiple_occurance_df = data.groupby('amount_tsh').filter(lambda x: len(x) > 1)\n",
        "tsh_multiple_nonzero_occurance_df = tsh_multiple_occurance_df[tsh_multiple_occurance_df.amount_tsh>0]\n",
        "tsh_multiple_nonzero_occurance_df.head()"
      ]
    },
    {
      "cell_type": "code",
      "execution_count": null,
      "metadata": {
        "id": "flE14uAcg_h2"
      },
      "outputs": [],
      "source": [
        "tsh_zero_value_df = tsh_multiple_occurance_df[tsh_multiple_occurance_df.amount_tsh==0]\n",
        "zero_tsh_index = tsh_zero_value_df.id.tolist()\n",
        "data.loc[data['id'].isin(zero_tsh_index), 'amount_tsh'] = round(tsh_multiple_nonzero_occurance_df.amount_tsh.mean())"
      ]
    },
    {
      "cell_type": "code",
      "execution_count": null,
      "metadata": {
        "colab": {
          "base_uri": "https://localhost:8080/",
          "height": 399
        },
        "id": "v6W8b1aUzwJr",
        "outputId": "ce9a3815-65cd-499e-ef86-61e4f437aa60"
      },
      "outputs": [
        {
          "output_type": "execute_result",
          "data": {
            "text/plain": [
              "      id  amount_tsh date_recorded        funder  gps_height     installer  \\\n",
              "0  69572      6000.0    2011-03-14         Roman        1390         Roman   \n",
              "1   8776       984.0    2013-03-06       Grumeti        1399       GRUMETI   \n",
              "2  34310        25.0    2013-02-25  Lottery Club         686  World vision   \n",
              "3  67743       984.0    2013-01-28        Unicef         263        UNICEF   \n",
              "4  19728       984.0    2011-07-13   Action In A           0       Artisan   \n",
              "\n",
              "   longitude   latitude              wpt_name  num_private  ... water_quality  \\\n",
              "0  34.938093  -9.856322                  none            0  ...          soft   \n",
              "1  34.698766  -2.147466              Zahanati            0  ...          soft   \n",
              "2  37.460664  -3.821329           Kwa Mahundi            0  ...          soft   \n",
              "3  38.486161 -11.155298  Zahanati Ya Nanyumbu            0  ...          soft   \n",
              "4  31.130847  -1.825359               Shuleni            0  ...          soft   \n",
              "\n",
              "  quality_group      quantity  quantity_group                source  \\\n",
              "0          good        enough          enough                spring   \n",
              "1          good  insufficient    insufficient  rainwater harvesting   \n",
              "2          good        enough          enough                   dam   \n",
              "3          good           dry             dry           machine dbh   \n",
              "4          good      seasonal        seasonal  rainwater harvesting   \n",
              "\n",
              "            source_type source_class              waterpoint_type  \\\n",
              "0                spring  groundwater           communal standpipe   \n",
              "1  rainwater harvesting      surface           communal standpipe   \n",
              "2                   dam      surface  communal standpipe multiple   \n",
              "3              borehole  groundwater  communal standpipe multiple   \n",
              "4  rainwater harvesting      surface           communal standpipe   \n",
              "\n",
              "   waterpoint_type_group    status_group  \n",
              "0     communal standpipe      functional  \n",
              "1     communal standpipe      functional  \n",
              "2     communal standpipe      functional  \n",
              "3     communal standpipe  non functional  \n",
              "4     communal standpipe      functional  \n",
              "\n",
              "[5 rows x 41 columns]"
            ],
            "text/html": [
              "\n",
              "  <div id=\"df-9143db8f-6623-441d-8638-9b51dc9d98f4\">\n",
              "    <div class=\"colab-df-container\">\n",
              "      <div>\n",
              "<style scoped>\n",
              "    .dataframe tbody tr th:only-of-type {\n",
              "        vertical-align: middle;\n",
              "    }\n",
              "\n",
              "    .dataframe tbody tr th {\n",
              "        vertical-align: top;\n",
              "    }\n",
              "\n",
              "    .dataframe thead th {\n",
              "        text-align: right;\n",
              "    }\n",
              "</style>\n",
              "<table border=\"1\" class=\"dataframe\">\n",
              "  <thead>\n",
              "    <tr style=\"text-align: right;\">\n",
              "      <th></th>\n",
              "      <th>id</th>\n",
              "      <th>amount_tsh</th>\n",
              "      <th>date_recorded</th>\n",
              "      <th>funder</th>\n",
              "      <th>gps_height</th>\n",
              "      <th>installer</th>\n",
              "      <th>longitude</th>\n",
              "      <th>latitude</th>\n",
              "      <th>wpt_name</th>\n",
              "      <th>num_private</th>\n",
              "      <th>...</th>\n",
              "      <th>water_quality</th>\n",
              "      <th>quality_group</th>\n",
              "      <th>quantity</th>\n",
              "      <th>quantity_group</th>\n",
              "      <th>source</th>\n",
              "      <th>source_type</th>\n",
              "      <th>source_class</th>\n",
              "      <th>waterpoint_type</th>\n",
              "      <th>waterpoint_type_group</th>\n",
              "      <th>status_group</th>\n",
              "    </tr>\n",
              "  </thead>\n",
              "  <tbody>\n",
              "    <tr>\n",
              "      <th>0</th>\n",
              "      <td>69572</td>\n",
              "      <td>6000.0</td>\n",
              "      <td>2011-03-14</td>\n",
              "      <td>Roman</td>\n",
              "      <td>1390</td>\n",
              "      <td>Roman</td>\n",
              "      <td>34.938093</td>\n",
              "      <td>-9.856322</td>\n",
              "      <td>none</td>\n",
              "      <td>0</td>\n",
              "      <td>...</td>\n",
              "      <td>soft</td>\n",
              "      <td>good</td>\n",
              "      <td>enough</td>\n",
              "      <td>enough</td>\n",
              "      <td>spring</td>\n",
              "      <td>spring</td>\n",
              "      <td>groundwater</td>\n",
              "      <td>communal standpipe</td>\n",
              "      <td>communal standpipe</td>\n",
              "      <td>functional</td>\n",
              "    </tr>\n",
              "    <tr>\n",
              "      <th>1</th>\n",
              "      <td>8776</td>\n",
              "      <td>984.0</td>\n",
              "      <td>2013-03-06</td>\n",
              "      <td>Grumeti</td>\n",
              "      <td>1399</td>\n",
              "      <td>GRUMETI</td>\n",
              "      <td>34.698766</td>\n",
              "      <td>-2.147466</td>\n",
              "      <td>Zahanati</td>\n",
              "      <td>0</td>\n",
              "      <td>...</td>\n",
              "      <td>soft</td>\n",
              "      <td>good</td>\n",
              "      <td>insufficient</td>\n",
              "      <td>insufficient</td>\n",
              "      <td>rainwater harvesting</td>\n",
              "      <td>rainwater harvesting</td>\n",
              "      <td>surface</td>\n",
              "      <td>communal standpipe</td>\n",
              "      <td>communal standpipe</td>\n",
              "      <td>functional</td>\n",
              "    </tr>\n",
              "    <tr>\n",
              "      <th>2</th>\n",
              "      <td>34310</td>\n",
              "      <td>25.0</td>\n",
              "      <td>2013-02-25</td>\n",
              "      <td>Lottery Club</td>\n",
              "      <td>686</td>\n",
              "      <td>World vision</td>\n",
              "      <td>37.460664</td>\n",
              "      <td>-3.821329</td>\n",
              "      <td>Kwa Mahundi</td>\n",
              "      <td>0</td>\n",
              "      <td>...</td>\n",
              "      <td>soft</td>\n",
              "      <td>good</td>\n",
              "      <td>enough</td>\n",
              "      <td>enough</td>\n",
              "      <td>dam</td>\n",
              "      <td>dam</td>\n",
              "      <td>surface</td>\n",
              "      <td>communal standpipe multiple</td>\n",
              "      <td>communal standpipe</td>\n",
              "      <td>functional</td>\n",
              "    </tr>\n",
              "    <tr>\n",
              "      <th>3</th>\n",
              "      <td>67743</td>\n",
              "      <td>984.0</td>\n",
              "      <td>2013-01-28</td>\n",
              "      <td>Unicef</td>\n",
              "      <td>263</td>\n",
              "      <td>UNICEF</td>\n",
              "      <td>38.486161</td>\n",
              "      <td>-11.155298</td>\n",
              "      <td>Zahanati Ya Nanyumbu</td>\n",
              "      <td>0</td>\n",
              "      <td>...</td>\n",
              "      <td>soft</td>\n",
              "      <td>good</td>\n",
              "      <td>dry</td>\n",
              "      <td>dry</td>\n",
              "      <td>machine dbh</td>\n",
              "      <td>borehole</td>\n",
              "      <td>groundwater</td>\n",
              "      <td>communal standpipe multiple</td>\n",
              "      <td>communal standpipe</td>\n",
              "      <td>non functional</td>\n",
              "    </tr>\n",
              "    <tr>\n",
              "      <th>4</th>\n",
              "      <td>19728</td>\n",
              "      <td>984.0</td>\n",
              "      <td>2011-07-13</td>\n",
              "      <td>Action In A</td>\n",
              "      <td>0</td>\n",
              "      <td>Artisan</td>\n",
              "      <td>31.130847</td>\n",
              "      <td>-1.825359</td>\n",
              "      <td>Shuleni</td>\n",
              "      <td>0</td>\n",
              "      <td>...</td>\n",
              "      <td>soft</td>\n",
              "      <td>good</td>\n",
              "      <td>seasonal</td>\n",
              "      <td>seasonal</td>\n",
              "      <td>rainwater harvesting</td>\n",
              "      <td>rainwater harvesting</td>\n",
              "      <td>surface</td>\n",
              "      <td>communal standpipe</td>\n",
              "      <td>communal standpipe</td>\n",
              "      <td>functional</td>\n",
              "    </tr>\n",
              "  </tbody>\n",
              "</table>\n",
              "<p>5 rows × 41 columns</p>\n",
              "</div>\n",
              "      <button class=\"colab-df-convert\" onclick=\"convertToInteractive('df-9143db8f-6623-441d-8638-9b51dc9d98f4')\"\n",
              "              title=\"Convert this dataframe to an interactive table.\"\n",
              "              style=\"display:none;\">\n",
              "        \n",
              "  <svg xmlns=\"http://www.w3.org/2000/svg\" height=\"24px\"viewBox=\"0 0 24 24\"\n",
              "       width=\"24px\">\n",
              "    <path d=\"M0 0h24v24H0V0z\" fill=\"none\"/>\n",
              "    <path d=\"M18.56 5.44l.94 2.06.94-2.06 2.06-.94-2.06-.94-.94-2.06-.94 2.06-2.06.94zm-11 1L8.5 8.5l.94-2.06 2.06-.94-2.06-.94L8.5 2.5l-.94 2.06-2.06.94zm10 10l.94 2.06.94-2.06 2.06-.94-2.06-.94-.94-2.06-.94 2.06-2.06.94z\"/><path d=\"M17.41 7.96l-1.37-1.37c-.4-.4-.92-.59-1.43-.59-.52 0-1.04.2-1.43.59L10.3 9.45l-7.72 7.72c-.78.78-.78 2.05 0 2.83L4 21.41c.39.39.9.59 1.41.59.51 0 1.02-.2 1.41-.59l7.78-7.78 2.81-2.81c.8-.78.8-2.07 0-2.86zM5.41 20L4 18.59l7.72-7.72 1.47 1.35L5.41 20z\"/>\n",
              "  </svg>\n",
              "      </button>\n",
              "      \n",
              "  <style>\n",
              "    .colab-df-container {\n",
              "      display:flex;\n",
              "      flex-wrap:wrap;\n",
              "      gap: 12px;\n",
              "    }\n",
              "\n",
              "    .colab-df-convert {\n",
              "      background-color: #E8F0FE;\n",
              "      border: none;\n",
              "      border-radius: 50%;\n",
              "      cursor: pointer;\n",
              "      display: none;\n",
              "      fill: #1967D2;\n",
              "      height: 32px;\n",
              "      padding: 0 0 0 0;\n",
              "      width: 32px;\n",
              "    }\n",
              "\n",
              "    .colab-df-convert:hover {\n",
              "      background-color: #E2EBFA;\n",
              "      box-shadow: 0px 1px 2px rgba(60, 64, 67, 0.3), 0px 1px 3px 1px rgba(60, 64, 67, 0.15);\n",
              "      fill: #174EA6;\n",
              "    }\n",
              "\n",
              "    [theme=dark] .colab-df-convert {\n",
              "      background-color: #3B4455;\n",
              "      fill: #D2E3FC;\n",
              "    }\n",
              "\n",
              "    [theme=dark] .colab-df-convert:hover {\n",
              "      background-color: #434B5C;\n",
              "      box-shadow: 0px 1px 3px 1px rgba(0, 0, 0, 0.15);\n",
              "      filter: drop-shadow(0px 1px 2px rgba(0, 0, 0, 0.3));\n",
              "      fill: #FFFFFF;\n",
              "    }\n",
              "  </style>\n",
              "\n",
              "      <script>\n",
              "        const buttonEl =\n",
              "          document.querySelector('#df-9143db8f-6623-441d-8638-9b51dc9d98f4 button.colab-df-convert');\n",
              "        buttonEl.style.display =\n",
              "          google.colab.kernel.accessAllowed ? 'block' : 'none';\n",
              "\n",
              "        async function convertToInteractive(key) {\n",
              "          const element = document.querySelector('#df-9143db8f-6623-441d-8638-9b51dc9d98f4');\n",
              "          const dataTable =\n",
              "            await google.colab.kernel.invokeFunction('convertToInteractive',\n",
              "                                                     [key], {});\n",
              "          if (!dataTable) return;\n",
              "\n",
              "          const docLinkHtml = 'Like what you see? Visit the ' +\n",
              "            '<a target=\"_blank\" href=https://colab.research.google.com/notebooks/data_table.ipynb>data table notebook</a>'\n",
              "            + ' to learn more about interactive tables.';\n",
              "          element.innerHTML = '';\n",
              "          dataTable['output_type'] = 'display_data';\n",
              "          await google.colab.output.renderOutput(dataTable, element);\n",
              "          const docLink = document.createElement('div');\n",
              "          docLink.innerHTML = docLinkHtml;\n",
              "          element.appendChild(docLink);\n",
              "        }\n",
              "      </script>\n",
              "    </div>\n",
              "  </div>\n",
              "  "
            ]
          },
          "metadata": {},
          "execution_count": 22
        }
      ],
      "source": [
        "data.head()"
      ]
    },
    {
      "cell_type": "code",
      "execution_count": null,
      "metadata": {
        "colab": {
          "base_uri": "https://localhost:8080/",
          "height": 215
        },
        "id": "J7EAmQIFMizr",
        "outputId": "f817e52c-555d-4be1-d6d9-9d89116b041b"
      },
      "outputs": [
        {
          "output_type": "display_data",
          "data": {
            "text/plain": [
              "<Figure size 432x288 with 1 Axes>"
            ],
            "image/png": "[encoded data removed]"
          },
          "metadata": {
            "needs_background": "light"
          }
        }
      ],
      "source": [
        "boxplot = data.boxplot(column=['amount_tsh'])"
      ]
    },
    {
      "cell_type": "markdown",
      "metadata": {
        "id": "iBVG5i_X5rwo"
      },
      "source": [
        "###2.1.2. date_recorded\n",
        "The date the row was entered\n",
        "* Date recorded does not add much value by itself, we might only need the year. So, only the year row was entere is keeped. The other info of the feature can be used to find the day of the week, month, season, etc. of row recorded. The season might add some vale since it can be rainy or dry season in Tanzania. We will extract the season by percipitation amounts and add it as a new feature to the dataset. \n",
        "*Percipitation amount around the date the row was recorded can be valuable info, percipitation_amount above 100mm is assumed \"high\" and lower than 100mm assumed \"low\", indicating rainy and dry seasons. "
      ]
    },
    {
      "cell_type": "code",
      "execution_count": null,
      "metadata": {
        "id": "yCerr2cnSJ0t",
        "colab": {
          "base_uri": "https://localhost:8080/",
          "height": 629
        },
        "outputId": "2f8e3bda-2ba5-4968-c3de-dcc79e3a57a5"
      },
      "outputs": [
        {
          "output_type": "error",
          "ename": "AttributeError",
          "evalue": "ignored",
          "traceback": [
            "\u001b[0;31m---------------------------------------------------------------------------\u001b[0m",
            "\u001b[0;31mAttributeError\u001b[0m                            Traceback (most recent call last)",
            "\u001b[0;32m<ipython-input-27-d68b58df8815>\u001b[0m in \u001b[0;36m<module>\u001b[0;34m\u001b[0m\n\u001b[0;32m----> 1\u001b[0;31m \u001b[0mdata\u001b[0m\u001b[0;34m.\u001b[0m\u001b[0mdate_recorded\u001b[0m \u001b[0;34m=\u001b[0m \u001b[0mdata\u001b[0m\u001b[0;34m.\u001b[0m\u001b[0mdate_recorded\u001b[0m\u001b[0;34m.\u001b[0m\u001b[0mstr\u001b[0m\u001b[0;34m.\u001b[0m\u001b[0mreplace\u001b[0m\u001b[0;34m(\u001b[0m\u001b[0;34m'-'\u001b[0m\u001b[0;34m,\u001b[0m\u001b[0;34m''\u001b[0m\u001b[0;34m)\u001b[0m\u001b[0;34m\u001b[0m\u001b[0;34m\u001b[0m\u001b[0m\n\u001b[0m\u001b[1;32m      2\u001b[0m \u001b[0mdata\u001b[0m\u001b[0;34m.\u001b[0m\u001b[0mdate_recorded\u001b[0m \u001b[0;34m=\u001b[0m \u001b[0mdata\u001b[0m\u001b[0;34m.\u001b[0m\u001b[0mdate_recorded\u001b[0m\u001b[0;34m.\u001b[0m\u001b[0mstr\u001b[0m\u001b[0;34m[\u001b[0m\u001b[0;34m:\u001b[0m\u001b[0;36m4\u001b[0m\u001b[0;34m]\u001b[0m\u001b[0;34m\u001b[0m\u001b[0;34m\u001b[0m\u001b[0m\n\u001b[1;32m      3\u001b[0m \u001b[0mdata\u001b[0m\u001b[0;34m.\u001b[0m\u001b[0mdate_recorded\u001b[0m \u001b[0;34m=\u001b[0m \u001b[0mdata\u001b[0m\u001b[0;34m.\u001b[0m\u001b[0mdate_recorded\u001b[0m\u001b[0;34m.\u001b[0m\u001b[0mastype\u001b[0m\u001b[0;34m(\u001b[0m\u001b[0mint\u001b[0m\u001b[0;34m)\u001b[0m\u001b[0;34m\u001b[0m\u001b[0;34m\u001b[0m\u001b[0m\n",
            "\u001b[0;32m/usr/local/lib/python3.8/dist-packages/pandas/core/generic.py\u001b[0m in \u001b[0;36m__getattr__\u001b[0;34m(self, name)\u001b[0m\n\u001b[1;32m   5485\u001b[0m         ):\n\u001b[1;32m   5486\u001b[0m             \u001b[0;32mreturn\u001b[0m \u001b[0mself\u001b[0m\u001b[0;34m[\u001b[0m\u001b[0mname\u001b[0m\u001b[0;34m]\u001b[0m\u001b[0;34m\u001b[0m\u001b[0;34m\u001b[0m\u001b[0m\n\u001b[0;32m-> 5487\u001b[0;31m         \u001b[0;32mreturn\u001b[0m \u001b[0mobject\u001b[0m\u001b[0;34m.\u001b[0m\u001b[0m__getattribute__\u001b[0m\u001b[0;34m(\u001b[0m\u001b[0mself\u001b[0m\u001b[0;34m,\u001b[0m \u001b[0mname\u001b[0m\u001b[0;34m)\u001b[0m\u001b[0;34m\u001b[0m\u001b[0;34m\u001b[0m\u001b[0m\n\u001b[0m\u001b[1;32m   5488\u001b[0m \u001b[0;34m\u001b[0m\u001b[0m\n\u001b[1;32m   5489\u001b[0m     \u001b[0;32mdef\u001b[0m \u001b[0m__setattr__\u001b[0m\u001b[0;34m(\u001b[0m\u001b[0mself\u001b[0m\u001b[0;34m,\u001b[0m \u001b[0mname\u001b[0m\u001b[0;34m:\u001b[0m \u001b[0mstr\u001b[0m\u001b[0;34m,\u001b[0m \u001b[0mvalue\u001b[0m\u001b[0;34m)\u001b[0m \u001b[0;34m->\u001b[0m \u001b[0;32mNone\u001b[0m\u001b[0;34m:\u001b[0m\u001b[0;34m\u001b[0m\u001b[0;34m\u001b[0m\u001b[0m\n",
            "\u001b[0;32m/usr/local/lib/python3.8/dist-packages/pandas/core/accessor.py\u001b[0m in \u001b[0;36m__get__\u001b[0;34m(self, obj, cls)\u001b[0m\n\u001b[1;32m    179\u001b[0m             \u001b[0;31m# we're accessing the attribute of the class, i.e., Dataset.geo\u001b[0m\u001b[0;34m\u001b[0m\u001b[0;34m\u001b[0m\u001b[0;34m\u001b[0m\u001b[0m\n\u001b[1;32m    180\u001b[0m             \u001b[0;32mreturn\u001b[0m \u001b[0mself\u001b[0m\u001b[0;34m.\u001b[0m\u001b[0m_accessor\u001b[0m\u001b[0;34m\u001b[0m\u001b[0;34m\u001b[0m\u001b[0m\n\u001b[0;32m--> 181\u001b[0;31m         \u001b[0maccessor_obj\u001b[0m \u001b[0;34m=\u001b[0m \u001b[0mself\u001b[0m\u001b[0;34m.\u001b[0m\u001b[0m_accessor\u001b[0m\u001b[0;34m(\u001b[0m\u001b[0mobj\u001b[0m\u001b[0;34m)\u001b[0m\u001b[0;34m\u001b[0m\u001b[0;34m\u001b[0m\u001b[0m\n\u001b[0m\u001b[1;32m    182\u001b[0m         \u001b[0;31m# Replace the property with the accessor object. Inspired by:\u001b[0m\u001b[0;34m\u001b[0m\u001b[0;34m\u001b[0m\u001b[0;34m\u001b[0m\u001b[0m\n\u001b[1;32m    183\u001b[0m         \u001b[0;31m# https://www.pydanny.com/cached-property.html\u001b[0m\u001b[0;34m\u001b[0m\u001b[0;34m\u001b[0m\u001b[0;34m\u001b[0m\u001b[0m\n",
            "\u001b[0;32m/usr/local/lib/python3.8/dist-packages/pandas/core/strings/accessor.py\u001b[0m in \u001b[0;36m__init__\u001b[0;34m(self, data)\u001b[0m\n\u001b[1;32m    166\u001b[0m         \u001b[0;32mfrom\u001b[0m \u001b[0mpandas\u001b[0m\u001b[0;34m.\u001b[0m\u001b[0mcore\u001b[0m\u001b[0;34m.\u001b[0m\u001b[0marrays\u001b[0m\u001b[0;34m.\u001b[0m\u001b[0mstring_\u001b[0m \u001b[0;32mimport\u001b[0m \u001b[0mStringDtype\u001b[0m\u001b[0;34m\u001b[0m\u001b[0;34m\u001b[0m\u001b[0m\n\u001b[1;32m    167\u001b[0m \u001b[0;34m\u001b[0m\u001b[0m\n\u001b[0;32m--> 168\u001b[0;31m         \u001b[0mself\u001b[0m\u001b[0;34m.\u001b[0m\u001b[0m_inferred_dtype\u001b[0m \u001b[0;34m=\u001b[0m \u001b[0mself\u001b[0m\u001b[0;34m.\u001b[0m\u001b[0m_validate\u001b[0m\u001b[0;34m(\u001b[0m\u001b[0mdata\u001b[0m\u001b[0;34m)\u001b[0m\u001b[0;34m\u001b[0m\u001b[0;34m\u001b[0m\u001b[0m\n\u001b[0m\u001b[1;32m    169\u001b[0m         \u001b[0mself\u001b[0m\u001b[0;34m.\u001b[0m\u001b[0m_is_categorical\u001b[0m \u001b[0;34m=\u001b[0m \u001b[0mis_categorical_dtype\u001b[0m\u001b[0;34m(\u001b[0m\u001b[0mdata\u001b[0m\u001b[0;34m.\u001b[0m\u001b[0mdtype\u001b[0m\u001b[0;34m)\u001b[0m\u001b[0;34m\u001b[0m\u001b[0;34m\u001b[0m\u001b[0m\n\u001b[1;32m    170\u001b[0m         \u001b[0mself\u001b[0m\u001b[0;34m.\u001b[0m\u001b[0m_is_string\u001b[0m \u001b[0;34m=\u001b[0m \u001b[0misinstance\u001b[0m\u001b[0;34m(\u001b[0m\u001b[0mdata\u001b[0m\u001b[0;34m.\u001b[0m\u001b[0mdtype\u001b[0m\u001b[0;34m,\u001b[0m \u001b[0mStringDtype\u001b[0m\u001b[0;34m)\u001b[0m\u001b[0;34m\u001b[0m\u001b[0;34m\u001b[0m\u001b[0m\n",
            "\u001b[0;32m/usr/local/lib/python3.8/dist-packages/pandas/core/strings/accessor.py\u001b[0m in \u001b[0;36m_validate\u001b[0;34m(data)\u001b[0m\n\u001b[1;32m    223\u001b[0m \u001b[0;34m\u001b[0m\u001b[0m\n\u001b[1;32m    224\u001b[0m         \u001b[0;32mif\u001b[0m \u001b[0minferred_dtype\u001b[0m \u001b[0;32mnot\u001b[0m \u001b[0;32min\u001b[0m \u001b[0mallowed_types\u001b[0m\u001b[0;34m:\u001b[0m\u001b[0;34m\u001b[0m\u001b[0;34m\u001b[0m\u001b[0m\n\u001b[0;32m--> 225\u001b[0;31m             \u001b[0;32mraise\u001b[0m \u001b[0mAttributeError\u001b[0m\u001b[0;34m(\u001b[0m\u001b[0;34m\"Can only use .str accessor with string values!\"\u001b[0m\u001b[0;34m)\u001b[0m\u001b[0;34m\u001b[0m\u001b[0;34m\u001b[0m\u001b[0m\n\u001b[0m\u001b[1;32m    226\u001b[0m         \u001b[0;32mreturn\u001b[0m \u001b[0minferred_dtype\u001b[0m\u001b[0;34m\u001b[0m\u001b[0;34m\u001b[0m\u001b[0m\n\u001b[1;32m    227\u001b[0m \u001b[0;34m\u001b[0m\u001b[0m\n",
            "\u001b[0;31mAttributeError\u001b[0m: Can only use .str accessor with string values!"
          ]
        }
      ],
      "source": [
        "data.date_recorded = data.date_recorded.str.replace('-','')\n",
        "data.date_recorded = data.date_recorded.str[:4]\n",
        "data.date_recorded = data.date_recorded.astype(int)"
      ]
    },
    {
      "cell_type": "code",
      "execution_count": null,
      "metadata": {
        "id": "H2DwpcXK6Ft_",
        "colab": {
          "base_uri": "https://localhost:8080/",
          "height": 629
        },
        "outputId": "b7507874-01f0-4968-aca5-d2543f30e05f"
      },
      "outputs": [
        {
          "output_type": "error",
          "ename": "AttributeError",
          "evalue": "ignored",
          "traceback": [
            "\u001b[0;31m---------------------------------------------------------------------------\u001b[0m",
            "\u001b[0;31mAttributeError\u001b[0m                            Traceback (most recent call last)",
            "\u001b[0;32m<ipython-input-28-744894df3fca>\u001b[0m in \u001b[0;36m<module>\u001b[0;34m\u001b[0m\n\u001b[0;32m----> 1\u001b[0;31m \u001b[0mtest\u001b[0m\u001b[0;34m.\u001b[0m\u001b[0mdate_recorded\u001b[0m \u001b[0;34m=\u001b[0m \u001b[0mtest\u001b[0m\u001b[0;34m.\u001b[0m\u001b[0mdate_recorded\u001b[0m\u001b[0;34m.\u001b[0m\u001b[0mstr\u001b[0m\u001b[0;34m.\u001b[0m\u001b[0mreplace\u001b[0m\u001b[0;34m(\u001b[0m\u001b[0;34m'-'\u001b[0m\u001b[0;34m,\u001b[0m\u001b[0;34m''\u001b[0m\u001b[0;34m)\u001b[0m\u001b[0;34m\u001b[0m\u001b[0;34m\u001b[0m\u001b[0m\n\u001b[0m\u001b[1;32m      2\u001b[0m \u001b[0mtest\u001b[0m\u001b[0;34m.\u001b[0m\u001b[0mdate_recorded\u001b[0m \u001b[0;34m=\u001b[0m \u001b[0mtest\u001b[0m\u001b[0;34m.\u001b[0m\u001b[0mdate_recorded\u001b[0m\u001b[0;34m.\u001b[0m\u001b[0mstr\u001b[0m\u001b[0;34m[\u001b[0m\u001b[0;34m:\u001b[0m\u001b[0;36m4\u001b[0m\u001b[0;34m]\u001b[0m\u001b[0;34m\u001b[0m\u001b[0;34m\u001b[0m\u001b[0m\n\u001b[1;32m      3\u001b[0m \u001b[0mtest\u001b[0m\u001b[0;34m.\u001b[0m\u001b[0mdate_recorded\u001b[0m \u001b[0;34m=\u001b[0m \u001b[0mtest\u001b[0m\u001b[0;34m.\u001b[0m\u001b[0mdate_recorded\u001b[0m\u001b[0;34m.\u001b[0m\u001b[0mastype\u001b[0m\u001b[0;34m(\u001b[0m\u001b[0mint\u001b[0m\u001b[0;34m)\u001b[0m\u001b[0;34m\u001b[0m\u001b[0;34m\u001b[0m\u001b[0m\n",
            "\u001b[0;32m/usr/local/lib/python3.8/dist-packages/pandas/core/generic.py\u001b[0m in \u001b[0;36m__getattr__\u001b[0;34m(self, name)\u001b[0m\n\u001b[1;32m   5485\u001b[0m         ):\n\u001b[1;32m   5486\u001b[0m             \u001b[0;32mreturn\u001b[0m \u001b[0mself\u001b[0m\u001b[0;34m[\u001b[0m\u001b[0mname\u001b[0m\u001b[0;34m]\u001b[0m\u001b[0;34m\u001b[0m\u001b[0;34m\u001b[0m\u001b[0m\n\u001b[0;32m-> 5487\u001b[0;31m         \u001b[0;32mreturn\u001b[0m \u001b[0mobject\u001b[0m\u001b[0;34m.\u001b[0m\u001b[0m__getattribute__\u001b[0m\u001b[0;34m(\u001b[0m\u001b[0mself\u001b[0m\u001b[0;34m,\u001b[0m \u001b[0mname\u001b[0m\u001b[0;34m)\u001b[0m\u001b[0;34m\u001b[0m\u001b[0;34m\u001b[0m\u001b[0m\n\u001b[0m\u001b[1;32m   5488\u001b[0m \u001b[0;34m\u001b[0m\u001b[0m\n\u001b[1;32m   5489\u001b[0m     \u001b[0;32mdef\u001b[0m \u001b[0m__setattr__\u001b[0m\u001b[0;34m(\u001b[0m\u001b[0mself\u001b[0m\u001b[0;34m,\u001b[0m \u001b[0mname\u001b[0m\u001b[0;34m:\u001b[0m \u001b[0mstr\u001b[0m\u001b[0;34m,\u001b[0m \u001b[0mvalue\u001b[0m\u001b[0;34m)\u001b[0m \u001b[0;34m->\u001b[0m \u001b[0;32mNone\u001b[0m\u001b[0;34m:\u001b[0m\u001b[0;34m\u001b[0m\u001b[0;34m\u001b[0m\u001b[0m\n",
            "\u001b[0;32m/usr/local/lib/python3.8/dist-packages/pandas/core/accessor.py\u001b[0m in \u001b[0;36m__get__\u001b[0;34m(self, obj, cls)\u001b[0m\n\u001b[1;32m    179\u001b[0m             \u001b[0;31m# we're accessing the attribute of the class, i.e., Dataset.geo\u001b[0m\u001b[0;34m\u001b[0m\u001b[0;34m\u001b[0m\u001b[0;34m\u001b[0m\u001b[0m\n\u001b[1;32m    180\u001b[0m             \u001b[0;32mreturn\u001b[0m \u001b[0mself\u001b[0m\u001b[0;34m.\u001b[0m\u001b[0m_accessor\u001b[0m\u001b[0;34m\u001b[0m\u001b[0;34m\u001b[0m\u001b[0m\n\u001b[0;32m--> 181\u001b[0;31m         \u001b[0maccessor_obj\u001b[0m \u001b[0;34m=\u001b[0m \u001b[0mself\u001b[0m\u001b[0;34m.\u001b[0m\u001b[0m_accessor\u001b[0m\u001b[0;34m(\u001b[0m\u001b[0mobj\u001b[0m\u001b[0;34m)\u001b[0m\u001b[0;34m\u001b[0m\u001b[0;34m\u001b[0m\u001b[0m\n\u001b[0m\u001b[1;32m    182\u001b[0m         \u001b[0;31m# Replace the property with the accessor object. Inspired by:\u001b[0m\u001b[0;34m\u001b[0m\u001b[0;34m\u001b[0m\u001b[0;34m\u001b[0m\u001b[0m\n\u001b[1;32m    183\u001b[0m         \u001b[0;31m# https://www.pydanny.com/cached-property.html\u001b[0m\u001b[0;34m\u001b[0m\u001b[0;34m\u001b[0m\u001b[0;34m\u001b[0m\u001b[0m\n",
            "\u001b[0;32m/usr/local/lib/python3.8/dist-packages/pandas/core/strings/accessor.py\u001b[0m in \u001b[0;36m__init__\u001b[0;34m(self, data)\u001b[0m\n\u001b[1;32m    166\u001b[0m         \u001b[0;32mfrom\u001b[0m \u001b[0mpandas\u001b[0m\u001b[0;34m.\u001b[0m\u001b[0mcore\u001b[0m\u001b[0;34m.\u001b[0m\u001b[0marrays\u001b[0m\u001b[0;34m.\u001b[0m\u001b[0mstring_\u001b[0m \u001b[0;32mimport\u001b[0m \u001b[0mStringDtype\u001b[0m\u001b[0;34m\u001b[0m\u001b[0;34m\u001b[0m\u001b[0m\n\u001b[1;32m    167\u001b[0m \u001b[0;34m\u001b[0m\u001b[0m\n\u001b[0;32m--> 168\u001b[0;31m         \u001b[0mself\u001b[0m\u001b[0;34m.\u001b[0m\u001b[0m_inferred_dtype\u001b[0m \u001b[0;34m=\u001b[0m \u001b[0mself\u001b[0m\u001b[0;34m.\u001b[0m\u001b[0m_validate\u001b[0m\u001b[0;34m(\u001b[0m\u001b[0mdata\u001b[0m\u001b[0;34m)\u001b[0m\u001b[0;34m\u001b[0m\u001b[0;34m\u001b[0m\u001b[0m\n\u001b[0m\u001b[1;32m    169\u001b[0m         \u001b[0mself\u001b[0m\u001b[0;34m.\u001b[0m\u001b[0m_is_categorical\u001b[0m \u001b[0;34m=\u001b[0m \u001b[0mis_categorical_dtype\u001b[0m\u001b[0;34m(\u001b[0m\u001b[0mdata\u001b[0m\u001b[0;34m.\u001b[0m\u001b[0mdtype\u001b[0m\u001b[0;34m)\u001b[0m\u001b[0;34m\u001b[0m\u001b[0;34m\u001b[0m\u001b[0m\n\u001b[1;32m    170\u001b[0m         \u001b[0mself\u001b[0m\u001b[0;34m.\u001b[0m\u001b[0m_is_string\u001b[0m \u001b[0;34m=\u001b[0m \u001b[0misinstance\u001b[0m\u001b[0;34m(\u001b[0m\u001b[0mdata\u001b[0m\u001b[0;34m.\u001b[0m\u001b[0mdtype\u001b[0m\u001b[0;34m,\u001b[0m \u001b[0mStringDtype\u001b[0m\u001b[0;34m)\u001b[0m\u001b[0;34m\u001b[0m\u001b[0;34m\u001b[0m\u001b[0m\n",
            "\u001b[0;32m/usr/local/lib/python3.8/dist-packages/pandas/core/strings/accessor.py\u001b[0m in \u001b[0;36m_validate\u001b[0;34m(data)\u001b[0m\n\u001b[1;32m    223\u001b[0m \u001b[0;34m\u001b[0m\u001b[0m\n\u001b[1;32m    224\u001b[0m         \u001b[0;32mif\u001b[0m \u001b[0minferred_dtype\u001b[0m \u001b[0;32mnot\u001b[0m \u001b[0;32min\u001b[0m \u001b[0mallowed_types\u001b[0m\u001b[0;34m:\u001b[0m\u001b[0;34m\u001b[0m\u001b[0;34m\u001b[0m\u001b[0m\n\u001b[0;32m--> 225\u001b[0;31m             \u001b[0;32mraise\u001b[0m \u001b[0mAttributeError\u001b[0m\u001b[0;34m(\u001b[0m\u001b[0;34m\"Can only use .str accessor with string values!\"\u001b[0m\u001b[0;34m)\u001b[0m\u001b[0;34m\u001b[0m\u001b[0;34m\u001b[0m\u001b[0m\n\u001b[0m\u001b[1;32m    226\u001b[0m         \u001b[0;32mreturn\u001b[0m \u001b[0minferred_dtype\u001b[0m\u001b[0;34m\u001b[0m\u001b[0;34m\u001b[0m\u001b[0m\n\u001b[1;32m    227\u001b[0m \u001b[0;34m\u001b[0m\u001b[0m\n",
            "\u001b[0;31mAttributeError\u001b[0m: Can only use .str accessor with string values!"
          ]
        }
      ],
      "source": [
        "test.date_recorded = test.date_recorded.str.replace('-','')\n",
        "test.date_recorded = test.date_recorded.str[:4]\n",
        "test.date_recorded = test.date_recorded.astype(int)"
      ]
    },
    {
      "cell_type": "code",
      "execution_count": null,
      "metadata": {
        "id": "s6fQHxXI6JB_"
      },
      "outputs": [],
      "source": [
        "data.date_recorded.head()"
      ]
    },
    {
      "cell_type": "markdown",
      "metadata": {
        "id": "-HVDAAYLIyC4"
      },
      "source": [
        "###2.1.3- construction_year\n",
        "Year the waterpoint was constructed. this feature has so many 0 values that does not make sense. We will replace them with mode of that feature. This might not be a good idea so we should consider another replacement after.\n",
        "* we can calculate the age of the well at the date of recording the row."
      ]
    },
    {
      "cell_type": "code",
      "execution_count": null,
      "metadata": {
        "colab": {
          "base_uri": "https://localhost:8080/"
        },
        "id": "Y3KPBSVqJNXP",
        "outputId": "410b5768-7f9f-4bca-8ded-89b2e249acea"
      },
      "outputs": [
        {
          "output_type": "execute_result",
          "data": {
            "text/plain": [
              "0       20709\n",
              "2010     2645\n",
              "2008     2613\n",
              "2009     2533\n",
              "2000     2091\n",
              "2007     1587\n",
              "2006     1471\n",
              "2003     1286\n",
              "2011     1256\n",
              "2004     1123\n",
              "2012     1084\n",
              "2002     1075\n",
              "1978     1037\n",
              "1995     1014\n",
              "2005     1011\n",
              "1999      979\n",
              "1998      966\n",
              "1990      954\n",
              "1985      945\n",
              "1980      811\n",
              "1996      811\n",
              "1984      779\n",
              "1982      744\n",
              "1994      738\n",
              "1972      708\n",
              "1974      676\n",
              "1997      644\n",
              "1992      640\n",
              "1993      608\n",
              "2001      540\n",
              "1988      521\n",
              "1983      488\n",
              "1975      437\n",
              "1986      434\n",
              "1976      414\n",
              "1970      411\n",
              "1991      324\n",
              "1989      316\n",
              "1987      302\n",
              "1981      238\n",
              "1977      202\n",
              "1979      192\n",
              "1973      184\n",
              "2013      176\n",
              "1971      145\n",
              "1960      102\n",
              "1967       88\n",
              "1963       85\n",
              "1968       77\n",
              "1969       59\n",
              "1964       40\n",
              "1962       30\n",
              "1961       21\n",
              "1965       19\n",
              "1966       17\n",
              "Name: construction_year, dtype: int64"
            ]
          },
          "metadata": {},
          "execution_count": 29
        }
      ],
      "source": [
        "data.construction_year.value_counts()"
      ]
    },
    {
      "cell_type": "code",
      "execution_count": null,
      "metadata": {
        "id": "L6qp1WtMJfNn"
      },
      "outputs": [],
      "source": [
        "construction_year_zero_index = data[data.construction_year==0].id.tolist()\n",
        "data.loc[data['id'].isin(construction_year_zero_index), 'construction_year']= np.NaN\n",
        "data['construction_year'].fillna(data['construction_year'].mode()[0], inplace=True)"
      ]
    },
    {
      "cell_type": "markdown",
      "metadata": {
        "id": "VLHN6uR08S2O"
      },
      "source": [
        "###2.1.4- Other features\n",
        "for all other features we need to do a sanity check, just to see if nothing unexpected has happened, one might put none as a categorical input, need to treat it as Na. Scan all features for any unexpected errors\n",
        "\n",
        "* wpt_name has many 'none' values,need to change them to NaN and replace them with mode of that feature.\n",
        "* recorded_by is all done by one team, no value is coming form this feature. Need to drop it from the dataset.\n",
        "* num_private, This feature is mostly missing, so we will drop it from dataset. 98% of the num_private feature has value of zero, so we drop it from our dataset.\n",
        "* scheme_management has one 'none' value, we will replace it with the other cateory.\n",
        "* scheme_name has also 'None' values, which we will replace with the mode of that feature.\n"
      ]
    },
    {
      "cell_type": "code",
      "execution_count": null,
      "metadata": {
        "colab": {
          "base_uri": "https://localhost:8080/"
        },
        "id": "2luhH6OEBkg6",
        "outputId": "2c77c040-ff80-4870-8beb-bbd090bb552f"
      },
      "outputs": [
        {
          "output_type": "execute_result",
          "data": {
            "text/plain": [
              "none                       3563\n",
              "Shuleni                    1748\n",
              "Zahanati                    830\n",
              "Msikitini                   535\n",
              "Kanisani                    323\n",
              "                           ... \n",
              "Kwa Medadi                    1\n",
              "Kwa Kubembeni                 1\n",
              "Shule Ya Msingi Milanzi       1\n",
              "Funua                         1\n",
              "Kwa Mzee Lugawa               1\n",
              "Name: wpt_name, Length: 37400, dtype: int64"
            ]
          },
          "metadata": {},
          "execution_count": 31
        }
      ],
      "source": [
        "data.wpt_name.value_counts()"
      ]
    },
    {
      "cell_type": "code",
      "execution_count": null,
      "metadata": {
        "id": "Ye74_s1lCRFE"
      },
      "outputs": [],
      "source": [
        "wpt_name_none_index = data[data.wpt_name=='none'].id.tolist()\n",
        "data.loc[data['id'].isin(wpt_name_none_index), 'wpt_name']= np.NaN\n",
        "data['wpt_name'].fillna(data['wpt_name'].mode()[0], inplace=True)\n",
        "# data.head()"
      ]
    },
    {
      "cell_type": "code",
      "execution_count": null,
      "metadata": {
        "colab": {
          "base_uri": "https://localhost:8080/"
        },
        "id": "gd2tL89LFGWb",
        "outputId": "3be122a9-16f1-41b0-8003-c6d05903d358"
      },
      "outputs": [
        {
          "output_type": "execute_result",
          "data": {
            "text/plain": [
              "GeoData Consultants Ltd    59400\n",
              "Name: recorded_by, dtype: int64"
            ]
          },
          "metadata": {},
          "execution_count": 33
        }
      ],
      "source": [
        "data.recorded_by.value_counts()\n"
      ]
    },
    {
      "cell_type": "code",
      "execution_count": null,
      "metadata": {
        "colab": {
          "base_uri": "https://localhost:8080/"
        },
        "id": "v-dSede2JEJC",
        "outputId": "e210222f-f5bd-4e12-b088-b6e0a63d14bf"
      },
      "outputs": [
        {
          "output_type": "execute_result",
          "data": {
            "text/plain": [
              "0       58643\n",
              "6          81\n",
              "1          73\n",
              "5          46\n",
              "8          46\n",
              "        ...  \n",
              "42          1\n",
              "23          1\n",
              "136         1\n",
              "698         1\n",
              "1402        1\n",
              "Name: num_private, Length: 65, dtype: int64"
            ]
          },
          "metadata": {},
          "execution_count": 34
        }
      ],
      "source": [
        "data.num_private.value_counts()"
      ]
    },
    {
      "cell_type": "code",
      "execution_count": null,
      "metadata": {
        "id": "DGkml8d4JGUn"
      },
      "outputs": [],
      "source": [
        "data = data.drop(['num_private'], axis=1)\n",
        "data = data.drop(['recorded_by'], axis=1)"
      ]
    },
    {
      "cell_type": "code",
      "execution_count": null,
      "metadata": {
        "colab": {
          "base_uri": "https://localhost:8080/"
        },
        "id": "TND0BNEyGvAx",
        "outputId": "a5eb5f21-4b5f-4394-91ac-8cb480435c92"
      },
      "outputs": [
        {
          "output_type": "execute_result",
          "data": {
            "text/plain": [
              "VWC                 40670\n",
              "WUG                  5206\n",
              "Water authority      3153\n",
              "WUA                  2883\n",
              "Water Board          2748\n",
              "Parastatal           1680\n",
              "Private operator     1063\n",
              "Company              1061\n",
              "Other                 766\n",
              "SWC                    97\n",
              "Trust                  72\n",
              "None                    1\n",
              "Name: scheme_management, dtype: int64"
            ]
          },
          "metadata": {},
          "execution_count": 36
        }
      ],
      "source": [
        "data.scheme_management.value_counts()\n"
      ]
    },
    {
      "cell_type": "code",
      "execution_count": null,
      "metadata": {
        "id": "tNbgysyiHIeJ"
      },
      "outputs": [],
      "source": [
        "scheme_management_none_index = data[data.scheme_management=='None'].id.tolist()\n",
        "data.loc[data['id'].isin(scheme_management_none_index), 'scheme_management']= 'Other'"
      ]
    },
    {
      "cell_type": "code",
      "execution_count": null,
      "metadata": {
        "colab": {
          "base_uri": "https://localhost:8080/"
        },
        "id": "NoldZknIH0_o",
        "outputId": "0d482e84-ac05-4d59-b0e4-413875cf7950"
      },
      "outputs": [
        {
          "output_type": "execute_result",
          "data": {
            "text/plain": [
              "K                       28848\n",
              "None                      644\n",
              "Borehole                  546\n",
              "Chalinze wate             405\n",
              "M                         400\n",
              "                        ...  \n",
              "Mradi wa maji Vijini        1\n",
              "Villagers                   1\n",
              "Magundi water supply        1\n",
              "Saadani Chumv               1\n",
              "Mtawanya                    1\n",
              "Name: scheme_name, Length: 2696, dtype: int64"
            ]
          },
          "metadata": {},
          "execution_count": 38
        }
      ],
      "source": [
        "data.scheme_name.value_counts()"
      ]
    },
    {
      "cell_type": "code",
      "execution_count": null,
      "metadata": {
        "id": "49-sESDIIOF5"
      },
      "outputs": [],
      "source": [
        "scheme_name_none_index = data[data.scheme_name=='None'].id.tolist()\n",
        "data.loc[data['id'].isin(scheme_name_none_index), 'scheme_name']= np.NaN\n",
        "data['scheme_name'].fillna(data['scheme_name'].mode()[0], inplace=True)"
      ]
    },
    {
      "cell_type": "code",
      "execution_count": null,
      "metadata": {
        "colab": {
          "base_uri": "https://localhost:8080/"
        },
        "id": "SFJ73v5xJ7y3",
        "outputId": "939bf767-8298-4fd8-dc82-12b243e0daea"
      },
      "outputs": [
        {
          "output_type": "execute_result",
          "data": {
            "text/plain": [
              "communal standpipe    34625\n",
              "hand pump             17488\n",
              "other                  6380\n",
              "improved spring         784\n",
              "cattle trough           116\n",
              "dam                       7\n",
              "Name: waterpoint_type_group, dtype: int64"
            ]
          },
          "metadata": {},
          "execution_count": 40
        }
      ],
      "source": [
        "data.waterpoint_type_group.value_counts()"
      ]
    },
    {
      "cell_type": "code",
      "execution_count": null,
      "metadata": {
        "colab": {
          "base_uri": "https://localhost:8080/",
          "height": 416
        },
        "id": "jnX8Ya6dJOpg",
        "outputId": "d6995bfd-436c-4ec7-989e-6ef4cc9563e8"
      },
      "outputs": [
        {
          "output_type": "execute_result",
          "data": {
            "text/plain": [
              "      id  amount_tsh  date_recorded        funder  gps_height     installer  \\\n",
              "0  69572      6000.0           2011         Roman        1390         Roman   \n",
              "1   8776       984.0           2013       Grumeti        1399       GRUMETI   \n",
              "2  34310        25.0           2013  Lottery Club         686  World vision   \n",
              "3  67743       984.0           2013        Unicef         263        UNICEF   \n",
              "4  19728       984.0           2011   Action In A           0       Artisan   \n",
              "\n",
              "   longitude   latitude              wpt_name                    basin  ...  \\\n",
              "0  34.938093  -9.856322               Shuleni               Lake Nyasa  ...   \n",
              "1  34.698766  -2.147466              Zahanati            Lake Victoria  ...   \n",
              "2  37.460664  -3.821329           Kwa Mahundi                  Pangani  ...   \n",
              "3  38.486161 -11.155298  Zahanati Ya Nanyumbu  Ruvuma / Southern Coast  ...   \n",
              "4  31.130847  -1.825359               Shuleni            Lake Victoria  ...   \n",
              "\n",
              "  water_quality quality_group      quantity  quantity_group  \\\n",
              "0          soft          good        enough          enough   \n",
              "1          soft          good  insufficient    insufficient   \n",
              "2          soft          good        enough          enough   \n",
              "3          soft          good           dry             dry   \n",
              "4          soft          good      seasonal        seasonal   \n",
              "\n",
              "                 source           source_type  source_class  \\\n",
              "0                spring                spring   groundwater   \n",
              "1  rainwater harvesting  rainwater harvesting       surface   \n",
              "2                   dam                   dam       surface   \n",
              "3           machine dbh              borehole   groundwater   \n",
              "4  rainwater harvesting  rainwater harvesting       surface   \n",
              "\n",
              "               waterpoint_type waterpoint_type_group    status_group  \n",
              "0           communal standpipe    communal standpipe      functional  \n",
              "1           communal standpipe    communal standpipe      functional  \n",
              "2  communal standpipe multiple    communal standpipe      functional  \n",
              "3  communal standpipe multiple    communal standpipe  non functional  \n",
              "4           communal standpipe    communal standpipe      functional  \n",
              "\n",
              "[5 rows x 39 columns]"
            ],
            "text/html": [
              "\n",
              "  <div id=\"df-d4ce85d4-f2e6-4700-9948-c7a03641a1d5\">\n",
              "    <div class=\"colab-df-container\">\n",
              "      <div>\n",
              "<style scoped>\n",
              "    .dataframe tbody tr th:only-of-type {\n",
              "        vertical-align: middle;\n",
              "    }\n",
              "\n",
              "    .dataframe tbody tr th {\n",
              "        vertical-align: top;\n",
              "    }\n",
              "\n",
              "    .dataframe thead th {\n",
              "        text-align: right;\n",
              "    }\n",
              "</style>\n",
              "<table border=\"1\" class=\"dataframe\">\n",
              "  <thead>\n",
              "    <tr style=\"text-align: right;\">\n",
              "      <th></th>\n",
              "      <th>id</th>\n",
              "      <th>amount_tsh</th>\n",
              "      <th>date_recorded</th>\n",
              "      <th>funder</th>\n",
              "      <th>gps_height</th>\n",
              "      <th>installer</th>\n",
              "      <th>longitude</th>\n",
              "      <th>latitude</th>\n",
              "      <th>wpt_name</th>\n",
              "      <th>basin</th>\n",
              "      <th>...</th>\n",
              "      <th>water_quality</th>\n",
              "      <th>quality_group</th>\n",
              "      <th>quantity</th>\n",
              "      <th>quantity_group</th>\n",
              "      <th>source</th>\n",
              "      <th>source_type</th>\n",
              "      <th>source_class</th>\n",
              "      <th>waterpoint_type</th>\n",
              "      <th>waterpoint_type_group</th>\n",
              "      <th>status_group</th>\n",
              "    </tr>\n",
              "  </thead>\n",
              "  <tbody>\n",
              "    <tr>\n",
              "      <th>0</th>\n",
              "      <td>69572</td>\n",
              "      <td>6000.0</td>\n",
              "      <td>2011</td>\n",
              "      <td>Roman</td>\n",
              "      <td>1390</td>\n",
              "      <td>Roman</td>\n",
              "      <td>34.938093</td>\n",
              "      <td>-9.856322</td>\n",
              "      <td>Shuleni</td>\n",
              "      <td>Lake Nyasa</td>\n",
              "      <td>...</td>\n",
              "      <td>soft</td>\n",
              "      <td>good</td>\n",
              "      <td>enough</td>\n",
              "      <td>enough</td>\n",
              "      <td>spring</td>\n",
              "      <td>spring</td>\n",
              "      <td>groundwater</td>\n",
              "      <td>communal standpipe</td>\n",
              "      <td>communal standpipe</td>\n",
              "      <td>functional</td>\n",
              "    </tr>\n",
              "    <tr>\n",
              "      <th>1</th>\n",
              "      <td>8776</td>\n",
              "      <td>984.0</td>\n",
              "      <td>2013</td>\n",
              "      <td>Grumeti</td>\n",
              "      <td>1399</td>\n",
              "      <td>GRUMETI</td>\n",
              "      <td>34.698766</td>\n",
              "      <td>-2.147466</td>\n",
              "      <td>Zahanati</td>\n",
              "      <td>Lake Victoria</td>\n",
              "      <td>...</td>\n",
              "      <td>soft</td>\n",
              "      <td>good</td>\n",
              "      <td>insufficient</td>\n",
              "      <td>insufficient</td>\n",
              "      <td>rainwater harvesting</td>\n",
              "      <td>rainwater harvesting</td>\n",
              "      <td>surface</td>\n",
              "      <td>communal standpipe</td>\n",
              "      <td>communal standpipe</td>\n",
              "      <td>functional</td>\n",
              "    </tr>\n",
              "    <tr>\n",
              "      <th>2</th>\n",
              "      <td>34310</td>\n",
              "      <td>25.0</td>\n",
              "      <td>2013</td>\n",
              "      <td>Lottery Club</td>\n",
              "      <td>686</td>\n",
              "      <td>World vision</td>\n",
              "      <td>37.460664</td>\n",
              "      <td>-3.821329</td>\n",
              "      <td>Kwa Mahundi</td>\n",
              "      <td>Pangani</td>\n",
              "      <td>...</td>\n",
              "      <td>soft</td>\n",
              "      <td>good</td>\n",
              "      <td>enough</td>\n",
              "      <td>enough</td>\n",
              "      <td>dam</td>\n",
              "      <td>dam</td>\n",
              "      <td>surface</td>\n",
              "      <td>communal standpipe multiple</td>\n",
              "      <td>communal standpipe</td>\n",
              "      <td>functional</td>\n",
              "    </tr>\n",
              "    <tr>\n",
              "      <th>3</th>\n",
              "      <td>67743</td>\n",
              "      <td>984.0</td>\n",
              "      <td>2013</td>\n",
              "      <td>Unicef</td>\n",
              "      <td>263</td>\n",
              "      <td>UNICEF</td>\n",
              "      <td>38.486161</td>\n",
              "      <td>-11.155298</td>\n",
              "      <td>Zahanati Ya Nanyumbu</td>\n",
              "      <td>Ruvuma / Southern Coast</td>\n",
              "      <td>...</td>\n",
              "      <td>soft</td>\n",
              "      <td>good</td>\n",
              "      <td>dry</td>\n",
              "      <td>dry</td>\n",
              "      <td>machine dbh</td>\n",
              "      <td>borehole</td>\n",
              "      <td>groundwater</td>\n",
              "      <td>communal standpipe multiple</td>\n",
              "      <td>communal standpipe</td>\n",
              "      <td>non functional</td>\n",
              "    </tr>\n",
              "    <tr>\n",
              "      <th>4</th>\n",
              "      <td>19728</td>\n",
              "      <td>984.0</td>\n",
              "      <td>2011</td>\n",
              "      <td>Action In A</td>\n",
              "      <td>0</td>\n",
              "      <td>Artisan</td>\n",
              "      <td>31.130847</td>\n",
              "      <td>-1.825359</td>\n",
              "      <td>Shuleni</td>\n",
              "      <td>Lake Victoria</td>\n",
              "      <td>...</td>\n",
              "      <td>soft</td>\n",
              "      <td>good</td>\n",
              "      <td>seasonal</td>\n",
              "      <td>seasonal</td>\n",
              "      <td>rainwater harvesting</td>\n",
              "      <td>rainwater harvesting</td>\n",
              "      <td>surface</td>\n",
              "      <td>communal standpipe</td>\n",
              "      <td>communal standpipe</td>\n",
              "      <td>functional</td>\n",
              "    </tr>\n",
              "  </tbody>\n",
              "</table>\n",
              "<p>5 rows × 39 columns</p>\n",
              "</div>\n",
              "      <button class=\"colab-df-convert\" onclick=\"convertToInteractive('df-d4ce85d4-f2e6-4700-9948-c7a03641a1d5')\"\n",
              "              title=\"Convert this dataframe to an interactive table.\"\n",
              "              style=\"display:none;\">\n",
              "        \n",
              "  <svg xmlns=\"http://www.w3.org/2000/svg\" height=\"24px\"viewBox=\"0 0 24 24\"\n",
              "       width=\"24px\">\n",
              "    <path d=\"M0 0h24v24H0V0z\" fill=\"none\"/>\n",
              "    <path d=\"M18.56 5.44l.94 2.06.94-2.06 2.06-.94-2.06-.94-.94-2.06-.94 2.06-2.06.94zm-11 1L8.5 8.5l.94-2.06 2.06-.94-2.06-.94L8.5 2.5l-.94 2.06-2.06.94zm10 10l.94 2.06.94-2.06 2.06-.94-2.06-.94-.94-2.06-.94 2.06-2.06.94z\"/><path d=\"M17.41 7.96l-1.37-1.37c-.4-.4-.92-.59-1.43-.59-.52 0-1.04.2-1.43.59L10.3 9.45l-7.72 7.72c-.78.78-.78 2.05 0 2.83L4 21.41c.39.39.9.59 1.41.59.51 0 1.02-.2 1.41-.59l7.78-7.78 2.81-2.81c.8-.78.8-2.07 0-2.86zM5.41 20L4 18.59l7.72-7.72 1.47 1.35L5.41 20z\"/>\n",
              "  </svg>\n",
              "      </button>\n",
              "      \n",
              "  <style>\n",
              "    .colab-df-container {\n",
              "      display:flex;\n",
              "      flex-wrap:wrap;\n",
              "      gap: 12px;\n",
              "    }\n",
              "\n",
              "    .colab-df-convert {\n",
              "      background-color: #E8F0FE;\n",
              "      border: none;\n",
              "      border-radius: 50%;\n",
              "      cursor: pointer;\n",
              "      display: none;\n",
              "      fill: #1967D2;\n",
              "      height: 32px;\n",
              "      padding: 0 0 0 0;\n",
              "      width: 32px;\n",
              "    }\n",
              "\n",
              "    .colab-df-convert:hover {\n",
              "      background-color: #E2EBFA;\n",
              "      box-shadow: 0px 1px 2px rgba(60, 64, 67, 0.3), 0px 1px 3px 1px rgba(60, 64, 67, 0.15);\n",
              "      fill: #174EA6;\n",
              "    }\n",
              "\n",
              "    [theme=dark] .colab-df-convert {\n",
              "      background-color: #3B4455;\n",
              "      fill: #D2E3FC;\n",
              "    }\n",
              "\n",
              "    [theme=dark] .colab-df-convert:hover {\n",
              "      background-color: #434B5C;\n",
              "      box-shadow: 0px 1px 3px 1px rgba(0, 0, 0, 0.15);\n",
              "      filter: drop-shadow(0px 1px 2px rgba(0, 0, 0, 0.3));\n",
              "      fill: #FFFFFF;\n",
              "    }\n",
              "  </style>\n",
              "\n",
              "      <script>\n",
              "        const buttonEl =\n",
              "          document.querySelector('#df-d4ce85d4-f2e6-4700-9948-c7a03641a1d5 button.colab-df-convert');\n",
              "        buttonEl.style.display =\n",
              "          google.colab.kernel.accessAllowed ? 'block' : 'none';\n",
              "\n",
              "        async function convertToInteractive(key) {\n",
              "          const element = document.querySelector('#df-d4ce85d4-f2e6-4700-9948-c7a03641a1d5');\n",
              "          const dataTable =\n",
              "            await google.colab.kernel.invokeFunction('convertToInteractive',\n",
              "                                                     [key], {});\n",
              "          if (!dataTable) return;\n",
              "\n",
              "          const docLinkHtml = 'Like what you see? Visit the ' +\n",
              "            '<a target=\"_blank\" href=https://colab.research.google.com/notebooks/data_table.ipynb>data table notebook</a>'\n",
              "            + ' to learn more about interactive tables.';\n",
              "          element.innerHTML = '';\n",
              "          dataTable['output_type'] = 'display_data';\n",
              "          await google.colab.output.renderOutput(dataTable, element);\n",
              "          const docLink = document.createElement('div');\n",
              "          docLink.innerHTML = docLinkHtml;\n",
              "          element.appendChild(docLink);\n",
              "        }\n",
              "      </script>\n",
              "    </div>\n",
              "  </div>\n",
              "  "
            ]
          },
          "metadata": {},
          "execution_count": 41
        }
      ],
      "source": [
        "data.head()"
      ]
    },
    {
      "cell_type": "markdown",
      "metadata": {
        "id": "4phP2fz5_5wM"
      },
      "source": [
        "##2.2- Encoding the Object Features and Labels"
      ]
    },
    {
      "cell_type": "markdown",
      "metadata": {
        "id": "3TXwJShexdt3"
      },
      "source": [
        "###2.2.1- Label Distribution\n",
        "Multiclass Classification Labels, need to encode them\n",
        "\n",
        "Reference: https://scikit-learn.org/stable/modules/generated/sklearn.preprocessing.LabelEncoder.html"
      ]
    },
    {
      "cell_type": "code",
      "execution_count": null,
      "metadata": {
        "colab": {
          "base_uri": "https://localhost:8080/",
          "height": 108
        },
        "id": "A7NqG4s-QxbN",
        "outputId": "71108b5f-09f5-4120-a618-708d6d16ece8"
      },
      "outputs": [
        {
          "output_type": "execute_result",
          "data": {
            "text/plain": [
              "<seaborn.axisgrid.FacetGrid at 0x7f3afa482970>"
            ]
          },
          "metadata": {},
          "execution_count": 42
        },
        {
          "output_type": "display_data",
          "data": {
            "text/plain": [
              "<Figure size 360x360 with 1 Axes>"
            ],
            "image/png": "[encoded data removed]"
          },
          "metadata": {
            "needs_background": "light"
          }
        }
      ],
      "source": [
        "sns.displot(data.status_group)"
      ]
    },
    {
      "cell_type": "code",
      "execution_count": null,
      "metadata": {
        "colab": {
          "base_uri": "https://localhost:8080/"
        },
        "id": "iXK5BvPAPPmI",
        "outputId": "d77c5536-32cd-438f-c6d2-f4ec9a9479ad"
      },
      "outputs": [
        {
          "output_type": "execute_result",
          "data": {
            "text/plain": [
              "functional                 32259\n",
              "non functional             22824\n",
              "functional needs repair     4317\n",
              "Name: status_group, dtype: int64"
            ]
          },
          "metadata": {},
          "execution_count": 43
        }
      ],
      "source": [
        "data.status_group.value_counts()\n"
      ]
    },
    {
      "cell_type": "code",
      "execution_count": null,
      "metadata": {
        "colab": {
          "base_uri": "https://localhost:8080/"
        },
        "id": "ggaknqhAPPq9",
        "outputId": "3dc469b6-245f-4ab9-f2a0-de019f6108b6"
      },
      "outputs": [
        {
          "output_type": "execute_result",
          "data": {
            "text/plain": [
              "functional                 0.543081\n",
              "non functional             0.384242\n",
              "functional needs repair    0.072677\n",
              "Name: status_group, dtype: float64"
            ]
          },
          "metadata": {},
          "execution_count": 44
        }
      ],
      "source": [
        "data.status_group.value_counts(normalize=True)"
      ]
    },
    {
      "cell_type": "code",
      "execution_count": null,
      "metadata": {
        "colab": {
          "base_uri": "https://localhost:8080/"
        },
        "id": "ptUWOX-cTKtb",
        "outputId": "87626b50-6d99-49aa-eefd-82fd1fba2fe9"
      },
      "outputs": [
        {
          "output_type": "execute_result",
          "data": {
            "text/plain": [
              "0    0\n",
              "1    0\n",
              "2    0\n",
              "3    2\n",
              "4    0\n",
              "Name: status_group, dtype: int64"
            ]
          },
          "metadata": {},
          "execution_count": 45
        }
      ],
      "source": [
        "label_encouder=LabelEncoder()\n",
        "data.status_group = label_encouder.fit_transform(data.status_group)\n",
        "data.status_group.head()"
      ]
    },
    {
      "cell_type": "code",
      "execution_count": null,
      "metadata": {
        "colab": {
          "base_uri": "https://localhost:8080/",
          "height": 108
        },
        "id": "MkWzJ4UPPPuN",
        "outputId": "567583e8-a4bb-4908-df07-fd04cedbf4f9"
      },
      "outputs": [
        {
          "output_type": "execute_result",
          "data": {
            "text/plain": [
              "<seaborn.axisgrid.FacetGrid at 0x7f3afa23d700>"
            ]
          },
          "metadata": {},
          "execution_count": 46
        },
        {
          "output_type": "display_data",
          "data": {
            "text/plain": [
              "<Figure size 360x360 with 1 Axes>"
            ],
            "image/png": "[encoded data removed]"
          },
          "metadata": {
            "needs_background": "light"
          }
        }
      ],
      "source": [
        "sns.displot(data.status_group)"
      ]
    },
    {
      "cell_type": "code",
      "execution_count": null,
      "metadata": {
        "id": "-1d5t-NXUWW5"
      },
      "outputs": [],
      "source": [
        "# data.info()"
      ]
    },
    {
      "cell_type": "markdown",
      "metadata": {
        "id": "XjPGpXn9Uo83"
      },
      "source": [
        "###2.2.2- Object features encoding\n",
        "* All the categorical features need to be encoded, used OrdinalEncoder\n",
        "\n",
        "References: \n",
        "\n",
        "https://scikit-learn.org/stable/modules/generated/sklearn.preprocessing.OrdinalEncoder.html\n",
        "\n",
        "https://datascience.stackexchange.com/questions/98137/separate-numerical-and-categorical-variables"
      ]
    },
    {
      "cell_type": "markdown",
      "metadata": {
        "id": "0kzfey_zVUPH"
      },
      "source": []
    },
    {
      "cell_type": "code",
      "execution_count": null,
      "metadata": {
        "id": "9kbpgalpUZAi"
      },
      "outputs": [],
      "source": [
        "ordinal_encoder = OrdinalEncoder()"
      ]
    },
    {
      "cell_type": "code",
      "source": [
        "# target_encoder = "
      ],
      "metadata": {
        "id": "GNWVVyRF3lt4"
      },
      "execution_count": null,
      "outputs": []
    },
    {
      "cell_type": "code",
      "execution_count": null,
      "metadata": {
        "colab": {
          "base_uri": "https://localhost:8080/"
        },
        "id": "ynBHa6FVaYQQ",
        "outputId": "2c32894e-e22c-45aa-c09b-29694a553fb6"
      },
      "outputs": [
        {
          "output_type": "execute_result",
          "data": {
            "text/plain": [
              "Index(['funder', 'installer', 'wpt_name', 'basin', 'subvillage', 'region',\n",
              "       'lga', 'ward', 'scheme_management', 'scheme_name', 'extraction_type',\n",
              "       'extraction_type_group', 'extraction_type_class', 'management',\n",
              "       'management_group', 'payment', 'payment_type', 'water_quality',\n",
              "       'quality_group', 'quantity', 'quantity_group', 'source', 'source_type',\n",
              "       'source_class', 'waterpoint_type', 'waterpoint_type_group'],\n",
              "      dtype='object')"
            ]
          },
          "metadata": {},
          "execution_count": 50
        }
      ],
      "source": [
        "df_categorical_features = data.select_dtypes(include='object')\n",
        "df_categorical_features.columns"
      ]
    },
    {
      "cell_type": "code",
      "execution_count": null,
      "metadata": {
        "id": "0QP5x866UZDN"
      },
      "outputs": [],
      "source": [
        "for i in df_categorical_features.columns:\n",
        "  data[i] = ordinal_encoder.fit_transform(data[i].values.reshape(-1,1))"
      ]
    },
    {
      "cell_type": "code",
      "execution_count": null,
      "metadata": {
        "id": "VlPaarlmajGc"
      },
      "outputs": [],
      "source": [
        "for i in df_categorical_features.columns:\n",
        "  test[i] = ordinal_encoder.fit_transform(test[i].values.reshape(-1,1))"
      ]
    },
    {
      "cell_type": "code",
      "execution_count": null,
      "metadata": {
        "colab": {
          "base_uri": "https://localhost:8080/",
          "height": 297
        },
        "id": "aIG3hEmyUZFm",
        "outputId": "1a296eca-b3af-4357-c5ce-149b3e62f95e"
      },
      "outputs": [
        {
          "output_type": "execute_result",
          "data": {
            "text/plain": [
              "      id  amount_tsh  date_recorded  funder  gps_height  installer  longitude  \\\n",
              "0  69572      6000.0           2011  1369.0        1390     1518.0  34.938093   \n",
              "1   8776       984.0           2013   469.0        1399      545.0  34.698766   \n",
              "2  34310        25.0           2013   825.0         686     2048.0  37.460664   \n",
              "3  67743       984.0           2013  1741.0         263     1852.0  38.486161   \n",
              "4  19728       984.0           2011    20.0           0      119.0  31.130847   \n",
              "\n",
              "    latitude  wpt_name  basin  ...  water_quality  quality_group  quantity  \\\n",
              "0  -9.856322   35529.0    1.0  ...            6.0            2.0       1.0   \n",
              "1  -2.147466   37195.0    4.0  ...            6.0            2.0       2.0   \n",
              "2  -3.821329   14572.0    5.0  ...            6.0            2.0       1.0   \n",
              "3 -11.155298   37285.0    7.0  ...            6.0            2.0       0.0   \n",
              "4  -1.825359   35529.0    4.0  ...            6.0            2.0       3.0   \n",
              "\n",
              "   quantity_group  source  source_type  source_class  waterpoint_type  \\\n",
              "0             1.0     8.0          6.0           0.0              1.0   \n",
              "1             2.0     5.0          3.0           1.0              1.0   \n",
              "2             1.0     0.0          1.0           1.0              2.0   \n",
              "3             0.0     3.0          0.0           0.0              2.0   \n",
              "4             3.0     5.0          3.0           1.0              1.0   \n",
              "\n",
              "   waterpoint_type_group  status_group  \n",
              "0                    1.0             0  \n",
              "1                    1.0             0  \n",
              "2                    1.0             0  \n",
              "3                    1.0             2  \n",
              "4                    1.0             0  \n",
              "\n",
              "[5 rows x 39 columns]"
            ],
            "text/html": [
              "\n",
              "  <div id=\"df-d55e5ec1-d668-4d8b-9450-3ae5a04b855e\">\n",
              "    <div class=\"colab-df-container\">\n",
              "      <div>\n",
              "<style scoped>\n",
              "    .dataframe tbody tr th:only-of-type {\n",
              "        vertical-align: middle;\n",
              "    }\n",
              "\n",
              "    .dataframe tbody tr th {\n",
              "        vertical-align: top;\n",
              "    }\n",
              "\n",
              "    .dataframe thead th {\n",
              "        text-align: right;\n",
              "    }\n",
              "</style>\n",
              "<table border=\"1\" class=\"dataframe\">\n",
              "  <thead>\n",
              "    <tr style=\"text-align: right;\">\n",
              "      <th></th>\n",
              "      <th>id</th>\n",
              "      <th>amount_tsh</th>\n",
              "      <th>date_recorded</th>\n",
              "      <th>funder</th>\n",
              "      <th>gps_height</th>\n",
              "      <th>installer</th>\n",
              "      <th>longitude</th>\n",
              "      <th>latitude</th>\n",
              "      <th>wpt_name</th>\n",
              "      <th>basin</th>\n",
              "      <th>...</th>\n",
              "      <th>water_quality</th>\n",
              "      <th>quality_group</th>\n",
              "      <th>quantity</th>\n",
              "      <th>quantity_group</th>\n",
              "      <th>source</th>\n",
              "      <th>source_type</th>\n",
              "      <th>source_class</th>\n",
              "      <th>waterpoint_type</th>\n",
              "      <th>waterpoint_type_group</th>\n",
              "      <th>status_group</th>\n",
              "    </tr>\n",
              "  </thead>\n",
              "  <tbody>\n",
              "    <tr>\n",
              "      <th>0</th>\n",
              "      <td>69572</td>\n",
              "      <td>6000.0</td>\n",
              "      <td>2011</td>\n",
              "      <td>1369.0</td>\n",
              "      <td>1390</td>\n",
              "      <td>1518.0</td>\n",
              "      <td>34.938093</td>\n",
              "      <td>-9.856322</td>\n",
              "      <td>35529.0</td>\n",
              "      <td>1.0</td>\n",
              "      <td>...</td>\n",
              "      <td>6.0</td>\n",
              "      <td>2.0</td>\n",
              "      <td>1.0</td>\n",
              "      <td>1.0</td>\n",
              "      <td>8.0</td>\n",
              "      <td>6.0</td>\n",
              "      <td>0.0</td>\n",
              "      <td>1.0</td>\n",
              "      <td>1.0</td>\n",
              "      <td>0</td>\n",
              "    </tr>\n",
              "    <tr>\n",
              "      <th>1</th>\n",
              "      <td>8776</td>\n",
              "      <td>984.0</td>\n",
              "      <td>2013</td>\n",
              "      <td>469.0</td>\n",
              "      <td>1399</td>\n",
              "      <td>545.0</td>\n",
              "      <td>34.698766</td>\n",
              "      <td>-2.147466</td>\n",
              "      <td>37195.0</td>\n",
              "      <td>4.0</td>\n",
              "      <td>...</td>\n",
              "      <td>6.0</td>\n",
              "      <td>2.0</td>\n",
              "      <td>2.0</td>\n",
              "      <td>2.0</td>\n",
              "      <td>5.0</td>\n",
              "      <td>3.0</td>\n",
              "      <td>1.0</td>\n",
              "      <td>1.0</td>\n",
              "      <td>1.0</td>\n",
              "      <td>0</td>\n",
              "    </tr>\n",
              "    <tr>\n",
              "      <th>2</th>\n",
              "      <td>34310</td>\n",
              "      <td>25.0</td>\n",
              "      <td>2013</td>\n",
              "      <td>825.0</td>\n",
              "      <td>686</td>\n",
              "      <td>2048.0</td>\n",
              "      <td>37.460664</td>\n",
              "      <td>-3.821329</td>\n",
              "      <td>14572.0</td>\n",
              "      <td>5.0</td>\n",
              "      <td>...</td>\n",
              "      <td>6.0</td>\n",
              "      <td>2.0</td>\n",
              "      <td>1.0</td>\n",
              "      <td>1.0</td>\n",
              "      <td>0.0</td>\n",
              "      <td>1.0</td>\n",
              "      <td>1.0</td>\n",
              "      <td>2.0</td>\n",
              "      <td>1.0</td>\n",
              "      <td>0</td>\n",
              "    </tr>\n",
              "    <tr>\n",
              "      <th>3</th>\n",
              "      <td>67743</td>\n",
              "      <td>984.0</td>\n",
              "      <td>2013</td>\n",
              "      <td>1741.0</td>\n",
              "      <td>263</td>\n",
              "      <td>1852.0</td>\n",
              "      <td>38.486161</td>\n",
              "      <td>-11.155298</td>\n",
              "      <td>37285.0</td>\n",
              "      <td>7.0</td>\n",
              "      <td>...</td>\n",
              "      <td>6.0</td>\n",
              "      <td>2.0</td>\n",
              "      <td>0.0</td>\n",
              "      <td>0.0</td>\n",
              "      <td>3.0</td>\n",
              "      <td>0.0</td>\n",
              "      <td>0.0</td>\n",
              "      <td>2.0</td>\n",
              "      <td>1.0</td>\n",
              "      <td>2</td>\n",
              "    </tr>\n",
              "    <tr>\n",
              "      <th>4</th>\n",
              "      <td>19728</td>\n",
              "      <td>984.0</td>\n",
              "      <td>2011</td>\n",
              "      <td>20.0</td>\n",
              "      <td>0</td>\n",
              "      <td>119.0</td>\n",
              "      <td>31.130847</td>\n",
              "      <td>-1.825359</td>\n",
              "      <td>35529.0</td>\n",
              "      <td>4.0</td>\n",
              "      <td>...</td>\n",
              "      <td>6.0</td>\n",
              "      <td>2.0</td>\n",
              "      <td>3.0</td>\n",
              "      <td>3.0</td>\n",
              "      <td>5.0</td>\n",
              "      <td>3.0</td>\n",
              "      <td>1.0</td>\n",
              "      <td>1.0</td>\n",
              "      <td>1.0</td>\n",
              "      <td>0</td>\n",
              "    </tr>\n",
              "  </tbody>\n",
              "</table>\n",
              "<p>5 rows × 39 columns</p>\n",
              "</div>\n",
              "      <button class=\"colab-df-convert\" onclick=\"convertToInteractive('df-d55e5ec1-d668-4d8b-9450-3ae5a04b855e')\"\n",
              "              title=\"Convert this dataframe to an interactive table.\"\n",
              "              style=\"display:none;\">\n",
              "        \n",
              "  <svg xmlns=\"http://www.w3.org/2000/svg\" height=\"24px\"viewBox=\"0 0 24 24\"\n",
              "       width=\"24px\">\n",
              "    <path d=\"M0 0h24v24H0V0z\" fill=\"none\"/>\n",
              "    <path d=\"M18.56 5.44l.94 2.06.94-2.06 2.06-.94-2.06-.94-.94-2.06-.94 2.06-2.06.94zm-11 1L8.5 8.5l.94-2.06 2.06-.94-2.06-.94L8.5 2.5l-.94 2.06-2.06.94zm10 10l.94 2.06.94-2.06 2.06-.94-2.06-.94-.94-2.06-.94 2.06-2.06.94z\"/><path d=\"M17.41 7.96l-1.37-1.37c-.4-.4-.92-.59-1.43-.59-.52 0-1.04.2-1.43.59L10.3 9.45l-7.72 7.72c-.78.78-.78 2.05 0 2.83L4 21.41c.39.39.9.59 1.41.59.51 0 1.02-.2 1.41-.59l7.78-7.78 2.81-2.81c.8-.78.8-2.07 0-2.86zM5.41 20L4 18.59l7.72-7.72 1.47 1.35L5.41 20z\"/>\n",
              "  </svg>\n",
              "      </button>\n",
              "      \n",
              "  <style>\n",
              "    .colab-df-container {\n",
              "      display:flex;\n",
              "      flex-wrap:wrap;\n",
              "      gap: 12px;\n",
              "    }\n",
              "\n",
              "    .colab-df-convert {\n",
              "      background-color: #E8F0FE;\n",
              "      border: none;\n",
              "      border-radius: 50%;\n",
              "      cursor: pointer;\n",
              "      display: none;\n",
              "      fill: #1967D2;\n",
              "      height: 32px;\n",
              "      padding: 0 0 0 0;\n",
              "      width: 32px;\n",
              "    }\n",
              "\n",
              "    .colab-df-convert:hover {\n",
              "      background-color: #E2EBFA;\n",
              "      box-shadow: 0px 1px 2px rgba(60, 64, 67, 0.3), 0px 1px 3px 1px rgba(60, 64, 67, 0.15);\n",
              "      fill: #174EA6;\n",
              "    }\n",
              "\n",
              "    [theme=dark] .colab-df-convert {\n",
              "      background-color: #3B4455;\n",
              "      fill: #D2E3FC;\n",
              "    }\n",
              "\n",
              "    [theme=dark] .colab-df-convert:hover {\n",
              "      background-color: #434B5C;\n",
              "      box-shadow: 0px 1px 3px 1px rgba(0, 0, 0, 0.15);\n",
              "      filter: drop-shadow(0px 1px 2px rgba(0, 0, 0, 0.3));\n",
              "      fill: #FFFFFF;\n",
              "    }\n",
              "  </style>\n",
              "\n",
              "      <script>\n",
              "        const buttonEl =\n",
              "          document.querySelector('#df-d55e5ec1-d668-4d8b-9450-3ae5a04b855e button.colab-df-convert');\n",
              "        buttonEl.style.display =\n",
              "          google.colab.kernel.accessAllowed ? 'block' : 'none';\n",
              "\n",
              "        async function convertToInteractive(key) {\n",
              "          const element = document.querySelector('#df-d55e5ec1-d668-4d8b-9450-3ae5a04b855e');\n",
              "          const dataTable =\n",
              "            await google.colab.kernel.invokeFunction('convertToInteractive',\n",
              "                                                     [key], {});\n",
              "          if (!dataTable) return;\n",
              "\n",
              "          const docLinkHtml = 'Like what you see? Visit the ' +\n",
              "            '<a target=\"_blank\" href=https://colab.research.google.com/notebooks/data_table.ipynb>data table notebook</a>'\n",
              "            + ' to learn more about interactive tables.';\n",
              "          element.innerHTML = '';\n",
              "          dataTable['output_type'] = 'display_data';\n",
              "          await google.colab.output.renderOutput(dataTable, element);\n",
              "          const docLink = document.createElement('div');\n",
              "          docLink.innerHTML = docLinkHtml;\n",
              "          element.appendChild(docLink);\n",
              "        }\n",
              "      </script>\n",
              "    </div>\n",
              "  </div>\n",
              "  "
            ]
          },
          "metadata": {},
          "execution_count": 53
        }
      ],
      "source": [
        "data.head()"
      ]
    },
    {
      "cell_type": "markdown",
      "metadata": {
        "id": "cGya-RYAygQN"
      },
      "source": [
        "Correlation Matrix"
      ]
    },
    {
      "cell_type": "code",
      "execution_count": null,
      "metadata": {
        "id": "4bkwUHxkUZIA"
      },
      "outputs": [],
      "source": [
        "# plt.figure(figsize=(10,8))\n",
        "# cmap=data.corr()\n",
        "# sns.heatmap(cmap)"
      ]
    },
    {
      "cell_type": "markdown",
      "metadata": {
        "id": "98M0osuPyoSP"
      },
      "source": [
        "#3- Train and Test Split"
      ]
    },
    {
      "cell_type": "code",
      "execution_count": null,
      "metadata": {
        "id": "9kyC3QaWUZKA"
      },
      "outputs": [],
      "source": [
        "X = data.drop(['id', 'status_group'],axis=1)\n",
        "Y = data.status_group\n",
        "x_test=test.drop('id',axis=1)"
      ]
    },
    {
      "cell_type": "code",
      "execution_count": null,
      "metadata": {
        "id": "cXSWqYzquZT7"
      },
      "outputs": [],
      "source": [
        "# data.head()"
      ]
    },
    {
      "cell_type": "code",
      "execution_count": null,
      "metadata": {
        "colab": {
          "base_uri": "https://localhost:8080/"
        },
        "id": "PjfZ4F-GUZMP",
        "outputId": "ae931b6b-469d-4263-cad1-13937948cc5c"
      },
      "outputs": [
        {
          "output_type": "execute_result",
          "data": {
            "text/plain": [
              "((53460, 37), (5940, 37), (53460,), (5940,))"
            ]
          },
          "metadata": {},
          "execution_count": 57
        }
      ],
      "source": [
        "x_train, x_valid, y_train, y_valid = train_test_split(X,Y, random_state = 0, test_size = 0.1, stratify = Y, shuffle=True)\n",
        "x_train.shape, x_valid.shape, y_train.shape, y_valid.shape"
      ]
    },
    {
      "cell_type": "markdown",
      "metadata": {
        "id": "WWa0pnD-yviO"
      },
      "source": [
        "###3.1- Transforming features\n",
        "\n",
        "The classes are imbalanced, used balanced parameter "
      ]
    },
    {
      "cell_type": "code",
      "execution_count": null,
      "metadata": {
        "id": "j18tg0GoUZOi"
      },
      "outputs": [],
      "source": [
        "scaler = StandardScaler().fit(x_train)\n",
        "x_train = scaler.transform(x_train)\n",
        "x_valid = scaler.transform(x_valid)\n",
        "# x_test = scaler.transform(x_test) # The final test set"
      ]
    },
    {
      "cell_type": "code",
      "execution_count": null,
      "metadata": {
        "colab": {
          "base_uri": "https://localhost:8080/"
        },
        "id": "VFRPt0rPUZQw",
        "outputId": "07742fc9-f7ac-4e21-e311-18c93858317a"
      },
      "outputs": [
        {
          "output_type": "execute_result",
          "data": {
            "text/plain": [
              "{0: 0.6137843144008542, 1: 4.586872586872587, 2: 0.8674909940609483}"
            ]
          },
          "metadata": {},
          "execution_count": 59
        }
      ],
      "source": [
        "class_weights = compute_class_weight(class_weight = \"balanced\", classes= np.unique(y_train), y=y_train)\n",
        "\n",
        "class_weights = dict(zip(np.unique(y_train),class_weights))\n",
        "class_weights \n",
        "\n",
        "# class_weights = dict(zip(np.unique(x_train), class_weight.compute_class_weight('balanced', np.unique(y_train), y_train)))"
      ]
    },
    {
      "cell_type": "code",
      "execution_count": null,
      "metadata": {
        "id": "BFtPV2tTrVHi"
      },
      "outputs": [],
      "source": [
        "# sns.displot(y_val)"
      ]
    },
    {
      "cell_type": "code",
      "execution_count": null,
      "metadata": {
        "colab": {
          "base_uri": "https://localhost:8080/"
        },
        "id": "qUcI1qMyrq2v",
        "outputId": "cc749a53-ef36-4203-ce47-cf5988e136d2"
      },
      "outputs": [
        {
          "output_type": "execute_result",
          "data": {
            "text/plain": [
              "0    3226\n",
              "2    2282\n",
              "1     432\n",
              "Name: status_group, dtype: int64"
            ]
          },
          "metadata": {},
          "execution_count": 61
        }
      ],
      "source": [
        "y_valid.value_counts()"
      ]
    },
    {
      "cell_type": "markdown",
      "metadata": {
        "id": "LFALZlqAv5RA"
      },
      "source": [
        "#4- Building Models"
      ]
    },
    {
      "cell_type": "markdown",
      "metadata": {
        "id": "HGUo-TlDgysv"
      },
      "source": [
        "##4.1- Logistic regression"
      ]
    },
    {
      "cell_type": "markdown",
      "metadata": {
        "id": "Qj6xbbRDzPEt"
      },
      "source": [
        "####Fit the Logistic regression model and Tune Hyperparameter"
      ]
    },
    {
      "cell_type": "code",
      "execution_count": null,
      "metadata": {
        "colab": {
          "base_uri": "https://localhost:8080/"
        },
        "id": "OYA1ES03g1co",
        "outputId": "46e5f927-e3a0-4c4e-a2bd-97266299a9ce"
      },
      "outputs": [
        {
          "output_type": "execute_result",
          "data": {
            "text/plain": [
              "SGDClassifier(class_weight='balanced', loss='log', n_jobs=-1,\n",
              "              penalty='elasticnet', random_state=42)"
            ]
          },
          "metadata": {},
          "execution_count": 62
        }
      ],
      "source": [
        "lr_sgd = SGDClassifier(\n",
        "    loss = 'log',\n",
        "    penalty = 'elasticnet',\n",
        "    n_jobs = -1,\n",
        "    random_state = 42,\n",
        "    class_weight = 'balanced'\n",
        ")\n",
        "\n",
        "lr_sgd.fit(x_train, y_train)"
      ]
    },
    {
      "cell_type": "markdown",
      "metadata": {
        "id": "DIox6DeszU8m"
      },
      "source": [
        "* Hyperparameter Tuning"
      ]
    },
    {
      "cell_type": "code",
      "execution_count": null,
      "metadata": {
        "colab": {
          "base_uri": "https://localhost:8080/"
        },
        "id": "LJXyxDFNhOgm",
        "outputId": "b3a9c8fd-b82e-462b-8ed2-84979454dab5"
      },
      "outputs": [
        {
          "output_type": "stream",
          "name": "stdout",
          "text": [
            "Fitting 3 folds for each of 5 candidates, totalling 15 fits\n"
          ]
        },
        {
          "output_type": "stream",
          "name": "stderr",
          "text": [
            "/usr/local/lib/python3.8/dist-packages/sklearn/model_selection/_search.py:969: UserWarning: One or more of the test scores are non-finite: [nan nan nan nan nan]\n",
            "  warnings.warn(\n",
            "/usr/local/lib/python3.8/dist-packages/sklearn/model_selection/_search.py:969: UserWarning: One or more of the train scores are non-finite: [nan nan nan nan nan]\n",
            "  warnings.warn(\n"
          ]
        },
        {
          "output_type": "execute_result",
          "data": {
            "text/plain": [
              "GridSearchCV(cv=3,\n",
              "             estimator=SGDClassifier(class_weight='balanced', loss='log',\n",
              "                                     n_jobs=-1, penalty='elasticnet',\n",
              "                                     random_state=42),\n",
              "             n_jobs=-1, param_grid={'alpha': [0.001, 0.01, 0.1, 1.0, 10]},\n",
              "             return_train_score=True, scoring='f1', verbose=5)"
            ]
          },
          "metadata": {},
          "execution_count": 63
        }
      ],
      "source": [
        "params = {\n",
        "    'alpha' : [0.001, 0.01, 0.1, 1.0, 10]\n",
        "}\n",
        "lr_hyperparam = GridSearchCV(lr_sgd, params, scoring='f1', cv=3, n_jobs = -1, verbose = 5, return_train_score = True)\n",
        "lr_hyperparam.fit(x_train, y_train)"
      ]
    },
    {
      "cell_type": "code",
      "execution_count": null,
      "metadata": {
        "colab": {
          "base_uri": "https://localhost:8080/"
        },
        "id": "qvNW48X_hl-y",
        "outputId": "a5e40f30-cfd8-4a4b-8265-9b828e80e9c4"
      },
      "outputs": [
        {
          "output_type": "execute_result",
          "data": {
            "text/plain": [
              "{'alpha': 0.001}"
            ]
          },
          "metadata": {},
          "execution_count": 64
        }
      ],
      "source": [
        "lr_hyperparam.best_params_"
      ]
    },
    {
      "cell_type": "code",
      "execution_count": null,
      "metadata": {
        "colab": {
          "base_uri": "https://localhost:8080/"
        },
        "id": "d2XzQ0LbhrtW",
        "outputId": "3d12da87-ff15-4ae8-dbaa-264ac4e675b9"
      },
      "outputs": [
        {
          "output_type": "execute_result",
          "data": {
            "text/plain": [
              "SGDClassifier(alpha=0.001, class_weight='balanced', loss='log', n_jobs=-1,\n",
              "              penalty='elasticnet', random_state=42)"
            ]
          },
          "metadata": {},
          "execution_count": 65
        }
      ],
      "source": [
        "lr_full = SGDClassifier(\n",
        "    alpha = 0.001,\n",
        "    loss = 'log',\n",
        "    penalty = 'elasticnet',\n",
        "    n_jobs = -1,\n",
        "    random_state = 42,\n",
        "    class_weight = 'balanced'\n",
        ")\n",
        "\n",
        "lr_full.fit(x_train, y_train)"
      ]
    },
    {
      "cell_type": "markdown",
      "metadata": {
        "id": "-1NQW0cbzbrI"
      },
      "source": [
        "####Perform Prediction and Display Results for Logistic regression\n",
        "\n",
        "\n"
      ]
    },
    {
      "cell_type": "code",
      "execution_count": null,
      "metadata": {
        "id": "BlCcmgf0vrHK"
      },
      "outputs": [],
      "source": [
        "lr_preds = lr_full.predict(x_valid)"
      ]
    },
    {
      "cell_type": "code",
      "execution_count": null,
      "metadata": {
        "colab": {
          "base_uri": "https://localhost:8080/",
          "height": 431
        },
        "id": "5Pxrb7UssyiD",
        "outputId": "78e20c59-abaf-48d1-97a2-5333a3516155"
      },
      "outputs": [
        {
          "output_type": "stream",
          "name": "stdout",
          "text": [
            "              precision    recall  f1-score   support\n",
            "\n",
            "           0       0.67      0.71      0.69      3226\n",
            "           1       0.25      0.25      0.25       432\n",
            "           2       0.62      0.57      0.59      2282\n",
            "\n",
            "    accuracy                           0.62      5940\n",
            "   macro avg       0.52      0.51      0.51      5940\n",
            "weighted avg       0.62      0.62      0.62      5940\n",
            "\n"
          ]
        },
        {
          "output_type": "display_data",
          "data": {
            "text/plain": [
              "<Figure size 576x360 with 2 Axes>"
            ],
            "image/png": "[encoded data removed]"
          },
          "metadata": {
            "needs_background": "light"
          }
        }
      ],
      "source": [
        "print(classification_report(y_valid, lr_preds))\n",
        "\n",
        "# Plot confusion matrix\n",
        "fig, ax = plt.subplots(figsize=(8, 5))\n",
        "cmp = ConfusionMatrixDisplay(\n",
        "    confusion_matrix(y_valid, lr_preds),\n",
        "    display_labels=[\"functional\", \"non_functional\", \"func_needs_repair\"],\n",
        ")\n",
        "\n",
        "cmp.plot(ax=ax)\n",
        "plt.show();"
      ]
    },
    {
      "cell_type": "code",
      "execution_count": null,
      "metadata": {
        "colab": {
          "base_uri": "https://localhost:8080/"
        },
        "id": "QBk-glgbjQ3x",
        "outputId": "8b0db7a8-9a75-49bb-cee5-1dad42db4cb3"
      },
      "outputs": [
        {
          "output_type": "stream",
          "name": "stdout",
          "text": [
            "+---------------------+--------------------+--------------------+--------------------+--------------------+\n",
            "|      Model Name     |      Accuracy      |      F1-Score      |     Precision      |       Recall       |\n",
            "+---------------------+--------------------+--------------------+--------------------+--------------------+\n",
            "| Logistic Regression | 0.6240740740740741 | 0.6226644342678842 | 0.6225008572743271 | 0.6240740740740741 |\n",
            "+---------------------+--------------------+--------------------+--------------------+--------------------+\n"
          ]
        }
      ],
      "source": [
        "lr_table = PrettyTable()\n",
        "lr_table.field_names = ['Model Name',\n",
        "                  'Accuracy',\n",
        "                  'F1-Score',\n",
        "                  'Precision',\n",
        "                  'Recall',\n",
        "                  # 'Log-loss'\n",
        "                 ]\n",
        "\n",
        "lr_table.add_row([\n",
        "    'Logistic Regression',\n",
        "    accuracy_score(y_true = y_valid, y_pred = lr_preds),\n",
        "    f1_score(y_true = y_valid, y_pred = lr_preds, average='weighted'),\n",
        "    precision_score(y_true = y_valid, y_pred = lr_preds, average='weighted'),\n",
        "    recall_score(y_true = y_valid, y_pred = lr_preds, average='weighted'),\n",
        "    # log_loss(y_true = y_valid, y_pred = lr_preds)\n",
        "])\n",
        "print(lr_table)"
      ]
    },
    {
      "cell_type": "markdown",
      "metadata": {
        "id": "5X7sRw8az7-2"
      },
      "source": [
        "####Feature Importances - Logistic Regression"
      ]
    },
    {
      "cell_type": "code",
      "execution_count": null,
      "metadata": {
        "colab": {
          "base_uri": "https://localhost:8080/",
          "height": 334
        },
        "id": "4URfAiAxz-MW",
        "outputId": "f8abbc21-b7ec-4d9f-cd44-d35f4acb0269"
      },
      "outputs": [
        {
          "output_type": "stream",
          "name": "stderr",
          "text": [
            "<ipython-input-9-98f99d594e09>:70: MatplotlibDeprecationWarning: \n",
            "The set_smart_bounds function was deprecated in Matplotlib 3.2 and will be removed two minor releases later.\n",
            "  ax.spines['left'].set_smart_bounds(True)\n",
            "<ipython-input-9-98f99d594e09>:71: MatplotlibDeprecationWarning: \n",
            "The set_smart_bounds function was deprecated in Matplotlib 3.2 and will be removed two minor releases later.\n",
            "  ax.spines['bottom'].set_smart_bounds(True)\n"
          ]
        },
        {
          "output_type": "display_data",
          "data": {
            "text/plain": [
              "<Figure size 720x504 with 1 Axes>"
            ],
            "image/png": "[encoded data removed]"
          },
          "metadata": {
            "needs_background": "light"
          }
        }
      ],
      "source": [
        "pretty_importances_plot(\n",
        "    np.abs(lr_full.coef_[0]), \n",
        "    [i for i in range(x_train.shape[1])],\n",
        "    xlabel = 'Importance',\n",
        "    ylabel = 'Feature',\n",
        "    horizontal_label = 'Feature importance in Logistic Regression'\n",
        ")"
      ]
    },
    {
      "cell_type": "markdown",
      "metadata": {
        "id": "8LO2gj2bv9x1"
      },
      "source": [
        "##4.4- ADABoostClassifier\n",
        "The training algorithm involves starting with one decision tree, finding those examples in the training dataset that were misclassified, and adding more weight to those examples. Another tree is trained on the same data, although now weighted by the misclassification errors. This process is repeated until a desired number of trees are added.\n",
        "\n",
        "https://machinelearningmastery.com/adaboost-ensemble-in-python/\n",
        "\n",
        "https://www.datacamp.com/tutorial/adaboost-classifier-python#adaboost-classifier\n",
        "\n",
        "https://towardsdatascience.com/the-ultimate-guide-to-adaboost-random-forests-and-xgboost-7f9327061c4f\n",
        "\n",
        "https://vitalflux.com/differences-between-random-forest-vs-adaboost/\n",
        "\n",
        "https://vitalflux.com/adaboost-algorithm-explained-with-python-example/#:~:text=Base%20estimators%20for%20Adaboost%20algorithm,in%20classifier%20with%20high%20variance.\n",
        "\n",
        "https://techfor-today.com/hyperparameter-tuning-of-adaboost/"
      ]
    },
    {
      "cell_type": "markdown",
      "metadata": {
        "id": "nHVQZafOZdj3"
      },
      "source": [
        "###4.4.1- Hyper Parameter Tuning for AdaBoosting - Sequential Approach"
      ]
    },
    {
      "cell_type": "markdown",
      "metadata": {
        "id": "0G5UXBF5ZxyU"
      },
      "source": [
        "####4.4.1.1- The optimum number of trees in Adaboost\n",
        "Create a function that will build various Ada boost models. And for the model, we will specify a different number of decision stumps starting from 50 to 1000."
      ]
    },
    {
      "cell_type": "code",
      "execution_count": null,
      "metadata": {
        "id": "dyK3uE10aDs9"
      },
      "outputs": [],
      "source": [
        "# fuction to create models\n",
        "def build_models():\n",
        "    \n",
        "#     dic of models\n",
        "    Ada_models = dict()\n",
        "    \n",
        "    # number of decision stumps\n",
        "    decision_stump= [10, 50, 100, 500]\n",
        "        \n",
        "#    using for loop to iterate though trees\n",
        "    for i in decision_stump:\n",
        "        \n",
        "#         building model with specified trees\n",
        "        models[str(i)] = AdaBoostClassifier(n_estimators=i, random_state=7)\n",
        "    return models"
      ]
    },
    {
      "cell_type": "markdown",
      "metadata": {
        "id": "NMert-LmaPv0"
      },
      "source": [
        "The next step is to build a function for the validation of the models. In this case, we will use the cross-validation method. Let us build the function which returns the accuracy score of the models."
      ]
    },
    {
      "cell_type": "code",
      "execution_count": null,
      "metadata": {
        "id": "lYleN8l5aRyG"
      },
      "outputs": [],
      "source": [
        "# function for the validation of model\n",
        "def evaluate_model(model, Input, Ouput):\n",
        "    \n",
        "    # defining the method of validation\n",
        "    cv = RepeatedStratifiedKFold(n_splits=10, n_repeats=3)\n",
        "    \n",
        "    \n",
        "    # validating the model based on the accurasy score\n",
        "    accuracy = cross_val_score(model, Input, Ouput, scoring='accuracy', cv=cv, n_jobs=-1, random_state=7)\n",
        "    \n",
        "#      accuracy score- hyperparameter tuning of Adaboost\n",
        "    return accuracy"
      ]
    },
    {
      "cell_type": "markdown",
      "metadata": {
        "id": "b2qd7HuPakbV"
      },
      "source": [
        "Now, we will call the above functions which will create the models and will evaluate them based on the accuracy score."
      ]
    },
    {
      "cell_type": "code",
      "execution_count": null,
      "metadata": {
        "colab": {
          "base_uri": "https://localhost:8080/"
        },
        "id": "caRR1lqoal0Q",
        "outputId": "f697b13c-fbe7-4d47-a6a0-8087745d592d"
      },
      "outputs": [
        {
          "name": "stdout",
          "output_type": "stream",
          "text": [
            "---->Stump tree (10)---Accuracy( 0.70557)\n",
            "---->Stump tree (50)---Accuracy( 0.72437)\n",
            "---->Stump tree (100)---Accuracy( 0.73070)\n",
            "---->Stump tree (500)---Accuracy( 0.74459)\n"
          ]
        }
      ],
      "source": [
        "# calling the build_models function\n",
        "models = {}\n",
        "models = build_models()\n",
        "\n",
        "# creating list\n",
        "results, names = list(), list()\n",
        "\n",
        "# using for loop to iterate thoug the models\n",
        "for name, model in models.items():\n",
        "    \n",
        "    # calling the validation function\n",
        "    scores = evaluate_model(model, x_train, y_train)\n",
        "    \n",
        "    \n",
        "    # appending the accuray socres in results\n",
        "    results.append(scores)\n",
        "    names.append(name)\n",
        "    \n",
        "    \n",
        "    # printing results of hyperparameter tuning of Adaboost\n",
        "    print('---->Stump tree (%s)---Accuracy( %.5f)' % (name, np.mean(scores)))"
      ]
    },
    {
      "cell_type": "code",
      "execution_count": null,
      "metadata": {
        "colab": {
          "base_uri": "https://localhost:8080/",
          "height": 265
        },
        "id": "sv3vRoUFdqtS",
        "outputId": "3e472a58-aa71-44be-9aa8-ad2d6c875549"
      },
      "outputs": [
        {
          "data": {
            "image/png": "[encoded data removed]",
            "text/plain": [
              "<Figure size 432x288 with 1 Axes>"
            ]
          },
          "metadata": {},
          "output_type": "display_data"
        }
      ],
      "source": [
        "# plotting box plot of the \n",
        "plt.boxplot(results, labels=names,showmeans=True)\n",
        "# showing the plot\n",
        "plt.show()"
      ]
    },
    {
      "cell_type": "markdown",
      "metadata": {
        "id": "0PrEwDoGdvDG"
      },
      "source": [
        "####4.4.1.2- Tunning the weak learner in Ada boost - max_depth\n",
        "A decision tree with one level is used as a weak learner by default in the Ada boost. We can increase the depth of the stump tree to get the optimum depth tree."
      ]
    },
    {
      "cell_type": "code",
      "execution_count": null,
      "metadata": {
        "id": "x4gcfXmoeAm2"
      },
      "outputs": [],
      "source": [
        "# building function for the model\n",
        "def build_models():\n",
        "    \n",
        "#     creating dic of models\n",
        "    models = dict()\n",
        "    \n",
        "#     specifying the depth of trees\n",
        "    for i in range(1,8):\n",
        "        \n",
        "        # model\n",
        "        base_model = DecisionTreeClassifier(max_depth=i, random_state=7)\n",
        "        \n",
        "        # creating dic of modles\n",
        "        models[str(i)] = AdaBoostClassifier(base_estimator=base_model, random_state=7)\n",
        "        \n",
        "#   returining the model -results of hyperparameter tuning of Adaboost\n",
        "    return models"
      ]
    },
    {
      "cell_type": "markdown",
      "metadata": {
        "id": "8esKfeY7eHEN"
      },
      "source": [
        "In this section, we will not again build the evaluation function, as we have already created in the above section. So, we can use it here as well."
      ]
    },
    {
      "cell_type": "code",
      "execution_count": null,
      "metadata": {
        "colab": {
          "base_uri": "https://localhost:8080/"
        },
        "id": "2MDdaWf0eLMa",
        "outputId": "6670362e-4fb3-49f1-aa35-246d1a5b7ba8"
      },
      "outputs": [
        {
          "name": "stdout",
          "output_type": "stream",
          "text": [
            "---->Stump tree (1)---Accuracy( 0.72301)\n",
            "---->Stump tree (2)---Accuracy( 0.73909)\n",
            "---->Stump tree (3)---Accuracy( 0.74643)\n",
            "---->Stump tree (4)---Accuracy( 0.74865)\n",
            "---->Stump tree (5)---Accuracy( 0.74395)\n",
            "---->Stump tree (6)---Accuracy( 0.73227)\n",
            "---->Stump tree (7)---Accuracy( 0.72250)\n"
          ]
        }
      ],
      "source": [
        "# calling the function\n",
        "models={}\n",
        "models = build_models()\n",
        "# creating lists \n",
        "results, names = list(), list()\n",
        "# iterating through the models\n",
        "for name, model in models.items():\n",
        "    \n",
        "    # calling the evalution function\n",
        "    accuracy = evaluate_model(model, x_train, y_train)\n",
        "    \n",
        "    # appending the results\n",
        "    results.append(accuracy)\n",
        "    names.append(name)\n",
        "    \n",
        "#     printing results of hyperparameter tuning of Adaboost\n",
        "    print('---->Stump tree (%s)---Accuracy( %.5f)' % (name, np.mean(accuracy)))"
      ]
    },
    {
      "cell_type": "code",
      "execution_count": null,
      "metadata": {
        "colab": {
          "base_uri": "https://localhost:8080/",
          "height": 265
        },
        "id": "f4TdFdHkeXQ8",
        "outputId": "dc9f629a-947a-433c-cf33-070e20ca2fd1"
      },
      "outputs": [
        {
          "data": {
            "image/png": "[encoded data removed]",
            "text/plain": [
              "<Figure size 432x288 with 1 Axes>"
            ]
          },
          "metadata": {},
          "output_type": "display_data"
        }
      ],
      "source": [
        "# plotting box plot of the \n",
        "plt.boxplot(results, labels=names,showmeans=True)\n",
        "# showing the plot\n",
        "plt.show()"
      ]
    },
    {
      "cell_type": "markdown",
      "metadata": {
        "id": "WDnm2uOzeZ4t"
      },
      "source": [
        "####4.4.1.3- Tuning learning rate in Ada boost\n",
        "Learning rate is simply the step size of each iteration. The default value of the learning rate in the Ada boost is 1. We will now use the hyperparameter tuning method to find the optimum learning rate for our model."
      ]
    },
    {
      "cell_type": "code",
      "execution_count": null,
      "metadata": {
        "id": "o_JeGBiveswK"
      },
      "outputs": [],
      "source": [
        "# building the models\n",
        "def build_models():\n",
        "    \n",
        "#     creating the model dic\n",
        "    models = dict()\n",
        "    \n",
        "    \n",
        "    # learning rate for various values\n",
        "    for i in np.arange(0.1, 2.1, 0.1):\n",
        "        key = '%.3f' % i\n",
        "        \n",
        "#         models in dic\n",
        "        models[key] = AdaBoostClassifier(learning_rate=i, random_state=7)\n",
        "    \n",
        "#     returning models -results of hyperparameter tuning of Adaboost\n",
        "    return models"
      ]
    },
    {
      "cell_type": "code",
      "execution_count": null,
      "metadata": {
        "colab": {
          "base_uri": "https://localhost:8080/"
        },
        "id": "Ds0uK71Eeu5p",
        "outputId": "d243e815-2286-450e-e850-b41a01574a9d"
      },
      "outputs": [
        {
          "name": "stdout",
          "output_type": "stream",
          "text": [
            "---->Stump tree (0.100)---Accuracy( 0.69991)\n",
            "---->Stump tree (0.200)---Accuracy( 0.70763)\n",
            "---->Stump tree (0.300)---Accuracy( 0.71405)\n",
            "---->Stump tree (0.400)---Accuracy( 0.71653)\n",
            "---->Stump tree (0.500)---Accuracy( 0.71975)\n",
            "---->Stump tree (0.600)---Accuracy( 0.72191)\n",
            "---->Stump tree (0.700)---Accuracy( 0.72185)\n",
            "---->Stump tree (0.800)---Accuracy( 0.72164)\n",
            "---->Stump tree (0.900)---Accuracy( 0.72358)\n",
            "---->Stump tree (1.000)---Accuracy( 0.72339)\n",
            "---->Stump tree (1.100)---Accuracy( 0.72530)\n",
            "---->Stump tree (1.200)---Accuracy( 0.72401)\n",
            "---->Stump tree (1.300)---Accuracy( 0.72042)\n",
            "---->Stump tree (1.400)---Accuracy( 0.72207)\n",
            "---->Stump tree (1.500)---Accuracy( 0.72088)\n",
            "---->Stump tree (1.600)---Accuracy( 0.71616)\n",
            "---->Stump tree (1.700)---Accuracy( 0.71467)\n",
            "---->Stump tree (1.800)---Accuracy( 0.70706)\n",
            "---->Stump tree (1.900)---Accuracy( 0.69547)\n",
            "---->Stump tree (2.000)---Accuracy( 0.51683)\n"
          ]
        }
      ],
      "source": [
        "# calling the function\n",
        "models={}\n",
        "models = build_models()\n",
        "# creating the list\n",
        "results, names = list(), list()\n",
        "# for loop to iterate through the models\n",
        "for name, model in models.items():\n",
        "    \n",
        "    \n",
        "    # calling the evaluting function\n",
        "    accuracy = evaluate_model(model, x_train, y_train)\n",
        "    \n",
        "#     storing the accurcy\n",
        "    results.append(accuracy)\n",
        "    names.append(name)\n",
        "    \n",
        "#     printing results of hyperparameter tuning of Adaboost\n",
        "    print('---->Stump tree (%s)---Accuracy( %.5f)' % (name, np.mean(accuracy)))"
      ]
    },
    {
      "cell_type": "code",
      "execution_count": null,
      "metadata": {
        "id": "zopvAYiGfBB_"
      },
      "outputs": [],
      "source": [
        "# fixing the size\n",
        "plt.figure(figsize=(10, 8))\n",
        "# plotting the values\n",
        "plt.boxplot(results, labels=names, showmeans=True)\n",
        "plt.show()"
      ]
    },
    {
      "cell_type": "markdown",
      "metadata": {
        "id": "80Gl7B_3gNkS"
      },
      "source": [
        "###4.4.2- Hyper Parameter Tuning for AdaBoosting - gridSearchCV Approach\n",
        "In the second aproach, we will use the GridSearchCV method to find the optimum values for the parameters of the Ada boost algorithm using the same dataset. GridSearchCV takes every possible value ( specified ones) and train the model on the different combination and returns the optimum values."
      ]
    },
    {
      "cell_type": "code",
      "execution_count": null,
      "metadata": {
        "colab": {
          "base_uri": "https://localhost:8080/",
          "height": 381
        },
        "id": "_IvT3QTjgi5h",
        "outputId": "7ffed8fd-9677-4dd5-a180-88d3c9612bd1"
      },
      "outputs": [
        {
          "ename": "KeyboardInterrupt",
          "evalue": "ignored",
          "output_type": "error",
          "traceback": [
            "\u001b[0;31m---------------------------------------------------------------------------\u001b[0m",
            "\u001b[0;31mKeyboardInterrupt\u001b[0m                         Traceback (most recent call last)",
            "\u001b[0;32m<ipython-input-151-c6bfad5335a2>\u001b[0m in \u001b[0;36m<module>\u001b[0;34m\u001b[0m\n\u001b[1;32m     12\u001b[0m \u001b[0mgrid_search\u001b[0m \u001b[0;34m=\u001b[0m \u001b[0mGridSearchCV\u001b[0m\u001b[0;34m(\u001b[0m\u001b[0mestimator\u001b[0m\u001b[0;34m=\u001b[0m\u001b[0mmodel\u001b[0m\u001b[0;34m,\u001b[0m \u001b[0mparam_grid\u001b[0m\u001b[0;34m=\u001b[0m\u001b[0mgrid\u001b[0m\u001b[0;34m,\u001b[0m \u001b[0mn_jobs\u001b[0m\u001b[0;34m=\u001b[0m\u001b[0;34m-\u001b[0m\u001b[0;36m1\u001b[0m\u001b[0;34m,\u001b[0m \u001b[0mcv\u001b[0m\u001b[0;34m=\u001b[0m\u001b[0mcv\u001b[0m\u001b[0;34m,\u001b[0m \u001b[0mscoring\u001b[0m\u001b[0;34m=\u001b[0m\u001b[0;34m'accuracy'\u001b[0m\u001b[0;34m)\u001b[0m\u001b[0;34m\u001b[0m\u001b[0;34m\u001b[0m\u001b[0m\n\u001b[1;32m     13\u001b[0m \u001b[0;31m# training the model on grid search for hyperparameter tuning of Adaboost\u001b[0m\u001b[0;34m\u001b[0m\u001b[0;34m\u001b[0m\u001b[0;34m\u001b[0m\u001b[0m\n\u001b[0;32m---> 14\u001b[0;31m \u001b[0mgrid_result\u001b[0m \u001b[0;34m=\u001b[0m \u001b[0mgrid_search\u001b[0m\u001b[0;34m.\u001b[0m\u001b[0mfit\u001b[0m\u001b[0;34m(\u001b[0m\u001b[0mx_train\u001b[0m\u001b[0;34m,\u001b[0m \u001b[0my_train\u001b[0m\u001b[0;34m)\u001b[0m\u001b[0;34m\u001b[0m\u001b[0;34m\u001b[0m\u001b[0m\n\u001b[0m\u001b[1;32m     15\u001b[0m \u001b[0;31m# finding the best results /hyperparameter tuning of Adaboost\u001b[0m\u001b[0;34m\u001b[0m\u001b[0;34m\u001b[0m\u001b[0;34m\u001b[0m\u001b[0m\n\u001b[1;32m     16\u001b[0m \u001b[0mprint\u001b[0m\u001b[0;34m(\u001b[0m\u001b[0;34m\"Best: %f using %s\"\u001b[0m \u001b[0;34m%\u001b[0m \u001b[0;34m(\u001b[0m\u001b[0mgrid_result\u001b[0m\u001b[0;34m.\u001b[0m\u001b[0mbest_score_\u001b[0m\u001b[0;34m,\u001b[0m \u001b[0mgrid_result\u001b[0m\u001b[0;34m.\u001b[0m\u001b[0mbest_params_\u001b[0m\u001b[0;34m)\u001b[0m\u001b[0;34m)\u001b[0m\u001b[0;34m\u001b[0m\u001b[0;34m\u001b[0m\u001b[0m\n",
            "\u001b[0;32m/usr/local/lib/python3.7/dist-packages/sklearn/model_selection/_search.py\u001b[0m in \u001b[0;36mfit\u001b[0;34m(self, X, y, groups, **fit_params)\u001b[0m\n\u001b[1;32m    889\u001b[0m                 \u001b[0;32mreturn\u001b[0m \u001b[0mresults\u001b[0m\u001b[0;34m\u001b[0m\u001b[0;34m\u001b[0m\u001b[0m\n\u001b[1;32m    890\u001b[0m \u001b[0;34m\u001b[0m\u001b[0m\n\u001b[0;32m--> 891\u001b[0;31m             \u001b[0mself\u001b[0m\u001b[0;34m.\u001b[0m\u001b[0m_run_search\u001b[0m\u001b[0;34m(\u001b[0m\u001b[0mevaluate_candidates\u001b[0m\u001b[0;34m)\u001b[0m\u001b[0;34m\u001b[0m\u001b[0;34m\u001b[0m\u001b[0m\n\u001b[0m\u001b[1;32m    892\u001b[0m \u001b[0;34m\u001b[0m\u001b[0m\n\u001b[1;32m    893\u001b[0m             \u001b[0;31m# multimetric is determined here because in the case of a callable\u001b[0m\u001b[0;34m\u001b[0m\u001b[0;34m\u001b[0m\u001b[0;34m\u001b[0m\u001b[0m\n",
            "\u001b[0;32m/usr/local/lib/python3.7/dist-packages/sklearn/model_selection/_search.py\u001b[0m in \u001b[0;36m_run_search\u001b[0;34m(self, evaluate_candidates)\u001b[0m\n\u001b[1;32m   1390\u001b[0m     \u001b[0;32mdef\u001b[0m \u001b[0m_run_search\u001b[0m\u001b[0;34m(\u001b[0m\u001b[0mself\u001b[0m\u001b[0;34m,\u001b[0m \u001b[0mevaluate_candidates\u001b[0m\u001b[0;34m)\u001b[0m\u001b[0;34m:\u001b[0m\u001b[0;34m\u001b[0m\u001b[0;34m\u001b[0m\u001b[0m\n\u001b[1;32m   1391\u001b[0m         \u001b[0;34m\"\"\"Search all candidates in param_grid\"\"\"\u001b[0m\u001b[0;34m\u001b[0m\u001b[0;34m\u001b[0m\u001b[0m\n\u001b[0;32m-> 1392\u001b[0;31m         \u001b[0mevaluate_candidates\u001b[0m\u001b[0;34m(\u001b[0m\u001b[0mParameterGrid\u001b[0m\u001b[0;34m(\u001b[0m\u001b[0mself\u001b[0m\u001b[0;34m.\u001b[0m\u001b[0mparam_grid\u001b[0m\u001b[0;34m)\u001b[0m\u001b[0;34m)\u001b[0m\u001b[0;34m\u001b[0m\u001b[0;34m\u001b[0m\u001b[0m\n\u001b[0m\u001b[1;32m   1393\u001b[0m \u001b[0;34m\u001b[0m\u001b[0m\n\u001b[1;32m   1394\u001b[0m \u001b[0;34m\u001b[0m\u001b[0m\n",
            "\u001b[0;32m/usr/local/lib/python3.7/dist-packages/sklearn/model_selection/_search.py\u001b[0m in \u001b[0;36mevaluate_candidates\u001b[0;34m(candidate_params, cv, more_results)\u001b[0m\n\u001b[1;32m    849\u001b[0m                     )\n\u001b[1;32m    850\u001b[0m                     for (cand_idx, parameters), (split_idx, (train, test)) in product(\n\u001b[0;32m--> 851\u001b[0;31m                         \u001b[0menumerate\u001b[0m\u001b[0;34m(\u001b[0m\u001b[0mcandidate_params\u001b[0m\u001b[0;34m)\u001b[0m\u001b[0;34m,\u001b[0m \u001b[0menumerate\u001b[0m\u001b[0;34m(\u001b[0m\u001b[0mcv\u001b[0m\u001b[0;34m.\u001b[0m\u001b[0msplit\u001b[0m\u001b[0;34m(\u001b[0m\u001b[0mX\u001b[0m\u001b[0;34m,\u001b[0m \u001b[0my\u001b[0m\u001b[0;34m,\u001b[0m \u001b[0mgroups\u001b[0m\u001b[0;34m)\u001b[0m\u001b[0;34m)\u001b[0m\u001b[0;34m\u001b[0m\u001b[0;34m\u001b[0m\u001b[0m\n\u001b[0m\u001b[1;32m    852\u001b[0m                     )\n\u001b[1;32m    853\u001b[0m                 )\n",
            "\u001b[0;32m/usr/local/lib/python3.7/dist-packages/joblib/parallel.py\u001b[0m in \u001b[0;36m__call__\u001b[0;34m(self, iterable)\u001b[0m\n\u001b[1;32m   1096\u001b[0m \u001b[0;34m\u001b[0m\u001b[0m\n\u001b[1;32m   1097\u001b[0m             \u001b[0;32mwith\u001b[0m \u001b[0mself\u001b[0m\u001b[0;34m.\u001b[0m\u001b[0m_backend\u001b[0m\u001b[0;34m.\u001b[0m\u001b[0mretrieval_context\u001b[0m\u001b[0;34m(\u001b[0m\u001b[0;34m)\u001b[0m\u001b[0;34m:\u001b[0m\u001b[0;34m\u001b[0m\u001b[0;34m\u001b[0m\u001b[0m\n\u001b[0;32m-> 1098\u001b[0;31m                 \u001b[0mself\u001b[0m\u001b[0;34m.\u001b[0m\u001b[0mretrieve\u001b[0m\u001b[0;34m(\u001b[0m\u001b[0;34m)\u001b[0m\u001b[0;34m\u001b[0m\u001b[0;34m\u001b[0m\u001b[0m\n\u001b[0m\u001b[1;32m   1099\u001b[0m             \u001b[0;31m# Make sure that we get a last message telling us we are done\u001b[0m\u001b[0;34m\u001b[0m\u001b[0;34m\u001b[0m\u001b[0;34m\u001b[0m\u001b[0m\n\u001b[1;32m   1100\u001b[0m             \u001b[0melapsed_time\u001b[0m \u001b[0;34m=\u001b[0m \u001b[0mtime\u001b[0m\u001b[0;34m.\u001b[0m\u001b[0mtime\u001b[0m\u001b[0;34m(\u001b[0m\u001b[0;34m)\u001b[0m \u001b[0;34m-\u001b[0m \u001b[0mself\u001b[0m\u001b[0;34m.\u001b[0m\u001b[0m_start_time\u001b[0m\u001b[0;34m\u001b[0m\u001b[0;34m\u001b[0m\u001b[0m\n",
            "\u001b[0;32m/usr/local/lib/python3.7/dist-packages/joblib/parallel.py\u001b[0m in \u001b[0;36mretrieve\u001b[0;34m(self)\u001b[0m\n\u001b[1;32m    973\u001b[0m             \u001b[0;32mtry\u001b[0m\u001b[0;34m:\u001b[0m\u001b[0;34m\u001b[0m\u001b[0;34m\u001b[0m\u001b[0m\n\u001b[1;32m    974\u001b[0m                 \u001b[0;32mif\u001b[0m \u001b[0mgetattr\u001b[0m\u001b[0;34m(\u001b[0m\u001b[0mself\u001b[0m\u001b[0;34m.\u001b[0m\u001b[0m_backend\u001b[0m\u001b[0;34m,\u001b[0m \u001b[0;34m'supports_timeout'\u001b[0m\u001b[0;34m,\u001b[0m \u001b[0;32mFalse\u001b[0m\u001b[0;34m)\u001b[0m\u001b[0;34m:\u001b[0m\u001b[0;34m\u001b[0m\u001b[0;34m\u001b[0m\u001b[0m\n\u001b[0;32m--> 975\u001b[0;31m                     \u001b[0mself\u001b[0m\u001b[0;34m.\u001b[0m\u001b[0m_output\u001b[0m\u001b[0;34m.\u001b[0m\u001b[0mextend\u001b[0m\u001b[0;34m(\u001b[0m\u001b[0mjob\u001b[0m\u001b[0;34m.\u001b[0m\u001b[0mget\u001b[0m\u001b[0;34m(\u001b[0m\u001b[0mtimeout\u001b[0m\u001b[0;34m=\u001b[0m\u001b[0mself\u001b[0m\u001b[0;34m.\u001b[0m\u001b[0mtimeout\u001b[0m\u001b[0;34m)\u001b[0m\u001b[0;34m)\u001b[0m\u001b[0;34m\u001b[0m\u001b[0;34m\u001b[0m\u001b[0m\n\u001b[0m\u001b[1;32m    976\u001b[0m                 \u001b[0;32melse\u001b[0m\u001b[0;34m:\u001b[0m\u001b[0;34m\u001b[0m\u001b[0;34m\u001b[0m\u001b[0m\n\u001b[1;32m    977\u001b[0m                     \u001b[0mself\u001b[0m\u001b[0;34m.\u001b[0m\u001b[0m_output\u001b[0m\u001b[0;34m.\u001b[0m\u001b[0mextend\u001b[0m\u001b[0;34m(\u001b[0m\u001b[0mjob\u001b[0m\u001b[0;34m.\u001b[0m\u001b[0mget\u001b[0m\u001b[0;34m(\u001b[0m\u001b[0;34m)\u001b[0m\u001b[0;34m)\u001b[0m\u001b[0;34m\u001b[0m\u001b[0;34m\u001b[0m\u001b[0m\n",
            "\u001b[0;32m/usr/local/lib/python3.7/dist-packages/joblib/_parallel_backends.py\u001b[0m in \u001b[0;36mwrap_future_result\u001b[0;34m(future, timeout)\u001b[0m\n\u001b[1;32m    565\u001b[0m         AsyncResults.get from multiprocessing.\"\"\"\n\u001b[1;32m    566\u001b[0m         \u001b[0;32mtry\u001b[0m\u001b[0;34m:\u001b[0m\u001b[0;34m\u001b[0m\u001b[0;34m\u001b[0m\u001b[0m\n\u001b[0;32m--> 567\u001b[0;31m             \u001b[0;32mreturn\u001b[0m \u001b[0mfuture\u001b[0m\u001b[0;34m.\u001b[0m\u001b[0mresult\u001b[0m\u001b[0;34m(\u001b[0m\u001b[0mtimeout\u001b[0m\u001b[0;34m=\u001b[0m\u001b[0mtimeout\u001b[0m\u001b[0;34m)\u001b[0m\u001b[0;34m\u001b[0m\u001b[0;34m\u001b[0m\u001b[0m\n\u001b[0m\u001b[1;32m    568\u001b[0m         \u001b[0;32mexcept\u001b[0m \u001b[0mCfTimeoutError\u001b[0m \u001b[0;32mas\u001b[0m \u001b[0me\u001b[0m\u001b[0;34m:\u001b[0m\u001b[0;34m\u001b[0m\u001b[0;34m\u001b[0m\u001b[0m\n\u001b[1;32m    569\u001b[0m             \u001b[0;32mraise\u001b[0m \u001b[0mTimeoutError\u001b[0m \u001b[0;32mfrom\u001b[0m \u001b[0me\u001b[0m\u001b[0;34m\u001b[0m\u001b[0;34m\u001b[0m\u001b[0m\n",
            "\u001b[0;32m/usr/lib/python3.7/concurrent/futures/_base.py\u001b[0m in \u001b[0;36mresult\u001b[0;34m(self, timeout)\u001b[0m\n\u001b[1;32m    428\u001b[0m                 \u001b[0;32mreturn\u001b[0m \u001b[0mself\u001b[0m\u001b[0;34m.\u001b[0m\u001b[0m__get_result\u001b[0m\u001b[0;34m(\u001b[0m\u001b[0;34m)\u001b[0m\u001b[0;34m\u001b[0m\u001b[0;34m\u001b[0m\u001b[0m\n\u001b[1;32m    429\u001b[0m \u001b[0;34m\u001b[0m\u001b[0m\n\u001b[0;32m--> 430\u001b[0;31m             \u001b[0mself\u001b[0m\u001b[0;34m.\u001b[0m\u001b[0m_condition\u001b[0m\u001b[0;34m.\u001b[0m\u001b[0mwait\u001b[0m\u001b[0;34m(\u001b[0m\u001b[0mtimeout\u001b[0m\u001b[0;34m)\u001b[0m\u001b[0;34m\u001b[0m\u001b[0;34m\u001b[0m\u001b[0m\n\u001b[0m\u001b[1;32m    431\u001b[0m \u001b[0;34m\u001b[0m\u001b[0m\n\u001b[1;32m    432\u001b[0m             \u001b[0;32mif\u001b[0m \u001b[0mself\u001b[0m\u001b[0;34m.\u001b[0m\u001b[0m_state\u001b[0m \u001b[0;32min\u001b[0m \u001b[0;34m[\u001b[0m\u001b[0mCANCELLED\u001b[0m\u001b[0;34m,\u001b[0m \u001b[0mCANCELLED_AND_NOTIFIED\u001b[0m\u001b[0;34m]\u001b[0m\u001b[0;34m:\u001b[0m\u001b[0;34m\u001b[0m\u001b[0;34m\u001b[0m\u001b[0m\n",
            "\u001b[0;32m/usr/lib/python3.7/threading.py\u001b[0m in \u001b[0;36mwait\u001b[0;34m(self, timeout)\u001b[0m\n\u001b[1;32m    294\u001b[0m         \u001b[0;32mtry\u001b[0m\u001b[0;34m:\u001b[0m    \u001b[0;31m# restore state no matter what (e.g., KeyboardInterrupt)\u001b[0m\u001b[0;34m\u001b[0m\u001b[0;34m\u001b[0m\u001b[0m\n\u001b[1;32m    295\u001b[0m             \u001b[0;32mif\u001b[0m \u001b[0mtimeout\u001b[0m \u001b[0;32mis\u001b[0m \u001b[0;32mNone\u001b[0m\u001b[0;34m:\u001b[0m\u001b[0;34m\u001b[0m\u001b[0;34m\u001b[0m\u001b[0m\n\u001b[0;32m--> 296\u001b[0;31m                 \u001b[0mwaiter\u001b[0m\u001b[0;34m.\u001b[0m\u001b[0macquire\u001b[0m\u001b[0;34m(\u001b[0m\u001b[0;34m)\u001b[0m\u001b[0;34m\u001b[0m\u001b[0;34m\u001b[0m\u001b[0m\n\u001b[0m\u001b[1;32m    297\u001b[0m                 \u001b[0mgotit\u001b[0m \u001b[0;34m=\u001b[0m \u001b[0;32mTrue\u001b[0m\u001b[0;34m\u001b[0m\u001b[0;34m\u001b[0m\u001b[0m\n\u001b[1;32m    298\u001b[0m             \u001b[0;32melse\u001b[0m\u001b[0;34m:\u001b[0m\u001b[0;34m\u001b[0m\u001b[0;34m\u001b[0m\u001b[0m\n",
            "\u001b[0;31mKeyboardInterrupt\u001b[0m: "
          ]
        }
      ],
      "source": [
        "# defining the classifier\n",
        "model = AdaBoostClassifier()\n",
        "# creating a dic for the grid\n",
        "grid = dict()\n",
        "# estimator till 500\n",
        "grid['n_estimators'] = [100, 200, 500]\n",
        "# defining learning rate\n",
        "grid['learning_rate'] = [1.0, 1.1, 1.2]\n",
        "# defining the CV\n",
        "cv = RepeatedStratifiedKFold(n_splits=10, n_repeats=3, random_state=7)\n",
        "# initializing the grid search\n",
        "grid_search = GridSearchCV(estimator=model, param_grid=grid, n_jobs=-1, cv=cv, scoring='accuracy')\n",
        "# training the model on grid search for hyperparameter tuning of Adaboost\n",
        "grid_result = grid_search.fit(x_train, y_train)\n",
        "# finding the best results /hyperparameter tuning of Adaboost\n",
        "print(\"Best: %f using %s\" % (grid_result.best_score_, grid_result.best_params_))"
      ]
    },
    {
      "cell_type": "markdown",
      "metadata": {
        "id": "tDEm8BPBg8hT"
      },
      "source": [
        "###4.4.3- Fitting the Optimum Model"
      ]
    },
    {
      "cell_type": "code",
      "execution_count": null,
      "metadata": {
        "id": "gDklG78UF07I"
      },
      "outputs": [],
      "source": [
        "dtree = DecisionTreeClassifier(criterion = 'entropy', max_depth=1, random_state=7)"
      ]
    },
    {
      "cell_type": "code",
      "execution_count": null,
      "metadata": {
        "id": "0o2cOwXRw8gk"
      },
      "outputs": [],
      "source": [
        "AdaBoost_clf = AdaBoostClassifier(base_estimator=dtree,\n",
        "                                  n_estimators= 500,\n",
        "                                  learning_rate=1,\n",
        "                                  algorithm='SAMME.R',\n",
        "                                  random_state=7)"
      ]
    },
    {
      "cell_type": "code",
      "execution_count": null,
      "metadata": {
        "id": "qpcXLQ4E47yP"
      },
      "outputs": [],
      "source": [
        "AdaBoost_model = AdaBoost_clf.fit(x_train, y_train)"
      ]
    },
    {
      "cell_type": "code",
      "execution_count": null,
      "metadata": {
        "id": "CKZBe2UnxDM8"
      },
      "outputs": [],
      "source": [
        "cv = RepeatedStratifiedKFold(n_splits=10, n_repeats=3, random_state=7)"
      ]
    },
    {
      "cell_type": "code",
      "execution_count": null,
      "metadata": {
        "id": "uOFBlkYBxJGF"
      },
      "outputs": [],
      "source": [
        "n_scores = cross_val_score(AdaBoost_model, x_train, y_train, scoring='accuracy', cv=cv, n_jobs=-1, error_score='raise')"
      ]
    },
    {
      "cell_type": "code",
      "execution_count": null,
      "metadata": {
        "colab": {
          "base_uri": "https://localhost:8080/"
        },
        "id": "bZKFCG5OBMXy",
        "outputId": "b084360a-478d-45a3-8329-ed69a83b7bb8"
      },
      "outputs": [
        {
          "output_type": "stream",
          "name": "stdout",
          "text": [
            "Accuracy: 0.745 (0.005)\n"
          ]
        }
      ],
      "source": [
        "print('Accuracy: %.3f (%.3f)' % (np.mean(n_scores), np.std(n_scores)))"
      ]
    },
    {
      "cell_type": "code",
      "execution_count": null,
      "metadata": {
        "id": "xIToMPhj4MM2"
      },
      "outputs": [],
      "source": [
        "AdaBoost_pred = AdaBoost_model.predict(x_valid)"
      ]
    },
    {
      "cell_type": "code",
      "execution_count": null,
      "metadata": {
        "colab": {
          "base_uri": "https://localhost:8080/",
          "height": 509
        },
        "id": "AgVgcqL77d-e",
        "outputId": "69c46227-f549-4de7-c488-2718e9a496f4"
      },
      "outputs": [
        {
          "name": "stdout",
          "output_type": "stream",
          "text": [
            "              precision    recall  f1-score   support\n",
            "\n",
            "           0       0.72      0.89      0.80      3226\n",
            "           1       0.44      0.08      0.14       432\n",
            "           2       0.78      0.63      0.70      2282\n",
            "\n",
            "    accuracy                           0.73      5940\n",
            "   macro avg       0.65      0.54      0.55      5940\n",
            "weighted avg       0.72      0.73      0.71      5940\n",
            "\n"
          ]
        },
        {
          "data": {
            "image/png": "[encoded data removed]",
            "text/plain": [
              "<Figure size 576x360 with 2 Axes>"
            ]
          },
          "metadata": {},
          "output_type": "display_data"
        }
      ],
      "source": [
        "print(classification_report(y_valid, AdaBoost_pred))\n",
        "\n",
        "# Plot confusion matrix\n",
        "fig, ax = plt.subplots(figsize=(8, 5))\n",
        "cmp = ConfusionMatrixDisplay(\n",
        "    confusion_matrix(y_valid, AdaBoost_pred),\n",
        "    display_labels=[\"functional\", \"non_functional\", \"func_needs_repair\"],\n",
        ")\n",
        "\n",
        "cmp.plot(ax=ax)\n",
        "plt.show();"
      ]
    },
    {
      "cell_type": "code",
      "execution_count": null,
      "metadata": {
        "id": "otxOvojirq5O"
      },
      "outputs": [],
      "source": [
        "model = AdaBoostClassifier(base_estimator = RandomForestClassifier(n_estimators = 2000, random_state = 1, class_weight = class_weights)).fit(x_train,y_train)"
      ]
    },
    {
      "cell_type": "markdown",
      "metadata": {
        "id": "6agnfjPm7qYq"
      },
      "source": []
    },
    {
      "cell_type": "markdown",
      "source": [
        "##4.3- Gradient Boosting\n",
        "Gradient Tree Boosting, Stochastic Gradient Boosting, and GBM are other names for the Gradient Boosting Algorithm. It creates a sequence of weak models ( usually decision trees) and comes up with a final strong learner. Each prediction in gradient boosting aims to outperform the one before it by lowering the errors. Gradient Boosting’s key principle is that it fits a new predictor to the residual errors created by the preceding predictor rather than fitting a prediction to the data at each iteration.\n",
        "\n",
        "https://techfor-today.com/gradient-boosting-algorithm-using-python/\n",
        "\n"
      ],
      "metadata": {
        "id": "G2YcGXo-IoPi"
      }
    },
    {
      "cell_type": "markdown",
      "source": [
        "###4.3.1- Hyper Parameter Tuning for Gradient Boosting\n",
        "\n",
        "GradientBoostingClassifier(*, loss: str = \"deviance\", learning_rate: float = 0.1, n_estimators: int = 100, subsample: float = 1, criterion: str = \"friedman_mse\", min_samples_split: int = 2, min_samples_leaf: int = 1, min_weight_fraction_leaf: float = 0, max_depth: int = 3, min_impurity_decrease: float = 0, init: Any | None = None, random_state: Any | None = None, max_features: Any | None = None, verbose: int = 0, max_leaf_nodes: Any | None = None, warm_start: bool = False, validation_fraction: float = 0.1, n_iter_no_change: Any | None = None, tol: float = 0.0001, ccp_alpha: float = 0)"
      ],
      "metadata": {
        "id": "I16GoICQJHJX"
      }
    },
    {
      "cell_type": "markdown",
      "source": [
        "####4.3.1.1- Finding the optimum number of trees in Gradient boosting"
      ],
      "metadata": {
        "id": "v51bHWuLJYn0"
      }
    },
    {
      "cell_type": "code",
      "source": [
        "# fuction to create models\n",
        "def build_models():\n",
        "    \n",
        "#     dic of models\n",
        "    GB_models = dict()\n",
        "    \n",
        "    # number of decision stumps\n",
        "    decision_stump= [150, 200, 250, 300]\n",
        "        \n",
        "#    using for loop to iterate though trees\n",
        "    for i in decision_stump:\n",
        "        \n",
        "#         building model with specified trees\n",
        "        GB_models[str(i)] = GradientBoostingClassifier(n_estimators=i)\n",
        "    \n",
        "#     returning the model\n",
        "    return GB_models"
      ],
      "metadata": {
        "id": "UyhCJrdPJW_y"
      },
      "execution_count": null,
      "outputs": []
    },
    {
      "cell_type": "code",
      "source": [
        "# function for the validation of model\n",
        "def evaluate_model(model, Input, Ouput):\n",
        "    \n",
        "    # defining the method of validation\n",
        "    cv = RepeatedStratifiedKFold(n_splits=10, n_repeats=3)\n",
        "    \n",
        "    \n",
        "    # validating the model based on the accurasy score\n",
        "    accuracy = cross_val_score(model, Input, Ouput, scoring='accuracy', cv=cv, n_jobs=-1)\n",
        "    \n",
        "#     returning the accuracy score\n",
        "    return accuracy"
      ],
      "metadata": {
        "id": "6y3HPELnKIJh"
      },
      "execution_count": null,
      "outputs": []
    },
    {
      "cell_type": "code",
      "source": [
        "# calling the build_models function\n",
        "models = {}\n",
        "models = build_models()\n",
        "# creating list\n",
        "results, names = list(), list()\n",
        "# using for loop to iterate thoug the models\n",
        "for name, model in models.items():\n",
        "    \n",
        "    # calling the validation function\n",
        "    scores = evaluate_model(model, x_train, y_train)\n",
        "    \n",
        "    \n",
        "    # appending the accuray socres in results\n",
        "    results.append(scores)\n",
        "    names.append(name)\n",
        "    \n",
        "    \n",
        "    # printing - Gradient boosting algorithm using Python\n",
        "    print('---->Iterations (%s)---Accuracy( %.5f)' % (name, np.mean(scores)))"
      ],
      "metadata": {
        "id": "2NviX8b4KMqE",
        "colab": {
          "base_uri": "https://localhost:8080/",
          "height": 398
        },
        "outputId": "2ac8cf4a-95c7-43e7-a85b-638b13f42bad"
      },
      "execution_count": null,
      "outputs": [
        {
          "output_type": "stream",
          "name": "stdout",
          "text": [
            "---->Iterations (150)---Accuracy( 0.76208)\n"
          ]
        },
        {
          "output_type": "error",
          "ename": "KeyboardInterrupt",
          "evalue": "ignored",
          "traceback": [
            "\u001b[0;31m---------------------------------------------------------------------------\u001b[0m",
            "\u001b[0;31mKeyboardInterrupt\u001b[0m                         Traceback (most recent call last)",
            "\u001b[0;32m<ipython-input-178-f649fb8d0a59>\u001b[0m in \u001b[0;36m<module>\u001b[0;34m\u001b[0m\n\u001b[1;32m      8\u001b[0m \u001b[0;34m\u001b[0m\u001b[0m\n\u001b[1;32m      9\u001b[0m     \u001b[0;31m# calling the validation function\u001b[0m\u001b[0;34m\u001b[0m\u001b[0;34m\u001b[0m\u001b[0;34m\u001b[0m\u001b[0m\n\u001b[0;32m---> 10\u001b[0;31m     \u001b[0mscores\u001b[0m \u001b[0;34m=\u001b[0m \u001b[0mevaluate_model\u001b[0m\u001b[0;34m(\u001b[0m\u001b[0mmodel\u001b[0m\u001b[0;34m,\u001b[0m \u001b[0mx_train\u001b[0m\u001b[0;34m,\u001b[0m \u001b[0my_train\u001b[0m\u001b[0;34m)\u001b[0m\u001b[0;34m\u001b[0m\u001b[0;34m\u001b[0m\u001b[0m\n\u001b[0m\u001b[1;32m     11\u001b[0m \u001b[0;34m\u001b[0m\u001b[0m\n\u001b[1;32m     12\u001b[0m \u001b[0;34m\u001b[0m\u001b[0m\n",
            "\u001b[0;32m<ipython-input-177-80aac58ea641>\u001b[0m in \u001b[0;36mevaluate_model\u001b[0;34m(model, Input, Ouput)\u001b[0m\n\u001b[1;32m      7\u001b[0m \u001b[0;34m\u001b[0m\u001b[0m\n\u001b[1;32m      8\u001b[0m     \u001b[0;31m# validating the model based on the accurasy score\u001b[0m\u001b[0;34m\u001b[0m\u001b[0;34m\u001b[0m\u001b[0;34m\u001b[0m\u001b[0m\n\u001b[0;32m----> 9\u001b[0;31m     \u001b[0maccuracy\u001b[0m \u001b[0;34m=\u001b[0m \u001b[0mcross_val_score\u001b[0m\u001b[0;34m(\u001b[0m\u001b[0mmodel\u001b[0m\u001b[0;34m,\u001b[0m \u001b[0mInput\u001b[0m\u001b[0;34m,\u001b[0m \u001b[0mOuput\u001b[0m\u001b[0;34m,\u001b[0m \u001b[0mscoring\u001b[0m\u001b[0;34m=\u001b[0m\u001b[0;34m'accuracy'\u001b[0m\u001b[0;34m,\u001b[0m \u001b[0mcv\u001b[0m\u001b[0;34m=\u001b[0m\u001b[0mcv\u001b[0m\u001b[0;34m,\u001b[0m \u001b[0mn_jobs\u001b[0m\u001b[0;34m=\u001b[0m\u001b[0;34m-\u001b[0m\u001b[0;36m1\u001b[0m\u001b[0;34m)\u001b[0m\u001b[0;34m\u001b[0m\u001b[0;34m\u001b[0m\u001b[0m\n\u001b[0m\u001b[1;32m     10\u001b[0m \u001b[0;34m\u001b[0m\u001b[0m\n\u001b[1;32m     11\u001b[0m \u001b[0;31m#     returning the accuracy score\u001b[0m\u001b[0;34m\u001b[0m\u001b[0;34m\u001b[0m\u001b[0;34m\u001b[0m\u001b[0m\n",
            "\u001b[0;32m/usr/local/lib/python3.7/dist-packages/sklearn/model_selection/_validation.py\u001b[0m in \u001b[0;36mcross_val_score\u001b[0;34m(estimator, X, y, groups, scoring, cv, n_jobs, verbose, fit_params, pre_dispatch, error_score)\u001b[0m\n\u001b[1;32m    518\u001b[0m         \u001b[0mfit_params\u001b[0m\u001b[0;34m=\u001b[0m\u001b[0mfit_params\u001b[0m\u001b[0;34m,\u001b[0m\u001b[0;34m\u001b[0m\u001b[0;34m\u001b[0m\u001b[0m\n\u001b[1;32m    519\u001b[0m         \u001b[0mpre_dispatch\u001b[0m\u001b[0;34m=\u001b[0m\u001b[0mpre_dispatch\u001b[0m\u001b[0;34m,\u001b[0m\u001b[0;34m\u001b[0m\u001b[0;34m\u001b[0m\u001b[0m\n\u001b[0;32m--> 520\u001b[0;31m         \u001b[0merror_score\u001b[0m\u001b[0;34m=\u001b[0m\u001b[0merror_score\u001b[0m\u001b[0;34m,\u001b[0m\u001b[0;34m\u001b[0m\u001b[0;34m\u001b[0m\u001b[0m\n\u001b[0m\u001b[1;32m    521\u001b[0m     )\n\u001b[1;32m    522\u001b[0m     \u001b[0;32mreturn\u001b[0m \u001b[0mcv_results\u001b[0m\u001b[0;34m[\u001b[0m\u001b[0;34m\"test_score\"\u001b[0m\u001b[0;34m]\u001b[0m\u001b[0;34m\u001b[0m\u001b[0;34m\u001b[0m\u001b[0m\n",
            "\u001b[0;32m/usr/local/lib/python3.7/dist-packages/sklearn/model_selection/_validation.py\u001b[0m in \u001b[0;36mcross_validate\u001b[0;34m(estimator, X, y, groups, scoring, cv, n_jobs, verbose, fit_params, pre_dispatch, return_train_score, return_estimator, error_score)\u001b[0m\n\u001b[1;32m    281\u001b[0m             \u001b[0merror_score\u001b[0m\u001b[0;34m=\u001b[0m\u001b[0merror_score\u001b[0m\u001b[0;34m,\u001b[0m\u001b[0;34m\u001b[0m\u001b[0;34m\u001b[0m\u001b[0m\n\u001b[1;32m    282\u001b[0m         )\n\u001b[0;32m--> 283\u001b[0;31m         \u001b[0;32mfor\u001b[0m \u001b[0mtrain\u001b[0m\u001b[0;34m,\u001b[0m \u001b[0mtest\u001b[0m \u001b[0;32min\u001b[0m \u001b[0mcv\u001b[0m\u001b[0;34m.\u001b[0m\u001b[0msplit\u001b[0m\u001b[0;34m(\u001b[0m\u001b[0mX\u001b[0m\u001b[0;34m,\u001b[0m \u001b[0my\u001b[0m\u001b[0;34m,\u001b[0m \u001b[0mgroups\u001b[0m\u001b[0;34m)\u001b[0m\u001b[0;34m\u001b[0m\u001b[0;34m\u001b[0m\u001b[0m\n\u001b[0m\u001b[1;32m    284\u001b[0m     )\n\u001b[1;32m    285\u001b[0m \u001b[0;34m\u001b[0m\u001b[0m\n",
            "\u001b[0;32m/usr/local/lib/python3.7/dist-packages/joblib/parallel.py\u001b[0m in \u001b[0;36m__call__\u001b[0;34m(self, iterable)\u001b[0m\n\u001b[1;32m   1096\u001b[0m \u001b[0;34m\u001b[0m\u001b[0m\n\u001b[1;32m   1097\u001b[0m             \u001b[0;32mwith\u001b[0m \u001b[0mself\u001b[0m\u001b[0;34m.\u001b[0m\u001b[0m_backend\u001b[0m\u001b[0;34m.\u001b[0m\u001b[0mretrieval_context\u001b[0m\u001b[0;34m(\u001b[0m\u001b[0;34m)\u001b[0m\u001b[0;34m:\u001b[0m\u001b[0;34m\u001b[0m\u001b[0;34m\u001b[0m\u001b[0m\n\u001b[0;32m-> 1098\u001b[0;31m                 \u001b[0mself\u001b[0m\u001b[0;34m.\u001b[0m\u001b[0mretrieve\u001b[0m\u001b[0;34m(\u001b[0m\u001b[0;34m)\u001b[0m\u001b[0;34m\u001b[0m\u001b[0;34m\u001b[0m\u001b[0m\n\u001b[0m\u001b[1;32m   1099\u001b[0m             \u001b[0;31m# Make sure that we get a last message telling us we are done\u001b[0m\u001b[0;34m\u001b[0m\u001b[0;34m\u001b[0m\u001b[0;34m\u001b[0m\u001b[0m\n\u001b[1;32m   1100\u001b[0m             \u001b[0melapsed_time\u001b[0m \u001b[0;34m=\u001b[0m \u001b[0mtime\u001b[0m\u001b[0;34m.\u001b[0m\u001b[0mtime\u001b[0m\u001b[0;34m(\u001b[0m\u001b[0;34m)\u001b[0m \u001b[0;34m-\u001b[0m \u001b[0mself\u001b[0m\u001b[0;34m.\u001b[0m\u001b[0m_start_time\u001b[0m\u001b[0;34m\u001b[0m\u001b[0;34m\u001b[0m\u001b[0m\n",
            "\u001b[0;32m/usr/local/lib/python3.7/dist-packages/joblib/parallel.py\u001b[0m in \u001b[0;36mretrieve\u001b[0;34m(self)\u001b[0m\n\u001b[1;32m    973\u001b[0m             \u001b[0;32mtry\u001b[0m\u001b[0;34m:\u001b[0m\u001b[0;34m\u001b[0m\u001b[0;34m\u001b[0m\u001b[0m\n\u001b[1;32m    974\u001b[0m                 \u001b[0;32mif\u001b[0m \u001b[0mgetattr\u001b[0m\u001b[0;34m(\u001b[0m\u001b[0mself\u001b[0m\u001b[0;34m.\u001b[0m\u001b[0m_backend\u001b[0m\u001b[0;34m,\u001b[0m \u001b[0;34m'supports_timeout'\u001b[0m\u001b[0;34m,\u001b[0m \u001b[0;32mFalse\u001b[0m\u001b[0;34m)\u001b[0m\u001b[0;34m:\u001b[0m\u001b[0;34m\u001b[0m\u001b[0;34m\u001b[0m\u001b[0m\n\u001b[0;32m--> 975\u001b[0;31m                     \u001b[0mself\u001b[0m\u001b[0;34m.\u001b[0m\u001b[0m_output\u001b[0m\u001b[0;34m.\u001b[0m\u001b[0mextend\u001b[0m\u001b[0;34m(\u001b[0m\u001b[0mjob\u001b[0m\u001b[0;34m.\u001b[0m\u001b[0mget\u001b[0m\u001b[0;34m(\u001b[0m\u001b[0mtimeout\u001b[0m\u001b[0;34m=\u001b[0m\u001b[0mself\u001b[0m\u001b[0;34m.\u001b[0m\u001b[0mtimeout\u001b[0m\u001b[0;34m)\u001b[0m\u001b[0;34m)\u001b[0m\u001b[0;34m\u001b[0m\u001b[0;34m\u001b[0m\u001b[0m\n\u001b[0m\u001b[1;32m    976\u001b[0m                 \u001b[0;32melse\u001b[0m\u001b[0;34m:\u001b[0m\u001b[0;34m\u001b[0m\u001b[0;34m\u001b[0m\u001b[0m\n\u001b[1;32m    977\u001b[0m                     \u001b[0mself\u001b[0m\u001b[0;34m.\u001b[0m\u001b[0m_output\u001b[0m\u001b[0;34m.\u001b[0m\u001b[0mextend\u001b[0m\u001b[0;34m(\u001b[0m\u001b[0mjob\u001b[0m\u001b[0;34m.\u001b[0m\u001b[0mget\u001b[0m\u001b[0;34m(\u001b[0m\u001b[0;34m)\u001b[0m\u001b[0;34m)\u001b[0m\u001b[0;34m\u001b[0m\u001b[0;34m\u001b[0m\u001b[0m\n",
            "\u001b[0;32m/usr/local/lib/python3.7/dist-packages/joblib/_parallel_backends.py\u001b[0m in \u001b[0;36mwrap_future_result\u001b[0;34m(future, timeout)\u001b[0m\n\u001b[1;32m    565\u001b[0m         AsyncResults.get from multiprocessing.\"\"\"\n\u001b[1;32m    566\u001b[0m         \u001b[0;32mtry\u001b[0m\u001b[0;34m:\u001b[0m\u001b[0;34m\u001b[0m\u001b[0;34m\u001b[0m\u001b[0m\n\u001b[0;32m--> 567\u001b[0;31m             \u001b[0;32mreturn\u001b[0m \u001b[0mfuture\u001b[0m\u001b[0;34m.\u001b[0m\u001b[0mresult\u001b[0m\u001b[0;34m(\u001b[0m\u001b[0mtimeout\u001b[0m\u001b[0;34m=\u001b[0m\u001b[0mtimeout\u001b[0m\u001b[0;34m)\u001b[0m\u001b[0;34m\u001b[0m\u001b[0;34m\u001b[0m\u001b[0m\n\u001b[0m\u001b[1;32m    568\u001b[0m         \u001b[0;32mexcept\u001b[0m \u001b[0mCfTimeoutError\u001b[0m \u001b[0;32mas\u001b[0m \u001b[0me\u001b[0m\u001b[0;34m:\u001b[0m\u001b[0;34m\u001b[0m\u001b[0;34m\u001b[0m\u001b[0m\n\u001b[1;32m    569\u001b[0m             \u001b[0;32mraise\u001b[0m \u001b[0mTimeoutError\u001b[0m \u001b[0;32mfrom\u001b[0m \u001b[0me\u001b[0m\u001b[0;34m\u001b[0m\u001b[0;34m\u001b[0m\u001b[0m\n",
            "\u001b[0;32m/usr/lib/python3.7/concurrent/futures/_base.py\u001b[0m in \u001b[0;36mresult\u001b[0;34m(self, timeout)\u001b[0m\n\u001b[1;32m    428\u001b[0m                 \u001b[0;32mreturn\u001b[0m \u001b[0mself\u001b[0m\u001b[0;34m.\u001b[0m\u001b[0m__get_result\u001b[0m\u001b[0;34m(\u001b[0m\u001b[0;34m)\u001b[0m\u001b[0;34m\u001b[0m\u001b[0;34m\u001b[0m\u001b[0m\n\u001b[1;32m    429\u001b[0m \u001b[0;34m\u001b[0m\u001b[0m\n\u001b[0;32m--> 430\u001b[0;31m             \u001b[0mself\u001b[0m\u001b[0;34m.\u001b[0m\u001b[0m_condition\u001b[0m\u001b[0;34m.\u001b[0m\u001b[0mwait\u001b[0m\u001b[0;34m(\u001b[0m\u001b[0mtimeout\u001b[0m\u001b[0;34m)\u001b[0m\u001b[0;34m\u001b[0m\u001b[0;34m\u001b[0m\u001b[0m\n\u001b[0m\u001b[1;32m    431\u001b[0m \u001b[0;34m\u001b[0m\u001b[0m\n\u001b[1;32m    432\u001b[0m             \u001b[0;32mif\u001b[0m \u001b[0mself\u001b[0m\u001b[0;34m.\u001b[0m\u001b[0m_state\u001b[0m \u001b[0;32min\u001b[0m \u001b[0;34m[\u001b[0m\u001b[0mCANCELLED\u001b[0m\u001b[0;34m,\u001b[0m \u001b[0mCANCELLED_AND_NOTIFIED\u001b[0m\u001b[0;34m]\u001b[0m\u001b[0;34m:\u001b[0m\u001b[0;34m\u001b[0m\u001b[0;34m\u001b[0m\u001b[0m\n",
            "\u001b[0;32m/usr/lib/python3.7/threading.py\u001b[0m in \u001b[0;36mwait\u001b[0;34m(self, timeout)\u001b[0m\n\u001b[1;32m    294\u001b[0m         \u001b[0;32mtry\u001b[0m\u001b[0;34m:\u001b[0m    \u001b[0;31m# restore state no matter what (e.g., KeyboardInterrupt)\u001b[0m\u001b[0;34m\u001b[0m\u001b[0;34m\u001b[0m\u001b[0m\n\u001b[1;32m    295\u001b[0m             \u001b[0;32mif\u001b[0m \u001b[0mtimeout\u001b[0m \u001b[0;32mis\u001b[0m \u001b[0;32mNone\u001b[0m\u001b[0;34m:\u001b[0m\u001b[0;34m\u001b[0m\u001b[0;34m\u001b[0m\u001b[0m\n\u001b[0;32m--> 296\u001b[0;31m                 \u001b[0mwaiter\u001b[0m\u001b[0;34m.\u001b[0m\u001b[0macquire\u001b[0m\u001b[0;34m(\u001b[0m\u001b[0;34m)\u001b[0m\u001b[0;34m\u001b[0m\u001b[0;34m\u001b[0m\u001b[0m\n\u001b[0m\u001b[1;32m    297\u001b[0m                 \u001b[0mgotit\u001b[0m \u001b[0;34m=\u001b[0m \u001b[0;32mTrue\u001b[0m\u001b[0;34m\u001b[0m\u001b[0;34m\u001b[0m\u001b[0m\n\u001b[1;32m    298\u001b[0m             \u001b[0;32melse\u001b[0m\u001b[0;34m:\u001b[0m\u001b[0;34m\u001b[0m\u001b[0;34m\u001b[0m\u001b[0m\n",
            "\u001b[0;31mKeyboardInterrupt\u001b[0m: "
          ]
        }
      ]
    },
    {
      "cell_type": "code",
      "source": [
        "# plotting box plot of the \n",
        "plt.boxplot(results, labels=names,showmeans=True)\n",
        "# showing the plot\n",
        "plt.show()"
      ],
      "metadata": {
        "id": "OHwyE0IzKk3d"
      },
      "execution_count": null,
      "outputs": []
    },
    {
      "cell_type": "markdown",
      "source": [
        "####4.3.1.2- Finding the optimum depth of trees in the Gradient boosting algorithm using Python"
      ],
      "metadata": {
        "id": "rtLfI8onKsuR"
      }
    },
    {
      "cell_type": "code",
      "source": [
        "# building function for the model\n",
        "def build_models():\n",
        "    \n",
        "#     creating dic of models\n",
        "    GB_models = dict()\n",
        "    \n",
        "#     specifying the depth of trees\n",
        "    for i in range(1,7):\n",
        "        \n",
        "#         appending the models\n",
        "        GB_models[str(i)] = GradientBoostingClassifier(max_depth=i)\n",
        "        \n",
        "#   returining the model\n",
        "    return GB_models"
      ],
      "metadata": {
        "id": "tIXPba4eKx2o"
      },
      "execution_count": null,
      "outputs": []
    },
    {
      "cell_type": "code",
      "source": [
        "# calling the function\n",
        "models = build_models()\n",
        "# creating lists \n",
        "results, names = list(), list()\n",
        "# iterating through the models\n",
        "for name, model in models.items():\n",
        "    \n",
        "    # calling the evalution function\n",
        "    accuracy = evaluate_model(model, x_train, y_train)\n",
        "    \n",
        "    # appending the results\n",
        "    results.append(accuracy)\n",
        "    names.append(name)\n",
        "    \n",
        "#     printing - Gradient boosting algorithm using Python\n",
        "    print('---->Decision tree depth (%s)---Accuracy( %.5f)' % (name, np.mean(accuracy)))"
      ],
      "metadata": {
        "id": "P4QhnbJtKywZ",
        "colab": {
          "base_uri": "https://localhost:8080/",
          "height": 236
        },
        "outputId": "67a56edc-3793-40d1-ffe9-8269ad1a4e61"
      },
      "execution_count": null,
      "outputs": [
        {
          "output_type": "error",
          "ename": "NameError",
          "evalue": "ignored",
          "traceback": [
            "\u001b[0;31m---------------------------------------------------------------------------\u001b[0m",
            "\u001b[0;31mNameError\u001b[0m                                 Traceback (most recent call last)",
            "\u001b[0;32m<ipython-input-71-e896e953c44a>\u001b[0m in \u001b[0;36m<module>\u001b[0;34m\u001b[0m\n\u001b[1;32m      7\u001b[0m \u001b[0;34m\u001b[0m\u001b[0m\n\u001b[1;32m      8\u001b[0m     \u001b[0;31m# calling the evalution function\u001b[0m\u001b[0;34m\u001b[0m\u001b[0;34m\u001b[0m\u001b[0;34m\u001b[0m\u001b[0m\n\u001b[0;32m----> 9\u001b[0;31m     \u001b[0maccuracy\u001b[0m \u001b[0;34m=\u001b[0m \u001b[0mevaluate_model\u001b[0m\u001b[0;34m(\u001b[0m\u001b[0mmodel\u001b[0m\u001b[0;34m,\u001b[0m \u001b[0mx_train\u001b[0m\u001b[0;34m,\u001b[0m \u001b[0my_train\u001b[0m\u001b[0;34m)\u001b[0m\u001b[0;34m\u001b[0m\u001b[0;34m\u001b[0m\u001b[0m\n\u001b[0m\u001b[1;32m     10\u001b[0m \u001b[0;34m\u001b[0m\u001b[0m\n\u001b[1;32m     11\u001b[0m     \u001b[0;31m# appending the results\u001b[0m\u001b[0;34m\u001b[0m\u001b[0;34m\u001b[0m\u001b[0;34m\u001b[0m\u001b[0m\n",
            "\u001b[0;31mNameError\u001b[0m: name 'evaluate_model' is not defined"
          ]
        }
      ]
    },
    {
      "cell_type": "code",
      "source": [
        "# plotting box plot of the \n",
        "plt.boxplot(results, labels=names,showmeans=True)\n",
        "# showing the plot\n",
        "plt.show()"
      ],
      "metadata": {
        "id": "We-m8gx2K8t6"
      },
      "execution_count": null,
      "outputs": []
    },
    {
      "cell_type": "markdown",
      "source": [
        "####4.3.1.3- Finding an optimum Learning rate in Gradient boosting algorithm using Python"
      ],
      "metadata": {
        "id": "sGwEd_NPLAaw"
      }
    },
    {
      "cell_type": "code",
      "source": [
        "# creating function\n",
        "def build_models():\n",
        "    \n",
        "#     creating dic of models\n",
        "    GB_models = dict()\n",
        "    \n",
        "#     different learning rates\n",
        "    for i in [0.05, 0.1, 0.2, 0.5, 1.0, 1.5]:\n",
        "        \n",
        "#         key value\n",
        "        k = '%.4f' % i\n",
        "    \n",
        "#     appending the models\n",
        "        GB_models[k] = GradientBoostingClassifier(learning_rate=i)\n",
        "    return GB_models"
      ],
      "metadata": {
        "id": "tV1y2P_ALFuB"
      },
      "execution_count": null,
      "outputs": []
    },
    {
      "cell_type": "code",
      "source": [
        "# calling the function\n",
        "models = build_models()\n",
        "# creating the list\n",
        "results, names = list(), list()\n",
        "# for loop to iterate through the models\n",
        "for name, model in models.items():\n",
        "    \n",
        "    \n",
        "    # calling the evaluting function\n",
        "    accuracy = evaluate_model(model, x_train, y_train)\n",
        "    \n",
        "#     storing the accurcy\n",
        "    results.append(accuracy)\n",
        "    names.append(name)\n",
        "    \n",
        "#     printing learning rate of Gradient boosting algorithm using Python\n",
        "    print('---->Learning Rate(%s)---Accuracy( %.5f)' % (name, np.mean(accuracy)))"
      ],
      "metadata": {
        "id": "RoTn0TCXLGft"
      },
      "execution_count": null,
      "outputs": []
    },
    {
      "cell_type": "code",
      "source": [
        "# plotting box plot of the \n",
        "plt.boxplot(results, labels=names,showmeans=True)\n",
        "# showing the plot\n",
        "plt.show()"
      ],
      "metadata": {
        "id": "fGIq1AdULOKp"
      },
      "execution_count": null,
      "outputs": []
    },
    {
      "cell_type": "markdown",
      "source": [
        "####4.3.1.4- Finding an optimum number of features in the Gradient boosting algorithm using Python\n",
        "Each decision tree can have a different amount of attributes that are utilized to suit it. Similar to modifying the sample size, changing the number of features gives more variance to the model, which may enhance performance."
      ],
      "metadata": {
        "id": "t7UxQcjoLRtJ"
      }
    },
    {
      "cell_type": "code",
      "source": [
        "# creating the function \n",
        "def build_models():\n",
        "    \n",
        "#     creating dic of models\n",
        "    GB_models = dict()\n",
        "    \n",
        "    # explore features numbers from 1-4\n",
        "    for i in range(1,5):\n",
        "        \n",
        "#         appending the models\n",
        "        GB_models[str(i)] = GradientBoostingClassifier(max_features=i)\n",
        "    \n",
        "#     returining the models\n",
        "    return GB_models"
      ],
      "metadata": {
        "id": "EnoMLGs0LY0B"
      },
      "execution_count": null,
      "outputs": []
    },
    {
      "cell_type": "code",
      "source": [
        "# calling the function\n",
        "models = build_models()\n",
        "# creating the list\n",
        "results, names = list(), list()\n",
        "# for loop to iterate through the models\n",
        "for name, model in models.items():\n",
        "    \n",
        "    \n",
        "    # calling the evaluting function\n",
        "    accuracy = evaluate_model(model, x_train, y_train)\n",
        "    \n",
        "#     storing the accurcy\n",
        "    results.append(accuracy)\n",
        "    names.append(name)\n",
        "    \n",
        "#     printing features of Gradient boosting algorithm using Python\n",
        "    print('---->Features(%s)---Accuracy( %.5f)' % (name, np.mean(accuracy)))"
      ],
      "metadata": {
        "id": "XbF-hBAMLbwW"
      },
      "execution_count": null,
      "outputs": []
    },
    {
      "cell_type": "code",
      "source": [
        "# plotting box plot of the \n",
        "plt.boxplot(results, labels=names,showmeans=True)\n",
        "# showing the plot\n",
        "plt.show()"
      ],
      "metadata": {
        "id": "5RnxKPV1Ower"
      },
      "execution_count": null,
      "outputs": []
    },
    {
      "cell_type": "markdown",
      "source": [
        "####4.3.1.4- Finding the optimum number of samples in the Gradient boosting algorithm using Python\n",
        "You can change how many samples were used to fit each tree. This indicates that a randomly chosen portion of the training dataset is used to fit each tree. Using fewer samples introduces more variance for each tree, although it can improve the overall performance of the model. Let us now create a function that returns multiple models with different sample values."
      ],
      "metadata": {
        "id": "-tTmmLppLijO"
      }
    },
    {
      "cell_type": "code",
      "source": [
        "# creating the function\n",
        "def build_models():\n",
        "    \n",
        "#     dic of models\n",
        "    GB_models = dict()\n",
        "    \n",
        "#     exploring different sample values\n",
        "    for i in np.arange(0.1, 1.1, 0.1):\n",
        "        \n",
        "#         key value\n",
        "        k = '%.1f' % i\n",
        "    \n",
        "#     appending the model\n",
        "        GB_models[k] = GradientBoostingClassifier(subsample=i)\n",
        "    return GB_models"
      ],
      "metadata": {
        "id": "F1fuPaiyLnjB"
      },
      "execution_count": null,
      "outputs": []
    },
    {
      "cell_type": "code",
      "source": [
        "# calling the function\n",
        "models = build_models()\n",
        "# creating the list\n",
        "results, names = list(), list()\n",
        "# for loop to iterate through the models\n",
        "for name, model in models.items():\n",
        "    \n",
        "    \n",
        "    # calling the evaluting function\n",
        "    accuracy = evaluate_model(model, x_train, y_train)\n",
        "    \n",
        "#     storing the accurcy\n",
        "    results.append(accuracy)\n",
        "    names.append(name)\n",
        "    \n",
        "#     printing sampes for Gradient boosting algorithm using Python\n",
        "    print('---->Samples(%s)---Accuracy( %.5f)' % (name, np.mean(accuracy)))"
      ],
      "metadata": {
        "id": "8wt9OQr0LpKa"
      },
      "execution_count": null,
      "outputs": []
    },
    {
      "cell_type": "code",
      "source": [
        "# plotting box plot of the \n",
        "plt.boxplot(results, labels=names,showmeans=True)\n",
        "# showing the plot\n",
        "plt.show()"
      ],
      "metadata": {
        "id": "SHuiBH95LtqL"
      },
      "execution_count": null,
      "outputs": []
    },
    {
      "cell_type": "markdown",
      "source": [
        "###4.3.2- GridSearchCV for Gradient boosting algorithm using Python"
      ],
      "metadata": {
        "id": "oFEge95ULxfu"
      }
    },
    {
      "cell_type": "code",
      "source": [
        "# defiing the model\n",
        "model = GradientBoostingClassifier()\n",
        "# creating a dict of grids\n",
        "grid = dict()\n",
        "# values for iteration\n",
        "grid['n_estimators'] = [10, 50, 100, 500]\n",
        "# values for learning rate\n",
        "grid['learning_rate'] = [0.0001, 0.001, 0.01, 0.1, 1.0]\n",
        "# values for the sampel\n",
        "grid['subsample'] = [0.5, 0.7, 1.0]\n",
        "# values for teh depth of tree\n",
        "grid['max_depth'] = [3, 4, 5]"
      ],
      "metadata": {
        "id": "mg4v1nvYL3SX"
      },
      "execution_count": null,
      "outputs": []
    },
    {
      "cell_type": "code",
      "source": [
        "# defining the cv\n",
        "cv = RepeatedStratifiedKFold(n_splits=10, n_repeats=3)\n",
        "# applying the gridsearchcv method\n",
        "grid_search = GridSearchCV(estimator=model, param_grid=grid, n_jobs=-1, cv=cv, scoring='accuracy')\n",
        "# storing the values\n",
        "grid_result = grid_search.fit(x_train, y_train)\n",
        "# printing the best parameters of Gradient boosting algorithm using Python\n",
        "print(\"Accuracy score: %f using %s\" % (grid_result.best_score_, grid_result.best_params_))"
      ],
      "metadata": {
        "id": "3D2D0oZLL6Hg"
      },
      "execution_count": null,
      "outputs": []
    },
    {
      "cell_type": "markdown",
      "source": [
        "###4.3.3- Fitting the Optimum Mode"
      ],
      "metadata": {
        "id": "Ov332DUnPLcg"
      }
    },
    {
      "cell_type": "markdown",
      "source": [
        "##4.4- eXtreme Gradient boosting\n",
        "Main features:\n",
        "* 1- Cross-validation at each iteration: Cross-validation is a process in which the model is tested using different portions of the dataset in each iteration. The XGBoost algorithm has an internal parameter for the cross-validation and it tests each of the weak learners using the cross-validation method.\n",
        "* 2- Parallel process: XGBoost uses OpenMP for parallel processing. But unlike random forests which create trees in parallel, the XGBoost creates individual trees using a parallel process.\n",
        "* 3- Regularization: In Machines, learning regularization is a technique that is commonly used to reduce the risk of overfitting. Overfitting is when the models learn too many specific patterns about the training dataset and fail to generalize on the testing dataset. So, the XGBoost uses different regularization techniques in order to make sure that the model is not overfitted and that the findings can be generalized to the testing dataset.\n",
        "* 4- Missing values: One of the essential features of the XGBoost algorithm is that it can handle the missing values automatically. That means we don’t need to handle missing values in the preprocessing step.\n",
        "* 5- Tree pruning: Tree pruning is the process of removing the nodes from the trees that do not contribute to the classification.\n",
        "\n",
        "https://techfor-today.com/hyperparameter-tuning-of-xgboost-algorithm/#Finding_the_optimum_number_of_features_using_Hyperparameter_tuning_of_XGBoost\n",
        "\n",
        "https://www.analyticsvidhya.com/blog/2016/03/complete-guide-parameter-tuning-xgboost-with-codes-python/"
      ],
      "metadata": {
        "id": "Dvh1_pfJmnHQ"
      }
    },
    {
      "cell_type": "markdown",
      "source": [
        "###4.3.1- Hyper Parameter Tuning for eXtreme Gradient Boosting\n",
        "1- Choose a relatively high learning rate. Generally a learning rate of 0.1 works but somewhere between 0.05 to 0.3 should work for different problems. Determine the optimum number of trees for this learning rate. XGBoost has a very useful function called as “cv” which performs cross-validation at each boosting iteration and thus returns the optimum number of trees required.\n",
        "\n",
        "2- Tune tree-specific parameters ( max_depth, min_child_weight, gamma, subsample, colsample_bytree) for decided learning rate and number of trees. Note that we can choose different parameters to define a tree and I’ll take up an example here.\n",
        "\n",
        "3- Tune regularization parameters (lambda, alpha) for xgboost which can help reduce model complexity and enhance performance.\n",
        "\n",
        "4- Lower the learning rate and decide the optimal parameters ."
      ],
      "metadata": {
        "id": "NEILHXIzn-Ki"
      }
    },
    {
      "cell_type": "markdown",
      "source": [
        "####4.3.1.1- Finding the optimum number of iterations, number of stumps"
      ],
      "metadata": {
        "id": "Vw3rnxRjoMc9"
      }
    },
    {
      "cell_type": "code",
      "source": [
        "# fuction to create models\n",
        "def build_models():\n",
        "    \n",
        "#     dic of models\n",
        "    models = dict()\n",
        "    \n",
        "    # number of decision stumps\n",
        "    decision_stump= [100, 150, 200, 300, 400, 500, 600, 700]\n",
        "        \n",
        "#    using for loop to iterate though trees\n",
        "    for i in decision_stump:\n",
        "        \n",
        "#         building model with specified trees\n",
        "        # models[str(i)] = XGBClassifier(n_estimators=i)\n",
        "\n",
        "        models[str(i)] = XGBClassifier(max_depth = 8, # the larger the more prone to overfit, range 3-10\n",
        "                            learning_rate = 0.1, # range [0,1], typically=0.01-0.2\n",
        "                            n_estimators = i,#>>>>>>>>>>>>>>>>>>>>>>>>>>>>>>>>>>>>>>>>>>>>>> Iterating Through\n",
        "                            verbosity = 2,\n",
        "                            objective = \"multi:softmax\",\n",
        "                            booster = \"gbtree\", # gblinear or dart\n",
        "                            n_jobs = 1,\n",
        "                            gamma = 0, \n",
        "                            # Minimum loss reduction required to split. range=[0,inf],\n",
        "                            # The larger gamma is, the more conservative the algorithm will be.\n",
        "                            min_child_weight = 0, # used to restrict overfitting\n",
        "                            max_delta_step = 0,\n",
        "                            subsample = 0.3,\n",
        "                            colsample_bytree = 0.5,\n",
        "                            colsample_bylevel = 0.5,\n",
        "                            colsample_bynode = 0.5,\n",
        "                            reg_alpha = 0,\n",
        "                            reg_lambda = 1,\n",
        "                            scale_pos_weight = 0.5, #[default=1]\n",
        "                            random_state = 17,\n",
        "                            \n",
        ") \n",
        "#     returning the model\n",
        "    return models"
      ],
      "metadata": {
        "id": "ReTTL_iKoTfN"
      },
      "execution_count": null,
      "outputs": []
    },
    {
      "cell_type": "code",
      "source": [
        "# function for the validation of model\n",
        "def evaluate_model(model, Input, Ouput):\n",
        "    \n",
        "    # defining the method of validation\n",
        "    cv = RepeatedStratifiedKFold(n_splits=3, n_repeats=1, random_state=17)\n",
        "    # validating the model based on the accurasy score\n",
        "    accuracy = cross_val_score(model, Input, Ouput, scoring='accuracy', cv=cv, n_jobs=-1)  \n",
        "    # returning the accuracy score\n",
        "    return accuracy"
      ],
      "metadata": {
        "id": "p9s1cJ1AxxTp"
      },
      "execution_count": null,
      "outputs": []
    },
    {
      "cell_type": "code",
      "source": [
        "# calling the build_models function\n",
        "models = {}\n",
        "models = build_models()\n",
        "# creating list\n",
        "results, names = list(), list()\n",
        "# using for loop to iterate thoug the models\n",
        "for name, model in models.items():\n",
        "    \n",
        "    # calling the validation function\n",
        "    accuracy = evaluate_model(model, x_train, y_train)\n",
        "\n",
        "    # appending the accuray socres in results\n",
        "    results.append(accuracy)\n",
        "    names.append(name)\n",
        "\n",
        "    # printing -Hyperparameter tuning of XGBoost\n",
        "    print('---->Iterations (%s)---Accuracy( %.5f)' % (name, np.mean(accuracy)))"
      ],
      "metadata": {
        "colab": {
          "base_uri": "https://localhost:8080/"
        },
        "id": "xzyrvuhIoYsX",
        "outputId": "306058df-b3f6-4ad4-afd8-eff7a2e45f7d"
      },
      "execution_count": null,
      "outputs": [
        {
          "output_type": "stream",
          "name": "stdout",
          "text": [
            "---->Iterations (100)---Accuracy( 0.78820)\n",
            "---->Iterations (150)---Accuracy( 0.79345)\n",
            "---->Iterations (200)---Accuracy( 0.79665)\n",
            "---->Iterations (300)---Accuracy( 0.80086)\n",
            "---->Iterations (400)---Accuracy( 0.80232)\n",
            "---->Iterations (500)---Accuracy( 0.80307)\n",
            "---->Iterations (600)---Accuracy( 0.80393)\n",
            "---->Iterations (700)---Accuracy( 0.80324)\n"
          ]
        }
      ]
    },
    {
      "cell_type": "code",
      "source": [
        "# plotting box plot of the \n",
        "plt.boxplot(results, labels=names,showmeans=True)\n",
        "# showing the plot\n",
        "plt.show()"
      ],
      "metadata": {
        "colab": {
          "base_uri": "https://localhost:8080/",
          "height": 265
        },
        "id": "UCt8lJLCohI9",
        "outputId": "9732ebe4-d3a7-4f4b-d208-f3a612ac45f0"
      },
      "execution_count": null,
      "outputs": [
        {
          "output_type": "display_data",
          "data": {
            "text/plain": [
              "<Figure size 432x288 with 1 Axes>"
            ],
            "image/png": "[encoded data removed]"
          },
          "metadata": {
            "needs_background": "light"
          }
        }
      ]
    },
    {
      "cell_type": "markdown",
      "source": [
        "####4.3.1.3- Finding the optimum sample size"
      ],
      "metadata": {
        "id": "-hZ0tGJNo310"
      }
    },
    {
      "cell_type": "code",
      "source": [
        "# creating the function\n",
        "def build_models():\n",
        "    \n",
        "#     dic of models\n",
        "    models = dict()\n",
        "    \n",
        "#     exploring different sample values\n",
        "    for i in np.arange(0.1, 1.1, 0.1):\n",
        "        \n",
        "#         key value\n",
        "        k = '%.1f' % i\n",
        "    \n",
        "#     appending the model\n",
        "        models[k] = XGBClassifier(max_depth = 8, # the larger the more prone to overfit, range 3-10\n",
        "                            learning_rate = 0.1, # range [0,1], typically=0.01-0.2\n",
        "                            n_estimators = 600,\n",
        "                            verbosity = 2,\n",
        "                            objective = \"multi:softmax\",\n",
        "                            booster = \"gbtree\", # gblinear or dart\n",
        "                            n_jobs = 1,\n",
        "                            gamma = 0, \n",
        "                            # Minimum loss reduction required to split. range=[0,inf],\n",
        "                            # The larger gamma is, the more conservative the algorithm will be.\n",
        "                            min_child_weight = 0, # used to restrict overfitting\n",
        "                            max_delta_step = 0,\n",
        "                            subsample = i, #>>>>>>>>>>>>>>>>>>>>>>>>>>>>>>>>>>>>>>>>>>>>>> Iterating Through\n",
        "                            colsample_bytree = 0.5,\n",
        "                            colsample_bylevel = 0.5,\n",
        "                            colsample_bynode = 0.5,\n",
        "                            reg_alpha = 0,\n",
        "                            reg_lambda = 1,\n",
        "                            scale_pos_weight = 0.5, #[default=1]\n",
        "                            random_state = 17,\n",
        "        )\n",
        "    return models"
      ],
      "metadata": {
        "id": "JWRyYIUko8rh"
      },
      "execution_count": null,
      "outputs": []
    },
    {
      "cell_type": "code",
      "source": [
        "# calling the function\n",
        "models = {}\n",
        "models = build_models()\n",
        "# creating the list\n",
        "results, names = list(), list()\n",
        "# for loop to iterate through the models\n",
        "for name, model in models.items():\n",
        "\n",
        "    # calling the evaluting function\n",
        "    accuracy = evaluate_model(model, x_train, y_train)\n",
        "    \n",
        "#     storing the accurcy\n",
        "    results.append(accuracy)\n",
        "    names.append(name)\n",
        "    \n",
        "#     printing - Hyperparameter tuning of XGBoost\n",
        "    print('Samples(%s)---Accuracy( %.5f)' % (name, np.mean(accuracy)))"
      ],
      "metadata": {
        "colab": {
          "base_uri": "https://localhost:8080/"
        },
        "id": "vVEq1g0_pAFH",
        "outputId": "aa666cbe-f812-4c2c-bdac-dae07731fa76"
      },
      "execution_count": null,
      "outputs": [
        {
          "output_type": "stream",
          "name": "stdout",
          "text": [
            "Samples(0.1)---Accuracy( 0.79175)\n",
            "Samples(0.2)---Accuracy( 0.79953)\n",
            "Samples(0.3)---Accuracy( 0.80181)\n",
            "Samples(0.4)---Accuracy( 0.80376)\n",
            "Samples(0.5)---Accuracy( 0.80479)\n",
            "Samples(0.6)---Accuracy( 0.80563)\n",
            "Samples(0.7)---Accuracy( 0.80410)\n",
            "Samples(0.8)---Accuracy( 0.80552)\n",
            "Samples(0.9)---Accuracy( 0.80597)\n",
            "Samples(1.0)---Accuracy( 0.80556)\n"
          ]
        }
      ]
    },
    {
      "cell_type": "code",
      "source": [
        "# plotting box plot of the \n",
        "plt.boxplot(results, labels=names,showmeans=True)\n",
        "# showing the plot\n",
        "plt.show()"
      ],
      "metadata": {
        "colab": {
          "base_uri": "https://localhost:8080/",
          "height": 265
        },
        "id": "UqAUk5pDpD-W",
        "outputId": "61d07537-6ce1-4f8f-db15-6b9e8e085391"
      },
      "execution_count": null,
      "outputs": [
        {
          "output_type": "display_data",
          "data": {
            "text/plain": [
              "<Figure size 432x288 with 1 Axes>"
            ],
            "image/png": "[encoded data removed]"
          },
          "metadata": {
            "needs_background": "light"
          }
        }
      ]
    },
    {
      "cell_type": "markdown",
      "source": [
        "####4.3.1.4- Finding optimum learning rate "
      ],
      "metadata": {
        "id": "nzL2wLzupIdV"
      }
    },
    {
      "cell_type": "code",
      "source": [
        "# creating function\n",
        "def build_models():\n",
        "    \n",
        "#     creating dic of models\n",
        "    models = dict()\n",
        "    \n",
        "#     different learning rates\n",
        "    for i in [0.1, 0.15, 0.2, 0.25, 0.3, 0.35, 0.4, 0.45, 0.5]:\n",
        "        \n",
        "#         key value\n",
        "        k = '%.4f' % i\n",
        "    \n",
        "#     appending the models\n",
        "        models[k] = XGBClassifier(max_depth = 8, # the larger the more prone to overfit, range 3-10\n",
        "                            learning_rate = i, # range [0,1], typically=0.01-0.2 >>>>>>>>>>>>>>>>>>>>>>>>>>>>>>>>>>> Iterating Through\n",
        "                            n_estimators = 600,\n",
        "                            verbosity = 2,\n",
        "                            objective = \"multi:softmax\",\n",
        "                            booster = \"gbtree\", # gblinear or dart\n",
        "                            n_jobs = 1,\n",
        "                            gamma = 0, \n",
        "                            # Minimum loss reduction required to split. range=[0,inf],\n",
        "                            # The larger gamma is, the more conservative the algorithm will be.\n",
        "                            min_child_weight = 0, # used to restrict overfitting\n",
        "                            max_delta_step = 0,\n",
        "                            subsample = 0.6, \n",
        "                            colsample_bytree = 0.5,\n",
        "                            colsample_bylevel = 0.5,\n",
        "                            colsample_bynode = 0.5,\n",
        "                            reg_alpha = 0,\n",
        "                            reg_lambda = 1,\n",
        "                            scale_pos_weight = 0.5, #[default=1]\n",
        "                            random_state = 17,\n",
        "        )\n",
        "    return models"
      ],
      "metadata": {
        "id": "gO4vfOIJpK57"
      },
      "execution_count": null,
      "outputs": []
    },
    {
      "cell_type": "code",
      "source": [
        "# calling the function\n",
        "models ={}\n",
        "models = build_models()\n",
        "# creating the list\n",
        "results, names = list(), list()\n",
        "# for loop to iterate through the models\n",
        "for name, model in models.items():\n",
        "    \n",
        "    \n",
        "    # calling the evaluting function\n",
        "    accuracy = evaluate_model(model, x_train, y_train)\n",
        "    \n",
        "#     storing the accurcy\n",
        "    results.append(accuracy)\n",
        "    names.append(name)\n",
        "    \n",
        "#     printing - Hyperparameter tuning of XGBoost\n",
        "    print('Learning Rate(%s)---Accuracy( %.5f)' % (name, np.mean(accuracy)))"
      ],
      "metadata": {
        "colab": {
          "base_uri": "https://localhost:8080/"
        },
        "id": "zmpfcrzQpPb4",
        "outputId": "3c1298e4-883d-4510-8eb7-3d69e0e340ee"
      },
      "execution_count": null,
      "outputs": [
        {
          "output_type": "stream",
          "name": "stdout",
          "text": [
            "Learning Rate(0.1000)---Accuracy( 0.80440)\n",
            "Learning Rate(0.1500)---Accuracy( 0.80183)\n",
            "Learning Rate(0.2000)---Accuracy( 0.80123)\n",
            "Learning Rate(0.2500)---Accuracy( 0.80069)\n",
            "Learning Rate(0.3000)---Accuracy( 0.79704)\n",
            "Learning Rate(0.3500)---Accuracy( 0.79802)\n",
            "Learning Rate(0.4000)---Accuracy( 0.79757)\n",
            "Learning Rate(0.4500)---Accuracy( 0.79544)\n",
            "Learning Rate(0.5000)---Accuracy( 0.79633)\n"
          ]
        }
      ]
    },
    {
      "cell_type": "code",
      "source": [
        "# plotting box plot of the \n",
        "plt.boxplot(results, labels=names,showmeans=True)\n",
        "\n",
        "# showing the plot\n",
        "plt.show()"
      ],
      "metadata": {
        "id": "zpJFM6jnpYwa",
        "colab": {
          "base_uri": "https://localhost:8080/",
          "height": 265
        },
        "outputId": "63e786c5-60df-45c7-8d19-ec20d2886f3d"
      },
      "execution_count": null,
      "outputs": [
        {
          "output_type": "display_data",
          "data": {
            "text/plain": [
              "<Figure size 432x288 with 1 Axes>"
            ],
            "image/png": "[encoded data removed]"
          },
          "metadata": {
            "needs_background": "light"
          }
        }
      ]
    },
    {
      "cell_type": "markdown",
      "source": [
        "####4.3.1.5- Finding the optimum depth "
      ],
      "metadata": {
        "id": "1T1_tIFYpa1b"
      }
    },
    {
      "cell_type": "code",
      "source": [
        "# building function for the model\n",
        "def build_models():\n",
        "    \n",
        "#     creating dic of models\n",
        "    models = dict()\n",
        "    \n",
        "#     specifying the depth of trees\n",
        "    for i in range(1,13):\n",
        "        \n",
        "#         appending the models\n",
        "        models[str(i)] = XGBClassifier(max_depth = i, # the larger the more prone to overfit, range 3-10 >>>>>>>>>>>>>>>>>>>>>>>>>>>>>>>>>>> Iterating Through\n",
        "                            learning_rate = 0.1, # range [0,1], typically=0.01-0.2 \n",
        "                            n_estimators = 600,\n",
        "                            verbosity = 2,\n",
        "                            objective = \"multi:softmax\",\n",
        "                            booster = \"gbtree\", # gblinear or dart\n",
        "                            n_jobs = 1,\n",
        "                            gamma = 0, \n",
        "                            # Minimum loss reduction required to split. range=[0,inf],\n",
        "                            # The larger gamma is, the more conservative the algorithm will be.\n",
        "                            min_child_weight = 0, # used to restrict overfitting\n",
        "                            max_delta_step = 0,\n",
        "                            subsample = 0.6, \n",
        "                            colsample_bytree = 0.5,\n",
        "                            colsample_bylevel = 0.5,\n",
        "                            colsample_bynode = 0.5,\n",
        "                            reg_alpha = 0,\n",
        "                            reg_lambda = 1,\n",
        "                            scale_pos_weight = 0.5, #[default=1]\n",
        "                            random_state = 17,\n",
        "        )\n",
        "        \n",
        "#   returining the model\n",
        "    return models"
      ],
      "metadata": {
        "id": "81OIpRsQpdzA"
      },
      "execution_count": null,
      "outputs": []
    },
    {
      "cell_type": "code",
      "source": [
        "# calling the function\n",
        "models = {}\n",
        "models = build_models()\n",
        "\n",
        "# creating lists \n",
        "results, names = list(), list()\n",
        "\n",
        "# iterating through the models\n",
        "for name, model in models.items():\n",
        "    \n",
        "    # calling the evalution function\n",
        "    accuracy = evaluate_model(model, x_train, y_train)\n",
        "    \n",
        "    # appending the results\n",
        "    results.append(accuracy)\n",
        "    names.append(name)\n",
        "    \n",
        "#     printing - Hyperparameter tuning of XGBoost\n",
        "    print('Decision tree depth (%s)---Accuracy( %.5f)' % (name, np.mean(accuracy)))"
      ],
      "metadata": {
        "id": "WKxpO3yKpftV",
        "colab": {
          "base_uri": "https://localhost:8080/"
        },
        "outputId": "6b08dbe9-46cd-4c65-c5f2-0c7005d50636"
      },
      "execution_count": null,
      "outputs": [
        {
          "output_type": "stream",
          "name": "stdout",
          "text": [
            "Decision tree depth (1)---Accuracy( 0.73371)\n",
            "Decision tree depth (2)---Accuracy( 0.75653)\n",
            "Decision tree depth (3)---Accuracy( 0.77402)\n",
            "Decision tree depth (4)---Accuracy( 0.78739)\n",
            "Decision tree depth (5)---Accuracy( 0.79611)\n",
            "Decision tree depth (6)---Accuracy( 0.79865)\n",
            "Decision tree depth (7)---Accuracy( 0.80415)\n",
            "Decision tree depth (8)---Accuracy( 0.80397)\n",
            "Decision tree depth (9)---Accuracy( 0.80462)\n",
            "Decision tree depth (10)---Accuracy( 0.80572)\n",
            "Decision tree depth (11)---Accuracy( 0.80436)\n",
            "Decision tree depth (12)---Accuracy( 0.80316)\n"
          ]
        }
      ]
    },
    {
      "cell_type": "code",
      "source": [
        "# plotting box plot of the \n",
        "plt.boxplot(results, labels=names,showmeans=True)\n",
        "\n",
        "# showing the plot\n",
        "plt.show()"
      ],
      "metadata": {
        "id": "WZZRp2k3plPb",
        "colab": {
          "base_uri": "https://localhost:8080/",
          "height": 265
        },
        "outputId": "05bbe4b0-6146-413f-cdfc-1d80817813ca"
      },
      "execution_count": null,
      "outputs": [
        {
          "output_type": "display_data",
          "data": {
            "text/plain": [
              "<Figure size 432x288 with 1 Axes>"
            ],
            "image/png": "[encoded data removed]"
          },
          "metadata": {
            "needs_background": "light"
          }
        }
      ]
    },
    {
      "cell_type": "markdown",
      "source": [
        "####4.3.1.6- Finding the optimum colsample_bytree"
      ],
      "metadata": {
        "id": "QPyC2xJ6alp-"
      }
    },
    {
      "cell_type": "code",
      "source": [
        "# building function for the model\n",
        "def build_models():\n",
        "    \n",
        "#     creating dic of models\n",
        "    models = dict()\n",
        "    \n",
        "#     specifying the depth of trees\n",
        "    for i in np.arange(0, 1.1, 0.1):\n",
        "        \n",
        "#         appending the models\n",
        "        models[str(i)] = XGBClassifier(max_depth = 7, # the larger the more prone to overfit, range 3-10 \n",
        "                            learning_rate = 0.1, # range [0,1], typically=0.01-0.2 \n",
        "                            n_estimators = 600,\n",
        "                            verbosity = 2,\n",
        "                            objective = \"multi:softmax\",\n",
        "                            booster = \"gbtree\", # gblinear or dart\n",
        "                            n_jobs = 1,\n",
        "                            gamma = 0, \n",
        "                            # Minimum loss reduction required to split. range=[0,inf],\n",
        "                            # The larger gamma is, the more conservative the algorithm will be.\n",
        "                            min_child_weight = 0, # used to restrict overfitting\n",
        "                            max_delta_step = 0,\n",
        "                            subsample = 0.6, \n",
        "                            colsample_bytree = i, #>>>>>>>>>>>>>>>>>>>>>>>>>>>>>>>>>>> Iterating Through\n",
        "                            colsample_bylevel = i,\n",
        "                            colsample_bynode = i,\n",
        "                            reg_alpha = 0,\n",
        "                            reg_lambda = 1,\n",
        "                            scale_pos_weight = 0.5, #[default=1]\n",
        "                            random_state = 17,\n",
        "        )\n",
        "        \n",
        "#   returining the model\n",
        "    return models"
      ],
      "metadata": {
        "id": "Up-hOKcxavDZ"
      },
      "execution_count": null,
      "outputs": []
    },
    {
      "cell_type": "code",
      "source": [
        "# calling the function\n",
        "models = {}\n",
        "models = build_models()\n",
        "\n",
        "# creating lists \n",
        "results, names = list(), list()\n",
        "\n",
        "# iterating through the models\n",
        "for name, model in models.items():\n",
        "    \n",
        "    # calling the evalution function\n",
        "    accuracy = evaluate_model(model, x_train, y_train)\n",
        "    \n",
        "    # appending the results\n",
        "    results.append(accuracy)\n",
        "    names.append(name)\n",
        "    \n",
        "#     printing - Hyperparameter tuning of XGBoost\n",
        "    print('Portion of Features Selected - colsample_by (%s)---Accuracy( %.5f)' % (name, np.mean(accuracy)))"
      ],
      "metadata": {
        "colab": {
          "base_uri": "https://localhost:8080/"
        },
        "id": "FRRrCANmazaD",
        "outputId": "18ba7190-003a-4a50-89f4-cb05dc264a3b"
      },
      "execution_count": null,
      "outputs": [
        {
          "output_type": "stream",
          "name": "stdout",
          "text": [
            "Portion of Features Selected - colsample_by (0.0)---Accuracy( 0.76839)\n",
            "Portion of Features Selected - colsample_by (0.1)---Accuracy( 0.79055)\n",
            "Portion of Features Selected - colsample_by (0.2)---Accuracy( 0.79611)\n",
            "Portion of Features Selected - colsample_by (0.30000000000000004)---Accuracy( 0.79622)\n",
            "Portion of Features Selected - colsample_by (0.4)---Accuracy( 0.80168)\n",
            "Portion of Features Selected - colsample_by (0.5)---Accuracy( 0.80524)\n",
            "Portion of Features Selected - colsample_by (0.6000000000000001)---Accuracy( 0.80404)\n",
            "Portion of Features Selected - colsample_by (0.7000000000000001)---Accuracy( 0.80337)\n",
            "Portion of Features Selected - colsample_by (0.8)---Accuracy( 0.80324)\n",
            "Portion of Features Selected - colsample_by (0.9)---Accuracy( 0.80206)\n",
            "Portion of Features Selected - colsample_by (1.0)---Accuracy( 0.80236)\n"
          ]
        }
      ]
    },
    {
      "cell_type": "code",
      "source": [
        "# plotting box plot of the \n",
        "plt.boxplot(results, labels=names,showmeans=True)\n",
        "\n",
        "# showing the plot\n",
        "plt.show()"
      ],
      "metadata": {
        "colab": {
          "base_uri": "https://localhost:8080/",
          "height": 265
        },
        "id": "FZJKQQO5kmtA",
        "outputId": "7a2d4b5e-a122-49c2-fde2-a6a23e9a419c"
      },
      "execution_count": null,
      "outputs": [
        {
          "output_type": "display_data",
          "data": {
            "text/plain": [
              "<Figure size 432x288 with 1 Axes>"
            ],
            "image/png": "[encoded data removed]"
          },
          "metadata": {
            "needs_background": "light"
          }
        }
      ]
    },
    {
      "cell_type": "markdown",
      "source": [
        "####4.3.1.7- Finding the optimum scale_pos_weight"
      ],
      "metadata": {
        "id": "bn5QSX7gmako"
      }
    },
    {
      "cell_type": "code",
      "source": [
        "# building function for the model\n",
        "def build_models():\n",
        "    \n",
        "#     creating dic of models\n",
        "    models = dict()\n",
        "    \n",
        "#     specifying the depth of trees\n",
        "    for i in np.arange(0.1, 1.1, 0.1):\n",
        "        \n",
        "#         appending the models\n",
        "        models[str(i)] = XGBClassifier(max_depth = 7, # the larger the more prone to overfit, range 3-10 \n",
        "                            learning_rate = 0.1, # range [0,1], typically=0.01-0.2 \n",
        "                            n_estimators = 600,\n",
        "                            verbosity = 2,\n",
        "                            objective = \"multi:softmax\",\n",
        "                            booster = \"gbtree\", # gblinear or dart\n",
        "                            n_jobs = 1,\n",
        "                            gamma = 0, \n",
        "                            # Minimum loss reduction required to split. range=[0,inf],\n",
        "                            # The larger gamma is, the more conservative the algorithm will be.\n",
        "                            min_child_weight = 1, # used to restrict overfitting\n",
        "                            max_delta_step = 0,\n",
        "                            subsample = 0.6, \n",
        "                            colsample_bytree = 0.5, \n",
        "                            colsample_bylevel = 0.5,\n",
        "                            colsample_bynode = 0.5,\n",
        "                            reg_alpha = 0,\n",
        "                            reg_lambda = 1,\n",
        "                            scale_pos_weight = i, #[default=1] #>>>>>>>>>>>>>>>>>>>>>>>>>>>>>>>>>>> Iterating Through\n",
        "                            random_state = 17,\n",
        "        )\n",
        "        \n",
        "#   returining the model\n",
        "    return models"
      ],
      "metadata": {
        "id": "M0D3tz_WmkTX"
      },
      "execution_count": null,
      "outputs": []
    },
    {
      "cell_type": "code",
      "source": [
        "# calling the function\n",
        "models = {}\n",
        "models = build_models()\n",
        "\n",
        "# creating lists \n",
        "results, names = list(), list()\n",
        "\n",
        "# iterating through the models\n",
        "for name, model in models.items():\n",
        "    \n",
        "    # calling the evalution function\n",
        "    accuracy = evaluate_model(model, x_train, y_train)\n",
        "    \n",
        "    # appending the results\n",
        "    results.append(accuracy)\n",
        "    names.append(name)\n",
        "    \n",
        "#     printing - Hyperparameter tuning of XGBoost\n",
        "    print('scale_pos_weight - colsample_by (%s)---Accuracy( %.5f)' % (name, np.mean(accuracy)))"
      ],
      "metadata": {
        "colab": {
          "base_uri": "https://localhost:8080/"
        },
        "id": "kf7T9K_OmmMI",
        "outputId": "fd63cba1-e3fb-46e7-bf68-518483b08ec8"
      },
      "execution_count": null,
      "outputs": [
        {
          "output_type": "stream",
          "name": "stdout",
          "text": [
            "scale_pos_weight - colsample_by (0.1)---Accuracy( 0.80395)\n",
            "scale_pos_weight - colsample_by (0.2)---Accuracy( 0.80309)\n",
            "scale_pos_weight - colsample_by (0.30000000000000004)---Accuracy( 0.80305)\n",
            "scale_pos_weight - colsample_by (0.4)---Accuracy( 0.80374)\n",
            "scale_pos_weight - colsample_by (0.5)---Accuracy( 0.80271)\n",
            "scale_pos_weight - colsample_by (0.6)---Accuracy( 0.80397)\n",
            "scale_pos_weight - colsample_by (0.7000000000000001)---Accuracy( 0.80116)\n",
            "scale_pos_weight - colsample_by (0.8)---Accuracy( 0.80385)\n",
            "scale_pos_weight - colsample_by (0.9)---Accuracy( 0.80370)\n",
            "scale_pos_weight - colsample_by (1.0)---Accuracy( 0.80383)\n"
          ]
        }
      ]
    },
    {
      "cell_type": "code",
      "source": [
        "# plotting box plot of the \n",
        "plt.boxplot(results, labels=names,showmeans=True)\n",
        "\n",
        "# showing the plot\n",
        "plt.show()"
      ],
      "metadata": {
        "colab": {
          "base_uri": "https://localhost:8080/",
          "height": 265
        },
        "id": "ufthZ7J3mpqv",
        "outputId": "12359597-fa41-4e76-8b4a-28bd2fd87997"
      },
      "execution_count": null,
      "outputs": [
        {
          "output_type": "display_data",
          "data": {
            "text/plain": [
              "<Figure size 432x288 with 1 Axes>"
            ],
            "image/png": "[encoded data removed]"
          },
          "metadata": {
            "needs_background": "light"
          }
        }
      ]
    },
    {
      "cell_type": "markdown",
      "source": [
        "###4.3.2- GridSearchCV for Hyperparameter tuning of XGBoost"
      ],
      "metadata": {
        "id": "Kf5dH8oTprub"
      }
    },
    {
      "cell_type": "code",
      "source": [
        "# defiing the model\n",
        "model = XGBClassifier( \n",
        "                            verbosity = 2,\n",
        "                            objective = \"multi:softmax\",\n",
        "                            booster = \"gbtree\", # gblinear or dart\n",
        "                            n_jobs = 1,\n",
        "                            colsample_bytree = 0.5, \n",
        "                            colsample_bylevel = 0.5,\n",
        "                            colsample_bynode = 0.5,\n",
        "                            scale_pos_weight = 0.6, #[default=1] \n",
        "                            random_state = 17,)\n",
        "\n",
        "\n",
        "# creating a dict of grids\n",
        "grid = dict()\n",
        "\n",
        "# values for iteration\n",
        "grid['n_estimators'] = [400, 500, 600, 700]\n",
        "\n",
        "# values for learning rate\n",
        "grid['learning_rate'] = [0.08, 0.09, 0.1]\n",
        "\n",
        "# values for the sampel\n",
        "grid['subsample'] = [0.3, 0.4, 0.5, 0.6]\n",
        "\n",
        "# values for teh depth of tree\n",
        "grid['max_depth'] = [6, 7, 8, 9]"
      ],
      "metadata": {
        "id": "Zj0iUQ6oprQa"
      },
      "execution_count": null,
      "outputs": []
    },
    {
      "cell_type": "code",
      "source": [
        "# defining the cv\n",
        "cv = RepeatedStratifiedKFold(n_splits=3, n_repeats=1)\n",
        "\n",
        "\n",
        "# applying the gridsearchcv method\n",
        "grid_search = GridSearchCV(estimator=model, param_grid=grid, n_jobs=-1, cv=cv, scoring='accuracy')\n",
        "\n",
        "# storing the values\n",
        "grid_result = grid_search.fit(x_train, y_train)\n",
        "\n",
        "\n",
        "# printing the best parameters - Hyperparameter tuning of XGBoost\n",
        "print(\"Accuracy score: %f using %s\" % (grid_result.best_score_, grid_result.best_params_))"
      ],
      "metadata": {
        "id": "TZjw22dNpxYJ"
      },
      "execution_count": null,
      "outputs": []
    },
    {
      "cell_type": "markdown",
      "source": [
        "###f\n",
        "https://kevinvecmanis.io/machine%20learning/hyperparameter%20tuning/dataviz/python/2019/05/11/XGBoost-Tuning-Visual-Guide.html\n",
        "\n",
        "https://www.kaggle.com/code/prashant111/a-guide-on-xgboost-hyperparameters-tuning/notebook"
      ],
      "metadata": {
        "id": "rWIZxNn0P6Sx"
      }
    },
    {
      "cell_type": "code",
      "source": [
        "    params = {'max_depth': [3, 6, 10],\n",
        "              #'learning_rate': [0.01, 0.1, 0.2, 0.3, 0.4],\n",
        "              #'subsample': np.arange(0.5, 1.0, 0.1),\n",
        "              'colsample_bytree': np.arange(0.5, 1.0, 0.1),\n",
        "              'colsample_bylevel': np.arange(0.5, 1.0, 0.1),\n",
        "              # 'n_estimators': [100, 250, 500, 750],\n",
        "              }"
      ],
      "metadata": {
        "id": "o6l-NCVsP8bK"
      },
      "execution_count": null,
      "outputs": []
    },
    {
      "cell_type": "code",
      "source": [
        "    xgbclf = xgb.XGBClassifier(objective=\"multi:softmax\", tree_method='hist')\n",
        "    clf = RandomizedSearchCV(estimator=xgbclf,\n",
        "                             param_distributions=params,\n",
        "                             scoring='accuracy',\n",
        "                             n_iter=5,\n",
        "                             n_jobs=4,\n",
        "                             verbose=3)"
      ],
      "metadata": {
        "id": "rv6QvoduQIix"
      },
      "execution_count": null,
      "outputs": []
    },
    {
      "cell_type": "code",
      "source": [
        "    clf.fit(x_train, y_train)\n",
        "\n",
        "    best_combination = clf.best_params_\n",
        "    print(\"Best hyperparameter combination: \", best_combination)"
      ],
      "metadata": {
        "colab": {
          "base_uri": "https://localhost:8080/",
          "height": 381
        },
        "id": "bAEqvfEqQPG4",
        "outputId": "506fa19e-442d-4586-fe8c-4c2a4d958ef0"
      },
      "execution_count": null,
      "outputs": [
        {
          "output_type": "stream",
          "name": "stdout",
          "text": [
            "Fitting 5 folds for each of 5 candidates, totalling 25 fits\n"
          ]
        },
        {
          "output_type": "error",
          "ename": "KeyboardInterrupt",
          "evalue": "ignored",
          "traceback": [
            "\u001b[0;31m---------------------------------------------------------------------------\u001b[0m",
            "\u001b[0;31mKeyboardInterrupt\u001b[0m                         Traceback (most recent call last)",
            "\u001b[0;32m<ipython-input-174-e8fe738da75d>\u001b[0m in \u001b[0;36m<module>\u001b[0;34m\u001b[0m\n\u001b[0;32m----> 1\u001b[0;31m \u001b[0mclf\u001b[0m\u001b[0;34m.\u001b[0m\u001b[0mfit\u001b[0m\u001b[0;34m(\u001b[0m\u001b[0mx_train\u001b[0m\u001b[0;34m,\u001b[0m \u001b[0my_train\u001b[0m\u001b[0;34m)\u001b[0m\u001b[0;34m\u001b[0m\u001b[0;34m\u001b[0m\u001b[0m\n\u001b[0m\u001b[1;32m      2\u001b[0m \u001b[0;34m\u001b[0m\u001b[0m\n\u001b[1;32m      3\u001b[0m \u001b[0mbest_combination\u001b[0m \u001b[0;34m=\u001b[0m \u001b[0mclf\u001b[0m\u001b[0;34m.\u001b[0m\u001b[0mbest_params_\u001b[0m\u001b[0;34m\u001b[0m\u001b[0;34m\u001b[0m\u001b[0m\n\u001b[1;32m      4\u001b[0m \u001b[0mprint\u001b[0m\u001b[0;34m(\u001b[0m\u001b[0;34m\"Best hyperparameter combination: \"\u001b[0m\u001b[0;34m,\u001b[0m \u001b[0mbest_combination\u001b[0m\u001b[0;34m)\u001b[0m\u001b[0;34m\u001b[0m\u001b[0;34m\u001b[0m\u001b[0m\n",
            "\u001b[0;32m/usr/local/lib/python3.7/dist-packages/sklearn/model_selection/_search.py\u001b[0m in \u001b[0;36mfit\u001b[0;34m(self, X, y, groups, **fit_params)\u001b[0m\n\u001b[1;32m    889\u001b[0m                 \u001b[0;32mreturn\u001b[0m \u001b[0mresults\u001b[0m\u001b[0;34m\u001b[0m\u001b[0;34m\u001b[0m\u001b[0m\n\u001b[1;32m    890\u001b[0m \u001b[0;34m\u001b[0m\u001b[0m\n\u001b[0;32m--> 891\u001b[0;31m             \u001b[0mself\u001b[0m\u001b[0;34m.\u001b[0m\u001b[0m_run_search\u001b[0m\u001b[0;34m(\u001b[0m\u001b[0mevaluate_candidates\u001b[0m\u001b[0;34m)\u001b[0m\u001b[0;34m\u001b[0m\u001b[0;34m\u001b[0m\u001b[0m\n\u001b[0m\u001b[1;32m    892\u001b[0m \u001b[0;34m\u001b[0m\u001b[0m\n\u001b[1;32m    893\u001b[0m             \u001b[0;31m# multimetric is determined here because in the case of a callable\u001b[0m\u001b[0;34m\u001b[0m\u001b[0;34m\u001b[0m\u001b[0;34m\u001b[0m\u001b[0m\n",
            "\u001b[0;32m/usr/local/lib/python3.7/dist-packages/sklearn/model_selection/_search.py\u001b[0m in \u001b[0;36m_run_search\u001b[0;34m(self, evaluate_candidates)\u001b[0m\n\u001b[1;32m   1766\u001b[0m         evaluate_candidates(\n\u001b[1;32m   1767\u001b[0m             ParameterSampler(\n\u001b[0;32m-> 1768\u001b[0;31m                 \u001b[0mself\u001b[0m\u001b[0;34m.\u001b[0m\u001b[0mparam_distributions\u001b[0m\u001b[0;34m,\u001b[0m \u001b[0mself\u001b[0m\u001b[0;34m.\u001b[0m\u001b[0mn_iter\u001b[0m\u001b[0;34m,\u001b[0m \u001b[0mrandom_state\u001b[0m\u001b[0;34m=\u001b[0m\u001b[0mself\u001b[0m\u001b[0;34m.\u001b[0m\u001b[0mrandom_state\u001b[0m\u001b[0;34m\u001b[0m\u001b[0;34m\u001b[0m\u001b[0m\n\u001b[0m\u001b[1;32m   1769\u001b[0m             )\n\u001b[1;32m   1770\u001b[0m         )\n",
            "\u001b[0;32m/usr/local/lib/python3.7/dist-packages/sklearn/model_selection/_search.py\u001b[0m in \u001b[0;36mevaluate_candidates\u001b[0;34m(candidate_params, cv, more_results)\u001b[0m\n\u001b[1;32m    849\u001b[0m                     )\n\u001b[1;32m    850\u001b[0m                     for (cand_idx, parameters), (split_idx, (train, test)) in product(\n\u001b[0;32m--> 851\u001b[0;31m                         \u001b[0menumerate\u001b[0m\u001b[0;34m(\u001b[0m\u001b[0mcandidate_params\u001b[0m\u001b[0;34m)\u001b[0m\u001b[0;34m,\u001b[0m \u001b[0menumerate\u001b[0m\u001b[0;34m(\u001b[0m\u001b[0mcv\u001b[0m\u001b[0;34m.\u001b[0m\u001b[0msplit\u001b[0m\u001b[0;34m(\u001b[0m\u001b[0mX\u001b[0m\u001b[0;34m,\u001b[0m \u001b[0my\u001b[0m\u001b[0;34m,\u001b[0m \u001b[0mgroups\u001b[0m\u001b[0;34m)\u001b[0m\u001b[0;34m)\u001b[0m\u001b[0;34m\u001b[0m\u001b[0;34m\u001b[0m\u001b[0m\n\u001b[0m\u001b[1;32m    852\u001b[0m                     )\n\u001b[1;32m    853\u001b[0m                 )\n",
            "\u001b[0;32m/usr/local/lib/python3.7/dist-packages/joblib/parallel.py\u001b[0m in \u001b[0;36m__call__\u001b[0;34m(self, iterable)\u001b[0m\n\u001b[1;32m   1096\u001b[0m \u001b[0;34m\u001b[0m\u001b[0m\n\u001b[1;32m   1097\u001b[0m             \u001b[0;32mwith\u001b[0m \u001b[0mself\u001b[0m\u001b[0;34m.\u001b[0m\u001b[0m_backend\u001b[0m\u001b[0;34m.\u001b[0m\u001b[0mretrieval_context\u001b[0m\u001b[0;34m(\u001b[0m\u001b[0;34m)\u001b[0m\u001b[0;34m:\u001b[0m\u001b[0;34m\u001b[0m\u001b[0;34m\u001b[0m\u001b[0m\n\u001b[0;32m-> 1098\u001b[0;31m                 \u001b[0mself\u001b[0m\u001b[0;34m.\u001b[0m\u001b[0mretrieve\u001b[0m\u001b[0;34m(\u001b[0m\u001b[0;34m)\u001b[0m\u001b[0;34m\u001b[0m\u001b[0;34m\u001b[0m\u001b[0m\n\u001b[0m\u001b[1;32m   1099\u001b[0m             \u001b[0;31m# Make sure that we get a last message telling us we are done\u001b[0m\u001b[0;34m\u001b[0m\u001b[0;34m\u001b[0m\u001b[0;34m\u001b[0m\u001b[0m\n\u001b[1;32m   1100\u001b[0m             \u001b[0melapsed_time\u001b[0m \u001b[0;34m=\u001b[0m \u001b[0mtime\u001b[0m\u001b[0;34m.\u001b[0m\u001b[0mtime\u001b[0m\u001b[0;34m(\u001b[0m\u001b[0;34m)\u001b[0m \u001b[0;34m-\u001b[0m \u001b[0mself\u001b[0m\u001b[0;34m.\u001b[0m\u001b[0m_start_time\u001b[0m\u001b[0;34m\u001b[0m\u001b[0;34m\u001b[0m\u001b[0m\n",
            "\u001b[0;32m/usr/local/lib/python3.7/dist-packages/joblib/parallel.py\u001b[0m in \u001b[0;36mretrieve\u001b[0;34m(self)\u001b[0m\n\u001b[1;32m    973\u001b[0m             \u001b[0;32mtry\u001b[0m\u001b[0;34m:\u001b[0m\u001b[0;34m\u001b[0m\u001b[0;34m\u001b[0m\u001b[0m\n\u001b[1;32m    974\u001b[0m                 \u001b[0;32mif\u001b[0m \u001b[0mgetattr\u001b[0m\u001b[0;34m(\u001b[0m\u001b[0mself\u001b[0m\u001b[0;34m.\u001b[0m\u001b[0m_backend\u001b[0m\u001b[0;34m,\u001b[0m \u001b[0;34m'supports_timeout'\u001b[0m\u001b[0;34m,\u001b[0m \u001b[0;32mFalse\u001b[0m\u001b[0;34m)\u001b[0m\u001b[0;34m:\u001b[0m\u001b[0;34m\u001b[0m\u001b[0;34m\u001b[0m\u001b[0m\n\u001b[0;32m--> 975\u001b[0;31m                     \u001b[0mself\u001b[0m\u001b[0;34m.\u001b[0m\u001b[0m_output\u001b[0m\u001b[0;34m.\u001b[0m\u001b[0mextend\u001b[0m\u001b[0;34m(\u001b[0m\u001b[0mjob\u001b[0m\u001b[0;34m.\u001b[0m\u001b[0mget\u001b[0m\u001b[0;34m(\u001b[0m\u001b[0mtimeout\u001b[0m\u001b[0;34m=\u001b[0m\u001b[0mself\u001b[0m\u001b[0;34m.\u001b[0m\u001b[0mtimeout\u001b[0m\u001b[0;34m)\u001b[0m\u001b[0;34m)\u001b[0m\u001b[0;34m\u001b[0m\u001b[0;34m\u001b[0m\u001b[0m\n\u001b[0m\u001b[1;32m    976\u001b[0m                 \u001b[0;32melse\u001b[0m\u001b[0;34m:\u001b[0m\u001b[0;34m\u001b[0m\u001b[0;34m\u001b[0m\u001b[0m\n\u001b[1;32m    977\u001b[0m                     \u001b[0mself\u001b[0m\u001b[0;34m.\u001b[0m\u001b[0m_output\u001b[0m\u001b[0;34m.\u001b[0m\u001b[0mextend\u001b[0m\u001b[0;34m(\u001b[0m\u001b[0mjob\u001b[0m\u001b[0;34m.\u001b[0m\u001b[0mget\u001b[0m\u001b[0;34m(\u001b[0m\u001b[0;34m)\u001b[0m\u001b[0;34m)\u001b[0m\u001b[0;34m\u001b[0m\u001b[0;34m\u001b[0m\u001b[0m\n",
            "\u001b[0;32m/usr/local/lib/python3.7/dist-packages/joblib/_parallel_backends.py\u001b[0m in \u001b[0;36mwrap_future_result\u001b[0;34m(future, timeout)\u001b[0m\n\u001b[1;32m    565\u001b[0m         AsyncResults.get from multiprocessing.\"\"\"\n\u001b[1;32m    566\u001b[0m         \u001b[0;32mtry\u001b[0m\u001b[0;34m:\u001b[0m\u001b[0;34m\u001b[0m\u001b[0;34m\u001b[0m\u001b[0m\n\u001b[0;32m--> 567\u001b[0;31m             \u001b[0;32mreturn\u001b[0m \u001b[0mfuture\u001b[0m\u001b[0;34m.\u001b[0m\u001b[0mresult\u001b[0m\u001b[0;34m(\u001b[0m\u001b[0mtimeout\u001b[0m\u001b[0;34m=\u001b[0m\u001b[0mtimeout\u001b[0m\u001b[0;34m)\u001b[0m\u001b[0;34m\u001b[0m\u001b[0;34m\u001b[0m\u001b[0m\n\u001b[0m\u001b[1;32m    568\u001b[0m         \u001b[0;32mexcept\u001b[0m \u001b[0mCfTimeoutError\u001b[0m \u001b[0;32mas\u001b[0m \u001b[0me\u001b[0m\u001b[0;34m:\u001b[0m\u001b[0;34m\u001b[0m\u001b[0;34m\u001b[0m\u001b[0m\n\u001b[1;32m    569\u001b[0m             \u001b[0;32mraise\u001b[0m \u001b[0mTimeoutError\u001b[0m \u001b[0;32mfrom\u001b[0m \u001b[0me\u001b[0m\u001b[0;34m\u001b[0m\u001b[0;34m\u001b[0m\u001b[0m\n",
            "\u001b[0;32m/usr/lib/python3.7/concurrent/futures/_base.py\u001b[0m in \u001b[0;36mresult\u001b[0;34m(self, timeout)\u001b[0m\n\u001b[1;32m    428\u001b[0m                 \u001b[0;32mreturn\u001b[0m \u001b[0mself\u001b[0m\u001b[0;34m.\u001b[0m\u001b[0m__get_result\u001b[0m\u001b[0;34m(\u001b[0m\u001b[0;34m)\u001b[0m\u001b[0;34m\u001b[0m\u001b[0;34m\u001b[0m\u001b[0m\n\u001b[1;32m    429\u001b[0m \u001b[0;34m\u001b[0m\u001b[0m\n\u001b[0;32m--> 430\u001b[0;31m             \u001b[0mself\u001b[0m\u001b[0;34m.\u001b[0m\u001b[0m_condition\u001b[0m\u001b[0;34m.\u001b[0m\u001b[0mwait\u001b[0m\u001b[0;34m(\u001b[0m\u001b[0mtimeout\u001b[0m\u001b[0;34m)\u001b[0m\u001b[0;34m\u001b[0m\u001b[0;34m\u001b[0m\u001b[0m\n\u001b[0m\u001b[1;32m    431\u001b[0m \u001b[0;34m\u001b[0m\u001b[0m\n\u001b[1;32m    432\u001b[0m             \u001b[0;32mif\u001b[0m \u001b[0mself\u001b[0m\u001b[0;34m.\u001b[0m\u001b[0m_state\u001b[0m \u001b[0;32min\u001b[0m \u001b[0;34m[\u001b[0m\u001b[0mCANCELLED\u001b[0m\u001b[0;34m,\u001b[0m \u001b[0mCANCELLED_AND_NOTIFIED\u001b[0m\u001b[0;34m]\u001b[0m\u001b[0;34m:\u001b[0m\u001b[0;34m\u001b[0m\u001b[0;34m\u001b[0m\u001b[0m\n",
            "\u001b[0;32m/usr/lib/python3.7/threading.py\u001b[0m in \u001b[0;36mwait\u001b[0;34m(self, timeout)\u001b[0m\n\u001b[1;32m    294\u001b[0m         \u001b[0;32mtry\u001b[0m\u001b[0;34m:\u001b[0m    \u001b[0;31m# restore state no matter what (e.g., KeyboardInterrupt)\u001b[0m\u001b[0;34m\u001b[0m\u001b[0;34m\u001b[0m\u001b[0m\n\u001b[1;32m    295\u001b[0m             \u001b[0;32mif\u001b[0m \u001b[0mtimeout\u001b[0m \u001b[0;32mis\u001b[0m \u001b[0;32mNone\u001b[0m\u001b[0;34m:\u001b[0m\u001b[0;34m\u001b[0m\u001b[0;34m\u001b[0m\u001b[0m\n\u001b[0;32m--> 296\u001b[0;31m                 \u001b[0mwaiter\u001b[0m\u001b[0;34m.\u001b[0m\u001b[0macquire\u001b[0m\u001b[0;34m(\u001b[0m\u001b[0;34m)\u001b[0m\u001b[0;34m\u001b[0m\u001b[0;34m\u001b[0m\u001b[0m\n\u001b[0m\u001b[1;32m    297\u001b[0m                 \u001b[0mgotit\u001b[0m \u001b[0;34m=\u001b[0m \u001b[0;32mTrue\u001b[0m\u001b[0;34m\u001b[0m\u001b[0;34m\u001b[0m\u001b[0m\n\u001b[1;32m    298\u001b[0m             \u001b[0;32melse\u001b[0m\u001b[0;34m:\u001b[0m\u001b[0;34m\u001b[0m\u001b[0;34m\u001b[0m\u001b[0m\n",
            "\u001b[0;31mKeyboardInterrupt\u001b[0m: "
          ]
        }
      ]
    },
    {
      "cell_type": "markdown",
      "source": [
        "### Step 1: Fix learning rate and number of estimators for tuning tree-based parameters\n",
        "max_depth = 5 : This should be between 3-10. I’ve started with 5 but you can choose a different number as well. 4-6 can be good starting points.\n",
        "\n",
        "min_child_weight = 1 : A smaller value is chosen because it is a highly imbalanced class problem and leaf nodes can have smaller size groups.\n",
        "\n",
        "gamma = 0 : A smaller value like 0.1-0.2 can also be chosen for starting. This will anyways be tuned later.\n",
        "\n",
        "subsample, colsample_bytree = 0.8 : This is a commonly used used start value. Typical values range between 0.5-0.9.\n",
        "\n",
        "scale_pos_weight = 1: Because of high class imbalance.\n",
        "\n",
        "Lets take the default learning rate of 0.1 here and check the optimum number of trees using cv function of xgboost. The function defined above will do it for us."
      ],
      "metadata": {
        "id": "wBGvAqPU67AG"
      }
    },
    {
      "cell_type": "markdown",
      "source": [
        "###4.3.3 Fitting the Optimum Model"
      ],
      "metadata": {
        "id": "dnsd0Z1E0vhs"
      }
    },
    {
      "cell_type": "code",
      "source": [
        "xgboost_clf = XGBClassifier(max_depth = 7, # the larger the more prone to overfit, range 3-10\n",
        "                            learning_rate = 0.1, # range [0,1], typically=0.01-0.2\n",
        "                            n_estimators = 600,\n",
        "                            verbosity = 1,\n",
        "                            objective = \"multi:softmax\",\n",
        "                            booster = \"gbtree\", # gblinear or dart\n",
        "                            n_jobs = 1,\n",
        "                            gamma = 0, \n",
        "                            # Minimum loss reduction required to split. range=[0,inf],\n",
        "                            # The larger gamma is, the more conservative the algorithm will be.\n",
        "                            min_child_weight = 1, # used to restrict overfitting\n",
        "                            max_delta_step = 0,\n",
        "                            subsample = 0.6,\n",
        "                            colsample_bytree = 0.5,\n",
        "                            colsample_bylevel = 0.5,\n",
        "                            colsample_bynode = 0.5,\n",
        "                            reg_alpha = 0,\n",
        "                            reg_lambda = 1,\n",
        "                            scale_pos_weight = 0.5, #[default=1]\n",
        "                            random_state = 17,\n",
        "                            \n",
        ")"
      ],
      "metadata": {
        "id": "g3zvBkrM05B9"
      },
      "execution_count": null,
      "outputs": []
    },
    {
      "cell_type": "code",
      "source": [
        "xgboost_clf.fit(x_train,y_train)"
      ],
      "metadata": {
        "colab": {
          "base_uri": "https://localhost:8080/"
        },
        "id": "fobdUKxH1SHE",
        "outputId": "dbff846e-480e-4385-d961-35cc4988c033"
      },
      "execution_count": null,
      "outputs": [
        {
          "output_type": "execute_result",
          "data": {
            "text/plain": [
              "XGBClassifier(colsample_bytree=0.5, max_depth=8, min_child_weight=0,\n",
              "              n_estimators=600, objective='multi:softprob', random_state=17,\n",
              "              scale_pos_weight=0.5, subsample=0.6)"
            ]
          },
          "metadata": {},
          "execution_count": 105
        }
      ]
    },
    {
      "cell_type": "code",
      "source": [
        "xgboost_preds = xgboost_clf.predict(x_valid)"
      ],
      "metadata": {
        "id": "UTB_mi7i1Y4b"
      },
      "execution_count": null,
      "outputs": []
    },
    {
      "cell_type": "code",
      "source": [
        "print(classification_report(y_valid, xgboost_preds))\n",
        "\n",
        "# Plot confusion matrix\n",
        "fig, ax = plt.subplots(figsize=(8, 5))\n",
        "cmp = ConfusionMatrixDisplay(\n",
        "    confusion_matrix(y_valid, xgboost_preds),\n",
        "    display_labels=[\"functional\", \"non_functional\", \"func_needs_repair\"],\n",
        ")\n",
        "\n",
        "cmp.plot(ax=ax)\n",
        "plt.show();"
      ],
      "metadata": {
        "colab": {
          "base_uri": "https://localhost:8080/",
          "height": 509
        },
        "id": "eStzmbWb_o7C",
        "outputId": "a0c337a8-9d83-4366-d569-b8173712ae1f"
      },
      "execution_count": null,
      "outputs": [
        {
          "output_type": "stream",
          "name": "stdout",
          "text": [
            "              precision    recall  f1-score   support\n",
            "\n",
            "           0       0.81      0.90      0.85      3226\n",
            "           1       0.57      0.32      0.41       432\n",
            "           2       0.85      0.79      0.82      2282\n",
            "\n",
            "    accuracy                           0.82      5940\n",
            "   macro avg       0.75      0.67      0.70      5940\n",
            "weighted avg       0.81      0.82      0.81      5940\n",
            "\n"
          ]
        },
        {
          "output_type": "display_data",
          "data": {
            "text/plain": [
              "<Figure size 576x360 with 2 Axes>"
            ],
            "image/png": "[encoded data removed]"
          },
          "metadata": {
            "needs_background": "light"
          }
        }
      ]
    },
    {
      "cell_type": "code",
      "source": [
        "# importing modules\n",
        "import matplotlib.pyplot as plt\n",
        "from sklearn.metrics import confusion_matrix, ConfusionMatrixDisplay\n",
        "# <a href=\"https://techfor-today.com/sklearn-confusion-matrix-in-machine-learning/\">confusion matrix</a> plotting\n",
        "cm = confusion_matrix(y_valid,xgboost_preds, labels=xgboost_clf.classes_)\n",
        "# labelling\n",
        "disp = ConfusionMatrixDisplay(confusion_matrix=cm, display_labels=xgboost_clf.classes_)\n",
        "disp.plot()\n",
        "plt.show()"
      ],
      "metadata": {
        "id": "wuPBLW2Y1fNd"
      },
      "execution_count": null,
      "outputs": []
    },
    {
      "cell_type": "markdown",
      "source": [
        "##4.4- LightGBM\n",
        "Light Gradient Boosting Machine. It is a supervised boosting algorithm that works in a similar way as the XGBoost algorithm does but with some advanced features that makes it more powerful and fast.\n",
        "\n",
        "Don’t need to handle the NULL value explicitly in the data preprocessing step while using the LightGBM algorithm as it also handles NULL values automatically.\n",
        "\n",
        "It uses a histogram-based algorithm for the splitting of nodes and Gradient-Based One Side Sampling (GOSS) for the sampling."
      ],
      "metadata": {
        "id": "YNe4TGdxtPK_"
      }
    },
    {
      "cell_type": "markdown",
      "source": [
        "###4.4.1- Hyperparameter tuning of LightGBM"
      ],
      "metadata": {
        "id": "sUtrurQhtnEb"
      }
    },
    {
      "cell_type": "markdown",
      "source": [
        "####4.4.1.1- Finding the optimum number of iterations in LightGBM"
      ],
      "metadata": {
        "id": "g6MHWVe0uL5P"
      }
    },
    {
      "cell_type": "code",
      "source": [
        "# function for the validation of model\n",
        "def evaluate_model(model, Input, Ouput):\n",
        "    \n",
        "    # defining the method of validation\n",
        "    cv = RepeatedStratifiedKFold(n_splits=10, n_repeats=3)\n",
        "    \n",
        "    \n",
        "    # validating the model based on the accurasy score\n",
        "    r_square = cross_val_score(model, Input, Ouput, scoring='r2', cv=cv, n_jobs=-1)\n",
        "    \n",
        "#     returning the accuracy score\n",
        "    return r_square"
      ],
      "metadata": {
        "id": "6Bhb1Vr2znfb"
      },
      "execution_count": null,
      "outputs": []
    },
    {
      "cell_type": "code",
      "source": [
        "# fuction to create models\n",
        "def build_models():\n",
        "    \n",
        "#     dic of models\n",
        "    models = dict()\n",
        "    \n",
        "    # number of decision stumps\n",
        "    decision_stump= [10, 50, 100, 500]\n",
        "        \n",
        "#    using for loop to iterate though trees\n",
        "    for i in decision_stump:\n",
        "        \n",
        "#         building model with specified trees\n",
        "        models[str(i)] = LGBMClassifier(n_estimators=i)\n",
        "    \n",
        "#     returning the model\n",
        "    return models"
      ],
      "metadata": {
        "id": "xzjC5ddzuOhY"
      },
      "execution_count": null,
      "outputs": []
    },
    {
      "cell_type": "code",
      "source": [
        "# calling the build_models function\n",
        "models = build_models()\n",
        "# creating list\n",
        "results, names = list(), list()\n",
        "# using for loop to iterate thoug the models\n",
        "for name, model in models.items():\n",
        "    \n",
        "    # calling the validation function\n",
        "    R_square = evaluate_model(model, x_train, y_train)\n",
        "    \n",
        "    \n",
        "    # appending the accuray socres in results\n",
        "    results.append(R_square)\n",
        "    names.append(name)\n",
        "    \n",
        "    \n",
        "    # printing the accuracy score\n",
        "    print('Iterations (%s)---R-square( %.5f)' % (name, np.mean(R_square)))"
      ],
      "metadata": {
        "colab": {
          "base_uri": "https://localhost:8080/"
        },
        "id": "Ox2nOQZLuQno",
        "outputId": "71bd902d-df64-440d-ff1c-52bdf4b17a2e"
      },
      "execution_count": null,
      "outputs": [
        {
          "output_type": "stream",
          "name": "stdout",
          "text": [
            "Iterations (10)---R-square( 0.06233)\n",
            "Iterations (50)---R-square( 0.21608)\n",
            "Iterations (100)---R-square( 0.26569)\n",
            "Iterations (500)---R-square( 0.34298)\n"
          ]
        }
      ]
    },
    {
      "cell_type": "markdown",
      "source": [
        "####4.4.1.2- Finding the optimum number of Features in LightGBM"
      ],
      "metadata": {
        "id": "LIRULhLsuVJZ"
      }
    },
    {
      "cell_type": "code",
      "source": [
        "# creating the function \n",
        "def build_models():\n",
        "    \n",
        "#     creating dic of models\n",
        "    models = dict()\n",
        "    \n",
        "    # explore features numbers from 1-5\n",
        "    for i in range(1,6):\n",
        "        \n",
        "#         appending the models\n",
        "        models[str(i)] = LGBMClassifier(max_features=i)\n",
        "    \n",
        "#     returining the models\n",
        "    return models"
      ],
      "metadata": {
        "id": "jHIq2eljuYQK"
      },
      "execution_count": null,
      "outputs": []
    },
    {
      "cell_type": "code",
      "source": [
        "# calling the function\n",
        "models = build_models()\n",
        "# creating the list\n",
        "results, names = list(), list()\n",
        "# for loop to iterate through the models\n",
        "for name, model in models.items():\n",
        "    \n",
        "    \n",
        "    # calling the evaluting function\n",
        "    R_square = evaluate_model(model, x_train, y_train)\n",
        "    \n",
        "#     storing the accurcy\n",
        "    results.append(R_square)\n",
        "    names.append(name)\n",
        "    \n",
        "#     printing\n",
        "    print('---->Features(%s)---R_square( %.5f)' % (name, np.mean(R_square)))"
      ],
      "metadata": {
        "id": "1GHFzCCuubcI"
      },
      "execution_count": null,
      "outputs": []
    },
    {
      "cell_type": "code",
      "source": [
        "# plotting box plot of the \n",
        "plt.boxplot(results, labels=names,showmeans=True)\n",
        "# showing the plot\n",
        "plt.show()"
      ],
      "metadata": {
        "id": "Fs-kyFmtude2"
      },
      "execution_count": null,
      "outputs": []
    },
    {
      "cell_type": "markdown",
      "source": [
        "####4.4.1.2- Finding the optimum sample size in LightGBM"
      ],
      "metadata": {
        "id": "hD1tn7EEuftD"
      }
    },
    {
      "cell_type": "code",
      "source": [
        "# creating the function\n",
        "def build_models():\n",
        "    \n",
        "#     dic of models\n",
        "    models = dict()\n",
        "    \n",
        "#     exploring different sample values\n",
        "    for i in np.arange(0.1, 1.1, 0.1):\n",
        "        \n",
        "#         key value\n",
        "        k = '%.1f' % i\n",
        "    \n",
        "#     appending the model\n",
        "        models[k] = LGBMClassifier(subsample=i)\n",
        "    return models"
      ],
      "metadata": {
        "id": "Dx_DY7_Tukoa"
      },
      "execution_count": null,
      "outputs": []
    },
    {
      "cell_type": "code",
      "source": [
        "# calling the function\n",
        "models = build_models()\n",
        "# creating the list\n",
        "results, names = list(), list()\n",
        "# for loop to iterate through the models\n",
        "for name, model in models.items():\n",
        "    \n",
        "    \n",
        "    # calling the evaluting function\n",
        "    R_square = evaluate_model(model, x_train, y_train)\n",
        "    \n",
        "#     storing the accurcy\n",
        "    results.append(R_square)\n",
        "    names.append(name)\n",
        "    \n",
        "#     printing\n",
        "    print('Samples(%s)---R_square( %.5f)' % (name, np.mean(R_square)))"
      ],
      "metadata": {
        "id": "1Vly6-lCukvE"
      },
      "execution_count": null,
      "outputs": []
    },
    {
      "cell_type": "code",
      "source": [
        "# plotting box plot of the \n",
        "plt.boxplot(results, labels=names,showmeans=True)\n",
        "# showing the plot\n",
        "plt.show()"
      ],
      "metadata": {
        "id": "GmwEKrO_uqaw"
      },
      "execution_count": null,
      "outputs": []
    },
    {
      "cell_type": "markdown",
      "source": [
        "####4.4.1.3- Finding the optimum learning rate in LightGBM"
      ],
      "metadata": {
        "id": "HO4gogVpusps"
      }
    },
    {
      "cell_type": "code",
      "source": [
        "# creating function\n",
        "def build_models():\n",
        "    \n",
        "#     creating dic of models\n",
        "    models = dict()\n",
        "    \n",
        "#     different learning rates\n",
        "    for i in [0.0001, 0.001, 0.01, 0.1, 1.0]:\n",
        "        \n",
        "#         key value\n",
        "        k = '%.4f' % i\n",
        "    \n",
        "#     appending the models\n",
        "        models[k] = LGBMClassifier(learning_rate=i)\n",
        "    return models"
      ],
      "metadata": {
        "id": "-ooZPpmUuwLL"
      },
      "execution_count": null,
      "outputs": []
    },
    {
      "cell_type": "code",
      "source": [
        "# calling the function\n",
        "models = build_models()\n",
        "# creating the list\n",
        "results, names = list(), list()\n",
        "# for loop to iterate through the models\n",
        "for name, model in models.items():\n",
        "    \n",
        "    \n",
        "    # calling the evaluting function\n",
        "    R_square = evaluate_model(model, x_train, y_train)\n",
        "    \n",
        "#     storing the accurcy\n",
        "    results.append(R_square)\n",
        "    names.append(name)\n",
        "    \n",
        "#     printing\n",
        "    print('Learning Rate(%s)---R Square( %.5f)' % (name, np.mean(R_square)))"
      ],
      "metadata": {
        "id": "_MuRrVZDuyKI"
      },
      "execution_count": null,
      "outputs": []
    },
    {
      "cell_type": "code",
      "source": [
        "# plotting box plot of the \n",
        "plt.boxplot(results, labels=names,showmeans=True)\n",
        "# showing the plot\n",
        "plt.show()"
      ],
      "metadata": {
        "id": "EishUKEKuz97"
      },
      "execution_count": null,
      "outputs": []
    },
    {
      "cell_type": "markdown",
      "source": [
        "####4.4.1.4- Finding the optimum depth of tree in LightGBM"
      ],
      "metadata": {
        "id": "tlySj6Jpu2Ip"
      }
    },
    {
      "cell_type": "code",
      "source": [
        "# building function for the model\n",
        "def build_models():\n",
        "    \n",
        "#     creating dic of models\n",
        "    models = dict()\n",
        "    \n",
        "#     specifying the depth of trees\n",
        "    for i in range(1,12):\n",
        "        \n",
        "#         appending the models\n",
        "        models[str(i)] = LGBMClassifier(max_depth=i)\n",
        "        \n",
        "#   returining the model\n",
        "    return models"
      ],
      "metadata": {
        "id": "LPEozJGKu4Vu"
      },
      "execution_count": null,
      "outputs": []
    },
    {
      "cell_type": "code",
      "source": [
        "# calling the function\n",
        "models = build_models()\n",
        "\n",
        "# creating lists \n",
        "results, names = list(), list()\n",
        "\n",
        "# iterating through the models\n",
        "for name, model in models.items():\n",
        "    \n",
        "    # calling the evalution function\n",
        "    R_square = evaluate_model(model, x_train, y_train)\n",
        "    \n",
        "    # appending the results\n",
        "    results.append(R_square)\n",
        "    names.append(name)\n",
        "    \n",
        "#     printing the results\n",
        "    print('Decision tree depth (%s)---R_square( %.5f)' % (name, np.mean(R_square)))"
      ],
      "metadata": {
        "id": "JemERUUEu8mE"
      },
      "execution_count": null,
      "outputs": []
    },
    {
      "cell_type": "code",
      "source": [
        "# plotting box plot of the \n",
        "plt.boxplot(results, labels=names,showmeans=True)\n",
        "# showing the plot\n",
        "plt.show()"
      ],
      "metadata": {
        "id": "0nezBqMgtmgP"
      },
      "execution_count": null,
      "outputs": []
    },
    {
      "cell_type": "markdown",
      "source": [
        "###4.4.2 -GridSearchCV in LightGBM to get optimum values for parameters"
      ],
      "metadata": {
        "id": "7E5piNPdvF_I"
      }
    },
    {
      "cell_type": "code",
      "source": [
        "# defiing the model\n",
        "model = LGBMClassifier()\n",
        "\n",
        "\n",
        "# creating a dict of grids\n",
        "grid = dict()\n",
        "\n",
        "# values for iteration\n",
        "grid['n_estimators'] = [10, 50, 100, 500]\n",
        "\n",
        "# values for learning rate\n",
        "grid['learning_rate'] = [0.0001, 0.001, 0.01, 0.1, 1.0]\n",
        "\n",
        "# values for the sampel\n",
        "grid['subsample'] = [0.5, 0.7, 1.0]\n",
        "\n",
        "# values for teh depth of tree\n",
        "grid['max_depth'] = [3, 4, 5]"
      ],
      "metadata": {
        "id": "uguSVLj_vK7Q"
      },
      "execution_count": null,
      "outputs": []
    },
    {
      "cell_type": "code",
      "source": [
        "# defining the cv\n",
        "cv = RepeatedStratifiedKFold(n_splits=10, n_repeats=3)\n",
        "\n",
        "\n",
        "# applying the gridsearchcv method\n",
        "grid_search = GridSearchCV(estimator=model, param_grid=grid, n_jobs=-1, cv=cv, scoring='r2')\n",
        "\n",
        "# storing the values\n",
        "grid_result = grid_search.fit(x_train, y_train)\n",
        "\n",
        "\n",
        "# printing the best parameters\n",
        "print(\"Accuracy score: %f using %s\" % (grid_result.best_score_, grid_result.best_params_))"
      ],
      "metadata": {
        "id": "4gl4J3MrvNFz"
      },
      "execution_count": null,
      "outputs": []
    },
    {
      "cell_type": "markdown",
      "metadata": {
        "id": "SsFUNdn3zrCf"
      },
      "source": [
        "##4.2- Random Forest "
      ]
    },
    {
      "cell_type": "markdown",
      "metadata": {
        "id": "fWBBxJaZ7W6A"
      },
      "source": [
        "####Fit Random Forest Model and Hyperparameter Tuning \n",
        "https://scikit-learn.org/stable/modules/generated/sklearn.ensemble.RandomForestClassifier.html\n",
        "\n",
        "class sklearn.ensemble.RandomForestClassifier(n_estimators=100, *, criterion='gini', max_depth=None, min_samples_split=2, min_samples_leaf=1, min_weight_fraction_leaf=0.0, max_features='sqrt', max_leaf_nodes=None, min_impurity_decrease=0.0, bootstrap=True, oob_score=False, n_jobs=None, random_state=None, verbose=0, warm_start=False, class_weight=None, ccp_alpha=0.0, max_samples=None)"
      ]
    },
    {
      "cell_type": "code",
      "execution_count": null,
      "metadata": {
        "colab": {
          "base_uri": "https://localhost:8080/"
        },
        "id": "LsYQSVJP1teE",
        "outputId": "a7f041b5-3730-4779-8b54-607c139eeb7c"
      },
      "outputs": [
        {
          "name": "stderr",
          "output_type": "stream",
          "text": [
            "/usr/local/lib/python3.7/dist-packages/sklearn/model_selection/_search.py:296: UserWarning: The total space of parameters 3 is smaller than n_iter=25. Running 3 iterations. For exhaustive searches, use GridSearchCV.\n",
            "  UserWarning,\n"
          ]
        },
        {
          "name": "stdout",
          "output_type": "stream",
          "text": [
            "Fitting 5 folds for each of 3 candidates, totalling 15 fits\n"
          ]
        },
        {
          "name": "stderr",
          "output_type": "stream",
          "text": [
            "/usr/local/lib/python3.7/dist-packages/joblib/externals/loky/process_executor.py:703: UserWarning: A worker stopped while some jobs were given to the executor. This can be caused by a too short worker timeout or by a memory leak.\n",
            "  \"timeout or by a memory leak.\", UserWarning\n",
            "/usr/local/lib/python3.7/dist-packages/sklearn/model_selection/_search.py:972: UserWarning: One or more of the test scores are non-finite: [nan nan nan]\n",
            "  category=UserWarning,\n",
            "/usr/local/lib/python3.7/dist-packages/sklearn/model_selection/_search.py:972: UserWarning: One or more of the train scores are non-finite: [nan nan nan]\n",
            "  category=UserWarning,\n"
          ]
        }
      ],
      "source": [
        "random_forest_hyperparam = RandomizedSearchCV(\n",
        "    estimator = RandomForestClassifier(\n",
        "        n_jobs = -1,\n",
        "        random_state = 42,\n",
        "        class_weight = 'balanced'\n",
        "    ),\n",
        "    param_distributions = {\n",
        "        'n_estimators' : [100, 500, 1000],\n",
        "    },\n",
        "    scoring = 'f1',\n",
        "    n_jobs = -1,\n",
        "    verbose = 1,\n",
        "    random_state = 42,\n",
        "    return_train_score = True,\n",
        "    n_iter = 25\n",
        ").fit(x_train, y_train)"
      ]
    },
    {
      "cell_type": "code",
      "execution_count": null,
      "metadata": {
        "colab": {
          "base_uri": "https://localhost:8080/"
        },
        "id": "ubfDU3Gu5b_j",
        "outputId": "3bb2d069-840d-46f0-a125-0cceb06c14fd"
      },
      "outputs": [
        {
          "data": {
            "text/plain": [
              "{'n_estimators': 100}"
            ]
          },
          "execution_count": 63,
          "metadata": {},
          "output_type": "execute_result"
        }
      ],
      "source": [
        "random_forest_hyperparam.best_params_"
      ]
    },
    {
      "cell_type": "code",
      "execution_count": null,
      "metadata": {
        "id": "1KTqiAHT5gcb"
      },
      "outputs": [],
      "source": [
        "rf_clf = RandomForestClassifier(\n",
        "    n_estimators = 100,\n",
        "    class_weight = 'balanced',\n",
        "    random_state = 42,\n",
        "    n_jobs = -1\n",
        ").fit(x_train, y_train)"
      ]
    },
    {
      "cell_type": "markdown",
      "metadata": {
        "id": "2hYUk-b37jUC"
      },
      "source": [
        "####Perform Prediction and Display Results for Random Forest"
      ]
    },
    {
      "cell_type": "code",
      "execution_count": null,
      "metadata": {
        "id": "i5Wu0JCP5ttG"
      },
      "outputs": [],
      "source": [
        "rf_preds = rf_clf.predict(x_valid)"
      ]
    },
    {
      "cell_type": "code",
      "execution_count": null,
      "metadata": {
        "colab": {
          "base_uri": "https://localhost:8080/",
          "height": 509
        },
        "id": "DGG9rJ8R5z_6",
        "outputId": "4756f8b8-41a7-4f84-da47-fd4a0a6fa280"
      },
      "outputs": [
        {
          "name": "stdout",
          "output_type": "stream",
          "text": [
            "              precision    recall  f1-score   support\n",
            "\n",
            "           0       0.81      0.90      0.86      3226\n",
            "           1       0.56      0.34      0.42       432\n",
            "           2       0.86      0.79      0.82      2282\n",
            "\n",
            "    accuracy                           0.82      5940\n",
            "   macro avg       0.75      0.68      0.70      5940\n",
            "weighted avg       0.81      0.82      0.81      5940\n",
            "\n"
          ]
        },
        {
          "data": {
            "image/png": "[encoded data removed]",
            "text/plain": [
              "<Figure size 576x360 with 2 Axes>"
            ]
          },
          "metadata": {},
          "output_type": "display_data"
        }
      ],
      "source": [
        "print(classification_report(y_valid, rf_preds))\n",
        "\n",
        "# Plot confusion matrix\n",
        "fig, ax = plt.subplots(figsize=(8, 5))\n",
        "cmp = ConfusionMatrixDisplay(\n",
        "    confusion_matrix(y_valid, rf_preds),\n",
        "    display_labels=[\"functional\", \"non_functional\", \"func_needs_repair\"],\n",
        ")\n",
        "\n",
        "cmp.plot(ax=ax)\n",
        "plt.show();"
      ]
    },
    {
      "cell_type": "code",
      "execution_count": null,
      "metadata": {
        "colab": {
          "base_uri": "https://localhost:8080/"
        },
        "id": "5NIvJync50IZ",
        "outputId": "4ae8c5cd-1b98-436d-d4fd-7e5e453f43a5"
      },
      "outputs": [
        {
          "name": "stdout",
          "output_type": "stream",
          "text": [
            "+---------------+--------------------+--------------------+--------------------+--------------------+\n",
            "|   Model Name  |      Accuracy      |      F1-Score      |     Precision      |       Recall       |\n",
            "+---------------+--------------------+--------------------+--------------------+--------------------+\n",
            "| Random Forest | 0.8185185185185185 | 0.8116586035888954 | 0.8127766699102136 | 0.8185185185185185 |\n",
            "+---------------+--------------------+--------------------+--------------------+--------------------+\n"
          ]
        }
      ],
      "source": [
        "rf_table = PrettyTable()\n",
        "rf_table.field_names = ['Model Name',\n",
        "                  'Accuracy',\n",
        "                  'F1-Score',\n",
        "                  'Precision',\n",
        "                  'Recall',\n",
        "                  # 'Log-loss'\n",
        "                 ]\n",
        "\n",
        "rf_preds = rf_clf.predict(x_valid)\n",
        "\n",
        "rf_table.add_row([\n",
        "    'Random Forest',\n",
        "    accuracy_score(y_true = y_valid, y_pred = rf_preds),\n",
        "    f1_score(y_true = y_valid, y_pred = rf_preds, average='weighted'),\n",
        "    precision_score(y_true = y_valid, y_pred = rf_preds, average='weighted'),\n",
        "    recall_score(y_true = y_valid, y_pred = rf_preds, average='weighted'),\n",
        "    # log_loss(y_true = y_valid, y_pred = rf_preds, average='weighted')\n",
        "])\n",
        "\n",
        "print(rf_table)"
      ]
    },
    {
      "cell_type": "markdown",
      "metadata": {
        "id": "uibrUdYw68xq"
      },
      "source": [
        "####Feature Importance - Random Forest"
      ]
    },
    {
      "cell_type": "code",
      "execution_count": null,
      "metadata": {
        "colab": {
          "base_uri": "https://localhost:8080/",
          "height": 587
        },
        "id": "n25V2an27CVI",
        "outputId": "db746d25-ca33-4bbc-b004-f009d4665b2c"
      },
      "outputs": [
        {
          "name": "stderr",
          "output_type": "stream",
          "text": [
            "/usr/local/lib/python3.7/dist-packages/ipykernel_launcher.py:70: MatplotlibDeprecationWarning: \n",
            "The set_smart_bounds function was deprecated in Matplotlib 3.2 and will be removed two minor releases later.\n",
            "/usr/local/lib/python3.7/dist-packages/ipykernel_launcher.py:71: MatplotlibDeprecationWarning: \n",
            "The set_smart_bounds function was deprecated in Matplotlib 3.2 and will be removed two minor releases later.\n"
          ]
        },
        {
          "data": {
            "image/png": "[encoded data removed]",
            "text/plain": [
              "<Figure size 720x504 with 1 Axes>"
            ]
          },
          "metadata": {},
          "output_type": "display_data"
        }
      ],
      "source": [
        "\n",
        "pretty_importances_plot(\n",
        "    rf_clf.feature_importances_, \n",
        "    [i for i in range(x_train.shape[1])],\n",
        "    xlabel = 'Importance',\n",
        "    ylabel = 'Feature',\n",
        "    horizontal_label = 'Feature importance in Random Forest Classifier'\n",
        ")"
      ]
    },
    {
      "cell_type": "markdown",
      "metadata": {
        "id": "ApwGwpgP9zSI"
      },
      "source": [
        "##4.3-  Gradient Boosted Decision Trees"
      ]
    },
    {
      "cell_type": "code",
      "execution_count": null,
      "metadata": {
        "id": "Hl0z8T-P-JVf"
      },
      "outputs": [],
      "source": [
        "gbdt_clf = XGBClassifier(\n",
        "    n_estimators = 500,\n",
        "    learning_rate=0.01,\n",
        "    max_depth = 5,\n",
        "    min_child_weight=10,\n",
        "    gamma=0.4,\n",
        "    nthread=4,\n",
        "    subsample=0.8,\n",
        "    colsample_bytree=0.8,\n",
        "    objective='multi:softmax',\n",
        "    scale_pos_weight=3,\n",
        "    verbosity = 1,\n",
        "    n_jobs = -1,\n",
        "    random_state = 42,\n",
        ").fit(x_train, y_train, verbose=1)"
      ]
    },
    {
      "cell_type": "code",
      "execution_count": null,
      "metadata": {
        "id": "4fYg69e--Y3H"
      },
      "outputs": [],
      "source": [
        "gbdt_hyperparam = RandomizedSearchCV(\n",
        "    estimator = XGBClassifier(\n",
        "                learning_rate=0.01,\n",
        "                max_depth = 5,\n",
        "                min_child_weight=10,\n",
        "                gamma=0.4,\n",
        "                nthread=4,\n",
        "                subsample=0.8,\n",
        "                colsample_bytree=0.8,\n",
        "                objective='multi:softmax',\n",
        "                scale_pos_weight=3,\n",
        "                verbosity = 1,\n",
        "                n_jobs = -1,\n",
        "                random_state = 42,\n",
        "    ),\n",
        "    param_distributions = [100, 500, 1000, 2000],\n",
        "    n_jobs = -1,\n",
        "    verbose = 3,\n",
        "    random_state = 42\n",
        ")"
      ]
    },
    {
      "cell_type": "code",
      "execution_count": null,
      "metadata": {
        "id": "-VcJ5tOM_MxX"
      },
      "outputs": [],
      "source": [
        "gbdt_pred = gbdt_clf.predict(x_valid)"
      ]
    },
    {
      "cell_type": "code",
      "execution_count": null,
      "metadata": {
        "colab": {
          "base_uri": "https://localhost:8080/",
          "height": 510
        },
        "id": "Af3akNP0_ReP",
        "outputId": "b45e89d5-d98d-4cbd-dcef-167f013677bc"
      },
      "outputs": [
        {
          "name": "stdout",
          "output_type": "stream",
          "text": [
            "              precision    recall  f1-score   support\n",
            "\n",
            "           0       0.71      0.94      0.81      3226\n",
            "           1       0.60      0.11      0.19       432\n",
            "           2       0.85      0.59      0.70      2282\n",
            "\n",
            "    accuracy                           0.75      5940\n",
            "   macro avg       0.72      0.55      0.56      5940\n",
            "weighted avg       0.76      0.75      0.72      5940\n",
            "\n"
          ]
        },
        {
          "data": {
            "image/png": "[encoded data removed]",
            "text/plain": [
              "<Figure size 576x360 with 2 Axes>"
            ]
          },
          "metadata": {},
          "output_type": "display_data"
        }
      ],
      "source": [
        "print(classification_report(y_valid, gbdt_pred))\n",
        "\n",
        "# Plot confusion matrix\n",
        "fig, ax = plt.subplots(figsize=(8, 5))\n",
        "cmp = ConfusionMatrixDisplay(\n",
        "    confusion_matrix(y_valid, gbdt_pred),\n",
        "    display_labels=[\"functional\", \"non_functional\", \"func_needs_repair\"],\n",
        ")\n",
        "\n",
        "cmp.plot(ax=ax)\n",
        "plt.show();"
      ]
    },
    {
      "cell_type": "code",
      "execution_count": null,
      "metadata": {
        "colab": {
          "base_uri": "https://localhost:8080/"
        },
        "id": "qEo_w-as_RnH",
        "outputId": "16b0cfbd-99f9-47b1-caed-f17ef2089d83"
      },
      "outputs": [
        {
          "name": "stdout",
          "output_type": "stream",
          "text": [
            "+------------+--------------------+--------------------+--------------------+--------------------+\n",
            "| Model Name |      Accuracy      |      F1-Score      |     Precision      |       Recall       |\n",
            "+------------+--------------------+--------------------+--------------------+--------------------+\n",
            "|    GBDT    | 0.7457912457912458 | 0.7208843356050798 | 0.7560391506046725 | 0.7457912457912458 |\n",
            "+------------+--------------------+--------------------+--------------------+--------------------+\n"
          ]
        }
      ],
      "source": [
        "gbdt_table = PrettyTable()\n",
        "gbdt_table.field_names = ['Model Name',\n",
        "                  'Accuracy',\n",
        "                  'F1-Score',\n",
        "                  'Precision',\n",
        "                  'Recall',\n",
        "                  # 'Log-loss'\n",
        "                 ]\n",
        "\n",
        "gbdt_pred = gbdt_clf.predict(x_valid)\n",
        "\n",
        "gbdt_table.add_row([\n",
        "    'GBDT',\n",
        "    accuracy_score(y_true = y_valid, y_pred = gbdt_pred),\n",
        "    f1_score(y_true = y_valid, y_pred = gbdt_pred, average='weighted'),\n",
        "    precision_score(y_true = y_valid, y_pred = gbdt_pred, average='weighted'),\n",
        "    recall_score(y_true = y_valid, y_pred = gbdt_pred, average='weighted'),\n",
        "    # log_loss(y_true = y_vali, y_pred = gbdt_pred, average='weighted')\n",
        "])\n",
        "\n",
        "print(gbdt_table)"
      ]
    },
    {
      "cell_type": "code",
      "execution_count": null,
      "metadata": {
        "colab": {
          "base_uri": "https://localhost:8080/",
          "height": 529
        },
        "id": "phThRkJCAiVv",
        "outputId": "395a33e6-4824-47b2-bdd1-10bdc24adb6b"
      },
      "outputs": [
        {
          "name": "stderr",
          "output_type": "stream",
          "text": [
            "/usr/local/lib/python3.7/dist-packages/ipykernel_launcher.py:70: MatplotlibDeprecationWarning: \n",
            "The set_smart_bounds function was deprecated in Matplotlib 3.2 and will be removed two minor releases later.\n",
            "/usr/local/lib/python3.7/dist-packages/ipykernel_launcher.py:71: MatplotlibDeprecationWarning: \n",
            "The set_smart_bounds function was deprecated in Matplotlib 3.2 and will be removed two minor releases later.\n"
          ]
        },
        {
          "data": {
            "image/png": "[encoded data removed]",
            "text/plain": [
              "<Figure size 720x504 with 1 Axes>"
            ]
          },
          "metadata": {},
          "output_type": "display_data"
        }
      ],
      "source": [
        "#feature importances\n",
        "\n",
        "pretty_importances_plot(\n",
        "    gbdt_clf.feature_importances_, \n",
        "    [i for i in range(x_train.shape[1])],\n",
        "    xlabel = 'Importance',\n",
        "    ylabel = 'Feature',\n",
        "    horizontal_label = 'Feature importance in GBDT Classifier'\n",
        ")"
      ]
    },
    {
      "cell_type": "markdown",
      "metadata": {
        "id": "L1PKZ_2KZfB_"
      },
      "source": [
        "##4.5- CatBoostClassifier"
      ]
    },
    {
      "cell_type": "code",
      "execution_count": null,
      "metadata": {
        "id": "Mk5ni4UxZccG"
      },
      "outputs": [],
      "source": []
    }
  ],
  "metadata": {
    "colab": {
      "collapsed_sections": [
        "bcJICZdf39MT",
        "BTNyGa_wlixB",
        "E7Ykl2yx0Xan",
        "DjtVQIy8xmmA",
        "jifk1w9pw6oA",
        "oc63h7HTMXVG",
        "-HVDAAYLIyC4",
        "XjPGpXn9Uo83",
        "98M0osuPyoSP",
        "HGUo-TlDgysv",
        "8LO2gj2bv9x1",
        "0G5UXBF5ZxyU",
        "0PrEwDoGdvDG",
        "WDnm2uOzeZ4t",
        "80Gl7B_3gNkS",
        "G2YcGXo-IoPi",
        "I16GoICQJHJX",
        "v51bHWuLJYn0",
        "rtLfI8onKsuR",
        "sGwEd_NPLAaw",
        "t7UxQcjoLRtJ",
        "-tTmmLppLijO",
        "oFEge95ULxfu",
        "NEILHXIzn-Ki",
        "Vw3rnxRjoMc9",
        "-hZ0tGJNo310",
        "nzL2wLzupIdV",
        "1T1_tIFYpa1b",
        "rWIZxNn0P6Sx",
        "YNe4TGdxtPK_",
        "ApwGwpgP9zSI"
      ],
      "provenance": [],
      "authorship_tag": "ABX9TyMsNz0zReAL7vdyMNhdtSeG",
      "include_colab_link": true
    },
    "kernelspec": {
      "display_name": "Python 3",
      "name": "python3"
    },
    "language_info": {
      "name": "python"
    },
    "gpuClass": "standard"
  },
  "nbformat": 4,
  "nbformat_minor": 0
}
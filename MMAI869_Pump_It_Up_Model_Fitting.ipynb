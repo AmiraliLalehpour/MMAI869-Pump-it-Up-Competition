{
  "cells": [
    {
      "cell_type": "markdown",
      "metadata": {
        "id": "view-in-github",
        "colab_type": "text"
      },
      "source": [
        "<a href=\"https://colab.research.google.com/github/AmiraliLalehpour/MMAI869-Pump-it-Up-Competition/blob/main/MMAI869_Pump_It_Up_Model_Fitting.ipynb\" target=\"_parent\"><img src=\"https://colab.research.google.com/assets/colab-badge.svg\" alt=\"Open In Colab\"/></a>"
      ]
    },
    {
      "cell_type": "markdown",
      "metadata": {
        "id": "6Y04vszawCVI"
      },
      "source": [
        "#MMAI 869, Smith School of Business at Queens University\n",
        "###Team Broadview Project, Pump it Up: Data Mining the Water Table"
      ]
    },
    {
      "cell_type": "markdown",
      "source": [
        "#Install and ImportRequired Libraries"
      ],
      "metadata": {
        "id": "yVq-v4KDz2xP"
      }
    },
    {
      "cell_type": "code",
      "source": [
        "# pip install feature_engine"
      ],
      "metadata": {
        "id": "Sa7Ixbtc0Kl0"
      },
      "execution_count": 928,
      "outputs": []
    },
    {
      "cell_type": "code",
      "source": [
        "# pip install category_encoders"
      ],
      "metadata": {
        "id": "2LE6wOvJFO0w"
      },
      "execution_count": 929,
      "outputs": []
    },
    {
      "cell_type": "code",
      "source": [
        "# pip install feature_engine"
      ],
      "metadata": {
        "id": "070hPnE-NSHz"
      },
      "execution_count": 930,
      "outputs": []
    },
    {
      "cell_type": "markdown",
      "metadata": {
        "id": "bcJICZdf39MT"
      },
      "source": [
        "###Import Libraries"
      ]
    },
    {
      "cell_type": "code",
      "execution_count": 931,
      "metadata": {
        "id": "PpsmC7VOyppp"
      },
      "outputs": [],
      "source": [
        "import numpy as np  \n",
        "import pandas as pd  \n",
        "import datetime as dt\n",
        "\n",
        "# from sklearn.linear_model import LinearRegression\n",
        "from sklearn.linear_model import SGDClassifier\n",
        "from sklearn.ensemble import AdaBoostClassifier, GradientBoostingClassifier, RandomForestClassifier\n",
        "from xgboost import XGBClassifier\n",
        "from collections import Counter\n",
        "from sklearn.tree import DecisionTreeClassifier\n",
        "from lightgbm import LGBMClassifier\n",
        "\n",
        "from prettytable import PrettyTable\n",
        "from sklearn.metrics import accuracy_score, log_loss, f1_score, precision_score, recall_score, plot_roc_curve\n",
        "from sklearn.metrics import ConfusionMatrixDisplay, confusion_matrix, classification_report\n",
        "\n",
        "\n",
        "from sklearn.metrics import r2_score, mean_squared_error, explained_variance_score, mean_squared_error, accuracy_score\n",
        "from sklearn.model_selection import train_test_split, GridSearchCV, RandomizedSearchCV, RepeatedStratifiedKFold, cross_val_score, StratifiedKFold, cross_val_predict\n",
        "from sklearn.preprocessing import StandardScaler, LabelEncoder, OrdinalEncoder\n",
        "from sklearn.utils import compute_class_weight\n",
        "from sklearn.metrics import plot_roc_curve\n",
        "from sklearn import metrics\n",
        "\n",
        "from feature_engine.encoding import RareLabelEncoder\n",
        "\n",
        "from category_encoders import OneHotEncoder, TargetEncoder\n",
        "\n",
        "%matplotlib inline\n",
        "import matplotlib.pyplot as plt\n",
        "import seaborn as sns\n"
      ]
    },
    {
      "cell_type": "markdown",
      "metadata": {
        "id": "hEbiwiCadwH4"
      },
      "source": [
        "https://medium.com/analytics-vidhya/predictive-modeling-for-tanzanian-water-pumps-701bcc7760b2\n",
        "\n",
        "https://towardsdatascience.com/predicting-the-functional-status-of-pumps-in-tanzania-355c9269d0c2\n",
        "\n",
        "https://rstudio-pubs-static.s3.amazonaws.com/339668_006f4906390e41cea23b3b786cc0230a.html\n",
        "\n",
        "https://itnext.io/predicting-functional-water-pumps-in-tanzania-using-random-forests-and-logistic-regression-in-ffa04b0617f2\n",
        "\n",
        "https://towardsdatascience.com/pump-it-up-with-catboost-828bf9eaac68"
      ]
    },
    {
      "cell_type": "code",
      "source": [],
      "metadata": {
        "id": "zq_315Blz54Q"
      },
      "execution_count": 931,
      "outputs": []
    },
    {
      "cell_type": "markdown",
      "metadata": {
        "id": "BTNyGa_wlixB"
      },
      "source": [
        "### Check Allocated System Specs by Google Colab"
      ]
    },
    {
      "cell_type": "code",
      "execution_count": 932,
      "metadata": {
        "colab": {
          "base_uri": "https://localhost:8080/"
        },
        "id": "AzDaBsjnjAa2",
        "outputId": "aed78c7a-8847-43b5-ecd8-f6992442a84e"
      },
      "outputs": [
        {
          "output_type": "execute_result",
          "data": {
            "text/plain": [
              "2"
            ]
          },
          "metadata": {},
          "execution_count": 932
        }
      ],
      "source": [
        "from psutil import *\n",
        "\n",
        "cpu_count()"
      ]
    },
    {
      "cell_type": "code",
      "execution_count": 933,
      "metadata": {
        "colab": {
          "base_uri": "https://localhost:8080/"
        },
        "id": "FyR9-xjyjWFd",
        "outputId": "85cc17c2-a17e-4dc4-9eab-1dfb00c342b9"
      },
      "outputs": [
        {
          "output_type": "stream",
          "name": "stdout",
          "text": [
            "Model name:          Intel(R) Xeon(R) CPU @ 2.20GHz\n"
          ]
        }
      ],
      "source": [
        "!lscpu |grep 'Model name'"
      ]
    },
    {
      "cell_type": "code",
      "execution_count": 934,
      "metadata": {
        "colab": {
          "base_uri": "https://localhost:8080/"
        },
        "id": "t_aJFa-7kMdu",
        "outputId": "fb40ed3b-1e73-4618-b3dc-4b77bd50ccd8"
      },
      "outputs": [
        {
          "output_type": "stream",
          "name": "stdout",
          "text": [
            "Avail\n",
            "85G\n"
          ]
        }
      ],
      "source": [
        "!df -h / |awk '{print $4}'"
      ]
    },
    {
      "cell_type": "code",
      "execution_count": 935,
      "metadata": {
        "colab": {
          "base_uri": "https://localhost:8080/"
        },
        "id": "DU-PCU93kmFE",
        "outputId": "9399dcc3-2a4b-4412-e24d-366953c20819"
      },
      "outputs": [
        {
          "output_type": "stream",
          "name": "stdout",
          "text": [
            "13G\n"
          ]
        }
      ],
      "source": [
        "!free -h  --si | awk '/Mem:/{print $2}'"
      ]
    },
    {
      "cell_type": "code",
      "execution_count": 936,
      "metadata": {
        "colab": {
          "base_uri": "https://localhost:8080/"
        },
        "id": "qLm0Zl7TlMkI",
        "outputId": "bd4ccae9-32f2-460e-c5af-8d065aa1ce7f"
      },
      "outputs": [
        {
          "output_type": "stream",
          "name": "stdout",
          "text": [
            "NVIDIA-SMI has failed because it couldn't communicate with the NVIDIA driver. Make sure that the latest NVIDIA driver is installed and running.\n",
            "\n"
          ]
        }
      ],
      "source": [
        "!nvidia-smi -L"
      ]
    },
    {
      "cell_type": "code",
      "execution_count": 937,
      "metadata": {
        "colab": {
          "base_uri": "https://localhost:8080/"
        },
        "id": "-PZGO_dRlhId",
        "outputId": "f0904917-ebc6-4e75-ae79-e1400c4d3b97"
      },
      "outputs": [
        {
          "output_type": "stream",
          "name": "stdout",
          "text": [
            "NVIDIA-SMI has failed because it couldn't communicate with the NVIDIA driver. Make sure that the latest NVIDIA driver is installed and running.\n",
            "\n"
          ]
        }
      ],
      "source": [
        "!nvidia-smi"
      ]
    },
    {
      "cell_type": "markdown",
      "metadata": {
        "id": "DjtVQIy8xmmA"
      },
      "source": [
        "#1. Loading the dataset from GitHub: [MMAI869-Pump-it-Up-Competition]\n",
        "\n",
        "  Data is accessed from github: (https://github.com/AmiraliLalehpour/MMAI869-Pump-it-Up-Competition)\n",
        "\n"
      ]
    },
    {
      "cell_type": "code",
      "execution_count": 938,
      "metadata": {
        "id": "EsGdaw6Xy01b"
      },
      "outputs": [],
      "source": [
        "train_ulr = 'https://raw.githubusercontent.com/AmiraliLalehpour/MMAI869-Pump-it-Up-Competition/main/preprocessed_data.csv'\n",
        "test_ulr = 'https://raw.githubusercontent.com/AmiraliLalehpour/MMAI869-Pump-it-Up-Competition/main/preprocessed_test.csv'\n",
        "tt_ulr = 'https://raw.githubusercontent.com/AmiraliLalehpour/MMAI869-Pump-it-Up-Competition/main/clean.csv'\n",
        "# ulr_Test_Set_Values = 'https://raw.githubusercontent.com/AmiraliLalehpour/MMAI869-Pump-it-Up-Competition/main/Test_Set_Values.csv'\n",
        "train = pd.read_csv(train_ulr)\n",
        "test = pd.read_csv(test_ulr)\n",
        "train2 = pd.read_csv(tt_ulr)\n",
        "# test = pd.read_csv(ulr_Test_Set_Values)\n",
        "# data = Training_Set_Values.merge(Training_Set_Labels, on='id', how='right')\n",
        "\n",
        "pd.set_option('display.max_columns', None)"
      ]
    },
    {
      "cell_type": "code",
      "source": [
        "test_id = test.id"
      ],
      "metadata": {
        "id": "E7UXtMD_ZbFR"
      },
      "execution_count": 939,
      "outputs": []
    },
    {
      "cell_type": "code",
      "source": [
        "train.head()"
      ],
      "metadata": {
        "id": "SRyO4OuPojes",
        "colab": {
          "base_uri": "https://localhost:8080/",
          "height": 391
        },
        "outputId": "fdec8e99-76ec-48b9-faf3-af9d57cd626a"
      },
      "execution_count": 940,
      "outputs": [
        {
          "output_type": "execute_result",
          "data": {
            "text/plain": [
              "      id  amount_tsh        funder   gps_height  longitude   latitude  \\\n",
              "0  69572      6000.0         Roman  1390.000000  34.938093  -9.856322   \n",
              "1   8776       200.0       Grumeti  1399.000000  34.698766  -2.147466   \n",
              "2  34310        25.0  Lottery Club   686.000000  37.460664  -3.821329   \n",
              "3  67743        50.0        Unicef   263.000000  38.486161 -11.155298   \n",
              "4  19728       250.0   Action In A  1057.545585  31.130847  -1.825359   \n",
              "\n",
              "                     basin   region  district_code        lga        ward  \\\n",
              "0               Lake Nyasa   Iringa              5     Ludewa    Mundindi   \n",
              "1            Lake Victoria     Mara              2  Serengeti       Natta   \n",
              "2                  Pangani  Manyara              4  Simanjiro     Ngorika   \n",
              "3  Ruvuma / Southern Coast   Mtwara             63   Nanyumbu    Nanyumbu   \n",
              "4            Lake Victoria   Kagera              1    Karagwe  Nyakasimbi   \n",
              "\n",
              "   population public_meeting scheme_management permit  construction_year  \\\n",
              "0       109.0            Yes               VWC     No             1999.0   \n",
              "1       280.0        Missing             Other    Yes             2010.0   \n",
              "2       250.0            Yes               VWC    Yes             2009.0   \n",
              "3        58.0            Yes               VWC    Yes             1986.0   \n",
              "4       200.0            Yes           Missing    Yes             2003.0   \n",
              "\n",
              "  extraction_type management payment_type water_quality      quantity  \\\n",
              "0         gravity        vwc     annually          soft        enough   \n",
              "1         gravity        wug    never pay          soft  insufficient   \n",
              "2         gravity        vwc   per bucket          soft        enough   \n",
              "3     submersible        vwc    never pay          soft           dry   \n",
              "4         gravity      other    never pay          soft      seasonal   \n",
              "\n",
              "                 source              waterpoint_type    status_group  \\\n",
              "0                spring           communal standpipe      functional   \n",
              "1  rainwater harvesting           communal standpipe      functional   \n",
              "2                   dam  communal standpipe multiple      functional   \n",
              "3           machine dbh  communal standpipe multiple  non functional   \n",
              "4  rainwater harvesting           communal standpipe      functional   \n",
              "\n",
              "   year_recorded  month_recorded  day_recorded  quarer_recorded  \\\n",
              "0           2011               3             0                1   \n",
              "1           2013               3             2                1   \n",
              "2           2013               2             0                1   \n",
              "3           2013               1             0                1   \n",
              "4           2011               7             2                3   \n",
              "\n",
              "   percipitation_class  well_age  \n",
              "0                    4      12.0  \n",
              "1                    4       3.0  \n",
              "2                    2       4.0  \n",
              "3                    4      27.0  \n",
              "4                    0       8.0  "
            ],
            "text/html": [
              "\n",
              "  <div id=\"df-ef2353c1-315e-441b-968c-10b60d8ddfab\">\n",
              "    <div class=\"colab-df-container\">\n",
              "      <div>\n",
              "<style scoped>\n",
              "    .dataframe tbody tr th:only-of-type {\n",
              "        vertical-align: middle;\n",
              "    }\n",
              "\n",
              "    .dataframe tbody tr th {\n",
              "        vertical-align: top;\n",
              "    }\n",
              "\n",
              "    .dataframe thead th {\n",
              "        text-align: right;\n",
              "    }\n",
              "</style>\n",
              "<table border=\"1\" class=\"dataframe\">\n",
              "  <thead>\n",
              "    <tr style=\"text-align: right;\">\n",
              "      <th></th>\n",
              "      <th>id</th>\n",
              "      <th>amount_tsh</th>\n",
              "      <th>funder</th>\n",
              "      <th>gps_height</th>\n",
              "      <th>longitude</th>\n",
              "      <th>latitude</th>\n",
              "      <th>basin</th>\n",
              "      <th>region</th>\n",
              "      <th>district_code</th>\n",
              "      <th>lga</th>\n",
              "      <th>ward</th>\n",
              "      <th>population</th>\n",
              "      <th>public_meeting</th>\n",
              "      <th>scheme_management</th>\n",
              "      <th>permit</th>\n",
              "      <th>construction_year</th>\n",
              "      <th>extraction_type</th>\n",
              "      <th>management</th>\n",
              "      <th>payment_type</th>\n",
              "      <th>water_quality</th>\n",
              "      <th>quantity</th>\n",
              "      <th>source</th>\n",
              "      <th>waterpoint_type</th>\n",
              "      <th>status_group</th>\n",
              "      <th>year_recorded</th>\n",
              "      <th>month_recorded</th>\n",
              "      <th>day_recorded</th>\n",
              "      <th>quarer_recorded</th>\n",
              "      <th>percipitation_class</th>\n",
              "      <th>well_age</th>\n",
              "    </tr>\n",
              "  </thead>\n",
              "  <tbody>\n",
              "    <tr>\n",
              "      <th>0</th>\n",
              "      <td>69572</td>\n",
              "      <td>6000.0</td>\n",
              "      <td>Roman</td>\n",
              "      <td>1390.000000</td>\n",
              "      <td>34.938093</td>\n",
              "      <td>-9.856322</td>\n",
              "      <td>Lake Nyasa</td>\n",
              "      <td>Iringa</td>\n",
              "      <td>5</td>\n",
              "      <td>Ludewa</td>\n",
              "      <td>Mundindi</td>\n",
              "      <td>109.0</td>\n",
              "      <td>Yes</td>\n",
              "      <td>VWC</td>\n",
              "      <td>No</td>\n",
              "      <td>1999.0</td>\n",
              "      <td>gravity</td>\n",
              "      <td>vwc</td>\n",
              "      <td>annually</td>\n",
              "      <td>soft</td>\n",
              "      <td>enough</td>\n",
              "      <td>spring</td>\n",
              "      <td>communal standpipe</td>\n",
              "      <td>functional</td>\n",
              "      <td>2011</td>\n",
              "      <td>3</td>\n",
              "      <td>0</td>\n",
              "      <td>1</td>\n",
              "      <td>4</td>\n",
              "      <td>12.0</td>\n",
              "    </tr>\n",
              "    <tr>\n",
              "      <th>1</th>\n",
              "      <td>8776</td>\n",
              "      <td>200.0</td>\n",
              "      <td>Grumeti</td>\n",
              "      <td>1399.000000</td>\n",
              "      <td>34.698766</td>\n",
              "      <td>-2.147466</td>\n",
              "      <td>Lake Victoria</td>\n",
              "      <td>Mara</td>\n",
              "      <td>2</td>\n",
              "      <td>Serengeti</td>\n",
              "      <td>Natta</td>\n",
              "      <td>280.0</td>\n",
              "      <td>Missing</td>\n",
              "      <td>Other</td>\n",
              "      <td>Yes</td>\n",
              "      <td>2010.0</td>\n",
              "      <td>gravity</td>\n",
              "      <td>wug</td>\n",
              "      <td>never pay</td>\n",
              "      <td>soft</td>\n",
              "      <td>insufficient</td>\n",
              "      <td>rainwater harvesting</td>\n",
              "      <td>communal standpipe</td>\n",
              "      <td>functional</td>\n",
              "      <td>2013</td>\n",
              "      <td>3</td>\n",
              "      <td>2</td>\n",
              "      <td>1</td>\n",
              "      <td>4</td>\n",
              "      <td>3.0</td>\n",
              "    </tr>\n",
              "    <tr>\n",
              "      <th>2</th>\n",
              "      <td>34310</td>\n",
              "      <td>25.0</td>\n",
              "      <td>Lottery Club</td>\n",
              "      <td>686.000000</td>\n",
              "      <td>37.460664</td>\n",
              "      <td>-3.821329</td>\n",
              "      <td>Pangani</td>\n",
              "      <td>Manyara</td>\n",
              "      <td>4</td>\n",
              "      <td>Simanjiro</td>\n",
              "      <td>Ngorika</td>\n",
              "      <td>250.0</td>\n",
              "      <td>Yes</td>\n",
              "      <td>VWC</td>\n",
              "      <td>Yes</td>\n",
              "      <td>2009.0</td>\n",
              "      <td>gravity</td>\n",
              "      <td>vwc</td>\n",
              "      <td>per bucket</td>\n",
              "      <td>soft</td>\n",
              "      <td>enough</td>\n",
              "      <td>dam</td>\n",
              "      <td>communal standpipe multiple</td>\n",
              "      <td>functional</td>\n",
              "      <td>2013</td>\n",
              "      <td>2</td>\n",
              "      <td>0</td>\n",
              "      <td>1</td>\n",
              "      <td>2</td>\n",
              "      <td>4.0</td>\n",
              "    </tr>\n",
              "    <tr>\n",
              "      <th>3</th>\n",
              "      <td>67743</td>\n",
              "      <td>50.0</td>\n",
              "      <td>Unicef</td>\n",
              "      <td>263.000000</td>\n",
              "      <td>38.486161</td>\n",
              "      <td>-11.155298</td>\n",
              "      <td>Ruvuma / Southern Coast</td>\n",
              "      <td>Mtwara</td>\n",
              "      <td>63</td>\n",
              "      <td>Nanyumbu</td>\n",
              "      <td>Nanyumbu</td>\n",
              "      <td>58.0</td>\n",
              "      <td>Yes</td>\n",
              "      <td>VWC</td>\n",
              "      <td>Yes</td>\n",
              "      <td>1986.0</td>\n",
              "      <td>submersible</td>\n",
              "      <td>vwc</td>\n",
              "      <td>never pay</td>\n",
              "      <td>soft</td>\n",
              "      <td>dry</td>\n",
              "      <td>machine dbh</td>\n",
              "      <td>communal standpipe multiple</td>\n",
              "      <td>non functional</td>\n",
              "      <td>2013</td>\n",
              "      <td>1</td>\n",
              "      <td>0</td>\n",
              "      <td>1</td>\n",
              "      <td>4</td>\n",
              "      <td>27.0</td>\n",
              "    </tr>\n",
              "    <tr>\n",
              "      <th>4</th>\n",
              "      <td>19728</td>\n",
              "      <td>250.0</td>\n",
              "      <td>Action In A</td>\n",
              "      <td>1057.545585</td>\n",
              "      <td>31.130847</td>\n",
              "      <td>-1.825359</td>\n",
              "      <td>Lake Victoria</td>\n",
              "      <td>Kagera</td>\n",
              "      <td>1</td>\n",
              "      <td>Karagwe</td>\n",
              "      <td>Nyakasimbi</td>\n",
              "      <td>200.0</td>\n",
              "      <td>Yes</td>\n",
              "      <td>Missing</td>\n",
              "      <td>Yes</td>\n",
              "      <td>2003.0</td>\n",
              "      <td>gravity</td>\n",
              "      <td>other</td>\n",
              "      <td>never pay</td>\n",
              "      <td>soft</td>\n",
              "      <td>seasonal</td>\n",
              "      <td>rainwater harvesting</td>\n",
              "      <td>communal standpipe</td>\n",
              "      <td>functional</td>\n",
              "      <td>2011</td>\n",
              "      <td>7</td>\n",
              "      <td>2</td>\n",
              "      <td>3</td>\n",
              "      <td>0</td>\n",
              "      <td>8.0</td>\n",
              "    </tr>\n",
              "  </tbody>\n",
              "</table>\n",
              "</div>\n",
              "      <button class=\"colab-df-convert\" onclick=\"convertToInteractive('df-ef2353c1-315e-441b-968c-10b60d8ddfab')\"\n",
              "              title=\"Convert this dataframe to an interactive table.\"\n",
              "              style=\"display:none;\">\n",
              "        \n",
              "  <svg xmlns=\"http://www.w3.org/2000/svg\" height=\"24px\"viewBox=\"0 0 24 24\"\n",
              "       width=\"24px\">\n",
              "    <path d=\"M0 0h24v24H0V0z\" fill=\"none\"/>\n",
              "    <path d=\"M18.56 5.44l.94 2.06.94-2.06 2.06-.94-2.06-.94-.94-2.06-.94 2.06-2.06.94zm-11 1L8.5 8.5l.94-2.06 2.06-.94-2.06-.94L8.5 2.5l-.94 2.06-2.06.94zm10 10l.94 2.06.94-2.06 2.06-.94-2.06-.94-.94-2.06-.94 2.06-2.06.94z\"/><path d=\"M17.41 7.96l-1.37-1.37c-.4-.4-.92-.59-1.43-.59-.52 0-1.04.2-1.43.59L10.3 9.45l-7.72 7.72c-.78.78-.78 2.05 0 2.83L4 21.41c.39.39.9.59 1.41.59.51 0 1.02-.2 1.41-.59l7.78-7.78 2.81-2.81c.8-.78.8-2.07 0-2.86zM5.41 20L4 18.59l7.72-7.72 1.47 1.35L5.41 20z\"/>\n",
              "  </svg>\n",
              "      </button>\n",
              "      \n",
              "  <style>\n",
              "    .colab-df-container {\n",
              "      display:flex;\n",
              "      flex-wrap:wrap;\n",
              "      gap: 12px;\n",
              "    }\n",
              "\n",
              "    .colab-df-convert {\n",
              "      background-color: #E8F0FE;\n",
              "      border: none;\n",
              "      border-radius: 50%;\n",
              "      cursor: pointer;\n",
              "      display: none;\n",
              "      fill: #1967D2;\n",
              "      height: 32px;\n",
              "      padding: 0 0 0 0;\n",
              "      width: 32px;\n",
              "    }\n",
              "\n",
              "    .colab-df-convert:hover {\n",
              "      background-color: #E2EBFA;\n",
              "      box-shadow: 0px 1px 2px rgba(60, 64, 67, 0.3), 0px 1px 3px 1px rgba(60, 64, 67, 0.15);\n",
              "      fill: #174EA6;\n",
              "    }\n",
              "\n",
              "    [theme=dark] .colab-df-convert {\n",
              "      background-color: #3B4455;\n",
              "      fill: #D2E3FC;\n",
              "    }\n",
              "\n",
              "    [theme=dark] .colab-df-convert:hover {\n",
              "      background-color: #434B5C;\n",
              "      box-shadow: 0px 1px 3px 1px rgba(0, 0, 0, 0.15);\n",
              "      filter: drop-shadow(0px 1px 2px rgba(0, 0, 0, 0.3));\n",
              "      fill: #FFFFFF;\n",
              "    }\n",
              "  </style>\n",
              "\n",
              "      <script>\n",
              "        const buttonEl =\n",
              "          document.querySelector('#df-ef2353c1-315e-441b-968c-10b60d8ddfab button.colab-df-convert');\n",
              "        buttonEl.style.display =\n",
              "          google.colab.kernel.accessAllowed ? 'block' : 'none';\n",
              "\n",
              "        async function convertToInteractive(key) {\n",
              "          const element = document.querySelector('#df-ef2353c1-315e-441b-968c-10b60d8ddfab');\n",
              "          const dataTable =\n",
              "            await google.colab.kernel.invokeFunction('convertToInteractive',\n",
              "                                                     [key], {});\n",
              "          if (!dataTable) return;\n",
              "\n",
              "          const docLinkHtml = 'Like what you see? Visit the ' +\n",
              "            '<a target=\"_blank\" href=https://colab.research.google.com/notebooks/data_table.ipynb>data table notebook</a>'\n",
              "            + ' to learn more about interactive tables.';\n",
              "          element.innerHTML = '';\n",
              "          dataTable['output_type'] = 'display_data';\n",
              "          await google.colab.output.renderOutput(dataTable, element);\n",
              "          const docLink = document.createElement('div');\n",
              "          docLink.innerHTML = docLinkHtml;\n",
              "          element.appendChild(docLink);\n",
              "        }\n",
              "      </script>\n",
              "    </div>\n",
              "  </div>\n",
              "  "
            ]
          },
          "metadata": {},
          "execution_count": 940
        }
      ]
    },
    {
      "cell_type": "code",
      "source": [],
      "metadata": {
        "id": "BtWSzW364uOJ"
      },
      "execution_count": 940,
      "outputs": []
    },
    {
      "cell_type": "code",
      "source": [],
      "metadata": {
        "id": "kzR49uJ145QV"
      },
      "execution_count": 940,
      "outputs": []
    },
    {
      "cell_type": "code",
      "source": [],
      "metadata": {
        "id": "_SnYMkLx4-NP"
      },
      "execution_count": 940,
      "outputs": []
    },
    {
      "cell_type": "code",
      "source": [],
      "metadata": {
        "id": "b0qIxA9_5W4w"
      },
      "execution_count": 940,
      "outputs": []
    },
    {
      "cell_type": "markdown",
      "metadata": {
        "id": "4phP2fz5_5wM"
      },
      "source": [
        "#2- Feature Engineering\n",
        "Rare values are categories within a categorical variable that are present only in a small percentage of the observations. There is no rule of thumb to determine how small is a small percentage, but typically, any value below 5 % can be considered rare.\n",
        "\n",
        "* Grouping categories into rare for variables that show low cardinality may or may not improve model performance, however, we tend to re-group them into a new category to smooth model deployment.\n",
        "\n",
        "* Grouping categories into rare for variables with high cardinality, tends to improve model performance as well.\n",
        "\n",
        "https://github.com/solegalli/feature-engineering-for-machine-learning/blob/main/Section-06-Categorical-Encoding/06.10-Engineering-Rare-Categories.ipynb\n",
        "\n"
      ]
    },
    {
      "cell_type": "markdown",
      "metadata": {
        "id": "IFU7qONZBd8m"
      },
      "source": [
        "##2.1- Rare Value Encoding for Categorical Features\n",
        "features like 'funder', 'installer', 'wpt_name', 'subvillage', 'lga', 'ward', 'scheme_name' have so many values as 1, 2, 3 etc. We will train another encoder for them.\n",
        "\n",
        "We will run the model with and without this encoding to see how much difference it makes. It will reduce the amount of data available to the model.\n",
        "\n",
        "https://feature-engine.readthedocs.io/en/0.6.x_a/encoders/RareLabelCategoricalEncoder.html"
      ]
    },
    {
      "cell_type": "code",
      "source": [
        "train.select_dtypes(include='object').columns"
      ],
      "metadata": {
        "colab": {
          "base_uri": "https://localhost:8080/"
        },
        "id": "Mp_X_RWOxv37",
        "outputId": "cb4ecd1f-30c2-4616-d427-44d4efa5d6f8"
      },
      "execution_count": 941,
      "outputs": [
        {
          "output_type": "execute_result",
          "data": {
            "text/plain": [
              "Index(['funder', 'basin', 'region', 'lga', 'ward', 'public_meeting',\n",
              "       'scheme_management', 'permit', 'extraction_type', 'management',\n",
              "       'payment_type', 'water_quality', 'quantity', 'source',\n",
              "       'waterpoint_type', 'status_group'],\n",
              "      dtype='object')"
            ]
          },
          "metadata": {},
          "execution_count": 941
        }
      ]
    },
    {
      "cell_type": "code",
      "execution_count": 942,
      "metadata": {
        "colab": {
          "base_uri": "https://localhost:8080/",
          "height": 0
        },
        "id": "MZWe-CBMHwx8",
        "outputId": "38ddb32c-665b-4cda-91c3-f4744251a416"
      },
      "outputs": [
        {
          "output_type": "display_data",
          "data": {
            "text/plain": [
              "<Figure size 432x288 with 1 Axes>"
            ],
            "image/png": "[encoded data removed]"
          },
          "metadata": {
            "needs_background": "light"
          }
        },
        {
          "output_type": "display_data",
          "data": {
            "text/plain": [
              "<Figure size 432x288 with 1 Axes>"
            ],
            "image/png": "[encoded data removed]"
          },
          "metadata": {
            "needs_background": "light"
          }
        },
        {
          "output_type": "display_data",
          "data": {
            "text/plain": [
              "<Figure size 432x288 with 1 Axes>"
            ],
            "image/png": "[encoded data removed]"
          },
          "metadata": {
            "needs_background": "light"
          }
        },
        {
          "output_type": "display_data",
          "data": {
            "text/plain": [
              "<Figure size 432x288 with 1 Axes>"
            ],
            "image/png": "[encoded data removed]"
          },
          "metadata": {
            "needs_background": "light"
          }
        },
        {
          "output_type": "display_data",
          "data": {
            "text/plain": [
              "<Figure size 432x288 with 1 Axes>"
            ],
            "image/png": "[encoded data removed]"
          },
          "metadata": {
            "needs_background": "light"
          }
        },
        {
          "output_type": "display_data",
          "data": {
            "text/plain": [
              "<Figure size 432x288 with 1 Axes>"
            ],
            "image/png": "[encoded data removed]"
          },
          "metadata": {
            "needs_background": "light"
          }
        },
        {
          "output_type": "display_data",
          "data": {
            "text/plain": [
              "<Figure size 432x288 with 1 Axes>"
            ],
            "image/png": "[encoded data removed]"
          },
          "metadata": {
            "needs_background": "light"
          }
        },
        {
          "output_type": "display_data",
          "data": {
            "text/plain": [
              "<Figure size 432x288 with 1 Axes>"
            ],
            "image/png": "[encoded data removed]"
          },
          "metadata": {
            "needs_background": "light"
          }
        },
        {
          "output_type": "display_data",
          "data": {
            "text/plain": [
              "<Figure size 432x288 with 1 Axes>"
            ],
            "image/png": "[encoded data removed]"
          },
          "metadata": {
            "needs_background": "light"
          }
        },
        {
          "output_type": "display_data",
          "data": {
            "text/plain": [
              "<Figure size 432x288 with 1 Axes>"
            ],
            "image/png": "[encoded data removed]"
          },
          "metadata": {
            "needs_background": "light"
          }
        },
        {
          "output_type": "display_data",
          "data": {
            "text/plain": [
              "<Figure size 432x288 with 1 Axes>"
            ],
            "image/png": "[encoded data removed]"
          },
          "metadata": {
            "needs_background": "light"
          }
        },
        {
          "output_type": "display_data",
          "data": {
            "text/plain": [
              "<Figure size 432x288 with 1 Axes>"
            ],
            "image/png": "[encoded data removed]"
          },
          "metadata": {
            "needs_background": "light"
          }
        }
      ],
      "source": [
        "for col in ['basin', 'region', 'public_meeting',\n",
        "       'scheme_management', 'permit', 'extraction_type', 'management',\n",
        "       'payment_type', 'water_quality', 'quantity', 'source',\n",
        "       'waterpoint_type'\n",
        "            ]:\n",
        "\n",
        "    temp_df = pd.Series(train[col].value_counts() / len(train) )\n",
        "\n",
        "    # make plot with the above percentages\n",
        "    fig = temp_df.sort_values(ascending=False).plot.bar()\n",
        "    fig.set_xlabel(col)\n",
        "\n",
        "    # add a line at 2.5 % to flag the threshold for rare categories\n",
        "    fig.axhline(y=0.025, color='red')\n",
        "    fig.set_ylabel('Percentage of houses')\n",
        "    plt.show()"
      ]
    },
    {
      "cell_type": "code",
      "execution_count": 943,
      "metadata": {
        "id": "aU-_Dg0SDZCO"
      },
      "outputs": [],
      "source": [
        "#Chose the ones that have categories below the 2.5% line.\n",
        "rare_encoder = RareLabelEncoder(\n",
        "    tol=0.025,  # minimal percentage to be considered non-rare\n",
        "    n_categories=4, # minimal number of categories the variable should have to re-cgroup rare categories\n",
        "    variables=['scheme_management', 'extraction_type', 'management',\n",
        "        'water_quality', 'source','waterpoint_type'], # variables to re-group\n",
        "    replace_with='Rare'\n",
        ")  "
      ]
    },
    {
      "cell_type": "code",
      "execution_count": 944,
      "metadata": {
        "id": "9E5gOR2C5Djl"
      },
      "outputs": [],
      "source": [
        "rare_encoder_EXtreme_Cardinality = RareLabelEncoder(\n",
        "    tol=0.007,  # minimal percentage to be considered non-rare\n",
        "    n_categories=4, # minimal number of categories the variable should have to re-cgroup rare categories\n",
        "    max_n_categories = 75,\n",
        "    variables=['lga', 'funder'], # variables to re-group\n",
        "    replace_with='Rare'\n",
        ")  "
      ]
    },
    {
      "cell_type": "code",
      "execution_count": 945,
      "metadata": {
        "id": "A-gLzod-BrtK"
      },
      "outputs": [],
      "source": [
        "rare_encoder_ExCard_ward = RareLabelEncoder(\n",
        "    tol=0.002,  # minimal percentage to be considered non-rare\n",
        "    n_categories=4, # minimal number of categories the variable should have to re-cgroup rare categories\n",
        "    max_n_categories = 500,\n",
        "    variables=['ward'], # variables to re-group\n",
        "    replace_with='Rare'\n",
        ")"
      ]
    },
    {
      "cell_type": "markdown",
      "source": [
        "###2.1.1- Fit the the Rare Encoders to data  "
      ],
      "metadata": {
        "id": "waxJg9oa19rC"
      }
    },
    {
      "cell_type": "code",
      "execution_count": 946,
      "metadata": {
        "colab": {
          "base_uri": "https://localhost:8080/"
        },
        "id": "blL04iPeERtb",
        "outputId": "ec17e59d-cee3-43ef-8580-04ef2a48e2e4"
      },
      "outputs": [
        {
          "output_type": "execute_result",
          "data": {
            "text/plain": [
              "RareLabelEncoder(n_categories=4, tol=0.025,\n",
              "                 variables=['scheme_management', 'extraction_type',\n",
              "                            'management', 'water_quality', 'source',\n",
              "                            'waterpoint_type'])"
            ]
          },
          "metadata": {},
          "execution_count": 946
        }
      ],
      "source": [
        "rare_encoder.fit(train)"
      ]
    },
    {
      "cell_type": "code",
      "execution_count": 947,
      "metadata": {
        "colab": {
          "base_uri": "https://localhost:8080/"
        },
        "id": "x27cy3d79y5T",
        "outputId": "44f41e03-a1a7-4ee6-87af-c88c27fb0dba"
      },
      "outputs": [
        {
          "output_type": "execute_result",
          "data": {
            "text/plain": [
              "RareLabelEncoder(max_n_categories=75, n_categories=4, tol=0.007,\n",
              "                 variables=['lga', 'funder'])"
            ]
          },
          "metadata": {},
          "execution_count": 947
        }
      ],
      "source": [
        "rare_encoder_EXtreme_Cardinality.fit(train)"
      ]
    },
    {
      "cell_type": "code",
      "execution_count": 948,
      "metadata": {
        "colab": {
          "base_uri": "https://localhost:8080/"
        },
        "id": "CPVa-zxACfUT",
        "outputId": "7b0db539-736a-4c43-877a-769831d8d278"
      },
      "outputs": [
        {
          "output_type": "execute_result",
          "data": {
            "text/plain": [
              "RareLabelEncoder(max_n_categories=500, n_categories=4, tol=0.002,\n",
              "                 variables=['ward'])"
            ]
          },
          "metadata": {},
          "execution_count": 948
        }
      ],
      "source": [
        "rare_encoder_ExCard_ward.fit(train)"
      ]
    },
    {
      "cell_type": "markdown",
      "metadata": {
        "id": "v2tltEeU9Nva"
      },
      "source": [
        "###2.2.2- Transform Data with Encoder"
      ]
    },
    {
      "cell_type": "code",
      "execution_count": 949,
      "metadata": {
        "id": "pCIRfngmErLi"
      },
      "outputs": [],
      "source": [
        "rare_enc_train = rare_encoder.transform(train)\n",
        "# test = rare_encoder.transform(test)"
      ]
    },
    {
      "cell_type": "code",
      "execution_count": 950,
      "metadata": {
        "id": "6fKbjOTr92a3"
      },
      "outputs": [],
      "source": [
        "rare_enc_train = rare_encoder_EXtreme_Cardinality.transform(rare_enc_train)\n",
        "# test = rare_encoder_EXtreme_Cardinality.transform(test)"
      ]
    },
    {
      "cell_type": "code",
      "execution_count": 951,
      "metadata": {
        "id": "OXe53aubCkL6"
      },
      "outputs": [],
      "source": [
        "rare_enc_train = rare_encoder_ExCard_ward.transform(rare_enc_train)\n",
        "# test = rare_encoder_ExCard_ward.transform(test)"
      ]
    },
    {
      "cell_type": "code",
      "execution_count": 952,
      "metadata": {
        "colab": {
          "base_uri": "https://localhost:8080/",
          "height": 0
        },
        "id": "je1HJ-qxPVV0",
        "outputId": "88bce89e-2c6b-4df1-e75f-dad6a2d71e58"
      },
      "outputs": [
        {
          "output_type": "display_data",
          "data": {
            "text/plain": [
              "<Figure size 432x288 with 1 Axes>"
            ],
            "image/png": "[encoded data removed]"
          },
          "metadata": {
            "needs_background": "light"
          }
        },
        {
          "output_type": "display_data",
          "data": {
            "text/plain": [
              "<Figure size 432x288 with 1 Axes>"
            ],
            "image/png": "[encoded data removed]"
          },
          "metadata": {
            "needs_background": "light"
          }
        },
        {
          "output_type": "display_data",
          "data": {
            "text/plain": [
              "<Figure size 432x288 with 1 Axes>"
            ],
            "image/png": "[encoded data removed]"
          },
          "metadata": {
            "needs_background": "light"
          }
        },
        {
          "output_type": "display_data",
          "data": {
            "text/plain": [
              "<Figure size 432x288 with 1 Axes>"
            ],
            "image/png": "[encoded data removed]"
          },
          "metadata": {
            "needs_background": "light"
          }
        },
        {
          "output_type": "display_data",
          "data": {
            "text/plain": [
              "<Figure size 432x288 with 1 Axes>"
            ],
            "image/png": "[encoded data removed]"
          },
          "metadata": {
            "needs_background": "light"
          }
        },
        {
          "output_type": "display_data",
          "data": {
            "text/plain": [
              "<Figure size 432x288 with 1 Axes>"
            ],
            "image/png": "[encoded data removed]"
          },
          "metadata": {
            "needs_background": "light"
          }
        }
      ],
      "source": [
        "for col in ['scheme_management', 'extraction_type', 'management',\n",
        "        'water_quality', 'source','waterpoint_type']:\n",
        "\n",
        "    temp_df = pd.Series(rare_enc_train[col].value_counts() / len(rare_enc_train) )\n",
        "\n",
        "    # make plot with the above percentages\n",
        "    fig = temp_df.sort_values(ascending=False).plot.bar()\n",
        "    fig.set_xlabel(col)\n",
        "\n",
        "    # add a line at 2.5 % to flag the threshold for rare categories\n",
        "    fig.axhline(y=0.025, color='red')\n",
        "    fig.set_ylabel('Percentage of houses')\n",
        "    plt.show()"
      ]
    },
    {
      "cell_type": "code",
      "execution_count": 953,
      "metadata": {
        "colab": {
          "base_uri": "https://localhost:8080/",
          "height": 0
        },
        "id": "ucSBa7e95jMB",
        "outputId": "2f774501-43f2-4b4f-bb57-648eab685b7d"
      },
      "outputs": [
        {
          "output_type": "display_data",
          "data": {
            "text/plain": [
              "<Figure size 432x288 with 1 Axes>"
            ],
            "image/png": "[encoded data removed]"
          },
          "metadata": {
            "needs_background": "light"
          }
        },
        {
          "output_type": "display_data",
          "data": {
            "text/plain": [
              "<Figure size 432x288 with 1 Axes>"
            ],
            "image/png": "[encoded data removed]"
          },
          "metadata": {
            "needs_background": "light"
          }
        }
      ],
      "source": [
        "for col in ['funder', 'lga']:\n",
        "\n",
        "    temp_df = pd.Series(rare_enc_train[col].value_counts() / len(rare_enc_train) )\n",
        "\n",
        "    # make plot with the above percentages\n",
        "    fig = temp_df.sort_values(ascending=False).plot.bar()\n",
        "    fig.set_xlabel(col)\n",
        "\n",
        "    # add a line at 5 % to flag the threshold for rare categories\n",
        "    fig.axhline(y=0.007, color='red')\n",
        "    fig.set_ylabel('Percentage of houses')\n",
        "    plt.show()"
      ]
    },
    {
      "cell_type": "code",
      "execution_count": 954,
      "metadata": {
        "colab": {
          "base_uri": "https://localhost:8080/"
        },
        "id": "Bpekc49s6-eu",
        "outputId": "30f2cf75-6860-43a3-a3fa-fa07a36a4711"
      },
      "outputs": [
        {
          "output_type": "stream",
          "name": "stdout",
          "text": [
            "funder  contains  27  labels\n",
            "basin  contains  9  labels\n",
            "region  contains  21  labels\n",
            "lga  contains  60  labels\n",
            "ward  contains  33  labels\n",
            "public_meeting  contains  3  labels\n",
            "scheme_management  contains  8  labels\n",
            "permit  contains  3  labels\n",
            "extraction_type  contains  9  labels\n",
            "management  contains  7  labels\n",
            "payment_type  contains  7  labels\n",
            "water_quality  contains  4  labels\n",
            "quantity  contains  5  labels\n",
            "source  contains  6  labels\n",
            "waterpoint_type  contains  5  labels\n"
          ]
        }
      ],
      "source": [
        "# check for cardinality in categorical variables\n",
        "\n",
        "for var in ['funder', 'basin', 'region', 'lga', 'ward', 'public_meeting',\n",
        "       'scheme_management', 'permit', 'extraction_type', 'management',\n",
        "       'payment_type', 'water_quality', 'quantity', 'source',\n",
        "       'waterpoint_type']:\n",
        "    \n",
        "    print(var, ' contains ', len(rare_enc_train[var].unique()), ' labels')\n"
      ]
    },
    {
      "cell_type": "markdown",
      "metadata": {
        "id": "3TXwJShexdt3"
      },
      "source": [
        "# Label Distribution and Label Encoding\n",
        "Multiclass Classification Labels, need to encode them\n",
        "\n",
        "Reference: https://scikit-learn.org/stable/modules/generated/sklearn.preprocessing.LabelEncoder.html"
      ]
    },
    {
      "cell_type": "code",
      "execution_count": 955,
      "metadata": {
        "colab": {
          "base_uri": "https://localhost:8080/",
          "height": 0
        },
        "id": "EzkEWiWHk5Kt",
        "outputId": "cc1159ee-7844-4815-8e39-b6523676173b"
      },
      "outputs": [
        {
          "output_type": "execute_result",
          "data": {
            "text/plain": [
              "Text(0, 0.5, 'Number of Occurance')"
            ]
          },
          "metadata": {},
          "execution_count": 955
        },
        {
          "output_type": "display_data",
          "data": {
            "text/plain": [
              "<Figure size 432x288 with 1 Axes>"
            ],
            "image/png": "[encoded data removed]"
          },
          "metadata": {
            "needs_background": "light"
          }
        }
      ],
      "source": [
        "train.status_group.value_counts().plot.bar()\n",
        "plt.xlabel('status_group')\n",
        "plt.ylabel('Number of Occurance')"
      ]
    },
    {
      "cell_type": "code",
      "execution_count": 956,
      "metadata": {
        "colab": {
          "base_uri": "https://localhost:8080/"
        },
        "id": "iXK5BvPAPPmI",
        "outputId": "8facac62-f3d4-476b-d3a6-538afe1b7444"
      },
      "outputs": [
        {
          "output_type": "execute_result",
          "data": {
            "text/plain": [
              "functional                 32259\n",
              "non functional             22824\n",
              "functional needs repair     4317\n",
              "Name: status_group, dtype: int64"
            ]
          },
          "metadata": {},
          "execution_count": 956
        }
      ],
      "source": [
        "train.status_group.value_counts()\n"
      ]
    },
    {
      "cell_type": "code",
      "execution_count": 957,
      "metadata": {
        "colab": {
          "base_uri": "https://localhost:8080/"
        },
        "id": "ggaknqhAPPq9",
        "outputId": "8892f573-3aea-4b97-dc38-378b84830526"
      },
      "outputs": [
        {
          "output_type": "execute_result",
          "data": {
            "text/plain": [
              "functional                 0.543081\n",
              "non functional             0.384242\n",
              "functional needs repair    0.072677\n",
              "Name: status_group, dtype: float64"
            ]
          },
          "metadata": {},
          "execution_count": 957
        }
      ],
      "source": [
        "train.status_group.value_counts(normalize=True)"
      ]
    },
    {
      "cell_type": "code",
      "execution_count": 958,
      "metadata": {
        "colab": {
          "base_uri": "https://localhost:8080/"
        },
        "id": "ptUWOX-cTKtb",
        "outputId": "e26dbf80-0941-4182-ddee-5da161a727dc"
      },
      "outputs": [
        {
          "output_type": "execute_result",
          "data": {
            "text/plain": [
              "0    0\n",
              "1    0\n",
              "2    0\n",
              "3    2\n",
              "4    0\n",
              "Name: status_group, dtype: int64"
            ]
          },
          "metadata": {},
          "execution_count": 958
        }
      ],
      "source": [
        "label_encouder=LabelEncoder()\n",
        "train.status_group = label_encouder.fit_transform(train.status_group)\n",
        "train.status_group.head()"
      ]
    },
    {
      "cell_type": "code",
      "execution_count": 959,
      "metadata": {
        "colab": {
          "base_uri": "https://localhost:8080/",
          "height": 0
        },
        "id": "MkWzJ4UPPPuN",
        "outputId": "77d8f429-d706-4e1c-ed84-a48e18003d91"
      },
      "outputs": [
        {
          "output_type": "execute_result",
          "data": {
            "text/plain": [
              "Text(0, 0.5, 'Number of Occurance')"
            ]
          },
          "metadata": {},
          "execution_count": 959
        },
        {
          "output_type": "display_data",
          "data": {
            "text/plain": [
              "<Figure size 432x288 with 1 Axes>"
            ],
            "image/png": "[encoded data removed]"
          },
          "metadata": {
            "needs_background": "light"
          }
        }
      ],
      "source": [
        "train.status_group.value_counts().plot.bar()\n",
        "plt.xlabel('status_group')\n",
        "plt.ylabel('Number of Occurance')"
      ]
    },
    {
      "cell_type": "code",
      "execution_count": 960,
      "metadata": {
        "id": "-1d5t-NXUWW5"
      },
      "outputs": [],
      "source": [
        "# data.info()"
      ]
    },
    {
      "cell_type": "code",
      "execution_count": 961,
      "metadata": {
        "id": "0EBOmoZ6Qjvu"
      },
      "outputs": [],
      "source": [
        "# f, ax = plt.subplots(figsize=(30, 24))\n",
        "# plt.scatter(x=train.longitude, y=train.latitude, c= train.status_group)\n",
        "# plt.show()"
      ]
    },
    {
      "cell_type": "markdown",
      "source": [
        "#3- Encoding Categorical Features to Numeric"
      ],
      "metadata": {
        "id": "DZCoRcuV6aGR"
      }
    },
    {
      "cell_type": "markdown",
      "source": [
        "##3.1- Encoding categorical Features with factorize\n",
        "pandas.factorize() method helps to get the numeric representation of an array by identifying distinct values\n",
        "\n",
        "**Output: fac_train and fac_test**"
      ],
      "metadata": {
        "id": "di5H3aeHuYnZ"
      }
    },
    {
      "cell_type": "code",
      "source": [
        "train.head()"
      ],
      "metadata": {
        "colab": {
          "base_uri": "https://localhost:8080/",
          "height": 0
        },
        "id": "ymT_S2khDXYN",
        "outputId": "33032c21-2846-4ce0-c144-366ff2e81667"
      },
      "execution_count": 962,
      "outputs": [
        {
          "output_type": "execute_result",
          "data": {
            "text/plain": [
              "      id  amount_tsh        funder   gps_height  longitude   latitude  \\\n",
              "0  69572      6000.0         Roman  1390.000000  34.938093  -9.856322   \n",
              "1   8776       200.0       Grumeti  1399.000000  34.698766  -2.147466   \n",
              "2  34310        25.0  Lottery Club   686.000000  37.460664  -3.821329   \n",
              "3  67743        50.0        Unicef   263.000000  38.486161 -11.155298   \n",
              "4  19728       250.0   Action In A  1057.545585  31.130847  -1.825359   \n",
              "\n",
              "                     basin   region  district_code        lga        ward  \\\n",
              "0               Lake Nyasa   Iringa              5     Ludewa    Mundindi   \n",
              "1            Lake Victoria     Mara              2  Serengeti       Natta   \n",
              "2                  Pangani  Manyara              4  Simanjiro     Ngorika   \n",
              "3  Ruvuma / Southern Coast   Mtwara             63   Nanyumbu    Nanyumbu   \n",
              "4            Lake Victoria   Kagera              1    Karagwe  Nyakasimbi   \n",
              "\n",
              "   population public_meeting scheme_management permit  construction_year  \\\n",
              "0       109.0            Yes               VWC     No             1999.0   \n",
              "1       280.0        Missing             Other    Yes             2010.0   \n",
              "2       250.0            Yes               VWC    Yes             2009.0   \n",
              "3        58.0            Yes               VWC    Yes             1986.0   \n",
              "4       200.0            Yes           Missing    Yes             2003.0   \n",
              "\n",
              "  extraction_type management payment_type water_quality      quantity  \\\n",
              "0         gravity        vwc     annually          soft        enough   \n",
              "1         gravity        wug    never pay          soft  insufficient   \n",
              "2         gravity        vwc   per bucket          soft        enough   \n",
              "3     submersible        vwc    never pay          soft           dry   \n",
              "4         gravity      other    never pay          soft      seasonal   \n",
              "\n",
              "                 source              waterpoint_type  status_group  \\\n",
              "0                spring           communal standpipe             0   \n",
              "1  rainwater harvesting           communal standpipe             0   \n",
              "2                   dam  communal standpipe multiple             0   \n",
              "3           machine dbh  communal standpipe multiple             2   \n",
              "4  rainwater harvesting           communal standpipe             0   \n",
              "\n",
              "   year_recorded  month_recorded  day_recorded  quarer_recorded  \\\n",
              "0           2011               3             0                1   \n",
              "1           2013               3             2                1   \n",
              "2           2013               2             0                1   \n",
              "3           2013               1             0                1   \n",
              "4           2011               7             2                3   \n",
              "\n",
              "   percipitation_class  well_age  \n",
              "0                    4      12.0  \n",
              "1                    4       3.0  \n",
              "2                    2       4.0  \n",
              "3                    4      27.0  \n",
              "4                    0       8.0  "
            ],
            "text/html": [
              "\n",
              "  <div id=\"df-2c8ea44a-7729-46a3-b3bb-1a198c92d9fe\">\n",
              "    <div class=\"colab-df-container\">\n",
              "      <div>\n",
              "<style scoped>\n",
              "    .dataframe tbody tr th:only-of-type {\n",
              "        vertical-align: middle;\n",
              "    }\n",
              "\n",
              "    .dataframe tbody tr th {\n",
              "        vertical-align: top;\n",
              "    }\n",
              "\n",
              "    .dataframe thead th {\n",
              "        text-align: right;\n",
              "    }\n",
              "</style>\n",
              "<table border=\"1\" class=\"dataframe\">\n",
              "  <thead>\n",
              "    <tr style=\"text-align: right;\">\n",
              "      <th></th>\n",
              "      <th>id</th>\n",
              "      <th>amount_tsh</th>\n",
              "      <th>funder</th>\n",
              "      <th>gps_height</th>\n",
              "      <th>longitude</th>\n",
              "      <th>latitude</th>\n",
              "      <th>basin</th>\n",
              "      <th>region</th>\n",
              "      <th>district_code</th>\n",
              "      <th>lga</th>\n",
              "      <th>ward</th>\n",
              "      <th>population</th>\n",
              "      <th>public_meeting</th>\n",
              "      <th>scheme_management</th>\n",
              "      <th>permit</th>\n",
              "      <th>construction_year</th>\n",
              "      <th>extraction_type</th>\n",
              "      <th>management</th>\n",
              "      <th>payment_type</th>\n",
              "      <th>water_quality</th>\n",
              "      <th>quantity</th>\n",
              "      <th>source</th>\n",
              "      <th>waterpoint_type</th>\n",
              "      <th>status_group</th>\n",
              "      <th>year_recorded</th>\n",
              "      <th>month_recorded</th>\n",
              "      <th>day_recorded</th>\n",
              "      <th>quarer_recorded</th>\n",
              "      <th>percipitation_class</th>\n",
              "      <th>well_age</th>\n",
              "    </tr>\n",
              "  </thead>\n",
              "  <tbody>\n",
              "    <tr>\n",
              "      <th>0</th>\n",
              "      <td>69572</td>\n",
              "      <td>6000.0</td>\n",
              "      <td>Roman</td>\n",
              "      <td>1390.000000</td>\n",
              "      <td>34.938093</td>\n",
              "      <td>-9.856322</td>\n",
              "      <td>Lake Nyasa</td>\n",
              "      <td>Iringa</td>\n",
              "      <td>5</td>\n",
              "      <td>Ludewa</td>\n",
              "      <td>Mundindi</td>\n",
              "      <td>109.0</td>\n",
              "      <td>Yes</td>\n",
              "      <td>VWC</td>\n",
              "      <td>No</td>\n",
              "      <td>1999.0</td>\n",
              "      <td>gravity</td>\n",
              "      <td>vwc</td>\n",
              "      <td>annually</td>\n",
              "      <td>soft</td>\n",
              "      <td>enough</td>\n",
              "      <td>spring</td>\n",
              "      <td>communal standpipe</td>\n",
              "      <td>0</td>\n",
              "      <td>2011</td>\n",
              "      <td>3</td>\n",
              "      <td>0</td>\n",
              "      <td>1</td>\n",
              "      <td>4</td>\n",
              "      <td>12.0</td>\n",
              "    </tr>\n",
              "    <tr>\n",
              "      <th>1</th>\n",
              "      <td>8776</td>\n",
              "      <td>200.0</td>\n",
              "      <td>Grumeti</td>\n",
              "      <td>1399.000000</td>\n",
              "      <td>34.698766</td>\n",
              "      <td>-2.147466</td>\n",
              "      <td>Lake Victoria</td>\n",
              "      <td>Mara</td>\n",
              "      <td>2</td>\n",
              "      <td>Serengeti</td>\n",
              "      <td>Natta</td>\n",
              "      <td>280.0</td>\n",
              "      <td>Missing</td>\n",
              "      <td>Other</td>\n",
              "      <td>Yes</td>\n",
              "      <td>2010.0</td>\n",
              "      <td>gravity</td>\n",
              "      <td>wug</td>\n",
              "      <td>never pay</td>\n",
              "      <td>soft</td>\n",
              "      <td>insufficient</td>\n",
              "      <td>rainwater harvesting</td>\n",
              "      <td>communal standpipe</td>\n",
              "      <td>0</td>\n",
              "      <td>2013</td>\n",
              "      <td>3</td>\n",
              "      <td>2</td>\n",
              "      <td>1</td>\n",
              "      <td>4</td>\n",
              "      <td>3.0</td>\n",
              "    </tr>\n",
              "    <tr>\n",
              "      <th>2</th>\n",
              "      <td>34310</td>\n",
              "      <td>25.0</td>\n",
              "      <td>Lottery Club</td>\n",
              "      <td>686.000000</td>\n",
              "      <td>37.460664</td>\n",
              "      <td>-3.821329</td>\n",
              "      <td>Pangani</td>\n",
              "      <td>Manyara</td>\n",
              "      <td>4</td>\n",
              "      <td>Simanjiro</td>\n",
              "      <td>Ngorika</td>\n",
              "      <td>250.0</td>\n",
              "      <td>Yes</td>\n",
              "      <td>VWC</td>\n",
              "      <td>Yes</td>\n",
              "      <td>2009.0</td>\n",
              "      <td>gravity</td>\n",
              "      <td>vwc</td>\n",
              "      <td>per bucket</td>\n",
              "      <td>soft</td>\n",
              "      <td>enough</td>\n",
              "      <td>dam</td>\n",
              "      <td>communal standpipe multiple</td>\n",
              "      <td>0</td>\n",
              "      <td>2013</td>\n",
              "      <td>2</td>\n",
              "      <td>0</td>\n",
              "      <td>1</td>\n",
              "      <td>2</td>\n",
              "      <td>4.0</td>\n",
              "    </tr>\n",
              "    <tr>\n",
              "      <th>3</th>\n",
              "      <td>67743</td>\n",
              "      <td>50.0</td>\n",
              "      <td>Unicef</td>\n",
              "      <td>263.000000</td>\n",
              "      <td>38.486161</td>\n",
              "      <td>-11.155298</td>\n",
              "      <td>Ruvuma / Southern Coast</td>\n",
              "      <td>Mtwara</td>\n",
              "      <td>63</td>\n",
              "      <td>Nanyumbu</td>\n",
              "      <td>Nanyumbu</td>\n",
              "      <td>58.0</td>\n",
              "      <td>Yes</td>\n",
              "      <td>VWC</td>\n",
              "      <td>Yes</td>\n",
              "      <td>1986.0</td>\n",
              "      <td>submersible</td>\n",
              "      <td>vwc</td>\n",
              "      <td>never pay</td>\n",
              "      <td>soft</td>\n",
              "      <td>dry</td>\n",
              "      <td>machine dbh</td>\n",
              "      <td>communal standpipe multiple</td>\n",
              "      <td>2</td>\n",
              "      <td>2013</td>\n",
              "      <td>1</td>\n",
              "      <td>0</td>\n",
              "      <td>1</td>\n",
              "      <td>4</td>\n",
              "      <td>27.0</td>\n",
              "    </tr>\n",
              "    <tr>\n",
              "      <th>4</th>\n",
              "      <td>19728</td>\n",
              "      <td>250.0</td>\n",
              "      <td>Action In A</td>\n",
              "      <td>1057.545585</td>\n",
              "      <td>31.130847</td>\n",
              "      <td>-1.825359</td>\n",
              "      <td>Lake Victoria</td>\n",
              "      <td>Kagera</td>\n",
              "      <td>1</td>\n",
              "      <td>Karagwe</td>\n",
              "      <td>Nyakasimbi</td>\n",
              "      <td>200.0</td>\n",
              "      <td>Yes</td>\n",
              "      <td>Missing</td>\n",
              "      <td>Yes</td>\n",
              "      <td>2003.0</td>\n",
              "      <td>gravity</td>\n",
              "      <td>other</td>\n",
              "      <td>never pay</td>\n",
              "      <td>soft</td>\n",
              "      <td>seasonal</td>\n",
              "      <td>rainwater harvesting</td>\n",
              "      <td>communal standpipe</td>\n",
              "      <td>0</td>\n",
              "      <td>2011</td>\n",
              "      <td>7</td>\n",
              "      <td>2</td>\n",
              "      <td>3</td>\n",
              "      <td>0</td>\n",
              "      <td>8.0</td>\n",
              "    </tr>\n",
              "  </tbody>\n",
              "</table>\n",
              "</div>\n",
              "      <button class=\"colab-df-convert\" onclick=\"convertToInteractive('df-2c8ea44a-7729-46a3-b3bb-1a198c92d9fe')\"\n",
              "              title=\"Convert this dataframe to an interactive table.\"\n",
              "              style=\"display:none;\">\n",
              "        \n",
              "  <svg xmlns=\"http://www.w3.org/2000/svg\" height=\"24px\"viewBox=\"0 0 24 24\"\n",
              "       width=\"24px\">\n",
              "    <path d=\"M0 0h24v24H0V0z\" fill=\"none\"/>\n",
              "    <path d=\"M18.56 5.44l.94 2.06.94-2.06 2.06-.94-2.06-.94-.94-2.06-.94 2.06-2.06.94zm-11 1L8.5 8.5l.94-2.06 2.06-.94-2.06-.94L8.5 2.5l-.94 2.06-2.06.94zm10 10l.94 2.06.94-2.06 2.06-.94-2.06-.94-.94-2.06-.94 2.06-2.06.94z\"/><path d=\"M17.41 7.96l-1.37-1.37c-.4-.4-.92-.59-1.43-.59-.52 0-1.04.2-1.43.59L10.3 9.45l-7.72 7.72c-.78.78-.78 2.05 0 2.83L4 21.41c.39.39.9.59 1.41.59.51 0 1.02-.2 1.41-.59l7.78-7.78 2.81-2.81c.8-.78.8-2.07 0-2.86zM5.41 20L4 18.59l7.72-7.72 1.47 1.35L5.41 20z\"/>\n",
              "  </svg>\n",
              "      </button>\n",
              "      \n",
              "  <style>\n",
              "    .colab-df-container {\n",
              "      display:flex;\n",
              "      flex-wrap:wrap;\n",
              "      gap: 12px;\n",
              "    }\n",
              "\n",
              "    .colab-df-convert {\n",
              "      background-color: #E8F0FE;\n",
              "      border: none;\n",
              "      border-radius: 50%;\n",
              "      cursor: pointer;\n",
              "      display: none;\n",
              "      fill: #1967D2;\n",
              "      height: 32px;\n",
              "      padding: 0 0 0 0;\n",
              "      width: 32px;\n",
              "    }\n",
              "\n",
              "    .colab-df-convert:hover {\n",
              "      background-color: #E2EBFA;\n",
              "      box-shadow: 0px 1px 2px rgba(60, 64, 67, 0.3), 0px 1px 3px 1px rgba(60, 64, 67, 0.15);\n",
              "      fill: #174EA6;\n",
              "    }\n",
              "\n",
              "    [theme=dark] .colab-df-convert {\n",
              "      background-color: #3B4455;\n",
              "      fill: #D2E3FC;\n",
              "    }\n",
              "\n",
              "    [theme=dark] .colab-df-convert:hover {\n",
              "      background-color: #434B5C;\n",
              "      box-shadow: 0px 1px 3px 1px rgba(0, 0, 0, 0.15);\n",
              "      filter: drop-shadow(0px 1px 2px rgba(0, 0, 0, 0.3));\n",
              "      fill: #FFFFFF;\n",
              "    }\n",
              "  </style>\n",
              "\n",
              "      <script>\n",
              "        const buttonEl =\n",
              "          document.querySelector('#df-2c8ea44a-7729-46a3-b3bb-1a198c92d9fe button.colab-df-convert');\n",
              "        buttonEl.style.display =\n",
              "          google.colab.kernel.accessAllowed ? 'block' : 'none';\n",
              "\n",
              "        async function convertToInteractive(key) {\n",
              "          const element = document.querySelector('#df-2c8ea44a-7729-46a3-b3bb-1a198c92d9fe');\n",
              "          const dataTable =\n",
              "            await google.colab.kernel.invokeFunction('convertToInteractive',\n",
              "                                                     [key], {});\n",
              "          if (!dataTable) return;\n",
              "\n",
              "          const docLinkHtml = 'Like what you see? Visit the ' +\n",
              "            '<a target=\"_blank\" href=https://colab.research.google.com/notebooks/data_table.ipynb>data table notebook</a>'\n",
              "            + ' to learn more about interactive tables.';\n",
              "          element.innerHTML = '';\n",
              "          dataTable['output_type'] = 'display_data';\n",
              "          await google.colab.output.renderOutput(dataTable, element);\n",
              "          const docLink = document.createElement('div');\n",
              "          docLink.innerHTML = docLinkHtml;\n",
              "          element.appendChild(docLink);\n",
              "        }\n",
              "      </script>\n",
              "    </div>\n",
              "  </div>\n",
              "  "
            ]
          },
          "metadata": {},
          "execution_count": 962
        }
      ]
    },
    {
      "cell_type": "code",
      "source": [
        "fac_train=train.copy()\n",
        "fac_test=test.copy()"
      ],
      "metadata": {
        "id": "rTO9jn8DCuL2"
      },
      "execution_count": 963,
      "outputs": []
    },
    {
      "cell_type": "code",
      "source": [
        "fac_train['train']=1\n",
        "fac_test['train']=0\n",
        "fac_train.info()"
      ],
      "metadata": {
        "colab": {
          "base_uri": "https://localhost:8080/"
        },
        "id": "758UzZbHCdy8",
        "outputId": "f896363d-927c-40c6-c4b3-781d36637387"
      },
      "execution_count": 964,
      "outputs": [
        {
          "output_type": "stream",
          "name": "stdout",
          "text": [
            "<class 'pandas.core.frame.DataFrame'>\n",
            "RangeIndex: 59400 entries, 0 to 59399\n",
            "Data columns (total 31 columns):\n",
            " #   Column               Non-Null Count  Dtype  \n",
            "---  ------               --------------  -----  \n",
            " 0   id                   59400 non-null  int64  \n",
            " 1   amount_tsh           59400 non-null  float64\n",
            " 2   funder               59400 non-null  object \n",
            " 3   gps_height           59400 non-null  float64\n",
            " 4   longitude            59400 non-null  float64\n",
            " 5   latitude             59400 non-null  float64\n",
            " 6   basin                59400 non-null  object \n",
            " 7   region               59400 non-null  object \n",
            " 8   district_code        59400 non-null  int64  \n",
            " 9   lga                  59400 non-null  object \n",
            " 10  ward                 59400 non-null  object \n",
            " 11  population           59400 non-null  float64\n",
            " 12  public_meeting       59400 non-null  object \n",
            " 13  scheme_management    59400 non-null  object \n",
            " 14  permit               59400 non-null  object \n",
            " 15  construction_year    59400 non-null  float64\n",
            " 16  extraction_type      59400 non-null  object \n",
            " 17  management           59400 non-null  object \n",
            " 18  payment_type         59400 non-null  object \n",
            " 19  water_quality        59400 non-null  object \n",
            " 20  quantity             59400 non-null  object \n",
            " 21  source               59400 non-null  object \n",
            " 22  waterpoint_type      59400 non-null  object \n",
            " 23  status_group         59400 non-null  int64  \n",
            " 24  year_recorded        59400 non-null  int64  \n",
            " 25  month_recorded       59400 non-null  int64  \n",
            " 26  day_recorded         59400 non-null  int64  \n",
            " 27  quarer_recorded      59400 non-null  int64  \n",
            " 28  percipitation_class  59400 non-null  int64  \n",
            " 29  well_age             59400 non-null  float64\n",
            " 30  train                59400 non-null  int64  \n",
            "dtypes: float64(7), int64(9), object(15)\n",
            "memory usage: 14.0+ MB\n"
          ]
        }
      ]
    },
    {
      "cell_type": "code",
      "source": [
        "fac_train.shape,fac_test.shape"
      ],
      "metadata": {
        "colab": {
          "base_uri": "https://localhost:8080/"
        },
        "id": "TNWM0xVvCf8t",
        "outputId": "ea2914ab-8d08-407d-e9ef-cfb79faa783b"
      },
      "execution_count": 965,
      "outputs": [
        {
          "output_type": "execute_result",
          "data": {
            "text/plain": [
              "((59400, 31), (14850, 30))"
            ]
          },
          "metadata": {},
          "execution_count": 965
        }
      ]
    },
    {
      "cell_type": "code",
      "source": [
        "target=fac_train.pop('status_group')"
      ],
      "metadata": {
        "id": "oqCO-3d0ChxM"
      },
      "execution_count": 966,
      "outputs": []
    },
    {
      "cell_type": "code",
      "source": [
        "combined = pd.concat([fac_train, fac_test])"
      ],
      "metadata": {
        "id": "wDVlRHsZCjd-"
      },
      "execution_count": 967,
      "outputs": []
    },
    {
      "cell_type": "code",
      "source": [
        "combined.info()"
      ],
      "metadata": {
        "colab": {
          "base_uri": "https://localhost:8080/"
        },
        "id": "Lp0zrn40ClSp",
        "outputId": "886aa028-941e-4948-8fdb-767eecb98c48"
      },
      "execution_count": 968,
      "outputs": [
        {
          "output_type": "stream",
          "name": "stdout",
          "text": [
            "<class 'pandas.core.frame.DataFrame'>\n",
            "Int64Index: 74250 entries, 0 to 14849\n",
            "Data columns (total 30 columns):\n",
            " #   Column               Non-Null Count  Dtype  \n",
            "---  ------               --------------  -----  \n",
            " 0   id                   74250 non-null  int64  \n",
            " 1   amount_tsh           74250 non-null  float64\n",
            " 2   funder               74250 non-null  object \n",
            " 3   gps_height           74250 non-null  float64\n",
            " 4   longitude            74250 non-null  float64\n",
            " 5   latitude             74250 non-null  float64\n",
            " 6   basin                74250 non-null  object \n",
            " 7   region               74250 non-null  object \n",
            " 8   district_code        74250 non-null  int64  \n",
            " 9   lga                  74250 non-null  object \n",
            " 10  ward                 74250 non-null  object \n",
            " 11  population           74250 non-null  float64\n",
            " 12  public_meeting       74250 non-null  object \n",
            " 13  scheme_management    74250 non-null  object \n",
            " 14  permit               74250 non-null  object \n",
            " 15  construction_year    74250 non-null  float64\n",
            " 16  extraction_type      74250 non-null  object \n",
            " 17  management           74250 non-null  object \n",
            " 18  payment_type         74250 non-null  object \n",
            " 19  water_quality        74250 non-null  object \n",
            " 20  quantity             74250 non-null  object \n",
            " 21  source               74250 non-null  object \n",
            " 22  waterpoint_type      74250 non-null  object \n",
            " 23  year_recorded        74250 non-null  int64  \n",
            " 24  month_recorded       74250 non-null  int64  \n",
            " 25  day_recorded         74250 non-null  int64  \n",
            " 26  quarer_recorded      74250 non-null  int64  \n",
            " 27  percipitation_class  74250 non-null  int64  \n",
            " 28  well_age             74250 non-null  float64\n",
            " 29  train                74250 non-null  int64  \n",
            "dtypes: float64(7), int64(8), object(15)\n",
            "memory usage: 17.6+ MB\n"
          ]
        }
      ]
    },
    {
      "cell_type": "code",
      "source": [
        "fac_train.select_dtypes(include='object').columns"
      ],
      "metadata": {
        "colab": {
          "base_uri": "https://localhost:8080/"
        },
        "id": "ZqJX_8kmuhee",
        "outputId": "4a734c30-8495-44a1-8e44-67358ee75619"
      },
      "execution_count": 969,
      "outputs": [
        {
          "output_type": "execute_result",
          "data": {
            "text/plain": [
              "Index(['funder', 'basin', 'region', 'lga', 'ward', 'public_meeting',\n",
              "       'scheme_management', 'permit', 'extraction_type', 'management',\n",
              "       'payment_type', 'water_quality', 'quantity', 'source',\n",
              "       'waterpoint_type'],\n",
              "      dtype='object')"
            ]
          },
          "metadata": {},
          "execution_count": 969
        }
      ]
    },
    {
      "cell_type": "code",
      "source": [
        "combined['funder'] = pd.factorize(combined['funder'])[0]\n",
        "combined['scheme_management'] = pd.factorize(combined['scheme_management'])[0]\n",
        "combined['extraction_type'] = pd.factorize(combined['extraction_type'])[0]\n",
        "combined['management'] = pd.factorize(combined['management'])[0]\n",
        "combined['payment_type'] = pd.factorize(combined['payment_type'])[0]\n",
        "combined['water_quality'] = pd.factorize(combined['water_quality'])[0]\n",
        "combined['quantity'] = pd.factorize(combined['quantity'])[0]\n",
        "combined['source'] = pd.factorize(combined['source'])[0]\n",
        "combined['waterpoint_type'] = pd.factorize(combined['waterpoint_type'])[0]\n",
        "combined['basin'] = pd.factorize(combined['basin'])[0]\n",
        "combined['region'] = pd.factorize(combined['region'])[0]\n",
        "combined['lga'] = pd.factorize(combined['lga'])[0]\n",
        "# combined['district_code'] = pd.factorize(combined['district_code'])[0]\n",
        "combined['well_age'] = pd.factorize(combined['well_age'])[0]\n",
        "combined['ward'] = pd.factorize(combined['ward'])[0]\n",
        "combined['permit'] = pd.factorize(combined['permit'])[0]\n",
        "combined['public_meeting'] = pd.factorize(combined['public_meeting'])[0]\n",
        "\n",
        "\n",
        "combined.lga.head(5)"
      ],
      "metadata": {
        "colab": {
          "base_uri": "https://localhost:8080/"
        },
        "id": "EQECNCvt5HJ3",
        "outputId": "1f43324c-0042-4d11-b904-4a4b31dec2ee"
      },
      "execution_count": 970,
      "outputs": [
        {
          "output_type": "execute_result",
          "data": {
            "text/plain": [
              "0    0\n",
              "1    1\n",
              "2    2\n",
              "3    3\n",
              "4    4\n",
              "Name: lga, dtype: int64"
            ]
          },
          "metadata": {},
          "execution_count": 970
        }
      ]
    },
    {
      "cell_type": "code",
      "source": [
        "fac_train = combined[combined[\"train\"] == 1]\n",
        "fac_test = combined[combined[\"train\"] == 0]\n",
        "fac_train.drop([\"train\"], axis=1, inplace=True)\n",
        "fac_train.drop(['id'],axis=1, inplace=True)\n",
        "\n",
        "fac_test.drop([\"train\"], axis=1, inplace=True)\n",
        "fac_test.drop(['id'],axis=1, inplace=True)"
      ],
      "metadata": {
        "colab": {
          "base_uri": "https://localhost:8080/"
        },
        "id": "brWqczTrwU53",
        "outputId": "abbb9f12-44b7-4c8f-f228-eb3c2c01a110"
      },
      "execution_count": 971,
      "outputs": [
        {
          "output_type": "stream",
          "name": "stderr",
          "text": [
            "/usr/local/lib/python3.8/dist-packages/pandas/core/frame.py:4906: SettingWithCopyWarning: \n",
            "A value is trying to be set on a copy of a slice from a DataFrame\n",
            "\n",
            "See the caveats in the documentation: https://pandas.pydata.org/pandas-docs/stable/user_guide/indexing.html#returning-a-view-versus-a-copy\n",
            "  return super().drop(\n"
          ]
        }
      ]
    },
    {
      "cell_type": "code",
      "execution_count": 971,
      "metadata": {
        "id": "xsGiGwuMlCWt"
      },
      "outputs": [],
      "source": []
    },
    {
      "cell_type": "markdown",
      "source": [
        "##3.2- Target Value encoding\n",
        "\n",
        "**Output: tar_train and tar_test**\n",
        "\n",
        "https://towardsdatascience.com/target-encoding-for-multi-class-classification-c9a7bcb1a53\n",
        "\n",
        "https://contrib.scikit-learn.org/category_encoders/"
      ],
      "metadata": {
        "id": "tL7zWHnhAbt_"
      }
    },
    {
      "cell_type": "code",
      "source": [
        "train.select_dtypes(include='object').columns"
      ],
      "metadata": {
        "colab": {
          "base_uri": "https://localhost:8080/"
        },
        "id": "5AB9_ZGMAu5t",
        "outputId": "b73a974b-fe04-4662-956e-8c1991fb81ed"
      },
      "execution_count": 972,
      "outputs": [
        {
          "output_type": "execute_result",
          "data": {
            "text/plain": [
              "Index(['funder', 'basin', 'region', 'lga', 'ward', 'public_meeting',\n",
              "       'scheme_management', 'permit', 'extraction_type', 'management',\n",
              "       'payment_type', 'water_quality', 'quantity', 'source',\n",
              "       'waterpoint_type'],\n",
              "      dtype='object')"
            ]
          },
          "metadata": {},
          "execution_count": 972
        }
      ]
    },
    {
      "cell_type": "code",
      "source": [
        "print('funder has', len(train.funder.value_counts()),'categories and ward has', len(train.ward.value_counts()))"
      ],
      "metadata": {
        "colab": {
          "base_uri": "https://localhost:8080/"
        },
        "id": "4vsotu3WIWN9",
        "outputId": "a893795a-b034-4bf8-a40e-881c4a7d86e0"
      },
      "execution_count": 973,
      "outputs": [
        {
          "output_type": "stream",
          "name": "stdout",
          "text": [
            "funder has 1898 categories and ward has 2092\n"
          ]
        }
      ]
    },
    {
      "cell_type": "code",
      "source": [
        "tar_train=train.copy()\n",
        "tar_test=test.copy()"
      ],
      "metadata": {
        "id": "HIQmoLBgF6jY"
      },
      "execution_count": 1002,
      "outputs": []
    },
    {
      "cell_type": "code",
      "source": [
        "tar_train.drop(['id'],axis=1, inplace=True)\n",
        "tar_test.drop(['id'],axis=1, inplace=True)"
      ],
      "metadata": {
        "id": "KyjqoplEF1bg"
      },
      "execution_count": 1003,
      "outputs": []
    },
    {
      "cell_type": "code",
      "source": [
        "#turn out the public_meeting has zero variance with target so we will drop it\n",
        "\n",
        "tar_train.drop(['public_meeting'],axis=1, inplace=True)\n",
        "tar_test.drop(['public_meeting'],axis=1, inplace=True)\n",
        "\n",
        "tar_train.drop(['permit'],axis=1, inplace=True)\n",
        "tar_test.drop(['permit'],axis=1, inplace=True)"
      ],
      "metadata": {
        "id": "y9RO6qZGtKiP"
      },
      "execution_count": 1004,
      "outputs": []
    },
    {
      "cell_type": "markdown",
      "source": [
        "###3.2.1- Rare Value Encoding for Extremely Cardinal Features\n",
        "If used the rare value encoding for categorical features, **DO NOT RUN** this part"
      ],
      "metadata": {
        "id": "0ENLiJFSJSCv"
      }
    },
    {
      "cell_type": "code",
      "source": [
        "rare_encoder_EXtreme_Cardinality = RareLabelEncoder(\n",
        "    tol=0.002,  # minimal percentage to be considered non-rare\n",
        "    n_categories=4, # minimal number of categories the variable should have to re-cgroup rare categories\n",
        "    max_n_categories = 1000,\n",
        "    variables=['funder'], # variables to re-group\n",
        "    replace_with='Rare'\n",
        ")  "
      ],
      "metadata": {
        "id": "pA9p4eaFJabd"
      },
      "execution_count": 1005,
      "outputs": []
    },
    {
      "cell_type": "code",
      "source": [
        "rare_encoder_ExCard_ward = RareLabelEncoder(\n",
        "    tol=0.002,  # minimal percentage to be considered non-rare\n",
        "    n_categories=4, # minimal number of categories the variable should have to re-cgroup rare categories\n",
        "    max_n_categories = 1000,\n",
        "    variables=['ward'], # variables to re-group\n",
        "    replace_with='Rare'\n",
        ")"
      ],
      "metadata": {
        "id": "A_rVJIx9JhYx"
      },
      "execution_count": 1006,
      "outputs": []
    },
    {
      "cell_type": "code",
      "source": [
        "rare_encoder_EXtreme_Cardinality.fit(tar_train)"
      ],
      "metadata": {
        "colab": {
          "base_uri": "https://localhost:8080/"
        },
        "id": "HG9M3FSGKfYJ",
        "outputId": "dfbbae2d-b917-4c49-8751-f5b577cc7abc"
      },
      "execution_count": 1007,
      "outputs": [
        {
          "output_type": "execute_result",
          "data": {
            "text/plain": [
              "RareLabelEncoder(max_n_categories=1000, n_categories=4, tol=0.002,\n",
              "                 variables=['funder'])"
            ]
          },
          "metadata": {},
          "execution_count": 1007
        }
      ]
    },
    {
      "cell_type": "code",
      "source": [
        "rare_encoder_ExCard_ward.fit(tar_train)"
      ],
      "metadata": {
        "colab": {
          "base_uri": "https://localhost:8080/"
        },
        "id": "5ZCwttaCKqtK",
        "outputId": "89073be6-b830-4f3f-ef58-41c81a368935"
      },
      "execution_count": 1008,
      "outputs": [
        {
          "output_type": "execute_result",
          "data": {
            "text/plain": [
              "RareLabelEncoder(max_n_categories=1000, n_categories=4, tol=0.002,\n",
              "                 variables=['ward'])"
            ]
          },
          "metadata": {},
          "execution_count": 1008
        }
      ]
    },
    {
      "cell_type": "code",
      "source": [
        "tar_train = rare_encoder_EXtreme_Cardinality.transform(tar_train)\n",
        "# test = rare_encoder_EXtreme_Cardinality.transform(test)"
      ],
      "metadata": {
        "id": "bEPYrs42JmZf"
      },
      "execution_count": 1009,
      "outputs": []
    },
    {
      "cell_type": "code",
      "source": [
        "tar_train = rare_encoder_ExCard_ward.transform(tar_train)\n",
        "# test = rare_encoder_ExCard_ward.transform(test)"
      ],
      "metadata": {
        "id": "UIBOxZExJr3R"
      },
      "execution_count": 1010,
      "outputs": []
    },
    {
      "cell_type": "code",
      "source": [
        "# check for cardinality in categorical variables\n",
        "\n",
        "for var in ['funder','ward']:\n",
        "    \n",
        "    print(var, ' contains ', len(tar_train[var].unique()), ' labels')"
      ],
      "metadata": {
        "colab": {
          "base_uri": "https://localhost:8080/"
        },
        "id": "rhYn1-jYJzJV",
        "outputId": "41e06586-db4c-47d8-c0d4-41dbc45b0d6d"
      },
      "execution_count": 1011,
      "outputs": [
        {
          "output_type": "stream",
          "name": "stdout",
          "text": [
            "funder  contains  80  labels\n",
            "ward  contains  33  labels\n"
          ]
        }
      ]
    },
    {
      "cell_type": "markdown",
      "source": [
        "###3.2.2- Perfrming Target Encoding"
      ],
      "metadata": {
        "id": "Ta3kyS5IMBvR"
      }
    },
    {
      "cell_type": "code",
      "source": [
        "# train.head()"
      ],
      "metadata": {
        "id": "QLedWw99Bh5n"
      },
      "execution_count": 988,
      "outputs": []
    },
    {
      "cell_type": "code",
      "source": [
        "# for var in ['funder', 'basin', 'region', 'lga', 'ward', 'public_meeting',\n",
        "#        'scheme_management', 'permit', 'extraction_type', 'management',\n",
        "#        'payment_type', 'water_quality', 'quantity', 'source',\n",
        "#        'waterpoint_type']:\n",
        "    \n",
        "#     fig = plt.figure()\n",
        "#     fig = tar_train.groupby([var])['status_group'].mean().plot()\n",
        "#     fig.set_title('Relationship between {} and statue_group'.format(var))\n",
        "#     fig.set_ylabel('Mean status_group')\n",
        "#     plt.show()"
      ],
      "metadata": {
        "id": "Msv_6VEGAoRa"
      },
      "execution_count": 989,
      "outputs": []
    },
    {
      "cell_type": "code",
      "source": [
        "status_labels =['func', 'non-func' , 'func_repair']"
      ],
      "metadata": {
        "id": "1PQjtaP2GJ7u"
      },
      "execution_count": 1012,
      "outputs": []
    },
    {
      "cell_type": "code",
      "source": [
        "enc=OneHotEncoder().fit(tar_train.status_group.astype(str))\n",
        "status_group_labels=enc.transform(tar_train.status_group.astype(str))\n",
        "status_group_labels.columns = status_labels\n",
        "status_group_labels.head()"
      ],
      "metadata": {
        "colab": {
          "base_uri": "https://localhost:8080/",
          "height": 206
        },
        "id": "cmUFlMUoGMoz",
        "outputId": "694fa71f-1c4a-4941-f6d7-0144761e2d75"
      },
      "execution_count": 1013,
      "outputs": [
        {
          "output_type": "execute_result",
          "data": {
            "text/plain": [
              "   func  non-func  func_repair\n",
              "0     1         0            0\n",
              "1     1         0            0\n",
              "2     1         0            0\n",
              "3     0         1            0\n",
              "4     1         0            0"
            ],
            "text/html": [
              "\n",
              "  <div id=\"df-d0927b14-f538-48fc-9bf2-c61232c92a40\">\n",
              "    <div class=\"colab-df-container\">\n",
              "      <div>\n",
              "<style scoped>\n",
              "    .dataframe tbody tr th:only-of-type {\n",
              "        vertical-align: middle;\n",
              "    }\n",
              "\n",
              "    .dataframe tbody tr th {\n",
              "        vertical-align: top;\n",
              "    }\n",
              "\n",
              "    .dataframe thead th {\n",
              "        text-align: right;\n",
              "    }\n",
              "</style>\n",
              "<table border=\"1\" class=\"dataframe\">\n",
              "  <thead>\n",
              "    <tr style=\"text-align: right;\">\n",
              "      <th></th>\n",
              "      <th>func</th>\n",
              "      <th>non-func</th>\n",
              "      <th>func_repair</th>\n",
              "    </tr>\n",
              "  </thead>\n",
              "  <tbody>\n",
              "    <tr>\n",
              "      <th>0</th>\n",
              "      <td>1</td>\n",
              "      <td>0</td>\n",
              "      <td>0</td>\n",
              "    </tr>\n",
              "    <tr>\n",
              "      <th>1</th>\n",
              "      <td>1</td>\n",
              "      <td>0</td>\n",
              "      <td>0</td>\n",
              "    </tr>\n",
              "    <tr>\n",
              "      <th>2</th>\n",
              "      <td>1</td>\n",
              "      <td>0</td>\n",
              "      <td>0</td>\n",
              "    </tr>\n",
              "    <tr>\n",
              "      <th>3</th>\n",
              "      <td>0</td>\n",
              "      <td>1</td>\n",
              "      <td>0</td>\n",
              "    </tr>\n",
              "    <tr>\n",
              "      <th>4</th>\n",
              "      <td>1</td>\n",
              "      <td>0</td>\n",
              "      <td>0</td>\n",
              "    </tr>\n",
              "  </tbody>\n",
              "</table>\n",
              "</div>\n",
              "      <button class=\"colab-df-convert\" onclick=\"convertToInteractive('df-d0927b14-f538-48fc-9bf2-c61232c92a40')\"\n",
              "              title=\"Convert this dataframe to an interactive table.\"\n",
              "              style=\"display:none;\">\n",
              "        \n",
              "  <svg xmlns=\"http://www.w3.org/2000/svg\" height=\"24px\"viewBox=\"0 0 24 24\"\n",
              "       width=\"24px\">\n",
              "    <path d=\"M0 0h24v24H0V0z\" fill=\"none\"/>\n",
              "    <path d=\"M18.56 5.44l.94 2.06.94-2.06 2.06-.94-2.06-.94-.94-2.06-.94 2.06-2.06.94zm-11 1L8.5 8.5l.94-2.06 2.06-.94-2.06-.94L8.5 2.5l-.94 2.06-2.06.94zm10 10l.94 2.06.94-2.06 2.06-.94-2.06-.94-.94-2.06-.94 2.06-2.06.94z\"/><path d=\"M17.41 7.96l-1.37-1.37c-.4-.4-.92-.59-1.43-.59-.52 0-1.04.2-1.43.59L10.3 9.45l-7.72 7.72c-.78.78-.78 2.05 0 2.83L4 21.41c.39.39.9.59 1.41.59.51 0 1.02-.2 1.41-.59l7.78-7.78 2.81-2.81c.8-.78.8-2.07 0-2.86zM5.41 20L4 18.59l7.72-7.72 1.47 1.35L5.41 20z\"/>\n",
              "  </svg>\n",
              "      </button>\n",
              "      \n",
              "  <style>\n",
              "    .colab-df-container {\n",
              "      display:flex;\n",
              "      flex-wrap:wrap;\n",
              "      gap: 12px;\n",
              "    }\n",
              "\n",
              "    .colab-df-convert {\n",
              "      background-color: #E8F0FE;\n",
              "      border: none;\n",
              "      border-radius: 50%;\n",
              "      cursor: pointer;\n",
              "      display: none;\n",
              "      fill: #1967D2;\n",
              "      height: 32px;\n",
              "      padding: 0 0 0 0;\n",
              "      width: 32px;\n",
              "    }\n",
              "\n",
              "    .colab-df-convert:hover {\n",
              "      background-color: #E2EBFA;\n",
              "      box-shadow: 0px 1px 2px rgba(60, 64, 67, 0.3), 0px 1px 3px 1px rgba(60, 64, 67, 0.15);\n",
              "      fill: #174EA6;\n",
              "    }\n",
              "\n",
              "    [theme=dark] .colab-df-convert {\n",
              "      background-color: #3B4455;\n",
              "      fill: #D2E3FC;\n",
              "    }\n",
              "\n",
              "    [theme=dark] .colab-df-convert:hover {\n",
              "      background-color: #434B5C;\n",
              "      box-shadow: 0px 1px 3px 1px rgba(0, 0, 0, 0.15);\n",
              "      filter: drop-shadow(0px 1px 2px rgba(0, 0, 0, 0.3));\n",
              "      fill: #FFFFFF;\n",
              "    }\n",
              "  </style>\n",
              "\n",
              "      <script>\n",
              "        const buttonEl =\n",
              "          document.querySelector('#df-d0927b14-f538-48fc-9bf2-c61232c92a40 button.colab-df-convert');\n",
              "        buttonEl.style.display =\n",
              "          google.colab.kernel.accessAllowed ? 'block' : 'none';\n",
              "\n",
              "        async function convertToInteractive(key) {\n",
              "          const element = document.querySelector('#df-d0927b14-f538-48fc-9bf2-c61232c92a40');\n",
              "          const dataTable =\n",
              "            await google.colab.kernel.invokeFunction('convertToInteractive',\n",
              "                                                     [key], {});\n",
              "          if (!dataTable) return;\n",
              "\n",
              "          const docLinkHtml = 'Like what you see? Visit the ' +\n",
              "            '<a target=\"_blank\" href=https://colab.research.google.com/notebooks/data_table.ipynb>data table notebook</a>'\n",
              "            + ' to learn more about interactive tables.';\n",
              "          element.innerHTML = '';\n",
              "          dataTable['output_type'] = 'display_data';\n",
              "          await google.colab.output.renderOutput(dataTable, element);\n",
              "          const docLink = document.createElement('div');\n",
              "          docLink.innerHTML = docLinkHtml;\n",
              "          element.appendChild(docLink);\n",
              "        }\n",
              "      </script>\n",
              "    </div>\n",
              "  </div>\n",
              "  "
            ]
          },
          "metadata": {},
          "execution_count": 1013
        }
      ]
    },
    {
      "cell_type": "code",
      "source": [
        "class_names=status_group_labels.columns[0:3]\n",
        "class_names"
      ],
      "metadata": {
        "colab": {
          "base_uri": "https://localhost:8080/"
        },
        "id": "_h6XondNGWCf",
        "outputId": "999043d8-721d-4d03-87d2-9172dc37dd8f"
      },
      "execution_count": 1014,
      "outputs": [
        {
          "output_type": "execute_result",
          "data": {
            "text/plain": [
              "Index(['func', 'non-func', 'func_repair'], dtype='object')"
            ]
          },
          "metadata": {},
          "execution_count": 1014
        }
      ]
    },
    {
      "cell_type": "code",
      "source": [
        "variables=tar_train.select_dtypes(include='object').columns\n",
        "variables"
      ],
      "metadata": {
        "colab": {
          "base_uri": "https://localhost:8080/"
        },
        "id": "eAZcnzrvGbRB",
        "outputId": "804c656f-e3cb-40d7-80ff-ec0e0d451dce"
      },
      "execution_count": 1015,
      "outputs": [
        {
          "output_type": "execute_result",
          "data": {
            "text/plain": [
              "Index(['funder', 'basin', 'region', 'lga', 'ward', 'scheme_management',\n",
              "       'extraction_type', 'management', 'payment_type', 'water_quality',\n",
              "       'quantity', 'source', 'waterpoint_type'],\n",
              "      dtype='object')"
            ]
          },
          "metadata": {},
          "execution_count": 1015
        }
      ]
    },
    {
      "cell_type": "code",
      "source": [
        "enc=TargetEncoder(\n",
        "    verbose=0,\n",
        "    cols=None,\n",
        "    drop_invariant=True,\n",
        "    return_df=True,\n",
        "    # handle_missing='value',\n",
        "    # handle_unknown='value',\n",
        "    min_samples_leaf=8,\n",
        "\n",
        "    smoothing=10,\n",
        "    )"
      ],
      "metadata": {
        "id": "2tucQepHr8cD"
      },
      "execution_count": 1016,
      "outputs": []
    },
    {
      "cell_type": "code",
      "source": [
        "#set smoothing value to avoid over fitting\n",
        "\n",
        "for var in variables:\n",
        "  for class_ in class_names:\n",
        "    # print(enc.fit_transform(data,status_group_labels[class_]))\n",
        "    target_enc = enc.fit(tar_train[var],status_group_labels[class_])\n",
        "    tar_train[var + '_' + class_] = enc.transform(tar_train[var])\n",
        "    tar_test[var + '_' + class_] = enc.transform(tar_test[var])"
      ],
      "metadata": {
        "id": "0SRAY4fMGpqd"
      },
      "execution_count": 1017,
      "outputs": []
    },
    {
      "cell_type": "code",
      "source": [
        "tar_train = tar_train.drop(variables,axis=1)\n",
        "tar_test = tar_test.drop(variables,axis=1)"
      ],
      "metadata": {
        "id": "ziCcq_kaG5yk"
      },
      "execution_count": 1018,
      "outputs": []
    },
    {
      "cell_type": "code",
      "source": [
        "tar_train.head()"
      ],
      "metadata": {
        "colab": {
          "base_uri": "https://localhost:8080/",
          "height": 287
        },
        "id": "y9aO0dWivMPv",
        "outputId": "faa27f06-5424-4b74-a46c-b6e54a993642"
      },
      "execution_count": 1019,
      "outputs": [
        {
          "output_type": "execute_result",
          "data": {
            "text/plain": [
              "   amount_tsh   gps_height  longitude   latitude  district_code  population  \\\n",
              "0      6000.0  1390.000000  34.938093  -9.856322              5       109.0   \n",
              "1       200.0  1399.000000  34.698766  -2.147466              2       280.0   \n",
              "2        25.0   686.000000  37.460664  -3.821329              4       250.0   \n",
              "3        50.0   263.000000  38.486161 -11.155298             63        58.0   \n",
              "4       250.0  1057.545585  31.130847  -1.825359              1       200.0   \n",
              "\n",
              "   construction_year  status_group  year_recorded  month_recorded  \\\n",
              "0             1999.0             0           2011               3   \n",
              "1             2010.0             0           2013               3   \n",
              "2             2009.0             0           2013               2   \n",
              "3             1986.0             2           2013               1   \n",
              "4             2003.0             0           2011               7   \n",
              "\n",
              "   day_recorded  quarer_recorded  percipitation_class  well_age  funder_func  \\\n",
              "0             0                1                    4      12.0     0.821818   \n",
              "1             2                1                    4       3.0     0.593410   \n",
              "2             0                1                    2       4.0     0.593410   \n",
              "3             0                1                    4      27.0     0.567644   \n",
              "4             2                3                    0       8.0     0.593410   \n",
              "\n",
              "   funder_non-func  funder_func_repair  basin_func  basin_non-func  \\\n",
              "0         0.145455            0.032727    0.653687        0.297148   \n",
              "1         0.346422            0.060168    0.497658        0.405835   \n",
              "2         0.346422            0.060168    0.600895        0.345749   \n",
              "3         0.338694            0.093661    0.371689        0.555753   \n",
              "4         0.346422            0.060168    0.497658        0.405835   \n",
              "\n",
              "   basin_func_repair  region_func  region_non-func  region_func_repair  \\\n",
              "0           0.049164     0.782206         0.194560            0.023234   \n",
              "1           0.096507     0.449975         0.519553            0.030472   \n",
              "2           0.053356     0.623500         0.315856            0.060644   \n",
              "3           0.072557     0.302890         0.624277            0.072832   \n",
              "4           0.096507     0.520808         0.387515            0.091677   \n",
              "\n",
              "   lga_func  lga_non-func  lga_func_repair  ward_func  ward_non-func  \\\n",
              "0  0.774823      0.205674     1.950355e-02   0.526244       0.399379   \n",
              "1  0.592179      0.370112     3.770950e-02   0.526244       0.399379   \n",
              "2  0.581169      0.402597     1.623377e-02   0.526244       0.399379   \n",
              "3  0.265823      0.734177     2.223199e-08   0.526244       0.399379   \n",
              "4  0.530480      0.411154     5.836576e-02   0.526244       0.399379   \n",
              "\n",
              "   ward_func_repair  scheme_management_func  scheme_management_non-func  \\\n",
              "0          0.074377                0.515315                    0.421249   \n",
              "1          0.074377                0.598435                    0.372881   \n",
              "2          0.074377                0.515315                    0.421249   \n",
              "3          0.074377                0.515315                    0.421249   \n",
              "4          0.074377                0.483105                    0.459376   \n",
              "\n",
              "   scheme_management_func_repair  extraction_type_func  \\\n",
              "0                       0.063436              0.599253   \n",
              "1                       0.028683              0.599253   \n",
              "2                       0.063436              0.599253   \n",
              "3                       0.063436              0.551217   \n",
              "4                       0.057519              0.599253   \n",
              "\n",
              "   extraction_type_non-func  extraction_type_func_repair  management_func  \\\n",
              "0                  0.299888                     0.100859         0.504234   \n",
              "1                  0.299888                     0.100859         0.599540   \n",
              "2                  0.299888                     0.100859         0.504234   \n",
              "3                  0.401134                     0.047649         0.504234   \n",
              "4                  0.299888                     0.100859         0.598341   \n",
              "\n",
              "   management_non-func  management_func_repair  payment_type_func  \\\n",
              "0             0.426864                0.068902           0.752334   \n",
              "1             0.301458                0.099002           0.448911   \n",
              "2             0.426864                0.068902           0.677796   \n",
              "3             0.426864                0.068902           0.448911   \n",
              "4             0.336493                0.065166           0.448911   \n",
              "\n",
              "   payment_type_non-func  payment_type_func_repair  water_quality_func  \\\n",
              "0               0.179846                  0.067820            0.565941   \n",
              "1               0.475856                  0.075233            0.565941   \n",
              "2               0.276683                  0.045520            0.565941   \n",
              "3               0.475856                  0.075233            0.565941   \n",
              "4               0.475856                  0.075233            0.565941   \n",
              "\n",
              "   water_quality_non-func  water_quality_func_repair  quantity_func  \\\n",
              "0                0.357236                   0.076823       0.652323   \n",
              "1                0.357236                   0.076823       0.523234   \n",
              "2                0.357236                   0.076823       0.652323   \n",
              "3                0.357236                   0.076823       0.025136   \n",
              "4                0.357236                   0.076823       0.574074   \n",
              "\n",
              "   quantity_non-func  quantity_func_repair  source_func  source_non-func  \\\n",
              "0           0.275357              0.072320     0.622290         0.302744   \n",
              "1           0.380924              0.095842     0.603922         0.259259   \n",
              "2           0.275357              0.072320     0.385671         0.577744   \n",
              "3           0.968940              0.005924     0.489571         0.466095   \n",
              "4           0.323210              0.102716     0.603922         0.259259   \n",
              "\n",
              "   source_func_repair  waterpoint_type_func  waterpoint_type_non-func  \\\n",
              "0            0.074966              0.621485                  0.299278   \n",
              "1            0.136819              0.621485                  0.299278   \n",
              "2            0.036585              0.366213                  0.527609   \n",
              "3            0.044334              0.366213                  0.527609   \n",
              "4            0.136819              0.621485                  0.299278   \n",
              "\n",
              "   waterpoint_type_func_repair  \n",
              "0                     0.079237  \n",
              "1                     0.079237  \n",
              "2                     0.106177  \n",
              "3                     0.106177  \n",
              "4                     0.079237  "
            ],
            "text/html": [
              "\n",
              "  <div id=\"df-5f28c1a6-809b-4d14-bc7c-775605360b60\">\n",
              "    <div class=\"colab-df-container\">\n",
              "      <div>\n",
              "<style scoped>\n",
              "    .dataframe tbody tr th:only-of-type {\n",
              "        vertical-align: middle;\n",
              "    }\n",
              "\n",
              "    .dataframe tbody tr th {\n",
              "        vertical-align: top;\n",
              "    }\n",
              "\n",
              "    .dataframe thead th {\n",
              "        text-align: right;\n",
              "    }\n",
              "</style>\n",
              "<table border=\"1\" class=\"dataframe\">\n",
              "  <thead>\n",
              "    <tr style=\"text-align: right;\">\n",
              "      <th></th>\n",
              "      <th>amount_tsh</th>\n",
              "      <th>gps_height</th>\n",
              "      <th>longitude</th>\n",
              "      <th>latitude</th>\n",
              "      <th>district_code</th>\n",
              "      <th>population</th>\n",
              "      <th>construction_year</th>\n",
              "      <th>status_group</th>\n",
              "      <th>year_recorded</th>\n",
              "      <th>month_recorded</th>\n",
              "      <th>day_recorded</th>\n",
              "      <th>quarer_recorded</th>\n",
              "      <th>percipitation_class</th>\n",
              "      <th>well_age</th>\n",
              "      <th>funder_func</th>\n",
              "      <th>funder_non-func</th>\n",
              "      <th>funder_func_repair</th>\n",
              "      <th>basin_func</th>\n",
              "      <th>basin_non-func</th>\n",
              "      <th>basin_func_repair</th>\n",
              "      <th>region_func</th>\n",
              "      <th>region_non-func</th>\n",
              "      <th>region_func_repair</th>\n",
              "      <th>lga_func</th>\n",
              "      <th>lga_non-func</th>\n",
              "      <th>lga_func_repair</th>\n",
              "      <th>ward_func</th>\n",
              "      <th>ward_non-func</th>\n",
              "      <th>ward_func_repair</th>\n",
              "      <th>scheme_management_func</th>\n",
              "      <th>scheme_management_non-func</th>\n",
              "      <th>scheme_management_func_repair</th>\n",
              "      <th>extraction_type_func</th>\n",
              "      <th>extraction_type_non-func</th>\n",
              "      <th>extraction_type_func_repair</th>\n",
              "      <th>management_func</th>\n",
              "      <th>management_non-func</th>\n",
              "      <th>management_func_repair</th>\n",
              "      <th>payment_type_func</th>\n",
              "      <th>payment_type_non-func</th>\n",
              "      <th>payment_type_func_repair</th>\n",
              "      <th>water_quality_func</th>\n",
              "      <th>water_quality_non-func</th>\n",
              "      <th>water_quality_func_repair</th>\n",
              "      <th>quantity_func</th>\n",
              "      <th>quantity_non-func</th>\n",
              "      <th>quantity_func_repair</th>\n",
              "      <th>source_func</th>\n",
              "      <th>source_non-func</th>\n",
              "      <th>source_func_repair</th>\n",
              "      <th>waterpoint_type_func</th>\n",
              "      <th>waterpoint_type_non-func</th>\n",
              "      <th>waterpoint_type_func_repair</th>\n",
              "    </tr>\n",
              "  </thead>\n",
              "  <tbody>\n",
              "    <tr>\n",
              "      <th>0</th>\n",
              "      <td>6000.0</td>\n",
              "      <td>1390.000000</td>\n",
              "      <td>34.938093</td>\n",
              "      <td>-9.856322</td>\n",
              "      <td>5</td>\n",
              "      <td>109.0</td>\n",
              "      <td>1999.0</td>\n",
              "      <td>0</td>\n",
              "      <td>2011</td>\n",
              "      <td>3</td>\n",
              "      <td>0</td>\n",
              "      <td>1</td>\n",
              "      <td>4</td>\n",
              "      <td>12.0</td>\n",
              "      <td>0.821818</td>\n",
              "      <td>0.145455</td>\n",
              "      <td>0.032727</td>\n",
              "      <td>0.653687</td>\n",
              "      <td>0.297148</td>\n",
              "      <td>0.049164</td>\n",
              "      <td>0.782206</td>\n",
              "      <td>0.194560</td>\n",
              "      <td>0.023234</td>\n",
              "      <td>0.774823</td>\n",
              "      <td>0.205674</td>\n",
              "      <td>1.950355e-02</td>\n",
              "      <td>0.526244</td>\n",
              "      <td>0.399379</td>\n",
              "      <td>0.074377</td>\n",
              "      <td>0.515315</td>\n",
              "      <td>0.421249</td>\n",
              "      <td>0.063436</td>\n",
              "      <td>0.599253</td>\n",
              "      <td>0.299888</td>\n",
              "      <td>0.100859</td>\n",
              "      <td>0.504234</td>\n",
              "      <td>0.426864</td>\n",
              "      <td>0.068902</td>\n",
              "      <td>0.752334</td>\n",
              "      <td>0.179846</td>\n",
              "      <td>0.067820</td>\n",
              "      <td>0.565941</td>\n",
              "      <td>0.357236</td>\n",
              "      <td>0.076823</td>\n",
              "      <td>0.652323</td>\n",
              "      <td>0.275357</td>\n",
              "      <td>0.072320</td>\n",
              "      <td>0.622290</td>\n",
              "      <td>0.302744</td>\n",
              "      <td>0.074966</td>\n",
              "      <td>0.621485</td>\n",
              "      <td>0.299278</td>\n",
              "      <td>0.079237</td>\n",
              "    </tr>\n",
              "    <tr>\n",
              "      <th>1</th>\n",
              "      <td>200.0</td>\n",
              "      <td>1399.000000</td>\n",
              "      <td>34.698766</td>\n",
              "      <td>-2.147466</td>\n",
              "      <td>2</td>\n",
              "      <td>280.0</td>\n",
              "      <td>2010.0</td>\n",
              "      <td>0</td>\n",
              "      <td>2013</td>\n",
              "      <td>3</td>\n",
              "      <td>2</td>\n",
              "      <td>1</td>\n",
              "      <td>4</td>\n",
              "      <td>3.0</td>\n",
              "      <td>0.593410</td>\n",
              "      <td>0.346422</td>\n",
              "      <td>0.060168</td>\n",
              "      <td>0.497658</td>\n",
              "      <td>0.405835</td>\n",
              "      <td>0.096507</td>\n",
              "      <td>0.449975</td>\n",
              "      <td>0.519553</td>\n",
              "      <td>0.030472</td>\n",
              "      <td>0.592179</td>\n",
              "      <td>0.370112</td>\n",
              "      <td>3.770950e-02</td>\n",
              "      <td>0.526244</td>\n",
              "      <td>0.399379</td>\n",
              "      <td>0.074377</td>\n",
              "      <td>0.598435</td>\n",
              "      <td>0.372881</td>\n",
              "      <td>0.028683</td>\n",
              "      <td>0.599253</td>\n",
              "      <td>0.299888</td>\n",
              "      <td>0.100859</td>\n",
              "      <td>0.599540</td>\n",
              "      <td>0.301458</td>\n",
              "      <td>0.099002</td>\n",
              "      <td>0.448911</td>\n",
              "      <td>0.475856</td>\n",
              "      <td>0.075233</td>\n",
              "      <td>0.565941</td>\n",
              "      <td>0.357236</td>\n",
              "      <td>0.076823</td>\n",
              "      <td>0.523234</td>\n",
              "      <td>0.380924</td>\n",
              "      <td>0.095842</td>\n",
              "      <td>0.603922</td>\n",
              "      <td>0.259259</td>\n",
              "      <td>0.136819</td>\n",
              "      <td>0.621485</td>\n",
              "      <td>0.299278</td>\n",
              "      <td>0.079237</td>\n",
              "    </tr>\n",
              "    <tr>\n",
              "      <th>2</th>\n",
              "      <td>25.0</td>\n",
              "      <td>686.000000</td>\n",
              "      <td>37.460664</td>\n",
              "      <td>-3.821329</td>\n",
              "      <td>4</td>\n",
              "      <td>250.0</td>\n",
              "      <td>2009.0</td>\n",
              "      <td>0</td>\n",
              "      <td>2013</td>\n",
              "      <td>2</td>\n",
              "      <td>0</td>\n",
              "      <td>1</td>\n",
              "      <td>2</td>\n",
              "      <td>4.0</td>\n",
              "      <td>0.593410</td>\n",
              "      <td>0.346422</td>\n",
              "      <td>0.060168</td>\n",
              "      <td>0.600895</td>\n",
              "      <td>0.345749</td>\n",
              "      <td>0.053356</td>\n",
              "      <td>0.623500</td>\n",
              "      <td>0.315856</td>\n",
              "      <td>0.060644</td>\n",
              "      <td>0.581169</td>\n",
              "      <td>0.402597</td>\n",
              "      <td>1.623377e-02</td>\n",
              "      <td>0.526244</td>\n",
              "      <td>0.399379</td>\n",
              "      <td>0.074377</td>\n",
              "      <td>0.515315</td>\n",
              "      <td>0.421249</td>\n",
              "      <td>0.063436</td>\n",
              "      <td>0.599253</td>\n",
              "      <td>0.299888</td>\n",
              "      <td>0.100859</td>\n",
              "      <td>0.504234</td>\n",
              "      <td>0.426864</td>\n",
              "      <td>0.068902</td>\n",
              "      <td>0.677796</td>\n",
              "      <td>0.276683</td>\n",
              "      <td>0.045520</td>\n",
              "      <td>0.565941</td>\n",
              "      <td>0.357236</td>\n",
              "      <td>0.076823</td>\n",
              "      <td>0.652323</td>\n",
              "      <td>0.275357</td>\n",
              "      <td>0.072320</td>\n",
              "      <td>0.385671</td>\n",
              "      <td>0.577744</td>\n",
              "      <td>0.036585</td>\n",
              "      <td>0.366213</td>\n",
              "      <td>0.527609</td>\n",
              "      <td>0.106177</td>\n",
              "    </tr>\n",
              "    <tr>\n",
              "      <th>3</th>\n",
              "      <td>50.0</td>\n",
              "      <td>263.000000</td>\n",
              "      <td>38.486161</td>\n",
              "      <td>-11.155298</td>\n",
              "      <td>63</td>\n",
              "      <td>58.0</td>\n",
              "      <td>1986.0</td>\n",
              "      <td>2</td>\n",
              "      <td>2013</td>\n",
              "      <td>1</td>\n",
              "      <td>0</td>\n",
              "      <td>1</td>\n",
              "      <td>4</td>\n",
              "      <td>27.0</td>\n",
              "      <td>0.567644</td>\n",
              "      <td>0.338694</td>\n",
              "      <td>0.093661</td>\n",
              "      <td>0.371689</td>\n",
              "      <td>0.555753</td>\n",
              "      <td>0.072557</td>\n",
              "      <td>0.302890</td>\n",
              "      <td>0.624277</td>\n",
              "      <td>0.072832</td>\n",
              "      <td>0.265823</td>\n",
              "      <td>0.734177</td>\n",
              "      <td>2.223199e-08</td>\n",
              "      <td>0.526244</td>\n",
              "      <td>0.399379</td>\n",
              "      <td>0.074377</td>\n",
              "      <td>0.515315</td>\n",
              "      <td>0.421249</td>\n",
              "      <td>0.063436</td>\n",
              "      <td>0.551217</td>\n",
              "      <td>0.401134</td>\n",
              "      <td>0.047649</td>\n",
              "      <td>0.504234</td>\n",
              "      <td>0.426864</td>\n",
              "      <td>0.068902</td>\n",
              "      <td>0.448911</td>\n",
              "      <td>0.475856</td>\n",
              "      <td>0.075233</td>\n",
              "      <td>0.565941</td>\n",
              "      <td>0.357236</td>\n",
              "      <td>0.076823</td>\n",
              "      <td>0.025136</td>\n",
              "      <td>0.968940</td>\n",
              "      <td>0.005924</td>\n",
              "      <td>0.489571</td>\n",
              "      <td>0.466095</td>\n",
              "      <td>0.044334</td>\n",
              "      <td>0.366213</td>\n",
              "      <td>0.527609</td>\n",
              "      <td>0.106177</td>\n",
              "    </tr>\n",
              "    <tr>\n",
              "      <th>4</th>\n",
              "      <td>250.0</td>\n",
              "      <td>1057.545585</td>\n",
              "      <td>31.130847</td>\n",
              "      <td>-1.825359</td>\n",
              "      <td>1</td>\n",
              "      <td>200.0</td>\n",
              "      <td>2003.0</td>\n",
              "      <td>0</td>\n",
              "      <td>2011</td>\n",
              "      <td>7</td>\n",
              "      <td>2</td>\n",
              "      <td>3</td>\n",
              "      <td>0</td>\n",
              "      <td>8.0</td>\n",
              "      <td>0.593410</td>\n",
              "      <td>0.346422</td>\n",
              "      <td>0.060168</td>\n",
              "      <td>0.497658</td>\n",
              "      <td>0.405835</td>\n",
              "      <td>0.096507</td>\n",
              "      <td>0.520808</td>\n",
              "      <td>0.387515</td>\n",
              "      <td>0.091677</td>\n",
              "      <td>0.530480</td>\n",
              "      <td>0.411154</td>\n",
              "      <td>5.836576e-02</td>\n",
              "      <td>0.526244</td>\n",
              "      <td>0.399379</td>\n",
              "      <td>0.074377</td>\n",
              "      <td>0.483105</td>\n",
              "      <td>0.459376</td>\n",
              "      <td>0.057519</td>\n",
              "      <td>0.599253</td>\n",
              "      <td>0.299888</td>\n",
              "      <td>0.100859</td>\n",
              "      <td>0.598341</td>\n",
              "      <td>0.336493</td>\n",
              "      <td>0.065166</td>\n",
              "      <td>0.448911</td>\n",
              "      <td>0.475856</td>\n",
              "      <td>0.075233</td>\n",
              "      <td>0.565941</td>\n",
              "      <td>0.357236</td>\n",
              "      <td>0.076823</td>\n",
              "      <td>0.574074</td>\n",
              "      <td>0.323210</td>\n",
              "      <td>0.102716</td>\n",
              "      <td>0.603922</td>\n",
              "      <td>0.259259</td>\n",
              "      <td>0.136819</td>\n",
              "      <td>0.621485</td>\n",
              "      <td>0.299278</td>\n",
              "      <td>0.079237</td>\n",
              "    </tr>\n",
              "  </tbody>\n",
              "</table>\n",
              "</div>\n",
              "      <button class=\"colab-df-convert\" onclick=\"convertToInteractive('df-5f28c1a6-809b-4d14-bc7c-775605360b60')\"\n",
              "              title=\"Convert this dataframe to an interactive table.\"\n",
              "              style=\"display:none;\">\n",
              "        \n",
              "  <svg xmlns=\"http://www.w3.org/2000/svg\" height=\"24px\"viewBox=\"0 0 24 24\"\n",
              "       width=\"24px\">\n",
              "    <path d=\"M0 0h24v24H0V0z\" fill=\"none\"/>\n",
              "    <path d=\"M18.56 5.44l.94 2.06.94-2.06 2.06-.94-2.06-.94-.94-2.06-.94 2.06-2.06.94zm-11 1L8.5 8.5l.94-2.06 2.06-.94-2.06-.94L8.5 2.5l-.94 2.06-2.06.94zm10 10l.94 2.06.94-2.06 2.06-.94-2.06-.94-.94-2.06-.94 2.06-2.06.94z\"/><path d=\"M17.41 7.96l-1.37-1.37c-.4-.4-.92-.59-1.43-.59-.52 0-1.04.2-1.43.59L10.3 9.45l-7.72 7.72c-.78.78-.78 2.05 0 2.83L4 21.41c.39.39.9.59 1.41.59.51 0 1.02-.2 1.41-.59l7.78-7.78 2.81-2.81c.8-.78.8-2.07 0-2.86zM5.41 20L4 18.59l7.72-7.72 1.47 1.35L5.41 20z\"/>\n",
              "  </svg>\n",
              "      </button>\n",
              "      \n",
              "  <style>\n",
              "    .colab-df-container {\n",
              "      display:flex;\n",
              "      flex-wrap:wrap;\n",
              "      gap: 12px;\n",
              "    }\n",
              "\n",
              "    .colab-df-convert {\n",
              "      background-color: #E8F0FE;\n",
              "      border: none;\n",
              "      border-radius: 50%;\n",
              "      cursor: pointer;\n",
              "      display: none;\n",
              "      fill: #1967D2;\n",
              "      height: 32px;\n",
              "      padding: 0 0 0 0;\n",
              "      width: 32px;\n",
              "    }\n",
              "\n",
              "    .colab-df-convert:hover {\n",
              "      background-color: #E2EBFA;\n",
              "      box-shadow: 0px 1px 2px rgba(60, 64, 67, 0.3), 0px 1px 3px 1px rgba(60, 64, 67, 0.15);\n",
              "      fill: #174EA6;\n",
              "    }\n",
              "\n",
              "    [theme=dark] .colab-df-convert {\n",
              "      background-color: #3B4455;\n",
              "      fill: #D2E3FC;\n",
              "    }\n",
              "\n",
              "    [theme=dark] .colab-df-convert:hover {\n",
              "      background-color: #434B5C;\n",
              "      box-shadow: 0px 1px 3px 1px rgba(0, 0, 0, 0.15);\n",
              "      filter: drop-shadow(0px 1px 2px rgba(0, 0, 0, 0.3));\n",
              "      fill: #FFFFFF;\n",
              "    }\n",
              "  </style>\n",
              "\n",
              "      <script>\n",
              "        const buttonEl =\n",
              "          document.querySelector('#df-5f28c1a6-809b-4d14-bc7c-775605360b60 button.colab-df-convert');\n",
              "        buttonEl.style.display =\n",
              "          google.colab.kernel.accessAllowed ? 'block' : 'none';\n",
              "\n",
              "        async function convertToInteractive(key) {\n",
              "          const element = document.querySelector('#df-5f28c1a6-809b-4d14-bc7c-775605360b60');\n",
              "          const dataTable =\n",
              "            await google.colab.kernel.invokeFunction('convertToInteractive',\n",
              "                                                     [key], {});\n",
              "          if (!dataTable) return;\n",
              "\n",
              "          const docLinkHtml = 'Like what you see? Visit the ' +\n",
              "            '<a target=\"_blank\" href=https://colab.research.google.com/notebooks/data_table.ipynb>data table notebook</a>'\n",
              "            + ' to learn more about interactive tables.';\n",
              "          element.innerHTML = '';\n",
              "          dataTable['output_type'] = 'display_data';\n",
              "          await google.colab.output.renderOutput(dataTable, element);\n",
              "          const docLink = document.createElement('div');\n",
              "          docLink.innerHTML = docLinkHtml;\n",
              "          element.appendChild(docLink);\n",
              "        }\n",
              "      </script>\n",
              "    </div>\n",
              "  </div>\n",
              "  "
            ]
          },
          "metadata": {},
          "execution_count": 1019
        }
      ]
    },
    {
      "cell_type": "markdown",
      "source": [
        "##3.2- Ordinal Value encoding\n",
        "this encoding considers an order between the categories and our data has not any order, so we will not use this approach"
      ],
      "metadata": {
        "id": "EpjCuiBa6y_1"
      }
    },
    {
      "cell_type": "code",
      "source": [
        "# ordinal_encoder = OrdinalEncoder()"
      ],
      "metadata": {
        "id": "ISTkuxGJ7BbB"
      },
      "execution_count": 1020,
      "outputs": []
    },
    {
      "cell_type": "code",
      "source": [
        "# df_categorical_features = train.select_dtypes(include='object')\n",
        "# df_categorical_features.columns"
      ],
      "metadata": {
        "id": "VBEHtINV7EUH"
      },
      "execution_count": 1021,
      "outputs": []
    },
    {
      "cell_type": "code",
      "source": [
        "# ord_train=tordinal_encoderrain\n",
        "# ord_train = train.fit_transform(train)"
      ],
      "metadata": {
        "id": "72b0kiCC9PWI"
      },
      "execution_count": 1022,
      "outputs": []
    },
    {
      "cell_type": "code",
      "source": [
        "# ord_train=train\n",
        "# for i in df_categorical_features.columns:\n",
        "#   ord_train[i] = ordinal_encoder.fit_transform(train[i].values.reshape(-1,1))"
      ],
      "metadata": {
        "id": "G8MGF92H7GxS"
      },
      "execution_count": 1023,
      "outputs": []
    },
    {
      "cell_type": "code",
      "source": [
        "# ord_test=test\n",
        "# for i in df_categorical_features.columns:\n",
        "#   ord_test[i] = ordinal_encoder.fit_transform(test[i].values.reshape(-1,1))"
      ],
      "metadata": {
        "id": "On8oLJ8z7LvS"
      },
      "execution_count": 1024,
      "outputs": []
    },
    {
      "cell_type": "markdown",
      "metadata": {
        "id": "y-dXNyzwSgkK"
      },
      "source": [
        "#4.0- Multivariate missing value imputation for longitude, latitude, gps_height, population, and construction_year feature\n",
        "KNN; The missing values are estimated as the average value from the closest K neighbours.\n",
        "\n",
        "https://github.com/solegalli/feature-engineering-for-machine-learning/blob/main/Section-05-Multivariate-Imputation/05.01-KNN-imputation.ipynb\n",
        "\n",
        "https://github.com/solegalli/feature-engineering-for-machine-learning/blob/main/Section-05-Multivariate-Imputation/05.02-MICE.ipynb\n",
        "\n",
        "For imputing missing values in categorical variables, we have to encode the categorical values into numeric values as kNNImputer works only for numeric variables. "
      ]
    },
    {
      "cell_type": "code",
      "execution_count": null,
      "metadata": {
        "id": "TBGNgYoqTCEv"
      },
      "outputs": [],
      "source": [
        "from sklearn.impute import KNNImputer"
      ]
    },
    {
      "cell_type": "code",
      "execution_count": null,
      "metadata": {
        "id": "0-COfyJJTHBR"
      },
      "outputs": [],
      "source": [
        "imputer = KNNImputer(\n",
        "    n_neighbors=5, # the number of neighbours K\n",
        "    weights='distance', # the weighting factor\n",
        "    metric='nan_euclidean', # the metric to find the neighbours\n",
        "    add_indicator=False, # whether to add a missing indicator\n",
        ")"
      ]
    },
    {
      "cell_type": "code",
      "source": [
        "# test_imputer = KNNImputer(\n",
        "#     n_neighbors=5, # the number of neighbours K\n",
        "#     weights='distance', # the weighting factor\n",
        "#     metric='nan_euclidean', # the metric to find the neighbours\n",
        "#     add_indicator=False, # whether to add a missing indicator\n",
        "# )"
      ],
      "metadata": {
        "id": "i0blMLNPchSb"
      },
      "execution_count": null,
      "outputs": []
    },
    {
      "cell_type": "code",
      "execution_count": null,
      "metadata": {
        "id": "gGrkUcpZfIS_"
      },
      "outputs": [],
      "source": [
        "# construction_year_zero_index"
      ]
    },
    {
      "cell_type": "markdown",
      "source": [
        "Need to combine test and train to use the KNN "
      ],
      "metadata": {
        "id": "SaElVo4Rnjyu"
      }
    },
    {
      "cell_type": "code",
      "source": [
        "test=test.drop('id', axis=1)"
      ],
      "metadata": {
        "id": "xHWF3e6hpj4S"
      },
      "execution_count": null,
      "outputs": []
    },
    {
      "cell_type": "code",
      "execution_count": null,
      "metadata": {
        "id": "Awy9keD_fggp"
      },
      "outputs": [],
      "source": [
        "whole_data = pd.concat([data,test])\n",
        "KNN_imputer_data = whole_data.drop(['status_group'],axis=1)"
      ]
    },
    {
      "cell_type": "code",
      "source": [
        "whole_data['status_group'].isnull().sum()"
      ],
      "metadata": {
        "id": "rm-um7C_4AKD"
      },
      "execution_count": null,
      "outputs": []
    },
    {
      "cell_type": "code",
      "execution_count": null,
      "metadata": {
        "id": "C3Ps8EnzT1qI"
      },
      "outputs": [],
      "source": [
        "imputer.fit(KNN_imputer_data)"
      ]
    },
    {
      "cell_type": "code",
      "execution_count": null,
      "metadata": {
        "id": "4z-wg2QBYrSw"
      },
      "outputs": [],
      "source": [
        "train_t = imputer.transform(KNN_imputer_data)\n",
        "# test_t = imputer.transform(X_test)\n",
        "\n",
        "# sklearn returns a Numpy array\n",
        "# lets make a dataframe\n",
        "train_t = pd.DataFrame(train_t, columns=KNN_imputer_data.columns)\n",
        "# test_t = pd.DataFrame(test_t, columns=X_test.columns)\n",
        "\n",
        "train_t.head()"
      ]
    },
    {
      "cell_type": "code",
      "source": [
        "train_t_original = train_t.copy()"
      ],
      "metadata": {
        "id": "WwSd36hwuLRf"
      },
      "execution_count": null,
      "outputs": []
    },
    {
      "cell_type": "code",
      "source": [
        "print(len(whole_data), len(train_t))"
      ],
      "metadata": {
        "id": "W0EBqEcgwuOr"
      },
      "execution_count": null,
      "outputs": []
    },
    {
      "cell_type": "code",
      "execution_count": null,
      "metadata": {
        "id": "50HGRarPg0DA"
      },
      "outputs": [],
      "source": [
        "train_t.construction_year = train_t.construction_year.round()\n",
        "train_t['well_age'] = train_t.year_recorded - train_t.construction_year"
      ]
    },
    {
      "cell_type": "code",
      "source": [
        "train_t['water_per_person']=train_t.amount_tsh/train_t.population"
      ],
      "metadata": {
        "id": "32l-rUdmvIic"
      },
      "execution_count": null,
      "outputs": []
    },
    {
      "cell_type": "code",
      "source": [
        "test = train_t[-14850:]\n",
        "data = train_t[:59400]"
      ],
      "metadata": {
        "id": "NwerX7jgtMoJ"
      },
      "execution_count": null,
      "outputs": []
    },
    {
      "cell_type": "code",
      "source": [
        "data['status_group'] = whole_data['status_group'][:59400]"
      ],
      "metadata": {
        "id": "gme7A0bt4YDS"
      },
      "execution_count": null,
      "outputs": []
    },
    {
      "cell_type": "markdown",
      "metadata": {
        "id": "0kzfey_zVUPH"
      },
      "source": []
    },
    {
      "cell_type": "code",
      "execution_count": null,
      "metadata": {
        "id": "9kbpgalpUZAi"
      },
      "outputs": [],
      "source": [
        "# ordinal_encoder = OrdinalEncoder()"
      ]
    },
    {
      "cell_type": "code",
      "execution_count": null,
      "metadata": {
        "id": "GNWVVyRF3lt4"
      },
      "outputs": [],
      "source": [
        "# target_encoder = "
      ]
    },
    {
      "cell_type": "code",
      "execution_count": null,
      "metadata": {
        "id": "ynBHa6FVaYQQ"
      },
      "outputs": [],
      "source": [
        "# df_categorical_features = data.select_dtypes(include='object')\n",
        "# df_categorical_features.columns"
      ]
    },
    {
      "cell_type": "code",
      "execution_count": null,
      "metadata": {
        "id": "0QP5x866UZDN"
      },
      "outputs": [],
      "source": [
        "# for i in df_categorical_features.columns:\n",
        "#   data[i] = ordinal_encoder.fit_transform(data[i].values.reshape(-1,1))"
      ]
    },
    {
      "cell_type": "code",
      "execution_count": null,
      "metadata": {
        "id": "VlPaarlmajGc"
      },
      "outputs": [],
      "source": [
        "# for i in df_categorical_features.columns:\n",
        "#   test[i] = ordinal_encoder.fit_transform(test[i].values.reshape(-1,1))"
      ]
    },
    {
      "cell_type": "markdown",
      "metadata": {
        "id": "cGya-RYAygQN"
      },
      "source": [
        "Correlation Matrix"
      ]
    },
    {
      "cell_type": "code",
      "execution_count": null,
      "metadata": {
        "id": "4bkwUHxkUZIA"
      },
      "outputs": [],
      "source": [
        "# plt.figure(figsize=(10,8))\n",
        "# cmap=data.corr()\n",
        "# sns.heatmap(cmap)"
      ]
    },
    {
      "cell_type": "code",
      "source": [],
      "metadata": {
        "id": "1murYIafZ8zs"
      },
      "execution_count": null,
      "outputs": []
    },
    {
      "cell_type": "markdown",
      "metadata": {
        "id": "98M0osuPyoSP"
      },
      "source": [
        "#3- Train and Test Split "
      ]
    },
    {
      "cell_type": "code",
      "execution_count": 372,
      "metadata": {
        "id": "9kyC3QaWUZKA"
      },
      "outputs": [],
      "source": [
        "# # tar_train  fac_train  tar_test  fac_test\n",
        "# # we can use any of the encodings for categorical features we did, factorize or target encoding\n",
        "# # fac_train does not have the target in it, for tar_train use drop\n",
        "\n",
        "\n",
        "# X = fac_train\n",
        "# Y = target\n"
      ]
    },
    {
      "cell_type": "code",
      "source": [
        "# tar_train  fac_train  tar_test  fac_test\n",
        "# we can use any of the encodings for categorical features we did, factorize or target encoding\n",
        "# fac_train does not have the target in it, for tar_train use drop\n",
        "\n",
        "\n",
        "X = tar_train.drop('status_group',axis=1)\n",
        "Y = tar_train.status_group\n"
      ],
      "metadata": {
        "id": "J_EKghvSad4P"
      },
      "execution_count": 1025,
      "outputs": []
    },
    {
      "cell_type": "code",
      "source": [
        "tar_train.head()"
      ],
      "metadata": {
        "colab": {
          "base_uri": "https://localhost:8080/",
          "height": 287
        },
        "id": "toyGEOuWP8wK",
        "outputId": "ad1e1917-b601-4b47-c618-a0ec00e3868d"
      },
      "execution_count": 1026,
      "outputs": [
        {
          "output_type": "execute_result",
          "data": {
            "text/plain": [
              "   amount_tsh   gps_height  longitude   latitude  district_code  population  \\\n",
              "0      6000.0  1390.000000  34.938093  -9.856322              5       109.0   \n",
              "1       200.0  1399.000000  34.698766  -2.147466              2       280.0   \n",
              "2        25.0   686.000000  37.460664  -3.821329              4       250.0   \n",
              "3        50.0   263.000000  38.486161 -11.155298             63        58.0   \n",
              "4       250.0  1057.545585  31.130847  -1.825359              1       200.0   \n",
              "\n",
              "   construction_year  status_group  year_recorded  month_recorded  \\\n",
              "0             1999.0             0           2011               3   \n",
              "1             2010.0             0           2013               3   \n",
              "2             2009.0             0           2013               2   \n",
              "3             1986.0             2           2013               1   \n",
              "4             2003.0             0           2011               7   \n",
              "\n",
              "   day_recorded  quarer_recorded  percipitation_class  well_age  funder_func  \\\n",
              "0             0                1                    4      12.0     0.821818   \n",
              "1             2                1                    4       3.0     0.593410   \n",
              "2             0                1                    2       4.0     0.593410   \n",
              "3             0                1                    4      27.0     0.567644   \n",
              "4             2                3                    0       8.0     0.593410   \n",
              "\n",
              "   funder_non-func  funder_func_repair  basin_func  basin_non-func  \\\n",
              "0         0.145455            0.032727    0.653687        0.297148   \n",
              "1         0.346422            0.060168    0.497658        0.405835   \n",
              "2         0.346422            0.060168    0.600895        0.345749   \n",
              "3         0.338694            0.093661    0.371689        0.555753   \n",
              "4         0.346422            0.060168    0.497658        0.405835   \n",
              "\n",
              "   basin_func_repair  region_func  region_non-func  region_func_repair  \\\n",
              "0           0.049164     0.782206         0.194560            0.023234   \n",
              "1           0.096507     0.449975         0.519553            0.030472   \n",
              "2           0.053356     0.623500         0.315856            0.060644   \n",
              "3           0.072557     0.302890         0.624277            0.072832   \n",
              "4           0.096507     0.520808         0.387515            0.091677   \n",
              "\n",
              "   lga_func  lga_non-func  lga_func_repair  ward_func  ward_non-func  \\\n",
              "0  0.774823      0.205674     1.950355e-02   0.526244       0.399379   \n",
              "1  0.592179      0.370112     3.770950e-02   0.526244       0.399379   \n",
              "2  0.581169      0.402597     1.623377e-02   0.526244       0.399379   \n",
              "3  0.265823      0.734177     2.223199e-08   0.526244       0.399379   \n",
              "4  0.530480      0.411154     5.836576e-02   0.526244       0.399379   \n",
              "\n",
              "   ward_func_repair  scheme_management_func  scheme_management_non-func  \\\n",
              "0          0.074377                0.515315                    0.421249   \n",
              "1          0.074377                0.598435                    0.372881   \n",
              "2          0.074377                0.515315                    0.421249   \n",
              "3          0.074377                0.515315                    0.421249   \n",
              "4          0.074377                0.483105                    0.459376   \n",
              "\n",
              "   scheme_management_func_repair  extraction_type_func  \\\n",
              "0                       0.063436              0.599253   \n",
              "1                       0.028683              0.599253   \n",
              "2                       0.063436              0.599253   \n",
              "3                       0.063436              0.551217   \n",
              "4                       0.057519              0.599253   \n",
              "\n",
              "   extraction_type_non-func  extraction_type_func_repair  management_func  \\\n",
              "0                  0.299888                     0.100859         0.504234   \n",
              "1                  0.299888                     0.100859         0.599540   \n",
              "2                  0.299888                     0.100859         0.504234   \n",
              "3                  0.401134                     0.047649         0.504234   \n",
              "4                  0.299888                     0.100859         0.598341   \n",
              "\n",
              "   management_non-func  management_func_repair  payment_type_func  \\\n",
              "0             0.426864                0.068902           0.752334   \n",
              "1             0.301458                0.099002           0.448911   \n",
              "2             0.426864                0.068902           0.677796   \n",
              "3             0.426864                0.068902           0.448911   \n",
              "4             0.336493                0.065166           0.448911   \n",
              "\n",
              "   payment_type_non-func  payment_type_func_repair  water_quality_func  \\\n",
              "0               0.179846                  0.067820            0.565941   \n",
              "1               0.475856                  0.075233            0.565941   \n",
              "2               0.276683                  0.045520            0.565941   \n",
              "3               0.475856                  0.075233            0.565941   \n",
              "4               0.475856                  0.075233            0.565941   \n",
              "\n",
              "   water_quality_non-func  water_quality_func_repair  quantity_func  \\\n",
              "0                0.357236                   0.076823       0.652323   \n",
              "1                0.357236                   0.076823       0.523234   \n",
              "2                0.357236                   0.076823       0.652323   \n",
              "3                0.357236                   0.076823       0.025136   \n",
              "4                0.357236                   0.076823       0.574074   \n",
              "\n",
              "   quantity_non-func  quantity_func_repair  source_func  source_non-func  \\\n",
              "0           0.275357              0.072320     0.622290         0.302744   \n",
              "1           0.380924              0.095842     0.603922         0.259259   \n",
              "2           0.275357              0.072320     0.385671         0.577744   \n",
              "3           0.968940              0.005924     0.489571         0.466095   \n",
              "4           0.323210              0.102716     0.603922         0.259259   \n",
              "\n",
              "   source_func_repair  waterpoint_type_func  waterpoint_type_non-func  \\\n",
              "0            0.074966              0.621485                  0.299278   \n",
              "1            0.136819              0.621485                  0.299278   \n",
              "2            0.036585              0.366213                  0.527609   \n",
              "3            0.044334              0.366213                  0.527609   \n",
              "4            0.136819              0.621485                  0.299278   \n",
              "\n",
              "   waterpoint_type_func_repair  \n",
              "0                     0.079237  \n",
              "1                     0.079237  \n",
              "2                     0.106177  \n",
              "3                     0.106177  \n",
              "4                     0.079237  "
            ],
            "text/html": [
              "\n",
              "  <div id=\"df-b28039ae-14e1-415f-b8c2-52f7bd35d55a\">\n",
              "    <div class=\"colab-df-container\">\n",
              "      <div>\n",
              "<style scoped>\n",
              "    .dataframe tbody tr th:only-of-type {\n",
              "        vertical-align: middle;\n",
              "    }\n",
              "\n",
              "    .dataframe tbody tr th {\n",
              "        vertical-align: top;\n",
              "    }\n",
              "\n",
              "    .dataframe thead th {\n",
              "        text-align: right;\n",
              "    }\n",
              "</style>\n",
              "<table border=\"1\" class=\"dataframe\">\n",
              "  <thead>\n",
              "    <tr style=\"text-align: right;\">\n",
              "      <th></th>\n",
              "      <th>amount_tsh</th>\n",
              "      <th>gps_height</th>\n",
              "      <th>longitude</th>\n",
              "      <th>latitude</th>\n",
              "      <th>district_code</th>\n",
              "      <th>population</th>\n",
              "      <th>construction_year</th>\n",
              "      <th>status_group</th>\n",
              "      <th>year_recorded</th>\n",
              "      <th>month_recorded</th>\n",
              "      <th>day_recorded</th>\n",
              "      <th>quarer_recorded</th>\n",
              "      <th>percipitation_class</th>\n",
              "      <th>well_age</th>\n",
              "      <th>funder_func</th>\n",
              "      <th>funder_non-func</th>\n",
              "      <th>funder_func_repair</th>\n",
              "      <th>basin_func</th>\n",
              "      <th>basin_non-func</th>\n",
              "      <th>basin_func_repair</th>\n",
              "      <th>region_func</th>\n",
              "      <th>region_non-func</th>\n",
              "      <th>region_func_repair</th>\n",
              "      <th>lga_func</th>\n",
              "      <th>lga_non-func</th>\n",
              "      <th>lga_func_repair</th>\n",
              "      <th>ward_func</th>\n",
              "      <th>ward_non-func</th>\n",
              "      <th>ward_func_repair</th>\n",
              "      <th>scheme_management_func</th>\n",
              "      <th>scheme_management_non-func</th>\n",
              "      <th>scheme_management_func_repair</th>\n",
              "      <th>extraction_type_func</th>\n",
              "      <th>extraction_type_non-func</th>\n",
              "      <th>extraction_type_func_repair</th>\n",
              "      <th>management_func</th>\n",
              "      <th>management_non-func</th>\n",
              "      <th>management_func_repair</th>\n",
              "      <th>payment_type_func</th>\n",
              "      <th>payment_type_non-func</th>\n",
              "      <th>payment_type_func_repair</th>\n",
              "      <th>water_quality_func</th>\n",
              "      <th>water_quality_non-func</th>\n",
              "      <th>water_quality_func_repair</th>\n",
              "      <th>quantity_func</th>\n",
              "      <th>quantity_non-func</th>\n",
              "      <th>quantity_func_repair</th>\n",
              "      <th>source_func</th>\n",
              "      <th>source_non-func</th>\n",
              "      <th>source_func_repair</th>\n",
              "      <th>waterpoint_type_func</th>\n",
              "      <th>waterpoint_type_non-func</th>\n",
              "      <th>waterpoint_type_func_repair</th>\n",
              "    </tr>\n",
              "  </thead>\n",
              "  <tbody>\n",
              "    <tr>\n",
              "      <th>0</th>\n",
              "      <td>6000.0</td>\n",
              "      <td>1390.000000</td>\n",
              "      <td>34.938093</td>\n",
              "      <td>-9.856322</td>\n",
              "      <td>5</td>\n",
              "      <td>109.0</td>\n",
              "      <td>1999.0</td>\n",
              "      <td>0</td>\n",
              "      <td>2011</td>\n",
              "      <td>3</td>\n",
              "      <td>0</td>\n",
              "      <td>1</td>\n",
              "      <td>4</td>\n",
              "      <td>12.0</td>\n",
              "      <td>0.821818</td>\n",
              "      <td>0.145455</td>\n",
              "      <td>0.032727</td>\n",
              "      <td>0.653687</td>\n",
              "      <td>0.297148</td>\n",
              "      <td>0.049164</td>\n",
              "      <td>0.782206</td>\n",
              "      <td>0.194560</td>\n",
              "      <td>0.023234</td>\n",
              "      <td>0.774823</td>\n",
              "      <td>0.205674</td>\n",
              "      <td>1.950355e-02</td>\n",
              "      <td>0.526244</td>\n",
              "      <td>0.399379</td>\n",
              "      <td>0.074377</td>\n",
              "      <td>0.515315</td>\n",
              "      <td>0.421249</td>\n",
              "      <td>0.063436</td>\n",
              "      <td>0.599253</td>\n",
              "      <td>0.299888</td>\n",
              "      <td>0.100859</td>\n",
              "      <td>0.504234</td>\n",
              "      <td>0.426864</td>\n",
              "      <td>0.068902</td>\n",
              "      <td>0.752334</td>\n",
              "      <td>0.179846</td>\n",
              "      <td>0.067820</td>\n",
              "      <td>0.565941</td>\n",
              "      <td>0.357236</td>\n",
              "      <td>0.076823</td>\n",
              "      <td>0.652323</td>\n",
              "      <td>0.275357</td>\n",
              "      <td>0.072320</td>\n",
              "      <td>0.622290</td>\n",
              "      <td>0.302744</td>\n",
              "      <td>0.074966</td>\n",
              "      <td>0.621485</td>\n",
              "      <td>0.299278</td>\n",
              "      <td>0.079237</td>\n",
              "    </tr>\n",
              "    <tr>\n",
              "      <th>1</th>\n",
              "      <td>200.0</td>\n",
              "      <td>1399.000000</td>\n",
              "      <td>34.698766</td>\n",
              "      <td>-2.147466</td>\n",
              "      <td>2</td>\n",
              "      <td>280.0</td>\n",
              "      <td>2010.0</td>\n",
              "      <td>0</td>\n",
              "      <td>2013</td>\n",
              "      <td>3</td>\n",
              "      <td>2</td>\n",
              "      <td>1</td>\n",
              "      <td>4</td>\n",
              "      <td>3.0</td>\n",
              "      <td>0.593410</td>\n",
              "      <td>0.346422</td>\n",
              "      <td>0.060168</td>\n",
              "      <td>0.497658</td>\n",
              "      <td>0.405835</td>\n",
              "      <td>0.096507</td>\n",
              "      <td>0.449975</td>\n",
              "      <td>0.519553</td>\n",
              "      <td>0.030472</td>\n",
              "      <td>0.592179</td>\n",
              "      <td>0.370112</td>\n",
              "      <td>3.770950e-02</td>\n",
              "      <td>0.526244</td>\n",
              "      <td>0.399379</td>\n",
              "      <td>0.074377</td>\n",
              "      <td>0.598435</td>\n",
              "      <td>0.372881</td>\n",
              "      <td>0.028683</td>\n",
              "      <td>0.599253</td>\n",
              "      <td>0.299888</td>\n",
              "      <td>0.100859</td>\n",
              "      <td>0.599540</td>\n",
              "      <td>0.301458</td>\n",
              "      <td>0.099002</td>\n",
              "      <td>0.448911</td>\n",
              "      <td>0.475856</td>\n",
              "      <td>0.075233</td>\n",
              "      <td>0.565941</td>\n",
              "      <td>0.357236</td>\n",
              "      <td>0.076823</td>\n",
              "      <td>0.523234</td>\n",
              "      <td>0.380924</td>\n",
              "      <td>0.095842</td>\n",
              "      <td>0.603922</td>\n",
              "      <td>0.259259</td>\n",
              "      <td>0.136819</td>\n",
              "      <td>0.621485</td>\n",
              "      <td>0.299278</td>\n",
              "      <td>0.079237</td>\n",
              "    </tr>\n",
              "    <tr>\n",
              "      <th>2</th>\n",
              "      <td>25.0</td>\n",
              "      <td>686.000000</td>\n",
              "      <td>37.460664</td>\n",
              "      <td>-3.821329</td>\n",
              "      <td>4</td>\n",
              "      <td>250.0</td>\n",
              "      <td>2009.0</td>\n",
              "      <td>0</td>\n",
              "      <td>2013</td>\n",
              "      <td>2</td>\n",
              "      <td>0</td>\n",
              "      <td>1</td>\n",
              "      <td>2</td>\n",
              "      <td>4.0</td>\n",
              "      <td>0.593410</td>\n",
              "      <td>0.346422</td>\n",
              "      <td>0.060168</td>\n",
              "      <td>0.600895</td>\n",
              "      <td>0.345749</td>\n",
              "      <td>0.053356</td>\n",
              "      <td>0.623500</td>\n",
              "      <td>0.315856</td>\n",
              "      <td>0.060644</td>\n",
              "      <td>0.581169</td>\n",
              "      <td>0.402597</td>\n",
              "      <td>1.623377e-02</td>\n",
              "      <td>0.526244</td>\n",
              "      <td>0.399379</td>\n",
              "      <td>0.074377</td>\n",
              "      <td>0.515315</td>\n",
              "      <td>0.421249</td>\n",
              "      <td>0.063436</td>\n",
              "      <td>0.599253</td>\n",
              "      <td>0.299888</td>\n",
              "      <td>0.100859</td>\n",
              "      <td>0.504234</td>\n",
              "      <td>0.426864</td>\n",
              "      <td>0.068902</td>\n",
              "      <td>0.677796</td>\n",
              "      <td>0.276683</td>\n",
              "      <td>0.045520</td>\n",
              "      <td>0.565941</td>\n",
              "      <td>0.357236</td>\n",
              "      <td>0.076823</td>\n",
              "      <td>0.652323</td>\n",
              "      <td>0.275357</td>\n",
              "      <td>0.072320</td>\n",
              "      <td>0.385671</td>\n",
              "      <td>0.577744</td>\n",
              "      <td>0.036585</td>\n",
              "      <td>0.366213</td>\n",
              "      <td>0.527609</td>\n",
              "      <td>0.106177</td>\n",
              "    </tr>\n",
              "    <tr>\n",
              "      <th>3</th>\n",
              "      <td>50.0</td>\n",
              "      <td>263.000000</td>\n",
              "      <td>38.486161</td>\n",
              "      <td>-11.155298</td>\n",
              "      <td>63</td>\n",
              "      <td>58.0</td>\n",
              "      <td>1986.0</td>\n",
              "      <td>2</td>\n",
              "      <td>2013</td>\n",
              "      <td>1</td>\n",
              "      <td>0</td>\n",
              "      <td>1</td>\n",
              "      <td>4</td>\n",
              "      <td>27.0</td>\n",
              "      <td>0.567644</td>\n",
              "      <td>0.338694</td>\n",
              "      <td>0.093661</td>\n",
              "      <td>0.371689</td>\n",
              "      <td>0.555753</td>\n",
              "      <td>0.072557</td>\n",
              "      <td>0.302890</td>\n",
              "      <td>0.624277</td>\n",
              "      <td>0.072832</td>\n",
              "      <td>0.265823</td>\n",
              "      <td>0.734177</td>\n",
              "      <td>2.223199e-08</td>\n",
              "      <td>0.526244</td>\n",
              "      <td>0.399379</td>\n",
              "      <td>0.074377</td>\n",
              "      <td>0.515315</td>\n",
              "      <td>0.421249</td>\n",
              "      <td>0.063436</td>\n",
              "      <td>0.551217</td>\n",
              "      <td>0.401134</td>\n",
              "      <td>0.047649</td>\n",
              "      <td>0.504234</td>\n",
              "      <td>0.426864</td>\n",
              "      <td>0.068902</td>\n",
              "      <td>0.448911</td>\n",
              "      <td>0.475856</td>\n",
              "      <td>0.075233</td>\n",
              "      <td>0.565941</td>\n",
              "      <td>0.357236</td>\n",
              "      <td>0.076823</td>\n",
              "      <td>0.025136</td>\n",
              "      <td>0.968940</td>\n",
              "      <td>0.005924</td>\n",
              "      <td>0.489571</td>\n",
              "      <td>0.466095</td>\n",
              "      <td>0.044334</td>\n",
              "      <td>0.366213</td>\n",
              "      <td>0.527609</td>\n",
              "      <td>0.106177</td>\n",
              "    </tr>\n",
              "    <tr>\n",
              "      <th>4</th>\n",
              "      <td>250.0</td>\n",
              "      <td>1057.545585</td>\n",
              "      <td>31.130847</td>\n",
              "      <td>-1.825359</td>\n",
              "      <td>1</td>\n",
              "      <td>200.0</td>\n",
              "      <td>2003.0</td>\n",
              "      <td>0</td>\n",
              "      <td>2011</td>\n",
              "      <td>7</td>\n",
              "      <td>2</td>\n",
              "      <td>3</td>\n",
              "      <td>0</td>\n",
              "      <td>8.0</td>\n",
              "      <td>0.593410</td>\n",
              "      <td>0.346422</td>\n",
              "      <td>0.060168</td>\n",
              "      <td>0.497658</td>\n",
              "      <td>0.405835</td>\n",
              "      <td>0.096507</td>\n",
              "      <td>0.520808</td>\n",
              "      <td>0.387515</td>\n",
              "      <td>0.091677</td>\n",
              "      <td>0.530480</td>\n",
              "      <td>0.411154</td>\n",
              "      <td>5.836576e-02</td>\n",
              "      <td>0.526244</td>\n",
              "      <td>0.399379</td>\n",
              "      <td>0.074377</td>\n",
              "      <td>0.483105</td>\n",
              "      <td>0.459376</td>\n",
              "      <td>0.057519</td>\n",
              "      <td>0.599253</td>\n",
              "      <td>0.299888</td>\n",
              "      <td>0.100859</td>\n",
              "      <td>0.598341</td>\n",
              "      <td>0.336493</td>\n",
              "      <td>0.065166</td>\n",
              "      <td>0.448911</td>\n",
              "      <td>0.475856</td>\n",
              "      <td>0.075233</td>\n",
              "      <td>0.565941</td>\n",
              "      <td>0.357236</td>\n",
              "      <td>0.076823</td>\n",
              "      <td>0.574074</td>\n",
              "      <td>0.323210</td>\n",
              "      <td>0.102716</td>\n",
              "      <td>0.603922</td>\n",
              "      <td>0.259259</td>\n",
              "      <td>0.136819</td>\n",
              "      <td>0.621485</td>\n",
              "      <td>0.299278</td>\n",
              "      <td>0.079237</td>\n",
              "    </tr>\n",
              "  </tbody>\n",
              "</table>\n",
              "</div>\n",
              "      <button class=\"colab-df-convert\" onclick=\"convertToInteractive('df-b28039ae-14e1-415f-b8c2-52f7bd35d55a')\"\n",
              "              title=\"Convert this dataframe to an interactive table.\"\n",
              "              style=\"display:none;\">\n",
              "        \n",
              "  <svg xmlns=\"http://www.w3.org/2000/svg\" height=\"24px\"viewBox=\"0 0 24 24\"\n",
              "       width=\"24px\">\n",
              "    <path d=\"M0 0h24v24H0V0z\" fill=\"none\"/>\n",
              "    <path d=\"M18.56 5.44l.94 2.06.94-2.06 2.06-.94-2.06-.94-.94-2.06-.94 2.06-2.06.94zm-11 1L8.5 8.5l.94-2.06 2.06-.94-2.06-.94L8.5 2.5l-.94 2.06-2.06.94zm10 10l.94 2.06.94-2.06 2.06-.94-2.06-.94-.94-2.06-.94 2.06-2.06.94z\"/><path d=\"M17.41 7.96l-1.37-1.37c-.4-.4-.92-.59-1.43-.59-.52 0-1.04.2-1.43.59L10.3 9.45l-7.72 7.72c-.78.78-.78 2.05 0 2.83L4 21.41c.39.39.9.59 1.41.59.51 0 1.02-.2 1.41-.59l7.78-7.78 2.81-2.81c.8-.78.8-2.07 0-2.86zM5.41 20L4 18.59l7.72-7.72 1.47 1.35L5.41 20z\"/>\n",
              "  </svg>\n",
              "      </button>\n",
              "      \n",
              "  <style>\n",
              "    .colab-df-container {\n",
              "      display:flex;\n",
              "      flex-wrap:wrap;\n",
              "      gap: 12px;\n",
              "    }\n",
              "\n",
              "    .colab-df-convert {\n",
              "      background-color: #E8F0FE;\n",
              "      border: none;\n",
              "      border-radius: 50%;\n",
              "      cursor: pointer;\n",
              "      display: none;\n",
              "      fill: #1967D2;\n",
              "      height: 32px;\n",
              "      padding: 0 0 0 0;\n",
              "      width: 32px;\n",
              "    }\n",
              "\n",
              "    .colab-df-convert:hover {\n",
              "      background-color: #E2EBFA;\n",
              "      box-shadow: 0px 1px 2px rgba(60, 64, 67, 0.3), 0px 1px 3px 1px rgba(60, 64, 67, 0.15);\n",
              "      fill: #174EA6;\n",
              "    }\n",
              "\n",
              "    [theme=dark] .colab-df-convert {\n",
              "      background-color: #3B4455;\n",
              "      fill: #D2E3FC;\n",
              "    }\n",
              "\n",
              "    [theme=dark] .colab-df-convert:hover {\n",
              "      background-color: #434B5C;\n",
              "      box-shadow: 0px 1px 3px 1px rgba(0, 0, 0, 0.15);\n",
              "      filter: drop-shadow(0px 1px 2px rgba(0, 0, 0, 0.3));\n",
              "      fill: #FFFFFF;\n",
              "    }\n",
              "  </style>\n",
              "\n",
              "      <script>\n",
              "        const buttonEl =\n",
              "          document.querySelector('#df-b28039ae-14e1-415f-b8c2-52f7bd35d55a button.colab-df-convert');\n",
              "        buttonEl.style.display =\n",
              "          google.colab.kernel.accessAllowed ? 'block' : 'none';\n",
              "\n",
              "        async function convertToInteractive(key) {\n",
              "          const element = document.querySelector('#df-b28039ae-14e1-415f-b8c2-52f7bd35d55a');\n",
              "          const dataTable =\n",
              "            await google.colab.kernel.invokeFunction('convertToInteractive',\n",
              "                                                     [key], {});\n",
              "          if (!dataTable) return;\n",
              "\n",
              "          const docLinkHtml = 'Like what you see? Visit the ' +\n",
              "            '<a target=\"_blank\" href=https://colab.research.google.com/notebooks/data_table.ipynb>data table notebook</a>'\n",
              "            + ' to learn more about interactive tables.';\n",
              "          element.innerHTML = '';\n",
              "          dataTable['output_type'] = 'display_data';\n",
              "          await google.colab.output.renderOutput(dataTable, element);\n",
              "          const docLink = document.createElement('div');\n",
              "          docLink.innerHTML = docLinkHtml;\n",
              "          element.appendChild(docLink);\n",
              "        }\n",
              "      </script>\n",
              "    </div>\n",
              "  </div>\n",
              "  "
            ]
          },
          "metadata": {},
          "execution_count": 1026
        }
      ]
    },
    {
      "cell_type": "code",
      "execution_count": 1027,
      "metadata": {
        "colab": {
          "base_uri": "https://localhost:8080/"
        },
        "id": "PjfZ4F-GUZMP",
        "outputId": "a2af1211-24d7-41a1-cb15-b87552ea6712"
      },
      "outputs": [
        {
          "output_type": "execute_result",
          "data": {
            "text/plain": [
              "((53460, 52), (5940, 52), (53460,), (5940,))"
            ]
          },
          "metadata": {},
          "execution_count": 1027
        }
      ],
      "source": [
        "x_train, x_valid, y_train, y_valid = train_test_split(X,Y, random_state = 17, test_size = 0.1, stratify = Y, shuffle=True)\n",
        "x_train.shape, x_valid.shape, y_train.shape, y_valid.shape"
      ]
    },
    {
      "cell_type": "markdown",
      "metadata": {
        "id": "LFALZlqAv5RA"
      },
      "source": [
        "#4- Building Models"
      ]
    },
    {
      "cell_type": "code",
      "source": [
        "stratifiedkf = StratifiedKFold(n_splits=5, shuffle=True, random_state=1)"
      ],
      "metadata": {
        "id": "yRufBmmLRNOF"
      },
      "execution_count": 407,
      "outputs": []
    },
    {
      "cell_type": "markdown",
      "metadata": {
        "id": "SsFUNdn3zrCf"
      },
      "source": [
        "##4.2- Random Forest "
      ]
    },
    {
      "cell_type": "markdown",
      "metadata": {
        "id": "fO6vurxaSK9x"
      },
      "source": [
        "### 4.2.1- Hyper Parameter Tuning for Random Forest - sequential Approach"
      ]
    },
    {
      "cell_type": "markdown",
      "metadata": {
        "id": "VRhRsf12KWKz"
      },
      "source": [
        "####4.2.1.1- Finding the optimum number of iterations, number of stumps\n",
        "https://scikit-learn.org/stable/modules/generated/sklearn.ensemble.RandomForestClassifier.html#sklearn.ensemble.RandomForestClassifier"
      ]
    },
    {
      "cell_type": "code",
      "execution_count": null,
      "metadata": {
        "id": "dRHyJqXtKYfx"
      },
      "outputs": [],
      "source": [
        "# fuction to create models\n",
        "def build_models():\n",
        "    \n",
        "#     dic of models\n",
        "    models = dict()\n",
        "    \n",
        "    # number of decision stumps\n",
        "    decision_stump= [50, 75, 100, 150, 200, 300, 400, 500, 600, 700]\n",
        "        \n",
        "#    using for loop to iterate though trees\n",
        "    for i in decision_stump:\n",
        "        \n",
        "#         building model with specified trees\n",
        "        # models[str(i)] = XGBClassifier(n_estimators=i)\n",
        "\n",
        "        models[str(i)] = RandomForestClassifier(\n",
        "                            n_estimators = i,#>>>>>>>>>>>>>>>>>>>>>>>>>>>>>>>>>>>>>>>>>>>>>> Iterating Through\n",
        "                            criterion = 'gini', #{“gini”, “entropy”, “log_loss”}, default=”gini”\n",
        "                            max_depth = None, # the larger the more prone to overfit, range 3-10\n",
        "                            min_samples_split=2,\n",
        "                            min_samples_leaf=1, \n",
        "                            max_features='sqrt', #{“sqrt”, “log2”, None}, int or float, default=”sqrt”\n",
        "                            max_leaf_nodes = None, #Grow trees with max_leaf_nodes in best-first fashion. \n",
        "                            #Best nodes are defined as relative reduction in impurity. If None then unlimited number of leaf nodes.\n",
        "                            min_impurity_decrease = 0, #A node will be split if this split induces a decrease of the impurity greater than or equal to this value.\n",
        "                            bootstrap = True,\n",
        "                            warm_start = False, #When set to True, reuse the solution of the previous call to fit and add more estimators to the ensemble, otherwise, just fit a whole new forest\n",
        "                            class_weight = 'balanced',\n",
        "                            max_samples = None,\n",
        "                            verbose = 2,\n",
        "                            n_jobs = -1,\n",
        "                            random_state = 17,\n",
        "                            \n",
        ") \n",
        "#     returning the model\n",
        "    return models"
      ]
    },
    {
      "cell_type": "code",
      "execution_count": null,
      "metadata": {
        "id": "XlcEGj7-OZTB"
      },
      "outputs": [],
      "source": [
        "# function for the validation of model\n",
        "def evaluate_model(model, Input, Ouput):\n",
        "    \n",
        "    # defining the method of validation\n",
        "    cv = RepeatedStratifiedKFold(n_splits=3, n_repeats=1, random_state=17)\n",
        "    # validating the model based on the accurasy score\n",
        "    accuracy = cross_val_score(model, Input, Ouput, scoring='accuracy', cv=cv, n_jobs=-1)  \n",
        "    # returning the accuracy score\n",
        "    return accuracy"
      ]
    },
    {
      "cell_type": "code",
      "execution_count": null,
      "metadata": {
        "id": "ROatcxzhOhDn"
      },
      "outputs": [],
      "source": [
        "# calling the build_models function\n",
        "models = {}\n",
        "models = build_models()\n",
        "# creating list\n",
        "results, names = list(), list()\n",
        "# using for loop to iterate thoug the models\n",
        "for name, model in models.items():\n",
        "    \n",
        "    # calling the validation function\n",
        "    accuracy = evaluate_model(model, x_train, y_train)\n",
        "\n",
        "    # appending the accuray socres in results\n",
        "    results.append(accuracy)\n",
        "    names.append(name)\n",
        "\n",
        "    # printing -Hyperparameter tuning of XGBoost\n",
        "    print('---->Iterations (%s)---Accuracy( %.5f)' % (name, np.mean(accuracy)))"
      ]
    },
    {
      "cell_type": "code",
      "execution_count": null,
      "metadata": {
        "id": "DnGFR5xhO0h-"
      },
      "outputs": [],
      "source": [
        "# plotting box plot of the \n",
        "plt.boxplot(results, labels=names,showmeans=True)\n",
        "# showing the plot\n",
        "plt.show()"
      ]
    },
    {
      "cell_type": "markdown",
      "metadata": {
        "id": "KBkfaDGyO99Q"
      },
      "source": [
        "####4.2.1.2- Finding the optimum criterion"
      ]
    },
    {
      "cell_type": "code",
      "execution_count": null,
      "metadata": {
        "id": "rziT85jTPD2X"
      },
      "outputs": [],
      "source": [
        "# fuction to create models\n",
        "def build_models():\n",
        "    \n",
        "#     dic of models\n",
        "    models = dict()\n",
        "    \n",
        "    # number of decision stumps\n",
        "    criterions= ['gini', 'entropy']\n",
        "        \n",
        "#    using for loop to iterate though trees\n",
        "    for i in criterions:\n",
        "        \n",
        "#         building model with specified trees\n",
        "        # models[str(i)] = XGBClassifier(n_estimators=i)\n",
        "\n",
        "        models[str(i)] = RandomForestClassifier(\n",
        "                            n_estimators = 300,\n",
        "                            criterion = i, #>>>>>>>>>>>>>>>>>>>>>>>>>>>>>>>>>>>>>>>>>>>>>> Iterating Through\n",
        "                            max_depth = None, # the larger the more prone to overfit, range 3-10\n",
        "                            min_samples_split=2,\n",
        "                            min_samples_leaf=1, \n",
        "                            max_features='sqrt', #{“sqrt”, “log2”, None}, int or float, default=”sqrt”\n",
        "                            max_leaf_nodes = None, #Grow trees with max_leaf_nodes in best-first fashion. \n",
        "                            #Best nodes are defined as relative reduction in impurity. If None then unlimited number of leaf nodes.\n",
        "                            min_impurity_decrease = 0, #A node will be split if this split induces a decrease of the impurity greater than or equal to this value.\n",
        "                            bootstrap = True,\n",
        "                            warm_start = False, #When set to True, reuse the solution of the previous call to fit and add more estimators to the ensemble, otherwise, just fit a whole new forest\n",
        "                            class_weight = 'balanced',\n",
        "                            max_samples = None,\n",
        "                            verbose = 2,\n",
        "                            n_jobs = -1,\n",
        "                            random_state = 17,\n",
        "                            \n",
        ") \n",
        "#     returning the model\n",
        "    return models"
      ]
    },
    {
      "cell_type": "code",
      "execution_count": null,
      "metadata": {
        "id": "DA1D6N2IQSCx"
      },
      "outputs": [],
      "source": [
        "# calling the build_models function\n",
        "models = {}\n",
        "models = build_models()\n",
        "# creating list\n",
        "results, names = list(), list()\n",
        "# using for loop to iterate thoug the models\n",
        "for name, model in models.items():\n",
        "    \n",
        "    # calling the validation function\n",
        "    accuracy = evaluate_model(model, x_train, y_train)\n",
        "\n",
        "    # appending the accuray socres in results\n",
        "    results.append(accuracy)\n",
        "    names.append(name)\n",
        "\n",
        "    # printing -Hyperparameter tuning of XGBoost\n",
        "    print('---->Iterations (%s)---Accuracy( %.5f)' % (name, np.mean(accuracy)))"
      ]
    },
    {
      "cell_type": "code",
      "execution_count": null,
      "metadata": {
        "id": "BBTt7VpnQWjb"
      },
      "outputs": [],
      "source": [
        "# plotting box plot of the \n",
        "plt.boxplot(results, labels=names,showmeans=True)\n",
        "# showing the plot\n",
        "plt.show()"
      ]
    },
    {
      "cell_type": "markdown",
      "metadata": {
        "id": "VwSUKFSBQoGx"
      },
      "source": [
        "####4.2.1.3- Finding the max_features"
      ]
    },
    {
      "cell_type": "code",
      "execution_count": null,
      "metadata": {
        "id": "9tYeNMy2X8yK"
      },
      "outputs": [],
      "source": [
        "x_train.info()"
      ]
    },
    {
      "cell_type": "code",
      "execution_count": null,
      "metadata": {
        "id": "p7Lmn3SXQs1y"
      },
      "outputs": [],
      "source": [
        "# fuction to create models\n",
        "def build_models():\n",
        "    \n",
        "#     dic of models\n",
        "    models = dict()\n",
        "    \n",
        "    # number of decision stumps\n",
        "    Num_features= [1, 2, 3, 4, 5, 6, 'sqrt', 'log2', 7, 8, 9, 10, None]\n",
        "        \n",
        "#    using for loop to iterate though trees\n",
        "    for i in Num_features:\n",
        "        \n",
        "#         building model with specified trees\n",
        "        # models[str(i)] = XGBClassifier(n_estimators=i)\n",
        "\n",
        "        models[str(i)] = RandomForestClassifier(\n",
        "                            n_estimators = 300,\n",
        "                            criterion = 'entropy', \n",
        "                            max_depth = None, # the larger the more prone to overfit, range 3-10\n",
        "                            min_samples_split=2,\n",
        "                            min_samples_leaf=1, \n",
        "                            max_features= i, #{“sqrt”, “log2”, None}, int or float, default=”sqrt”#>>>>>>>>>>>>>>>>>>>>>>>>>>>>> Iterating Through\n",
        "                            max_leaf_nodes = None, #Grow trees with max_leaf_nodes in best-first fashion. \n",
        "                            #Best nodes are defined as relative reduction in impurity. If None then unlimited number of leaf nodes.\n",
        "                            min_impurity_decrease = 0, #A node will be split if this split induces a decrease of the impurity greater than or equal to this value.\n",
        "                            bootstrap = True,\n",
        "                            warm_start = False, #When set to True, reuse the solution of the previous call to fit and add more estimators to the ensemble, otherwise, just fit a whole new forest\n",
        "                            class_weight = 'balanced',\n",
        "                            max_samples = None,\n",
        "                            verbose = 2,\n",
        "                            n_jobs = -1,\n",
        "                            random_state = 17,\n",
        "                            \n",
        ") \n",
        "#     returning the model\n",
        "    return models"
      ]
    },
    {
      "cell_type": "code",
      "execution_count": null,
      "metadata": {
        "id": "h1h7txVyQupF"
      },
      "outputs": [],
      "source": [
        "# calling the build_models function\n",
        "models = {}\n",
        "models = build_models()\n",
        "# creating list\n",
        "results, names = list(), list()\n",
        "# using for loop to iterate thoug the models\n",
        "for name, model in models.items():\n",
        "    \n",
        "    # calling the validation function\n",
        "    accuracy = evaluate_model(model, x_train, y_train)\n",
        "\n",
        "    # appending the accuray socres in results\n",
        "    results.append(accuracy)\n",
        "    names.append(name)\n",
        "\n",
        "    # printing -Hyperparameter tuning of XGBoost\n",
        "    print('---->Iterations (%s)---Accuracy( %.5f)' % (name, np.mean(accuracy)))"
      ]
    },
    {
      "cell_type": "code",
      "execution_count": null,
      "metadata": {
        "id": "-1MQQ9W3QwVs"
      },
      "outputs": [],
      "source": [
        "# plotting box plot of the \n",
        "plt.boxplot(results, labels=names,showmeans=True)\n",
        "# showing the plot\n",
        "plt.show()"
      ]
    },
    {
      "cell_type": "markdown",
      "metadata": {
        "id": "fWBBxJaZ7W6A"
      },
      "source": [
        "###4.2.3- RandomizedSearchCV Hyperparameter Tuning for Random Forest\n",
        "https://scikit-learn.org/stable/modules/generated/sklearn.ensemble.RandomForestClassifier.html\n",
        "\n",
        "RandomForestClassifier(n_estimators=100, *, criterion='gini', max_depth=None, min_samples_split=2, min_samples_leaf=1, min_weight_fraction_leaf=0.0, max_features='sqrt', max_leaf_nodes=None, min_impurity_decrease=0.0, bootstrap=True, oob_score=False, n_jobs=None, random_state=None, verbose=0, warm_start=False, class_weight=None, ccp_alpha=0.0, max_samples=None)"
      ]
    },
    {
      "cell_type": "code",
      "execution_count": null,
      "metadata": {
        "id": "7KuEPUxIBRKw"
      },
      "outputs": [],
      "source": [
        "# defiing the model\n",
        "rf_model = RandomForestClassifier(\n",
        "                            # n_estimators = 300,\n",
        "                            criterion = 'entropy', \n",
        "                            max_depth = None, # \n",
        "                            min_samples_split=2,\n",
        "                            min_samples_leaf=1, \n",
        "                            max_features= 'sqrt', #{“sqrt”, “log2”, None}, int or float, default=”sqrt”#>>>>>>>>>>>>>>>>>>>>>>>>>>>>> Iterating Through\n",
        "                            max_leaf_nodes = None, #Grow trees with max_leaf_nodes in best-first fashion. \n",
        "                            #Best nodes are defined as relative reduction in impurity. If None then unlimited number of leaf nodes.\n",
        "                            min_impurity_decrease = 0, #A node will be split if this split induces a decrease of the impurity greater than or equal to this value.\n",
        "                            bootstrap = True,\n",
        "                            warm_start = False, #When set to True, reuse the solution of the previous call to fit and add more estimators to the ensemble, otherwise, just fit a whole new forest\n",
        "                            class_weight = 'balanced',\n",
        "                            max_samples = None,\n",
        "                            verbose = 2,\n",
        "                            n_jobs = -1,\n",
        "                            random_state = 17,\n",
        ")\n",
        "\n",
        "\n",
        "# creating a dict of grids\n",
        "grid = dict()\n",
        "\n",
        "# values for iteration\n",
        "grid['n_estimators'] = np.arange(50,900)\n",
        "\n"
      ]
    },
    {
      "cell_type": "code",
      "execution_count": null,
      "metadata": {
        "id": "Sha4d5HwBnGy"
      },
      "outputs": [],
      "source": [
        "# defining the cv\n",
        "# cv = RepeatedStratifiedKFold(n_splits=3, n_repeats=1)\n",
        "\n",
        "\n",
        "# applying the gridsearchcv method\n",
        "Rand_search = RandomizedSearchCV(estimator = rf_model\n",
        "                                 , param_distributions=grid\n",
        "                                 , n_iter=10\n",
        "                                 , scoring='accuracy'\n",
        "                                 , n_jobs=-1\n",
        "                                 , cv = 2 # None, to use the default 5-fold cross validation, integer, to specify the number of folds in a (Stratified)KFold\n",
        "                                #  , verbose = 1\n",
        "                                 , random_state=17)\n",
        "\n",
        "# storing the values\n",
        "Rand_result = Rand_search.fit(x_train, y_train)\n",
        "\n",
        "\n",
        "# printing the best parameters - Hyperparameter tuning of Random Forest\n",
        "print(\"Accuracy score: %f using %s\" % (Rand_result.best_score_, Rand_result.best_params_))"
      ]
    },
    {
      "cell_type": "markdown",
      "metadata": {
        "id": "sQn1_Z_AT80C"
      },
      "source": [
        "###4.3.3- Fitting the Optimum Random Forest Model"
      ]
    },
    {
      "cell_type": "code",
      "execution_count": 1028,
      "metadata": {
        "id": "1KTqiAHT5gcb"
      },
      "outputs": [],
      "source": [
        "rf_clf = RandomForestClassifier(\n",
        "                            n_estimators = 400,\n",
        "                            criterion = 'entropy', \n",
        "                            max_depth = None, # \n",
        "                            min_samples_split=2,\n",
        "                            min_samples_leaf=1, \n",
        "                            max_features= 'sqrt', #{“sqrt”, “log2”, None}, int or float, default=”sqrt”\n",
        "                            max_leaf_nodes = None, #Grow trees with max_leaf_nodes in best-first fashion. \n",
        "                            #Best nodes are defined as relative reduction in impurity. If None then unlimited number of leaf nodes.\n",
        "                            min_impurity_decrease = 0, #A node will be split if this split induces a decrease of the impurity greater than or equal to this value.\n",
        "                            bootstrap = True,\n",
        "                            warm_start = False, #When set to True, reuse the solution of the previous call to fit and add more estimators to the ensemble, otherwise, just fit a whole new forest\n",
        "                            class_weight = 'balanced',\n",
        "                            max_samples = None,\n",
        "                            verbose = 0,\n",
        "                            n_jobs = -1,\n",
        "                            random_state = 17,\n",
        ")"
      ]
    },
    {
      "cell_type": "code",
      "source": [
        "cross_val_score(rf_clf, X, Y, cv=3)"
      ],
      "metadata": {
        "colab": {
          "base_uri": "https://localhost:8080/"
        },
        "id": "u4UNRcRSSoF1",
        "outputId": "39e8104a-ae68-434b-f436-36296fb42402"
      },
      "execution_count": 1029,
      "outputs": [
        {
          "output_type": "execute_result",
          "data": {
            "text/plain": [
              "array([0.80106061, 0.80368687, 0.80232323])"
            ]
          },
          "metadata": {},
          "execution_count": 1029
        }
      ]
    },
    {
      "cell_type": "code",
      "source": [
        "y_pred_oos = cross_val_predict(rf_clf, x_train, y_train, cv=stratifiedkf)\n",
        "rf_clf.fit(x_train, y_train)\n",
        "accuracy = metrics.accuracy_score(y_train, y_pred_oos)\n",
        "print(f'Accuracy: {accuracy}')"
      ],
      "metadata": {
        "colab": {
          "base_uri": "https://localhost:8080/"
        },
        "id": "tJuO8Co99bv8",
        "outputId": "10e4a57e-2ab6-4b0e-af64-aeb6625131ee"
      },
      "execution_count": 1030,
      "outputs": [
        {
          "output_type": "stream",
          "name": "stdout",
          "text": [
            "Accuracy: 0.8040029928918818\n"
          ]
        }
      ]
    },
    {
      "cell_type": "code",
      "source": [
        "print(classification_report(y_train, y_pred_oos))\n",
        "\n",
        "# Plot confusion matrix\n",
        "fig, ax = plt.subplots(figsize=(8, 5))\n",
        "cmp = ConfusionMatrixDisplay(\n",
        "    confusion_matrix(y_train, y_pred_oos),\n",
        "    display_labels=[\"functional\", \"non_functional\", \"func_needs_repair\"],\n",
        ")\n",
        "\n",
        "cmp.plot(ax=ax)\n",
        "plt.show();"
      ],
      "metadata": {
        "colab": {
          "base_uri": "https://localhost:8080/",
          "height": 518
        },
        "id": "Yu7uA_TF9kiW",
        "outputId": "726b2a28-81fb-4e55-9727-eaf9a5470f37"
      },
      "execution_count": 1031,
      "outputs": [
        {
          "output_type": "stream",
          "name": "stdout",
          "text": [
            "              precision    recall  f1-score   support\n",
            "\n",
            "           0       0.81      0.88      0.84     29033\n",
            "           1       0.51      0.37      0.43      3885\n",
            "           2       0.83      0.79      0.81     20542\n",
            "\n",
            "    accuracy                           0.80     53460\n",
            "   macro avg       0.72      0.68      0.69     53460\n",
            "weighted avg       0.80      0.80      0.80     53460\n",
            "\n"
          ]
        },
        {
          "output_type": "display_data",
          "data": {
            "text/plain": [
              "<Figure size 576x360 with 2 Axes>"
            ],
            "image/png": "[encoded data removed]"
          },
          "metadata": {
            "needs_background": "light"
          }
        }
      ]
    },
    {
      "cell_type": "code",
      "execution_count": 1032,
      "metadata": {
        "id": "i5Wu0JCP5ttG"
      },
      "outputs": [],
      "source": [
        "rf_preds = rf_clf.predict(x_valid)\n"
      ]
    },
    {
      "cell_type": "code",
      "execution_count": 1033,
      "metadata": {
        "colab": {
          "base_uri": "https://localhost:8080/",
          "height": 518
        },
        "id": "DGG9rJ8R5z_6",
        "outputId": "1e040554-88c1-475f-b5b3-537325109e72"
      },
      "outputs": [
        {
          "output_type": "stream",
          "name": "stdout",
          "text": [
            "              precision    recall  f1-score   support\n",
            "\n",
            "           0       0.81      0.89      0.85      3226\n",
            "           1       0.51      0.36      0.42       432\n",
            "           2       0.84      0.78      0.81      2282\n",
            "\n",
            "    accuracy                           0.81      5940\n",
            "   macro avg       0.72      0.68      0.69      5940\n",
            "weighted avg       0.80      0.81      0.80      5940\n",
            "\n"
          ]
        },
        {
          "output_type": "display_data",
          "data": {
            "text/plain": [
              "<Figure size 576x360 with 2 Axes>"
            ],
            "image/png": "[encoded data removed]"
          },
          "metadata": {
            "needs_background": "light"
          }
        }
      ],
      "source": [
        "print(classification_report(y_valid, rf_preds))\n",
        "\n",
        "# Plot confusion matrix\n",
        "fig, ax = plt.subplots(figsize=(8, 5))\n",
        "cmp = ConfusionMatrixDisplay(\n",
        "    confusion_matrix(y_valid, rf_preds),\n",
        "    display_labels=[\"functional\", \"non_functional\", \"func_needs_repair\"],\n",
        ")\n",
        "\n",
        "cmp.plot(ax=ax)\n",
        "plt.show();"
      ]
    },
    {
      "cell_type": "markdown",
      "metadata": {
        "id": "uibrUdYw68xq"
      },
      "source": [
        "####Feature Importance - Random Forest"
      ]
    },
    {
      "cell_type": "code",
      "execution_count": 1034,
      "metadata": {
        "id": "ZHfjTbIH1Cfb"
      },
      "outputs": [],
      "source": [
        "rf_feature_scores = pd.Series(rf_clf.feature_importances_, index=x_train.columns).sort_values(ascending=False)\n",
        "\n",
        "# feature_scores"
      ]
    },
    {
      "cell_type": "code",
      "execution_count": 1035,
      "metadata": {
        "id": "dGBTc2RY3Cu_",
        "colab": {
          "base_uri": "https://localhost:8080/",
          "height": 1000
        },
        "outputId": "f1fb26e7-d244-43fa-9f55-6cc823e1679f"
      },
      "outputs": [
        {
          "output_type": "display_data",
          "data": {
            "text/plain": [
              "<Figure size 2160x1728 with 1 Axes>"
            ],
            "image/png": "[encoded data removed]"
          },
          "metadata": {
            "needs_background": "light"
          }
        }
      ],
      "source": [
        "# Creating a seaborn bar plot\n",
        "\n",
        "f, ax = plt.subplots(figsize=(30, 24))\n",
        "ax = sns.barplot(x=rf_feature_scores, y=rf_feature_scores.index)\n",
        "ax.set_title(\"Visualize feature scores of the features\")\n",
        "ax.set_yticklabels(rf_feature_scores.index)\n",
        "ax.set_xlabel(\"Feature importance score\")\n",
        "ax.set_ylabel(\"Features\")\n",
        "plt.show()"
      ]
    },
    {
      "cell_type": "code",
      "source": [
        "rf_preds_test = rf_clf.predict(tar_test)"
      ],
      "metadata": {
        "id": "1d9w67Zul5bl"
      },
      "execution_count": 1037,
      "outputs": []
    },
    {
      "cell_type": "code",
      "source": [
        "test_RFoutput=fac_test\n",
        "test_RFoutput['status_group'] = rf_preds_test"
      ],
      "metadata": {
        "id": "IG-oMvAgo-OV",
        "colab": {
          "base_uri": "https://localhost:8080/"
        },
        "outputId": "8bb88efd-49d3-446c-87df-19d6a1908db0"
      },
      "execution_count": 1038,
      "outputs": [
        {
          "output_type": "stream",
          "name": "stderr",
          "text": [
            "<ipython-input-1038-48ba4dec1e76>:2: SettingWithCopyWarning: \n",
            "A value is trying to be set on a copy of a slice from a DataFrame.\n",
            "Try using .loc[row_indexer,col_indexer] = value instead\n",
            "\n",
            "See the caveats in the documentation: https://pandas.pydata.org/pandas-docs/stable/user_guide/indexing.html#returning-a-view-versus-a-copy\n",
            "  test_RFoutput['status_group'] = rf_preds_test\n"
          ]
        }
      ]
    },
    {
      "cell_type": "code",
      "source": [
        "test_RFoutput.head()"
      ],
      "metadata": {
        "colab": {
          "base_uri": "https://localhost:8080/",
          "height": 270
        },
        "id": "Tk85HDSmZGKC",
        "outputId": "7dd9c1ad-7d4d-4546-b242-0a2d8da024c8"
      },
      "execution_count": 1039,
      "outputs": [
        {
          "output_type": "execute_result",
          "data": {
            "text/plain": [
              "   amount_tsh  funder  gps_height  longitude   latitude  basin  region  \\\n",
              "0        20.0     163      1996.0  35.290799  -4.059696      4       2   \n",
              "1        30.0      20      1569.0  36.656709  -3.309214      2      16   \n",
              "2        50.0      25      1567.0  34.767863  -5.004344      4      18   \n",
              "3        50.0     144       267.0  38.058046  -9.418672      3      14   \n",
              "4       500.0    1037      1260.0  35.006123 -10.950412      3       9   \n",
              "\n",
              "   district_code  lga  ward  population  public_meeting  scheme_management  \\\n",
              "0              3   37   573       321.0               0                  9   \n",
              "1              2   26   367       300.0               0                  0   \n",
              "2              2   32   647       500.0               0                  0   \n",
              "3             43  105  1795       250.0               1                  0   \n",
              "4              3   97   653        60.0               1                  5   \n",
              "\n",
              "   permit  construction_year  extraction_type  management  payment_type  \\\n",
              "0       1             2012.0                5           8             1   \n",
              "1       1             2000.0                0           0             1   \n",
              "2       2             2010.0                5           0             1   \n",
              "3       1             1987.0                5           0             3   \n",
              "4       1             2000.0                0           4             6   \n",
              "\n",
              "   water_quality  quantity  source  waterpoint_type  year_recorded  \\\n",
              "0              0         3       1                3           2013   \n",
              "1              0         1       0                0           2013   \n",
              "2              0         1       1                3           2013   \n",
              "3              0         2       5                3           2013   \n",
              "4              0         0       0                0           2013   \n",
              "\n",
              "   month_recorded  day_recorded  quarer_recorded  percipitation_class  \\\n",
              "0               2             0                1                    2   \n",
              "1               2             0                1                    2   \n",
              "2               2             4                1                    2   \n",
              "3               1             1                1                    4   \n",
              "4               3             2                1                    4   \n",
              "\n",
              "   well_age  status_group  \n",
              "0        23             2  \n",
              "1        13             0  \n",
              "2         1             0  \n",
              "3         8             2  \n",
              "4        13             0  "
            ],
            "text/html": [
              "\n",
              "  <div id=\"df-db337781-614b-41b9-862c-6748b4cc5cb4\">\n",
              "    <div class=\"colab-df-container\">\n",
              "      <div>\n",
              "<style scoped>\n",
              "    .dataframe tbody tr th:only-of-type {\n",
              "        vertical-align: middle;\n",
              "    }\n",
              "\n",
              "    .dataframe tbody tr th {\n",
              "        vertical-align: top;\n",
              "    }\n",
              "\n",
              "    .dataframe thead th {\n",
              "        text-align: right;\n",
              "    }\n",
              "</style>\n",
              "<table border=\"1\" class=\"dataframe\">\n",
              "  <thead>\n",
              "    <tr style=\"text-align: right;\">\n",
              "      <th></th>\n",
              "      <th>amount_tsh</th>\n",
              "      <th>funder</th>\n",
              "      <th>gps_height</th>\n",
              "      <th>longitude</th>\n",
              "      <th>latitude</th>\n",
              "      <th>basin</th>\n",
              "      <th>region</th>\n",
              "      <th>district_code</th>\n",
              "      <th>lga</th>\n",
              "      <th>ward</th>\n",
              "      <th>population</th>\n",
              "      <th>public_meeting</th>\n",
              "      <th>scheme_management</th>\n",
              "      <th>permit</th>\n",
              "      <th>construction_year</th>\n",
              "      <th>extraction_type</th>\n",
              "      <th>management</th>\n",
              "      <th>payment_type</th>\n",
              "      <th>water_quality</th>\n",
              "      <th>quantity</th>\n",
              "      <th>source</th>\n",
              "      <th>waterpoint_type</th>\n",
              "      <th>year_recorded</th>\n",
              "      <th>month_recorded</th>\n",
              "      <th>day_recorded</th>\n",
              "      <th>quarer_recorded</th>\n",
              "      <th>percipitation_class</th>\n",
              "      <th>well_age</th>\n",
              "      <th>status_group</th>\n",
              "    </tr>\n",
              "  </thead>\n",
              "  <tbody>\n",
              "    <tr>\n",
              "      <th>0</th>\n",
              "      <td>20.0</td>\n",
              "      <td>163</td>\n",
              "      <td>1996.0</td>\n",
              "      <td>35.290799</td>\n",
              "      <td>-4.059696</td>\n",
              "      <td>4</td>\n",
              "      <td>2</td>\n",
              "      <td>3</td>\n",
              "      <td>37</td>\n",
              "      <td>573</td>\n",
              "      <td>321.0</td>\n",
              "      <td>0</td>\n",
              "      <td>9</td>\n",
              "      <td>1</td>\n",
              "      <td>2012.0</td>\n",
              "      <td>5</td>\n",
              "      <td>8</td>\n",
              "      <td>1</td>\n",
              "      <td>0</td>\n",
              "      <td>3</td>\n",
              "      <td>1</td>\n",
              "      <td>3</td>\n",
              "      <td>2013</td>\n",
              "      <td>2</td>\n",
              "      <td>0</td>\n",
              "      <td>1</td>\n",
              "      <td>2</td>\n",
              "      <td>23</td>\n",
              "      <td>2</td>\n",
              "    </tr>\n",
              "    <tr>\n",
              "      <th>1</th>\n",
              "      <td>30.0</td>\n",
              "      <td>20</td>\n",
              "      <td>1569.0</td>\n",
              "      <td>36.656709</td>\n",
              "      <td>-3.309214</td>\n",
              "      <td>2</td>\n",
              "      <td>16</td>\n",
              "      <td>2</td>\n",
              "      <td>26</td>\n",
              "      <td>367</td>\n",
              "      <td>300.0</td>\n",
              "      <td>0</td>\n",
              "      <td>0</td>\n",
              "      <td>1</td>\n",
              "      <td>2000.0</td>\n",
              "      <td>0</td>\n",
              "      <td>0</td>\n",
              "      <td>1</td>\n",
              "      <td>0</td>\n",
              "      <td>1</td>\n",
              "      <td>0</td>\n",
              "      <td>0</td>\n",
              "      <td>2013</td>\n",
              "      <td>2</td>\n",
              "      <td>0</td>\n",
              "      <td>1</td>\n",
              "      <td>2</td>\n",
              "      <td>13</td>\n",
              "      <td>0</td>\n",
              "    </tr>\n",
              "    <tr>\n",
              "      <th>2</th>\n",
              "      <td>50.0</td>\n",
              "      <td>25</td>\n",
              "      <td>1567.0</td>\n",
              "      <td>34.767863</td>\n",
              "      <td>-5.004344</td>\n",
              "      <td>4</td>\n",
              "      <td>18</td>\n",
              "      <td>2</td>\n",
              "      <td>32</td>\n",
              "      <td>647</td>\n",
              "      <td>500.0</td>\n",
              "      <td>0</td>\n",
              "      <td>0</td>\n",
              "      <td>2</td>\n",
              "      <td>2010.0</td>\n",
              "      <td>5</td>\n",
              "      <td>0</td>\n",
              "      <td>1</td>\n",
              "      <td>0</td>\n",
              "      <td>1</td>\n",
              "      <td>1</td>\n",
              "      <td>3</td>\n",
              "      <td>2013</td>\n",
              "      <td>2</td>\n",
              "      <td>4</td>\n",
              "      <td>1</td>\n",
              "      <td>2</td>\n",
              "      <td>1</td>\n",
              "      <td>0</td>\n",
              "    </tr>\n",
              "    <tr>\n",
              "      <th>3</th>\n",
              "      <td>50.0</td>\n",
              "      <td>144</td>\n",
              "      <td>267.0</td>\n",
              "      <td>38.058046</td>\n",
              "      <td>-9.418672</td>\n",
              "      <td>3</td>\n",
              "      <td>14</td>\n",
              "      <td>43</td>\n",
              "      <td>105</td>\n",
              "      <td>1795</td>\n",
              "      <td>250.0</td>\n",
              "      <td>1</td>\n",
              "      <td>0</td>\n",
              "      <td>1</td>\n",
              "      <td>1987.0</td>\n",
              "      <td>5</td>\n",
              "      <td>0</td>\n",
              "      <td>3</td>\n",
              "      <td>0</td>\n",
              "      <td>2</td>\n",
              "      <td>5</td>\n",
              "      <td>3</td>\n",
              "      <td>2013</td>\n",
              "      <td>1</td>\n",
              "      <td>1</td>\n",
              "      <td>1</td>\n",
              "      <td>4</td>\n",
              "      <td>8</td>\n",
              "      <td>2</td>\n",
              "    </tr>\n",
              "    <tr>\n",
              "      <th>4</th>\n",
              "      <td>500.0</td>\n",
              "      <td>1037</td>\n",
              "      <td>1260.0</td>\n",
              "      <td>35.006123</td>\n",
              "      <td>-10.950412</td>\n",
              "      <td>3</td>\n",
              "      <td>9</td>\n",
              "      <td>3</td>\n",
              "      <td>97</td>\n",
              "      <td>653</td>\n",
              "      <td>60.0</td>\n",
              "      <td>1</td>\n",
              "      <td>5</td>\n",
              "      <td>1</td>\n",
              "      <td>2000.0</td>\n",
              "      <td>0</td>\n",
              "      <td>4</td>\n",
              "      <td>6</td>\n",
              "      <td>0</td>\n",
              "      <td>0</td>\n",
              "      <td>0</td>\n",
              "      <td>0</td>\n",
              "      <td>2013</td>\n",
              "      <td>3</td>\n",
              "      <td>2</td>\n",
              "      <td>1</td>\n",
              "      <td>4</td>\n",
              "      <td>13</td>\n",
              "      <td>0</td>\n",
              "    </tr>\n",
              "  </tbody>\n",
              "</table>\n",
              "</div>\n",
              "      <button class=\"colab-df-convert\" onclick=\"convertToInteractive('df-db337781-614b-41b9-862c-6748b4cc5cb4')\"\n",
              "              title=\"Convert this dataframe to an interactive table.\"\n",
              "              style=\"display:none;\">\n",
              "        \n",
              "  <svg xmlns=\"http://www.w3.org/2000/svg\" height=\"24px\"viewBox=\"0 0 24 24\"\n",
              "       width=\"24px\">\n",
              "    <path d=\"M0 0h24v24H0V0z\" fill=\"none\"/>\n",
              "    <path d=\"M18.56 5.44l.94 2.06.94-2.06 2.06-.94-2.06-.94-.94-2.06-.94 2.06-2.06.94zm-11 1L8.5 8.5l.94-2.06 2.06-.94-2.06-.94L8.5 2.5l-.94 2.06-2.06.94zm10 10l.94 2.06.94-2.06 2.06-.94-2.06-.94-.94-2.06-.94 2.06-2.06.94z\"/><path d=\"M17.41 7.96l-1.37-1.37c-.4-.4-.92-.59-1.43-.59-.52 0-1.04.2-1.43.59L10.3 9.45l-7.72 7.72c-.78.78-.78 2.05 0 2.83L4 21.41c.39.39.9.59 1.41.59.51 0 1.02-.2 1.41-.59l7.78-7.78 2.81-2.81c.8-.78.8-2.07 0-2.86zM5.41 20L4 18.59l7.72-7.72 1.47 1.35L5.41 20z\"/>\n",
              "  </svg>\n",
              "      </button>\n",
              "      \n",
              "  <style>\n",
              "    .colab-df-container {\n",
              "      display:flex;\n",
              "      flex-wrap:wrap;\n",
              "      gap: 12px;\n",
              "    }\n",
              "\n",
              "    .colab-df-convert {\n",
              "      background-color: #E8F0FE;\n",
              "      border: none;\n",
              "      border-radius: 50%;\n",
              "      cursor: pointer;\n",
              "      display: none;\n",
              "      fill: #1967D2;\n",
              "      height: 32px;\n",
              "      padding: 0 0 0 0;\n",
              "      width: 32px;\n",
              "    }\n",
              "\n",
              "    .colab-df-convert:hover {\n",
              "      background-color: #E2EBFA;\n",
              "      box-shadow: 0px 1px 2px rgba(60, 64, 67, 0.3), 0px 1px 3px 1px rgba(60, 64, 67, 0.15);\n",
              "      fill: #174EA6;\n",
              "    }\n",
              "\n",
              "    [theme=dark] .colab-df-convert {\n",
              "      background-color: #3B4455;\n",
              "      fill: #D2E3FC;\n",
              "    }\n",
              "\n",
              "    [theme=dark] .colab-df-convert:hover {\n",
              "      background-color: #434B5C;\n",
              "      box-shadow: 0px 1px 3px 1px rgba(0, 0, 0, 0.15);\n",
              "      filter: drop-shadow(0px 1px 2px rgba(0, 0, 0, 0.3));\n",
              "      fill: #FFFFFF;\n",
              "    }\n",
              "  </style>\n",
              "\n",
              "      <script>\n",
              "        const buttonEl =\n",
              "          document.querySelector('#df-db337781-614b-41b9-862c-6748b4cc5cb4 button.colab-df-convert');\n",
              "        buttonEl.style.display =\n",
              "          google.colab.kernel.accessAllowed ? 'block' : 'none';\n",
              "\n",
              "        async function convertToInteractive(key) {\n",
              "          const element = document.querySelector('#df-db337781-614b-41b9-862c-6748b4cc5cb4');\n",
              "          const dataTable =\n",
              "            await google.colab.kernel.invokeFunction('convertToInteractive',\n",
              "                                                     [key], {});\n",
              "          if (!dataTable) return;\n",
              "\n",
              "          const docLinkHtml = 'Like what you see? Visit the ' +\n",
              "            '<a target=\"_blank\" href=https://colab.research.google.com/notebooks/data_table.ipynb>data table notebook</a>'\n",
              "            + ' to learn more about interactive tables.';\n",
              "          element.innerHTML = '';\n",
              "          dataTable['output_type'] = 'display_data';\n",
              "          await google.colab.output.renderOutput(dataTable, element);\n",
              "          const docLink = document.createElement('div');\n",
              "          docLink.innerHTML = docLinkHtml;\n",
              "          element.appendChild(docLink);\n",
              "        }\n",
              "      </script>\n",
              "    </div>\n",
              "  </div>\n",
              "  "
            ]
          },
          "metadata": {},
          "execution_count": 1039
        }
      ]
    },
    {
      "cell_type": "code",
      "source": [
        "test_RFoutput['id']=test_id"
      ],
      "metadata": {
        "id": "hH458Ftwu2Hm",
        "colab": {
          "base_uri": "https://localhost:8080/"
        },
        "outputId": "baaad09a-7a0d-4427-bbaf-e97b2ab81efe"
      },
      "execution_count": 1040,
      "outputs": [
        {
          "output_type": "stream",
          "name": "stderr",
          "text": [
            "<ipython-input-1040-6afea9a59b33>:1: SettingWithCopyWarning: \n",
            "A value is trying to be set on a copy of a slice from a DataFrame.\n",
            "Try using .loc[row_indexer,col_indexer] = value instead\n",
            "\n",
            "See the caveats in the documentation: https://pandas.pydata.org/pandas-docs/stable/user_guide/indexing.html#returning-a-view-versus-a-copy\n",
            "  test_RFoutput['id']=test_id\n"
          ]
        }
      ]
    },
    {
      "cell_type": "code",
      "source": [
        "#0 functional\n",
        "#1 functional needs repair\n",
        "#non functional\n",
        "test_RFoutput['status_group'] = test_RFoutput['status_group'].map({ 0:'functional', 1:'functional needs repair', 2:'non functional'})"
      ],
      "metadata": {
        "id": "YVjAr6jmvA0A",
        "colab": {
          "base_uri": "https://localhost:8080/"
        },
        "outputId": "5a328956-0d25-4428-cb56-d17d143ead41"
      },
      "execution_count": 1041,
      "outputs": [
        {
          "output_type": "stream",
          "name": "stderr",
          "text": [
            "<ipython-input-1041-f27566d0a95c>:4: SettingWithCopyWarning: \n",
            "A value is trying to be set on a copy of a slice from a DataFrame.\n",
            "Try using .loc[row_indexer,col_indexer] = value instead\n",
            "\n",
            "See the caveats in the documentation: https://pandas.pydata.org/pandas-docs/stable/user_guide/indexing.html#returning-a-view-versus-a-copy\n",
            "  test_RFoutput['status_group'] = test_RFoutput['status_group'].map({ 0:'functional', 1:'functional needs repair', 2:'non functional'})\n"
          ]
        }
      ]
    },
    {
      "cell_type": "code",
      "source": [
        "test_RFoutput.head()"
      ],
      "metadata": {
        "colab": {
          "base_uri": "https://localhost:8080/",
          "height": 270
        },
        "id": "Pf-KHEfiw9N8",
        "outputId": "d432faf2-ff1b-44ec-b0e6-6c8e024c5276"
      },
      "execution_count": 1042,
      "outputs": [
        {
          "output_type": "execute_result",
          "data": {
            "text/plain": [
              "   amount_tsh  funder  gps_height  longitude   latitude  basin  region  \\\n",
              "0        20.0     163      1996.0  35.290799  -4.059696      4       2   \n",
              "1        30.0      20      1569.0  36.656709  -3.309214      2      16   \n",
              "2        50.0      25      1567.0  34.767863  -5.004344      4      18   \n",
              "3        50.0     144       267.0  38.058046  -9.418672      3      14   \n",
              "4       500.0    1037      1260.0  35.006123 -10.950412      3       9   \n",
              "\n",
              "   district_code  lga  ward  population  public_meeting  scheme_management  \\\n",
              "0              3   37   573       321.0               0                  9   \n",
              "1              2   26   367       300.0               0                  0   \n",
              "2              2   32   647       500.0               0                  0   \n",
              "3             43  105  1795       250.0               1                  0   \n",
              "4              3   97   653        60.0               1                  5   \n",
              "\n",
              "   permit  construction_year  extraction_type  management  payment_type  \\\n",
              "0       1             2012.0                5           8             1   \n",
              "1       1             2000.0                0           0             1   \n",
              "2       2             2010.0                5           0             1   \n",
              "3       1             1987.0                5           0             3   \n",
              "4       1             2000.0                0           4             6   \n",
              "\n",
              "   water_quality  quantity  source  waterpoint_type  year_recorded  \\\n",
              "0              0         3       1                3           2013   \n",
              "1              0         1       0                0           2013   \n",
              "2              0         1       1                3           2013   \n",
              "3              0         2       5                3           2013   \n",
              "4              0         0       0                0           2013   \n",
              "\n",
              "   month_recorded  day_recorded  quarer_recorded  percipitation_class  \\\n",
              "0               2             0                1                    2   \n",
              "1               2             0                1                    2   \n",
              "2               2             4                1                    2   \n",
              "3               1             1                1                    4   \n",
              "4               3             2                1                    4   \n",
              "\n",
              "   well_age    status_group     id  \n",
              "0        23  non functional  50785  \n",
              "1        13      functional  51630  \n",
              "2         1      functional  17168  \n",
              "3         8  non functional  45559  \n",
              "4        13      functional  49871  "
            ],
            "text/html": [
              "\n",
              "  <div id=\"df-8db30890-32e7-45bc-b1a9-97a06fcee9b7\">\n",
              "    <div class=\"colab-df-container\">\n",
              "      <div>\n",
              "<style scoped>\n",
              "    .dataframe tbody tr th:only-of-type {\n",
              "        vertical-align: middle;\n",
              "    }\n",
              "\n",
              "    .dataframe tbody tr th {\n",
              "        vertical-align: top;\n",
              "    }\n",
              "\n",
              "    .dataframe thead th {\n",
              "        text-align: right;\n",
              "    }\n",
              "</style>\n",
              "<table border=\"1\" class=\"dataframe\">\n",
              "  <thead>\n",
              "    <tr style=\"text-align: right;\">\n",
              "      <th></th>\n",
              "      <th>amount_tsh</th>\n",
              "      <th>funder</th>\n",
              "      <th>gps_height</th>\n",
              "      <th>longitude</th>\n",
              "      <th>latitude</th>\n",
              "      <th>basin</th>\n",
              "      <th>region</th>\n",
              "      <th>district_code</th>\n",
              "      <th>lga</th>\n",
              "      <th>ward</th>\n",
              "      <th>population</th>\n",
              "      <th>public_meeting</th>\n",
              "      <th>scheme_management</th>\n",
              "      <th>permit</th>\n",
              "      <th>construction_year</th>\n",
              "      <th>extraction_type</th>\n",
              "      <th>management</th>\n",
              "      <th>payment_type</th>\n",
              "      <th>water_quality</th>\n",
              "      <th>quantity</th>\n",
              "      <th>source</th>\n",
              "      <th>waterpoint_type</th>\n",
              "      <th>year_recorded</th>\n",
              "      <th>month_recorded</th>\n",
              "      <th>day_recorded</th>\n",
              "      <th>quarer_recorded</th>\n",
              "      <th>percipitation_class</th>\n",
              "      <th>well_age</th>\n",
              "      <th>status_group</th>\n",
              "      <th>id</th>\n",
              "    </tr>\n",
              "  </thead>\n",
              "  <tbody>\n",
              "    <tr>\n",
              "      <th>0</th>\n",
              "      <td>20.0</td>\n",
              "      <td>163</td>\n",
              "      <td>1996.0</td>\n",
              "      <td>35.290799</td>\n",
              "      <td>-4.059696</td>\n",
              "      <td>4</td>\n",
              "      <td>2</td>\n",
              "      <td>3</td>\n",
              "      <td>37</td>\n",
              "      <td>573</td>\n",
              "      <td>321.0</td>\n",
              "      <td>0</td>\n",
              "      <td>9</td>\n",
              "      <td>1</td>\n",
              "      <td>2012.0</td>\n",
              "      <td>5</td>\n",
              "      <td>8</td>\n",
              "      <td>1</td>\n",
              "      <td>0</td>\n",
              "      <td>3</td>\n",
              "      <td>1</td>\n",
              "      <td>3</td>\n",
              "      <td>2013</td>\n",
              "      <td>2</td>\n",
              "      <td>0</td>\n",
              "      <td>1</td>\n",
              "      <td>2</td>\n",
              "      <td>23</td>\n",
              "      <td>non functional</td>\n",
              "      <td>50785</td>\n",
              "    </tr>\n",
              "    <tr>\n",
              "      <th>1</th>\n",
              "      <td>30.0</td>\n",
              "      <td>20</td>\n",
              "      <td>1569.0</td>\n",
              "      <td>36.656709</td>\n",
              "      <td>-3.309214</td>\n",
              "      <td>2</td>\n",
              "      <td>16</td>\n",
              "      <td>2</td>\n",
              "      <td>26</td>\n",
              "      <td>367</td>\n",
              "      <td>300.0</td>\n",
              "      <td>0</td>\n",
              "      <td>0</td>\n",
              "      <td>1</td>\n",
              "      <td>2000.0</td>\n",
              "      <td>0</td>\n",
              "      <td>0</td>\n",
              "      <td>1</td>\n",
              "      <td>0</td>\n",
              "      <td>1</td>\n",
              "      <td>0</td>\n",
              "      <td>0</td>\n",
              "      <td>2013</td>\n",
              "      <td>2</td>\n",
              "      <td>0</td>\n",
              "      <td>1</td>\n",
              "      <td>2</td>\n",
              "      <td>13</td>\n",
              "      <td>functional</td>\n",
              "      <td>51630</td>\n",
              "    </tr>\n",
              "    <tr>\n",
              "      <th>2</th>\n",
              "      <td>50.0</td>\n",
              "      <td>25</td>\n",
              "      <td>1567.0</td>\n",
              "      <td>34.767863</td>\n",
              "      <td>-5.004344</td>\n",
              "      <td>4</td>\n",
              "      <td>18</td>\n",
              "      <td>2</td>\n",
              "      <td>32</td>\n",
              "      <td>647</td>\n",
              "      <td>500.0</td>\n",
              "      <td>0</td>\n",
              "      <td>0</td>\n",
              "      <td>2</td>\n",
              "      <td>2010.0</td>\n",
              "      <td>5</td>\n",
              "      <td>0</td>\n",
              "      <td>1</td>\n",
              "      <td>0</td>\n",
              "      <td>1</td>\n",
              "      <td>1</td>\n",
              "      <td>3</td>\n",
              "      <td>2013</td>\n",
              "      <td>2</td>\n",
              "      <td>4</td>\n",
              "      <td>1</td>\n",
              "      <td>2</td>\n",
              "      <td>1</td>\n",
              "      <td>functional</td>\n",
              "      <td>17168</td>\n",
              "    </tr>\n",
              "    <tr>\n",
              "      <th>3</th>\n",
              "      <td>50.0</td>\n",
              "      <td>144</td>\n",
              "      <td>267.0</td>\n",
              "      <td>38.058046</td>\n",
              "      <td>-9.418672</td>\n",
              "      <td>3</td>\n",
              "      <td>14</td>\n",
              "      <td>43</td>\n",
              "      <td>105</td>\n",
              "      <td>1795</td>\n",
              "      <td>250.0</td>\n",
              "      <td>1</td>\n",
              "      <td>0</td>\n",
              "      <td>1</td>\n",
              "      <td>1987.0</td>\n",
              "      <td>5</td>\n",
              "      <td>0</td>\n",
              "      <td>3</td>\n",
              "      <td>0</td>\n",
              "      <td>2</td>\n",
              "      <td>5</td>\n",
              "      <td>3</td>\n",
              "      <td>2013</td>\n",
              "      <td>1</td>\n",
              "      <td>1</td>\n",
              "      <td>1</td>\n",
              "      <td>4</td>\n",
              "      <td>8</td>\n",
              "      <td>non functional</td>\n",
              "      <td>45559</td>\n",
              "    </tr>\n",
              "    <tr>\n",
              "      <th>4</th>\n",
              "      <td>500.0</td>\n",
              "      <td>1037</td>\n",
              "      <td>1260.0</td>\n",
              "      <td>35.006123</td>\n",
              "      <td>-10.950412</td>\n",
              "      <td>3</td>\n",
              "      <td>9</td>\n",
              "      <td>3</td>\n",
              "      <td>97</td>\n",
              "      <td>653</td>\n",
              "      <td>60.0</td>\n",
              "      <td>1</td>\n",
              "      <td>5</td>\n",
              "      <td>1</td>\n",
              "      <td>2000.0</td>\n",
              "      <td>0</td>\n",
              "      <td>4</td>\n",
              "      <td>6</td>\n",
              "      <td>0</td>\n",
              "      <td>0</td>\n",
              "      <td>0</td>\n",
              "      <td>0</td>\n",
              "      <td>2013</td>\n",
              "      <td>3</td>\n",
              "      <td>2</td>\n",
              "      <td>1</td>\n",
              "      <td>4</td>\n",
              "      <td>13</td>\n",
              "      <td>functional</td>\n",
              "      <td>49871</td>\n",
              "    </tr>\n",
              "  </tbody>\n",
              "</table>\n",
              "</div>\n",
              "      <button class=\"colab-df-convert\" onclick=\"convertToInteractive('df-8db30890-32e7-45bc-b1a9-97a06fcee9b7')\"\n",
              "              title=\"Convert this dataframe to an interactive table.\"\n",
              "              style=\"display:none;\">\n",
              "        \n",
              "  <svg xmlns=\"http://www.w3.org/2000/svg\" height=\"24px\"viewBox=\"0 0 24 24\"\n",
              "       width=\"24px\">\n",
              "    <path d=\"M0 0h24v24H0V0z\" fill=\"none\"/>\n",
              "    <path d=\"M18.56 5.44l.94 2.06.94-2.06 2.06-.94-2.06-.94-.94-2.06-.94 2.06-2.06.94zm-11 1L8.5 8.5l.94-2.06 2.06-.94-2.06-.94L8.5 2.5l-.94 2.06-2.06.94zm10 10l.94 2.06.94-2.06 2.06-.94-2.06-.94-.94-2.06-.94 2.06-2.06.94z\"/><path d=\"M17.41 7.96l-1.37-1.37c-.4-.4-.92-.59-1.43-.59-.52 0-1.04.2-1.43.59L10.3 9.45l-7.72 7.72c-.78.78-.78 2.05 0 2.83L4 21.41c.39.39.9.59 1.41.59.51 0 1.02-.2 1.41-.59l7.78-7.78 2.81-2.81c.8-.78.8-2.07 0-2.86zM5.41 20L4 18.59l7.72-7.72 1.47 1.35L5.41 20z\"/>\n",
              "  </svg>\n",
              "      </button>\n",
              "      \n",
              "  <style>\n",
              "    .colab-df-container {\n",
              "      display:flex;\n",
              "      flex-wrap:wrap;\n",
              "      gap: 12px;\n",
              "    }\n",
              "\n",
              "    .colab-df-convert {\n",
              "      background-color: #E8F0FE;\n",
              "      border: none;\n",
              "      border-radius: 50%;\n",
              "      cursor: pointer;\n",
              "      display: none;\n",
              "      fill: #1967D2;\n",
              "      height: 32px;\n",
              "      padding: 0 0 0 0;\n",
              "      width: 32px;\n",
              "    }\n",
              "\n",
              "    .colab-df-convert:hover {\n",
              "      background-color: #E2EBFA;\n",
              "      box-shadow: 0px 1px 2px rgba(60, 64, 67, 0.3), 0px 1px 3px 1px rgba(60, 64, 67, 0.15);\n",
              "      fill: #174EA6;\n",
              "    }\n",
              "\n",
              "    [theme=dark] .colab-df-convert {\n",
              "      background-color: #3B4455;\n",
              "      fill: #D2E3FC;\n",
              "    }\n",
              "\n",
              "    [theme=dark] .colab-df-convert:hover {\n",
              "      background-color: #434B5C;\n",
              "      box-shadow: 0px 1px 3px 1px rgba(0, 0, 0, 0.15);\n",
              "      filter: drop-shadow(0px 1px 2px rgba(0, 0, 0, 0.3));\n",
              "      fill: #FFFFFF;\n",
              "    }\n",
              "  </style>\n",
              "\n",
              "      <script>\n",
              "        const buttonEl =\n",
              "          document.querySelector('#df-8db30890-32e7-45bc-b1a9-97a06fcee9b7 button.colab-df-convert');\n",
              "        buttonEl.style.display =\n",
              "          google.colab.kernel.accessAllowed ? 'block' : 'none';\n",
              "\n",
              "        async function convertToInteractive(key) {\n",
              "          const element = document.querySelector('#df-8db30890-32e7-45bc-b1a9-97a06fcee9b7');\n",
              "          const dataTable =\n",
              "            await google.colab.kernel.invokeFunction('convertToInteractive',\n",
              "                                                     [key], {});\n",
              "          if (!dataTable) return;\n",
              "\n",
              "          const docLinkHtml = 'Like what you see? Visit the ' +\n",
              "            '<a target=\"_blank\" href=https://colab.research.google.com/notebooks/data_table.ipynb>data table notebook</a>'\n",
              "            + ' to learn more about interactive tables.';\n",
              "          element.innerHTML = '';\n",
              "          dataTable['output_type'] = 'display_data';\n",
              "          await google.colab.output.renderOutput(dataTable, element);\n",
              "          const docLink = document.createElement('div');\n",
              "          docLink.innerHTML = docLinkHtml;\n",
              "          element.appendChild(docLink);\n",
              "        }\n",
              "      </script>\n",
              "    </div>\n",
              "  </div>\n",
              "  "
            ]
          },
          "metadata": {},
          "execution_count": 1042
        }
      ]
    },
    {
      "cell_type": "code",
      "source": [
        "from google.colab import drive\n",
        "drive.mount('drive', force_remount=True)\n",
        "test_RFoutput[[ 'id','status_group']].to_csv('/content/drive/My Drive/Colab Notebooks/RFoutput.csv', encoding='utf-8', index=False, header=True)"
      ],
      "metadata": {
        "id": "CloOC4oYsh1d"
      },
      "execution_count": null,
      "outputs": []
    },
    {
      "cell_type": "markdown",
      "metadata": {
        "id": "K3SDl1S_g5xZ"
      },
      "source": [
        "##4.0- LightGBM\n",
        "https://techfor-today.com/lightgbm-using-python-hyperparameter-tuning-of-lightgbm/ "
      ]
    },
    {
      "cell_type": "markdown",
      "metadata": {
        "id": "j8DkP5W3n1eq"
      },
      "source": [
        "boosting_type='gbdt', num_leaves=31, max_depth=-1, learning_rate=0.1, n_estimators=100, subsample_for_bin=200000, objective=None, class_weight=None, min_split_gain=0.0, min_child_weight=0.001, min_child_samples=20, subsample=1.0, subsample_freq=0, colsample_bytree=1.0, reg_alpha=0.0, reg_lambda=0.0, random_state=None, n_jobs=-1, silent=True, importance_type='split', **kwargs"
      ]
    },
    {
      "cell_type": "code",
      "execution_count": 1043,
      "metadata": {
        "id": "jphkCB5uhCGF"
      },
      "outputs": [],
      "source": [
        "# importing the lightgbm module\n",
        "import lightgbm as lgb\n",
        "# initializing the model\n",
        "LightGBM_Clf = lgb.LGBMClassifier(\n",
        "    boosting_type='gbdt',\n",
        "    num_leaves = 50,\n",
        "    max_depth=-1,\n",
        "    learning_rate = 0.2,\n",
        "    n_estimators=1000,\n",
        "    subsample_for_bin=200000,\n",
        "    objective=None,\n",
        "    class_weight= None, \n",
        "    min_split_gain=0.0, \n",
        "    min_child_weight=0.001, \n",
        "    min_child_samples=20, \n",
        "    subsample=1.0, \n",
        "    subsample_freq=0, \n",
        "    colsample_bytree=1.0, \n",
        "    reg_alpha=0.0, \n",
        "    reg_lambda=0.0, \n",
        "    random_state=17, \n",
        "    n_jobs=-1, \n",
        "    silent=True, \n",
        "    importance_type='split',\n",
        "    verbosity = 1,\n",
        "    \n",
        ")\n",
        "\n"
      ]
    },
    {
      "cell_type": "code",
      "source": [
        "y_pred_oos = cross_val_predict(LightGBM_Clf, x_train, y_train, cv=stratifiedkf)\n",
        "LightGBM_Clf.fit(x_train, y_train)\n",
        "accuracy = metrics.accuracy_score(y_train, y_pred_oos)\n",
        "print(f'Accuracy: {accuracy}')"
      ],
      "metadata": {
        "id": "0mv9IXYd7RO5"
      },
      "execution_count": null,
      "outputs": []
    },
    {
      "cell_type": "code",
      "source": [
        "print(classification_report(y_train, y_pred_oos))\n",
        "\n",
        "# Plot confusion matrix\n",
        "fig, ax = plt.subplots(figsize=(8, 5))\n",
        "cmp = ConfusionMatrixDisplay(\n",
        "    confusion_matrix(y_train, y_pred_oos),\n",
        "    display_labels=[\"functional\", \"non_functional\", \"func_needs_repair\"],\n",
        ")\n",
        "\n",
        "cmp.plot(ax=ax)\n",
        "plt.show();"
      ],
      "metadata": {
        "id": "zx7bouJa89hv"
      },
      "execution_count": null,
      "outputs": []
    },
    {
      "cell_type": "code",
      "execution_count": null,
      "metadata": {
        "id": "oX_ANuP3hIIV"
      },
      "outputs": [],
      "source": [
        "# making prediction \n",
        "LightGBM_pred = LightGBM_Clf.predict(x_valid)"
      ]
    },
    {
      "cell_type": "code",
      "execution_count": null,
      "metadata": {
        "id": "TlHvC-_9itjC"
      },
      "outputs": [],
      "source": [
        "print(classification_report(y_valid, LightGBM_pred))\n",
        "\n",
        "# Plot confusion matrix\n",
        "fig, ax = plt.subplots(figsize=(8, 5))\n",
        "cmp = ConfusionMatrixDisplay(\n",
        "    confusion_matrix(y_valid, LightGBM_pred),\n",
        "    display_labels=[\"functional\", \"non_functional\", \"func_needs_repair\"],\n",
        ")\n",
        "\n",
        "cmp.plot(ax=ax)\n",
        "plt.show();"
      ]
    },
    {
      "cell_type": "code",
      "execution_count": null,
      "metadata": {
        "id": "RG1T8BCoi2Wp"
      },
      "outputs": [],
      "source": [
        "LightGBM_feature_scores = pd.Series(LightGBM_Clf.feature_importances_, index=x_train.columns).sort_values(ascending=False)\n",
        "\n",
        "# feature_scores"
      ]
    },
    {
      "cell_type": "code",
      "execution_count": null,
      "metadata": {
        "id": "PRMU947gi43X"
      },
      "outputs": [],
      "source": [
        "# Creating a seaborn bar plot\n",
        "\n",
        "f, ax = plt.subplots(figsize=(30, 24))\n",
        "ax = sns.barplot(x=LightGBM_feature_scores, y=LightGBM_feature_scores.index)\n",
        "ax.set_title(\"Visualize feature scores of the features\")\n",
        "ax.set_yticklabels(LightGBM_feature_scores.index)\n",
        "ax.set_xlabel(\"Feature importance score\")\n",
        "ax.set_ylabel(\"Features\")\n",
        "plt.show()"
      ]
    },
    {
      "cell_type": "markdown",
      "metadata": {
        "id": "6TJLCGIRhdvw"
      },
      "source": [
        "###4.0.1- Hyperparameter tuning of LightGBM"
      ]
    },
    {
      "cell_type": "code",
      "execution_count": null,
      "metadata": {
        "id": "aBsqAtFHhpOB"
      },
      "outputs": [],
      "source": [
        "# function for the validation of model\n",
        "def evaluate_model(model, Input, Ouput):\n",
        "    \n",
        "    # defining the method of validation\n",
        "    cv = RepeatedStratifiedKFold(n_splits=5, n_repeats=1)\n",
        "    \n",
        "    \n",
        "    # validating the model based on the accurasy score\n",
        "    r_square = cross_val_score(model, Input, Ouput, scoring='r2', cv=cv, n_jobs=-1)\n",
        "    \n",
        "#     returning the accuracy score\n",
        "    return r_square"
      ]
    },
    {
      "cell_type": "markdown",
      "metadata": {
        "id": "5gmPqM53hrlw"
      },
      "source": [
        "Finding the optimum number of iterations in LightGBM"
      ]
    },
    {
      "cell_type": "code",
      "execution_count": null,
      "metadata": {
        "id": "SahE73WGht9t"
      },
      "outputs": [],
      "source": [
        "# fuction to create models\n",
        "def build_models():\n",
        "    \n",
        "#     dic of models\n",
        "    models = dict()\n",
        "    \n",
        "    # number of decision stumps\n",
        "    decision_stump= [10, 50, 100, 500, 1000]\n",
        "        \n",
        "#    using for loop to iterate though trees\n",
        "    for i in decision_stump:\n",
        "        \n",
        "#         building model with specified trees\n",
        "        models[str(i)] = lgb.LGBMRegressor(n_estimators=i)\n",
        "    \n",
        "#     returning the model\n",
        "    return models"
      ]
    },
    {
      "cell_type": "code",
      "execution_count": null,
      "metadata": {
        "id": "tjNiEzduhyUy"
      },
      "outputs": [],
      "source": [
        "# calling the build_models function\n",
        "models = build_models()\n",
        "# creating list\n",
        "results, names = list(), list()\n",
        "# using for loop to iterate thoug the models\n",
        "for name, model in models.items():\n",
        "    \n",
        "    # calling the validation function\n",
        "    R_square = evaluate_model(model, x_train, y_train)\n",
        "    \n",
        "    \n",
        "    # appending the accuray socres in results\n",
        "    results.append(R_square)\n",
        "    names.append(name)\n",
        "    \n",
        "    \n",
        "    # printing the accuracy score\n",
        "    print('Iterations (%s)---R-square( %.5f)' % (name, np.mean(R_square)))"
      ]
    },
    {
      "cell_type": "code",
      "execution_count": null,
      "metadata": {
        "id": "o8xA84lEh9Py"
      },
      "outputs": [],
      "source": [
        "# plotting box plot of the \n",
        "plt.boxplot(results, labels=names,showmeans=True)\n",
        "# showing the plot\n",
        "plt.show()"
      ]
    },
    {
      "cell_type": "markdown",
      "metadata": {
        "id": "k-1Dv_sRh3EZ"
      },
      "source": [
        "Finding the optimum number of Features in LightGBM"
      ]
    },
    {
      "cell_type": "code",
      "execution_count": null,
      "metadata": {
        "id": "Yi_NTZNXh2jX"
      },
      "outputs": [],
      "source": [
        "# creating the function \n",
        "def build_models():\n",
        "    \n",
        "#     creating dic of models\n",
        "    models = dict()\n",
        "    \n",
        "    # explore features numbers from 1-5\n",
        "    for i in range(1,6):\n",
        "        \n",
        "#         appending the models\n",
        "        models[str(i)] = lgb.LGBMRegressor(max_features=i)\n",
        "    \n",
        "#     returining the models\n",
        "    return models"
      ]
    },
    {
      "cell_type": "code",
      "execution_count": null,
      "metadata": {
        "id": "m4G5m42Ah6t5"
      },
      "outputs": [],
      "source": [
        "# calling the function\n",
        "models = build_models()\n",
        "# creating the list\n",
        "results, names = list(), list()\n",
        "# for loop to iterate through the models\n",
        "for name, model in models.items():\n",
        "    \n",
        "    \n",
        "    # calling the evaluting function\n",
        "    R_square = evaluate_model(model, Input, Output)\n",
        "    \n",
        "#     storing the accurcy\n",
        "    results.append(R_square)\n",
        "    names.append(name)\n",
        "    \n",
        "#     printing\n",
        "    print('---->Features(%s)---R_square( %.5f)' % (name, mean(R_square)))"
      ]
    },
    {
      "cell_type": "code",
      "execution_count": null,
      "metadata": {
        "id": "s9TsnQnah8YZ"
      },
      "outputs": [],
      "source": [
        "# plotting box plot of the \n",
        "plt.boxplot(results, labels=names,showmeans=True)\n",
        "# showing the plot\n",
        "plt.show()"
      ]
    },
    {
      "cell_type": "markdown",
      "metadata": {
        "id": "GFJOsUEeiADh"
      },
      "source": [
        "Finding the optimum sample size in LightGBM"
      ]
    },
    {
      "cell_type": "code",
      "execution_count": null,
      "metadata": {
        "id": "Jyp4ChxNiBwP"
      },
      "outputs": [],
      "source": [
        "# creating the function\n",
        "def build_models():\n",
        "    \n",
        "#     dic of models\n",
        "    models = dict()\n",
        "    \n",
        "#     exploring different sample values\n",
        "    for i in arange(0.1, 1.1, 0.1):\n",
        "        \n",
        "#         key value\n",
        "        k = '%.1f' % i\n",
        "    \n",
        "#     appending the model\n",
        "        models[k] = lgb.LGBMRegressor(subsample=i)\n",
        "    return models"
      ]
    },
    {
      "cell_type": "code",
      "execution_count": null,
      "metadata": {
        "id": "66QWnSFHiBym"
      },
      "outputs": [],
      "source": [
        "# calling the function\n",
        "models = build_models()\n",
        "# creating the list\n",
        "results, names = list(), list()\n",
        "# for loop to iterate through the models\n",
        "for name, model in models.items():\n",
        "    \n",
        "    \n",
        "    # calling the evaluting function\n",
        "    R_square = evaluate_model(model, Input, Output)\n",
        "    \n",
        "#     storing the accurcy\n",
        "    results.append(R_square)\n",
        "    names.append(name)\n",
        "    \n",
        "#     printing\n",
        "    print('Samples(%s)---R_square( %.5f)' % (name, mean(R_square)))"
      ]
    },
    {
      "cell_type": "code",
      "execution_count": null,
      "metadata": {
        "id": "RR0uV4iViFAc"
      },
      "outputs": [],
      "source": [
        "# plotting box plot of the \n",
        "plt.boxplot(results, labels=names,showmeans=True)\n",
        "# showing the plot\n",
        "plt.show()"
      ]
    },
    {
      "cell_type": "markdown",
      "metadata": {
        "id": "6unjbjrYiGkz"
      },
      "source": [
        "Finding the optimum learning rate in LightGBM"
      ]
    },
    {
      "cell_type": "code",
      "execution_count": null,
      "metadata": {
        "id": "MsGBAFajiIVk"
      },
      "outputs": [],
      "source": [
        "# creating function\n",
        "def build_models():\n",
        "    \n",
        "#     creating dic of models\n",
        "    models = dict()\n",
        "    \n",
        "#     different learning rates\n",
        "    for i in [0.0001, 0.001, 0.01, 0.1, 1.0]:\n",
        "        \n",
        "#         key value\n",
        "        k = '%.4f' % i\n",
        "    \n",
        "#     appending the models\n",
        "        models[k] = lgb.LGBMRegressor(learning_rate=i)\n",
        "    return models"
      ]
    },
    {
      "cell_type": "code",
      "execution_count": null,
      "metadata": {
        "id": "CxhZPDdYiIX8"
      },
      "outputs": [],
      "source": [
        "# calling the function\n",
        "models = build_models()\n",
        "# creating the list\n",
        "results, names = list(), list()\n",
        "# for loop to iterate through the models\n",
        "for name, model in models.items():\n",
        "    \n",
        "    \n",
        "    # calling the evaluting function\n",
        "    R_square = evaluate_model(model, Input, Output)\n",
        "    \n",
        "#     storing the accurcy\n",
        "    results.append(R_square)\n",
        "    names.append(name)\n",
        "    \n",
        "#     printing\n",
        "    print('Learning Rate(%s)---R Square( %.5f)' % (name, mean(R_square)))"
      ]
    },
    {
      "cell_type": "code",
      "execution_count": null,
      "metadata": {
        "id": "PC8Iy2IKiMPp"
      },
      "outputs": [],
      "source": [
        "# plotting box plot of the \n",
        "plt.boxplot(results, labels=names,showmeans=True)\n",
        "# showing the plot\n",
        "plt.show()"
      ]
    },
    {
      "cell_type": "markdown",
      "metadata": {
        "id": "i2NPL05FiO-s"
      },
      "source": [
        "Finding the optimum depth of tree in LightGBM"
      ]
    },
    {
      "cell_type": "code",
      "execution_count": null,
      "metadata": {
        "id": "O3q-6iE5iMRy"
      },
      "outputs": [],
      "source": [
        "# building function for the model\n",
        "def build_models():\n",
        "    \n",
        "#     creating dic of models\n",
        "    models = dict()\n",
        "    \n",
        "#     specifying the depth of trees\n",
        "    for i in range(1,12):\n",
        "        \n",
        "#         appending the models\n",
        "        models[str(i)] = lgb.LGBMRegressor(max_depth=i)\n",
        "        \n",
        "#   returining the model\n",
        "    return models"
      ]
    },
    {
      "cell_type": "code",
      "execution_count": null,
      "metadata": {
        "id": "P32vmt0viRuu"
      },
      "outputs": [],
      "source": [
        "# calling the function\n",
        "models = build_models()\n",
        "# creating lists \n",
        "results, names = list(), list()\n",
        "# iterating through the models\n",
        "for name, model in models.items():\n",
        "    \n",
        "    # calling the evalution function\n",
        "    R_square = evaluate_model(model, Input, Output)\n",
        "    \n",
        "    # appending the results\n",
        "    results.append(R_square)\n",
        "    names.append(name)\n",
        "    \n",
        "#     printing the results\n",
        "    print('Decision tree depth (%s)---R_square( %.5f)' % (name, mean(R_square)))"
      ]
    },
    {
      "cell_type": "code",
      "execution_count": null,
      "metadata": {
        "id": "ZS-kQvg4iTsk"
      },
      "outputs": [],
      "source": [
        "# plotting box plot of the \n",
        "plt.boxplot(results, labels=names,showmeans=True)\n",
        "# showing the plot\n",
        "plt.show()"
      ]
    },
    {
      "cell_type": "markdown",
      "metadata": {
        "id": "Dvh1_pfJmnHQ"
      },
      "source": [
        "##4.4- eXtreme Gradient boosting\n",
        "Main features:\n",
        "* 1- Cross-validation at each iteration: Cross-validation is a process in which the model is tested using different portions of the dataset in each iteration. The XGBoost algorithm has an internal parameter for the cross-validation and it tests each of the weak learners using the cross-validation method.\n",
        "* 2- Parallel process: XGBoost uses OpenMP for parallel processing. But unlike random forests which create trees in parallel, the XGBoost creates individual trees using a parallel process.\n",
        "* 3- Regularization: In Machines, learning regularization is a technique that is commonly used to reduce the risk of overfitting. Overfitting is when the models learn too many specific patterns about the training dataset and fail to generalize on the testing dataset. So, the XGBoost uses different regularization techniques in order to make sure that the model is not overfitted and that the findings can be generalized to the testing dataset.\n",
        "* 4- Missing values: One of the essential features of the XGBoost algorithm is that it can handle the missing values automatically. That means we don’t need to handle missing values in the preprocessing step.\n",
        "* 5- Tree pruning: Tree pruning is the process of removing the nodes from the trees that do not contribute to the classification.\n",
        "\n",
        "https://techfor-today.com/hyperparameter-tuning-of-xgboost-algorithm/#Finding_the_optimum_number_of_features_using_Hyperparameter_tuning_of_XGBoost\n",
        "\n",
        "https://www.analyticsvidhya.com/blog/2016/03/complete-guide-parameter-tuning-xgboost-with-codes-python/"
      ]
    },
    {
      "cell_type": "markdown",
      "metadata": {
        "id": "NEILHXIzn-Ki"
      },
      "source": [
        "###4.3.1- Hyper Parameter Tuning for eXtreme Gradient Boosting - sequential Approach\n",
        "1- Choose a relatively high learning rate. Generally a learning rate of 0.1 works but somewhere between 0.05 to 0.3 should work for different problems. Determine the optimum number of trees for this learning rate. XGBoost has a very useful function called as “cv” which performs cross-validation at each boosting iteration and thus returns the optimum number of trees required.\n",
        "\n",
        "2- Tune tree-specific parameters ( max_depth, min_child_weight, gamma, subsample, colsample_bytree) for decided learning rate and number of trees. Note that we can choose different parameters to define a tree and I’ll take up an example here.\n",
        "\n",
        "3- Tune regularization parameters (lambda, alpha) for xgboost which can help reduce model complexity and enhance performance.\n",
        "\n",
        "4- Lower the learning rate and decide the optimal parameters.\n",
        "\n",
        "https://kevinvecmanis.io/machine%20learning/hyperparameter%20tuning/dataviz/python/2019/05/11/XGBoost-Tuning-Visual-Guide.html\n",
        "\n",
        "https://www.kaggle.com/code/prashant111/a-guide-on-xgboost-hyperparameters-tuning/notebook"
      ]
    },
    {
      "cell_type": "markdown",
      "metadata": {
        "id": "Vw3rnxRjoMc9"
      },
      "source": [
        "####4.3.1.1- Finding the optimum number of iterations, number of stumps"
      ]
    },
    {
      "cell_type": "code",
      "execution_count": null,
      "metadata": {
        "id": "ReTTL_iKoTfN"
      },
      "outputs": [],
      "source": [
        "# fuction to create models\n",
        "def build_models():\n",
        "    \n",
        "#     dic of models\n",
        "    models = dict()\n",
        "    \n",
        "    # number of decision stumps\n",
        "    decision_stump= [100, 150, 200, 300, 400, 500, 600, 700]\n",
        "        \n",
        "#    using for loop to iterate though trees\n",
        "    for i in decision_stump:\n",
        "        \n",
        "#         building model with specified trees\n",
        "        # models[str(i)] = XGBClassifier(n_estimators=i)\n",
        "\n",
        "        models[str(i)] = XGBClassifier(max_depth = 8, # the larger the more prone to overfit, range 3-10\n",
        "                            learning_rate = 0.1, # range [0,1], typically=0.01-0.2\n",
        "                            n_estimators = i,#>>>>>>>>>>>>>>>>>>>>>>>>>>>>>>>>>>>>>>>>>>>>>> Iterating Through\n",
        "                            verbosity = 2,\n",
        "                            objective = \"multi:softmax\",\n",
        "                            booster = \"gbtree\", # gblinear or dart\n",
        "                            n_jobs = 1,\n",
        "                            gamma = 0, \n",
        "                            # Minimum loss reduction required to split. range=[0,inf],\n",
        "                            # The larger gamma is, the more conservative the algorithm will be.\n",
        "                            min_child_weight = 0, # used to restrict overfitting\n",
        "                            max_delta_step = 0,\n",
        "                            subsample = 0.3,\n",
        "                            colsample_bytree = 0.5,\n",
        "                            colsample_bylevel = 0.5,\n",
        "                            colsample_bynode = 0.5,\n",
        "                            reg_alpha = 0,\n",
        "                            reg_lambda = 1,\n",
        "                            scale_pos_weight = 0.5, #[default=1]\n",
        "                            random_state = 17,\n",
        "                            \n",
        ") \n",
        "#     returning the model\n",
        "    return models"
      ]
    },
    {
      "cell_type": "code",
      "execution_count": null,
      "metadata": {
        "id": "p9s1cJ1AxxTp"
      },
      "outputs": [],
      "source": [
        "# function for the validation of model\n",
        "def evaluate_model(model, Input, Ouput):\n",
        "    \n",
        "    # defining the method of validation\n",
        "    cv = RepeatedStratifiedKFold(n_splits=3, n_repeats=1, random_state=17)\n",
        "    # validating the model based on the accurasy score\n",
        "    accuracy = cross_val_score(model, Input, Ouput, scoring='accuracy', cv=cv, n_jobs=-1)  \n",
        "    # returning the accuracy score\n",
        "    return accuracy"
      ]
    },
    {
      "cell_type": "code",
      "execution_count": null,
      "metadata": {
        "id": "xzyrvuhIoYsX"
      },
      "outputs": [],
      "source": [
        "# calling the build_models function\n",
        "models = {}\n",
        "models = build_models()\n",
        "# creating list\n",
        "results, names = list(), list()\n",
        "# using for loop to iterate thoug the models\n",
        "for name, model in models.items():\n",
        "    \n",
        "    # calling the validation function\n",
        "    accuracy = evaluate_model(model, x_train, y_train)\n",
        "\n",
        "    # appending the accuray socres in results\n",
        "    results.append(accuracy)\n",
        "    names.append(name)\n",
        "\n",
        "    # printing -Hyperparameter tuning of XGBoost\n",
        "    print('---->Iterations (%s)---Accuracy( %.5f)' % (name, np.mean(accuracy)))"
      ]
    },
    {
      "cell_type": "code",
      "execution_count": null,
      "metadata": {
        "id": "UCt8lJLCohI9"
      },
      "outputs": [],
      "source": [
        "# plotting box plot of the \n",
        "plt.boxplot(results, labels=names,showmeans=True)\n",
        "# showing the plot\n",
        "plt.show()"
      ]
    },
    {
      "cell_type": "markdown",
      "metadata": {
        "id": "-hZ0tGJNo310"
      },
      "source": [
        "####4.3.1.3- Finding the optimum sample size"
      ]
    },
    {
      "cell_type": "code",
      "execution_count": null,
      "metadata": {
        "id": "JWRyYIUko8rh"
      },
      "outputs": [],
      "source": [
        "# creating the function\n",
        "def build_models():\n",
        "    \n",
        "#     dic of models\n",
        "    models = dict()\n",
        "    \n",
        "#     exploring different sample values\n",
        "    for i in np.arange(0.1, 1.1, 0.1):\n",
        "        \n",
        "#         key value\n",
        "        k = '%.1f' % i\n",
        "    \n",
        "#     appending the model\n",
        "        models[k] = XGBClassifier(max_depth = 8, # the larger the more prone to overfit, range 3-10\n",
        "                            learning_rate = 0.1, # range [0,1], typically=0.01-0.2\n",
        "                            n_estimators = 600,\n",
        "                            verbosity = 2,\n",
        "                            objective = \"multi:softmax\",\n",
        "                            booster = \"gbtree\", # gblinear or dart\n",
        "                            n_jobs = 1,\n",
        "                            gamma = 0, \n",
        "                            # Minimum loss reduction required to split. range=[0,inf],\n",
        "                            # The larger gamma is, the more conservative the algorithm will be.\n",
        "                            min_child_weight = 0, # used to restrict overfitting\n",
        "                            max_delta_step = 0,\n",
        "                            subsample = i, #>>>>>>>>>>>>>>>>>>>>>>>>>>>>>>>>>>>>>>>>>>>>>> Iterating Through\n",
        "                            colsample_bytree = 0.5,\n",
        "                            colsample_bylevel = 0.5,\n",
        "                            colsample_bynode = 0.5,\n",
        "                            reg_alpha = 0,\n",
        "                            reg_lambda = 1,\n",
        "                            scale_pos_weight = 0.5, #[default=1]\n",
        "                            random_state = 17,\n",
        "        )\n",
        "    return models"
      ]
    },
    {
      "cell_type": "code",
      "execution_count": null,
      "metadata": {
        "id": "vVEq1g0_pAFH"
      },
      "outputs": [],
      "source": [
        "# calling the function\n",
        "models = {}\n",
        "models = build_models()\n",
        "# creating the list\n",
        "results, names = list(), list()\n",
        "# for loop to iterate through the models\n",
        "for name, model in models.items():\n",
        "\n",
        "    # calling the evaluting function\n",
        "    accuracy = evaluate_model(model, x_train, y_train)\n",
        "    \n",
        "#     storing the accurcy\n",
        "    results.append(accuracy)\n",
        "    names.append(name)\n",
        "    \n",
        "#     printing - Hyperparameter tuning of XGBoost\n",
        "    print('Samples(%s)---Accuracy( %.5f)' % (name, np.mean(accuracy)))"
      ]
    },
    {
      "cell_type": "code",
      "execution_count": null,
      "metadata": {
        "id": "UqAUk5pDpD-W"
      },
      "outputs": [],
      "source": [
        "# plotting box plot of the \n",
        "plt.boxplot(results, labels=names,showmeans=True)\n",
        "# showing the plot\n",
        "plt.show()"
      ]
    },
    {
      "cell_type": "markdown",
      "metadata": {
        "id": "nzL2wLzupIdV"
      },
      "source": [
        "####4.3.1.4- Finding optimum learning rate "
      ]
    },
    {
      "cell_type": "code",
      "execution_count": null,
      "metadata": {
        "id": "gO4vfOIJpK57"
      },
      "outputs": [],
      "source": [
        "# creating function\n",
        "def build_models():\n",
        "    \n",
        "#     creating dic of models\n",
        "    models = dict()\n",
        "    \n",
        "#     different learning rates\n",
        "    for i in [0.1, 0.15, 0.2, 0.25, 0.3, 0.35, 0.4, 0.45, 0.5]:\n",
        "        \n",
        "#         key value\n",
        "        k = '%.4f' % i\n",
        "    \n",
        "#     appending the models\n",
        "        models[k] = XGBClassifier(max_depth = 8, # the larger the more prone to overfit, range 3-10\n",
        "                            learning_rate = i, # range [0,1], typically=0.01-0.2 >>>>>>>>>>>>>>>>>>>>>>>>>>>>>>>>>>> Iterating Through\n",
        "                            n_estimators = 600,\n",
        "                            verbosity = 2,\n",
        "                            objective = \"multi:softmax\",\n",
        "                            booster = \"gbtree\", # gblinear or dart\n",
        "                            n_jobs = 1,\n",
        "                            gamma = 0, \n",
        "                            # Minimum loss reduction required to split. range=[0,inf],\n",
        "                            # The larger gamma is, the more conservative the algorithm will be.\n",
        "                            min_child_weight = 0, # used to restrict overfitting\n",
        "                            max_delta_step = 0,\n",
        "                            subsample = 0.6, \n",
        "                            colsample_bytree = 0.5,\n",
        "                            colsample_bylevel = 0.5,\n",
        "                            colsample_bynode = 0.5,\n",
        "                            reg_alpha = 0,\n",
        "                            reg_lambda = 1,\n",
        "                            scale_pos_weight = 0.5, #[default=1]\n",
        "                            random_state = 17,\n",
        "        )\n",
        "    return models"
      ]
    },
    {
      "cell_type": "code",
      "execution_count": null,
      "metadata": {
        "id": "zmpfcrzQpPb4"
      },
      "outputs": [],
      "source": [
        "# calling the function\n",
        "models ={}\n",
        "models = build_models()\n",
        "# creating the list\n",
        "results, names = list(), list()\n",
        "# for loop to iterate through the models\n",
        "for name, model in models.items():\n",
        "    \n",
        "    \n",
        "    # calling the evaluting function\n",
        "    accuracy = evaluate_model(model, x_train, y_train)\n",
        "    \n",
        "#     storing the accurcy\n",
        "    results.append(accuracy)\n",
        "    names.append(name)\n",
        "    \n",
        "#     printing - Hyperparameter tuning of XGBoost\n",
        "    print('Learning Rate(%s)---Accuracy( %.5f)' % (name, np.mean(accuracy)))"
      ]
    },
    {
      "cell_type": "code",
      "execution_count": null,
      "metadata": {
        "id": "zpJFM6jnpYwa"
      },
      "outputs": [],
      "source": [
        "# plotting box plot of the \n",
        "plt.boxplot(results, labels=names,showmeans=True)\n",
        "\n",
        "# showing the plot\n",
        "plt.show()"
      ]
    },
    {
      "cell_type": "markdown",
      "metadata": {
        "id": "1T1_tIFYpa1b"
      },
      "source": [
        "####4.3.1.5- Finding the optimum depth "
      ]
    },
    {
      "cell_type": "code",
      "execution_count": null,
      "metadata": {
        "id": "81OIpRsQpdzA"
      },
      "outputs": [],
      "source": [
        "# building function for the model\n",
        "def build_models():\n",
        "    \n",
        "#     creating dic of models\n",
        "    models = dict()\n",
        "    \n",
        "#     specifying the depth of trees\n",
        "    for i in range(1,13):\n",
        "        \n",
        "#         appending the models\n",
        "        models[str(i)] = XGBClassifier(max_depth = i, # the larger the more prone to overfit, range 3-10 >>>>>>>>>>>>>>>>>>>>>>>>>>>>>>>>>>> Iterating Through\n",
        "                            learning_rate = 0.1, # range [0,1], typically=0.01-0.2 \n",
        "                            n_estimators = 600,\n",
        "                            verbosity = 2,\n",
        "                            objective = \"multi:softmax\",\n",
        "                            booster = \"gbtree\", # gblinear or dart\n",
        "                            n_jobs = 1,\n",
        "                            gamma = 0, \n",
        "                            # Minimum loss reduction required to split. range=[0,inf],\n",
        "                            # The larger gamma is, the more conservative the algorithm will be.\n",
        "                            min_child_weight = 0, # used to restrict overfitting\n",
        "                            max_delta_step = 0,\n",
        "                            subsample = 0.6, \n",
        "                            colsample_bytree = 0.5,\n",
        "                            colsample_bylevel = 0.5,\n",
        "                            colsample_bynode = 0.5,\n",
        "                            reg_alpha = 0,\n",
        "                            reg_lambda = 1,\n",
        "                            scale_pos_weight = 0.5, #[default=1]\n",
        "                            random_state = 17,\n",
        "        )\n",
        "        \n",
        "#   returining the model\n",
        "    return models"
      ]
    },
    {
      "cell_type": "code",
      "execution_count": null,
      "metadata": {
        "id": "WKxpO3yKpftV"
      },
      "outputs": [],
      "source": [
        "# calling the function\n",
        "models = {}\n",
        "models = build_models()\n",
        "\n",
        "# creating lists \n",
        "results, names = list(), list()\n",
        "\n",
        "# iterating through the models\n",
        "for name, model in models.items():\n",
        "    \n",
        "    # calling the evalution function\n",
        "    accuracy = evaluate_model(model, x_train, y_train)\n",
        "    \n",
        "    # appending the results\n",
        "    results.append(accuracy)\n",
        "    names.append(name)\n",
        "    \n",
        "#     printing - Hyperparameter tuning of XGBoost\n",
        "    print('Decision tree depth (%s)---Accuracy( %.5f)' % (name, np.mean(accuracy)))"
      ]
    },
    {
      "cell_type": "code",
      "execution_count": null,
      "metadata": {
        "id": "WZZRp2k3plPb"
      },
      "outputs": [],
      "source": [
        "# plotting box plot of the \n",
        "plt.boxplot(results, labels=names,showmeans=True)\n",
        "\n",
        "# showing the plot\n",
        "plt.show()"
      ]
    },
    {
      "cell_type": "markdown",
      "metadata": {
        "id": "QPyC2xJ6alp-"
      },
      "source": [
        "####4.3.1.6- Finding the optimum colsample_bytree"
      ]
    },
    {
      "cell_type": "code",
      "execution_count": null,
      "metadata": {
        "id": "Up-hOKcxavDZ"
      },
      "outputs": [],
      "source": [
        "# building function for the model\n",
        "def build_models():\n",
        "    \n",
        "#     creating dic of models\n",
        "    models = dict()\n",
        "    \n",
        "#     specifying the depth of trees\n",
        "    for i in np.arange(0, 1.1, 0.1):\n",
        "        \n",
        "#         appending the models\n",
        "        models[str(i)] = XGBClassifier(max_depth = 7, # the larger the more prone to overfit, range 3-10 \n",
        "                            learning_rate = 0.1, # range [0,1], typically=0.01-0.2 \n",
        "                            n_estimators = 600,\n",
        "                            verbosity = 2,\n",
        "                            objective = \"multi:softmax\",\n",
        "                            booster = \"gbtree\", # gblinear or dart\n",
        "                            n_jobs = 1,\n",
        "                            gamma = 0, \n",
        "                            # Minimum loss reduction required to split. range=[0,inf],\n",
        "                            # The larger gamma is, the more conservative the algorithm will be.\n",
        "                            min_child_weight = 0, # used to restrict overfitting\n",
        "                            max_delta_step = 0,\n",
        "                            subsample = 0.6, \n",
        "                            colsample_bytree = i, #>>>>>>>>>>>>>>>>>>>>>>>>>>>>>>>>>>> Iterating Through\n",
        "                            colsample_bylevel = i,\n",
        "                            colsample_bynode = i,\n",
        "                            reg_alpha = 0,\n",
        "                            reg_lambda = 1,\n",
        "                            scale_pos_weight = 0.5, #[default=1]\n",
        "                            random_state = 17,\n",
        "        )\n",
        "        \n",
        "#   returining the model\n",
        "    return models"
      ]
    },
    {
      "cell_type": "code",
      "execution_count": null,
      "metadata": {
        "id": "FRRrCANmazaD"
      },
      "outputs": [],
      "source": [
        "# calling the function\n",
        "models = {}\n",
        "models = build_models()\n",
        "\n",
        "# creating lists \n",
        "results, names = list(), list()\n",
        "\n",
        "# iterating through the models\n",
        "for name, model in models.items():\n",
        "    \n",
        "    # calling the evalution function\n",
        "    accuracy = evaluate_model(model, x_train, y_train)\n",
        "    \n",
        "    # appending the results\n",
        "    results.append(accuracy)\n",
        "    names.append(name)\n",
        "    \n",
        "#     printing - Hyperparameter tuning of XGBoost\n",
        "    print('Portion of Features Selected - colsample_by (%s)---Accuracy( %.5f)' % (name, np.mean(accuracy)))"
      ]
    },
    {
      "cell_type": "code",
      "execution_count": null,
      "metadata": {
        "id": "FZJKQQO5kmtA"
      },
      "outputs": [],
      "source": [
        "# plotting box plot of the \n",
        "plt.boxplot(results, labels=names,showmeans=True)\n",
        "\n",
        "# showing the plot\n",
        "plt.show()"
      ]
    },
    {
      "cell_type": "markdown",
      "metadata": {
        "id": "bn5QSX7gmako"
      },
      "source": [
        "####4.3.1.7- Finding the optimum scale_pos_weight"
      ]
    },
    {
      "cell_type": "code",
      "execution_count": null,
      "metadata": {
        "id": "M0D3tz_WmkTX"
      },
      "outputs": [],
      "source": [
        "# building function for the model\n",
        "def build_models():\n",
        "    \n",
        "#     creating dic of models\n",
        "    models = dict()\n",
        "    \n",
        "#     specifying the depth of trees\n",
        "    for i in np.arange(0.1, 1.1, 0.1):\n",
        "        \n",
        "#         appending the models\n",
        "        models[str(i)] = XGBClassifier(max_depth = 7, # the larger the more prone to overfit, range 3-10 \n",
        "                            learning_rate = 0.1, # range [0,1], typically=0.01-0.2 \n",
        "                            n_estimators = 600,\n",
        "                            verbosity = 2,\n",
        "                            objective = \"multi:softmax\",\n",
        "                            booster = \"gbtree\", # gblinear or dart\n",
        "                            n_jobs = 1,\n",
        "                            gamma = 0, \n",
        "                            # Minimum loss reduction required to split. range=[0,inf],\n",
        "                            # The larger gamma is, the more conservative the algorithm will be.\n",
        "                            min_child_weight = 1, # used to restrict overfitting\n",
        "                            max_delta_step = 0,\n",
        "                            subsample = 0.6, \n",
        "                            colsample_bytree = 0.5, \n",
        "                            colsample_bylevel = 0.5,\n",
        "                            colsample_bynode = 0.5,\n",
        "                            reg_alpha = 0,\n",
        "                            reg_lambda = 1,\n",
        "                            scale_pos_weight = i, #[default=1] #>>>>>>>>>>>>>>>>>>>>>>>>>>>>>>>>>>> Iterating Through\n",
        "                            random_state = 17,\n",
        "        )\n",
        "        \n",
        "#   returining the model\n",
        "    return models"
      ]
    },
    {
      "cell_type": "code",
      "execution_count": null,
      "metadata": {
        "id": "kf7T9K_OmmMI"
      },
      "outputs": [],
      "source": [
        "# calling the function\n",
        "models = {}\n",
        "models = build_models()\n",
        "\n",
        "# creating lists \n",
        "results, names = list(), list()\n",
        "\n",
        "# iterating through the models\n",
        "for name, model in models.items():\n",
        "    \n",
        "    # calling the evalution function\n",
        "    accuracy = evaluate_model(model, x_train, y_train)\n",
        "    \n",
        "    # appending the results\n",
        "    results.append(accuracy)\n",
        "    names.append(name)\n",
        "    \n",
        "#     printing - Hyperparameter tuning of XGBoost\n",
        "    print('scale_pos_weight - colsample_by (%s)---Accuracy( %.5f)' % (name, np.mean(accuracy)))"
      ]
    },
    {
      "cell_type": "code",
      "execution_count": null,
      "metadata": {
        "id": "ufthZ7J3mpqv"
      },
      "outputs": [],
      "source": [
        "# plotting box plot of the \n",
        "plt.boxplot(results, labels=names,showmeans=True)\n",
        "\n",
        "# showing the plot\n",
        "plt.show()"
      ]
    },
    {
      "cell_type": "markdown",
      "metadata": {
        "id": "Kf5dH8oTprub"
      },
      "source": [
        "###4.3.2- RandomizedSearchCV for Hyperparameter tuning of XGBoost"
      ]
    },
    {
      "cell_type": "code",
      "execution_count": null,
      "metadata": {
        "id": "Zj0iUQ6oprQa"
      },
      "outputs": [],
      "source": [
        "# defiing the model\n",
        "model = XGBClassifier( \n",
        "                            verbosity = 2,\n",
        "                            objective = \"multi:softmax\",\n",
        "                            booster = \"gbtree\", # gblinear or dart\n",
        "                            n_jobs = 1,\n",
        "                            colsample_bytree = 0.5, \n",
        "                            colsample_bylevel = 0.5,\n",
        "                            colsample_bynode = 0.5,\n",
        "                            scale_pos_weight = 0.6, #[default=1] \n",
        "                            random_state = 17,)\n",
        "\n",
        "\n",
        "# creating a dict of grids\n",
        "grid = dict()\n",
        "\n",
        "# values for iteration\n",
        "grid['n_estimators'] = np.arange(400,900)\n",
        "\n",
        "# values for learning rate\n",
        "grid['learning_rate'] = [0.08, 0.09, 0.1]\n",
        "\n",
        "# values for the sample\n",
        "grid['subsample'] = np.arange(0.3, 0.81, 0.025)\n",
        "\n",
        "# values for teh depth of tree\n",
        "grid['max_depth'] = [4, 5, 6, 7, 8, 9, 10]"
      ]
    },
    {
      "cell_type": "code",
      "execution_count": null,
      "metadata": {
        "id": "TZjw22dNpxYJ"
      },
      "outputs": [],
      "source": [
        "# defining the cv\n",
        "# cv = RepeatedStratifiedKFold(n_splits=3, n_repeats=1)\n",
        "\n",
        "\n",
        "# applying the gridsearchcv method\n",
        "Rand_search = RandomizedSearchCV(estimator = model\n",
        "                                 , param_distributions=grid\n",
        "                                 , n_iter=10\n",
        "                                 , scoring='accuracy'\n",
        "                                 , n_jobs=-1\n",
        "                                 , cv = 2 # None, to use the default 5-fold cross validation, integer, to specify the number of folds in a (Stratified)KFold\n",
        "                                #  , verbose = 1\n",
        "                                 , random_state=17)\n",
        "\n",
        "# storing the values\n",
        "Rand_result = Rand_search.fit(x_train, y_train)\n",
        "\n",
        "\n",
        "# printing the best parameters - Hyperparameter tuning of XGBoost\n",
        "print(\"Accuracy score: %f using %s\" % (Rand_result.best_score_, Rand_result.best_params_))"
      ]
    },
    {
      "cell_type": "markdown",
      "metadata": {
        "id": "dnsd0Z1E0vhs"
      },
      "source": [
        "###4.3.3 Fitting the Optimum Model"
      ]
    },
    {
      "cell_type": "code",
      "execution_count": null,
      "metadata": {
        "id": "g3zvBkrM05B9"
      },
      "outputs": [],
      "source": [
        "xgboost_clf = XGBClassifier(max_depth = 8, # the larger the more prone to overfit, range 3-10\n",
        "                            learning_rate = 0.09, # range [0,1], typically=0.01-0.2\n",
        "                            n_estimators = 533,\n",
        "                            verbosity = 1,\n",
        "                            objective = \"multi:softmax\",\n",
        "                            booster = \"gbtree\", # gblinear or dart\n",
        "                            n_jobs = 1,\n",
        "                            gamma = 0, \n",
        "                            # Minimum loss reduction required to split. range=[0,inf],\n",
        "                            # The larger gamma is, the more conservative the algorithm will be.\n",
        "                            min_child_weight = 1, # used to restrict overfitting\n",
        "                            max_delta_step = 0,\n",
        "                            subsample = 0.75,\n",
        "                            colsample_bytree = 0.5,\n",
        "                            colsample_bylevel = 0.5,\n",
        "                            colsample_bynode = 0.5,\n",
        "                            reg_alpha = 0,\n",
        "                            reg_lambda = 1,\n",
        "                            scale_pos_weight = 0.5, #[default=1]\n",
        "                            random_state = 17,\n",
        "                            \n",
        ")"
      ]
    },
    {
      "cell_type": "code",
      "execution_count": null,
      "metadata": {
        "id": "fobdUKxH1SHE"
      },
      "outputs": [],
      "source": [
        "y_pred_oos = cross_val_predict(xgboost_clf, x_train, y_train, cv=stratifiedkf)\n",
        "xgboost_clf.fit(x_train, y_train)\n",
        "accuracy = metrics.accuracy_score(y_train, y_pred_oos)\n",
        "print(f'Accuracy: {accuracy}')"
      ]
    },
    {
      "cell_type": "code",
      "source": [
        "print(classification_report(y_train, y_pred_oos))\n",
        "\n",
        "# Plot confusion matrix\n",
        "fig, ax = plt.subplots(figsize=(8, 5))\n",
        "cmp = ConfusionMatrixDisplay(\n",
        "    confusion_matrix(y_train, y_pred_oos),\n",
        "    display_labels=[\"functional\", \"non_functional\", \"func_needs_repair\"],\n",
        ")\n",
        "\n",
        "cmp.plot(ax=ax)\n",
        "plt.show();"
      ],
      "metadata": {
        "id": "_Nrgz1KQBVwS"
      },
      "execution_count": null,
      "outputs": []
    },
    {
      "cell_type": "code",
      "execution_count": null,
      "metadata": {
        "id": "UTB_mi7i1Y4b"
      },
      "outputs": [],
      "source": [
        "xgboost_preds = xgboost_clf.predict(x_valid)"
      ]
    },
    {
      "cell_type": "code",
      "execution_count": null,
      "metadata": {
        "id": "eStzmbWb_o7C"
      },
      "outputs": [],
      "source": [
        "print(classification_report(y_valid, xgboost_preds))\n",
        "\n",
        "# Plot confusion matrix\n",
        "fig, ax = plt.subplots(figsize=(8, 5))\n",
        "cmp = ConfusionMatrixDisplay(\n",
        "    confusion_matrix(y_valid, xgboost_preds),\n",
        "    display_labels=[\"functional\", \"non_functional\", \"func_needs_repair\"],\n",
        ")\n",
        "\n",
        "cmp.plot(ax=ax)\n",
        "plt.show();"
      ]
    },
    {
      "cell_type": "code",
      "execution_count": null,
      "metadata": {
        "id": "HsRvWCQg5F03"
      },
      "outputs": [],
      "source": [
        "xgboost_feature_scores = pd.Series(xgboost_clf.feature_importances_, index=x_train.columns).sort_values(ascending=False)\n",
        "\n",
        "# xgboost_feature_scores"
      ]
    },
    {
      "cell_type": "code",
      "execution_count": null,
      "metadata": {
        "id": "hDzzigVK5Nal"
      },
      "outputs": [],
      "source": [
        "# Creating a seaborn bar plot\n",
        "\n",
        "f, ax = plt.subplots(figsize=(30, 24))\n",
        "ax = sns.barplot(x=xgboost_feature_scores, y=xgboost_feature_scores.index)\n",
        "ax.set_title(\"Visualize feature scores of the features\")\n",
        "ax.set_yticklabels(xgboost_feature_scores.index)\n",
        "ax.set_xlabel(\"Feature importance score\")\n",
        "ax.set_ylabel(\"Features\")\n",
        "plt.show()"
      ]
    },
    {
      "cell_type": "code",
      "source": [
        "test=test.drop(['status_group', 'id'], axis=1)"
      ],
      "metadata": {
        "id": "ESIIWVKl5jYD"
      },
      "execution_count": null,
      "outputs": []
    },
    {
      "cell_type": "code",
      "source": [
        "xgboost_preds_test = xgboost_clf.predict(test)"
      ],
      "metadata": {
        "id": "Hd2QGNKj4jqT"
      },
      "execution_count": null,
      "outputs": []
    },
    {
      "cell_type": "code",
      "source": [
        "test_XGBoutput=test\n",
        "test_XGBoutput['status_group'] = xgboost_preds_test"
      ],
      "metadata": {
        "id": "Q2OqYitr4-4q"
      },
      "execution_count": null,
      "outputs": []
    },
    {
      "cell_type": "code",
      "source": [
        "test_XGBoutput['id']=test_id"
      ],
      "metadata": {
        "id": "Xnf3jKdR8cQm"
      },
      "execution_count": null,
      "outputs": []
    },
    {
      "cell_type": "code",
      "source": [
        "test_XGBoutput['status_group'] = test_XGBoutput['status_group'].map({ 0:'functional', 1:'functional needs repair', 2:'non functional'})"
      ],
      "metadata": {
        "id": "sWUKmdjG8vRl"
      },
      "execution_count": null,
      "outputs": []
    },
    {
      "cell_type": "code",
      "source": [
        "from google.colab import drive\n",
        "drive.mount('drive', force_remount=True)\n",
        "test_XGBoutput[[ 'id','status_group']].to_csv('/content/drive/My Drive/Colab Notebooks/XGBoutput.csv', encoding='utf-8', index=False, header=True)"
      ],
      "metadata": {
        "id": "pjn4zyq47Ood"
      },
      "execution_count": null,
      "outputs": []
    },
    {
      "cell_type": "markdown",
      "metadata": {
        "id": "G2YcGXo-IoPi"
      },
      "source": [
        "##4.3- Gradient Boosting\n",
        "Gradient Tree Boosting, Stochastic Gradient Boosting, and GBM are other names for the Gradient Boosting Algorithm. It creates a sequence of weak models ( usually decision trees) and comes up with a final strong learner. Each prediction in gradient boosting aims to outperform the one before it by lowering the errors. Gradient Boosting’s key principle is that it fits a new predictor to the residual errors created by the preceding predictor rather than fitting a prediction to the data at each iteration.\n",
        "\n",
        "https://techfor-today.com/gradient-boosting-algorithm-using-python/\n",
        "\n"
      ]
    },
    {
      "cell_type": "markdown",
      "metadata": {
        "id": "I16GoICQJHJX"
      },
      "source": [
        "###4.3.1- Hyper Parameter Tuning for Gradient Boosting\n",
        "\n",
        "GradientBoostingClassifier(*, loss: str = \"deviance\", learning_rate: float = 0.1, n_estimators: int = 100, subsample: float = 1, criterion: str = \"friedman_mse\", min_samples_split: int = 2, min_samples_leaf: int = 1, min_weight_fraction_leaf: float = 0, max_depth: int = 3, min_impurity_decrease: float = 0, init: Any | None = None, random_state: Any | None = None, max_features: Any | None = None, verbose: int = 0, max_leaf_nodes: Any | None = None, warm_start: bool = False, validation_fraction: float = 0.1, n_iter_no_change: Any | None = None, tol: float = 0.0001, ccp_alpha: float = 0)"
      ]
    },
    {
      "cell_type": "markdown",
      "metadata": {
        "id": "v51bHWuLJYn0"
      },
      "source": [
        "####4.3.1.1- Finding the optimum number of trees in Gradient boosting"
      ]
    },
    {
      "cell_type": "code",
      "execution_count": null,
      "metadata": {
        "id": "UyhCJrdPJW_y"
      },
      "outputs": [],
      "source": [
        "# fuction to create models\n",
        "def build_models():\n",
        "    \n",
        "#     dic of models\n",
        "    GB_models = dict()\n",
        "    \n",
        "    # number of decision stumps\n",
        "    decision_stump= [150, 200, 250, 300]\n",
        "        \n",
        "#    using for loop to iterate though trees\n",
        "    for i in decision_stump:\n",
        "        \n",
        "#         building model with specified trees\n",
        "        GB_models[str(i)] = GradientBoostingClassifier(n_estimators=i)\n",
        "    \n",
        "#     returning the model\n",
        "    return GB_models"
      ]
    },
    {
      "cell_type": "code",
      "execution_count": null,
      "metadata": {
        "id": "6y3HPELnKIJh"
      },
      "outputs": [],
      "source": [
        "# function for the validation of model\n",
        "def evaluate_model(model, Input, Ouput):\n",
        "    \n",
        "    # defining the method of validation\n",
        "    cv = RepeatedStratifiedKFold(n_splits=10, n_repeats=3)\n",
        "    \n",
        "    \n",
        "    # validating the model based on the accurasy score\n",
        "    accuracy = cross_val_score(model, Input, Ouput, scoring='accuracy', cv=cv, n_jobs=-1)\n",
        "    \n",
        "#     returning the accuracy score\n",
        "    return accuracy"
      ]
    },
    {
      "cell_type": "code",
      "execution_count": null,
      "metadata": {
        "id": "2NviX8b4KMqE"
      },
      "outputs": [],
      "source": [
        "# calling the build_models function\n",
        "models = {}\n",
        "models = build_models()\n",
        "# creating list\n",
        "results, names = list(), list()\n",
        "# using for loop to iterate thoug the models\n",
        "for name, model in models.items():\n",
        "    \n",
        "    # calling the validation function\n",
        "    scores = evaluate_model(model, x_train, y_train)\n",
        "    \n",
        "    \n",
        "    # appending the accuray socres in results\n",
        "    results.append(scores)\n",
        "    names.append(name)\n",
        "    \n",
        "    \n",
        "    # printing - Gradient boosting algorithm using Python\n",
        "    print('---->Iterations (%s)---Accuracy( %.5f)' % (name, np.mean(scores)))"
      ]
    },
    {
      "cell_type": "code",
      "execution_count": null,
      "metadata": {
        "id": "OHwyE0IzKk3d"
      },
      "outputs": [],
      "source": [
        "# plotting box plot of the \n",
        "plt.boxplot(results, labels=names,showmeans=True)\n",
        "# showing the plot\n",
        "plt.show()"
      ]
    },
    {
      "cell_type": "markdown",
      "metadata": {
        "id": "rtLfI8onKsuR"
      },
      "source": [
        "####4.3.1.2- Finding the optimum depth of trees in the Gradient boosting algorithm using Python"
      ]
    },
    {
      "cell_type": "code",
      "execution_count": null,
      "metadata": {
        "id": "tIXPba4eKx2o"
      },
      "outputs": [],
      "source": [
        "# building function for the model\n",
        "def build_models():\n",
        "    \n",
        "#     creating dic of models\n",
        "    GB_models = dict()\n",
        "    \n",
        "#     specifying the depth of trees\n",
        "    for i in range(1,7):\n",
        "        \n",
        "#         appending the models\n",
        "        GB_models[str(i)] = GradientBoostingClassifier(max_depth=i)\n",
        "        \n",
        "#   returining the model\n",
        "    return GB_models"
      ]
    },
    {
      "cell_type": "code",
      "execution_count": null,
      "metadata": {
        "id": "P4QhnbJtKywZ"
      },
      "outputs": [],
      "source": [
        "# calling the function\n",
        "models = build_models()\n",
        "# creating lists \n",
        "results, names = list(), list()\n",
        "# iterating through the models\n",
        "for name, model in models.items():\n",
        "    \n",
        "    # calling the evalution function\n",
        "    accuracy = evaluate_model(model, x_train, y_train)\n",
        "    \n",
        "    # appending the results\n",
        "    results.append(accuracy)\n",
        "    names.append(name)\n",
        "    \n",
        "#     printing - Gradient boosting algorithm using Python\n",
        "    print('---->Decision tree depth (%s)---Accuracy( %.5f)' % (name, np.mean(accuracy)))"
      ]
    },
    {
      "cell_type": "code",
      "execution_count": null,
      "metadata": {
        "id": "We-m8gx2K8t6"
      },
      "outputs": [],
      "source": [
        "# plotting box plot of the \n",
        "plt.boxplot(results, labels=names,showmeans=True)\n",
        "# showing the plot\n",
        "plt.show()"
      ]
    },
    {
      "cell_type": "markdown",
      "metadata": {
        "id": "sGwEd_NPLAaw"
      },
      "source": [
        "####4.3.1.3- Finding an optimum Learning rate in Gradient boosting algorithm using Python"
      ]
    },
    {
      "cell_type": "code",
      "execution_count": null,
      "metadata": {
        "id": "tV1y2P_ALFuB"
      },
      "outputs": [],
      "source": [
        "# creating function\n",
        "def build_models():\n",
        "    \n",
        "#     creating dic of models\n",
        "    GB_models = dict()\n",
        "    \n",
        "#     different learning rates\n",
        "    for i in [0.05, 0.1, 0.2, 0.5, 1.0, 1.5]:\n",
        "        \n",
        "#         key value\n",
        "        k = '%.4f' % i\n",
        "    \n",
        "#     appending the models\n",
        "        GB_models[k] = GradientBoostingClassifier(learning_rate=i)\n",
        "    return GB_models"
      ]
    },
    {
      "cell_type": "code",
      "execution_count": null,
      "metadata": {
        "id": "RoTn0TCXLGft"
      },
      "outputs": [],
      "source": [
        "# calling the function\n",
        "models = build_models()\n",
        "# creating the list\n",
        "results, names = list(), list()\n",
        "# for loop to iterate through the models\n",
        "for name, model in models.items():\n",
        "    \n",
        "    \n",
        "    # calling the evaluting function\n",
        "    accuracy = evaluate_model(model, x_train, y_train)\n",
        "    \n",
        "#     storing the accurcy\n",
        "    results.append(accuracy)\n",
        "    names.append(name)\n",
        "    \n",
        "#     printing learning rate of Gradient boosting algorithm using Python\n",
        "    print('---->Learning Rate(%s)---Accuracy( %.5f)' % (name, np.mean(accuracy)))"
      ]
    },
    {
      "cell_type": "code",
      "execution_count": null,
      "metadata": {
        "id": "fGIq1AdULOKp"
      },
      "outputs": [],
      "source": [
        "# plotting box plot of the \n",
        "plt.boxplot(results, labels=names,showmeans=True)\n",
        "# showing the plot\n",
        "plt.show()"
      ]
    },
    {
      "cell_type": "markdown",
      "metadata": {
        "id": "t7UxQcjoLRtJ"
      },
      "source": [
        "####4.3.1.4- Finding an optimum number of features in the Gradient boosting algorithm using Python\n",
        "Each decision tree can have a different amount of attributes that are utilized to suit it. Similar to modifying the sample size, changing the number of features gives more variance to the model, which may enhance performance."
      ]
    },
    {
      "cell_type": "code",
      "execution_count": null,
      "metadata": {
        "id": "EnoMLGs0LY0B"
      },
      "outputs": [],
      "source": [
        "# creating the function \n",
        "def build_models():\n",
        "    \n",
        "#     creating dic of models\n",
        "    GB_models = dict()\n",
        "    \n",
        "    # explore features numbers from 1-4\n",
        "    for i in range(1,5):\n",
        "        \n",
        "#         appending the models\n",
        "        GB_models[str(i)] = GradientBoostingClassifier(max_features=i)\n",
        "    \n",
        "#     returining the models\n",
        "    return GB_models"
      ]
    },
    {
      "cell_type": "code",
      "execution_count": null,
      "metadata": {
        "id": "XbF-hBAMLbwW"
      },
      "outputs": [],
      "source": [
        "# calling the function\n",
        "models = build_models()\n",
        "# creating the list\n",
        "results, names = list(), list()\n",
        "# for loop to iterate through the models\n",
        "for name, model in models.items():\n",
        "    \n",
        "    \n",
        "    # calling the evaluting function\n",
        "    accuracy = evaluate_model(model, x_train, y_train)\n",
        "    \n",
        "#     storing the accurcy\n",
        "    results.append(accuracy)\n",
        "    names.append(name)\n",
        "    \n",
        "#     printing features of Gradient boosting algorithm using Python\n",
        "    print('---->Features(%s)---Accuracy( %.5f)' % (name, np.mean(accuracy)))"
      ]
    },
    {
      "cell_type": "code",
      "execution_count": null,
      "metadata": {
        "id": "5RnxKPV1Ower"
      },
      "outputs": [],
      "source": [
        "# plotting box plot of the \n",
        "plt.boxplot(results, labels=names,showmeans=True)\n",
        "# showing the plot\n",
        "plt.show()"
      ]
    },
    {
      "cell_type": "markdown",
      "metadata": {
        "id": "-tTmmLppLijO"
      },
      "source": [
        "####4.3.1.4- Finding the optimum number of samples in the Gradient boosting algorithm using Python\n",
        "You can change how many samples were used to fit each tree. This indicates that a randomly chosen portion of the training dataset is used to fit each tree. Using fewer samples introduces more variance for each tree, although it can improve the overall performance of the model. Let us now create a function that returns multiple models with different sample values."
      ]
    },
    {
      "cell_type": "code",
      "execution_count": null,
      "metadata": {
        "id": "F1fuPaiyLnjB"
      },
      "outputs": [],
      "source": [
        "# creating the function\n",
        "def build_models():\n",
        "    \n",
        "#     dic of models\n",
        "    GB_models = dict()\n",
        "    \n",
        "#     exploring different sample values\n",
        "    for i in np.arange(0.1, 1.1, 0.1):\n",
        "        \n",
        "#         key value\n",
        "        k = '%.1f' % i\n",
        "    \n",
        "#     appending the model\n",
        "        GB_models[k] = GradientBoostingClassifier(subsample=i)\n",
        "    return GB_models"
      ]
    },
    {
      "cell_type": "code",
      "execution_count": null,
      "metadata": {
        "id": "8wt9OQr0LpKa"
      },
      "outputs": [],
      "source": [
        "# calling the function\n",
        "models = build_models()\n",
        "# creating the list\n",
        "results, names = list(), list()\n",
        "# for loop to iterate through the models\n",
        "for name, model in models.items():\n",
        "    \n",
        "    \n",
        "    # calling the evaluting function\n",
        "    accuracy = evaluate_model(model, x_train, y_train)\n",
        "    \n",
        "#     storing the accurcy\n",
        "    results.append(accuracy)\n",
        "    names.append(name)\n",
        "    \n",
        "#     printing sampes for Gradient boosting algorithm using Python\n",
        "    print('---->Samples(%s)---Accuracy( %.5f)' % (name, np.mean(accuracy)))"
      ]
    },
    {
      "cell_type": "code",
      "execution_count": null,
      "metadata": {
        "id": "SHuiBH95LtqL"
      },
      "outputs": [],
      "source": [
        "# plotting box plot of the \n",
        "plt.boxplot(results, labels=names,showmeans=True)\n",
        "# showing the plot\n",
        "plt.show()"
      ]
    },
    {
      "cell_type": "markdown",
      "metadata": {
        "id": "oFEge95ULxfu"
      },
      "source": [
        "###4.3.2- GridSearchCV for Gradient boosting algorithm using Python"
      ]
    },
    {
      "cell_type": "code",
      "execution_count": null,
      "metadata": {
        "id": "mg4v1nvYL3SX"
      },
      "outputs": [],
      "source": [
        "# defiing the model\n",
        "model = GradientBoostingClassifier()\n",
        "# creating a dict of grids\n",
        "grid = dict()\n",
        "# values for iteration\n",
        "grid['n_estimators'] = [10, 50, 100, 500]\n",
        "# values for learning rate\n",
        "grid['learning_rate'] = [0.0001, 0.001, 0.01, 0.1, 1.0]\n",
        "# values for the sampel\n",
        "grid['subsample'] = [0.5, 0.7, 1.0]\n",
        "# values for teh depth of tree\n",
        "grid['max_depth'] = [3, 4, 5]"
      ]
    },
    {
      "cell_type": "code",
      "execution_count": null,
      "metadata": {
        "id": "3D2D0oZLL6Hg"
      },
      "outputs": [],
      "source": [
        "# defining the cv\n",
        "cv = RepeatedStratifiedKFold(n_splits=10, n_repeats=3)\n",
        "# applying the gridsearchcv method\n",
        "grid_search = GridSearchCV(estimator=model, param_grid=grid, n_jobs=-1, cv=cv, scoring='accuracy')\n",
        "# storing the values\n",
        "grid_result = grid_search.fit(x_train, y_train)\n",
        "# printing the best parameters of Gradient boosting algorithm using Python\n",
        "print(\"Accuracy score: %f using %s\" % (grid_result.best_score_, grid_result.best_params_))"
      ]
    },
    {
      "cell_type": "markdown",
      "metadata": {
        "id": "Ov332DUnPLcg"
      },
      "source": [
        "###4.3.3- Fitting the Optimum Mode"
      ]
    },
    {
      "cell_type": "markdown",
      "metadata": {
        "id": "8LO2gj2bv9x1"
      },
      "source": [
        "##4.4- ADABoostClassifier\n",
        "The training algorithm involves starting with one decision tree, finding those examples in the training dataset that were misclassified, and adding more weight to those examples. Another tree is trained on the same data, although now weighted by the misclassification errors. This process is repeated until a desired number of trees are added.\n",
        "\n",
        "https://machinelearningmastery.com/adaboost-ensemble-in-python/\n",
        "\n",
        "https://www.datacamp.com/tutorial/adaboost-classifier-python#adaboost-classifier\n",
        "\n",
        "https://towardsdatascience.com/the-ultimate-guide-to-adaboost-random-forests-and-xgboost-7f9327061c4f\n",
        "\n",
        "https://vitalflux.com/differences-between-random-forest-vs-adaboost/\n",
        "\n",
        "https://vitalflux.com/adaboost-algorithm-explained-with-python-example/#:~:text=Base%20estimators%20for%20Adaboost%20algorithm,in%20classifier%20with%20high%20variance.\n",
        "\n",
        "https://techfor-today.com/hyperparameter-tuning-of-adaboost/"
      ]
    },
    {
      "cell_type": "markdown",
      "metadata": {
        "id": "nHVQZafOZdj3"
      },
      "source": [
        "###4.4.1- Hyper Parameter Tuning for AdaBoosting - Sequential Approach"
      ]
    },
    {
      "cell_type": "markdown",
      "metadata": {
        "id": "0G5UXBF5ZxyU"
      },
      "source": [
        "####4.4.1.1- The optimum number of trees in Adaboost\n",
        "Create a function that will build various Ada boost models. And for the model, we will specify a different number of decision stumps starting from 50 to 1000."
      ]
    },
    {
      "cell_type": "code",
      "execution_count": null,
      "metadata": {
        "id": "dyK3uE10aDs9"
      },
      "outputs": [],
      "source": [
        "# fuction to create models\n",
        "def build_models():\n",
        "    \n",
        "#     dic of models\n",
        "    Ada_models = dict()\n",
        "    \n",
        "    # number of decision stumps\n",
        "    decision_stump= [10, 50, 100, 500]\n",
        "        \n",
        "#    using for loop to iterate though trees\n",
        "    for i in decision_stump:\n",
        "        \n",
        "#         building model with specified trees\n",
        "        models[str(i)] = AdaBoostClassifier(n_estimators=i, random_state=7)\n",
        "    return models"
      ]
    },
    {
      "cell_type": "markdown",
      "metadata": {
        "id": "NMert-LmaPv0"
      },
      "source": [
        "The next step is to build a function for the validation of the models. In this case, we will use the cross-validation method. Let us build the function which returns the accuracy score of the models."
      ]
    },
    {
      "cell_type": "code",
      "execution_count": null,
      "metadata": {
        "id": "lYleN8l5aRyG"
      },
      "outputs": [],
      "source": [
        "# function for the validation of model\n",
        "def evaluate_model(model, Input, Ouput):\n",
        "    \n",
        "    # defining the method of validation\n",
        "    cv = RepeatedStratifiedKFold(n_splits=10, n_repeats=3)\n",
        "    \n",
        "    \n",
        "    # validating the model based on the accurasy score\n",
        "    accuracy = cross_val_score(model, Input, Ouput, scoring='accuracy', cv=cv, n_jobs=-1, random_state=7)\n",
        "    \n",
        "#      accuracy score- hyperparameter tuning of Adaboost\n",
        "    return accuracy"
      ]
    },
    {
      "cell_type": "markdown",
      "metadata": {
        "id": "b2qd7HuPakbV"
      },
      "source": [
        "Now, we will call the above functions which will create the models and will evaluate them based on the accuracy score."
      ]
    },
    {
      "cell_type": "code",
      "execution_count": null,
      "metadata": {
        "id": "caRR1lqoal0Q"
      },
      "outputs": [],
      "source": [
        "# calling the build_models function\n",
        "models = {}\n",
        "models = build_models()\n",
        "\n",
        "# creating list\n",
        "results, names = list(), list()\n",
        "\n",
        "# using for loop to iterate thoug the models\n",
        "for name, model in models.items():\n",
        "    \n",
        "    # calling the validation function\n",
        "    scores = evaluate_model(model, x_train, y_train)\n",
        "    \n",
        "    \n",
        "    # appending the accuray socres in results\n",
        "    results.append(scores)\n",
        "    names.append(name)\n",
        "    \n",
        "    \n",
        "    # printing results of hyperparameter tuning of Adaboost\n",
        "    print('---->Stump tree (%s)---Accuracy( %.5f)' % (name, np.mean(scores)))"
      ]
    },
    {
      "cell_type": "code",
      "execution_count": null,
      "metadata": {
        "id": "sv3vRoUFdqtS"
      },
      "outputs": [],
      "source": [
        "# plotting box plot of the \n",
        "plt.boxplot(results, labels=names,showmeans=True)\n",
        "# showing the plot\n",
        "plt.show()"
      ]
    },
    {
      "cell_type": "markdown",
      "metadata": {
        "id": "0PrEwDoGdvDG"
      },
      "source": [
        "####4.4.1.2- Tunning the weak learner in Ada boost - max_depth\n",
        "A decision tree with one level is used as a weak learner by default in the Ada boost. We can increase the depth of the stump tree to get the optimum depth tree."
      ]
    },
    {
      "cell_type": "code",
      "execution_count": null,
      "metadata": {
        "id": "x4gcfXmoeAm2"
      },
      "outputs": [],
      "source": [
        "# building function for the model\n",
        "def build_models():\n",
        "    \n",
        "#     creating dic of models\n",
        "    models = dict()\n",
        "    \n",
        "#     specifying the depth of trees\n",
        "    for i in range(1,8):\n",
        "        \n",
        "        # model\n",
        "        base_model = DecisionTreeClassifier(max_depth=i, random_state=7)\n",
        "        \n",
        "        # creating dic of modles\n",
        "        models[str(i)] = AdaBoostClassifier(base_estimator=base_model, random_state=7)\n",
        "        \n",
        "#   returining the model -results of hyperparameter tuning of Adaboost\n",
        "    return models"
      ]
    },
    {
      "cell_type": "markdown",
      "metadata": {
        "id": "8esKfeY7eHEN"
      },
      "source": [
        "In this section, we will not again build the evaluation function, as we have already created in the above section. So, we can use it here as well."
      ]
    },
    {
      "cell_type": "code",
      "execution_count": null,
      "metadata": {
        "id": "2MDdaWf0eLMa"
      },
      "outputs": [],
      "source": [
        "# calling the function\n",
        "models={}\n",
        "models = build_models()\n",
        "# creating lists \n",
        "results, names = list(), list()\n",
        "# iterating through the models\n",
        "for name, model in models.items():\n",
        "    \n",
        "    # calling the evalution function\n",
        "    accuracy = evaluate_model(model, x_train, y_train)\n",
        "    \n",
        "    # appending the results\n",
        "    results.append(accuracy)\n",
        "    names.append(name)\n",
        "    \n",
        "#     printing results of hyperparameter tuning of Adaboost\n",
        "    print('---->Stump tree (%s)---Accuracy( %.5f)' % (name, np.mean(accuracy)))"
      ]
    },
    {
      "cell_type": "code",
      "execution_count": null,
      "metadata": {
        "id": "f4TdFdHkeXQ8"
      },
      "outputs": [],
      "source": [
        "# plotting box plot of the \n",
        "plt.boxplot(results, labels=names,showmeans=True)\n",
        "# showing the plot\n",
        "plt.show()"
      ]
    },
    {
      "cell_type": "markdown",
      "metadata": {
        "id": "WDnm2uOzeZ4t"
      },
      "source": [
        "####4.4.1.3- Tuning learning rate in Ada boost\n",
        "Learning rate is simply the step size of each iteration. The default value of the learning rate in the Ada boost is 1. We will now use the hyperparameter tuning method to find the optimum learning rate for our model."
      ]
    },
    {
      "cell_type": "code",
      "execution_count": null,
      "metadata": {
        "id": "o_JeGBiveswK"
      },
      "outputs": [],
      "source": [
        "# building the models\n",
        "def build_models():\n",
        "    \n",
        "#     creating the model dic\n",
        "    models = dict()\n",
        "    \n",
        "    \n",
        "    # learning rate for various values\n",
        "    for i in np.arange(0.1, 2.1, 0.1):\n",
        "        key = '%.3f' % i\n",
        "        \n",
        "#         models in dic\n",
        "        models[key] = AdaBoostClassifier(learning_rate=i, random_state=7)\n",
        "    \n",
        "#     returning models -results of hyperparameter tuning of Adaboost\n",
        "    return models"
      ]
    },
    {
      "cell_type": "code",
      "execution_count": null,
      "metadata": {
        "id": "Ds0uK71Eeu5p"
      },
      "outputs": [],
      "source": [
        "# calling the function\n",
        "models={}\n",
        "models = build_models()\n",
        "# creating the list\n",
        "results, names = list(), list()\n",
        "# for loop to iterate through the models\n",
        "for name, model in models.items():\n",
        "    \n",
        "    \n",
        "    # calling the evaluting function\n",
        "    accuracy = evaluate_model(model, x_train, y_train)\n",
        "    \n",
        "#     storing the accurcy\n",
        "    results.append(accuracy)\n",
        "    names.append(name)\n",
        "    \n",
        "#     printing results of hyperparameter tuning of Adaboost\n",
        "    print('---->Stump tree (%s)---Accuracy( %.5f)' % (name, np.mean(accuracy)))"
      ]
    },
    {
      "cell_type": "code",
      "execution_count": null,
      "metadata": {
        "id": "zopvAYiGfBB_"
      },
      "outputs": [],
      "source": [
        "# fixing the size\n",
        "plt.figure(figsize=(10, 8))\n",
        "# plotting the values\n",
        "plt.boxplot(results, labels=names, showmeans=True)\n",
        "plt.show()"
      ]
    },
    {
      "cell_type": "markdown",
      "metadata": {
        "id": "80Gl7B_3gNkS"
      },
      "source": [
        "###4.4.2- RandomizedSearchCV for Hyperparameter tuning of AdaBoosting\n",
        "In the second aproach, we will use the RandomizedSearchCV method to find the optimum values for the parameters of the Ada boost algorithm using the same dataset. "
      ]
    },
    {
      "cell_type": "code",
      "execution_count": null,
      "metadata": {
        "id": "utBh-9ShFQuT"
      },
      "outputs": [],
      "source": [
        "# defiing the model\n",
        "dtree = DecisionTreeClassifier(random_state=17)\n",
        "\n",
        "grid_dtree= dict()\n",
        "\n",
        "# values for iteration\n",
        "grid_dtree['criterion'] = ['gini', 'entropy']\n",
        "\n",
        "# values for iteration\n",
        "grid_dtree['max_depth'] = np.arange(1,11)"
      ]
    },
    {
      "cell_type": "code",
      "execution_count": null,
      "metadata": {
        "id": "Q95yfCQsF78h"
      },
      "outputs": [],
      "source": [
        "# defining the cv\n",
        "# cv = RepeatedStratifiedKFold(n_splits=3, n_repeats=1)\n",
        "\n",
        "\n",
        "# applying the gridsearchcv method\n",
        "Rand_search = RandomizedSearchCV(estimator = dtree\n",
        "                                 , param_distributions=grid_dtree\n",
        "                                 , n_iter=10\n",
        "                                 , scoring='accuracy'\n",
        "                                 , n_jobs=-1\n",
        "                                 , cv = None # None, to use the default 5-fold cross validation, integer, to specify the number of folds in a (Stratified)KFold\n",
        "                                 , verbose = 1\n",
        "                                 , random_state=17)\n",
        "\n",
        "# storing the values\n",
        "Rand_result = Rand_search.fit(x_train, y_train)\n",
        "\n",
        "\n",
        "# printing the best parameters - Hyperparameter tuning of XGBoost\n",
        "print(\"Accuracy score: %f using %s\" % (Rand_result.best_score_, Rand_result.best_params_))"
      ]
    },
    {
      "cell_type": "code",
      "execution_count": null,
      "metadata": {
        "id": "1jt-QDF86dM4"
      },
      "outputs": [],
      "source": [
        "# defiing the model\n",
        "dtree = DecisionTreeClassifier(max_depth = 9 , criterion = 'gini', random_state=17)\n",
        "\n",
        "ada_model = AdaBoostClassifier( base_estimator = dtree,\n",
        "                            algorithm='SAMME.R',\n",
        "                            random_state = 17,)\n",
        "\n",
        "\n",
        "# creating a dict of grids\n",
        "grid = dict()\n",
        "\n",
        "# values for iteration\n",
        "grid['n_estimators'] = np.arange(400,900)\n",
        "\n",
        "# values for learning rate\n",
        "grid['learning_rate'] = np.arange(0.8,1.2, 0.05)\n"
      ]
    },
    {
      "cell_type": "code",
      "execution_count": null,
      "metadata": {
        "id": "sbWAyKT577ib"
      },
      "outputs": [],
      "source": [
        "# defining the cv\n",
        "# cv = RepeatedStratifiedKFold(n_splits=3, n_repeats=1)\n",
        "\n",
        "\n",
        "# applying the gridsearchcv method\n",
        "Rand_search = RandomizedSearchCV(estimator = ada_model\n",
        "                                 , param_distributions=grid\n",
        "                                 , n_iter=10\n",
        "                                 , scoring='accuracy'\n",
        "                                 , n_jobs=-1\n",
        "                                 , cv = 2 # None, to use the default 5-fold cross validation, integer, to specify the number of folds in a (Stratified)KFold\n",
        "                                 , verbose = 1\n",
        "                                 , random_state=17)\n",
        "\n",
        "# storing the values\n",
        "Rand_result = Rand_search.fit(x_train, y_train)\n",
        "\n",
        "\n",
        "# printing the best parameters - Hyperparameter tuning of XGBoost\n",
        "print(\"Accuracy score: %f using %s\" % (Rand_result.best_score_, Rand_result.best_params_))"
      ]
    },
    {
      "cell_type": "markdown",
      "metadata": {
        "id": "tDEm8BPBg8hT"
      },
      "source": [
        "###4.4.3- Fitting the Optimum Model"
      ]
    },
    {
      "cell_type": "code",
      "execution_count": null,
      "metadata": {
        "id": "gDklG78UF07I"
      },
      "outputs": [],
      "source": [
        "dtree = DecisionTreeClassifier(criterion = 'gini', max_depth=9, random_state=17)"
      ]
    },
    {
      "cell_type": "code",
      "execution_count": null,
      "metadata": {
        "id": "0o2cOwXRw8gk"
      },
      "outputs": [],
      "source": [
        "AdaBoost_clf = AdaBoostClassifier(base_estimator=dtree,\n",
        "                                  n_estimators= 543,\n",
        "                                  learning_rate=0.9,\n",
        "                                  algorithm='SAMME.R',\n",
        "                                  random_state=7)"
      ]
    },
    {
      "cell_type": "code",
      "execution_count": null,
      "metadata": {
        "id": "qpcXLQ4E47yP"
      },
      "outputs": [],
      "source": [
        "AdaBoost_model = AdaBoost_clf.fit(x_train, y_train)"
      ]
    },
    {
      "cell_type": "code",
      "execution_count": null,
      "metadata": {
        "id": "CKZBe2UnxDM8"
      },
      "outputs": [],
      "source": [
        "cv = RepeatedStratifiedKFold(n_splits=10, n_repeats=3, random_state=7)"
      ]
    },
    {
      "cell_type": "code",
      "execution_count": null,
      "metadata": {
        "id": "uOFBlkYBxJGF"
      },
      "outputs": [],
      "source": [
        "n_scores = cross_val_score(AdaBoost_model, x_train, y_train, scoring='accuracy', cv=cv, n_jobs=-1, error_score='raise')"
      ]
    },
    {
      "cell_type": "code",
      "execution_count": null,
      "metadata": {
        "id": "bZKFCG5OBMXy"
      },
      "outputs": [],
      "source": [
        "print('Accuracy: %.3f (%.3f)' % (np.mean(n_scores), np.std(n_scores)))"
      ]
    },
    {
      "cell_type": "code",
      "execution_count": null,
      "metadata": {
        "id": "xIToMPhj4MM2"
      },
      "outputs": [],
      "source": [
        "AdaBoost_pred = AdaBoost_model.predict(x_valid)"
      ]
    },
    {
      "cell_type": "code",
      "execution_count": null,
      "metadata": {
        "id": "AgVgcqL77d-e"
      },
      "outputs": [],
      "source": [
        "print(classification_report(y_valid, AdaBoost_pred))\n",
        "\n",
        "# Plot confusion matrix\n",
        "fig, ax = plt.subplots(figsize=(8, 5))\n",
        "cmp = ConfusionMatrixDisplay(\n",
        "    confusion_matrix(y_valid, AdaBoost_pred),\n",
        "    display_labels=[\"functional\", \"non_functional\", \"func_needs_repair\"],\n",
        ")\n",
        "\n",
        "cmp.plot(ax=ax)\n",
        "plt.show();"
      ]
    },
    {
      "cell_type": "markdown",
      "metadata": {
        "id": "6agnfjPm7qYq"
      },
      "source": []
    },
    {
      "cell_type": "code",
      "execution_count": null,
      "metadata": {
        "id": "OtFr4fZgIgqI"
      },
      "outputs": [],
      "source": [
        "adaboost_feature_scores = pd.Series(AdaBoost_clf.feature_importances_, index=x_train.columns).sort_values(ascending=False)\n",
        "\n",
        "# adaboost_feature_scores"
      ]
    },
    {
      "cell_type": "code",
      "execution_count": null,
      "metadata": {
        "id": "U5JVYmb0IsJT"
      },
      "outputs": [],
      "source": [
        "# Creating a seaborn bar plot\n",
        "\n",
        "f, ax = plt.subplots(figsize=(30, 24))\n",
        "ax = sns.barplot(x=adaboost_feature_scores, y=adaboost_feature_scores.index)\n",
        "ax.set_title(\"Visualize feature scores of the features\")\n",
        "ax.set_yticklabels(adaboost_feature_scores.index)\n",
        "ax.set_xlabel(\"Feature importance score\")\n",
        "ax.set_ylabel(\"Features\")\n",
        "plt.show()"
      ]
    },
    {
      "cell_type": "markdown",
      "metadata": {
        "id": "HGUo-TlDgysv"
      },
      "source": [
        "##4.1- Logistic regression"
      ]
    },
    {
      "cell_type": "markdown",
      "metadata": {
        "id": "Qj6xbbRDzPEt"
      },
      "source": [
        "####Fit the Logistic regression model and Tune Hyperparameter"
      ]
    },
    {
      "cell_type": "code",
      "execution_count": null,
      "metadata": {
        "id": "OYA1ES03g1co"
      },
      "outputs": [],
      "source": [
        "lr_sgd = SGDClassifier(\n",
        "    loss = 'log',\n",
        "    penalty = 'elasticnet',\n",
        "    n_jobs = -1,\n",
        "    random_state = 42,\n",
        "    class_weight = 'balanced'\n",
        ")\n",
        "\n",
        "lr_sgd.fit(x_train, y_train)"
      ]
    },
    {
      "cell_type": "markdown",
      "metadata": {
        "id": "DIox6DeszU8m"
      },
      "source": [
        "* Hyperparameter Tuning"
      ]
    },
    {
      "cell_type": "code",
      "execution_count": null,
      "metadata": {
        "id": "LJXyxDFNhOgm"
      },
      "outputs": [],
      "source": [
        "params = {\n",
        "    'alpha' : [0.001, 0.01, 0.1, 1.0, 10]\n",
        "}\n",
        "lr_hyperparam = GridSearchCV(lr_sgd, params, scoring='f1', cv=3, n_jobs = -1, verbose = 5, return_train_score = True)\n",
        "lr_hyperparam.fit(x_train, y_train)"
      ]
    },
    {
      "cell_type": "code",
      "execution_count": null,
      "metadata": {
        "id": "qvNW48X_hl-y"
      },
      "outputs": [],
      "source": [
        "lr_hyperparam.best_params_"
      ]
    },
    {
      "cell_type": "code",
      "execution_count": null,
      "metadata": {
        "id": "d2XzQ0LbhrtW"
      },
      "outputs": [],
      "source": [
        "lr_full = SGDClassifier(\n",
        "    alpha = 0.001,\n",
        "    loss = 'log',\n",
        "    penalty = 'elasticnet',\n",
        "    n_jobs = -1,\n",
        "    random_state = 42,\n",
        "    class_weight = 'balanced'\n",
        ")\n",
        "\n",
        "lr_full.fit(x_train, y_train)"
      ]
    },
    {
      "cell_type": "markdown",
      "metadata": {
        "id": "-1NQW0cbzbrI"
      },
      "source": [
        "####Perform Prediction and Display Results for Logistic regression\n",
        "\n",
        "\n"
      ]
    },
    {
      "cell_type": "code",
      "execution_count": null,
      "metadata": {
        "id": "BlCcmgf0vrHK"
      },
      "outputs": [],
      "source": [
        "lr_preds = lr_full.predict(x_valid)"
      ]
    },
    {
      "cell_type": "code",
      "execution_count": null,
      "metadata": {
        "id": "5Pxrb7UssyiD"
      },
      "outputs": [],
      "source": [
        "print(classification_report(y_valid, lr_preds))\n",
        "\n",
        "# Plot confusion matrix\n",
        "fig, ax = plt.subplots(figsize=(8, 5))\n",
        "cmp = ConfusionMatrixDisplay(\n",
        "    confusion_matrix(y_valid, lr_preds),\n",
        "    display_labels=[\"functional\", \"non_functional\", \"func_needs_repair\"],\n",
        ")\n",
        "\n",
        "cmp.plot(ax=ax)\n",
        "plt.show();"
      ]
    },
    {
      "cell_type": "code",
      "execution_count": null,
      "metadata": {
        "id": "QBk-glgbjQ3x"
      },
      "outputs": [],
      "source": [
        "lr_table = PrettyTable()\n",
        "lr_table.field_names = ['Model Name',\n",
        "                  'Accuracy',\n",
        "                  'F1-Score',\n",
        "                  'Precision',\n",
        "                  'Recall',\n",
        "                  # 'Log-loss'\n",
        "                 ]\n",
        "\n",
        "lr_table.add_row([\n",
        "    'Logistic Regression',\n",
        "    accuracy_score(y_true = y_valid, y_pred = lr_preds),\n",
        "    f1_score(y_true = y_valid, y_pred = lr_preds, average='weighted'),\n",
        "    precision_score(y_true = y_valid, y_pred = lr_preds, average='weighted'),\n",
        "    recall_score(y_true = y_valid, y_pred = lr_preds, average='weighted'),\n",
        "    # log_loss(y_true = y_valid, y_pred = lr_preds)\n",
        "])\n",
        "print(lr_table)"
      ]
    },
    {
      "cell_type": "markdown",
      "metadata": {
        "id": "5X7sRw8az7-2"
      },
      "source": [
        "####Feature Importances - Logistic Regression"
      ]
    },
    {
      "cell_type": "code",
      "execution_count": null,
      "metadata": {
        "id": "4URfAiAxz-MW"
      },
      "outputs": [],
      "source": [
        "pretty_importances_plot(\n",
        "    np.abs(lr_full.coef_[0]), \n",
        "    [i for i in range(x_train.shape[1])],\n",
        "    xlabel = 'Importance',\n",
        "    ylabel = 'Feature',\n",
        "    horizontal_label = 'Feature importance in Logistic Regression'\n",
        ")"
      ]
    }
  ],
  "metadata": {
    "accelerator": "GPU",
    "colab": {
      "collapsed_sections": [
        "bcJICZdf39MT",
        "BTNyGa_wlixB",
        "4phP2fz5_5wM",
        "IFU7qONZBd8m",
        "waxJg9oa19rC",
        "v2tltEeU9Nva",
        "3TXwJShexdt3",
        "di5H3aeHuYnZ",
        "0ENLiJFSJSCv",
        "EpjCuiBa6y_1",
        "y-dXNyzwSgkK",
        "98M0osuPyoSP",
        "fO6vurxaSK9x",
        "VRhRsf12KWKz",
        "KBkfaDGyO99Q",
        "VwSUKFSBQoGx",
        "fWBBxJaZ7W6A",
        "sQn1_Z_AT80C",
        "6TJLCGIRhdvw",
        "Dvh1_pfJmnHQ",
        "NEILHXIzn-Ki",
        "Vw3rnxRjoMc9",
        "-hZ0tGJNo310",
        "nzL2wLzupIdV",
        "1T1_tIFYpa1b",
        "Kf5dH8oTprub",
        "G2YcGXo-IoPi",
        "sGwEd_NPLAaw",
        "-tTmmLppLijO",
        "oFEge95ULxfu",
        "8LO2gj2bv9x1",
        "nHVQZafOZdj3",
        "0G5UXBF5ZxyU",
        "0PrEwDoGdvDG",
        "80Gl7B_3gNkS",
        "tDEm8BPBg8hT",
        "HGUo-TlDgysv"
      ],
      "provenance": [],
      "authorship_tag": "ABX9TyPJQUIfbdC0YkOPieMNew1w",
      "include_colab_link": true
    },
    "gpuClass": "standard",
    "kernelspec": {
      "display_name": "Python 3",
      "name": "python3"
    },
    "language_info": {
      "name": "python"
    }
  },
  "nbformat": 4,
  "nbformat_minor": 0
}